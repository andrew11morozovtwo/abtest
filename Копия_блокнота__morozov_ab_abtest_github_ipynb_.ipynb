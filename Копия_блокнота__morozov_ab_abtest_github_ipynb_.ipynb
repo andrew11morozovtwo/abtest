{
  "cells": [
    {
      "cell_type": "markdown",
      "metadata": {
        "id": "u7-ydwaqSLUY"
      },
      "source": [
        "# Учебный проект по А/B-тестированию\n",
        "\n",
        "***Проведение оценки результатов A/B-теста***\n",
        "\n",
        "Задача проекта:\n",
        "\n",
        "- Оценить корректность проведения теста;\n",
        "- Проанализировать результаты теста.\n",
        "\n",
        "Исходные данные:\n",
        "\n",
        "A/B-тест был выполнен на основании технического задания:\n",
        "\n",
        "- Название теста: recommender_system_test;\n",
        "- Группы: А (контрольная), B (новая платёжная воронка);\n",
        "- Дата запуска: 2020-12-07;\n",
        "- Дата остановки набора новых пользователей: 2020-12-21;\n",
        "- Дата остановки: 2021-01-04;\n",
        "- Аудитория: 15% новых пользователей из региона EU;\n",
        "- Назначение теста: тестирование изменений, связанных с внедрением улучшенной рекомендательной системы;\n",
        "- Ожидаемое количество участников теста: 6000.\n",
        "- Ожидаемый эффект: за 14 дней с момента регистрации в системе пользователи покажут улучшение каждой метрики не менее, чем на 10%:\n",
        "- конверсии в просмотр карточек товаров —\n",
        "    событие product_page\n",
        "    просмотры корзины — product_cart\n",
        "    покупки — purchase.\n",
        "    \n",
        "    \n",
        "Целью выполнения данной учебной работы является ***исследование предоставленных данных***  и ***анализ результатов*** теста на основании анализа этих данных.     "
      ]
    },
    {
      "cell_type": "markdown",
      "metadata": {
        "id": "D6IgWIg3SLUZ"
      },
      "source": [
        "Исходные файлы предоставлены Яндекс.Практикум и находятся по адресам:\n",
        "\n",
        "https://code.s3.yandex.net/datasets/ab_project_marketing_events.csv\n",
        "\n",
        "https://code.s3.yandex.net/datasets/final_ab_new_users.csv\n",
        "\n",
        "https://code.s3.yandex.net/datasets/final_ab_events.csv\n",
        "\n",
        "https://code.s3.yandex.net/datasets/final_ab_participants.csv\n"
      ]
    },
    {
      "cell_type": "markdown",
      "metadata": {
        "id": "b8lAzFiJSLUa"
      },
      "source": [
        "## Загрузка библиотек и данных"
      ]
    },
    {
      "cell_type": "code",
      "execution_count": null,
      "metadata": {
        "id": "3G-W-zdxSLUa"
      },
      "outputs": [],
      "source": [
        "import pandas as pd\n",
        "import numpy as np\n",
        "import seaborn as sns\n",
        "import matplotlib.pyplot as plt\n",
        "import datetime as dt\n",
        "import math as mth\n",
        "import plotly.express as px\n",
        "from datetime import datetime, timedelta\n",
        "import datetime\n",
        "import math\n",
        "import scipy.stats as stats"
      ]
    },
    {
      "cell_type": "code",
      "execution_count": null,
      "metadata": {
        "id": "9YOyQ0QUSLUc"
      },
      "outputs": [],
      "source": [
        "try:\n",
        "    ab_project_marketing_events = pd.read_csv('https://code.s3.yandex.net/datasets/ab_project_marketing_events.csv')\n",
        "    final_ab_new_users = pd.read_csv('https://code.s3.yandex.net/datasets/final_ab_new_users.csv')\n",
        "    final_ab_events = pd.read_csv('https://code.s3.yandex.net/datasets/final_ab_events.csv')\n",
        "    final_ab_participants = pd.read_csv('https://code.s3.yandex.net/datasets/final_ab_participants.csv')\n",
        "except:\n",
        "    ab_project_marketing_events = pd.read_csv('ab_project_marketing_events.csv')\n",
        "    final_ab_new_users = pd.read_csv('final_ab_new_users.csv')\n",
        "    final_ab_events = pd.read_csv('final_ab_events.csv')\n",
        "    final_ab_participants = pd.read_csv('final_ab_participants.csv')"
      ]
    },
    {
      "cell_type": "markdown",
      "metadata": {
        "id": "b82_2nIgSLUe"
      },
      "source": [
        "## Подготовка данных"
      ]
    },
    {
      "cell_type": "code",
      "execution_count": null,
      "metadata": {
        "id": "v4Ux05rYSLUe",
        "outputId": "b0d19dc9-7a0b-4cbc-d816-76c49eea33eb",
        "colab": {
          "base_uri": "https://localhost:8080/",
          "height": 488
        }
      },
      "outputs": [
        {
          "output_type": "execute_result",
          "data": {
            "text/plain": [
              "                                name                   regions    start_dt  \\\n",
              "0           Christmas&New Year Promo             EU, N.America  2020-12-25   \n",
              "1       St. Valentine's Day Giveaway  EU, CIS, APAC, N.America  2020-02-14   \n",
              "2             St. Patric's Day Promo             EU, N.America  2020-03-17   \n",
              "3                       Easter Promo  EU, CIS, APAC, N.America  2020-04-12   \n",
              "4                  4th of July Promo                 N.America  2020-07-04   \n",
              "5          Black Friday Ads Campaign  EU, CIS, APAC, N.America  2020-11-26   \n",
              "6             Chinese New Year Promo                      APAC  2020-01-25   \n",
              "7   Labor day (May 1st) Ads Campaign             EU, CIS, APAC  2020-05-01   \n",
              "8    International Women's Day Promo             EU, CIS, APAC  2020-03-08   \n",
              "9    Victory Day CIS (May 9th) Event                       CIS  2020-05-09   \n",
              "10         CIS New Year Gift Lottery                       CIS  2020-12-30   \n",
              "11     Dragon Boat Festival Giveaway                      APAC  2020-06-25   \n",
              "12           Single's Day Gift Promo                      APAC  2020-11-11   \n",
              "13             Chinese Moon Festival                      APAC  2020-10-01   \n",
              "\n",
              "     finish_dt  \n",
              "0   2021-01-03  \n",
              "1   2020-02-16  \n",
              "2   2020-03-19  \n",
              "3   2020-04-19  \n",
              "4   2020-07-11  \n",
              "5   2020-12-01  \n",
              "6   2020-02-07  \n",
              "7   2020-05-03  \n",
              "8   2020-03-10  \n",
              "9   2020-05-11  \n",
              "10  2021-01-07  \n",
              "11  2020-07-01  \n",
              "12  2020-11-12  \n",
              "13  2020-10-07  "
            ],
            "text/html": [
              "\n",
              "  <div id=\"df-8b2d1bee-f51d-451a-82f5-b97c509c58b3\">\n",
              "    <div class=\"colab-df-container\">\n",
              "      <div>\n",
              "<style scoped>\n",
              "    .dataframe tbody tr th:only-of-type {\n",
              "        vertical-align: middle;\n",
              "    }\n",
              "\n",
              "    .dataframe tbody tr th {\n",
              "        vertical-align: top;\n",
              "    }\n",
              "\n",
              "    .dataframe thead th {\n",
              "        text-align: right;\n",
              "    }\n",
              "</style>\n",
              "<table border=\"1\" class=\"dataframe\">\n",
              "  <thead>\n",
              "    <tr style=\"text-align: right;\">\n",
              "      <th></th>\n",
              "      <th>name</th>\n",
              "      <th>regions</th>\n",
              "      <th>start_dt</th>\n",
              "      <th>finish_dt</th>\n",
              "    </tr>\n",
              "  </thead>\n",
              "  <tbody>\n",
              "    <tr>\n",
              "      <th>0</th>\n",
              "      <td>Christmas&amp;New Year Promo</td>\n",
              "      <td>EU, N.America</td>\n",
              "      <td>2020-12-25</td>\n",
              "      <td>2021-01-03</td>\n",
              "    </tr>\n",
              "    <tr>\n",
              "      <th>1</th>\n",
              "      <td>St. Valentine's Day Giveaway</td>\n",
              "      <td>EU, CIS, APAC, N.America</td>\n",
              "      <td>2020-02-14</td>\n",
              "      <td>2020-02-16</td>\n",
              "    </tr>\n",
              "    <tr>\n",
              "      <th>2</th>\n",
              "      <td>St. Patric's Day Promo</td>\n",
              "      <td>EU, N.America</td>\n",
              "      <td>2020-03-17</td>\n",
              "      <td>2020-03-19</td>\n",
              "    </tr>\n",
              "    <tr>\n",
              "      <th>3</th>\n",
              "      <td>Easter Promo</td>\n",
              "      <td>EU, CIS, APAC, N.America</td>\n",
              "      <td>2020-04-12</td>\n",
              "      <td>2020-04-19</td>\n",
              "    </tr>\n",
              "    <tr>\n",
              "      <th>4</th>\n",
              "      <td>4th of July Promo</td>\n",
              "      <td>N.America</td>\n",
              "      <td>2020-07-04</td>\n",
              "      <td>2020-07-11</td>\n",
              "    </tr>\n",
              "    <tr>\n",
              "      <th>5</th>\n",
              "      <td>Black Friday Ads Campaign</td>\n",
              "      <td>EU, CIS, APAC, N.America</td>\n",
              "      <td>2020-11-26</td>\n",
              "      <td>2020-12-01</td>\n",
              "    </tr>\n",
              "    <tr>\n",
              "      <th>6</th>\n",
              "      <td>Chinese New Year Promo</td>\n",
              "      <td>APAC</td>\n",
              "      <td>2020-01-25</td>\n",
              "      <td>2020-02-07</td>\n",
              "    </tr>\n",
              "    <tr>\n",
              "      <th>7</th>\n",
              "      <td>Labor day (May 1st) Ads Campaign</td>\n",
              "      <td>EU, CIS, APAC</td>\n",
              "      <td>2020-05-01</td>\n",
              "      <td>2020-05-03</td>\n",
              "    </tr>\n",
              "    <tr>\n",
              "      <th>8</th>\n",
              "      <td>International Women's Day Promo</td>\n",
              "      <td>EU, CIS, APAC</td>\n",
              "      <td>2020-03-08</td>\n",
              "      <td>2020-03-10</td>\n",
              "    </tr>\n",
              "    <tr>\n",
              "      <th>9</th>\n",
              "      <td>Victory Day CIS (May 9th) Event</td>\n",
              "      <td>CIS</td>\n",
              "      <td>2020-05-09</td>\n",
              "      <td>2020-05-11</td>\n",
              "    </tr>\n",
              "    <tr>\n",
              "      <th>10</th>\n",
              "      <td>CIS New Year Gift Lottery</td>\n",
              "      <td>CIS</td>\n",
              "      <td>2020-12-30</td>\n",
              "      <td>2021-01-07</td>\n",
              "    </tr>\n",
              "    <tr>\n",
              "      <th>11</th>\n",
              "      <td>Dragon Boat Festival Giveaway</td>\n",
              "      <td>APAC</td>\n",
              "      <td>2020-06-25</td>\n",
              "      <td>2020-07-01</td>\n",
              "    </tr>\n",
              "    <tr>\n",
              "      <th>12</th>\n",
              "      <td>Single's Day Gift Promo</td>\n",
              "      <td>APAC</td>\n",
              "      <td>2020-11-11</td>\n",
              "      <td>2020-11-12</td>\n",
              "    </tr>\n",
              "    <tr>\n",
              "      <th>13</th>\n",
              "      <td>Chinese Moon Festival</td>\n",
              "      <td>APAC</td>\n",
              "      <td>2020-10-01</td>\n",
              "      <td>2020-10-07</td>\n",
              "    </tr>\n",
              "  </tbody>\n",
              "</table>\n",
              "</div>\n",
              "      <button class=\"colab-df-convert\" onclick=\"convertToInteractive('df-8b2d1bee-f51d-451a-82f5-b97c509c58b3')\"\n",
              "              title=\"Convert this dataframe to an interactive table.\"\n",
              "              style=\"display:none;\">\n",
              "        \n",
              "  <svg xmlns=\"http://www.w3.org/2000/svg\" height=\"24px\"viewBox=\"0 0 24 24\"\n",
              "       width=\"24px\">\n",
              "    <path d=\"M0 0h24v24H0V0z\" fill=\"none\"/>\n",
              "    <path d=\"M18.56 5.44l.94 2.06.94-2.06 2.06-.94-2.06-.94-.94-2.06-.94 2.06-2.06.94zm-11 1L8.5 8.5l.94-2.06 2.06-.94-2.06-.94L8.5 2.5l-.94 2.06-2.06.94zm10 10l.94 2.06.94-2.06 2.06-.94-2.06-.94-.94-2.06-.94 2.06-2.06.94z\"/><path d=\"M17.41 7.96l-1.37-1.37c-.4-.4-.92-.59-1.43-.59-.52 0-1.04.2-1.43.59L10.3 9.45l-7.72 7.72c-.78.78-.78 2.05 0 2.83L4 21.41c.39.39.9.59 1.41.59.51 0 1.02-.2 1.41-.59l7.78-7.78 2.81-2.81c.8-.78.8-2.07 0-2.86zM5.41 20L4 18.59l7.72-7.72 1.47 1.35L5.41 20z\"/>\n",
              "  </svg>\n",
              "      </button>\n",
              "      \n",
              "  <style>\n",
              "    .colab-df-container {\n",
              "      display:flex;\n",
              "      flex-wrap:wrap;\n",
              "      gap: 12px;\n",
              "    }\n",
              "\n",
              "    .colab-df-convert {\n",
              "      background-color: #E8F0FE;\n",
              "      border: none;\n",
              "      border-radius: 50%;\n",
              "      cursor: pointer;\n",
              "      display: none;\n",
              "      fill: #1967D2;\n",
              "      height: 32px;\n",
              "      padding: 0 0 0 0;\n",
              "      width: 32px;\n",
              "    }\n",
              "\n",
              "    .colab-df-convert:hover {\n",
              "      background-color: #E2EBFA;\n",
              "      box-shadow: 0px 1px 2px rgba(60, 64, 67, 0.3), 0px 1px 3px 1px rgba(60, 64, 67, 0.15);\n",
              "      fill: #174EA6;\n",
              "    }\n",
              "\n",
              "    [theme=dark] .colab-df-convert {\n",
              "      background-color: #3B4455;\n",
              "      fill: #D2E3FC;\n",
              "    }\n",
              "\n",
              "    [theme=dark] .colab-df-convert:hover {\n",
              "      background-color: #434B5C;\n",
              "      box-shadow: 0px 1px 3px 1px rgba(0, 0, 0, 0.15);\n",
              "      filter: drop-shadow(0px 1px 2px rgba(0, 0, 0, 0.3));\n",
              "      fill: #FFFFFF;\n",
              "    }\n",
              "  </style>\n",
              "\n",
              "      <script>\n",
              "        const buttonEl =\n",
              "          document.querySelector('#df-8b2d1bee-f51d-451a-82f5-b97c509c58b3 button.colab-df-convert');\n",
              "        buttonEl.style.display =\n",
              "          google.colab.kernel.accessAllowed ? 'block' : 'none';\n",
              "\n",
              "        async function convertToInteractive(key) {\n",
              "          const element = document.querySelector('#df-8b2d1bee-f51d-451a-82f5-b97c509c58b3');\n",
              "          const dataTable =\n",
              "            await google.colab.kernel.invokeFunction('convertToInteractive',\n",
              "                                                     [key], {});\n",
              "          if (!dataTable) return;\n",
              "\n",
              "          const docLinkHtml = 'Like what you see? Visit the ' +\n",
              "            '<a target=\"_blank\" href=https://colab.research.google.com/notebooks/data_table.ipynb>data table notebook</a>'\n",
              "            + ' to learn more about interactive tables.';\n",
              "          element.innerHTML = '';\n",
              "          dataTable['output_type'] = 'display_data';\n",
              "          await google.colab.output.renderOutput(dataTable, element);\n",
              "          const docLink = document.createElement('div');\n",
              "          docLink.innerHTML = docLinkHtml;\n",
              "          element.appendChild(docLink);\n",
              "        }\n",
              "      </script>\n",
              "    </div>\n",
              "  </div>\n",
              "  "
            ]
          },
          "metadata": {},
          "execution_count": 3
        }
      ],
      "source": [
        "ab_project_marketing_events.head(100)"
      ]
    },
    {
      "cell_type": "code",
      "execution_count": null,
      "metadata": {
        "id": "ocmvfTVASLUf",
        "outputId": "139c6241-2f09-44bd-a4d9-56817172f203",
        "colab": {
          "base_uri": "https://localhost:8080/",
          "height": 206
        }
      },
      "outputs": [
        {
          "output_type": "execute_result",
          "data": {
            "text/plain": [
              "            user_id  first_date     region   device\n",
              "0  D72A72121175D8BE  2020-12-07         EU       PC\n",
              "1  F1C668619DFE6E65  2020-12-07  N.America  Android\n",
              "2  2E1BF1D4C37EA01F  2020-12-07         EU       PC\n",
              "3  50734A22C0C63768  2020-12-07         EU   iPhone\n",
              "4  E1BDDCE0DAFA2679  2020-12-07  N.America   iPhone"
            ],
            "text/html": [
              "\n",
              "  <div id=\"df-16556a26-5e4e-4770-9071-aace37b189fa\">\n",
              "    <div class=\"colab-df-container\">\n",
              "      <div>\n",
              "<style scoped>\n",
              "    .dataframe tbody tr th:only-of-type {\n",
              "        vertical-align: middle;\n",
              "    }\n",
              "\n",
              "    .dataframe tbody tr th {\n",
              "        vertical-align: top;\n",
              "    }\n",
              "\n",
              "    .dataframe thead th {\n",
              "        text-align: right;\n",
              "    }\n",
              "</style>\n",
              "<table border=\"1\" class=\"dataframe\">\n",
              "  <thead>\n",
              "    <tr style=\"text-align: right;\">\n",
              "      <th></th>\n",
              "      <th>user_id</th>\n",
              "      <th>first_date</th>\n",
              "      <th>region</th>\n",
              "      <th>device</th>\n",
              "    </tr>\n",
              "  </thead>\n",
              "  <tbody>\n",
              "    <tr>\n",
              "      <th>0</th>\n",
              "      <td>D72A72121175D8BE</td>\n",
              "      <td>2020-12-07</td>\n",
              "      <td>EU</td>\n",
              "      <td>PC</td>\n",
              "    </tr>\n",
              "    <tr>\n",
              "      <th>1</th>\n",
              "      <td>F1C668619DFE6E65</td>\n",
              "      <td>2020-12-07</td>\n",
              "      <td>N.America</td>\n",
              "      <td>Android</td>\n",
              "    </tr>\n",
              "    <tr>\n",
              "      <th>2</th>\n",
              "      <td>2E1BF1D4C37EA01F</td>\n",
              "      <td>2020-12-07</td>\n",
              "      <td>EU</td>\n",
              "      <td>PC</td>\n",
              "    </tr>\n",
              "    <tr>\n",
              "      <th>3</th>\n",
              "      <td>50734A22C0C63768</td>\n",
              "      <td>2020-12-07</td>\n",
              "      <td>EU</td>\n",
              "      <td>iPhone</td>\n",
              "    </tr>\n",
              "    <tr>\n",
              "      <th>4</th>\n",
              "      <td>E1BDDCE0DAFA2679</td>\n",
              "      <td>2020-12-07</td>\n",
              "      <td>N.America</td>\n",
              "      <td>iPhone</td>\n",
              "    </tr>\n",
              "  </tbody>\n",
              "</table>\n",
              "</div>\n",
              "      <button class=\"colab-df-convert\" onclick=\"convertToInteractive('df-16556a26-5e4e-4770-9071-aace37b189fa')\"\n",
              "              title=\"Convert this dataframe to an interactive table.\"\n",
              "              style=\"display:none;\">\n",
              "        \n",
              "  <svg xmlns=\"http://www.w3.org/2000/svg\" height=\"24px\"viewBox=\"0 0 24 24\"\n",
              "       width=\"24px\">\n",
              "    <path d=\"M0 0h24v24H0V0z\" fill=\"none\"/>\n",
              "    <path d=\"M18.56 5.44l.94 2.06.94-2.06 2.06-.94-2.06-.94-.94-2.06-.94 2.06-2.06.94zm-11 1L8.5 8.5l.94-2.06 2.06-.94-2.06-.94L8.5 2.5l-.94 2.06-2.06.94zm10 10l.94 2.06.94-2.06 2.06-.94-2.06-.94-.94-2.06-.94 2.06-2.06.94z\"/><path d=\"M17.41 7.96l-1.37-1.37c-.4-.4-.92-.59-1.43-.59-.52 0-1.04.2-1.43.59L10.3 9.45l-7.72 7.72c-.78.78-.78 2.05 0 2.83L4 21.41c.39.39.9.59 1.41.59.51 0 1.02-.2 1.41-.59l7.78-7.78 2.81-2.81c.8-.78.8-2.07 0-2.86zM5.41 20L4 18.59l7.72-7.72 1.47 1.35L5.41 20z\"/>\n",
              "  </svg>\n",
              "      </button>\n",
              "      \n",
              "  <style>\n",
              "    .colab-df-container {\n",
              "      display:flex;\n",
              "      flex-wrap:wrap;\n",
              "      gap: 12px;\n",
              "    }\n",
              "\n",
              "    .colab-df-convert {\n",
              "      background-color: #E8F0FE;\n",
              "      border: none;\n",
              "      border-radius: 50%;\n",
              "      cursor: pointer;\n",
              "      display: none;\n",
              "      fill: #1967D2;\n",
              "      height: 32px;\n",
              "      padding: 0 0 0 0;\n",
              "      width: 32px;\n",
              "    }\n",
              "\n",
              "    .colab-df-convert:hover {\n",
              "      background-color: #E2EBFA;\n",
              "      box-shadow: 0px 1px 2px rgba(60, 64, 67, 0.3), 0px 1px 3px 1px rgba(60, 64, 67, 0.15);\n",
              "      fill: #174EA6;\n",
              "    }\n",
              "\n",
              "    [theme=dark] .colab-df-convert {\n",
              "      background-color: #3B4455;\n",
              "      fill: #D2E3FC;\n",
              "    }\n",
              "\n",
              "    [theme=dark] .colab-df-convert:hover {\n",
              "      background-color: #434B5C;\n",
              "      box-shadow: 0px 1px 3px 1px rgba(0, 0, 0, 0.15);\n",
              "      filter: drop-shadow(0px 1px 2px rgba(0, 0, 0, 0.3));\n",
              "      fill: #FFFFFF;\n",
              "    }\n",
              "  </style>\n",
              "\n",
              "      <script>\n",
              "        const buttonEl =\n",
              "          document.querySelector('#df-16556a26-5e4e-4770-9071-aace37b189fa button.colab-df-convert');\n",
              "        buttonEl.style.display =\n",
              "          google.colab.kernel.accessAllowed ? 'block' : 'none';\n",
              "\n",
              "        async function convertToInteractive(key) {\n",
              "          const element = document.querySelector('#df-16556a26-5e4e-4770-9071-aace37b189fa');\n",
              "          const dataTable =\n",
              "            await google.colab.kernel.invokeFunction('convertToInteractive',\n",
              "                                                     [key], {});\n",
              "          if (!dataTable) return;\n",
              "\n",
              "          const docLinkHtml = 'Like what you see? Visit the ' +\n",
              "            '<a target=\"_blank\" href=https://colab.research.google.com/notebooks/data_table.ipynb>data table notebook</a>'\n",
              "            + ' to learn more about interactive tables.';\n",
              "          element.innerHTML = '';\n",
              "          dataTable['output_type'] = 'display_data';\n",
              "          await google.colab.output.renderOutput(dataTable, element);\n",
              "          const docLink = document.createElement('div');\n",
              "          docLink.innerHTML = docLinkHtml;\n",
              "          element.appendChild(docLink);\n",
              "        }\n",
              "      </script>\n",
              "    </div>\n",
              "  </div>\n",
              "  "
            ]
          },
          "metadata": {},
          "execution_count": 4
        }
      ],
      "source": [
        "final_ab_new_users.head()"
      ]
    },
    {
      "cell_type": "code",
      "execution_count": null,
      "metadata": {
        "id": "S_GUBRTgSLUg",
        "outputId": "62cad2c8-9284-4a84-fccf-a2fd313113bc",
        "colab": {
          "base_uri": "https://localhost:8080/",
          "height": 206
        }
      },
      "outputs": [
        {
          "output_type": "execute_result",
          "data": {
            "text/plain": [
              "            user_id             event_dt event_name  details\n",
              "0  E1BDDCE0DAFA2679  2020-12-07 20:22:03   purchase    99.99\n",
              "1  7B6452F081F49504  2020-12-07 09:22:53   purchase     9.99\n",
              "2  9CD9F34546DF254C  2020-12-07 12:59:29   purchase     4.99\n",
              "3  96F27A054B191457  2020-12-07 04:02:40   purchase     4.99\n",
              "4  1FD7660FDF94CA1F  2020-12-07 10:15:09   purchase     4.99"
            ],
            "text/html": [
              "\n",
              "  <div id=\"df-5e91a794-1bb1-4812-ab74-328b6add6fc4\">\n",
              "    <div class=\"colab-df-container\">\n",
              "      <div>\n",
              "<style scoped>\n",
              "    .dataframe tbody tr th:only-of-type {\n",
              "        vertical-align: middle;\n",
              "    }\n",
              "\n",
              "    .dataframe tbody tr th {\n",
              "        vertical-align: top;\n",
              "    }\n",
              "\n",
              "    .dataframe thead th {\n",
              "        text-align: right;\n",
              "    }\n",
              "</style>\n",
              "<table border=\"1\" class=\"dataframe\">\n",
              "  <thead>\n",
              "    <tr style=\"text-align: right;\">\n",
              "      <th></th>\n",
              "      <th>user_id</th>\n",
              "      <th>event_dt</th>\n",
              "      <th>event_name</th>\n",
              "      <th>details</th>\n",
              "    </tr>\n",
              "  </thead>\n",
              "  <tbody>\n",
              "    <tr>\n",
              "      <th>0</th>\n",
              "      <td>E1BDDCE0DAFA2679</td>\n",
              "      <td>2020-12-07 20:22:03</td>\n",
              "      <td>purchase</td>\n",
              "      <td>99.99</td>\n",
              "    </tr>\n",
              "    <tr>\n",
              "      <th>1</th>\n",
              "      <td>7B6452F081F49504</td>\n",
              "      <td>2020-12-07 09:22:53</td>\n",
              "      <td>purchase</td>\n",
              "      <td>9.99</td>\n",
              "    </tr>\n",
              "    <tr>\n",
              "      <th>2</th>\n",
              "      <td>9CD9F34546DF254C</td>\n",
              "      <td>2020-12-07 12:59:29</td>\n",
              "      <td>purchase</td>\n",
              "      <td>4.99</td>\n",
              "    </tr>\n",
              "    <tr>\n",
              "      <th>3</th>\n",
              "      <td>96F27A054B191457</td>\n",
              "      <td>2020-12-07 04:02:40</td>\n",
              "      <td>purchase</td>\n",
              "      <td>4.99</td>\n",
              "    </tr>\n",
              "    <tr>\n",
              "      <th>4</th>\n",
              "      <td>1FD7660FDF94CA1F</td>\n",
              "      <td>2020-12-07 10:15:09</td>\n",
              "      <td>purchase</td>\n",
              "      <td>4.99</td>\n",
              "    </tr>\n",
              "  </tbody>\n",
              "</table>\n",
              "</div>\n",
              "      <button class=\"colab-df-convert\" onclick=\"convertToInteractive('df-5e91a794-1bb1-4812-ab74-328b6add6fc4')\"\n",
              "              title=\"Convert this dataframe to an interactive table.\"\n",
              "              style=\"display:none;\">\n",
              "        \n",
              "  <svg xmlns=\"http://www.w3.org/2000/svg\" height=\"24px\"viewBox=\"0 0 24 24\"\n",
              "       width=\"24px\">\n",
              "    <path d=\"M0 0h24v24H0V0z\" fill=\"none\"/>\n",
              "    <path d=\"M18.56 5.44l.94 2.06.94-2.06 2.06-.94-2.06-.94-.94-2.06-.94 2.06-2.06.94zm-11 1L8.5 8.5l.94-2.06 2.06-.94-2.06-.94L8.5 2.5l-.94 2.06-2.06.94zm10 10l.94 2.06.94-2.06 2.06-.94-2.06-.94-.94-2.06-.94 2.06-2.06.94z\"/><path d=\"M17.41 7.96l-1.37-1.37c-.4-.4-.92-.59-1.43-.59-.52 0-1.04.2-1.43.59L10.3 9.45l-7.72 7.72c-.78.78-.78 2.05 0 2.83L4 21.41c.39.39.9.59 1.41.59.51 0 1.02-.2 1.41-.59l7.78-7.78 2.81-2.81c.8-.78.8-2.07 0-2.86zM5.41 20L4 18.59l7.72-7.72 1.47 1.35L5.41 20z\"/>\n",
              "  </svg>\n",
              "      </button>\n",
              "      \n",
              "  <style>\n",
              "    .colab-df-container {\n",
              "      display:flex;\n",
              "      flex-wrap:wrap;\n",
              "      gap: 12px;\n",
              "    }\n",
              "\n",
              "    .colab-df-convert {\n",
              "      background-color: #E8F0FE;\n",
              "      border: none;\n",
              "      border-radius: 50%;\n",
              "      cursor: pointer;\n",
              "      display: none;\n",
              "      fill: #1967D2;\n",
              "      height: 32px;\n",
              "      padding: 0 0 0 0;\n",
              "      width: 32px;\n",
              "    }\n",
              "\n",
              "    .colab-df-convert:hover {\n",
              "      background-color: #E2EBFA;\n",
              "      box-shadow: 0px 1px 2px rgba(60, 64, 67, 0.3), 0px 1px 3px 1px rgba(60, 64, 67, 0.15);\n",
              "      fill: #174EA6;\n",
              "    }\n",
              "\n",
              "    [theme=dark] .colab-df-convert {\n",
              "      background-color: #3B4455;\n",
              "      fill: #D2E3FC;\n",
              "    }\n",
              "\n",
              "    [theme=dark] .colab-df-convert:hover {\n",
              "      background-color: #434B5C;\n",
              "      box-shadow: 0px 1px 3px 1px rgba(0, 0, 0, 0.15);\n",
              "      filter: drop-shadow(0px 1px 2px rgba(0, 0, 0, 0.3));\n",
              "      fill: #FFFFFF;\n",
              "    }\n",
              "  </style>\n",
              "\n",
              "      <script>\n",
              "        const buttonEl =\n",
              "          document.querySelector('#df-5e91a794-1bb1-4812-ab74-328b6add6fc4 button.colab-df-convert');\n",
              "        buttonEl.style.display =\n",
              "          google.colab.kernel.accessAllowed ? 'block' : 'none';\n",
              "\n",
              "        async function convertToInteractive(key) {\n",
              "          const element = document.querySelector('#df-5e91a794-1bb1-4812-ab74-328b6add6fc4');\n",
              "          const dataTable =\n",
              "            await google.colab.kernel.invokeFunction('convertToInteractive',\n",
              "                                                     [key], {});\n",
              "          if (!dataTable) return;\n",
              "\n",
              "          const docLinkHtml = 'Like what you see? Visit the ' +\n",
              "            '<a target=\"_blank\" href=https://colab.research.google.com/notebooks/data_table.ipynb>data table notebook</a>'\n",
              "            + ' to learn more about interactive tables.';\n",
              "          element.innerHTML = '';\n",
              "          dataTable['output_type'] = 'display_data';\n",
              "          await google.colab.output.renderOutput(dataTable, element);\n",
              "          const docLink = document.createElement('div');\n",
              "          docLink.innerHTML = docLinkHtml;\n",
              "          element.appendChild(docLink);\n",
              "        }\n",
              "      </script>\n",
              "    </div>\n",
              "  </div>\n",
              "  "
            ]
          },
          "metadata": {},
          "execution_count": 5
        }
      ],
      "source": [
        "final_ab_events.head()"
      ]
    },
    {
      "cell_type": "code",
      "execution_count": null,
      "metadata": {
        "id": "c3ANeIjcSLUg",
        "outputId": "9a10467e-35f7-4676-ffd5-73ed5c076a14",
        "colab": {
          "base_uri": "https://localhost:8080/",
          "height": 206
        }
      },
      "outputs": [
        {
          "output_type": "execute_result",
          "data": {
            "text/plain": [
              "            user_id group                  ab_test\n",
              "0  D1ABA3E2887B6A73     A  recommender_system_test\n",
              "1  A7A3664BD6242119     A  recommender_system_test\n",
              "2  DABC14FDDFADD29E     A  recommender_system_test\n",
              "3  04988C5DF189632E     A  recommender_system_test\n",
              "4  482F14783456D21B     B  recommender_system_test"
            ],
            "text/html": [
              "\n",
              "  <div id=\"df-a024cbbf-1801-4545-981a-fbbe51f5c141\">\n",
              "    <div class=\"colab-df-container\">\n",
              "      <div>\n",
              "<style scoped>\n",
              "    .dataframe tbody tr th:only-of-type {\n",
              "        vertical-align: middle;\n",
              "    }\n",
              "\n",
              "    .dataframe tbody tr th {\n",
              "        vertical-align: top;\n",
              "    }\n",
              "\n",
              "    .dataframe thead th {\n",
              "        text-align: right;\n",
              "    }\n",
              "</style>\n",
              "<table border=\"1\" class=\"dataframe\">\n",
              "  <thead>\n",
              "    <tr style=\"text-align: right;\">\n",
              "      <th></th>\n",
              "      <th>user_id</th>\n",
              "      <th>group</th>\n",
              "      <th>ab_test</th>\n",
              "    </tr>\n",
              "  </thead>\n",
              "  <tbody>\n",
              "    <tr>\n",
              "      <th>0</th>\n",
              "      <td>D1ABA3E2887B6A73</td>\n",
              "      <td>A</td>\n",
              "      <td>recommender_system_test</td>\n",
              "    </tr>\n",
              "    <tr>\n",
              "      <th>1</th>\n",
              "      <td>A7A3664BD6242119</td>\n",
              "      <td>A</td>\n",
              "      <td>recommender_system_test</td>\n",
              "    </tr>\n",
              "    <tr>\n",
              "      <th>2</th>\n",
              "      <td>DABC14FDDFADD29E</td>\n",
              "      <td>A</td>\n",
              "      <td>recommender_system_test</td>\n",
              "    </tr>\n",
              "    <tr>\n",
              "      <th>3</th>\n",
              "      <td>04988C5DF189632E</td>\n",
              "      <td>A</td>\n",
              "      <td>recommender_system_test</td>\n",
              "    </tr>\n",
              "    <tr>\n",
              "      <th>4</th>\n",
              "      <td>482F14783456D21B</td>\n",
              "      <td>B</td>\n",
              "      <td>recommender_system_test</td>\n",
              "    </tr>\n",
              "  </tbody>\n",
              "</table>\n",
              "</div>\n",
              "      <button class=\"colab-df-convert\" onclick=\"convertToInteractive('df-a024cbbf-1801-4545-981a-fbbe51f5c141')\"\n",
              "              title=\"Convert this dataframe to an interactive table.\"\n",
              "              style=\"display:none;\">\n",
              "        \n",
              "  <svg xmlns=\"http://www.w3.org/2000/svg\" height=\"24px\"viewBox=\"0 0 24 24\"\n",
              "       width=\"24px\">\n",
              "    <path d=\"M0 0h24v24H0V0z\" fill=\"none\"/>\n",
              "    <path d=\"M18.56 5.44l.94 2.06.94-2.06 2.06-.94-2.06-.94-.94-2.06-.94 2.06-2.06.94zm-11 1L8.5 8.5l.94-2.06 2.06-.94-2.06-.94L8.5 2.5l-.94 2.06-2.06.94zm10 10l.94 2.06.94-2.06 2.06-.94-2.06-.94-.94-2.06-.94 2.06-2.06.94z\"/><path d=\"M17.41 7.96l-1.37-1.37c-.4-.4-.92-.59-1.43-.59-.52 0-1.04.2-1.43.59L10.3 9.45l-7.72 7.72c-.78.78-.78 2.05 0 2.83L4 21.41c.39.39.9.59 1.41.59.51 0 1.02-.2 1.41-.59l7.78-7.78 2.81-2.81c.8-.78.8-2.07 0-2.86zM5.41 20L4 18.59l7.72-7.72 1.47 1.35L5.41 20z\"/>\n",
              "  </svg>\n",
              "      </button>\n",
              "      \n",
              "  <style>\n",
              "    .colab-df-container {\n",
              "      display:flex;\n",
              "      flex-wrap:wrap;\n",
              "      gap: 12px;\n",
              "    }\n",
              "\n",
              "    .colab-df-convert {\n",
              "      background-color: #E8F0FE;\n",
              "      border: none;\n",
              "      border-radius: 50%;\n",
              "      cursor: pointer;\n",
              "      display: none;\n",
              "      fill: #1967D2;\n",
              "      height: 32px;\n",
              "      padding: 0 0 0 0;\n",
              "      width: 32px;\n",
              "    }\n",
              "\n",
              "    .colab-df-convert:hover {\n",
              "      background-color: #E2EBFA;\n",
              "      box-shadow: 0px 1px 2px rgba(60, 64, 67, 0.3), 0px 1px 3px 1px rgba(60, 64, 67, 0.15);\n",
              "      fill: #174EA6;\n",
              "    }\n",
              "\n",
              "    [theme=dark] .colab-df-convert {\n",
              "      background-color: #3B4455;\n",
              "      fill: #D2E3FC;\n",
              "    }\n",
              "\n",
              "    [theme=dark] .colab-df-convert:hover {\n",
              "      background-color: #434B5C;\n",
              "      box-shadow: 0px 1px 3px 1px rgba(0, 0, 0, 0.15);\n",
              "      filter: drop-shadow(0px 1px 2px rgba(0, 0, 0, 0.3));\n",
              "      fill: #FFFFFF;\n",
              "    }\n",
              "  </style>\n",
              "\n",
              "      <script>\n",
              "        const buttonEl =\n",
              "          document.querySelector('#df-a024cbbf-1801-4545-981a-fbbe51f5c141 button.colab-df-convert');\n",
              "        buttonEl.style.display =\n",
              "          google.colab.kernel.accessAllowed ? 'block' : 'none';\n",
              "\n",
              "        async function convertToInteractive(key) {\n",
              "          const element = document.querySelector('#df-a024cbbf-1801-4545-981a-fbbe51f5c141');\n",
              "          const dataTable =\n",
              "            await google.colab.kernel.invokeFunction('convertToInteractive',\n",
              "                                                     [key], {});\n",
              "          if (!dataTable) return;\n",
              "\n",
              "          const docLinkHtml = 'Like what you see? Visit the ' +\n",
              "            '<a target=\"_blank\" href=https://colab.research.google.com/notebooks/data_table.ipynb>data table notebook</a>'\n",
              "            + ' to learn more about interactive tables.';\n",
              "          element.innerHTML = '';\n",
              "          dataTable['output_type'] = 'display_data';\n",
              "          await google.colab.output.renderOutput(dataTable, element);\n",
              "          const docLink = document.createElement('div');\n",
              "          docLink.innerHTML = docLinkHtml;\n",
              "          element.appendChild(docLink);\n",
              "        }\n",
              "      </script>\n",
              "    </div>\n",
              "  </div>\n",
              "  "
            ]
          },
          "metadata": {},
          "execution_count": 6
        }
      ],
      "source": [
        "final_ab_participants.head()"
      ]
    },
    {
      "cell_type": "markdown",
      "metadata": {
        "id": "IFj1ybeRSLUg"
      },
      "source": [
        "Немного автоматизируем процесс:"
      ]
    },
    {
      "cell_type": "code",
      "execution_count": null,
      "metadata": {
        "scrolled": false,
        "id": "pSN3zvskSLUg",
        "outputId": "30f8fcdb-3706-4d04-f5bb-70287b10d5ec",
        "colab": {
          "base_uri": "https://localhost:8080/",
          "height": 1000
        }
      },
      "outputs": [
        {
          "output_type": "display_data",
          "data": {
            "text/plain": [
              "'ab_project_marketing_events'"
            ],
            "application/vnd.google.colaboratory.intrinsic+json": {
              "type": "string"
            }
          },
          "metadata": {}
        },
        {
          "output_type": "stream",
          "name": "stdout",
          "text": [
            "<class 'pandas.core.frame.DataFrame'>\n",
            "RangeIndex: 14 entries, 0 to 13\n",
            "Data columns (total 4 columns):\n",
            " #   Column     Non-Null Count  Dtype \n",
            "---  ------     --------------  ----- \n",
            " 0   name       14 non-null     object\n",
            " 1   regions    14 non-null     object\n",
            " 2   start_dt   14 non-null     object\n",
            " 3   finish_dt  14 non-null     object\n",
            "dtypes: object(4)\n",
            "memory usage: 576.0+ bytes\n"
          ]
        },
        {
          "output_type": "display_data",
          "data": {
            "text/plain": [
              "                              name regions    start_dt   finish_dt\n",
              "9  Victory Day CIS (May 9th) Event     CIS  2020-05-09  2020-05-11"
            ],
            "text/html": [
              "\n",
              "  <div id=\"df-7eed1194-b9fc-45d6-9f84-4c8cf146947e\">\n",
              "    <div class=\"colab-df-container\">\n",
              "      <div>\n",
              "<style scoped>\n",
              "    .dataframe tbody tr th:only-of-type {\n",
              "        vertical-align: middle;\n",
              "    }\n",
              "\n",
              "    .dataframe tbody tr th {\n",
              "        vertical-align: top;\n",
              "    }\n",
              "\n",
              "    .dataframe thead th {\n",
              "        text-align: right;\n",
              "    }\n",
              "</style>\n",
              "<table border=\"1\" class=\"dataframe\">\n",
              "  <thead>\n",
              "    <tr style=\"text-align: right;\">\n",
              "      <th></th>\n",
              "      <th>name</th>\n",
              "      <th>regions</th>\n",
              "      <th>start_dt</th>\n",
              "      <th>finish_dt</th>\n",
              "    </tr>\n",
              "  </thead>\n",
              "  <tbody>\n",
              "    <tr>\n",
              "      <th>9</th>\n",
              "      <td>Victory Day CIS (May 9th) Event</td>\n",
              "      <td>CIS</td>\n",
              "      <td>2020-05-09</td>\n",
              "      <td>2020-05-11</td>\n",
              "    </tr>\n",
              "  </tbody>\n",
              "</table>\n",
              "</div>\n",
              "      <button class=\"colab-df-convert\" onclick=\"convertToInteractive('df-7eed1194-b9fc-45d6-9f84-4c8cf146947e')\"\n",
              "              title=\"Convert this dataframe to an interactive table.\"\n",
              "              style=\"display:none;\">\n",
              "        \n",
              "  <svg xmlns=\"http://www.w3.org/2000/svg\" height=\"24px\"viewBox=\"0 0 24 24\"\n",
              "       width=\"24px\">\n",
              "    <path d=\"M0 0h24v24H0V0z\" fill=\"none\"/>\n",
              "    <path d=\"M18.56 5.44l.94 2.06.94-2.06 2.06-.94-2.06-.94-.94-2.06-.94 2.06-2.06.94zm-11 1L8.5 8.5l.94-2.06 2.06-.94-2.06-.94L8.5 2.5l-.94 2.06-2.06.94zm10 10l.94 2.06.94-2.06 2.06-.94-2.06-.94-.94-2.06-.94 2.06-2.06.94z\"/><path d=\"M17.41 7.96l-1.37-1.37c-.4-.4-.92-.59-1.43-.59-.52 0-1.04.2-1.43.59L10.3 9.45l-7.72 7.72c-.78.78-.78 2.05 0 2.83L4 21.41c.39.39.9.59 1.41.59.51 0 1.02-.2 1.41-.59l7.78-7.78 2.81-2.81c.8-.78.8-2.07 0-2.86zM5.41 20L4 18.59l7.72-7.72 1.47 1.35L5.41 20z\"/>\n",
              "  </svg>\n",
              "      </button>\n",
              "      \n",
              "  <style>\n",
              "    .colab-df-container {\n",
              "      display:flex;\n",
              "      flex-wrap:wrap;\n",
              "      gap: 12px;\n",
              "    }\n",
              "\n",
              "    .colab-df-convert {\n",
              "      background-color: #E8F0FE;\n",
              "      border: none;\n",
              "      border-radius: 50%;\n",
              "      cursor: pointer;\n",
              "      display: none;\n",
              "      fill: #1967D2;\n",
              "      height: 32px;\n",
              "      padding: 0 0 0 0;\n",
              "      width: 32px;\n",
              "    }\n",
              "\n",
              "    .colab-df-convert:hover {\n",
              "      background-color: #E2EBFA;\n",
              "      box-shadow: 0px 1px 2px rgba(60, 64, 67, 0.3), 0px 1px 3px 1px rgba(60, 64, 67, 0.15);\n",
              "      fill: #174EA6;\n",
              "    }\n",
              "\n",
              "    [theme=dark] .colab-df-convert {\n",
              "      background-color: #3B4455;\n",
              "      fill: #D2E3FC;\n",
              "    }\n",
              "\n",
              "    [theme=dark] .colab-df-convert:hover {\n",
              "      background-color: #434B5C;\n",
              "      box-shadow: 0px 1px 3px 1px rgba(0, 0, 0, 0.15);\n",
              "      filter: drop-shadow(0px 1px 2px rgba(0, 0, 0, 0.3));\n",
              "      fill: #FFFFFF;\n",
              "    }\n",
              "  </style>\n",
              "\n",
              "      <script>\n",
              "        const buttonEl =\n",
              "          document.querySelector('#df-7eed1194-b9fc-45d6-9f84-4c8cf146947e button.colab-df-convert');\n",
              "        buttonEl.style.display =\n",
              "          google.colab.kernel.accessAllowed ? 'block' : 'none';\n",
              "\n",
              "        async function convertToInteractive(key) {\n",
              "          const element = document.querySelector('#df-7eed1194-b9fc-45d6-9f84-4c8cf146947e');\n",
              "          const dataTable =\n",
              "            await google.colab.kernel.invokeFunction('convertToInteractive',\n",
              "                                                     [key], {});\n",
              "          if (!dataTable) return;\n",
              "\n",
              "          const docLinkHtml = 'Like what you see? Visit the ' +\n",
              "            '<a target=\"_blank\" href=https://colab.research.google.com/notebooks/data_table.ipynb>data table notebook</a>'\n",
              "            + ' to learn more about interactive tables.';\n",
              "          element.innerHTML = '';\n",
              "          dataTable['output_type'] = 'display_data';\n",
              "          await google.colab.output.renderOutput(dataTable, element);\n",
              "          const docLink = document.createElement('div');\n",
              "          docLink.innerHTML = docLinkHtml;\n",
              "          element.appendChild(docLink);\n",
              "        }\n",
              "      </script>\n",
              "    </div>\n",
              "  </div>\n",
              "  "
            ]
          },
          "metadata": {}
        },
        {
          "output_type": "display_data",
          "data": {
            "text/plain": [
              "'наличие дубликатов - '"
            ],
            "application/vnd.google.colaboratory.intrinsic+json": {
              "type": "string"
            }
          },
          "metadata": {}
        },
        {
          "output_type": "display_data",
          "data": {
            "text/plain": [
              "0"
            ]
          },
          "metadata": {}
        },
        {
          "output_type": "display_data",
          "data": {
            "text/plain": [
              "'наличие пропусков - '"
            ],
            "application/vnd.google.colaboratory.intrinsic+json": {
              "type": "string"
            }
          },
          "metadata": {}
        },
        {
          "output_type": "display_data",
          "data": {
            "text/plain": [
              "name         0\n",
              "regions      0\n",
              "start_dt     0\n",
              "finish_dt    0\n",
              "dtype: int64"
            ]
          },
          "metadata": {}
        },
        {
          "output_type": "display_data",
          "data": {
            "text/plain": [
              "'________________________________'"
            ],
            "application/vnd.google.colaboratory.intrinsic+json": {
              "type": "string"
            }
          },
          "metadata": {}
        },
        {
          "output_type": "display_data",
          "data": {
            "text/plain": [
              "'final_ab_new_users'"
            ],
            "application/vnd.google.colaboratory.intrinsic+json": {
              "type": "string"
            }
          },
          "metadata": {}
        },
        {
          "output_type": "stream",
          "name": "stdout",
          "text": [
            "<class 'pandas.core.frame.DataFrame'>\n",
            "RangeIndex: 61733 entries, 0 to 61732\n",
            "Data columns (total 4 columns):\n",
            " #   Column      Non-Null Count  Dtype \n",
            "---  ------      --------------  ----- \n",
            " 0   user_id     61733 non-null  object\n",
            " 1   first_date  61733 non-null  object\n",
            " 2   region      61733 non-null  object\n",
            " 3   device      61733 non-null  object\n",
            "dtypes: object(4)\n",
            "memory usage: 1.9+ MB\n"
          ]
        },
        {
          "output_type": "display_data",
          "data": {
            "text/plain": [
              "                user_id  first_date region  device\n",
              "11842  8FCF269A025CA0F5  2020-12-21     EU  iPhone"
            ],
            "text/html": [
              "\n",
              "  <div id=\"df-80029e47-7959-482b-a103-0c1a0849770b\">\n",
              "    <div class=\"colab-df-container\">\n",
              "      <div>\n",
              "<style scoped>\n",
              "    .dataframe tbody tr th:only-of-type {\n",
              "        vertical-align: middle;\n",
              "    }\n",
              "\n",
              "    .dataframe tbody tr th {\n",
              "        vertical-align: top;\n",
              "    }\n",
              "\n",
              "    .dataframe thead th {\n",
              "        text-align: right;\n",
              "    }\n",
              "</style>\n",
              "<table border=\"1\" class=\"dataframe\">\n",
              "  <thead>\n",
              "    <tr style=\"text-align: right;\">\n",
              "      <th></th>\n",
              "      <th>user_id</th>\n",
              "      <th>first_date</th>\n",
              "      <th>region</th>\n",
              "      <th>device</th>\n",
              "    </tr>\n",
              "  </thead>\n",
              "  <tbody>\n",
              "    <tr>\n",
              "      <th>11842</th>\n",
              "      <td>8FCF269A025CA0F5</td>\n",
              "      <td>2020-12-21</td>\n",
              "      <td>EU</td>\n",
              "      <td>iPhone</td>\n",
              "    </tr>\n",
              "  </tbody>\n",
              "</table>\n",
              "</div>\n",
              "      <button class=\"colab-df-convert\" onclick=\"convertToInteractive('df-80029e47-7959-482b-a103-0c1a0849770b')\"\n",
              "              title=\"Convert this dataframe to an interactive table.\"\n",
              "              style=\"display:none;\">\n",
              "        \n",
              "  <svg xmlns=\"http://www.w3.org/2000/svg\" height=\"24px\"viewBox=\"0 0 24 24\"\n",
              "       width=\"24px\">\n",
              "    <path d=\"M0 0h24v24H0V0z\" fill=\"none\"/>\n",
              "    <path d=\"M18.56 5.44l.94 2.06.94-2.06 2.06-.94-2.06-.94-.94-2.06-.94 2.06-2.06.94zm-11 1L8.5 8.5l.94-2.06 2.06-.94-2.06-.94L8.5 2.5l-.94 2.06-2.06.94zm10 10l.94 2.06.94-2.06 2.06-.94-2.06-.94-.94-2.06-.94 2.06-2.06.94z\"/><path d=\"M17.41 7.96l-1.37-1.37c-.4-.4-.92-.59-1.43-.59-.52 0-1.04.2-1.43.59L10.3 9.45l-7.72 7.72c-.78.78-.78 2.05 0 2.83L4 21.41c.39.39.9.59 1.41.59.51 0 1.02-.2 1.41-.59l7.78-7.78 2.81-2.81c.8-.78.8-2.07 0-2.86zM5.41 20L4 18.59l7.72-7.72 1.47 1.35L5.41 20z\"/>\n",
              "  </svg>\n",
              "      </button>\n",
              "      \n",
              "  <style>\n",
              "    .colab-df-container {\n",
              "      display:flex;\n",
              "      flex-wrap:wrap;\n",
              "      gap: 12px;\n",
              "    }\n",
              "\n",
              "    .colab-df-convert {\n",
              "      background-color: #E8F0FE;\n",
              "      border: none;\n",
              "      border-radius: 50%;\n",
              "      cursor: pointer;\n",
              "      display: none;\n",
              "      fill: #1967D2;\n",
              "      height: 32px;\n",
              "      padding: 0 0 0 0;\n",
              "      width: 32px;\n",
              "    }\n",
              "\n",
              "    .colab-df-convert:hover {\n",
              "      background-color: #E2EBFA;\n",
              "      box-shadow: 0px 1px 2px rgba(60, 64, 67, 0.3), 0px 1px 3px 1px rgba(60, 64, 67, 0.15);\n",
              "      fill: #174EA6;\n",
              "    }\n",
              "\n",
              "    [theme=dark] .colab-df-convert {\n",
              "      background-color: #3B4455;\n",
              "      fill: #D2E3FC;\n",
              "    }\n",
              "\n",
              "    [theme=dark] .colab-df-convert:hover {\n",
              "      background-color: #434B5C;\n",
              "      box-shadow: 0px 1px 3px 1px rgba(0, 0, 0, 0.15);\n",
              "      filter: drop-shadow(0px 1px 2px rgba(0, 0, 0, 0.3));\n",
              "      fill: #FFFFFF;\n",
              "    }\n",
              "  </style>\n",
              "\n",
              "      <script>\n",
              "        const buttonEl =\n",
              "          document.querySelector('#df-80029e47-7959-482b-a103-0c1a0849770b button.colab-df-convert');\n",
              "        buttonEl.style.display =\n",
              "          google.colab.kernel.accessAllowed ? 'block' : 'none';\n",
              "\n",
              "        async function convertToInteractive(key) {\n",
              "          const element = document.querySelector('#df-80029e47-7959-482b-a103-0c1a0849770b');\n",
              "          const dataTable =\n",
              "            await google.colab.kernel.invokeFunction('convertToInteractive',\n",
              "                                                     [key], {});\n",
              "          if (!dataTable) return;\n",
              "\n",
              "          const docLinkHtml = 'Like what you see? Visit the ' +\n",
              "            '<a target=\"_blank\" href=https://colab.research.google.com/notebooks/data_table.ipynb>data table notebook</a>'\n",
              "            + ' to learn more about interactive tables.';\n",
              "          element.innerHTML = '';\n",
              "          dataTable['output_type'] = 'display_data';\n",
              "          await google.colab.output.renderOutput(dataTable, element);\n",
              "          const docLink = document.createElement('div');\n",
              "          docLink.innerHTML = docLinkHtml;\n",
              "          element.appendChild(docLink);\n",
              "        }\n",
              "      </script>\n",
              "    </div>\n",
              "  </div>\n",
              "  "
            ]
          },
          "metadata": {}
        },
        {
          "output_type": "display_data",
          "data": {
            "text/plain": [
              "'наличие дубликатов - '"
            ],
            "application/vnd.google.colaboratory.intrinsic+json": {
              "type": "string"
            }
          },
          "metadata": {}
        },
        {
          "output_type": "display_data",
          "data": {
            "text/plain": [
              "0"
            ]
          },
          "metadata": {}
        },
        {
          "output_type": "display_data",
          "data": {
            "text/plain": [
              "'наличие пропусков - '"
            ],
            "application/vnd.google.colaboratory.intrinsic+json": {
              "type": "string"
            }
          },
          "metadata": {}
        },
        {
          "output_type": "display_data",
          "data": {
            "text/plain": [
              "user_id       0\n",
              "first_date    0\n",
              "region        0\n",
              "device        0\n",
              "dtype: int64"
            ]
          },
          "metadata": {}
        },
        {
          "output_type": "display_data",
          "data": {
            "text/plain": [
              "'________________________________'"
            ],
            "application/vnd.google.colaboratory.intrinsic+json": {
              "type": "string"
            }
          },
          "metadata": {}
        },
        {
          "output_type": "display_data",
          "data": {
            "text/plain": [
              "'final_ab_events'"
            ],
            "application/vnd.google.colaboratory.intrinsic+json": {
              "type": "string"
            }
          },
          "metadata": {}
        },
        {
          "output_type": "stream",
          "name": "stdout",
          "text": [
            "<class 'pandas.core.frame.DataFrame'>\n",
            "RangeIndex: 440317 entries, 0 to 440316\n",
            "Data columns (total 4 columns):\n",
            " #   Column      Non-Null Count   Dtype  \n",
            "---  ------      --------------   -----  \n",
            " 0   user_id     440317 non-null  object \n",
            " 1   event_dt    440317 non-null  object \n",
            " 2   event_name  440317 non-null  object \n",
            " 3   details     62740 non-null   float64\n",
            "dtypes: float64(1), object(3)\n",
            "memory usage: 13.4+ MB\n"
          ]
        },
        {
          "output_type": "display_data",
          "data": {
            "text/plain": [
              "                 user_id             event_dt    event_name  details\n",
              "124581  8B76992541C30CF7  2020-12-29 22:54:02  product_cart      NaN"
            ],
            "text/html": [
              "\n",
              "  <div id=\"df-5611d99c-afe8-4dea-a537-1d99d819666b\">\n",
              "    <div class=\"colab-df-container\">\n",
              "      <div>\n",
              "<style scoped>\n",
              "    .dataframe tbody tr th:only-of-type {\n",
              "        vertical-align: middle;\n",
              "    }\n",
              "\n",
              "    .dataframe tbody tr th {\n",
              "        vertical-align: top;\n",
              "    }\n",
              "\n",
              "    .dataframe thead th {\n",
              "        text-align: right;\n",
              "    }\n",
              "</style>\n",
              "<table border=\"1\" class=\"dataframe\">\n",
              "  <thead>\n",
              "    <tr style=\"text-align: right;\">\n",
              "      <th></th>\n",
              "      <th>user_id</th>\n",
              "      <th>event_dt</th>\n",
              "      <th>event_name</th>\n",
              "      <th>details</th>\n",
              "    </tr>\n",
              "  </thead>\n",
              "  <tbody>\n",
              "    <tr>\n",
              "      <th>124581</th>\n",
              "      <td>8B76992541C30CF7</td>\n",
              "      <td>2020-12-29 22:54:02</td>\n",
              "      <td>product_cart</td>\n",
              "      <td>NaN</td>\n",
              "    </tr>\n",
              "  </tbody>\n",
              "</table>\n",
              "</div>\n",
              "      <button class=\"colab-df-convert\" onclick=\"convertToInteractive('df-5611d99c-afe8-4dea-a537-1d99d819666b')\"\n",
              "              title=\"Convert this dataframe to an interactive table.\"\n",
              "              style=\"display:none;\">\n",
              "        \n",
              "  <svg xmlns=\"http://www.w3.org/2000/svg\" height=\"24px\"viewBox=\"0 0 24 24\"\n",
              "       width=\"24px\">\n",
              "    <path d=\"M0 0h24v24H0V0z\" fill=\"none\"/>\n",
              "    <path d=\"M18.56 5.44l.94 2.06.94-2.06 2.06-.94-2.06-.94-.94-2.06-.94 2.06-2.06.94zm-11 1L8.5 8.5l.94-2.06 2.06-.94-2.06-.94L8.5 2.5l-.94 2.06-2.06.94zm10 10l.94 2.06.94-2.06 2.06-.94-2.06-.94-.94-2.06-.94 2.06-2.06.94z\"/><path d=\"M17.41 7.96l-1.37-1.37c-.4-.4-.92-.59-1.43-.59-.52 0-1.04.2-1.43.59L10.3 9.45l-7.72 7.72c-.78.78-.78 2.05 0 2.83L4 21.41c.39.39.9.59 1.41.59.51 0 1.02-.2 1.41-.59l7.78-7.78 2.81-2.81c.8-.78.8-2.07 0-2.86zM5.41 20L4 18.59l7.72-7.72 1.47 1.35L5.41 20z\"/>\n",
              "  </svg>\n",
              "      </button>\n",
              "      \n",
              "  <style>\n",
              "    .colab-df-container {\n",
              "      display:flex;\n",
              "      flex-wrap:wrap;\n",
              "      gap: 12px;\n",
              "    }\n",
              "\n",
              "    .colab-df-convert {\n",
              "      background-color: #E8F0FE;\n",
              "      border: none;\n",
              "      border-radius: 50%;\n",
              "      cursor: pointer;\n",
              "      display: none;\n",
              "      fill: #1967D2;\n",
              "      height: 32px;\n",
              "      padding: 0 0 0 0;\n",
              "      width: 32px;\n",
              "    }\n",
              "\n",
              "    .colab-df-convert:hover {\n",
              "      background-color: #E2EBFA;\n",
              "      box-shadow: 0px 1px 2px rgba(60, 64, 67, 0.3), 0px 1px 3px 1px rgba(60, 64, 67, 0.15);\n",
              "      fill: #174EA6;\n",
              "    }\n",
              "\n",
              "    [theme=dark] .colab-df-convert {\n",
              "      background-color: #3B4455;\n",
              "      fill: #D2E3FC;\n",
              "    }\n",
              "\n",
              "    [theme=dark] .colab-df-convert:hover {\n",
              "      background-color: #434B5C;\n",
              "      box-shadow: 0px 1px 3px 1px rgba(0, 0, 0, 0.15);\n",
              "      filter: drop-shadow(0px 1px 2px rgba(0, 0, 0, 0.3));\n",
              "      fill: #FFFFFF;\n",
              "    }\n",
              "  </style>\n",
              "\n",
              "      <script>\n",
              "        const buttonEl =\n",
              "          document.querySelector('#df-5611d99c-afe8-4dea-a537-1d99d819666b button.colab-df-convert');\n",
              "        buttonEl.style.display =\n",
              "          google.colab.kernel.accessAllowed ? 'block' : 'none';\n",
              "\n",
              "        async function convertToInteractive(key) {\n",
              "          const element = document.querySelector('#df-5611d99c-afe8-4dea-a537-1d99d819666b');\n",
              "          const dataTable =\n",
              "            await google.colab.kernel.invokeFunction('convertToInteractive',\n",
              "                                                     [key], {});\n",
              "          if (!dataTable) return;\n",
              "\n",
              "          const docLinkHtml = 'Like what you see? Visit the ' +\n",
              "            '<a target=\"_blank\" href=https://colab.research.google.com/notebooks/data_table.ipynb>data table notebook</a>'\n",
              "            + ' to learn more about interactive tables.';\n",
              "          element.innerHTML = '';\n",
              "          dataTable['output_type'] = 'display_data';\n",
              "          await google.colab.output.renderOutput(dataTable, element);\n",
              "          const docLink = document.createElement('div');\n",
              "          docLink.innerHTML = docLinkHtml;\n",
              "          element.appendChild(docLink);\n",
              "        }\n",
              "      </script>\n",
              "    </div>\n",
              "  </div>\n",
              "  "
            ]
          },
          "metadata": {}
        },
        {
          "output_type": "display_data",
          "data": {
            "text/plain": [
              "'наличие дубликатов - '"
            ],
            "application/vnd.google.colaboratory.intrinsic+json": {
              "type": "string"
            }
          },
          "metadata": {}
        },
        {
          "output_type": "display_data",
          "data": {
            "text/plain": [
              "0"
            ]
          },
          "metadata": {}
        },
        {
          "output_type": "display_data",
          "data": {
            "text/plain": [
              "'наличие пропусков - '"
            ],
            "application/vnd.google.colaboratory.intrinsic+json": {
              "type": "string"
            }
          },
          "metadata": {}
        },
        {
          "output_type": "display_data",
          "data": {
            "text/plain": [
              "user_id            0\n",
              "event_dt           0\n",
              "event_name         0\n",
              "details       377577\n",
              "dtype: int64"
            ]
          },
          "metadata": {}
        },
        {
          "output_type": "display_data",
          "data": {
            "text/plain": [
              "'________________________________'"
            ],
            "application/vnd.google.colaboratory.intrinsic+json": {
              "type": "string"
            }
          },
          "metadata": {}
        },
        {
          "output_type": "display_data",
          "data": {
            "text/plain": [
              "'final_ab_participants'"
            ],
            "application/vnd.google.colaboratory.intrinsic+json": {
              "type": "string"
            }
          },
          "metadata": {}
        },
        {
          "output_type": "stream",
          "name": "stdout",
          "text": [
            "<class 'pandas.core.frame.DataFrame'>\n",
            "RangeIndex: 18268 entries, 0 to 18267\n",
            "Data columns (total 3 columns):\n",
            " #   Column   Non-Null Count  Dtype \n",
            "---  ------   --------------  ----- \n",
            " 0   user_id  18268 non-null  object\n",
            " 1   group    18268 non-null  object\n",
            " 2   ab_test  18268 non-null  object\n",
            "dtypes: object(3)\n",
            "memory usage: 428.3+ KB\n"
          ]
        },
        {
          "output_type": "display_data",
          "data": {
            "text/plain": [
              "               user_id group                  ab_test\n",
              "4791  8C49B57010B5CE64     A  recommender_system_test"
            ],
            "text/html": [
              "\n",
              "  <div id=\"df-33371647-927c-43eb-ab40-862c14f03ef6\">\n",
              "    <div class=\"colab-df-container\">\n",
              "      <div>\n",
              "<style scoped>\n",
              "    .dataframe tbody tr th:only-of-type {\n",
              "        vertical-align: middle;\n",
              "    }\n",
              "\n",
              "    .dataframe tbody tr th {\n",
              "        vertical-align: top;\n",
              "    }\n",
              "\n",
              "    .dataframe thead th {\n",
              "        text-align: right;\n",
              "    }\n",
              "</style>\n",
              "<table border=\"1\" class=\"dataframe\">\n",
              "  <thead>\n",
              "    <tr style=\"text-align: right;\">\n",
              "      <th></th>\n",
              "      <th>user_id</th>\n",
              "      <th>group</th>\n",
              "      <th>ab_test</th>\n",
              "    </tr>\n",
              "  </thead>\n",
              "  <tbody>\n",
              "    <tr>\n",
              "      <th>4791</th>\n",
              "      <td>8C49B57010B5CE64</td>\n",
              "      <td>A</td>\n",
              "      <td>recommender_system_test</td>\n",
              "    </tr>\n",
              "  </tbody>\n",
              "</table>\n",
              "</div>\n",
              "      <button class=\"colab-df-convert\" onclick=\"convertToInteractive('df-33371647-927c-43eb-ab40-862c14f03ef6')\"\n",
              "              title=\"Convert this dataframe to an interactive table.\"\n",
              "              style=\"display:none;\">\n",
              "        \n",
              "  <svg xmlns=\"http://www.w3.org/2000/svg\" height=\"24px\"viewBox=\"0 0 24 24\"\n",
              "       width=\"24px\">\n",
              "    <path d=\"M0 0h24v24H0V0z\" fill=\"none\"/>\n",
              "    <path d=\"M18.56 5.44l.94 2.06.94-2.06 2.06-.94-2.06-.94-.94-2.06-.94 2.06-2.06.94zm-11 1L8.5 8.5l.94-2.06 2.06-.94-2.06-.94L8.5 2.5l-.94 2.06-2.06.94zm10 10l.94 2.06.94-2.06 2.06-.94-2.06-.94-.94-2.06-.94 2.06-2.06.94z\"/><path d=\"M17.41 7.96l-1.37-1.37c-.4-.4-.92-.59-1.43-.59-.52 0-1.04.2-1.43.59L10.3 9.45l-7.72 7.72c-.78.78-.78 2.05 0 2.83L4 21.41c.39.39.9.59 1.41.59.51 0 1.02-.2 1.41-.59l7.78-7.78 2.81-2.81c.8-.78.8-2.07 0-2.86zM5.41 20L4 18.59l7.72-7.72 1.47 1.35L5.41 20z\"/>\n",
              "  </svg>\n",
              "      </button>\n",
              "      \n",
              "  <style>\n",
              "    .colab-df-container {\n",
              "      display:flex;\n",
              "      flex-wrap:wrap;\n",
              "      gap: 12px;\n",
              "    }\n",
              "\n",
              "    .colab-df-convert {\n",
              "      background-color: #E8F0FE;\n",
              "      border: none;\n",
              "      border-radius: 50%;\n",
              "      cursor: pointer;\n",
              "      display: none;\n",
              "      fill: #1967D2;\n",
              "      height: 32px;\n",
              "      padding: 0 0 0 0;\n",
              "      width: 32px;\n",
              "    }\n",
              "\n",
              "    .colab-df-convert:hover {\n",
              "      background-color: #E2EBFA;\n",
              "      box-shadow: 0px 1px 2px rgba(60, 64, 67, 0.3), 0px 1px 3px 1px rgba(60, 64, 67, 0.15);\n",
              "      fill: #174EA6;\n",
              "    }\n",
              "\n",
              "    [theme=dark] .colab-df-convert {\n",
              "      background-color: #3B4455;\n",
              "      fill: #D2E3FC;\n",
              "    }\n",
              "\n",
              "    [theme=dark] .colab-df-convert:hover {\n",
              "      background-color: #434B5C;\n",
              "      box-shadow: 0px 1px 3px 1px rgba(0, 0, 0, 0.15);\n",
              "      filter: drop-shadow(0px 1px 2px rgba(0, 0, 0, 0.3));\n",
              "      fill: #FFFFFF;\n",
              "    }\n",
              "  </style>\n",
              "\n",
              "      <script>\n",
              "        const buttonEl =\n",
              "          document.querySelector('#df-33371647-927c-43eb-ab40-862c14f03ef6 button.colab-df-convert');\n",
              "        buttonEl.style.display =\n",
              "          google.colab.kernel.accessAllowed ? 'block' : 'none';\n",
              "\n",
              "        async function convertToInteractive(key) {\n",
              "          const element = document.querySelector('#df-33371647-927c-43eb-ab40-862c14f03ef6');\n",
              "          const dataTable =\n",
              "            await google.colab.kernel.invokeFunction('convertToInteractive',\n",
              "                                                     [key], {});\n",
              "          if (!dataTable) return;\n",
              "\n",
              "          const docLinkHtml = 'Like what you see? Visit the ' +\n",
              "            '<a target=\"_blank\" href=https://colab.research.google.com/notebooks/data_table.ipynb>data table notebook</a>'\n",
              "            + ' to learn more about interactive tables.';\n",
              "          element.innerHTML = '';\n",
              "          dataTable['output_type'] = 'display_data';\n",
              "          await google.colab.output.renderOutput(dataTable, element);\n",
              "          const docLink = document.createElement('div');\n",
              "          docLink.innerHTML = docLinkHtml;\n",
              "          element.appendChild(docLink);\n",
              "        }\n",
              "      </script>\n",
              "    </div>\n",
              "  </div>\n",
              "  "
            ]
          },
          "metadata": {}
        },
        {
          "output_type": "display_data",
          "data": {
            "text/plain": [
              "'наличие дубликатов - '"
            ],
            "application/vnd.google.colaboratory.intrinsic+json": {
              "type": "string"
            }
          },
          "metadata": {}
        },
        {
          "output_type": "display_data",
          "data": {
            "text/plain": [
              "0"
            ]
          },
          "metadata": {}
        },
        {
          "output_type": "display_data",
          "data": {
            "text/plain": [
              "'наличие пропусков - '"
            ],
            "application/vnd.google.colaboratory.intrinsic+json": {
              "type": "string"
            }
          },
          "metadata": {}
        },
        {
          "output_type": "display_data",
          "data": {
            "text/plain": [
              "user_id    0\n",
              "group      0\n",
              "ab_test    0\n",
              "dtype: int64"
            ]
          },
          "metadata": {}
        },
        {
          "output_type": "display_data",
          "data": {
            "text/plain": [
              "'________________________________'"
            ],
            "application/vnd.google.colaboratory.intrinsic+json": {
              "type": "string"
            }
          },
          "metadata": {}
        }
      ],
      "source": [
        "ds_name = ['ab_project_marketing_events', 'final_ab_new_users', 'final_ab_events', 'final_ab_participants']\n",
        "df_name = [ab_project_marketing_events, final_ab_new_users, final_ab_events, final_ab_participants]\n",
        "i=0\n",
        "for t in [ab_project_marketing_events, final_ab_new_users, final_ab_events, final_ab_participants]:\n",
        "    display()\n",
        "    display(ds_name[i])\n",
        "    display()\n",
        "    t.info()\n",
        "    display(t.sample(1))\n",
        "    display('наличие дубликатов - ', t.duplicated().sum())\n",
        "    display('наличие пропусков - ', t.isnull().sum())\n",
        "    i=i+1\n",
        "    display('________________________________')"
      ]
    },
    {
      "cell_type": "markdown",
      "metadata": {
        "id": "w5N8D2oNSLUh"
      },
      "source": [
        "В датасете `final_ab_events` есть пропуски.\n",
        "\n",
        "final_ab_events.details - пропущенные значения - 0, то есть отсутсттвие покупок."
      ]
    },
    {
      "cell_type": "code",
      "execution_count": null,
      "metadata": {
        "id": "J0SC6WceSLUh"
      },
      "outputs": [],
      "source": [
        "final_ab_events.details = final_ab_events.details.fillna(0)"
      ]
    },
    {
      "cell_type": "markdown",
      "metadata": {
        "id": "1puezyoFSLUi"
      },
      "source": [
        "Требуются преобразование типов в двух колонках c `object` на `datetime64`:\n",
        "\n",
        "2   `start_dt`   14 non-null     `object`\n",
        "\n",
        "3   `finish_dt`  14 non-null     `object`"
      ]
    },
    {
      "cell_type": "code",
      "execution_count": null,
      "metadata": {
        "id": "QYh2tSbiSLUi"
      },
      "outputs": [],
      "source": [
        "ab_project_marketing_events['start_dt']= pd.to_datetime(ab_project_marketing_events['start_dt'])\n",
        "ab_project_marketing_events['finish_dt']= pd.to_datetime(ab_project_marketing_events['finish_dt'])"
      ]
    },
    {
      "cell_type": "markdown",
      "metadata": {
        "id": "V60uw_rxSLUi"
      },
      "source": [
        "Требуются преобразование типов в одной колонке c `object` на `datetime64`:\n",
        "\n",
        "1   `first_date`  61733 non-null  `object`"
      ]
    },
    {
      "cell_type": "code",
      "execution_count": null,
      "metadata": {
        "id": "DYyLPEawSLUj"
      },
      "outputs": [],
      "source": [
        "final_ab_new_users['first_date']= pd.to_datetime(final_ab_new_users['first_date'])"
      ]
    },
    {
      "cell_type": "markdown",
      "metadata": {
        "id": "qqwzg6sUSLUj"
      },
      "source": [
        "Требуются преобразование типов в одной колонке c `object` на `datetime64`:\n",
        "\n",
        "1   `event_dt`    440317 non-null  `object`"
      ]
    },
    {
      "cell_type": "code",
      "execution_count": null,
      "metadata": {
        "id": "3nNyF4C-SLUj"
      },
      "outputs": [],
      "source": [
        "final_ab_events['event_dt']= pd.to_datetime(final_ab_events['event_dt'])"
      ]
    },
    {
      "cell_type": "markdown",
      "metadata": {
        "id": "S52bLnNtSLUj"
      },
      "source": [
        "***Проверка после исправления***"
      ]
    },
    {
      "cell_type": "code",
      "execution_count": null,
      "metadata": {
        "scrolled": false,
        "id": "4vZr7SMeSLUk",
        "outputId": "e404ceaf-b571-4c23-e69b-babbec650999",
        "colab": {
          "base_uri": "https://localhost:8080/",
          "height": 1000
        }
      },
      "outputs": [
        {
          "output_type": "display_data",
          "data": {
            "text/plain": [
              "'ab_project_marketing_events'"
            ],
            "application/vnd.google.colaboratory.intrinsic+json": {
              "type": "string"
            }
          },
          "metadata": {}
        },
        {
          "output_type": "stream",
          "name": "stdout",
          "text": [
            "<class 'pandas.core.frame.DataFrame'>\n",
            "RangeIndex: 14 entries, 0 to 13\n",
            "Data columns (total 4 columns):\n",
            " #   Column     Non-Null Count  Dtype         \n",
            "---  ------     --------------  -----         \n",
            " 0   name       14 non-null     object        \n",
            " 1   regions    14 non-null     object        \n",
            " 2   start_dt   14 non-null     datetime64[ns]\n",
            " 3   finish_dt  14 non-null     datetime64[ns]\n",
            "dtypes: datetime64[ns](2), object(2)\n",
            "memory usage: 576.0+ bytes\n"
          ]
        },
        {
          "output_type": "display_data",
          "data": {
            "text/plain": [
              "None"
            ]
          },
          "metadata": {}
        },
        {
          "output_type": "display_data",
          "data": {
            "text/plain": [
              "                               name        regions   start_dt  finish_dt\n",
              "7  Labor day (May 1st) Ads Campaign  EU, CIS, APAC 2020-05-01 2020-05-03"
            ],
            "text/html": [
              "\n",
              "  <div id=\"df-fa95bd90-7419-4793-a341-18f2d5c6d609\">\n",
              "    <div class=\"colab-df-container\">\n",
              "      <div>\n",
              "<style scoped>\n",
              "    .dataframe tbody tr th:only-of-type {\n",
              "        vertical-align: middle;\n",
              "    }\n",
              "\n",
              "    .dataframe tbody tr th {\n",
              "        vertical-align: top;\n",
              "    }\n",
              "\n",
              "    .dataframe thead th {\n",
              "        text-align: right;\n",
              "    }\n",
              "</style>\n",
              "<table border=\"1\" class=\"dataframe\">\n",
              "  <thead>\n",
              "    <tr style=\"text-align: right;\">\n",
              "      <th></th>\n",
              "      <th>name</th>\n",
              "      <th>regions</th>\n",
              "      <th>start_dt</th>\n",
              "      <th>finish_dt</th>\n",
              "    </tr>\n",
              "  </thead>\n",
              "  <tbody>\n",
              "    <tr>\n",
              "      <th>7</th>\n",
              "      <td>Labor day (May 1st) Ads Campaign</td>\n",
              "      <td>EU, CIS, APAC</td>\n",
              "      <td>2020-05-01</td>\n",
              "      <td>2020-05-03</td>\n",
              "    </tr>\n",
              "  </tbody>\n",
              "</table>\n",
              "</div>\n",
              "      <button class=\"colab-df-convert\" onclick=\"convertToInteractive('df-fa95bd90-7419-4793-a341-18f2d5c6d609')\"\n",
              "              title=\"Convert this dataframe to an interactive table.\"\n",
              "              style=\"display:none;\">\n",
              "        \n",
              "  <svg xmlns=\"http://www.w3.org/2000/svg\" height=\"24px\"viewBox=\"0 0 24 24\"\n",
              "       width=\"24px\">\n",
              "    <path d=\"M0 0h24v24H0V0z\" fill=\"none\"/>\n",
              "    <path d=\"M18.56 5.44l.94 2.06.94-2.06 2.06-.94-2.06-.94-.94-2.06-.94 2.06-2.06.94zm-11 1L8.5 8.5l.94-2.06 2.06-.94-2.06-.94L8.5 2.5l-.94 2.06-2.06.94zm10 10l.94 2.06.94-2.06 2.06-.94-2.06-.94-.94-2.06-.94 2.06-2.06.94z\"/><path d=\"M17.41 7.96l-1.37-1.37c-.4-.4-.92-.59-1.43-.59-.52 0-1.04.2-1.43.59L10.3 9.45l-7.72 7.72c-.78.78-.78 2.05 0 2.83L4 21.41c.39.39.9.59 1.41.59.51 0 1.02-.2 1.41-.59l7.78-7.78 2.81-2.81c.8-.78.8-2.07 0-2.86zM5.41 20L4 18.59l7.72-7.72 1.47 1.35L5.41 20z\"/>\n",
              "  </svg>\n",
              "      </button>\n",
              "      \n",
              "  <style>\n",
              "    .colab-df-container {\n",
              "      display:flex;\n",
              "      flex-wrap:wrap;\n",
              "      gap: 12px;\n",
              "    }\n",
              "\n",
              "    .colab-df-convert {\n",
              "      background-color: #E8F0FE;\n",
              "      border: none;\n",
              "      border-radius: 50%;\n",
              "      cursor: pointer;\n",
              "      display: none;\n",
              "      fill: #1967D2;\n",
              "      height: 32px;\n",
              "      padding: 0 0 0 0;\n",
              "      width: 32px;\n",
              "    }\n",
              "\n",
              "    .colab-df-convert:hover {\n",
              "      background-color: #E2EBFA;\n",
              "      box-shadow: 0px 1px 2px rgba(60, 64, 67, 0.3), 0px 1px 3px 1px rgba(60, 64, 67, 0.15);\n",
              "      fill: #174EA6;\n",
              "    }\n",
              "\n",
              "    [theme=dark] .colab-df-convert {\n",
              "      background-color: #3B4455;\n",
              "      fill: #D2E3FC;\n",
              "    }\n",
              "\n",
              "    [theme=dark] .colab-df-convert:hover {\n",
              "      background-color: #434B5C;\n",
              "      box-shadow: 0px 1px 3px 1px rgba(0, 0, 0, 0.15);\n",
              "      filter: drop-shadow(0px 1px 2px rgba(0, 0, 0, 0.3));\n",
              "      fill: #FFFFFF;\n",
              "    }\n",
              "  </style>\n",
              "\n",
              "      <script>\n",
              "        const buttonEl =\n",
              "          document.querySelector('#df-fa95bd90-7419-4793-a341-18f2d5c6d609 button.colab-df-convert');\n",
              "        buttonEl.style.display =\n",
              "          google.colab.kernel.accessAllowed ? 'block' : 'none';\n",
              "\n",
              "        async function convertToInteractive(key) {\n",
              "          const element = document.querySelector('#df-fa95bd90-7419-4793-a341-18f2d5c6d609');\n",
              "          const dataTable =\n",
              "            await google.colab.kernel.invokeFunction('convertToInteractive',\n",
              "                                                     [key], {});\n",
              "          if (!dataTable) return;\n",
              "\n",
              "          const docLinkHtml = 'Like what you see? Visit the ' +\n",
              "            '<a target=\"_blank\" href=https://colab.research.google.com/notebooks/data_table.ipynb>data table notebook</a>'\n",
              "            + ' to learn more about interactive tables.';\n",
              "          element.innerHTML = '';\n",
              "          dataTable['output_type'] = 'display_data';\n",
              "          await google.colab.output.renderOutput(dataTable, element);\n",
              "          const docLink = document.createElement('div');\n",
              "          docLink.innerHTML = docLinkHtml;\n",
              "          element.appendChild(docLink);\n",
              "        }\n",
              "      </script>\n",
              "    </div>\n",
              "  </div>\n",
              "  "
            ]
          },
          "metadata": {}
        },
        {
          "output_type": "display_data",
          "data": {
            "text/plain": [
              "'наличие дубликатов - '"
            ],
            "application/vnd.google.colaboratory.intrinsic+json": {
              "type": "string"
            }
          },
          "metadata": {}
        },
        {
          "output_type": "display_data",
          "data": {
            "text/plain": [
              "0"
            ]
          },
          "metadata": {}
        },
        {
          "output_type": "display_data",
          "data": {
            "text/plain": [
              "'наличие пропусков - '"
            ],
            "application/vnd.google.colaboratory.intrinsic+json": {
              "type": "string"
            }
          },
          "metadata": {}
        },
        {
          "output_type": "display_data",
          "data": {
            "text/plain": [
              "name         0\n",
              "regions      0\n",
              "start_dt     0\n",
              "finish_dt    0\n",
              "dtype: int64"
            ]
          },
          "metadata": {}
        },
        {
          "output_type": "display_data",
          "data": {
            "text/plain": [
              "'________________________________'"
            ],
            "application/vnd.google.colaboratory.intrinsic+json": {
              "type": "string"
            }
          },
          "metadata": {}
        },
        {
          "output_type": "display_data",
          "data": {
            "text/plain": [
              "'final_ab_new_users'"
            ],
            "application/vnd.google.colaboratory.intrinsic+json": {
              "type": "string"
            }
          },
          "metadata": {}
        },
        {
          "output_type": "stream",
          "name": "stdout",
          "text": [
            "<class 'pandas.core.frame.DataFrame'>\n",
            "RangeIndex: 61733 entries, 0 to 61732\n",
            "Data columns (total 4 columns):\n",
            " #   Column      Non-Null Count  Dtype         \n",
            "---  ------      --------------  -----         \n",
            " 0   user_id     61733 non-null  object        \n",
            " 1   first_date  61733 non-null  datetime64[ns]\n",
            " 2   region      61733 non-null  object        \n",
            " 3   device      61733 non-null  object        \n",
            "dtypes: datetime64[ns](1), object(3)\n",
            "memory usage: 1.9+ MB\n"
          ]
        },
        {
          "output_type": "display_data",
          "data": {
            "text/plain": [
              "None"
            ]
          },
          "metadata": {}
        },
        {
          "output_type": "display_data",
          "data": {
            "text/plain": [
              "                user_id first_date region   device\n",
              "31075  FD43AFAEA83A6A3F 2020-12-16     EU  Android"
            ],
            "text/html": [
              "\n",
              "  <div id=\"df-063aa45e-a4ba-4248-9ebc-e335ec49bc5c\">\n",
              "    <div class=\"colab-df-container\">\n",
              "      <div>\n",
              "<style scoped>\n",
              "    .dataframe tbody tr th:only-of-type {\n",
              "        vertical-align: middle;\n",
              "    }\n",
              "\n",
              "    .dataframe tbody tr th {\n",
              "        vertical-align: top;\n",
              "    }\n",
              "\n",
              "    .dataframe thead th {\n",
              "        text-align: right;\n",
              "    }\n",
              "</style>\n",
              "<table border=\"1\" class=\"dataframe\">\n",
              "  <thead>\n",
              "    <tr style=\"text-align: right;\">\n",
              "      <th></th>\n",
              "      <th>user_id</th>\n",
              "      <th>first_date</th>\n",
              "      <th>region</th>\n",
              "      <th>device</th>\n",
              "    </tr>\n",
              "  </thead>\n",
              "  <tbody>\n",
              "    <tr>\n",
              "      <th>31075</th>\n",
              "      <td>FD43AFAEA83A6A3F</td>\n",
              "      <td>2020-12-16</td>\n",
              "      <td>EU</td>\n",
              "      <td>Android</td>\n",
              "    </tr>\n",
              "  </tbody>\n",
              "</table>\n",
              "</div>\n",
              "      <button class=\"colab-df-convert\" onclick=\"convertToInteractive('df-063aa45e-a4ba-4248-9ebc-e335ec49bc5c')\"\n",
              "              title=\"Convert this dataframe to an interactive table.\"\n",
              "              style=\"display:none;\">\n",
              "        \n",
              "  <svg xmlns=\"http://www.w3.org/2000/svg\" height=\"24px\"viewBox=\"0 0 24 24\"\n",
              "       width=\"24px\">\n",
              "    <path d=\"M0 0h24v24H0V0z\" fill=\"none\"/>\n",
              "    <path d=\"M18.56 5.44l.94 2.06.94-2.06 2.06-.94-2.06-.94-.94-2.06-.94 2.06-2.06.94zm-11 1L8.5 8.5l.94-2.06 2.06-.94-2.06-.94L8.5 2.5l-.94 2.06-2.06.94zm10 10l.94 2.06.94-2.06 2.06-.94-2.06-.94-.94-2.06-.94 2.06-2.06.94z\"/><path d=\"M17.41 7.96l-1.37-1.37c-.4-.4-.92-.59-1.43-.59-.52 0-1.04.2-1.43.59L10.3 9.45l-7.72 7.72c-.78.78-.78 2.05 0 2.83L4 21.41c.39.39.9.59 1.41.59.51 0 1.02-.2 1.41-.59l7.78-7.78 2.81-2.81c.8-.78.8-2.07 0-2.86zM5.41 20L4 18.59l7.72-7.72 1.47 1.35L5.41 20z\"/>\n",
              "  </svg>\n",
              "      </button>\n",
              "      \n",
              "  <style>\n",
              "    .colab-df-container {\n",
              "      display:flex;\n",
              "      flex-wrap:wrap;\n",
              "      gap: 12px;\n",
              "    }\n",
              "\n",
              "    .colab-df-convert {\n",
              "      background-color: #E8F0FE;\n",
              "      border: none;\n",
              "      border-radius: 50%;\n",
              "      cursor: pointer;\n",
              "      display: none;\n",
              "      fill: #1967D2;\n",
              "      height: 32px;\n",
              "      padding: 0 0 0 0;\n",
              "      width: 32px;\n",
              "    }\n",
              "\n",
              "    .colab-df-convert:hover {\n",
              "      background-color: #E2EBFA;\n",
              "      box-shadow: 0px 1px 2px rgba(60, 64, 67, 0.3), 0px 1px 3px 1px rgba(60, 64, 67, 0.15);\n",
              "      fill: #174EA6;\n",
              "    }\n",
              "\n",
              "    [theme=dark] .colab-df-convert {\n",
              "      background-color: #3B4455;\n",
              "      fill: #D2E3FC;\n",
              "    }\n",
              "\n",
              "    [theme=dark] .colab-df-convert:hover {\n",
              "      background-color: #434B5C;\n",
              "      box-shadow: 0px 1px 3px 1px rgba(0, 0, 0, 0.15);\n",
              "      filter: drop-shadow(0px 1px 2px rgba(0, 0, 0, 0.3));\n",
              "      fill: #FFFFFF;\n",
              "    }\n",
              "  </style>\n",
              "\n",
              "      <script>\n",
              "        const buttonEl =\n",
              "          document.querySelector('#df-063aa45e-a4ba-4248-9ebc-e335ec49bc5c button.colab-df-convert');\n",
              "        buttonEl.style.display =\n",
              "          google.colab.kernel.accessAllowed ? 'block' : 'none';\n",
              "\n",
              "        async function convertToInteractive(key) {\n",
              "          const element = document.querySelector('#df-063aa45e-a4ba-4248-9ebc-e335ec49bc5c');\n",
              "          const dataTable =\n",
              "            await google.colab.kernel.invokeFunction('convertToInteractive',\n",
              "                                                     [key], {});\n",
              "          if (!dataTable) return;\n",
              "\n",
              "          const docLinkHtml = 'Like what you see? Visit the ' +\n",
              "            '<a target=\"_blank\" href=https://colab.research.google.com/notebooks/data_table.ipynb>data table notebook</a>'\n",
              "            + ' to learn more about interactive tables.';\n",
              "          element.innerHTML = '';\n",
              "          dataTable['output_type'] = 'display_data';\n",
              "          await google.colab.output.renderOutput(dataTable, element);\n",
              "          const docLink = document.createElement('div');\n",
              "          docLink.innerHTML = docLinkHtml;\n",
              "          element.appendChild(docLink);\n",
              "        }\n",
              "      </script>\n",
              "    </div>\n",
              "  </div>\n",
              "  "
            ]
          },
          "metadata": {}
        },
        {
          "output_type": "display_data",
          "data": {
            "text/plain": [
              "'наличие дубликатов - '"
            ],
            "application/vnd.google.colaboratory.intrinsic+json": {
              "type": "string"
            }
          },
          "metadata": {}
        },
        {
          "output_type": "display_data",
          "data": {
            "text/plain": [
              "0"
            ]
          },
          "metadata": {}
        },
        {
          "output_type": "display_data",
          "data": {
            "text/plain": [
              "'наличие пропусков - '"
            ],
            "application/vnd.google.colaboratory.intrinsic+json": {
              "type": "string"
            }
          },
          "metadata": {}
        },
        {
          "output_type": "display_data",
          "data": {
            "text/plain": [
              "user_id       0\n",
              "first_date    0\n",
              "region        0\n",
              "device        0\n",
              "dtype: int64"
            ]
          },
          "metadata": {}
        },
        {
          "output_type": "display_data",
          "data": {
            "text/plain": [
              "'________________________________'"
            ],
            "application/vnd.google.colaboratory.intrinsic+json": {
              "type": "string"
            }
          },
          "metadata": {}
        },
        {
          "output_type": "display_data",
          "data": {
            "text/plain": [
              "'final_ab_events'"
            ],
            "application/vnd.google.colaboratory.intrinsic+json": {
              "type": "string"
            }
          },
          "metadata": {}
        },
        {
          "output_type": "stream",
          "name": "stdout",
          "text": [
            "<class 'pandas.core.frame.DataFrame'>\n",
            "RangeIndex: 440317 entries, 0 to 440316\n",
            "Data columns (total 4 columns):\n",
            " #   Column      Non-Null Count   Dtype         \n",
            "---  ------      --------------   -----         \n",
            " 0   user_id     440317 non-null  object        \n",
            " 1   event_dt    440317 non-null  datetime64[ns]\n",
            " 2   event_name  440317 non-null  object        \n",
            " 3   details     440317 non-null  float64       \n",
            "dtypes: datetime64[ns](1), float64(1), object(2)\n",
            "memory usage: 13.4+ MB\n"
          ]
        },
        {
          "output_type": "display_data",
          "data": {
            "text/plain": [
              "None"
            ]
          },
          "metadata": {}
        },
        {
          "output_type": "display_data",
          "data": {
            "text/plain": [
              "               user_id            event_dt event_name  details\n",
              "7263  57CBF68EAC19D275 2020-12-11 15:34:07   purchase     4.99"
            ],
            "text/html": [
              "\n",
              "  <div id=\"df-4501ee9e-7cf5-46f7-afdc-cabbc9d60fad\">\n",
              "    <div class=\"colab-df-container\">\n",
              "      <div>\n",
              "<style scoped>\n",
              "    .dataframe tbody tr th:only-of-type {\n",
              "        vertical-align: middle;\n",
              "    }\n",
              "\n",
              "    .dataframe tbody tr th {\n",
              "        vertical-align: top;\n",
              "    }\n",
              "\n",
              "    .dataframe thead th {\n",
              "        text-align: right;\n",
              "    }\n",
              "</style>\n",
              "<table border=\"1\" class=\"dataframe\">\n",
              "  <thead>\n",
              "    <tr style=\"text-align: right;\">\n",
              "      <th></th>\n",
              "      <th>user_id</th>\n",
              "      <th>event_dt</th>\n",
              "      <th>event_name</th>\n",
              "      <th>details</th>\n",
              "    </tr>\n",
              "  </thead>\n",
              "  <tbody>\n",
              "    <tr>\n",
              "      <th>7263</th>\n",
              "      <td>57CBF68EAC19D275</td>\n",
              "      <td>2020-12-11 15:34:07</td>\n",
              "      <td>purchase</td>\n",
              "      <td>4.99</td>\n",
              "    </tr>\n",
              "  </tbody>\n",
              "</table>\n",
              "</div>\n",
              "      <button class=\"colab-df-convert\" onclick=\"convertToInteractive('df-4501ee9e-7cf5-46f7-afdc-cabbc9d60fad')\"\n",
              "              title=\"Convert this dataframe to an interactive table.\"\n",
              "              style=\"display:none;\">\n",
              "        \n",
              "  <svg xmlns=\"http://www.w3.org/2000/svg\" height=\"24px\"viewBox=\"0 0 24 24\"\n",
              "       width=\"24px\">\n",
              "    <path d=\"M0 0h24v24H0V0z\" fill=\"none\"/>\n",
              "    <path d=\"M18.56 5.44l.94 2.06.94-2.06 2.06-.94-2.06-.94-.94-2.06-.94 2.06-2.06.94zm-11 1L8.5 8.5l.94-2.06 2.06-.94-2.06-.94L8.5 2.5l-.94 2.06-2.06.94zm10 10l.94 2.06.94-2.06 2.06-.94-2.06-.94-.94-2.06-.94 2.06-2.06.94z\"/><path d=\"M17.41 7.96l-1.37-1.37c-.4-.4-.92-.59-1.43-.59-.52 0-1.04.2-1.43.59L10.3 9.45l-7.72 7.72c-.78.78-.78 2.05 0 2.83L4 21.41c.39.39.9.59 1.41.59.51 0 1.02-.2 1.41-.59l7.78-7.78 2.81-2.81c.8-.78.8-2.07 0-2.86zM5.41 20L4 18.59l7.72-7.72 1.47 1.35L5.41 20z\"/>\n",
              "  </svg>\n",
              "      </button>\n",
              "      \n",
              "  <style>\n",
              "    .colab-df-container {\n",
              "      display:flex;\n",
              "      flex-wrap:wrap;\n",
              "      gap: 12px;\n",
              "    }\n",
              "\n",
              "    .colab-df-convert {\n",
              "      background-color: #E8F0FE;\n",
              "      border: none;\n",
              "      border-radius: 50%;\n",
              "      cursor: pointer;\n",
              "      display: none;\n",
              "      fill: #1967D2;\n",
              "      height: 32px;\n",
              "      padding: 0 0 0 0;\n",
              "      width: 32px;\n",
              "    }\n",
              "\n",
              "    .colab-df-convert:hover {\n",
              "      background-color: #E2EBFA;\n",
              "      box-shadow: 0px 1px 2px rgba(60, 64, 67, 0.3), 0px 1px 3px 1px rgba(60, 64, 67, 0.15);\n",
              "      fill: #174EA6;\n",
              "    }\n",
              "\n",
              "    [theme=dark] .colab-df-convert {\n",
              "      background-color: #3B4455;\n",
              "      fill: #D2E3FC;\n",
              "    }\n",
              "\n",
              "    [theme=dark] .colab-df-convert:hover {\n",
              "      background-color: #434B5C;\n",
              "      box-shadow: 0px 1px 3px 1px rgba(0, 0, 0, 0.15);\n",
              "      filter: drop-shadow(0px 1px 2px rgba(0, 0, 0, 0.3));\n",
              "      fill: #FFFFFF;\n",
              "    }\n",
              "  </style>\n",
              "\n",
              "      <script>\n",
              "        const buttonEl =\n",
              "          document.querySelector('#df-4501ee9e-7cf5-46f7-afdc-cabbc9d60fad button.colab-df-convert');\n",
              "        buttonEl.style.display =\n",
              "          google.colab.kernel.accessAllowed ? 'block' : 'none';\n",
              "\n",
              "        async function convertToInteractive(key) {\n",
              "          const element = document.querySelector('#df-4501ee9e-7cf5-46f7-afdc-cabbc9d60fad');\n",
              "          const dataTable =\n",
              "            await google.colab.kernel.invokeFunction('convertToInteractive',\n",
              "                                                     [key], {});\n",
              "          if (!dataTable) return;\n",
              "\n",
              "          const docLinkHtml = 'Like what you see? Visit the ' +\n",
              "            '<a target=\"_blank\" href=https://colab.research.google.com/notebooks/data_table.ipynb>data table notebook</a>'\n",
              "            + ' to learn more about interactive tables.';\n",
              "          element.innerHTML = '';\n",
              "          dataTable['output_type'] = 'display_data';\n",
              "          await google.colab.output.renderOutput(dataTable, element);\n",
              "          const docLink = document.createElement('div');\n",
              "          docLink.innerHTML = docLinkHtml;\n",
              "          element.appendChild(docLink);\n",
              "        }\n",
              "      </script>\n",
              "    </div>\n",
              "  </div>\n",
              "  "
            ]
          },
          "metadata": {}
        },
        {
          "output_type": "display_data",
          "data": {
            "text/plain": [
              "'наличие дубликатов - '"
            ],
            "application/vnd.google.colaboratory.intrinsic+json": {
              "type": "string"
            }
          },
          "metadata": {}
        },
        {
          "output_type": "display_data",
          "data": {
            "text/plain": [
              "0"
            ]
          },
          "metadata": {}
        },
        {
          "output_type": "display_data",
          "data": {
            "text/plain": [
              "'наличие пропусков - '"
            ],
            "application/vnd.google.colaboratory.intrinsic+json": {
              "type": "string"
            }
          },
          "metadata": {}
        },
        {
          "output_type": "display_data",
          "data": {
            "text/plain": [
              "user_id       0\n",
              "event_dt      0\n",
              "event_name    0\n",
              "details       0\n",
              "dtype: int64"
            ]
          },
          "metadata": {}
        },
        {
          "output_type": "display_data",
          "data": {
            "text/plain": [
              "'________________________________'"
            ],
            "application/vnd.google.colaboratory.intrinsic+json": {
              "type": "string"
            }
          },
          "metadata": {}
        },
        {
          "output_type": "display_data",
          "data": {
            "text/plain": [
              "'final_ab_participants'"
            ],
            "application/vnd.google.colaboratory.intrinsic+json": {
              "type": "string"
            }
          },
          "metadata": {}
        },
        {
          "output_type": "stream",
          "name": "stdout",
          "text": [
            "<class 'pandas.core.frame.DataFrame'>\n",
            "RangeIndex: 18268 entries, 0 to 18267\n",
            "Data columns (total 3 columns):\n",
            " #   Column   Non-Null Count  Dtype \n",
            "---  ------   --------------  ----- \n",
            " 0   user_id  18268 non-null  object\n",
            " 1   group    18268 non-null  object\n",
            " 2   ab_test  18268 non-null  object\n",
            "dtypes: object(3)\n",
            "memory usage: 428.3+ KB\n"
          ]
        },
        {
          "output_type": "display_data",
          "data": {
            "text/plain": [
              "None"
            ]
          },
          "metadata": {}
        },
        {
          "output_type": "display_data",
          "data": {
            "text/plain": [
              "                user_id group            ab_test\n",
              "17829  BDD0564F61158B4E     A  interface_eu_test"
            ],
            "text/html": [
              "\n",
              "  <div id=\"df-b8918af7-40ef-48ff-9df1-a1d56478ddbd\">\n",
              "    <div class=\"colab-df-container\">\n",
              "      <div>\n",
              "<style scoped>\n",
              "    .dataframe tbody tr th:only-of-type {\n",
              "        vertical-align: middle;\n",
              "    }\n",
              "\n",
              "    .dataframe tbody tr th {\n",
              "        vertical-align: top;\n",
              "    }\n",
              "\n",
              "    .dataframe thead th {\n",
              "        text-align: right;\n",
              "    }\n",
              "</style>\n",
              "<table border=\"1\" class=\"dataframe\">\n",
              "  <thead>\n",
              "    <tr style=\"text-align: right;\">\n",
              "      <th></th>\n",
              "      <th>user_id</th>\n",
              "      <th>group</th>\n",
              "      <th>ab_test</th>\n",
              "    </tr>\n",
              "  </thead>\n",
              "  <tbody>\n",
              "    <tr>\n",
              "      <th>17829</th>\n",
              "      <td>BDD0564F61158B4E</td>\n",
              "      <td>A</td>\n",
              "      <td>interface_eu_test</td>\n",
              "    </tr>\n",
              "  </tbody>\n",
              "</table>\n",
              "</div>\n",
              "      <button class=\"colab-df-convert\" onclick=\"convertToInteractive('df-b8918af7-40ef-48ff-9df1-a1d56478ddbd')\"\n",
              "              title=\"Convert this dataframe to an interactive table.\"\n",
              "              style=\"display:none;\">\n",
              "        \n",
              "  <svg xmlns=\"http://www.w3.org/2000/svg\" height=\"24px\"viewBox=\"0 0 24 24\"\n",
              "       width=\"24px\">\n",
              "    <path d=\"M0 0h24v24H0V0z\" fill=\"none\"/>\n",
              "    <path d=\"M18.56 5.44l.94 2.06.94-2.06 2.06-.94-2.06-.94-.94-2.06-.94 2.06-2.06.94zm-11 1L8.5 8.5l.94-2.06 2.06-.94-2.06-.94L8.5 2.5l-.94 2.06-2.06.94zm10 10l.94 2.06.94-2.06 2.06-.94-2.06-.94-.94-2.06-.94 2.06-2.06.94z\"/><path d=\"M17.41 7.96l-1.37-1.37c-.4-.4-.92-.59-1.43-.59-.52 0-1.04.2-1.43.59L10.3 9.45l-7.72 7.72c-.78.78-.78 2.05 0 2.83L4 21.41c.39.39.9.59 1.41.59.51 0 1.02-.2 1.41-.59l7.78-7.78 2.81-2.81c.8-.78.8-2.07 0-2.86zM5.41 20L4 18.59l7.72-7.72 1.47 1.35L5.41 20z\"/>\n",
              "  </svg>\n",
              "      </button>\n",
              "      \n",
              "  <style>\n",
              "    .colab-df-container {\n",
              "      display:flex;\n",
              "      flex-wrap:wrap;\n",
              "      gap: 12px;\n",
              "    }\n",
              "\n",
              "    .colab-df-convert {\n",
              "      background-color: #E8F0FE;\n",
              "      border: none;\n",
              "      border-radius: 50%;\n",
              "      cursor: pointer;\n",
              "      display: none;\n",
              "      fill: #1967D2;\n",
              "      height: 32px;\n",
              "      padding: 0 0 0 0;\n",
              "      width: 32px;\n",
              "    }\n",
              "\n",
              "    .colab-df-convert:hover {\n",
              "      background-color: #E2EBFA;\n",
              "      box-shadow: 0px 1px 2px rgba(60, 64, 67, 0.3), 0px 1px 3px 1px rgba(60, 64, 67, 0.15);\n",
              "      fill: #174EA6;\n",
              "    }\n",
              "\n",
              "    [theme=dark] .colab-df-convert {\n",
              "      background-color: #3B4455;\n",
              "      fill: #D2E3FC;\n",
              "    }\n",
              "\n",
              "    [theme=dark] .colab-df-convert:hover {\n",
              "      background-color: #434B5C;\n",
              "      box-shadow: 0px 1px 3px 1px rgba(0, 0, 0, 0.15);\n",
              "      filter: drop-shadow(0px 1px 2px rgba(0, 0, 0, 0.3));\n",
              "      fill: #FFFFFF;\n",
              "    }\n",
              "  </style>\n",
              "\n",
              "      <script>\n",
              "        const buttonEl =\n",
              "          document.querySelector('#df-b8918af7-40ef-48ff-9df1-a1d56478ddbd button.colab-df-convert');\n",
              "        buttonEl.style.display =\n",
              "          google.colab.kernel.accessAllowed ? 'block' : 'none';\n",
              "\n",
              "        async function convertToInteractive(key) {\n",
              "          const element = document.querySelector('#df-b8918af7-40ef-48ff-9df1-a1d56478ddbd');\n",
              "          const dataTable =\n",
              "            await google.colab.kernel.invokeFunction('convertToInteractive',\n",
              "                                                     [key], {});\n",
              "          if (!dataTable) return;\n",
              "\n",
              "          const docLinkHtml = 'Like what you see? Visit the ' +\n",
              "            '<a target=\"_blank\" href=https://colab.research.google.com/notebooks/data_table.ipynb>data table notebook</a>'\n",
              "            + ' to learn more about interactive tables.';\n",
              "          element.innerHTML = '';\n",
              "          dataTable['output_type'] = 'display_data';\n",
              "          await google.colab.output.renderOutput(dataTable, element);\n",
              "          const docLink = document.createElement('div');\n",
              "          docLink.innerHTML = docLinkHtml;\n",
              "          element.appendChild(docLink);\n",
              "        }\n",
              "      </script>\n",
              "    </div>\n",
              "  </div>\n",
              "  "
            ]
          },
          "metadata": {}
        },
        {
          "output_type": "display_data",
          "data": {
            "text/plain": [
              "'наличие дубликатов - '"
            ],
            "application/vnd.google.colaboratory.intrinsic+json": {
              "type": "string"
            }
          },
          "metadata": {}
        },
        {
          "output_type": "display_data",
          "data": {
            "text/plain": [
              "0"
            ]
          },
          "metadata": {}
        },
        {
          "output_type": "display_data",
          "data": {
            "text/plain": [
              "'наличие пропусков - '"
            ],
            "application/vnd.google.colaboratory.intrinsic+json": {
              "type": "string"
            }
          },
          "metadata": {}
        },
        {
          "output_type": "display_data",
          "data": {
            "text/plain": [
              "user_id    0\n",
              "group      0\n",
              "ab_test    0\n",
              "dtype: int64"
            ]
          },
          "metadata": {}
        },
        {
          "output_type": "display_data",
          "data": {
            "text/plain": [
              "'________________________________'"
            ],
            "application/vnd.google.colaboratory.intrinsic+json": {
              "type": "string"
            }
          },
          "metadata": {}
        }
      ],
      "source": [
        "i=0\n",
        "for t in [ab_project_marketing_events, final_ab_new_users, final_ab_events, final_ab_participants]:\n",
        "    display()\n",
        "    display(ds_name[i])\n",
        "    display()\n",
        "    display(t.info())\n",
        "    display(t.sample(1))\n",
        "    display('наличие дубликатов - ', t.duplicated().sum())\n",
        "    display('наличие пропусков - ', t.isnull().sum())\n",
        "    i=i+1\n",
        "    display('________________________________')"
      ]
    },
    {
      "cell_type": "markdown",
      "metadata": {
        "id": "yVdy71yDSLUk"
      },
      "source": [
        "### Промежуточные выводы"
      ]
    },
    {
      "cell_type": "markdown",
      "metadata": {
        "id": "QVgAshDWSLUk"
      },
      "source": [
        "Исходные данные приведены в соответствие правилам Python, типы соответствуют названиям.\n",
        "\n",
        "### Расшифровка данных в датасетах\n",
        "\n",
        "Посмотрим на качество данных в каждом датасете:"
      ]
    },
    {
      "cell_type": "code",
      "execution_count": null,
      "metadata": {
        "id": "S9EJvQqcSLUl",
        "outputId": "0cbbbb29-9f0d-4d89-c789-8d97052c2a27",
        "colab": {
          "base_uri": "https://localhost:8080/",
          "height": 488
        }
      },
      "outputs": [
        {
          "output_type": "execute_result",
          "data": {
            "text/plain": [
              "                                name                   regions   start_dt  \\\n",
              "0           Christmas&New Year Promo             EU, N.America 2020-12-25   \n",
              "1       St. Valentine's Day Giveaway  EU, CIS, APAC, N.America 2020-02-14   \n",
              "2             St. Patric's Day Promo             EU, N.America 2020-03-17   \n",
              "3                       Easter Promo  EU, CIS, APAC, N.America 2020-04-12   \n",
              "4                  4th of July Promo                 N.America 2020-07-04   \n",
              "5          Black Friday Ads Campaign  EU, CIS, APAC, N.America 2020-11-26   \n",
              "6             Chinese New Year Promo                      APAC 2020-01-25   \n",
              "7   Labor day (May 1st) Ads Campaign             EU, CIS, APAC 2020-05-01   \n",
              "8    International Women's Day Promo             EU, CIS, APAC 2020-03-08   \n",
              "9    Victory Day CIS (May 9th) Event                       CIS 2020-05-09   \n",
              "10         CIS New Year Gift Lottery                       CIS 2020-12-30   \n",
              "11     Dragon Boat Festival Giveaway                      APAC 2020-06-25   \n",
              "12           Single's Day Gift Promo                      APAC 2020-11-11   \n",
              "13             Chinese Moon Festival                      APAC 2020-10-01   \n",
              "\n",
              "    finish_dt  \n",
              "0  2021-01-03  \n",
              "1  2020-02-16  \n",
              "2  2020-03-19  \n",
              "3  2020-04-19  \n",
              "4  2020-07-11  \n",
              "5  2020-12-01  \n",
              "6  2020-02-07  \n",
              "7  2020-05-03  \n",
              "8  2020-03-10  \n",
              "9  2020-05-11  \n",
              "10 2021-01-07  \n",
              "11 2020-07-01  \n",
              "12 2020-11-12  \n",
              "13 2020-10-07  "
            ],
            "text/html": [
              "\n",
              "  <div id=\"df-9953ae52-7857-412b-a342-0e2ae035d121\">\n",
              "    <div class=\"colab-df-container\">\n",
              "      <div>\n",
              "<style scoped>\n",
              "    .dataframe tbody tr th:only-of-type {\n",
              "        vertical-align: middle;\n",
              "    }\n",
              "\n",
              "    .dataframe tbody tr th {\n",
              "        vertical-align: top;\n",
              "    }\n",
              "\n",
              "    .dataframe thead th {\n",
              "        text-align: right;\n",
              "    }\n",
              "</style>\n",
              "<table border=\"1\" class=\"dataframe\">\n",
              "  <thead>\n",
              "    <tr style=\"text-align: right;\">\n",
              "      <th></th>\n",
              "      <th>name</th>\n",
              "      <th>regions</th>\n",
              "      <th>start_dt</th>\n",
              "      <th>finish_dt</th>\n",
              "    </tr>\n",
              "  </thead>\n",
              "  <tbody>\n",
              "    <tr>\n",
              "      <th>0</th>\n",
              "      <td>Christmas&amp;New Year Promo</td>\n",
              "      <td>EU, N.America</td>\n",
              "      <td>2020-12-25</td>\n",
              "      <td>2021-01-03</td>\n",
              "    </tr>\n",
              "    <tr>\n",
              "      <th>1</th>\n",
              "      <td>St. Valentine's Day Giveaway</td>\n",
              "      <td>EU, CIS, APAC, N.America</td>\n",
              "      <td>2020-02-14</td>\n",
              "      <td>2020-02-16</td>\n",
              "    </tr>\n",
              "    <tr>\n",
              "      <th>2</th>\n",
              "      <td>St. Patric's Day Promo</td>\n",
              "      <td>EU, N.America</td>\n",
              "      <td>2020-03-17</td>\n",
              "      <td>2020-03-19</td>\n",
              "    </tr>\n",
              "    <tr>\n",
              "      <th>3</th>\n",
              "      <td>Easter Promo</td>\n",
              "      <td>EU, CIS, APAC, N.America</td>\n",
              "      <td>2020-04-12</td>\n",
              "      <td>2020-04-19</td>\n",
              "    </tr>\n",
              "    <tr>\n",
              "      <th>4</th>\n",
              "      <td>4th of July Promo</td>\n",
              "      <td>N.America</td>\n",
              "      <td>2020-07-04</td>\n",
              "      <td>2020-07-11</td>\n",
              "    </tr>\n",
              "    <tr>\n",
              "      <th>5</th>\n",
              "      <td>Black Friday Ads Campaign</td>\n",
              "      <td>EU, CIS, APAC, N.America</td>\n",
              "      <td>2020-11-26</td>\n",
              "      <td>2020-12-01</td>\n",
              "    </tr>\n",
              "    <tr>\n",
              "      <th>6</th>\n",
              "      <td>Chinese New Year Promo</td>\n",
              "      <td>APAC</td>\n",
              "      <td>2020-01-25</td>\n",
              "      <td>2020-02-07</td>\n",
              "    </tr>\n",
              "    <tr>\n",
              "      <th>7</th>\n",
              "      <td>Labor day (May 1st) Ads Campaign</td>\n",
              "      <td>EU, CIS, APAC</td>\n",
              "      <td>2020-05-01</td>\n",
              "      <td>2020-05-03</td>\n",
              "    </tr>\n",
              "    <tr>\n",
              "      <th>8</th>\n",
              "      <td>International Women's Day Promo</td>\n",
              "      <td>EU, CIS, APAC</td>\n",
              "      <td>2020-03-08</td>\n",
              "      <td>2020-03-10</td>\n",
              "    </tr>\n",
              "    <tr>\n",
              "      <th>9</th>\n",
              "      <td>Victory Day CIS (May 9th) Event</td>\n",
              "      <td>CIS</td>\n",
              "      <td>2020-05-09</td>\n",
              "      <td>2020-05-11</td>\n",
              "    </tr>\n",
              "    <tr>\n",
              "      <th>10</th>\n",
              "      <td>CIS New Year Gift Lottery</td>\n",
              "      <td>CIS</td>\n",
              "      <td>2020-12-30</td>\n",
              "      <td>2021-01-07</td>\n",
              "    </tr>\n",
              "    <tr>\n",
              "      <th>11</th>\n",
              "      <td>Dragon Boat Festival Giveaway</td>\n",
              "      <td>APAC</td>\n",
              "      <td>2020-06-25</td>\n",
              "      <td>2020-07-01</td>\n",
              "    </tr>\n",
              "    <tr>\n",
              "      <th>12</th>\n",
              "      <td>Single's Day Gift Promo</td>\n",
              "      <td>APAC</td>\n",
              "      <td>2020-11-11</td>\n",
              "      <td>2020-11-12</td>\n",
              "    </tr>\n",
              "    <tr>\n",
              "      <th>13</th>\n",
              "      <td>Chinese Moon Festival</td>\n",
              "      <td>APAC</td>\n",
              "      <td>2020-10-01</td>\n",
              "      <td>2020-10-07</td>\n",
              "    </tr>\n",
              "  </tbody>\n",
              "</table>\n",
              "</div>\n",
              "      <button class=\"colab-df-convert\" onclick=\"convertToInteractive('df-9953ae52-7857-412b-a342-0e2ae035d121')\"\n",
              "              title=\"Convert this dataframe to an interactive table.\"\n",
              "              style=\"display:none;\">\n",
              "        \n",
              "  <svg xmlns=\"http://www.w3.org/2000/svg\" height=\"24px\"viewBox=\"0 0 24 24\"\n",
              "       width=\"24px\">\n",
              "    <path d=\"M0 0h24v24H0V0z\" fill=\"none\"/>\n",
              "    <path d=\"M18.56 5.44l.94 2.06.94-2.06 2.06-.94-2.06-.94-.94-2.06-.94 2.06-2.06.94zm-11 1L8.5 8.5l.94-2.06 2.06-.94-2.06-.94L8.5 2.5l-.94 2.06-2.06.94zm10 10l.94 2.06.94-2.06 2.06-.94-2.06-.94-.94-2.06-.94 2.06-2.06.94z\"/><path d=\"M17.41 7.96l-1.37-1.37c-.4-.4-.92-.59-1.43-.59-.52 0-1.04.2-1.43.59L10.3 9.45l-7.72 7.72c-.78.78-.78 2.05 0 2.83L4 21.41c.39.39.9.59 1.41.59.51 0 1.02-.2 1.41-.59l7.78-7.78 2.81-2.81c.8-.78.8-2.07 0-2.86zM5.41 20L4 18.59l7.72-7.72 1.47 1.35L5.41 20z\"/>\n",
              "  </svg>\n",
              "      </button>\n",
              "      \n",
              "  <style>\n",
              "    .colab-df-container {\n",
              "      display:flex;\n",
              "      flex-wrap:wrap;\n",
              "      gap: 12px;\n",
              "    }\n",
              "\n",
              "    .colab-df-convert {\n",
              "      background-color: #E8F0FE;\n",
              "      border: none;\n",
              "      border-radius: 50%;\n",
              "      cursor: pointer;\n",
              "      display: none;\n",
              "      fill: #1967D2;\n",
              "      height: 32px;\n",
              "      padding: 0 0 0 0;\n",
              "      width: 32px;\n",
              "    }\n",
              "\n",
              "    .colab-df-convert:hover {\n",
              "      background-color: #E2EBFA;\n",
              "      box-shadow: 0px 1px 2px rgba(60, 64, 67, 0.3), 0px 1px 3px 1px rgba(60, 64, 67, 0.15);\n",
              "      fill: #174EA6;\n",
              "    }\n",
              "\n",
              "    [theme=dark] .colab-df-convert {\n",
              "      background-color: #3B4455;\n",
              "      fill: #D2E3FC;\n",
              "    }\n",
              "\n",
              "    [theme=dark] .colab-df-convert:hover {\n",
              "      background-color: #434B5C;\n",
              "      box-shadow: 0px 1px 3px 1px rgba(0, 0, 0, 0.15);\n",
              "      filter: drop-shadow(0px 1px 2px rgba(0, 0, 0, 0.3));\n",
              "      fill: #FFFFFF;\n",
              "    }\n",
              "  </style>\n",
              "\n",
              "      <script>\n",
              "        const buttonEl =\n",
              "          document.querySelector('#df-9953ae52-7857-412b-a342-0e2ae035d121 button.colab-df-convert');\n",
              "        buttonEl.style.display =\n",
              "          google.colab.kernel.accessAllowed ? 'block' : 'none';\n",
              "\n",
              "        async function convertToInteractive(key) {\n",
              "          const element = document.querySelector('#df-9953ae52-7857-412b-a342-0e2ae035d121');\n",
              "          const dataTable =\n",
              "            await google.colab.kernel.invokeFunction('convertToInteractive',\n",
              "                                                     [key], {});\n",
              "          if (!dataTable) return;\n",
              "\n",
              "          const docLinkHtml = 'Like what you see? Visit the ' +\n",
              "            '<a target=\"_blank\" href=https://colab.research.google.com/notebooks/data_table.ipynb>data table notebook</a>'\n",
              "            + ' to learn more about interactive tables.';\n",
              "          element.innerHTML = '';\n",
              "          dataTable['output_type'] = 'display_data';\n",
              "          await google.colab.output.renderOutput(dataTable, element);\n",
              "          const docLink = document.createElement('div');\n",
              "          docLink.innerHTML = docLinkHtml;\n",
              "          element.appendChild(docLink);\n",
              "        }\n",
              "      </script>\n",
              "    </div>\n",
              "  </div>\n",
              "  "
            ]
          },
          "metadata": {},
          "execution_count": 13
        }
      ],
      "source": [
        "ab_project_marketing_events"
      ]
    },
    {
      "cell_type": "markdown",
      "metadata": {
        "id": "6oiUnBLrSLUl"
      },
      "source": [
        "Это был -***Календарь маркетинговых событий на 2020 год***\n",
        "\n",
        "Структура файла:\n",
        "\n",
        "- name — название маркетингового события;\n",
        "- regions — регионы, в которых будет проводиться рекламная кампания;\n",
        "- start_dt — дата начала кампании;\n",
        "- finish_dt — дата завершения кампании.\n"
      ]
    },
    {
      "cell_type": "code",
      "execution_count": null,
      "metadata": {
        "id": "rTw-2vYWSLUl",
        "outputId": "15b4ea7f-12bf-4bc3-f321-a466af7565b5",
        "colab": {
          "base_uri": "https://localhost:8080/",
          "height": 424
        }
      },
      "outputs": [
        {
          "output_type": "execute_result",
          "data": {
            "text/plain": [
              "                user_id first_date     region   device\n",
              "0      D72A72121175D8BE 2020-12-07         EU       PC\n",
              "1      F1C668619DFE6E65 2020-12-07  N.America  Android\n",
              "2      2E1BF1D4C37EA01F 2020-12-07         EU       PC\n",
              "3      50734A22C0C63768 2020-12-07         EU   iPhone\n",
              "4      E1BDDCE0DAFA2679 2020-12-07  N.America   iPhone\n",
              "...                 ...        ...        ...      ...\n",
              "61728  1DB53B933257165D 2020-12-20         EU  Android\n",
              "61729  538643EB4527ED03 2020-12-20         EU      Mac\n",
              "61730  7ADEE837D5D8CBBD 2020-12-20         EU       PC\n",
              "61731  1C7D23927835213F 2020-12-20         EU   iPhone\n",
              "61732  8F04273BB2860229 2020-12-20         EU  Android\n",
              "\n",
              "[61733 rows x 4 columns]"
            ],
            "text/html": [
              "\n",
              "  <div id=\"df-ef19efa6-78b3-43c5-9824-3e1d18a9987d\">\n",
              "    <div class=\"colab-df-container\">\n",
              "      <div>\n",
              "<style scoped>\n",
              "    .dataframe tbody tr th:only-of-type {\n",
              "        vertical-align: middle;\n",
              "    }\n",
              "\n",
              "    .dataframe tbody tr th {\n",
              "        vertical-align: top;\n",
              "    }\n",
              "\n",
              "    .dataframe thead th {\n",
              "        text-align: right;\n",
              "    }\n",
              "</style>\n",
              "<table border=\"1\" class=\"dataframe\">\n",
              "  <thead>\n",
              "    <tr style=\"text-align: right;\">\n",
              "      <th></th>\n",
              "      <th>user_id</th>\n",
              "      <th>first_date</th>\n",
              "      <th>region</th>\n",
              "      <th>device</th>\n",
              "    </tr>\n",
              "  </thead>\n",
              "  <tbody>\n",
              "    <tr>\n",
              "      <th>0</th>\n",
              "      <td>D72A72121175D8BE</td>\n",
              "      <td>2020-12-07</td>\n",
              "      <td>EU</td>\n",
              "      <td>PC</td>\n",
              "    </tr>\n",
              "    <tr>\n",
              "      <th>1</th>\n",
              "      <td>F1C668619DFE6E65</td>\n",
              "      <td>2020-12-07</td>\n",
              "      <td>N.America</td>\n",
              "      <td>Android</td>\n",
              "    </tr>\n",
              "    <tr>\n",
              "      <th>2</th>\n",
              "      <td>2E1BF1D4C37EA01F</td>\n",
              "      <td>2020-12-07</td>\n",
              "      <td>EU</td>\n",
              "      <td>PC</td>\n",
              "    </tr>\n",
              "    <tr>\n",
              "      <th>3</th>\n",
              "      <td>50734A22C0C63768</td>\n",
              "      <td>2020-12-07</td>\n",
              "      <td>EU</td>\n",
              "      <td>iPhone</td>\n",
              "    </tr>\n",
              "    <tr>\n",
              "      <th>4</th>\n",
              "      <td>E1BDDCE0DAFA2679</td>\n",
              "      <td>2020-12-07</td>\n",
              "      <td>N.America</td>\n",
              "      <td>iPhone</td>\n",
              "    </tr>\n",
              "    <tr>\n",
              "      <th>...</th>\n",
              "      <td>...</td>\n",
              "      <td>...</td>\n",
              "      <td>...</td>\n",
              "      <td>...</td>\n",
              "    </tr>\n",
              "    <tr>\n",
              "      <th>61728</th>\n",
              "      <td>1DB53B933257165D</td>\n",
              "      <td>2020-12-20</td>\n",
              "      <td>EU</td>\n",
              "      <td>Android</td>\n",
              "    </tr>\n",
              "    <tr>\n",
              "      <th>61729</th>\n",
              "      <td>538643EB4527ED03</td>\n",
              "      <td>2020-12-20</td>\n",
              "      <td>EU</td>\n",
              "      <td>Mac</td>\n",
              "    </tr>\n",
              "    <tr>\n",
              "      <th>61730</th>\n",
              "      <td>7ADEE837D5D8CBBD</td>\n",
              "      <td>2020-12-20</td>\n",
              "      <td>EU</td>\n",
              "      <td>PC</td>\n",
              "    </tr>\n",
              "    <tr>\n",
              "      <th>61731</th>\n",
              "      <td>1C7D23927835213F</td>\n",
              "      <td>2020-12-20</td>\n",
              "      <td>EU</td>\n",
              "      <td>iPhone</td>\n",
              "    </tr>\n",
              "    <tr>\n",
              "      <th>61732</th>\n",
              "      <td>8F04273BB2860229</td>\n",
              "      <td>2020-12-20</td>\n",
              "      <td>EU</td>\n",
              "      <td>Android</td>\n",
              "    </tr>\n",
              "  </tbody>\n",
              "</table>\n",
              "<p>61733 rows × 4 columns</p>\n",
              "</div>\n",
              "      <button class=\"colab-df-convert\" onclick=\"convertToInteractive('df-ef19efa6-78b3-43c5-9824-3e1d18a9987d')\"\n",
              "              title=\"Convert this dataframe to an interactive table.\"\n",
              "              style=\"display:none;\">\n",
              "        \n",
              "  <svg xmlns=\"http://www.w3.org/2000/svg\" height=\"24px\"viewBox=\"0 0 24 24\"\n",
              "       width=\"24px\">\n",
              "    <path d=\"M0 0h24v24H0V0z\" fill=\"none\"/>\n",
              "    <path d=\"M18.56 5.44l.94 2.06.94-2.06 2.06-.94-2.06-.94-.94-2.06-.94 2.06-2.06.94zm-11 1L8.5 8.5l.94-2.06 2.06-.94-2.06-.94L8.5 2.5l-.94 2.06-2.06.94zm10 10l.94 2.06.94-2.06 2.06-.94-2.06-.94-.94-2.06-.94 2.06-2.06.94z\"/><path d=\"M17.41 7.96l-1.37-1.37c-.4-.4-.92-.59-1.43-.59-.52 0-1.04.2-1.43.59L10.3 9.45l-7.72 7.72c-.78.78-.78 2.05 0 2.83L4 21.41c.39.39.9.59 1.41.59.51 0 1.02-.2 1.41-.59l7.78-7.78 2.81-2.81c.8-.78.8-2.07 0-2.86zM5.41 20L4 18.59l7.72-7.72 1.47 1.35L5.41 20z\"/>\n",
              "  </svg>\n",
              "      </button>\n",
              "      \n",
              "  <style>\n",
              "    .colab-df-container {\n",
              "      display:flex;\n",
              "      flex-wrap:wrap;\n",
              "      gap: 12px;\n",
              "    }\n",
              "\n",
              "    .colab-df-convert {\n",
              "      background-color: #E8F0FE;\n",
              "      border: none;\n",
              "      border-radius: 50%;\n",
              "      cursor: pointer;\n",
              "      display: none;\n",
              "      fill: #1967D2;\n",
              "      height: 32px;\n",
              "      padding: 0 0 0 0;\n",
              "      width: 32px;\n",
              "    }\n",
              "\n",
              "    .colab-df-convert:hover {\n",
              "      background-color: #E2EBFA;\n",
              "      box-shadow: 0px 1px 2px rgba(60, 64, 67, 0.3), 0px 1px 3px 1px rgba(60, 64, 67, 0.15);\n",
              "      fill: #174EA6;\n",
              "    }\n",
              "\n",
              "    [theme=dark] .colab-df-convert {\n",
              "      background-color: #3B4455;\n",
              "      fill: #D2E3FC;\n",
              "    }\n",
              "\n",
              "    [theme=dark] .colab-df-convert:hover {\n",
              "      background-color: #434B5C;\n",
              "      box-shadow: 0px 1px 3px 1px rgba(0, 0, 0, 0.15);\n",
              "      filter: drop-shadow(0px 1px 2px rgba(0, 0, 0, 0.3));\n",
              "      fill: #FFFFFF;\n",
              "    }\n",
              "  </style>\n",
              "\n",
              "      <script>\n",
              "        const buttonEl =\n",
              "          document.querySelector('#df-ef19efa6-78b3-43c5-9824-3e1d18a9987d button.colab-df-convert');\n",
              "        buttonEl.style.display =\n",
              "          google.colab.kernel.accessAllowed ? 'block' : 'none';\n",
              "\n",
              "        async function convertToInteractive(key) {\n",
              "          const element = document.querySelector('#df-ef19efa6-78b3-43c5-9824-3e1d18a9987d');\n",
              "          const dataTable =\n",
              "            await google.colab.kernel.invokeFunction('convertToInteractive',\n",
              "                                                     [key], {});\n",
              "          if (!dataTable) return;\n",
              "\n",
              "          const docLinkHtml = 'Like what you see? Visit the ' +\n",
              "            '<a target=\"_blank\" href=https://colab.research.google.com/notebooks/data_table.ipynb>data table notebook</a>'\n",
              "            + ' to learn more about interactive tables.';\n",
              "          element.innerHTML = '';\n",
              "          dataTable['output_type'] = 'display_data';\n",
              "          await google.colab.output.renderOutput(dataTable, element);\n",
              "          const docLink = document.createElement('div');\n",
              "          docLink.innerHTML = docLinkHtml;\n",
              "          element.appendChild(docLink);\n",
              "        }\n",
              "      </script>\n",
              "    </div>\n",
              "  </div>\n",
              "  "
            ]
          },
          "metadata": {},
          "execution_count": 14
        }
      ],
      "source": [
        "final_ab_new_users"
      ]
    },
    {
      "cell_type": "markdown",
      "metadata": {
        "id": "r25qeYhWSLUm"
      },
      "source": [
        "Это были - ***Все пользователи, зарегистрировавшиеся в интернет-магазине в период с 7 по 21 декабря 2020 года***\n",
        "\n",
        "Структура файла:\n",
        "\n",
        "- user_id — идентификатор пользователя;\n",
        "- first_date — дата регистрации;\n",
        "- region — регион пользователя;\n",
        "- device — устройство, с которого происходила регистрация.\n",
        "\n",
        "фактически сложенные в один файл профили участников теста"
      ]
    },
    {
      "cell_type": "code",
      "execution_count": null,
      "metadata": {
        "id": "GoBSeEtzSLUt",
        "outputId": "bdcaa5db-252c-43ca-8e29-b80886010686",
        "colab": {
          "base_uri": "https://localhost:8080/",
          "height": 424
        }
      },
      "outputs": [
        {
          "output_type": "execute_result",
          "data": {
            "text/plain": [
              "                 user_id            event_dt event_name  details\n",
              "0       E1BDDCE0DAFA2679 2020-12-07 20:22:03   purchase    99.99\n",
              "1       7B6452F081F49504 2020-12-07 09:22:53   purchase     9.99\n",
              "2       9CD9F34546DF254C 2020-12-07 12:59:29   purchase     4.99\n",
              "3       96F27A054B191457 2020-12-07 04:02:40   purchase     4.99\n",
              "4       1FD7660FDF94CA1F 2020-12-07 10:15:09   purchase     4.99\n",
              "...                  ...                 ...        ...      ...\n",
              "440312  245E85F65C358E08 2020-12-30 19:35:55      login     0.00\n",
              "440313  9385A108F5A0A7A7 2020-12-30 10:54:15      login     0.00\n",
              "440314  DB650B7559AC6EAC 2020-12-30 10:59:09      login     0.00\n",
              "440315  F80C9BDDEA02E53C 2020-12-30 09:53:39      login     0.00\n",
              "440316  7AEC61159B672CC5 2020-12-30 11:36:13      login     0.00\n",
              "\n",
              "[440317 rows x 4 columns]"
            ],
            "text/html": [
              "\n",
              "  <div id=\"df-ce67130d-52e2-4a9d-94fc-65768d992c6e\">\n",
              "    <div class=\"colab-df-container\">\n",
              "      <div>\n",
              "<style scoped>\n",
              "    .dataframe tbody tr th:only-of-type {\n",
              "        vertical-align: middle;\n",
              "    }\n",
              "\n",
              "    .dataframe tbody tr th {\n",
              "        vertical-align: top;\n",
              "    }\n",
              "\n",
              "    .dataframe thead th {\n",
              "        text-align: right;\n",
              "    }\n",
              "</style>\n",
              "<table border=\"1\" class=\"dataframe\">\n",
              "  <thead>\n",
              "    <tr style=\"text-align: right;\">\n",
              "      <th></th>\n",
              "      <th>user_id</th>\n",
              "      <th>event_dt</th>\n",
              "      <th>event_name</th>\n",
              "      <th>details</th>\n",
              "    </tr>\n",
              "  </thead>\n",
              "  <tbody>\n",
              "    <tr>\n",
              "      <th>0</th>\n",
              "      <td>E1BDDCE0DAFA2679</td>\n",
              "      <td>2020-12-07 20:22:03</td>\n",
              "      <td>purchase</td>\n",
              "      <td>99.99</td>\n",
              "    </tr>\n",
              "    <tr>\n",
              "      <th>1</th>\n",
              "      <td>7B6452F081F49504</td>\n",
              "      <td>2020-12-07 09:22:53</td>\n",
              "      <td>purchase</td>\n",
              "      <td>9.99</td>\n",
              "    </tr>\n",
              "    <tr>\n",
              "      <th>2</th>\n",
              "      <td>9CD9F34546DF254C</td>\n",
              "      <td>2020-12-07 12:59:29</td>\n",
              "      <td>purchase</td>\n",
              "      <td>4.99</td>\n",
              "    </tr>\n",
              "    <tr>\n",
              "      <th>3</th>\n",
              "      <td>96F27A054B191457</td>\n",
              "      <td>2020-12-07 04:02:40</td>\n",
              "      <td>purchase</td>\n",
              "      <td>4.99</td>\n",
              "    </tr>\n",
              "    <tr>\n",
              "      <th>4</th>\n",
              "      <td>1FD7660FDF94CA1F</td>\n",
              "      <td>2020-12-07 10:15:09</td>\n",
              "      <td>purchase</td>\n",
              "      <td>4.99</td>\n",
              "    </tr>\n",
              "    <tr>\n",
              "      <th>...</th>\n",
              "      <td>...</td>\n",
              "      <td>...</td>\n",
              "      <td>...</td>\n",
              "      <td>...</td>\n",
              "    </tr>\n",
              "    <tr>\n",
              "      <th>440312</th>\n",
              "      <td>245E85F65C358E08</td>\n",
              "      <td>2020-12-30 19:35:55</td>\n",
              "      <td>login</td>\n",
              "      <td>0.00</td>\n",
              "    </tr>\n",
              "    <tr>\n",
              "      <th>440313</th>\n",
              "      <td>9385A108F5A0A7A7</td>\n",
              "      <td>2020-12-30 10:54:15</td>\n",
              "      <td>login</td>\n",
              "      <td>0.00</td>\n",
              "    </tr>\n",
              "    <tr>\n",
              "      <th>440314</th>\n",
              "      <td>DB650B7559AC6EAC</td>\n",
              "      <td>2020-12-30 10:59:09</td>\n",
              "      <td>login</td>\n",
              "      <td>0.00</td>\n",
              "    </tr>\n",
              "    <tr>\n",
              "      <th>440315</th>\n",
              "      <td>F80C9BDDEA02E53C</td>\n",
              "      <td>2020-12-30 09:53:39</td>\n",
              "      <td>login</td>\n",
              "      <td>0.00</td>\n",
              "    </tr>\n",
              "    <tr>\n",
              "      <th>440316</th>\n",
              "      <td>7AEC61159B672CC5</td>\n",
              "      <td>2020-12-30 11:36:13</td>\n",
              "      <td>login</td>\n",
              "      <td>0.00</td>\n",
              "    </tr>\n",
              "  </tbody>\n",
              "</table>\n",
              "<p>440317 rows × 4 columns</p>\n",
              "</div>\n",
              "      <button class=\"colab-df-convert\" onclick=\"convertToInteractive('df-ce67130d-52e2-4a9d-94fc-65768d992c6e')\"\n",
              "              title=\"Convert this dataframe to an interactive table.\"\n",
              "              style=\"display:none;\">\n",
              "        \n",
              "  <svg xmlns=\"http://www.w3.org/2000/svg\" height=\"24px\"viewBox=\"0 0 24 24\"\n",
              "       width=\"24px\">\n",
              "    <path d=\"M0 0h24v24H0V0z\" fill=\"none\"/>\n",
              "    <path d=\"M18.56 5.44l.94 2.06.94-2.06 2.06-.94-2.06-.94-.94-2.06-.94 2.06-2.06.94zm-11 1L8.5 8.5l.94-2.06 2.06-.94-2.06-.94L8.5 2.5l-.94 2.06-2.06.94zm10 10l.94 2.06.94-2.06 2.06-.94-2.06-.94-.94-2.06-.94 2.06-2.06.94z\"/><path d=\"M17.41 7.96l-1.37-1.37c-.4-.4-.92-.59-1.43-.59-.52 0-1.04.2-1.43.59L10.3 9.45l-7.72 7.72c-.78.78-.78 2.05 0 2.83L4 21.41c.39.39.9.59 1.41.59.51 0 1.02-.2 1.41-.59l7.78-7.78 2.81-2.81c.8-.78.8-2.07 0-2.86zM5.41 20L4 18.59l7.72-7.72 1.47 1.35L5.41 20z\"/>\n",
              "  </svg>\n",
              "      </button>\n",
              "      \n",
              "  <style>\n",
              "    .colab-df-container {\n",
              "      display:flex;\n",
              "      flex-wrap:wrap;\n",
              "      gap: 12px;\n",
              "    }\n",
              "\n",
              "    .colab-df-convert {\n",
              "      background-color: #E8F0FE;\n",
              "      border: none;\n",
              "      border-radius: 50%;\n",
              "      cursor: pointer;\n",
              "      display: none;\n",
              "      fill: #1967D2;\n",
              "      height: 32px;\n",
              "      padding: 0 0 0 0;\n",
              "      width: 32px;\n",
              "    }\n",
              "\n",
              "    .colab-df-convert:hover {\n",
              "      background-color: #E2EBFA;\n",
              "      box-shadow: 0px 1px 2px rgba(60, 64, 67, 0.3), 0px 1px 3px 1px rgba(60, 64, 67, 0.15);\n",
              "      fill: #174EA6;\n",
              "    }\n",
              "\n",
              "    [theme=dark] .colab-df-convert {\n",
              "      background-color: #3B4455;\n",
              "      fill: #D2E3FC;\n",
              "    }\n",
              "\n",
              "    [theme=dark] .colab-df-convert:hover {\n",
              "      background-color: #434B5C;\n",
              "      box-shadow: 0px 1px 3px 1px rgba(0, 0, 0, 0.15);\n",
              "      filter: drop-shadow(0px 1px 2px rgba(0, 0, 0, 0.3));\n",
              "      fill: #FFFFFF;\n",
              "    }\n",
              "  </style>\n",
              "\n",
              "      <script>\n",
              "        const buttonEl =\n",
              "          document.querySelector('#df-ce67130d-52e2-4a9d-94fc-65768d992c6e button.colab-df-convert');\n",
              "        buttonEl.style.display =\n",
              "          google.colab.kernel.accessAllowed ? 'block' : 'none';\n",
              "\n",
              "        async function convertToInteractive(key) {\n",
              "          const element = document.querySelector('#df-ce67130d-52e2-4a9d-94fc-65768d992c6e');\n",
              "          const dataTable =\n",
              "            await google.colab.kernel.invokeFunction('convertToInteractive',\n",
              "                                                     [key], {});\n",
              "          if (!dataTable) return;\n",
              "\n",
              "          const docLinkHtml = 'Like what you see? Visit the ' +\n",
              "            '<a target=\"_blank\" href=https://colab.research.google.com/notebooks/data_table.ipynb>data table notebook</a>'\n",
              "            + ' to learn more about interactive tables.';\n",
              "          element.innerHTML = '';\n",
              "          dataTable['output_type'] = 'display_data';\n",
              "          await google.colab.output.renderOutput(dataTable, element);\n",
              "          const docLink = document.createElement('div');\n",
              "          docLink.innerHTML = docLinkHtml;\n",
              "          element.appendChild(docLink);\n",
              "        }\n",
              "      </script>\n",
              "    </div>\n",
              "  </div>\n",
              "  "
            ]
          },
          "metadata": {},
          "execution_count": 15
        }
      ],
      "source": [
        "final_ab_events"
      ]
    },
    {
      "cell_type": "markdown",
      "metadata": {
        "id": "xcwqz8MpSLUt"
      },
      "source": [
        "Это были - ***Все события новых пользователей в период с 7 декабря 2020 по 4 января 2021 года***\n",
        "\n",
        "Структура файла:\n",
        "\n",
        "- user_id — идентификатор пользователя;\n",
        "- event_dt — дата и время события;\n",
        "- event_name — тип события;\n",
        "- details — дополнительные данные о событии. Например, для покупок, purchase, в этом поле хранится стоимость покупки в долларах.\n"
      ]
    },
    {
      "cell_type": "code",
      "execution_count": null,
      "metadata": {
        "id": "S7lwWImuSLUt",
        "outputId": "50074878-9fdc-4cfb-95a2-f4851a9c7816",
        "colab": {
          "base_uri": "https://localhost:8080/",
          "height": 424
        }
      },
      "outputs": [
        {
          "output_type": "execute_result",
          "data": {
            "text/plain": [
              "                user_id group                  ab_test\n",
              "0      D1ABA3E2887B6A73     A  recommender_system_test\n",
              "1      A7A3664BD6242119     A  recommender_system_test\n",
              "2      DABC14FDDFADD29E     A  recommender_system_test\n",
              "3      04988C5DF189632E     A  recommender_system_test\n",
              "4      482F14783456D21B     B  recommender_system_test\n",
              "...                 ...   ...                      ...\n",
              "18263  1D302F8688B91781     B        interface_eu_test\n",
              "18264  3DE51B726983B657     A        interface_eu_test\n",
              "18265  F501F79D332BE86C     A        interface_eu_test\n",
              "18266  63FBE257B05F2245     A        interface_eu_test\n",
              "18267  79F9ABFB029CF724     B        interface_eu_test\n",
              "\n",
              "[18268 rows x 3 columns]"
            ],
            "text/html": [
              "\n",
              "  <div id=\"df-d3a0ddbc-365a-4b8b-af4d-583a0139b859\">\n",
              "    <div class=\"colab-df-container\">\n",
              "      <div>\n",
              "<style scoped>\n",
              "    .dataframe tbody tr th:only-of-type {\n",
              "        vertical-align: middle;\n",
              "    }\n",
              "\n",
              "    .dataframe tbody tr th {\n",
              "        vertical-align: top;\n",
              "    }\n",
              "\n",
              "    .dataframe thead th {\n",
              "        text-align: right;\n",
              "    }\n",
              "</style>\n",
              "<table border=\"1\" class=\"dataframe\">\n",
              "  <thead>\n",
              "    <tr style=\"text-align: right;\">\n",
              "      <th></th>\n",
              "      <th>user_id</th>\n",
              "      <th>group</th>\n",
              "      <th>ab_test</th>\n",
              "    </tr>\n",
              "  </thead>\n",
              "  <tbody>\n",
              "    <tr>\n",
              "      <th>0</th>\n",
              "      <td>D1ABA3E2887B6A73</td>\n",
              "      <td>A</td>\n",
              "      <td>recommender_system_test</td>\n",
              "    </tr>\n",
              "    <tr>\n",
              "      <th>1</th>\n",
              "      <td>A7A3664BD6242119</td>\n",
              "      <td>A</td>\n",
              "      <td>recommender_system_test</td>\n",
              "    </tr>\n",
              "    <tr>\n",
              "      <th>2</th>\n",
              "      <td>DABC14FDDFADD29E</td>\n",
              "      <td>A</td>\n",
              "      <td>recommender_system_test</td>\n",
              "    </tr>\n",
              "    <tr>\n",
              "      <th>3</th>\n",
              "      <td>04988C5DF189632E</td>\n",
              "      <td>A</td>\n",
              "      <td>recommender_system_test</td>\n",
              "    </tr>\n",
              "    <tr>\n",
              "      <th>4</th>\n",
              "      <td>482F14783456D21B</td>\n",
              "      <td>B</td>\n",
              "      <td>recommender_system_test</td>\n",
              "    </tr>\n",
              "    <tr>\n",
              "      <th>...</th>\n",
              "      <td>...</td>\n",
              "      <td>...</td>\n",
              "      <td>...</td>\n",
              "    </tr>\n",
              "    <tr>\n",
              "      <th>18263</th>\n",
              "      <td>1D302F8688B91781</td>\n",
              "      <td>B</td>\n",
              "      <td>interface_eu_test</td>\n",
              "    </tr>\n",
              "    <tr>\n",
              "      <th>18264</th>\n",
              "      <td>3DE51B726983B657</td>\n",
              "      <td>A</td>\n",
              "      <td>interface_eu_test</td>\n",
              "    </tr>\n",
              "    <tr>\n",
              "      <th>18265</th>\n",
              "      <td>F501F79D332BE86C</td>\n",
              "      <td>A</td>\n",
              "      <td>interface_eu_test</td>\n",
              "    </tr>\n",
              "    <tr>\n",
              "      <th>18266</th>\n",
              "      <td>63FBE257B05F2245</td>\n",
              "      <td>A</td>\n",
              "      <td>interface_eu_test</td>\n",
              "    </tr>\n",
              "    <tr>\n",
              "      <th>18267</th>\n",
              "      <td>79F9ABFB029CF724</td>\n",
              "      <td>B</td>\n",
              "      <td>interface_eu_test</td>\n",
              "    </tr>\n",
              "  </tbody>\n",
              "</table>\n",
              "<p>18268 rows × 3 columns</p>\n",
              "</div>\n",
              "      <button class=\"colab-df-convert\" onclick=\"convertToInteractive('df-d3a0ddbc-365a-4b8b-af4d-583a0139b859')\"\n",
              "              title=\"Convert this dataframe to an interactive table.\"\n",
              "              style=\"display:none;\">\n",
              "        \n",
              "  <svg xmlns=\"http://www.w3.org/2000/svg\" height=\"24px\"viewBox=\"0 0 24 24\"\n",
              "       width=\"24px\">\n",
              "    <path d=\"M0 0h24v24H0V0z\" fill=\"none\"/>\n",
              "    <path d=\"M18.56 5.44l.94 2.06.94-2.06 2.06-.94-2.06-.94-.94-2.06-.94 2.06-2.06.94zm-11 1L8.5 8.5l.94-2.06 2.06-.94-2.06-.94L8.5 2.5l-.94 2.06-2.06.94zm10 10l.94 2.06.94-2.06 2.06-.94-2.06-.94-.94-2.06-.94 2.06-2.06.94z\"/><path d=\"M17.41 7.96l-1.37-1.37c-.4-.4-.92-.59-1.43-.59-.52 0-1.04.2-1.43.59L10.3 9.45l-7.72 7.72c-.78.78-.78 2.05 0 2.83L4 21.41c.39.39.9.59 1.41.59.51 0 1.02-.2 1.41-.59l7.78-7.78 2.81-2.81c.8-.78.8-2.07 0-2.86zM5.41 20L4 18.59l7.72-7.72 1.47 1.35L5.41 20z\"/>\n",
              "  </svg>\n",
              "      </button>\n",
              "      \n",
              "  <style>\n",
              "    .colab-df-container {\n",
              "      display:flex;\n",
              "      flex-wrap:wrap;\n",
              "      gap: 12px;\n",
              "    }\n",
              "\n",
              "    .colab-df-convert {\n",
              "      background-color: #E8F0FE;\n",
              "      border: none;\n",
              "      border-radius: 50%;\n",
              "      cursor: pointer;\n",
              "      display: none;\n",
              "      fill: #1967D2;\n",
              "      height: 32px;\n",
              "      padding: 0 0 0 0;\n",
              "      width: 32px;\n",
              "    }\n",
              "\n",
              "    .colab-df-convert:hover {\n",
              "      background-color: #E2EBFA;\n",
              "      box-shadow: 0px 1px 2px rgba(60, 64, 67, 0.3), 0px 1px 3px 1px rgba(60, 64, 67, 0.15);\n",
              "      fill: #174EA6;\n",
              "    }\n",
              "\n",
              "    [theme=dark] .colab-df-convert {\n",
              "      background-color: #3B4455;\n",
              "      fill: #D2E3FC;\n",
              "    }\n",
              "\n",
              "    [theme=dark] .colab-df-convert:hover {\n",
              "      background-color: #434B5C;\n",
              "      box-shadow: 0px 1px 3px 1px rgba(0, 0, 0, 0.15);\n",
              "      filter: drop-shadow(0px 1px 2px rgba(0, 0, 0, 0.3));\n",
              "      fill: #FFFFFF;\n",
              "    }\n",
              "  </style>\n",
              "\n",
              "      <script>\n",
              "        const buttonEl =\n",
              "          document.querySelector('#df-d3a0ddbc-365a-4b8b-af4d-583a0139b859 button.colab-df-convert');\n",
              "        buttonEl.style.display =\n",
              "          google.colab.kernel.accessAllowed ? 'block' : 'none';\n",
              "\n",
              "        async function convertToInteractive(key) {\n",
              "          const element = document.querySelector('#df-d3a0ddbc-365a-4b8b-af4d-583a0139b859');\n",
              "          const dataTable =\n",
              "            await google.colab.kernel.invokeFunction('convertToInteractive',\n",
              "                                                     [key], {});\n",
              "          if (!dataTable) return;\n",
              "\n",
              "          const docLinkHtml = 'Like what you see? Visit the ' +\n",
              "            '<a target=\"_blank\" href=https://colab.research.google.com/notebooks/data_table.ipynb>data table notebook</a>'\n",
              "            + ' to learn more about interactive tables.';\n",
              "          element.innerHTML = '';\n",
              "          dataTable['output_type'] = 'display_data';\n",
              "          await google.colab.output.renderOutput(dataTable, element);\n",
              "          const docLink = document.createElement('div');\n",
              "          docLink.innerHTML = docLinkHtml;\n",
              "          element.appendChild(docLink);\n",
              "        }\n",
              "      </script>\n",
              "    </div>\n",
              "  </div>\n",
              "  "
            ]
          },
          "metadata": {},
          "execution_count": 16
        }
      ],
      "source": [
        "final_ab_participants"
      ]
    },
    {
      "cell_type": "markdown",
      "metadata": {
        "id": "yrkktXAuSLUu"
      },
      "source": [
        "Это была - ***Tаблица участников тестов***\n",
        "\n",
        "Структура файла:\n",
        "\n",
        "- user_id — идентификатор пользователя;\n",
        "- b_test — название теста;\n",
        "- group — группа пользователя.\n"
      ]
    },
    {
      "cell_type": "markdown",
      "metadata": {
        "id": "Cl0lqX9pSLUu"
      },
      "source": [
        "## Соответствие данных требованиям технического задания."
      ]
    },
    {
      "cell_type": "markdown",
      "metadata": {
        "id": "i1z217l0SLUv"
      },
      "source": [
        "***Проверяем***\n",
        "\n",
        "- Название теста: recommender_system_test;\n",
        "- Группы: А (контрольная), B (новая платёжная воронка);\n",
        "- Дата запуска: 2020-12-07;\n",
        "- Дата остановки набора новых пользователей: 2020-12-21;\n",
        "- Дата остановки: 2021-01-04;\n",
        "- Аудитория: 15% новых пользователей из региона EU;\n",
        "- Назначение теста: тестирование изменений, связанных с внедрением улучшенной рекомендательной системы;\n",
        "- Ожидаемое количество участников теста: 6000.\n",
        "- Ожидаемый эффект: за 14 дней с момента регистрации в системе пользователи покажут улучшение каждой метрики не менее, чем на 10%:\n",
        "- конверсии в просмотр карточек товаров — событие product_page\n",
        "- просмотры корзины — product_cart\n",
        "- покупки — purc\n",
        "\n",
        "Проверяем корректность его проведения и проанализируем полученные результаты\n"
      ]
    },
    {
      "cell_type": "markdown",
      "metadata": {
        "id": "LoAfS7S_SLUv"
      },
      "source": [
        "### Проверка Участников теста `recommender_system_test`.\n",
        "\n",
        "Список участников всех тестов находятся в переменной `final_ab_participants` - Таблица участников тестов\n",
        "\n",
        "Выделим в отдельный датасет `recommender_system_test` участников эксперимента"
      ]
    },
    {
      "cell_type": "code",
      "execution_count": null,
      "metadata": {
        "id": "FOus-CRrSLUv",
        "outputId": "11e9e539-e592-4f43-ebbd-7fb1663c3467",
        "colab": {
          "base_uri": "https://localhost:8080/"
        }
      },
      "outputs": [
        {
          "output_type": "stream",
          "name": "stdout",
          "text": [
            "<class 'pandas.core.frame.DataFrame'>\n",
            "Int64Index: 6701 entries, 0 to 6700\n",
            "Data columns (total 2 columns):\n",
            " #   Column   Non-Null Count  Dtype \n",
            "---  ------   --------------  ----- \n",
            " 0   user_id  6701 non-null   object\n",
            " 1   group    6701 non-null   object\n",
            "dtypes: object(2)\n",
            "memory usage: 157.1+ KB\n"
          ]
        }
      ],
      "source": [
        "recommender_system_test = final_ab_participants[final_ab_participants['ab_test'] == 'recommender_system_test']\n",
        "recommender_system_test = recommender_system_test.drop('ab_test', axis=1)\n",
        "recommender_system_test.info()"
      ]
    },
    {
      "cell_type": "code",
      "execution_count": null,
      "metadata": {
        "id": "nRNC63qRSLUw",
        "outputId": "45a7dbbd-7ed7-4780-809f-d4f6c0450833",
        "colab": {
          "base_uri": "https://localhost:8080/"
        }
      },
      "outputs": [
        {
          "output_type": "execute_result",
          "data": {
            "text/plain": [
              "6701"
            ]
          },
          "metadata": {},
          "execution_count": 18
        }
      ],
      "source": [
        "# Все ли user_id уникальны?\n",
        "recommender_system_test.user_id.nunique()"
      ]
    },
    {
      "cell_type": "code",
      "execution_count": null,
      "metadata": {
        "id": "CEt1lNZQSLUw",
        "outputId": "656ee569-c369-4433-c476-a387ed445745",
        "colab": {
          "base_uri": "https://localhost:8080/"
        }
      },
      "outputs": [
        {
          "output_type": "execute_result",
          "data": {
            "text/plain": [
              "array(['A', 'B'], dtype=object)"
            ]
          },
          "metadata": {},
          "execution_count": 19
        }
      ],
      "source": [
        "# Какие группы есть?\n",
        "recommender_system_test.group.unique()"
      ]
    },
    {
      "cell_type": "code",
      "execution_count": null,
      "metadata": {
        "id": "OjPiXBsLSLUw",
        "outputId": "445867a2-a2fd-467a-8425-cb3b0c63abfe",
        "colab": {
          "base_uri": "https://localhost:8080/",
          "height": 143
        }
      },
      "outputs": [
        {
          "output_type": "execute_result",
          "data": {
            "text/plain": [
              "       user_id     ratio\n",
              "group                   \n",
              "A         3824  0.570661\n",
              "B         2877  0.429339"
            ],
            "text/html": [
              "\n",
              "  <div id=\"df-1ba9c8e9-af6d-48f2-88c0-a428756bc9a7\">\n",
              "    <div class=\"colab-df-container\">\n",
              "      <div>\n",
              "<style scoped>\n",
              "    .dataframe tbody tr th:only-of-type {\n",
              "        vertical-align: middle;\n",
              "    }\n",
              "\n",
              "    .dataframe tbody tr th {\n",
              "        vertical-align: top;\n",
              "    }\n",
              "\n",
              "    .dataframe thead th {\n",
              "        text-align: right;\n",
              "    }\n",
              "</style>\n",
              "<table border=\"1\" class=\"dataframe\">\n",
              "  <thead>\n",
              "    <tr style=\"text-align: right;\">\n",
              "      <th></th>\n",
              "      <th>user_id</th>\n",
              "      <th>ratio</th>\n",
              "    </tr>\n",
              "    <tr>\n",
              "      <th>group</th>\n",
              "      <th></th>\n",
              "      <th></th>\n",
              "    </tr>\n",
              "  </thead>\n",
              "  <tbody>\n",
              "    <tr>\n",
              "      <th>A</th>\n",
              "      <td>3824</td>\n",
              "      <td>0.570661</td>\n",
              "    </tr>\n",
              "    <tr>\n",
              "      <th>B</th>\n",
              "      <td>2877</td>\n",
              "      <td>0.429339</td>\n",
              "    </tr>\n",
              "  </tbody>\n",
              "</table>\n",
              "</div>\n",
              "      <button class=\"colab-df-convert\" onclick=\"convertToInteractive('df-1ba9c8e9-af6d-48f2-88c0-a428756bc9a7')\"\n",
              "              title=\"Convert this dataframe to an interactive table.\"\n",
              "              style=\"display:none;\">\n",
              "        \n",
              "  <svg xmlns=\"http://www.w3.org/2000/svg\" height=\"24px\"viewBox=\"0 0 24 24\"\n",
              "       width=\"24px\">\n",
              "    <path d=\"M0 0h24v24H0V0z\" fill=\"none\"/>\n",
              "    <path d=\"M18.56 5.44l.94 2.06.94-2.06 2.06-.94-2.06-.94-.94-2.06-.94 2.06-2.06.94zm-11 1L8.5 8.5l.94-2.06 2.06-.94-2.06-.94L8.5 2.5l-.94 2.06-2.06.94zm10 10l.94 2.06.94-2.06 2.06-.94-2.06-.94-.94-2.06-.94 2.06-2.06.94z\"/><path d=\"M17.41 7.96l-1.37-1.37c-.4-.4-.92-.59-1.43-.59-.52 0-1.04.2-1.43.59L10.3 9.45l-7.72 7.72c-.78.78-.78 2.05 0 2.83L4 21.41c.39.39.9.59 1.41.59.51 0 1.02-.2 1.41-.59l7.78-7.78 2.81-2.81c.8-.78.8-2.07 0-2.86zM5.41 20L4 18.59l7.72-7.72 1.47 1.35L5.41 20z\"/>\n",
              "  </svg>\n",
              "      </button>\n",
              "      \n",
              "  <style>\n",
              "    .colab-df-container {\n",
              "      display:flex;\n",
              "      flex-wrap:wrap;\n",
              "      gap: 12px;\n",
              "    }\n",
              "\n",
              "    .colab-df-convert {\n",
              "      background-color: #E8F0FE;\n",
              "      border: none;\n",
              "      border-radius: 50%;\n",
              "      cursor: pointer;\n",
              "      display: none;\n",
              "      fill: #1967D2;\n",
              "      height: 32px;\n",
              "      padding: 0 0 0 0;\n",
              "      width: 32px;\n",
              "    }\n",
              "\n",
              "    .colab-df-convert:hover {\n",
              "      background-color: #E2EBFA;\n",
              "      box-shadow: 0px 1px 2px rgba(60, 64, 67, 0.3), 0px 1px 3px 1px rgba(60, 64, 67, 0.15);\n",
              "      fill: #174EA6;\n",
              "    }\n",
              "\n",
              "    [theme=dark] .colab-df-convert {\n",
              "      background-color: #3B4455;\n",
              "      fill: #D2E3FC;\n",
              "    }\n",
              "\n",
              "    [theme=dark] .colab-df-convert:hover {\n",
              "      background-color: #434B5C;\n",
              "      box-shadow: 0px 1px 3px 1px rgba(0, 0, 0, 0.15);\n",
              "      filter: drop-shadow(0px 1px 2px rgba(0, 0, 0, 0.3));\n",
              "      fill: #FFFFFF;\n",
              "    }\n",
              "  </style>\n",
              "\n",
              "      <script>\n",
              "        const buttonEl =\n",
              "          document.querySelector('#df-1ba9c8e9-af6d-48f2-88c0-a428756bc9a7 button.colab-df-convert');\n",
              "        buttonEl.style.display =\n",
              "          google.colab.kernel.accessAllowed ? 'block' : 'none';\n",
              "\n",
              "        async function convertToInteractive(key) {\n",
              "          const element = document.querySelector('#df-1ba9c8e9-af6d-48f2-88c0-a428756bc9a7');\n",
              "          const dataTable =\n",
              "            await google.colab.kernel.invokeFunction('convertToInteractive',\n",
              "                                                     [key], {});\n",
              "          if (!dataTable) return;\n",
              "\n",
              "          const docLinkHtml = 'Like what you see? Visit the ' +\n",
              "            '<a target=\"_blank\" href=https://colab.research.google.com/notebooks/data_table.ipynb>data table notebook</a>'\n",
              "            + ' to learn more about interactive tables.';\n",
              "          element.innerHTML = '';\n",
              "          dataTable['output_type'] = 'display_data';\n",
              "          await google.colab.output.renderOutput(dataTable, element);\n",
              "          const docLink = document.createElement('div');\n",
              "          docLink.innerHTML = docLinkHtml;\n",
              "          element.appendChild(docLink);\n",
              "        }\n",
              "      </script>\n",
              "    </div>\n",
              "  </div>\n",
              "  "
            ]
          },
          "metadata": {},
          "execution_count": 20
        }
      ],
      "source": [
        "# Сколько участников в каждой группе?\n",
        "t = recommender_system_test.groupby(by='group').agg('count')\n",
        "t['ratio'] = t['user_id'] / t['user_id'].sum()\n",
        "t"
      ]
    },
    {
      "cell_type": "markdown",
      "metadata": {
        "id": "pbfPk7GbSLUx"
      },
      "source": [
        "Группы различаются более, чем на 10%. Новая платежная воронка меньше на 25% контрольной группы.\n",
        "\n",
        "в переменной `test = recommender_system_test.user_id` сохраняю временный список `user_id` участвующих в тесте `recommender_system_test`."
      ]
    },
    {
      "cell_type": "code",
      "execution_count": null,
      "metadata": {
        "id": "4hWQCEQFSLUx",
        "outputId": "bef67631-5fb2-46f4-ac63-d3dc34b2dcb7",
        "colab": {
          "base_uri": "https://localhost:8080/"
        }
      },
      "outputs": [
        {
          "output_type": "execute_result",
          "data": {
            "text/plain": [
              "0       D1ABA3E2887B6A73\n",
              "1       A7A3664BD6242119\n",
              "2       DABC14FDDFADD29E\n",
              "3       04988C5DF189632E\n",
              "4       482F14783456D21B\n",
              "              ...       \n",
              "6696    053FB26D6D49EDDC\n",
              "6697    9D263B8EF15CF188\n",
              "6698    F2FBBA33F37DEC46\n",
              "6699    29C92313A98B1176\n",
              "6700    6715343AFBA285AE\n",
              "Name: user_id, Length: 6701, dtype: object"
            ]
          },
          "metadata": {},
          "execution_count": 21
        }
      ],
      "source": [
        "test = recommender_system_test.user_id\n",
        "test"
      ]
    },
    {
      "cell_type": "markdown",
      "metadata": {
        "id": "wWk5cs8uSLUy"
      },
      "source": [
        "### Проверяем дату запуска теста\n",
        "\n",
        "Были ли зарегистрированы пользователи, участвующие в тесте в период проведения теста?\n",
        "Список новых пользователей лежит в переменной `final_ab_new_users`"
      ]
    },
    {
      "cell_type": "code",
      "execution_count": null,
      "metadata": {
        "id": "Ky28NoL1SLUy",
        "outputId": "60c0c061-fe51-450b-a528-a7ef2987ba90",
        "colab": {
          "base_uri": "https://localhost:8080/"
        }
      },
      "outputs": [
        {
          "output_type": "execute_result",
          "data": {
            "text/plain": [
              "6701"
            ]
          },
          "metadata": {},
          "execution_count": 22
        }
      ],
      "source": [
        "# Сколько было зарегистрировано в интернет-магазине в период с 7 по 21 декабря 2020 года пользователей из списка теста?\n",
        "new_users = final_ab_new_users[final_ab_new_users.user_id.isin(test)]\n",
        "final_ab_new_users.user_id.isin(test).sum()"
      ]
    },
    {
      "cell_type": "code",
      "execution_count": null,
      "metadata": {
        "id": "VbhVwIhISLUy",
        "outputId": "99c72a6f-fdc7-44bb-cbde-4937dcd33b5a",
        "colab": {
          "base_uri": "https://localhost:8080/",
          "height": 424
        }
      },
      "outputs": [
        {
          "output_type": "execute_result",
          "data": {
            "text/plain": [
              "                user_id first_date region   device\n",
              "0      D72A72121175D8BE 2020-12-07     EU       PC\n",
              "13     E6DE857AFBDC6102 2020-12-07     EU       PC\n",
              "20     DD4352CDCF8C3D57 2020-12-07     EU  Android\n",
              "23     831887FE7F2D6CBA 2020-12-07     EU  Android\n",
              "39     4CB179C7F847320B 2020-12-07     EU   iPhone\n",
              "...                 ...        ...    ...      ...\n",
              "61685  A09DFE27D4CFF8E8 2020-12-20     EU  Android\n",
              "61693  0F7D49FC184EDCDE 2020-12-20     EU       PC\n",
              "61709  574ACBC674BC385D 2020-12-20     EU      Mac\n",
              "61710  0416B34D35C8C8B8 2020-12-20     EU  Android\n",
              "61715  89CB0BFBC3F35126 2020-12-20     EU       PC\n",
              "\n",
              "[6701 rows x 4 columns]"
            ],
            "text/html": [
              "\n",
              "  <div id=\"df-7e8fa6bf-4f2c-4ff1-90b5-2f166546a60a\">\n",
              "    <div class=\"colab-df-container\">\n",
              "      <div>\n",
              "<style scoped>\n",
              "    .dataframe tbody tr th:only-of-type {\n",
              "        vertical-align: middle;\n",
              "    }\n",
              "\n",
              "    .dataframe tbody tr th {\n",
              "        vertical-align: top;\n",
              "    }\n",
              "\n",
              "    .dataframe thead th {\n",
              "        text-align: right;\n",
              "    }\n",
              "</style>\n",
              "<table border=\"1\" class=\"dataframe\">\n",
              "  <thead>\n",
              "    <tr style=\"text-align: right;\">\n",
              "      <th></th>\n",
              "      <th>user_id</th>\n",
              "      <th>first_date</th>\n",
              "      <th>region</th>\n",
              "      <th>device</th>\n",
              "    </tr>\n",
              "  </thead>\n",
              "  <tbody>\n",
              "    <tr>\n",
              "      <th>0</th>\n",
              "      <td>D72A72121175D8BE</td>\n",
              "      <td>2020-12-07</td>\n",
              "      <td>EU</td>\n",
              "      <td>PC</td>\n",
              "    </tr>\n",
              "    <tr>\n",
              "      <th>13</th>\n",
              "      <td>E6DE857AFBDC6102</td>\n",
              "      <td>2020-12-07</td>\n",
              "      <td>EU</td>\n",
              "      <td>PC</td>\n",
              "    </tr>\n",
              "    <tr>\n",
              "      <th>20</th>\n",
              "      <td>DD4352CDCF8C3D57</td>\n",
              "      <td>2020-12-07</td>\n",
              "      <td>EU</td>\n",
              "      <td>Android</td>\n",
              "    </tr>\n",
              "    <tr>\n",
              "      <th>23</th>\n",
              "      <td>831887FE7F2D6CBA</td>\n",
              "      <td>2020-12-07</td>\n",
              "      <td>EU</td>\n",
              "      <td>Android</td>\n",
              "    </tr>\n",
              "    <tr>\n",
              "      <th>39</th>\n",
              "      <td>4CB179C7F847320B</td>\n",
              "      <td>2020-12-07</td>\n",
              "      <td>EU</td>\n",
              "      <td>iPhone</td>\n",
              "    </tr>\n",
              "    <tr>\n",
              "      <th>...</th>\n",
              "      <td>...</td>\n",
              "      <td>...</td>\n",
              "      <td>...</td>\n",
              "      <td>...</td>\n",
              "    </tr>\n",
              "    <tr>\n",
              "      <th>61685</th>\n",
              "      <td>A09DFE27D4CFF8E8</td>\n",
              "      <td>2020-12-20</td>\n",
              "      <td>EU</td>\n",
              "      <td>Android</td>\n",
              "    </tr>\n",
              "    <tr>\n",
              "      <th>61693</th>\n",
              "      <td>0F7D49FC184EDCDE</td>\n",
              "      <td>2020-12-20</td>\n",
              "      <td>EU</td>\n",
              "      <td>PC</td>\n",
              "    </tr>\n",
              "    <tr>\n",
              "      <th>61709</th>\n",
              "      <td>574ACBC674BC385D</td>\n",
              "      <td>2020-12-20</td>\n",
              "      <td>EU</td>\n",
              "      <td>Mac</td>\n",
              "    </tr>\n",
              "    <tr>\n",
              "      <th>61710</th>\n",
              "      <td>0416B34D35C8C8B8</td>\n",
              "      <td>2020-12-20</td>\n",
              "      <td>EU</td>\n",
              "      <td>Android</td>\n",
              "    </tr>\n",
              "    <tr>\n",
              "      <th>61715</th>\n",
              "      <td>89CB0BFBC3F35126</td>\n",
              "      <td>2020-12-20</td>\n",
              "      <td>EU</td>\n",
              "      <td>PC</td>\n",
              "    </tr>\n",
              "  </tbody>\n",
              "</table>\n",
              "<p>6701 rows × 4 columns</p>\n",
              "</div>\n",
              "      <button class=\"colab-df-convert\" onclick=\"convertToInteractive('df-7e8fa6bf-4f2c-4ff1-90b5-2f166546a60a')\"\n",
              "              title=\"Convert this dataframe to an interactive table.\"\n",
              "              style=\"display:none;\">\n",
              "        \n",
              "  <svg xmlns=\"http://www.w3.org/2000/svg\" height=\"24px\"viewBox=\"0 0 24 24\"\n",
              "       width=\"24px\">\n",
              "    <path d=\"M0 0h24v24H0V0z\" fill=\"none\"/>\n",
              "    <path d=\"M18.56 5.44l.94 2.06.94-2.06 2.06-.94-2.06-.94-.94-2.06-.94 2.06-2.06.94zm-11 1L8.5 8.5l.94-2.06 2.06-.94-2.06-.94L8.5 2.5l-.94 2.06-2.06.94zm10 10l.94 2.06.94-2.06 2.06-.94-2.06-.94-.94-2.06-.94 2.06-2.06.94z\"/><path d=\"M17.41 7.96l-1.37-1.37c-.4-.4-.92-.59-1.43-.59-.52 0-1.04.2-1.43.59L10.3 9.45l-7.72 7.72c-.78.78-.78 2.05 0 2.83L4 21.41c.39.39.9.59 1.41.59.51 0 1.02-.2 1.41-.59l7.78-7.78 2.81-2.81c.8-.78.8-2.07 0-2.86zM5.41 20L4 18.59l7.72-7.72 1.47 1.35L5.41 20z\"/>\n",
              "  </svg>\n",
              "      </button>\n",
              "      \n",
              "  <style>\n",
              "    .colab-df-container {\n",
              "      display:flex;\n",
              "      flex-wrap:wrap;\n",
              "      gap: 12px;\n",
              "    }\n",
              "\n",
              "    .colab-df-convert {\n",
              "      background-color: #E8F0FE;\n",
              "      border: none;\n",
              "      border-radius: 50%;\n",
              "      cursor: pointer;\n",
              "      display: none;\n",
              "      fill: #1967D2;\n",
              "      height: 32px;\n",
              "      padding: 0 0 0 0;\n",
              "      width: 32px;\n",
              "    }\n",
              "\n",
              "    .colab-df-convert:hover {\n",
              "      background-color: #E2EBFA;\n",
              "      box-shadow: 0px 1px 2px rgba(60, 64, 67, 0.3), 0px 1px 3px 1px rgba(60, 64, 67, 0.15);\n",
              "      fill: #174EA6;\n",
              "    }\n",
              "\n",
              "    [theme=dark] .colab-df-convert {\n",
              "      background-color: #3B4455;\n",
              "      fill: #D2E3FC;\n",
              "    }\n",
              "\n",
              "    [theme=dark] .colab-df-convert:hover {\n",
              "      background-color: #434B5C;\n",
              "      box-shadow: 0px 1px 3px 1px rgba(0, 0, 0, 0.15);\n",
              "      filter: drop-shadow(0px 1px 2px rgba(0, 0, 0, 0.3));\n",
              "      fill: #FFFFFF;\n",
              "    }\n",
              "  </style>\n",
              "\n",
              "      <script>\n",
              "        const buttonEl =\n",
              "          document.querySelector('#df-7e8fa6bf-4f2c-4ff1-90b5-2f166546a60a button.colab-df-convert');\n",
              "        buttonEl.style.display =\n",
              "          google.colab.kernel.accessAllowed ? 'block' : 'none';\n",
              "\n",
              "        async function convertToInteractive(key) {\n",
              "          const element = document.querySelector('#df-7e8fa6bf-4f2c-4ff1-90b5-2f166546a60a');\n",
              "          const dataTable =\n",
              "            await google.colab.kernel.invokeFunction('convertToInteractive',\n",
              "                                                     [key], {});\n",
              "          if (!dataTable) return;\n",
              "\n",
              "          const docLinkHtml = 'Like what you see? Visit the ' +\n",
              "            '<a target=\"_blank\" href=https://colab.research.google.com/notebooks/data_table.ipynb>data table notebook</a>'\n",
              "            + ' to learn more about interactive tables.';\n",
              "          element.innerHTML = '';\n",
              "          dataTable['output_type'] = 'display_data';\n",
              "          await google.colab.output.renderOutput(dataTable, element);\n",
              "          const docLink = document.createElement('div');\n",
              "          docLink.innerHTML = docLinkHtml;\n",
              "          element.appendChild(docLink);\n",
              "        }\n",
              "      </script>\n",
              "    </div>\n",
              "  </div>\n",
              "  "
            ]
          },
          "metadata": {},
          "execution_count": 23
        }
      ],
      "source": [
        "new_users"
      ]
    },
    {
      "cell_type": "code",
      "execution_count": null,
      "metadata": {
        "id": "h3sbMgEHSLUy"
      },
      "outputs": [],
      "source": [
        "# Как эти участники теста распределились по датам?"
      ]
    },
    {
      "cell_type": "code",
      "execution_count": null,
      "metadata": {
        "id": "HxdB8C6uSLUz",
        "outputId": "4652591d-6456-43ea-9f9d-705536e993bc",
        "colab": {
          "base_uri": "https://localhost:8080/",
          "height": 106
        }
      },
      "outputs": [
        {
          "output_type": "display_data",
          "data": {
            "text/plain": [
              "'Минимальная дата регистрации - '"
            ],
            "application/vnd.google.colaboratory.intrinsic+json": {
              "type": "string"
            }
          },
          "metadata": {}
        },
        {
          "output_type": "display_data",
          "data": {
            "text/plain": [
              "Timestamp('2020-12-07 00:00:00')"
            ]
          },
          "metadata": {}
        },
        {
          "output_type": "display_data",
          "data": {
            "text/plain": [
              "'Максимальная дата регистрации - '"
            ],
            "application/vnd.google.colaboratory.intrinsic+json": {
              "type": "string"
            }
          },
          "metadata": {}
        },
        {
          "output_type": "display_data",
          "data": {
            "text/plain": [
              "Timestamp('2020-12-21 00:00:00')"
            ]
          },
          "metadata": {}
        },
        {
          "output_type": "display_data",
          "data": {
            "text/plain": [
              "Timedelta('14 days 00:00:00')"
            ]
          },
          "metadata": {}
        }
      ],
      "source": [
        "min_date_reg = new_users.first_date.min()\n",
        "display('Минимальная дата регистрации - ', min_date_reg)\n",
        "max_date_reg= new_users.first_date.max()\n",
        "display('Максимальная дата регистрации - ', max_date_reg)\n",
        "delta_day = (max_date_reg - min_date_reg)# .dt.days\n",
        "display(delta_day)"
      ]
    },
    {
      "cell_type": "markdown",
      "metadata": {
        "id": "a3m2Fg1lSLU0"
      },
      "source": [
        "Начало и конец регистрации участников эксперимента соответствует техническому заданию.\n",
        "\n",
        "Посмотрим распределение времени регистрации по датам:"
      ]
    },
    {
      "cell_type": "code",
      "execution_count": null,
      "metadata": {
        "id": "31ZJmheJSLU1",
        "outputId": "70cab3df-8c7e-4525-db5d-419ee3155700",
        "colab": {
          "base_uri": "https://localhost:8080/",
          "height": 81
        }
      },
      "outputs": [
        {
          "output_type": "execute_result",
          "data": {
            "text/plain": [
              "               user_id first_date region   device\n",
              "3625  0E1FEA52E890B36A 2020-12-07     EU  Android"
            ],
            "text/html": [
              "\n",
              "  <div id=\"df-c0dee591-6064-4f77-ad16-4edda4bcf3c9\">\n",
              "    <div class=\"colab-df-container\">\n",
              "      <div>\n",
              "<style scoped>\n",
              "    .dataframe tbody tr th:only-of-type {\n",
              "        vertical-align: middle;\n",
              "    }\n",
              "\n",
              "    .dataframe tbody tr th {\n",
              "        vertical-align: top;\n",
              "    }\n",
              "\n",
              "    .dataframe thead th {\n",
              "        text-align: right;\n",
              "    }\n",
              "</style>\n",
              "<table border=\"1\" class=\"dataframe\">\n",
              "  <thead>\n",
              "    <tr style=\"text-align: right;\">\n",
              "      <th></th>\n",
              "      <th>user_id</th>\n",
              "      <th>first_date</th>\n",
              "      <th>region</th>\n",
              "      <th>device</th>\n",
              "    </tr>\n",
              "  </thead>\n",
              "  <tbody>\n",
              "    <tr>\n",
              "      <th>3625</th>\n",
              "      <td>0E1FEA52E890B36A</td>\n",
              "      <td>2020-12-07</td>\n",
              "      <td>EU</td>\n",
              "      <td>Android</td>\n",
              "    </tr>\n",
              "  </tbody>\n",
              "</table>\n",
              "</div>\n",
              "      <button class=\"colab-df-convert\" onclick=\"convertToInteractive('df-c0dee591-6064-4f77-ad16-4edda4bcf3c9')\"\n",
              "              title=\"Convert this dataframe to an interactive table.\"\n",
              "              style=\"display:none;\">\n",
              "        \n",
              "  <svg xmlns=\"http://www.w3.org/2000/svg\" height=\"24px\"viewBox=\"0 0 24 24\"\n",
              "       width=\"24px\">\n",
              "    <path d=\"M0 0h24v24H0V0z\" fill=\"none\"/>\n",
              "    <path d=\"M18.56 5.44l.94 2.06.94-2.06 2.06-.94-2.06-.94-.94-2.06-.94 2.06-2.06.94zm-11 1L8.5 8.5l.94-2.06 2.06-.94-2.06-.94L8.5 2.5l-.94 2.06-2.06.94zm10 10l.94 2.06.94-2.06 2.06-.94-2.06-.94-.94-2.06-.94 2.06-2.06.94z\"/><path d=\"M17.41 7.96l-1.37-1.37c-.4-.4-.92-.59-1.43-.59-.52 0-1.04.2-1.43.59L10.3 9.45l-7.72 7.72c-.78.78-.78 2.05 0 2.83L4 21.41c.39.39.9.59 1.41.59.51 0 1.02-.2 1.41-.59l7.78-7.78 2.81-2.81c.8-.78.8-2.07 0-2.86zM5.41 20L4 18.59l7.72-7.72 1.47 1.35L5.41 20z\"/>\n",
              "  </svg>\n",
              "      </button>\n",
              "      \n",
              "  <style>\n",
              "    .colab-df-container {\n",
              "      display:flex;\n",
              "      flex-wrap:wrap;\n",
              "      gap: 12px;\n",
              "    }\n",
              "\n",
              "    .colab-df-convert {\n",
              "      background-color: #E8F0FE;\n",
              "      border: none;\n",
              "      border-radius: 50%;\n",
              "      cursor: pointer;\n",
              "      display: none;\n",
              "      fill: #1967D2;\n",
              "      height: 32px;\n",
              "      padding: 0 0 0 0;\n",
              "      width: 32px;\n",
              "    }\n",
              "\n",
              "    .colab-df-convert:hover {\n",
              "      background-color: #E2EBFA;\n",
              "      box-shadow: 0px 1px 2px rgba(60, 64, 67, 0.3), 0px 1px 3px 1px rgba(60, 64, 67, 0.15);\n",
              "      fill: #174EA6;\n",
              "    }\n",
              "\n",
              "    [theme=dark] .colab-df-convert {\n",
              "      background-color: #3B4455;\n",
              "      fill: #D2E3FC;\n",
              "    }\n",
              "\n",
              "    [theme=dark] .colab-df-convert:hover {\n",
              "      background-color: #434B5C;\n",
              "      box-shadow: 0px 1px 3px 1px rgba(0, 0, 0, 0.15);\n",
              "      filter: drop-shadow(0px 1px 2px rgba(0, 0, 0, 0.3));\n",
              "      fill: #FFFFFF;\n",
              "    }\n",
              "  </style>\n",
              "\n",
              "      <script>\n",
              "        const buttonEl =\n",
              "          document.querySelector('#df-c0dee591-6064-4f77-ad16-4edda4bcf3c9 button.colab-df-convert');\n",
              "        buttonEl.style.display =\n",
              "          google.colab.kernel.accessAllowed ? 'block' : 'none';\n",
              "\n",
              "        async function convertToInteractive(key) {\n",
              "          const element = document.querySelector('#df-c0dee591-6064-4f77-ad16-4edda4bcf3c9');\n",
              "          const dataTable =\n",
              "            await google.colab.kernel.invokeFunction('convertToInteractive',\n",
              "                                                     [key], {});\n",
              "          if (!dataTable) return;\n",
              "\n",
              "          const docLinkHtml = 'Like what you see? Visit the ' +\n",
              "            '<a target=\"_blank\" href=https://colab.research.google.com/notebooks/data_table.ipynb>data table notebook</a>'\n",
              "            + ' to learn more about interactive tables.';\n",
              "          element.innerHTML = '';\n",
              "          dataTable['output_type'] = 'display_data';\n",
              "          await google.colab.output.renderOutput(dataTable, element);\n",
              "          const docLink = document.createElement('div');\n",
              "          docLink.innerHTML = docLinkHtml;\n",
              "          element.appendChild(docLink);\n",
              "        }\n",
              "      </script>\n",
              "    </div>\n",
              "  </div>\n",
              "  "
            ]
          },
          "metadata": {},
          "execution_count": 26
        }
      ],
      "source": [
        "new_users.sample(1)"
      ]
    },
    {
      "cell_type": "code",
      "execution_count": null,
      "metadata": {
        "id": "Fvh2TQcFSLU1"
      },
      "outputs": [],
      "source": [
        "t = new_users.groupby(by = 'first_date', as_index=False).agg({'user_id':\"count\"})\n"
      ]
    },
    {
      "cell_type": "code",
      "execution_count": null,
      "metadata": {
        "id": "E_8mECGASLU2"
      },
      "outputs": [],
      "source": [
        "# функция для вывода гистограммы, чтобы однообразно выводить графики.\n",
        "def my_bar(df, x, y, title, y_title):\n",
        "    fig = px.bar(df, x=x, y=y)\n",
        "    fig.update_xaxes(tickangle=-90, tickmode = 'linear')\n",
        "\n",
        "    fig.update_layout(title=title,\n",
        "                      yaxis_title=y_title,\n",
        "                      margin=dict(l=0, r=0))\n",
        "    fig.show()"
      ]
    },
    {
      "cell_type": "code",
      "execution_count": null,
      "metadata": {
        "id": "9v2QiA5OSLU4",
        "outputId": "d720e8fe-0e3d-4aa2-b085-391c77a76cb3",
        "colab": {
          "base_uri": "https://localhost:8080/"
        }
      },
      "outputs": [
        {
          "output_type": "display_data",
          "data": {
            "text/html": [
              "<html>\n",
              "<head><meta charset=\"utf-8\" /></head>\n",
              "<body>\n",
              "    <div>            <script src=\"https://cdnjs.cloudflare.com/ajax/libs/mathjax/2.7.5/MathJax.js?config=TeX-AMS-MML_SVG\"></script><script type=\"text/javascript\">if (window.MathJax && window.MathJax.Hub && window.MathJax.Hub.Config) {window.MathJax.Hub.Config({SVG: {font: \"STIX-Web\"}});}</script>                <script type=\"text/javascript\">window.PlotlyConfig = {MathJaxConfig: 'local'};</script>\n",
              "        <script src=\"https://cdn.plot.ly/plotly-2.18.2.min.js\"></script>                <div id=\"2eba4dc5-ca93-429e-8e26-5f1e229ce2a3\" class=\"plotly-graph-div\" style=\"height:525px; width:100%;\"></div>            <script type=\"text/javascript\">                                    window.PLOTLYENV=window.PLOTLYENV || {};                                    if (document.getElementById(\"2eba4dc5-ca93-429e-8e26-5f1e229ce2a3\")) {                    Plotly.newPlot(                        \"2eba4dc5-ca93-429e-8e26-5f1e229ce2a3\",                        [{\"alignmentgroup\":\"True\",\"hovertemplate\":\"first_date=%{x}<br>user_id=%{y}<extra></extra>\",\"legendgroup\":\"\",\"marker\":{\"color\":\"#636efa\",\"pattern\":{\"shape\":\"\"}},\"name\":\"\",\"offsetgroup\":\"\",\"orientation\":\"v\",\"showlegend\":false,\"textposition\":\"auto\",\"x\":[\"2020-12-07T00:00:00\",\"2020-12-08T00:00:00\",\"2020-12-09T00:00:00\",\"2020-12-10T00:00:00\",\"2020-12-11T00:00:00\",\"2020-12-12T00:00:00\",\"2020-12-13T00:00:00\",\"2020-12-14T00:00:00\",\"2020-12-15T00:00:00\",\"2020-12-16T00:00:00\",\"2020-12-17T00:00:00\",\"2020-12-18T00:00:00\",\"2020-12-19T00:00:00\",\"2020-12-20T00:00:00\",\"2020-12-21T00:00:00\"],\"xaxis\":\"x\",\"y\":[645,364,258,391,277,489,581,665,359,285,359,397,423,485,723],\"yaxis\":\"y\",\"type\":\"bar\"}],                        {\"template\":{\"data\":{\"histogram2dcontour\":[{\"type\":\"histogram2dcontour\",\"colorbar\":{\"outlinewidth\":0,\"ticks\":\"\"},\"colorscale\":[[0.0,\"#0d0887\"],[0.1111111111111111,\"#46039f\"],[0.2222222222222222,\"#7201a8\"],[0.3333333333333333,\"#9c179e\"],[0.4444444444444444,\"#bd3786\"],[0.5555555555555556,\"#d8576b\"],[0.6666666666666666,\"#ed7953\"],[0.7777777777777778,\"#fb9f3a\"],[0.8888888888888888,\"#fdca26\"],[1.0,\"#f0f921\"]]}],\"choropleth\":[{\"type\":\"choropleth\",\"colorbar\":{\"outlinewidth\":0,\"ticks\":\"\"}}],\"histogram2d\":[{\"type\":\"histogram2d\",\"colorbar\":{\"outlinewidth\":0,\"ticks\":\"\"},\"colorscale\":[[0.0,\"#0d0887\"],[0.1111111111111111,\"#46039f\"],[0.2222222222222222,\"#7201a8\"],[0.3333333333333333,\"#9c179e\"],[0.4444444444444444,\"#bd3786\"],[0.5555555555555556,\"#d8576b\"],[0.6666666666666666,\"#ed7953\"],[0.7777777777777778,\"#fb9f3a\"],[0.8888888888888888,\"#fdca26\"],[1.0,\"#f0f921\"]]}],\"heatmap\":[{\"type\":\"heatmap\",\"colorbar\":{\"outlinewidth\":0,\"ticks\":\"\"},\"colorscale\":[[0.0,\"#0d0887\"],[0.1111111111111111,\"#46039f\"],[0.2222222222222222,\"#7201a8\"],[0.3333333333333333,\"#9c179e\"],[0.4444444444444444,\"#bd3786\"],[0.5555555555555556,\"#d8576b\"],[0.6666666666666666,\"#ed7953\"],[0.7777777777777778,\"#fb9f3a\"],[0.8888888888888888,\"#fdca26\"],[1.0,\"#f0f921\"]]}],\"heatmapgl\":[{\"type\":\"heatmapgl\",\"colorbar\":{\"outlinewidth\":0,\"ticks\":\"\"},\"colorscale\":[[0.0,\"#0d0887\"],[0.1111111111111111,\"#46039f\"],[0.2222222222222222,\"#7201a8\"],[0.3333333333333333,\"#9c179e\"],[0.4444444444444444,\"#bd3786\"],[0.5555555555555556,\"#d8576b\"],[0.6666666666666666,\"#ed7953\"],[0.7777777777777778,\"#fb9f3a\"],[0.8888888888888888,\"#fdca26\"],[1.0,\"#f0f921\"]]}],\"contourcarpet\":[{\"type\":\"contourcarpet\",\"colorbar\":{\"outlinewidth\":0,\"ticks\":\"\"}}],\"contour\":[{\"type\":\"contour\",\"colorbar\":{\"outlinewidth\":0,\"ticks\":\"\"},\"colorscale\":[[0.0,\"#0d0887\"],[0.1111111111111111,\"#46039f\"],[0.2222222222222222,\"#7201a8\"],[0.3333333333333333,\"#9c179e\"],[0.4444444444444444,\"#bd3786\"],[0.5555555555555556,\"#d8576b\"],[0.6666666666666666,\"#ed7953\"],[0.7777777777777778,\"#fb9f3a\"],[0.8888888888888888,\"#fdca26\"],[1.0,\"#f0f921\"]]}],\"surface\":[{\"type\":\"surface\",\"colorbar\":{\"outlinewidth\":0,\"ticks\":\"\"},\"colorscale\":[[0.0,\"#0d0887\"],[0.1111111111111111,\"#46039f\"],[0.2222222222222222,\"#7201a8\"],[0.3333333333333333,\"#9c179e\"],[0.4444444444444444,\"#bd3786\"],[0.5555555555555556,\"#d8576b\"],[0.6666666666666666,\"#ed7953\"],[0.7777777777777778,\"#fb9f3a\"],[0.8888888888888888,\"#fdca26\"],[1.0,\"#f0f921\"]]}],\"mesh3d\":[{\"type\":\"mesh3d\",\"colorbar\":{\"outlinewidth\":0,\"ticks\":\"\"}}],\"scatter\":[{\"fillpattern\":{\"fillmode\":\"overlay\",\"size\":10,\"solidity\":0.2},\"type\":\"scatter\"}],\"parcoords\":[{\"type\":\"parcoords\",\"line\":{\"colorbar\":{\"outlinewidth\":0,\"ticks\":\"\"}}}],\"scatterpolargl\":[{\"type\":\"scatterpolargl\",\"marker\":{\"colorbar\":{\"outlinewidth\":0,\"ticks\":\"\"}}}],\"bar\":[{\"error_x\":{\"color\":\"#2a3f5f\"},\"error_y\":{\"color\":\"#2a3f5f\"},\"marker\":{\"line\":{\"color\":\"#E5ECF6\",\"width\":0.5},\"pattern\":{\"fillmode\":\"overlay\",\"size\":10,\"solidity\":0.2}},\"type\":\"bar\"}],\"scattergeo\":[{\"type\":\"scattergeo\",\"marker\":{\"colorbar\":{\"outlinewidth\":0,\"ticks\":\"\"}}}],\"scatterpolar\":[{\"type\":\"scatterpolar\",\"marker\":{\"colorbar\":{\"outlinewidth\":0,\"ticks\":\"\"}}}],\"histogram\":[{\"marker\":{\"pattern\":{\"fillmode\":\"overlay\",\"size\":10,\"solidity\":0.2}},\"type\":\"histogram\"}],\"scattergl\":[{\"type\":\"scattergl\",\"marker\":{\"colorbar\":{\"outlinewidth\":0,\"ticks\":\"\"}}}],\"scatter3d\":[{\"type\":\"scatter3d\",\"line\":{\"colorbar\":{\"outlinewidth\":0,\"ticks\":\"\"}},\"marker\":{\"colorbar\":{\"outlinewidth\":0,\"ticks\":\"\"}}}],\"scattermapbox\":[{\"type\":\"scattermapbox\",\"marker\":{\"colorbar\":{\"outlinewidth\":0,\"ticks\":\"\"}}}],\"scatterternary\":[{\"type\":\"scatterternary\",\"marker\":{\"colorbar\":{\"outlinewidth\":0,\"ticks\":\"\"}}}],\"scattercarpet\":[{\"type\":\"scattercarpet\",\"marker\":{\"colorbar\":{\"outlinewidth\":0,\"ticks\":\"\"}}}],\"carpet\":[{\"aaxis\":{\"endlinecolor\":\"#2a3f5f\",\"gridcolor\":\"white\",\"linecolor\":\"white\",\"minorgridcolor\":\"white\",\"startlinecolor\":\"#2a3f5f\"},\"baxis\":{\"endlinecolor\":\"#2a3f5f\",\"gridcolor\":\"white\",\"linecolor\":\"white\",\"minorgridcolor\":\"white\",\"startlinecolor\":\"#2a3f5f\"},\"type\":\"carpet\"}],\"table\":[{\"cells\":{\"fill\":{\"color\":\"#EBF0F8\"},\"line\":{\"color\":\"white\"}},\"header\":{\"fill\":{\"color\":\"#C8D4E3\"},\"line\":{\"color\":\"white\"}},\"type\":\"table\"}],\"barpolar\":[{\"marker\":{\"line\":{\"color\":\"#E5ECF6\",\"width\":0.5},\"pattern\":{\"fillmode\":\"overlay\",\"size\":10,\"solidity\":0.2}},\"type\":\"barpolar\"}],\"pie\":[{\"automargin\":true,\"type\":\"pie\"}]},\"layout\":{\"autotypenumbers\":\"strict\",\"colorway\":[\"#636efa\",\"#EF553B\",\"#00cc96\",\"#ab63fa\",\"#FFA15A\",\"#19d3f3\",\"#FF6692\",\"#B6E880\",\"#FF97FF\",\"#FECB52\"],\"font\":{\"color\":\"#2a3f5f\"},\"hovermode\":\"closest\",\"hoverlabel\":{\"align\":\"left\"},\"paper_bgcolor\":\"white\",\"plot_bgcolor\":\"#E5ECF6\",\"polar\":{\"bgcolor\":\"#E5ECF6\",\"angularaxis\":{\"gridcolor\":\"white\",\"linecolor\":\"white\",\"ticks\":\"\"},\"radialaxis\":{\"gridcolor\":\"white\",\"linecolor\":\"white\",\"ticks\":\"\"}},\"ternary\":{\"bgcolor\":\"#E5ECF6\",\"aaxis\":{\"gridcolor\":\"white\",\"linecolor\":\"white\",\"ticks\":\"\"},\"baxis\":{\"gridcolor\":\"white\",\"linecolor\":\"white\",\"ticks\":\"\"},\"caxis\":{\"gridcolor\":\"white\",\"linecolor\":\"white\",\"ticks\":\"\"}},\"coloraxis\":{\"colorbar\":{\"outlinewidth\":0,\"ticks\":\"\"}},\"colorscale\":{\"sequential\":[[0.0,\"#0d0887\"],[0.1111111111111111,\"#46039f\"],[0.2222222222222222,\"#7201a8\"],[0.3333333333333333,\"#9c179e\"],[0.4444444444444444,\"#bd3786\"],[0.5555555555555556,\"#d8576b\"],[0.6666666666666666,\"#ed7953\"],[0.7777777777777778,\"#fb9f3a\"],[0.8888888888888888,\"#fdca26\"],[1.0,\"#f0f921\"]],\"sequentialminus\":[[0.0,\"#0d0887\"],[0.1111111111111111,\"#46039f\"],[0.2222222222222222,\"#7201a8\"],[0.3333333333333333,\"#9c179e\"],[0.4444444444444444,\"#bd3786\"],[0.5555555555555556,\"#d8576b\"],[0.6666666666666666,\"#ed7953\"],[0.7777777777777778,\"#fb9f3a\"],[0.8888888888888888,\"#fdca26\"],[1.0,\"#f0f921\"]],\"diverging\":[[0,\"#8e0152\"],[0.1,\"#c51b7d\"],[0.2,\"#de77ae\"],[0.3,\"#f1b6da\"],[0.4,\"#fde0ef\"],[0.5,\"#f7f7f7\"],[0.6,\"#e6f5d0\"],[0.7,\"#b8e186\"],[0.8,\"#7fbc41\"],[0.9,\"#4d9221\"],[1,\"#276419\"]]},\"xaxis\":{\"gridcolor\":\"white\",\"linecolor\":\"white\",\"ticks\":\"\",\"title\":{\"standoff\":15},\"zerolinecolor\":\"white\",\"automargin\":true,\"zerolinewidth\":2},\"yaxis\":{\"gridcolor\":\"white\",\"linecolor\":\"white\",\"ticks\":\"\",\"title\":{\"standoff\":15},\"zerolinecolor\":\"white\",\"automargin\":true,\"zerolinewidth\":2},\"scene\":{\"xaxis\":{\"backgroundcolor\":\"#E5ECF6\",\"gridcolor\":\"white\",\"linecolor\":\"white\",\"showbackground\":true,\"ticks\":\"\",\"zerolinecolor\":\"white\",\"gridwidth\":2},\"yaxis\":{\"backgroundcolor\":\"#E5ECF6\",\"gridcolor\":\"white\",\"linecolor\":\"white\",\"showbackground\":true,\"ticks\":\"\",\"zerolinecolor\":\"white\",\"gridwidth\":2},\"zaxis\":{\"backgroundcolor\":\"#E5ECF6\",\"gridcolor\":\"white\",\"linecolor\":\"white\",\"showbackground\":true,\"ticks\":\"\",\"zerolinecolor\":\"white\",\"gridwidth\":2}},\"shapedefaults\":{\"line\":{\"color\":\"#2a3f5f\"}},\"annotationdefaults\":{\"arrowcolor\":\"#2a3f5f\",\"arrowhead\":0,\"arrowwidth\":1},\"geo\":{\"bgcolor\":\"white\",\"landcolor\":\"#E5ECF6\",\"subunitcolor\":\"white\",\"showland\":true,\"showlakes\":true,\"lakecolor\":\"white\"},\"title\":{\"x\":0.05},\"mapbox\":{\"style\":\"light\"}}},\"xaxis\":{\"anchor\":\"y\",\"domain\":[0.0,1.0],\"title\":{\"text\":\"first_date\"},\"tickangle\":-90,\"tickmode\":\"linear\"},\"yaxis\":{\"anchor\":\"x\",\"domain\":[0.0,1.0],\"title\":{\"text\":\"\\u041a\\u043e\\u043b\\u0438\\u0447\\u0435\\u0441\\u0442\\u0432\\u043e \\u0441\\u043e\\u0431\\u044b\\u0442\\u0438\\u0439\"}},\"legend\":{\"tracegroupgap\":0},\"margin\":{\"t\":60,\"l\":0,\"r\":0},\"barmode\":\"relative\",\"title\":{\"text\":\"\\u0420\\u0430\\u0441\\u043f\\u0440\\u0435\\u0434\\u0435\\u043b\\u0435\\u043d\\u0438\\u0435 \\u043a\\u043e\\u043b\\u0438\\u0447\\u0435\\u0441\\u0442\\u0432\\u0430 \\u0441\\u043e\\u0431\\u044b\\u0442\\u0438\\u0439 \\u043f\\u0440\\u0438 \\u0440\\u0435\\u0433\\u0438\\u0441\\u0442\\u0440\\u0430\\u0446\\u0438\\u0438\"}},                        {\"responsive\": true}                    ).then(function(){\n",
              "                            \n",
              "var gd = document.getElementById('2eba4dc5-ca93-429e-8e26-5f1e229ce2a3');\n",
              "var x = new MutationObserver(function (mutations, observer) {{\n",
              "        var display = window.getComputedStyle(gd).display;\n",
              "        if (!display || display === 'none') {{\n",
              "            console.log([gd, 'removed!']);\n",
              "            Plotly.purge(gd);\n",
              "            observer.disconnect();\n",
              "        }}\n",
              "}});\n",
              "\n",
              "// Listen for the removal of the full notebook cells\n",
              "var notebookContainer = gd.closest('#notebook-container');\n",
              "if (notebookContainer) {{\n",
              "    x.observe(notebookContainer, {childList: true});\n",
              "}}\n",
              "\n",
              "// Listen for the clearing of the current output cell\n",
              "var outputEl = gd.closest('.output');\n",
              "if (outputEl) {{\n",
              "    x.observe(outputEl, {childList: true});\n",
              "}}\n",
              "\n",
              "                        })                };                            </script>        </div>\n",
              "</body>\n",
              "</html>"
            ]
          },
          "metadata": {}
        }
      ],
      "source": [
        "my_bar(t, t['first_date'], t['user_id'],\n",
        "      'Распределение количества событий при регистрации', 'Количество событий')"
      ]
    },
    {
      "cell_type": "markdown",
      "metadata": {
        "id": "Xphd7xLwSLU5"
      },
      "source": [
        "Участники регистрировались неравномерно, особенно в последний день регистрации."
      ]
    },
    {
      "cell_type": "markdown",
      "metadata": {
        "id": "xhh-iu9WSLU5"
      },
      "source": [
        "### Проверка даты остановки эксперимента (наблюдения) `recommender_system_test`."
      ]
    },
    {
      "cell_type": "code",
      "execution_count": null,
      "metadata": {
        "id": "b3WP-fqDSLU6"
      },
      "outputs": [],
      "source": [
        "#Проверим дату остановки эксперимента (наблюдения).\n",
        "\n",
        "#Список всех событий у нас лежит в переменной `final_ab_events`."
      ]
    },
    {
      "cell_type": "code",
      "execution_count": null,
      "metadata": {
        "id": "WEF9AB4hSLU6",
        "outputId": "6f6342d5-6172-48b0-8f25-a0dd72d2fa63",
        "colab": {
          "base_uri": "https://localhost:8080/"
        }
      },
      "outputs": [
        {
          "output_type": "execute_result",
          "data": {
            "text/plain": [
              "24698"
            ]
          },
          "metadata": {},
          "execution_count": 31
        }
      ],
      "source": [
        "events = final_ab_events[final_ab_events.user_id.isin(test)]\n",
        "final_ab_events.user_id.isin(test).sum()"
      ]
    },
    {
      "cell_type": "code",
      "execution_count": null,
      "metadata": {
        "id": "XoskVf1xSLU6",
        "outputId": "55e9ed17-d996-4940-ed00-a431451e790d",
        "colab": {
          "base_uri": "https://localhost:8080/",
          "height": 424
        }
      },
      "outputs": [
        {
          "output_type": "execute_result",
          "data": {
            "text/plain": [
              "                 user_id            event_dt event_name  details\n",
              "5       831887FE7F2D6CBA 2020-12-07 06:50:29   purchase     4.99\n",
              "17      3C5DD0288AC4FE23 2020-12-07 19:42:40   purchase     4.99\n",
              "58      49EA242586C87836 2020-12-07 06:31:24   purchase    99.99\n",
              "71      2B06EB547B7AAD08 2020-12-07 21:36:38   purchase     4.99\n",
              "74      A640F31CAC7823A6 2020-12-07 18:48:26   purchase     4.99\n",
              "...                  ...                 ...        ...      ...\n",
              "440239  D21F0D4FDCD82DB2 2020-12-29 02:17:00      login     0.00\n",
              "440258  96BDD55846D1F7F6 2020-12-29 16:53:42      login     0.00\n",
              "440267  553BAE96C6EB6240 2020-12-29 14:09:14      login     0.00\n",
              "440281  DD4352CDCF8C3D57 2020-12-30 12:42:56      login     0.00\n",
              "440289  75845C83258FBF73 2020-12-30 06:42:52      login     0.00\n",
              "\n",
              "[24698 rows x 4 columns]"
            ],
            "text/html": [
              "\n",
              "  <div id=\"df-e3b93e60-9d05-4914-af94-55ecd8f98bdd\">\n",
              "    <div class=\"colab-df-container\">\n",
              "      <div>\n",
              "<style scoped>\n",
              "    .dataframe tbody tr th:only-of-type {\n",
              "        vertical-align: middle;\n",
              "    }\n",
              "\n",
              "    .dataframe tbody tr th {\n",
              "        vertical-align: top;\n",
              "    }\n",
              "\n",
              "    .dataframe thead th {\n",
              "        text-align: right;\n",
              "    }\n",
              "</style>\n",
              "<table border=\"1\" class=\"dataframe\">\n",
              "  <thead>\n",
              "    <tr style=\"text-align: right;\">\n",
              "      <th></th>\n",
              "      <th>user_id</th>\n",
              "      <th>event_dt</th>\n",
              "      <th>event_name</th>\n",
              "      <th>details</th>\n",
              "    </tr>\n",
              "  </thead>\n",
              "  <tbody>\n",
              "    <tr>\n",
              "      <th>5</th>\n",
              "      <td>831887FE7F2D6CBA</td>\n",
              "      <td>2020-12-07 06:50:29</td>\n",
              "      <td>purchase</td>\n",
              "      <td>4.99</td>\n",
              "    </tr>\n",
              "    <tr>\n",
              "      <th>17</th>\n",
              "      <td>3C5DD0288AC4FE23</td>\n",
              "      <td>2020-12-07 19:42:40</td>\n",
              "      <td>purchase</td>\n",
              "      <td>4.99</td>\n",
              "    </tr>\n",
              "    <tr>\n",
              "      <th>58</th>\n",
              "      <td>49EA242586C87836</td>\n",
              "      <td>2020-12-07 06:31:24</td>\n",
              "      <td>purchase</td>\n",
              "      <td>99.99</td>\n",
              "    </tr>\n",
              "    <tr>\n",
              "      <th>71</th>\n",
              "      <td>2B06EB547B7AAD08</td>\n",
              "      <td>2020-12-07 21:36:38</td>\n",
              "      <td>purchase</td>\n",
              "      <td>4.99</td>\n",
              "    </tr>\n",
              "    <tr>\n",
              "      <th>74</th>\n",
              "      <td>A640F31CAC7823A6</td>\n",
              "      <td>2020-12-07 18:48:26</td>\n",
              "      <td>purchase</td>\n",
              "      <td>4.99</td>\n",
              "    </tr>\n",
              "    <tr>\n",
              "      <th>...</th>\n",
              "      <td>...</td>\n",
              "      <td>...</td>\n",
              "      <td>...</td>\n",
              "      <td>...</td>\n",
              "    </tr>\n",
              "    <tr>\n",
              "      <th>440239</th>\n",
              "      <td>D21F0D4FDCD82DB2</td>\n",
              "      <td>2020-12-29 02:17:00</td>\n",
              "      <td>login</td>\n",
              "      <td>0.00</td>\n",
              "    </tr>\n",
              "    <tr>\n",
              "      <th>440258</th>\n",
              "      <td>96BDD55846D1F7F6</td>\n",
              "      <td>2020-12-29 16:53:42</td>\n",
              "      <td>login</td>\n",
              "      <td>0.00</td>\n",
              "    </tr>\n",
              "    <tr>\n",
              "      <th>440267</th>\n",
              "      <td>553BAE96C6EB6240</td>\n",
              "      <td>2020-12-29 14:09:14</td>\n",
              "      <td>login</td>\n",
              "      <td>0.00</td>\n",
              "    </tr>\n",
              "    <tr>\n",
              "      <th>440281</th>\n",
              "      <td>DD4352CDCF8C3D57</td>\n",
              "      <td>2020-12-30 12:42:56</td>\n",
              "      <td>login</td>\n",
              "      <td>0.00</td>\n",
              "    </tr>\n",
              "    <tr>\n",
              "      <th>440289</th>\n",
              "      <td>75845C83258FBF73</td>\n",
              "      <td>2020-12-30 06:42:52</td>\n",
              "      <td>login</td>\n",
              "      <td>0.00</td>\n",
              "    </tr>\n",
              "  </tbody>\n",
              "</table>\n",
              "<p>24698 rows × 4 columns</p>\n",
              "</div>\n",
              "      <button class=\"colab-df-convert\" onclick=\"convertToInteractive('df-e3b93e60-9d05-4914-af94-55ecd8f98bdd')\"\n",
              "              title=\"Convert this dataframe to an interactive table.\"\n",
              "              style=\"display:none;\">\n",
              "        \n",
              "  <svg xmlns=\"http://www.w3.org/2000/svg\" height=\"24px\"viewBox=\"0 0 24 24\"\n",
              "       width=\"24px\">\n",
              "    <path d=\"M0 0h24v24H0V0z\" fill=\"none\"/>\n",
              "    <path d=\"M18.56 5.44l.94 2.06.94-2.06 2.06-.94-2.06-.94-.94-2.06-.94 2.06-2.06.94zm-11 1L8.5 8.5l.94-2.06 2.06-.94-2.06-.94L8.5 2.5l-.94 2.06-2.06.94zm10 10l.94 2.06.94-2.06 2.06-.94-2.06-.94-.94-2.06-.94 2.06-2.06.94z\"/><path d=\"M17.41 7.96l-1.37-1.37c-.4-.4-.92-.59-1.43-.59-.52 0-1.04.2-1.43.59L10.3 9.45l-7.72 7.72c-.78.78-.78 2.05 0 2.83L4 21.41c.39.39.9.59 1.41.59.51 0 1.02-.2 1.41-.59l7.78-7.78 2.81-2.81c.8-.78.8-2.07 0-2.86zM5.41 20L4 18.59l7.72-7.72 1.47 1.35L5.41 20z\"/>\n",
              "  </svg>\n",
              "      </button>\n",
              "      \n",
              "  <style>\n",
              "    .colab-df-container {\n",
              "      display:flex;\n",
              "      flex-wrap:wrap;\n",
              "      gap: 12px;\n",
              "    }\n",
              "\n",
              "    .colab-df-convert {\n",
              "      background-color: #E8F0FE;\n",
              "      border: none;\n",
              "      border-radius: 50%;\n",
              "      cursor: pointer;\n",
              "      display: none;\n",
              "      fill: #1967D2;\n",
              "      height: 32px;\n",
              "      padding: 0 0 0 0;\n",
              "      width: 32px;\n",
              "    }\n",
              "\n",
              "    .colab-df-convert:hover {\n",
              "      background-color: #E2EBFA;\n",
              "      box-shadow: 0px 1px 2px rgba(60, 64, 67, 0.3), 0px 1px 3px 1px rgba(60, 64, 67, 0.15);\n",
              "      fill: #174EA6;\n",
              "    }\n",
              "\n",
              "    [theme=dark] .colab-df-convert {\n",
              "      background-color: #3B4455;\n",
              "      fill: #D2E3FC;\n",
              "    }\n",
              "\n",
              "    [theme=dark] .colab-df-convert:hover {\n",
              "      background-color: #434B5C;\n",
              "      box-shadow: 0px 1px 3px 1px rgba(0, 0, 0, 0.15);\n",
              "      filter: drop-shadow(0px 1px 2px rgba(0, 0, 0, 0.3));\n",
              "      fill: #FFFFFF;\n",
              "    }\n",
              "  </style>\n",
              "\n",
              "      <script>\n",
              "        const buttonEl =\n",
              "          document.querySelector('#df-e3b93e60-9d05-4914-af94-55ecd8f98bdd button.colab-df-convert');\n",
              "        buttonEl.style.display =\n",
              "          google.colab.kernel.accessAllowed ? 'block' : 'none';\n",
              "\n",
              "        async function convertToInteractive(key) {\n",
              "          const element = document.querySelector('#df-e3b93e60-9d05-4914-af94-55ecd8f98bdd');\n",
              "          const dataTable =\n",
              "            await google.colab.kernel.invokeFunction('convertToInteractive',\n",
              "                                                     [key], {});\n",
              "          if (!dataTable) return;\n",
              "\n",
              "          const docLinkHtml = 'Like what you see? Visit the ' +\n",
              "            '<a target=\"_blank\" href=https://colab.research.google.com/notebooks/data_table.ipynb>data table notebook</a>'\n",
              "            + ' to learn more about interactive tables.';\n",
              "          element.innerHTML = '';\n",
              "          dataTable['output_type'] = 'display_data';\n",
              "          await google.colab.output.renderOutput(dataTable, element);\n",
              "          const docLink = document.createElement('div');\n",
              "          docLink.innerHTML = docLinkHtml;\n",
              "          element.appendChild(docLink);\n",
              "        }\n",
              "      </script>\n",
              "    </div>\n",
              "  </div>\n",
              "  "
            ]
          },
          "metadata": {},
          "execution_count": 32
        }
      ],
      "source": [
        "# переменная хранящая события участников эксперимента\n",
        "events"
      ]
    },
    {
      "cell_type": "code",
      "execution_count": null,
      "metadata": {
        "id": "9-McQ3PkSLU6"
      },
      "outputs": [],
      "source": [
        "t = events.copy()"
      ]
    },
    {
      "cell_type": "code",
      "execution_count": null,
      "metadata": {
        "id": "c3zqoFQqSLU7",
        "outputId": "bf08ddcd-32c8-44cb-c948-9368af279d85",
        "colab": {
          "base_uri": "https://localhost:8080/",
          "height": 424
        }
      },
      "outputs": [
        {
          "output_type": "execute_result",
          "data": {
            "text/plain": [
              "                 user_id            event_dt event_name  details event_dt_day\n",
              "5       831887FE7F2D6CBA 2020-12-07 06:50:29   purchase     4.99   2020-12-07\n",
              "17      3C5DD0288AC4FE23 2020-12-07 19:42:40   purchase     4.99   2020-12-07\n",
              "58      49EA242586C87836 2020-12-07 06:31:24   purchase    99.99   2020-12-07\n",
              "71      2B06EB547B7AAD08 2020-12-07 21:36:38   purchase     4.99   2020-12-07\n",
              "74      A640F31CAC7823A6 2020-12-07 18:48:26   purchase     4.99   2020-12-07\n",
              "...                  ...                 ...        ...      ...          ...\n",
              "440239  D21F0D4FDCD82DB2 2020-12-29 02:17:00      login     0.00   2020-12-29\n",
              "440258  96BDD55846D1F7F6 2020-12-29 16:53:42      login     0.00   2020-12-29\n",
              "440267  553BAE96C6EB6240 2020-12-29 14:09:14      login     0.00   2020-12-29\n",
              "440281  DD4352CDCF8C3D57 2020-12-30 12:42:56      login     0.00   2020-12-30\n",
              "440289  75845C83258FBF73 2020-12-30 06:42:52      login     0.00   2020-12-30\n",
              "\n",
              "[24698 rows x 5 columns]"
            ],
            "text/html": [
              "\n",
              "  <div id=\"df-ae3f917b-52ab-410f-87db-1d39852c66aa\">\n",
              "    <div class=\"colab-df-container\">\n",
              "      <div>\n",
              "<style scoped>\n",
              "    .dataframe tbody tr th:only-of-type {\n",
              "        vertical-align: middle;\n",
              "    }\n",
              "\n",
              "    .dataframe tbody tr th {\n",
              "        vertical-align: top;\n",
              "    }\n",
              "\n",
              "    .dataframe thead th {\n",
              "        text-align: right;\n",
              "    }\n",
              "</style>\n",
              "<table border=\"1\" class=\"dataframe\">\n",
              "  <thead>\n",
              "    <tr style=\"text-align: right;\">\n",
              "      <th></th>\n",
              "      <th>user_id</th>\n",
              "      <th>event_dt</th>\n",
              "      <th>event_name</th>\n",
              "      <th>details</th>\n",
              "      <th>event_dt_day</th>\n",
              "    </tr>\n",
              "  </thead>\n",
              "  <tbody>\n",
              "    <tr>\n",
              "      <th>5</th>\n",
              "      <td>831887FE7F2D6CBA</td>\n",
              "      <td>2020-12-07 06:50:29</td>\n",
              "      <td>purchase</td>\n",
              "      <td>4.99</td>\n",
              "      <td>2020-12-07</td>\n",
              "    </tr>\n",
              "    <tr>\n",
              "      <th>17</th>\n",
              "      <td>3C5DD0288AC4FE23</td>\n",
              "      <td>2020-12-07 19:42:40</td>\n",
              "      <td>purchase</td>\n",
              "      <td>4.99</td>\n",
              "      <td>2020-12-07</td>\n",
              "    </tr>\n",
              "    <tr>\n",
              "      <th>58</th>\n",
              "      <td>49EA242586C87836</td>\n",
              "      <td>2020-12-07 06:31:24</td>\n",
              "      <td>purchase</td>\n",
              "      <td>99.99</td>\n",
              "      <td>2020-12-07</td>\n",
              "    </tr>\n",
              "    <tr>\n",
              "      <th>71</th>\n",
              "      <td>2B06EB547B7AAD08</td>\n",
              "      <td>2020-12-07 21:36:38</td>\n",
              "      <td>purchase</td>\n",
              "      <td>4.99</td>\n",
              "      <td>2020-12-07</td>\n",
              "    </tr>\n",
              "    <tr>\n",
              "      <th>74</th>\n",
              "      <td>A640F31CAC7823A6</td>\n",
              "      <td>2020-12-07 18:48:26</td>\n",
              "      <td>purchase</td>\n",
              "      <td>4.99</td>\n",
              "      <td>2020-12-07</td>\n",
              "    </tr>\n",
              "    <tr>\n",
              "      <th>...</th>\n",
              "      <td>...</td>\n",
              "      <td>...</td>\n",
              "      <td>...</td>\n",
              "      <td>...</td>\n",
              "      <td>...</td>\n",
              "    </tr>\n",
              "    <tr>\n",
              "      <th>440239</th>\n",
              "      <td>D21F0D4FDCD82DB2</td>\n",
              "      <td>2020-12-29 02:17:00</td>\n",
              "      <td>login</td>\n",
              "      <td>0.00</td>\n",
              "      <td>2020-12-29</td>\n",
              "    </tr>\n",
              "    <tr>\n",
              "      <th>440258</th>\n",
              "      <td>96BDD55846D1F7F6</td>\n",
              "      <td>2020-12-29 16:53:42</td>\n",
              "      <td>login</td>\n",
              "      <td>0.00</td>\n",
              "      <td>2020-12-29</td>\n",
              "    </tr>\n",
              "    <tr>\n",
              "      <th>440267</th>\n",
              "      <td>553BAE96C6EB6240</td>\n",
              "      <td>2020-12-29 14:09:14</td>\n",
              "      <td>login</td>\n",
              "      <td>0.00</td>\n",
              "      <td>2020-12-29</td>\n",
              "    </tr>\n",
              "    <tr>\n",
              "      <th>440281</th>\n",
              "      <td>DD4352CDCF8C3D57</td>\n",
              "      <td>2020-12-30 12:42:56</td>\n",
              "      <td>login</td>\n",
              "      <td>0.00</td>\n",
              "      <td>2020-12-30</td>\n",
              "    </tr>\n",
              "    <tr>\n",
              "      <th>440289</th>\n",
              "      <td>75845C83258FBF73</td>\n",
              "      <td>2020-12-30 06:42:52</td>\n",
              "      <td>login</td>\n",
              "      <td>0.00</td>\n",
              "      <td>2020-12-30</td>\n",
              "    </tr>\n",
              "  </tbody>\n",
              "</table>\n",
              "<p>24698 rows × 5 columns</p>\n",
              "</div>\n",
              "      <button class=\"colab-df-convert\" onclick=\"convertToInteractive('df-ae3f917b-52ab-410f-87db-1d39852c66aa')\"\n",
              "              title=\"Convert this dataframe to an interactive table.\"\n",
              "              style=\"display:none;\">\n",
              "        \n",
              "  <svg xmlns=\"http://www.w3.org/2000/svg\" height=\"24px\"viewBox=\"0 0 24 24\"\n",
              "       width=\"24px\">\n",
              "    <path d=\"M0 0h24v24H0V0z\" fill=\"none\"/>\n",
              "    <path d=\"M18.56 5.44l.94 2.06.94-2.06 2.06-.94-2.06-.94-.94-2.06-.94 2.06-2.06.94zm-11 1L8.5 8.5l.94-2.06 2.06-.94-2.06-.94L8.5 2.5l-.94 2.06-2.06.94zm10 10l.94 2.06.94-2.06 2.06-.94-2.06-.94-.94-2.06-.94 2.06-2.06.94z\"/><path d=\"M17.41 7.96l-1.37-1.37c-.4-.4-.92-.59-1.43-.59-.52 0-1.04.2-1.43.59L10.3 9.45l-7.72 7.72c-.78.78-.78 2.05 0 2.83L4 21.41c.39.39.9.59 1.41.59.51 0 1.02-.2 1.41-.59l7.78-7.78 2.81-2.81c.8-.78.8-2.07 0-2.86zM5.41 20L4 18.59l7.72-7.72 1.47 1.35L5.41 20z\"/>\n",
              "  </svg>\n",
              "      </button>\n",
              "      \n",
              "  <style>\n",
              "    .colab-df-container {\n",
              "      display:flex;\n",
              "      flex-wrap:wrap;\n",
              "      gap: 12px;\n",
              "    }\n",
              "\n",
              "    .colab-df-convert {\n",
              "      background-color: #E8F0FE;\n",
              "      border: none;\n",
              "      border-radius: 50%;\n",
              "      cursor: pointer;\n",
              "      display: none;\n",
              "      fill: #1967D2;\n",
              "      height: 32px;\n",
              "      padding: 0 0 0 0;\n",
              "      width: 32px;\n",
              "    }\n",
              "\n",
              "    .colab-df-convert:hover {\n",
              "      background-color: #E2EBFA;\n",
              "      box-shadow: 0px 1px 2px rgba(60, 64, 67, 0.3), 0px 1px 3px 1px rgba(60, 64, 67, 0.15);\n",
              "      fill: #174EA6;\n",
              "    }\n",
              "\n",
              "    [theme=dark] .colab-df-convert {\n",
              "      background-color: #3B4455;\n",
              "      fill: #D2E3FC;\n",
              "    }\n",
              "\n",
              "    [theme=dark] .colab-df-convert:hover {\n",
              "      background-color: #434B5C;\n",
              "      box-shadow: 0px 1px 3px 1px rgba(0, 0, 0, 0.15);\n",
              "      filter: drop-shadow(0px 1px 2px rgba(0, 0, 0, 0.3));\n",
              "      fill: #FFFFFF;\n",
              "    }\n",
              "  </style>\n",
              "\n",
              "      <script>\n",
              "        const buttonEl =\n",
              "          document.querySelector('#df-ae3f917b-52ab-410f-87db-1d39852c66aa button.colab-df-convert');\n",
              "        buttonEl.style.display =\n",
              "          google.colab.kernel.accessAllowed ? 'block' : 'none';\n",
              "\n",
              "        async function convertToInteractive(key) {\n",
              "          const element = document.querySelector('#df-ae3f917b-52ab-410f-87db-1d39852c66aa');\n",
              "          const dataTable =\n",
              "            await google.colab.kernel.invokeFunction('convertToInteractive',\n",
              "                                                     [key], {});\n",
              "          if (!dataTable) return;\n",
              "\n",
              "          const docLinkHtml = 'Like what you see? Visit the ' +\n",
              "            '<a target=\"_blank\" href=https://colab.research.google.com/notebooks/data_table.ipynb>data table notebook</a>'\n",
              "            + ' to learn more about interactive tables.';\n",
              "          element.innerHTML = '';\n",
              "          dataTable['output_type'] = 'display_data';\n",
              "          await google.colab.output.renderOutput(dataTable, element);\n",
              "          const docLink = document.createElement('div');\n",
              "          docLink.innerHTML = docLinkHtml;\n",
              "          element.appendChild(docLink);\n",
              "        }\n",
              "      </script>\n",
              "    </div>\n",
              "  </div>\n",
              "  "
            ]
          },
          "metadata": {},
          "execution_count": 34
        }
      ],
      "source": [
        "t['event_dt_day'] = t.event_dt.dt.date\n",
        "t"
      ]
    },
    {
      "cell_type": "code",
      "execution_count": null,
      "metadata": {
        "id": "IZEZlI2eSLU7",
        "outputId": "2fd2af7a-3c0c-4405-be04-2e0585b3eeb3",
        "colab": {
          "base_uri": "https://localhost:8080/",
          "height": 802
        }
      },
      "outputs": [
        {
          "output_type": "execute_result",
          "data": {
            "text/plain": [
              "   event_dt_day  user_id\n",
              "0    2020-12-07      709\n",
              "1    2020-12-08      593\n",
              "2    2020-12-09      746\n",
              "3    2020-12-10      613\n",
              "4    2020-12-11      542\n",
              "5    2020-12-12      558\n",
              "6    2020-12-13      504\n",
              "7    2020-12-14     1355\n",
              "8    2020-12-15     1316\n",
              "9    2020-12-16     1454\n",
              "10   2020-12-17     1548\n",
              "11   2020-12-18     1584\n",
              "12   2020-12-19     1810\n",
              "13   2020-12-20     1848\n",
              "14   2020-12-21     2441\n",
              "15   2020-12-22     1506\n",
              "16   2020-12-23     1201\n",
              "17   2020-12-24     1042\n",
              "18   2020-12-25      789\n",
              "19   2020-12-26      733\n",
              "20   2020-12-27      691\n",
              "21   2020-12-28      603\n",
              "22   2020-12-29      508\n",
              "23   2020-12-30        4"
            ],
            "text/html": [
              "\n",
              "  <div id=\"df-4f848467-7be5-4f91-b121-49191f3fc3a9\">\n",
              "    <div class=\"colab-df-container\">\n",
              "      <div>\n",
              "<style scoped>\n",
              "    .dataframe tbody tr th:only-of-type {\n",
              "        vertical-align: middle;\n",
              "    }\n",
              "\n",
              "    .dataframe tbody tr th {\n",
              "        vertical-align: top;\n",
              "    }\n",
              "\n",
              "    .dataframe thead th {\n",
              "        text-align: right;\n",
              "    }\n",
              "</style>\n",
              "<table border=\"1\" class=\"dataframe\">\n",
              "  <thead>\n",
              "    <tr style=\"text-align: right;\">\n",
              "      <th></th>\n",
              "      <th>event_dt_day</th>\n",
              "      <th>user_id</th>\n",
              "    </tr>\n",
              "  </thead>\n",
              "  <tbody>\n",
              "    <tr>\n",
              "      <th>0</th>\n",
              "      <td>2020-12-07</td>\n",
              "      <td>709</td>\n",
              "    </tr>\n",
              "    <tr>\n",
              "      <th>1</th>\n",
              "      <td>2020-12-08</td>\n",
              "      <td>593</td>\n",
              "    </tr>\n",
              "    <tr>\n",
              "      <th>2</th>\n",
              "      <td>2020-12-09</td>\n",
              "      <td>746</td>\n",
              "    </tr>\n",
              "    <tr>\n",
              "      <th>3</th>\n",
              "      <td>2020-12-10</td>\n",
              "      <td>613</td>\n",
              "    </tr>\n",
              "    <tr>\n",
              "      <th>4</th>\n",
              "      <td>2020-12-11</td>\n",
              "      <td>542</td>\n",
              "    </tr>\n",
              "    <tr>\n",
              "      <th>5</th>\n",
              "      <td>2020-12-12</td>\n",
              "      <td>558</td>\n",
              "    </tr>\n",
              "    <tr>\n",
              "      <th>6</th>\n",
              "      <td>2020-12-13</td>\n",
              "      <td>504</td>\n",
              "    </tr>\n",
              "    <tr>\n",
              "      <th>7</th>\n",
              "      <td>2020-12-14</td>\n",
              "      <td>1355</td>\n",
              "    </tr>\n",
              "    <tr>\n",
              "      <th>8</th>\n",
              "      <td>2020-12-15</td>\n",
              "      <td>1316</td>\n",
              "    </tr>\n",
              "    <tr>\n",
              "      <th>9</th>\n",
              "      <td>2020-12-16</td>\n",
              "      <td>1454</td>\n",
              "    </tr>\n",
              "    <tr>\n",
              "      <th>10</th>\n",
              "      <td>2020-12-17</td>\n",
              "      <td>1548</td>\n",
              "    </tr>\n",
              "    <tr>\n",
              "      <th>11</th>\n",
              "      <td>2020-12-18</td>\n",
              "      <td>1584</td>\n",
              "    </tr>\n",
              "    <tr>\n",
              "      <th>12</th>\n",
              "      <td>2020-12-19</td>\n",
              "      <td>1810</td>\n",
              "    </tr>\n",
              "    <tr>\n",
              "      <th>13</th>\n",
              "      <td>2020-12-20</td>\n",
              "      <td>1848</td>\n",
              "    </tr>\n",
              "    <tr>\n",
              "      <th>14</th>\n",
              "      <td>2020-12-21</td>\n",
              "      <td>2441</td>\n",
              "    </tr>\n",
              "    <tr>\n",
              "      <th>15</th>\n",
              "      <td>2020-12-22</td>\n",
              "      <td>1506</td>\n",
              "    </tr>\n",
              "    <tr>\n",
              "      <th>16</th>\n",
              "      <td>2020-12-23</td>\n",
              "      <td>1201</td>\n",
              "    </tr>\n",
              "    <tr>\n",
              "      <th>17</th>\n",
              "      <td>2020-12-24</td>\n",
              "      <td>1042</td>\n",
              "    </tr>\n",
              "    <tr>\n",
              "      <th>18</th>\n",
              "      <td>2020-12-25</td>\n",
              "      <td>789</td>\n",
              "    </tr>\n",
              "    <tr>\n",
              "      <th>19</th>\n",
              "      <td>2020-12-26</td>\n",
              "      <td>733</td>\n",
              "    </tr>\n",
              "    <tr>\n",
              "      <th>20</th>\n",
              "      <td>2020-12-27</td>\n",
              "      <td>691</td>\n",
              "    </tr>\n",
              "    <tr>\n",
              "      <th>21</th>\n",
              "      <td>2020-12-28</td>\n",
              "      <td>603</td>\n",
              "    </tr>\n",
              "    <tr>\n",
              "      <th>22</th>\n",
              "      <td>2020-12-29</td>\n",
              "      <td>508</td>\n",
              "    </tr>\n",
              "    <tr>\n",
              "      <th>23</th>\n",
              "      <td>2020-12-30</td>\n",
              "      <td>4</td>\n",
              "    </tr>\n",
              "  </tbody>\n",
              "</table>\n",
              "</div>\n",
              "      <button class=\"colab-df-convert\" onclick=\"convertToInteractive('df-4f848467-7be5-4f91-b121-49191f3fc3a9')\"\n",
              "              title=\"Convert this dataframe to an interactive table.\"\n",
              "              style=\"display:none;\">\n",
              "        \n",
              "  <svg xmlns=\"http://www.w3.org/2000/svg\" height=\"24px\"viewBox=\"0 0 24 24\"\n",
              "       width=\"24px\">\n",
              "    <path d=\"M0 0h24v24H0V0z\" fill=\"none\"/>\n",
              "    <path d=\"M18.56 5.44l.94 2.06.94-2.06 2.06-.94-2.06-.94-.94-2.06-.94 2.06-2.06.94zm-11 1L8.5 8.5l.94-2.06 2.06-.94-2.06-.94L8.5 2.5l-.94 2.06-2.06.94zm10 10l.94 2.06.94-2.06 2.06-.94-2.06-.94-.94-2.06-.94 2.06-2.06.94z\"/><path d=\"M17.41 7.96l-1.37-1.37c-.4-.4-.92-.59-1.43-.59-.52 0-1.04.2-1.43.59L10.3 9.45l-7.72 7.72c-.78.78-.78 2.05 0 2.83L4 21.41c.39.39.9.59 1.41.59.51 0 1.02-.2 1.41-.59l7.78-7.78 2.81-2.81c.8-.78.8-2.07 0-2.86zM5.41 20L4 18.59l7.72-7.72 1.47 1.35L5.41 20z\"/>\n",
              "  </svg>\n",
              "      </button>\n",
              "      \n",
              "  <style>\n",
              "    .colab-df-container {\n",
              "      display:flex;\n",
              "      flex-wrap:wrap;\n",
              "      gap: 12px;\n",
              "    }\n",
              "\n",
              "    .colab-df-convert {\n",
              "      background-color: #E8F0FE;\n",
              "      border: none;\n",
              "      border-radius: 50%;\n",
              "      cursor: pointer;\n",
              "      display: none;\n",
              "      fill: #1967D2;\n",
              "      height: 32px;\n",
              "      padding: 0 0 0 0;\n",
              "      width: 32px;\n",
              "    }\n",
              "\n",
              "    .colab-df-convert:hover {\n",
              "      background-color: #E2EBFA;\n",
              "      box-shadow: 0px 1px 2px rgba(60, 64, 67, 0.3), 0px 1px 3px 1px rgba(60, 64, 67, 0.15);\n",
              "      fill: #174EA6;\n",
              "    }\n",
              "\n",
              "    [theme=dark] .colab-df-convert {\n",
              "      background-color: #3B4455;\n",
              "      fill: #D2E3FC;\n",
              "    }\n",
              "\n",
              "    [theme=dark] .colab-df-convert:hover {\n",
              "      background-color: #434B5C;\n",
              "      box-shadow: 0px 1px 3px 1px rgba(0, 0, 0, 0.15);\n",
              "      filter: drop-shadow(0px 1px 2px rgba(0, 0, 0, 0.3));\n",
              "      fill: #FFFFFF;\n",
              "    }\n",
              "  </style>\n",
              "\n",
              "      <script>\n",
              "        const buttonEl =\n",
              "          document.querySelector('#df-4f848467-7be5-4f91-b121-49191f3fc3a9 button.colab-df-convert');\n",
              "        buttonEl.style.display =\n",
              "          google.colab.kernel.accessAllowed ? 'block' : 'none';\n",
              "\n",
              "        async function convertToInteractive(key) {\n",
              "          const element = document.querySelector('#df-4f848467-7be5-4f91-b121-49191f3fc3a9');\n",
              "          const dataTable =\n",
              "            await google.colab.kernel.invokeFunction('convertToInteractive',\n",
              "                                                     [key], {});\n",
              "          if (!dataTable) return;\n",
              "\n",
              "          const docLinkHtml = 'Like what you see? Visit the ' +\n",
              "            '<a target=\"_blank\" href=https://colab.research.google.com/notebooks/data_table.ipynb>data table notebook</a>'\n",
              "            + ' to learn more about interactive tables.';\n",
              "          element.innerHTML = '';\n",
              "          dataTable['output_type'] = 'display_data';\n",
              "          await google.colab.output.renderOutput(dataTable, element);\n",
              "          const docLink = document.createElement('div');\n",
              "          docLink.innerHTML = docLinkHtml;\n",
              "          element.appendChild(docLink);\n",
              "        }\n",
              "      </script>\n",
              "    </div>\n",
              "  </div>\n",
              "  "
            ]
          },
          "metadata": {},
          "execution_count": 35
        }
      ],
      "source": [
        "t = t.groupby(by = 'event_dt_day', as_index=False).agg({'user_id':\"count\"})\n",
        "t"
      ]
    },
    {
      "cell_type": "code",
      "execution_count": null,
      "metadata": {
        "id": "TZVdtffhSLU7",
        "outputId": "a932a0ae-9f85-49ec-b340-a86c7551e8a1",
        "colab": {
          "base_uri": "https://localhost:8080/",
          "height": 631
        }
      },
      "outputs": [
        {
          "output_type": "display_data",
          "data": {
            "text/plain": [
              "'Минимальная дата события - '"
            ],
            "application/vnd.google.colaboratory.intrinsic+json": {
              "type": "string"
            }
          },
          "metadata": {}
        },
        {
          "output_type": "display_data",
          "data": {
            "text/plain": [
              "Timestamp('2020-12-07 00:05:57')"
            ]
          },
          "metadata": {}
        },
        {
          "output_type": "display_data",
          "data": {
            "text/plain": [
              "'Максимальная дата события - '"
            ],
            "application/vnd.google.colaboratory.intrinsic+json": {
              "type": "string"
            }
          },
          "metadata": {}
        },
        {
          "output_type": "display_data",
          "data": {
            "text/plain": [
              "Timestamp('2020-12-30 12:42:57')"
            ]
          },
          "metadata": {}
        },
        {
          "output_type": "display_data",
          "data": {
            "text/plain": [
              "Timedelta('23 days 12:37:00')"
            ]
          },
          "metadata": {}
        },
        {
          "output_type": "display_data",
          "data": {
            "text/html": [
              "<html>\n",
              "<head><meta charset=\"utf-8\" /></head>\n",
              "<body>\n",
              "    <div>            <script src=\"https://cdnjs.cloudflare.com/ajax/libs/mathjax/2.7.5/MathJax.js?config=TeX-AMS-MML_SVG\"></script><script type=\"text/javascript\">if (window.MathJax && window.MathJax.Hub && window.MathJax.Hub.Config) {window.MathJax.Hub.Config({SVG: {font: \"STIX-Web\"}});}</script>                <script type=\"text/javascript\">window.PlotlyConfig = {MathJaxConfig: 'local'};</script>\n",
              "        <script src=\"https://cdn.plot.ly/plotly-2.18.2.min.js\"></script>                <div id=\"49f9cdbe-d66b-44af-9454-628d3c1e9b84\" class=\"plotly-graph-div\" style=\"height:525px; width:100%;\"></div>            <script type=\"text/javascript\">                                    window.PLOTLYENV=window.PLOTLYENV || {};                                    if (document.getElementById(\"49f9cdbe-d66b-44af-9454-628d3c1e9b84\")) {                    Plotly.newPlot(                        \"49f9cdbe-d66b-44af-9454-628d3c1e9b84\",                        [{\"alignmentgroup\":\"True\",\"hovertemplate\":\"event_dt_day=%{x}<br>user_id=%{y}<extra></extra>\",\"legendgroup\":\"\",\"marker\":{\"color\":\"#636efa\",\"pattern\":{\"shape\":\"\"}},\"name\":\"\",\"offsetgroup\":\"\",\"orientation\":\"v\",\"showlegend\":false,\"textposition\":\"auto\",\"x\":[\"2020-12-07\",\"2020-12-08\",\"2020-12-09\",\"2020-12-10\",\"2020-12-11\",\"2020-12-12\",\"2020-12-13\",\"2020-12-14\",\"2020-12-15\",\"2020-12-16\",\"2020-12-17\",\"2020-12-18\",\"2020-12-19\",\"2020-12-20\",\"2020-12-21\",\"2020-12-22\",\"2020-12-23\",\"2020-12-24\",\"2020-12-25\",\"2020-12-26\",\"2020-12-27\",\"2020-12-28\",\"2020-12-29\",\"2020-12-30\"],\"xaxis\":\"x\",\"y\":[709,593,746,613,542,558,504,1355,1316,1454,1548,1584,1810,1848,2441,1506,1201,1042,789,733,691,603,508,4],\"yaxis\":\"y\",\"type\":\"bar\"}],                        {\"template\":{\"data\":{\"histogram2dcontour\":[{\"type\":\"histogram2dcontour\",\"colorbar\":{\"outlinewidth\":0,\"ticks\":\"\"},\"colorscale\":[[0.0,\"#0d0887\"],[0.1111111111111111,\"#46039f\"],[0.2222222222222222,\"#7201a8\"],[0.3333333333333333,\"#9c179e\"],[0.4444444444444444,\"#bd3786\"],[0.5555555555555556,\"#d8576b\"],[0.6666666666666666,\"#ed7953\"],[0.7777777777777778,\"#fb9f3a\"],[0.8888888888888888,\"#fdca26\"],[1.0,\"#f0f921\"]]}],\"choropleth\":[{\"type\":\"choropleth\",\"colorbar\":{\"outlinewidth\":0,\"ticks\":\"\"}}],\"histogram2d\":[{\"type\":\"histogram2d\",\"colorbar\":{\"outlinewidth\":0,\"ticks\":\"\"},\"colorscale\":[[0.0,\"#0d0887\"],[0.1111111111111111,\"#46039f\"],[0.2222222222222222,\"#7201a8\"],[0.3333333333333333,\"#9c179e\"],[0.4444444444444444,\"#bd3786\"],[0.5555555555555556,\"#d8576b\"],[0.6666666666666666,\"#ed7953\"],[0.7777777777777778,\"#fb9f3a\"],[0.8888888888888888,\"#fdca26\"],[1.0,\"#f0f921\"]]}],\"heatmap\":[{\"type\":\"heatmap\",\"colorbar\":{\"outlinewidth\":0,\"ticks\":\"\"},\"colorscale\":[[0.0,\"#0d0887\"],[0.1111111111111111,\"#46039f\"],[0.2222222222222222,\"#7201a8\"],[0.3333333333333333,\"#9c179e\"],[0.4444444444444444,\"#bd3786\"],[0.5555555555555556,\"#d8576b\"],[0.6666666666666666,\"#ed7953\"],[0.7777777777777778,\"#fb9f3a\"],[0.8888888888888888,\"#fdca26\"],[1.0,\"#f0f921\"]]}],\"heatmapgl\":[{\"type\":\"heatmapgl\",\"colorbar\":{\"outlinewidth\":0,\"ticks\":\"\"},\"colorscale\":[[0.0,\"#0d0887\"],[0.1111111111111111,\"#46039f\"],[0.2222222222222222,\"#7201a8\"],[0.3333333333333333,\"#9c179e\"],[0.4444444444444444,\"#bd3786\"],[0.5555555555555556,\"#d8576b\"],[0.6666666666666666,\"#ed7953\"],[0.7777777777777778,\"#fb9f3a\"],[0.8888888888888888,\"#fdca26\"],[1.0,\"#f0f921\"]]}],\"contourcarpet\":[{\"type\":\"contourcarpet\",\"colorbar\":{\"outlinewidth\":0,\"ticks\":\"\"}}],\"contour\":[{\"type\":\"contour\",\"colorbar\":{\"outlinewidth\":0,\"ticks\":\"\"},\"colorscale\":[[0.0,\"#0d0887\"],[0.1111111111111111,\"#46039f\"],[0.2222222222222222,\"#7201a8\"],[0.3333333333333333,\"#9c179e\"],[0.4444444444444444,\"#bd3786\"],[0.5555555555555556,\"#d8576b\"],[0.6666666666666666,\"#ed7953\"],[0.7777777777777778,\"#fb9f3a\"],[0.8888888888888888,\"#fdca26\"],[1.0,\"#f0f921\"]]}],\"surface\":[{\"type\":\"surface\",\"colorbar\":{\"outlinewidth\":0,\"ticks\":\"\"},\"colorscale\":[[0.0,\"#0d0887\"],[0.1111111111111111,\"#46039f\"],[0.2222222222222222,\"#7201a8\"],[0.3333333333333333,\"#9c179e\"],[0.4444444444444444,\"#bd3786\"],[0.5555555555555556,\"#d8576b\"],[0.6666666666666666,\"#ed7953\"],[0.7777777777777778,\"#fb9f3a\"],[0.8888888888888888,\"#fdca26\"],[1.0,\"#f0f921\"]]}],\"mesh3d\":[{\"type\":\"mesh3d\",\"colorbar\":{\"outlinewidth\":0,\"ticks\":\"\"}}],\"scatter\":[{\"fillpattern\":{\"fillmode\":\"overlay\",\"size\":10,\"solidity\":0.2},\"type\":\"scatter\"}],\"parcoords\":[{\"type\":\"parcoords\",\"line\":{\"colorbar\":{\"outlinewidth\":0,\"ticks\":\"\"}}}],\"scatterpolargl\":[{\"type\":\"scatterpolargl\",\"marker\":{\"colorbar\":{\"outlinewidth\":0,\"ticks\":\"\"}}}],\"bar\":[{\"error_x\":{\"color\":\"#2a3f5f\"},\"error_y\":{\"color\":\"#2a3f5f\"},\"marker\":{\"line\":{\"color\":\"#E5ECF6\",\"width\":0.5},\"pattern\":{\"fillmode\":\"overlay\",\"size\":10,\"solidity\":0.2}},\"type\":\"bar\"}],\"scattergeo\":[{\"type\":\"scattergeo\",\"marker\":{\"colorbar\":{\"outlinewidth\":0,\"ticks\":\"\"}}}],\"scatterpolar\":[{\"type\":\"scatterpolar\",\"marker\":{\"colorbar\":{\"outlinewidth\":0,\"ticks\":\"\"}}}],\"histogram\":[{\"marker\":{\"pattern\":{\"fillmode\":\"overlay\",\"size\":10,\"solidity\":0.2}},\"type\":\"histogram\"}],\"scattergl\":[{\"type\":\"scattergl\",\"marker\":{\"colorbar\":{\"outlinewidth\":0,\"ticks\":\"\"}}}],\"scatter3d\":[{\"type\":\"scatter3d\",\"line\":{\"colorbar\":{\"outlinewidth\":0,\"ticks\":\"\"}},\"marker\":{\"colorbar\":{\"outlinewidth\":0,\"ticks\":\"\"}}}],\"scattermapbox\":[{\"type\":\"scattermapbox\",\"marker\":{\"colorbar\":{\"outlinewidth\":0,\"ticks\":\"\"}}}],\"scatterternary\":[{\"type\":\"scatterternary\",\"marker\":{\"colorbar\":{\"outlinewidth\":0,\"ticks\":\"\"}}}],\"scattercarpet\":[{\"type\":\"scattercarpet\",\"marker\":{\"colorbar\":{\"outlinewidth\":0,\"ticks\":\"\"}}}],\"carpet\":[{\"aaxis\":{\"endlinecolor\":\"#2a3f5f\",\"gridcolor\":\"white\",\"linecolor\":\"white\",\"minorgridcolor\":\"white\",\"startlinecolor\":\"#2a3f5f\"},\"baxis\":{\"endlinecolor\":\"#2a3f5f\",\"gridcolor\":\"white\",\"linecolor\":\"white\",\"minorgridcolor\":\"white\",\"startlinecolor\":\"#2a3f5f\"},\"type\":\"carpet\"}],\"table\":[{\"cells\":{\"fill\":{\"color\":\"#EBF0F8\"},\"line\":{\"color\":\"white\"}},\"header\":{\"fill\":{\"color\":\"#C8D4E3\"},\"line\":{\"color\":\"white\"}},\"type\":\"table\"}],\"barpolar\":[{\"marker\":{\"line\":{\"color\":\"#E5ECF6\",\"width\":0.5},\"pattern\":{\"fillmode\":\"overlay\",\"size\":10,\"solidity\":0.2}},\"type\":\"barpolar\"}],\"pie\":[{\"automargin\":true,\"type\":\"pie\"}]},\"layout\":{\"autotypenumbers\":\"strict\",\"colorway\":[\"#636efa\",\"#EF553B\",\"#00cc96\",\"#ab63fa\",\"#FFA15A\",\"#19d3f3\",\"#FF6692\",\"#B6E880\",\"#FF97FF\",\"#FECB52\"],\"font\":{\"color\":\"#2a3f5f\"},\"hovermode\":\"closest\",\"hoverlabel\":{\"align\":\"left\"},\"paper_bgcolor\":\"white\",\"plot_bgcolor\":\"#E5ECF6\",\"polar\":{\"bgcolor\":\"#E5ECF6\",\"angularaxis\":{\"gridcolor\":\"white\",\"linecolor\":\"white\",\"ticks\":\"\"},\"radialaxis\":{\"gridcolor\":\"white\",\"linecolor\":\"white\",\"ticks\":\"\"}},\"ternary\":{\"bgcolor\":\"#E5ECF6\",\"aaxis\":{\"gridcolor\":\"white\",\"linecolor\":\"white\",\"ticks\":\"\"},\"baxis\":{\"gridcolor\":\"white\",\"linecolor\":\"white\",\"ticks\":\"\"},\"caxis\":{\"gridcolor\":\"white\",\"linecolor\":\"white\",\"ticks\":\"\"}},\"coloraxis\":{\"colorbar\":{\"outlinewidth\":0,\"ticks\":\"\"}},\"colorscale\":{\"sequential\":[[0.0,\"#0d0887\"],[0.1111111111111111,\"#46039f\"],[0.2222222222222222,\"#7201a8\"],[0.3333333333333333,\"#9c179e\"],[0.4444444444444444,\"#bd3786\"],[0.5555555555555556,\"#d8576b\"],[0.6666666666666666,\"#ed7953\"],[0.7777777777777778,\"#fb9f3a\"],[0.8888888888888888,\"#fdca26\"],[1.0,\"#f0f921\"]],\"sequentialminus\":[[0.0,\"#0d0887\"],[0.1111111111111111,\"#46039f\"],[0.2222222222222222,\"#7201a8\"],[0.3333333333333333,\"#9c179e\"],[0.4444444444444444,\"#bd3786\"],[0.5555555555555556,\"#d8576b\"],[0.6666666666666666,\"#ed7953\"],[0.7777777777777778,\"#fb9f3a\"],[0.8888888888888888,\"#fdca26\"],[1.0,\"#f0f921\"]],\"diverging\":[[0,\"#8e0152\"],[0.1,\"#c51b7d\"],[0.2,\"#de77ae\"],[0.3,\"#f1b6da\"],[0.4,\"#fde0ef\"],[0.5,\"#f7f7f7\"],[0.6,\"#e6f5d0\"],[0.7,\"#b8e186\"],[0.8,\"#7fbc41\"],[0.9,\"#4d9221\"],[1,\"#276419\"]]},\"xaxis\":{\"gridcolor\":\"white\",\"linecolor\":\"white\",\"ticks\":\"\",\"title\":{\"standoff\":15},\"zerolinecolor\":\"white\",\"automargin\":true,\"zerolinewidth\":2},\"yaxis\":{\"gridcolor\":\"white\",\"linecolor\":\"white\",\"ticks\":\"\",\"title\":{\"standoff\":15},\"zerolinecolor\":\"white\",\"automargin\":true,\"zerolinewidth\":2},\"scene\":{\"xaxis\":{\"backgroundcolor\":\"#E5ECF6\",\"gridcolor\":\"white\",\"linecolor\":\"white\",\"showbackground\":true,\"ticks\":\"\",\"zerolinecolor\":\"white\",\"gridwidth\":2},\"yaxis\":{\"backgroundcolor\":\"#E5ECF6\",\"gridcolor\":\"white\",\"linecolor\":\"white\",\"showbackground\":true,\"ticks\":\"\",\"zerolinecolor\":\"white\",\"gridwidth\":2},\"zaxis\":{\"backgroundcolor\":\"#E5ECF6\",\"gridcolor\":\"white\",\"linecolor\":\"white\",\"showbackground\":true,\"ticks\":\"\",\"zerolinecolor\":\"white\",\"gridwidth\":2}},\"shapedefaults\":{\"line\":{\"color\":\"#2a3f5f\"}},\"annotationdefaults\":{\"arrowcolor\":\"#2a3f5f\",\"arrowhead\":0,\"arrowwidth\":1},\"geo\":{\"bgcolor\":\"white\",\"landcolor\":\"#E5ECF6\",\"subunitcolor\":\"white\",\"showland\":true,\"showlakes\":true,\"lakecolor\":\"white\"},\"title\":{\"x\":0.05},\"mapbox\":{\"style\":\"light\"}}},\"xaxis\":{\"anchor\":\"y\",\"domain\":[0.0,1.0],\"title\":{\"text\":\"event_dt_day\"},\"tickangle\":-90,\"tickmode\":\"linear\"},\"yaxis\":{\"anchor\":\"x\",\"domain\":[0.0,1.0],\"title\":{\"text\":\"\\u041a\\u043e\\u043b\\u0438\\u0447\\u0435\\u0441\\u0442\\u0432\\u043e \\u0441\\u043e\\u0431\\u044b\\u0442\\u0438\\u0439\"}},\"legend\":{\"tracegroupgap\":0},\"margin\":{\"t\":60,\"l\":0,\"r\":0},\"barmode\":\"relative\",\"title\":{\"text\":\"\\u0420\\u0430\\u0441\\u043f\\u0440\\u0435\\u0434\\u0435\\u043b\\u0435\\u043d\\u0438\\u0435 \\u043a\\u043e\\u043b\\u0438\\u0447\\u0435\\u0441\\u0442\\u0432\\u0430 \\u0441\\u043e\\u0431\\u044b\\u0442\\u0438\\u0439 \\u044d\\u043a\\u0441\\u043f\\u0435\\u0440\\u0438\\u043c\\u0435\\u043d\\u0442\\u0430\"}},                        {\"responsive\": true}                    ).then(function(){\n",
              "                            \n",
              "var gd = document.getElementById('49f9cdbe-d66b-44af-9454-628d3c1e9b84');\n",
              "var x = new MutationObserver(function (mutations, observer) {{\n",
              "        var display = window.getComputedStyle(gd).display;\n",
              "        if (!display || display === 'none') {{\n",
              "            console.log([gd, 'removed!']);\n",
              "            Plotly.purge(gd);\n",
              "            observer.disconnect();\n",
              "        }}\n",
              "}});\n",
              "\n",
              "// Listen for the removal of the full notebook cells\n",
              "var notebookContainer = gd.closest('#notebook-container');\n",
              "if (notebookContainer) {{\n",
              "    x.observe(notebookContainer, {childList: true});\n",
              "}}\n",
              "\n",
              "// Listen for the clearing of the current output cell\n",
              "var outputEl = gd.closest('.output');\n",
              "if (outputEl) {{\n",
              "    x.observe(outputEl, {childList: true});\n",
              "}}\n",
              "\n",
              "                        })                };                            </script>        </div>\n",
              "</body>\n",
              "</html>"
            ]
          },
          "metadata": {}
        }
      ],
      "source": [
        "## Распределение по датам\n",
        "min_date = events.event_dt.min()\n",
        "display('Минимальная дата события - ', min_date)\n",
        "max_date = events.event_dt.max()\n",
        "display('Максимальная дата события - ', max_date)\n",
        "delta_day = (max_date - min_date)# .dt.days\n",
        "display(delta_day)\n",
        "# Гистограмма\n",
        "my_bar(t, t['event_dt_day'], t['user_id'],\n",
        "      'Распределение количества событий эксперимента', 'Количество событий')"
      ]
    },
    {
      "cell_type": "markdown",
      "metadata": {
        "id": "eE6KxgXvSLU7"
      },
      "source": [
        "Последним днем наблюдений явилось 2020-12-30. Хотя по техническому заданию должны были наблюдать до - 2021-01-04.\n",
        "\n",
        "В последний день очень мало событий. После завершения проверки соответствия техническго задания исключим их."
      ]
    },
    {
      "cell_type": "code",
      "execution_count": null,
      "metadata": {
        "id": "oW3EGT0HSLU8"
      },
      "outputs": [],
      "source": [
        "f = events.event_dt.dt.date"
      ]
    },
    {
      "cell_type": "code",
      "execution_count": null,
      "metadata": {
        "id": "jB5TQu6gSLU9",
        "outputId": "d4f99ba0-2824-4112-ad17-a7219b498c3d",
        "colab": {
          "base_uri": "https://localhost:8080/"
        }
      },
      "outputs": [
        {
          "output_type": "execute_result",
          "data": {
            "text/plain": [
              "array([datetime.date(2020, 12, 7), datetime.date(2020, 12, 8),\n",
              "       datetime.date(2020, 12, 9), datetime.date(2020, 12, 10),\n",
              "       datetime.date(2020, 12, 11), datetime.date(2020, 12, 12),\n",
              "       datetime.date(2020, 12, 13), datetime.date(2020, 12, 14),\n",
              "       datetime.date(2020, 12, 15), datetime.date(2020, 12, 16),\n",
              "       datetime.date(2020, 12, 17), datetime.date(2020, 12, 18),\n",
              "       datetime.date(2020, 12, 19), datetime.date(2020, 12, 20),\n",
              "       datetime.date(2020, 12, 21), datetime.date(2020, 12, 22),\n",
              "       datetime.date(2020, 12, 23), datetime.date(2020, 12, 24),\n",
              "       datetime.date(2020, 12, 25), datetime.date(2020, 12, 26),\n",
              "       datetime.date(2020, 12, 27), datetime.date(2020, 12, 28),\n",
              "       datetime.date(2020, 12, 29), datetime.date(2020, 12, 30)],\n",
              "      dtype=object)"
            ]
          },
          "metadata": {},
          "execution_count": 38
        }
      ],
      "source": [
        "f.unique()"
      ]
    },
    {
      "cell_type": "markdown",
      "metadata": {
        "id": "idhiV0o0SLU9"
      },
      "source": [
        "### Распределение по видам событий"
      ]
    },
    {
      "cell_type": "code",
      "execution_count": null,
      "metadata": {
        "id": "2SOqwsLcSLU9",
        "outputId": "e7b7bbac-4a73-4e6c-fe9f-c03994a19d27",
        "colab": {
          "base_uri": "https://localhost:8080/",
          "height": 175
        }
      },
      "outputs": [
        {
          "output_type": "execute_result",
          "data": {
            "text/plain": [
              "     event_name  user_id\n",
              "0         login     3675\n",
              "2  product_page     2303\n",
              "3      purchase     1128\n",
              "1  product_cart     1079"
            ],
            "text/html": [
              "\n",
              "  <div id=\"df-a726a625-d301-4bbb-aab1-a7b622c025bf\">\n",
              "    <div class=\"colab-df-container\">\n",
              "      <div>\n",
              "<style scoped>\n",
              "    .dataframe tbody tr th:only-of-type {\n",
              "        vertical-align: middle;\n",
              "    }\n",
              "\n",
              "    .dataframe tbody tr th {\n",
              "        vertical-align: top;\n",
              "    }\n",
              "\n",
              "    .dataframe thead th {\n",
              "        text-align: right;\n",
              "    }\n",
              "</style>\n",
              "<table border=\"1\" class=\"dataframe\">\n",
              "  <thead>\n",
              "    <tr style=\"text-align: right;\">\n",
              "      <th></th>\n",
              "      <th>event_name</th>\n",
              "      <th>user_id</th>\n",
              "    </tr>\n",
              "  </thead>\n",
              "  <tbody>\n",
              "    <tr>\n",
              "      <th>0</th>\n",
              "      <td>login</td>\n",
              "      <td>3675</td>\n",
              "    </tr>\n",
              "    <tr>\n",
              "      <th>2</th>\n",
              "      <td>product_page</td>\n",
              "      <td>2303</td>\n",
              "    </tr>\n",
              "    <tr>\n",
              "      <th>3</th>\n",
              "      <td>purchase</td>\n",
              "      <td>1128</td>\n",
              "    </tr>\n",
              "    <tr>\n",
              "      <th>1</th>\n",
              "      <td>product_cart</td>\n",
              "      <td>1079</td>\n",
              "    </tr>\n",
              "  </tbody>\n",
              "</table>\n",
              "</div>\n",
              "      <button class=\"colab-df-convert\" onclick=\"convertToInteractive('df-a726a625-d301-4bbb-aab1-a7b622c025bf')\"\n",
              "              title=\"Convert this dataframe to an interactive table.\"\n",
              "              style=\"display:none;\">\n",
              "        \n",
              "  <svg xmlns=\"http://www.w3.org/2000/svg\" height=\"24px\"viewBox=\"0 0 24 24\"\n",
              "       width=\"24px\">\n",
              "    <path d=\"M0 0h24v24H0V0z\" fill=\"none\"/>\n",
              "    <path d=\"M18.56 5.44l.94 2.06.94-2.06 2.06-.94-2.06-.94-.94-2.06-.94 2.06-2.06.94zm-11 1L8.5 8.5l.94-2.06 2.06-.94-2.06-.94L8.5 2.5l-.94 2.06-2.06.94zm10 10l.94 2.06.94-2.06 2.06-.94-2.06-.94-.94-2.06-.94 2.06-2.06.94z\"/><path d=\"M17.41 7.96l-1.37-1.37c-.4-.4-.92-.59-1.43-.59-.52 0-1.04.2-1.43.59L10.3 9.45l-7.72 7.72c-.78.78-.78 2.05 0 2.83L4 21.41c.39.39.9.59 1.41.59.51 0 1.02-.2 1.41-.59l7.78-7.78 2.81-2.81c.8-.78.8-2.07 0-2.86zM5.41 20L4 18.59l7.72-7.72 1.47 1.35L5.41 20z\"/>\n",
              "  </svg>\n",
              "      </button>\n",
              "      \n",
              "  <style>\n",
              "    .colab-df-container {\n",
              "      display:flex;\n",
              "      flex-wrap:wrap;\n",
              "      gap: 12px;\n",
              "    }\n",
              "\n",
              "    .colab-df-convert {\n",
              "      background-color: #E8F0FE;\n",
              "      border: none;\n",
              "      border-radius: 50%;\n",
              "      cursor: pointer;\n",
              "      display: none;\n",
              "      fill: #1967D2;\n",
              "      height: 32px;\n",
              "      padding: 0 0 0 0;\n",
              "      width: 32px;\n",
              "    }\n",
              "\n",
              "    .colab-df-convert:hover {\n",
              "      background-color: #E2EBFA;\n",
              "      box-shadow: 0px 1px 2px rgba(60, 64, 67, 0.3), 0px 1px 3px 1px rgba(60, 64, 67, 0.15);\n",
              "      fill: #174EA6;\n",
              "    }\n",
              "\n",
              "    [theme=dark] .colab-df-convert {\n",
              "      background-color: #3B4455;\n",
              "      fill: #D2E3FC;\n",
              "    }\n",
              "\n",
              "    [theme=dark] .colab-df-convert:hover {\n",
              "      background-color: #434B5C;\n",
              "      box-shadow: 0px 1px 3px 1px rgba(0, 0, 0, 0.15);\n",
              "      filter: drop-shadow(0px 1px 2px rgba(0, 0, 0, 0.3));\n",
              "      fill: #FFFFFF;\n",
              "    }\n",
              "  </style>\n",
              "\n",
              "      <script>\n",
              "        const buttonEl =\n",
              "          document.querySelector('#df-a726a625-d301-4bbb-aab1-a7b622c025bf button.colab-df-convert');\n",
              "        buttonEl.style.display =\n",
              "          google.colab.kernel.accessAllowed ? 'block' : 'none';\n",
              "\n",
              "        async function convertToInteractive(key) {\n",
              "          const element = document.querySelector('#df-a726a625-d301-4bbb-aab1-a7b622c025bf');\n",
              "          const dataTable =\n",
              "            await google.colab.kernel.invokeFunction('convertToInteractive',\n",
              "                                                     [key], {});\n",
              "          if (!dataTable) return;\n",
              "\n",
              "          const docLinkHtml = 'Like what you see? Visit the ' +\n",
              "            '<a target=\"_blank\" href=https://colab.research.google.com/notebooks/data_table.ipynb>data table notebook</a>'\n",
              "            + ' to learn more about interactive tables.';\n",
              "          element.innerHTML = '';\n",
              "          dataTable['output_type'] = 'display_data';\n",
              "          await google.colab.output.renderOutput(dataTable, element);\n",
              "          const docLink = document.createElement('div');\n",
              "          docLink.innerHTML = docLinkHtml;\n",
              "          element.appendChild(docLink);\n",
              "        }\n",
              "      </script>\n",
              "    </div>\n",
              "  </div>\n",
              "  "
            ]
          },
          "metadata": {},
          "execution_count": 39
        }
      ],
      "source": [
        "t = events.groupby(by='event_name')['user_id'].agg('unique')#.sort_values(ascending=False)\n",
        "tt = events.groupby(by='event_name', as_index=False)['user_id'].agg('nunique').sort_values(by='user_id', ascending=False)\n",
        "tt"
      ]
    },
    {
      "cell_type": "code",
      "execution_count": null,
      "metadata": {
        "id": "89Z6mUEYSLU9"
      },
      "outputs": [],
      "source": [
        "#t.hist(bins = 4, figsize=[18, 8]);"
      ]
    },
    {
      "cell_type": "code",
      "execution_count": null,
      "metadata": {
        "id": "7TLHHVpXSLU-",
        "outputId": "19d21df1-aca4-4258-e98d-b0f6a1c4c434",
        "colab": {
          "base_uri": "https://localhost:8080/"
        }
      },
      "outputs": [
        {
          "output_type": "display_data",
          "data": {
            "text/html": [
              "<html>\n",
              "<head><meta charset=\"utf-8\" /></head>\n",
              "<body>\n",
              "    <div>            <script src=\"https://cdnjs.cloudflare.com/ajax/libs/mathjax/2.7.5/MathJax.js?config=TeX-AMS-MML_SVG\"></script><script type=\"text/javascript\">if (window.MathJax && window.MathJax.Hub && window.MathJax.Hub.Config) {window.MathJax.Hub.Config({SVG: {font: \"STIX-Web\"}});}</script>                <script type=\"text/javascript\">window.PlotlyConfig = {MathJaxConfig: 'local'};</script>\n",
              "        <script src=\"https://cdn.plot.ly/plotly-2.18.2.min.js\"></script>                <div id=\"ffab4ce7-37d7-4b2a-ad1f-887e971c9a3a\" class=\"plotly-graph-div\" style=\"height:525px; width:100%;\"></div>            <script type=\"text/javascript\">                                    window.PLOTLYENV=window.PLOTLYENV || {};                                    if (document.getElementById(\"ffab4ce7-37d7-4b2a-ad1f-887e971c9a3a\")) {                    Plotly.newPlot(                        \"ffab4ce7-37d7-4b2a-ad1f-887e971c9a3a\",                        [{\"alignmentgroup\":\"True\",\"hovertemplate\":\"event_name=%{x}<br>user_id=%{y}<extra></extra>\",\"legendgroup\":\"\",\"marker\":{\"color\":\"#636efa\",\"pattern\":{\"shape\":\"\"}},\"name\":\"\",\"offsetgroup\":\"\",\"orientation\":\"v\",\"showlegend\":false,\"textposition\":\"auto\",\"x\":[\"login\",\"product_page\",\"purchase\",\"product_cart\"],\"xaxis\":\"x\",\"y\":[3675,2303,1128,1079],\"yaxis\":\"y\",\"type\":\"bar\"}],                        {\"template\":{\"data\":{\"histogram2dcontour\":[{\"type\":\"histogram2dcontour\",\"colorbar\":{\"outlinewidth\":0,\"ticks\":\"\"},\"colorscale\":[[0.0,\"#0d0887\"],[0.1111111111111111,\"#46039f\"],[0.2222222222222222,\"#7201a8\"],[0.3333333333333333,\"#9c179e\"],[0.4444444444444444,\"#bd3786\"],[0.5555555555555556,\"#d8576b\"],[0.6666666666666666,\"#ed7953\"],[0.7777777777777778,\"#fb9f3a\"],[0.8888888888888888,\"#fdca26\"],[1.0,\"#f0f921\"]]}],\"choropleth\":[{\"type\":\"choropleth\",\"colorbar\":{\"outlinewidth\":0,\"ticks\":\"\"}}],\"histogram2d\":[{\"type\":\"histogram2d\",\"colorbar\":{\"outlinewidth\":0,\"ticks\":\"\"},\"colorscale\":[[0.0,\"#0d0887\"],[0.1111111111111111,\"#46039f\"],[0.2222222222222222,\"#7201a8\"],[0.3333333333333333,\"#9c179e\"],[0.4444444444444444,\"#bd3786\"],[0.5555555555555556,\"#d8576b\"],[0.6666666666666666,\"#ed7953\"],[0.7777777777777778,\"#fb9f3a\"],[0.8888888888888888,\"#fdca26\"],[1.0,\"#f0f921\"]]}],\"heatmap\":[{\"type\":\"heatmap\",\"colorbar\":{\"outlinewidth\":0,\"ticks\":\"\"},\"colorscale\":[[0.0,\"#0d0887\"],[0.1111111111111111,\"#46039f\"],[0.2222222222222222,\"#7201a8\"],[0.3333333333333333,\"#9c179e\"],[0.4444444444444444,\"#bd3786\"],[0.5555555555555556,\"#d8576b\"],[0.6666666666666666,\"#ed7953\"],[0.7777777777777778,\"#fb9f3a\"],[0.8888888888888888,\"#fdca26\"],[1.0,\"#f0f921\"]]}],\"heatmapgl\":[{\"type\":\"heatmapgl\",\"colorbar\":{\"outlinewidth\":0,\"ticks\":\"\"},\"colorscale\":[[0.0,\"#0d0887\"],[0.1111111111111111,\"#46039f\"],[0.2222222222222222,\"#7201a8\"],[0.3333333333333333,\"#9c179e\"],[0.4444444444444444,\"#bd3786\"],[0.5555555555555556,\"#d8576b\"],[0.6666666666666666,\"#ed7953\"],[0.7777777777777778,\"#fb9f3a\"],[0.8888888888888888,\"#fdca26\"],[1.0,\"#f0f921\"]]}],\"contourcarpet\":[{\"type\":\"contourcarpet\",\"colorbar\":{\"outlinewidth\":0,\"ticks\":\"\"}}],\"contour\":[{\"type\":\"contour\",\"colorbar\":{\"outlinewidth\":0,\"ticks\":\"\"},\"colorscale\":[[0.0,\"#0d0887\"],[0.1111111111111111,\"#46039f\"],[0.2222222222222222,\"#7201a8\"],[0.3333333333333333,\"#9c179e\"],[0.4444444444444444,\"#bd3786\"],[0.5555555555555556,\"#d8576b\"],[0.6666666666666666,\"#ed7953\"],[0.7777777777777778,\"#fb9f3a\"],[0.8888888888888888,\"#fdca26\"],[1.0,\"#f0f921\"]]}],\"surface\":[{\"type\":\"surface\",\"colorbar\":{\"outlinewidth\":0,\"ticks\":\"\"},\"colorscale\":[[0.0,\"#0d0887\"],[0.1111111111111111,\"#46039f\"],[0.2222222222222222,\"#7201a8\"],[0.3333333333333333,\"#9c179e\"],[0.4444444444444444,\"#bd3786\"],[0.5555555555555556,\"#d8576b\"],[0.6666666666666666,\"#ed7953\"],[0.7777777777777778,\"#fb9f3a\"],[0.8888888888888888,\"#fdca26\"],[1.0,\"#f0f921\"]]}],\"mesh3d\":[{\"type\":\"mesh3d\",\"colorbar\":{\"outlinewidth\":0,\"ticks\":\"\"}}],\"scatter\":[{\"fillpattern\":{\"fillmode\":\"overlay\",\"size\":10,\"solidity\":0.2},\"type\":\"scatter\"}],\"parcoords\":[{\"type\":\"parcoords\",\"line\":{\"colorbar\":{\"outlinewidth\":0,\"ticks\":\"\"}}}],\"scatterpolargl\":[{\"type\":\"scatterpolargl\",\"marker\":{\"colorbar\":{\"outlinewidth\":0,\"ticks\":\"\"}}}],\"bar\":[{\"error_x\":{\"color\":\"#2a3f5f\"},\"error_y\":{\"color\":\"#2a3f5f\"},\"marker\":{\"line\":{\"color\":\"#E5ECF6\",\"width\":0.5},\"pattern\":{\"fillmode\":\"overlay\",\"size\":10,\"solidity\":0.2}},\"type\":\"bar\"}],\"scattergeo\":[{\"type\":\"scattergeo\",\"marker\":{\"colorbar\":{\"outlinewidth\":0,\"ticks\":\"\"}}}],\"scatterpolar\":[{\"type\":\"scatterpolar\",\"marker\":{\"colorbar\":{\"outlinewidth\":0,\"ticks\":\"\"}}}],\"histogram\":[{\"marker\":{\"pattern\":{\"fillmode\":\"overlay\",\"size\":10,\"solidity\":0.2}},\"type\":\"histogram\"}],\"scattergl\":[{\"type\":\"scattergl\",\"marker\":{\"colorbar\":{\"outlinewidth\":0,\"ticks\":\"\"}}}],\"scatter3d\":[{\"type\":\"scatter3d\",\"line\":{\"colorbar\":{\"outlinewidth\":0,\"ticks\":\"\"}},\"marker\":{\"colorbar\":{\"outlinewidth\":0,\"ticks\":\"\"}}}],\"scattermapbox\":[{\"type\":\"scattermapbox\",\"marker\":{\"colorbar\":{\"outlinewidth\":0,\"ticks\":\"\"}}}],\"scatterternary\":[{\"type\":\"scatterternary\",\"marker\":{\"colorbar\":{\"outlinewidth\":0,\"ticks\":\"\"}}}],\"scattercarpet\":[{\"type\":\"scattercarpet\",\"marker\":{\"colorbar\":{\"outlinewidth\":0,\"ticks\":\"\"}}}],\"carpet\":[{\"aaxis\":{\"endlinecolor\":\"#2a3f5f\",\"gridcolor\":\"white\",\"linecolor\":\"white\",\"minorgridcolor\":\"white\",\"startlinecolor\":\"#2a3f5f\"},\"baxis\":{\"endlinecolor\":\"#2a3f5f\",\"gridcolor\":\"white\",\"linecolor\":\"white\",\"minorgridcolor\":\"white\",\"startlinecolor\":\"#2a3f5f\"},\"type\":\"carpet\"}],\"table\":[{\"cells\":{\"fill\":{\"color\":\"#EBF0F8\"},\"line\":{\"color\":\"white\"}},\"header\":{\"fill\":{\"color\":\"#C8D4E3\"},\"line\":{\"color\":\"white\"}},\"type\":\"table\"}],\"barpolar\":[{\"marker\":{\"line\":{\"color\":\"#E5ECF6\",\"width\":0.5},\"pattern\":{\"fillmode\":\"overlay\",\"size\":10,\"solidity\":0.2}},\"type\":\"barpolar\"}],\"pie\":[{\"automargin\":true,\"type\":\"pie\"}]},\"layout\":{\"autotypenumbers\":\"strict\",\"colorway\":[\"#636efa\",\"#EF553B\",\"#00cc96\",\"#ab63fa\",\"#FFA15A\",\"#19d3f3\",\"#FF6692\",\"#B6E880\",\"#FF97FF\",\"#FECB52\"],\"font\":{\"color\":\"#2a3f5f\"},\"hovermode\":\"closest\",\"hoverlabel\":{\"align\":\"left\"},\"paper_bgcolor\":\"white\",\"plot_bgcolor\":\"#E5ECF6\",\"polar\":{\"bgcolor\":\"#E5ECF6\",\"angularaxis\":{\"gridcolor\":\"white\",\"linecolor\":\"white\",\"ticks\":\"\"},\"radialaxis\":{\"gridcolor\":\"white\",\"linecolor\":\"white\",\"ticks\":\"\"}},\"ternary\":{\"bgcolor\":\"#E5ECF6\",\"aaxis\":{\"gridcolor\":\"white\",\"linecolor\":\"white\",\"ticks\":\"\"},\"baxis\":{\"gridcolor\":\"white\",\"linecolor\":\"white\",\"ticks\":\"\"},\"caxis\":{\"gridcolor\":\"white\",\"linecolor\":\"white\",\"ticks\":\"\"}},\"coloraxis\":{\"colorbar\":{\"outlinewidth\":0,\"ticks\":\"\"}},\"colorscale\":{\"sequential\":[[0.0,\"#0d0887\"],[0.1111111111111111,\"#46039f\"],[0.2222222222222222,\"#7201a8\"],[0.3333333333333333,\"#9c179e\"],[0.4444444444444444,\"#bd3786\"],[0.5555555555555556,\"#d8576b\"],[0.6666666666666666,\"#ed7953\"],[0.7777777777777778,\"#fb9f3a\"],[0.8888888888888888,\"#fdca26\"],[1.0,\"#f0f921\"]],\"sequentialminus\":[[0.0,\"#0d0887\"],[0.1111111111111111,\"#46039f\"],[0.2222222222222222,\"#7201a8\"],[0.3333333333333333,\"#9c179e\"],[0.4444444444444444,\"#bd3786\"],[0.5555555555555556,\"#d8576b\"],[0.6666666666666666,\"#ed7953\"],[0.7777777777777778,\"#fb9f3a\"],[0.8888888888888888,\"#fdca26\"],[1.0,\"#f0f921\"]],\"diverging\":[[0,\"#8e0152\"],[0.1,\"#c51b7d\"],[0.2,\"#de77ae\"],[0.3,\"#f1b6da\"],[0.4,\"#fde0ef\"],[0.5,\"#f7f7f7\"],[0.6,\"#e6f5d0\"],[0.7,\"#b8e186\"],[0.8,\"#7fbc41\"],[0.9,\"#4d9221\"],[1,\"#276419\"]]},\"xaxis\":{\"gridcolor\":\"white\",\"linecolor\":\"white\",\"ticks\":\"\",\"title\":{\"standoff\":15},\"zerolinecolor\":\"white\",\"automargin\":true,\"zerolinewidth\":2},\"yaxis\":{\"gridcolor\":\"white\",\"linecolor\":\"white\",\"ticks\":\"\",\"title\":{\"standoff\":15},\"zerolinecolor\":\"white\",\"automargin\":true,\"zerolinewidth\":2},\"scene\":{\"xaxis\":{\"backgroundcolor\":\"#E5ECF6\",\"gridcolor\":\"white\",\"linecolor\":\"white\",\"showbackground\":true,\"ticks\":\"\",\"zerolinecolor\":\"white\",\"gridwidth\":2},\"yaxis\":{\"backgroundcolor\":\"#E5ECF6\",\"gridcolor\":\"white\",\"linecolor\":\"white\",\"showbackground\":true,\"ticks\":\"\",\"zerolinecolor\":\"white\",\"gridwidth\":2},\"zaxis\":{\"backgroundcolor\":\"#E5ECF6\",\"gridcolor\":\"white\",\"linecolor\":\"white\",\"showbackground\":true,\"ticks\":\"\",\"zerolinecolor\":\"white\",\"gridwidth\":2}},\"shapedefaults\":{\"line\":{\"color\":\"#2a3f5f\"}},\"annotationdefaults\":{\"arrowcolor\":\"#2a3f5f\",\"arrowhead\":0,\"arrowwidth\":1},\"geo\":{\"bgcolor\":\"white\",\"landcolor\":\"#E5ECF6\",\"subunitcolor\":\"white\",\"showland\":true,\"showlakes\":true,\"lakecolor\":\"white\"},\"title\":{\"x\":0.05},\"mapbox\":{\"style\":\"light\"}}},\"xaxis\":{\"anchor\":\"y\",\"domain\":[0.0,1.0],\"title\":{\"text\":\"event_name\"},\"tickangle\":-90,\"tickmode\":\"linear\"},\"yaxis\":{\"anchor\":\"x\",\"domain\":[0.0,1.0],\"title\":{\"text\":\"\\u041a\\u043e\\u043b\\u0438\\u0447\\u0435\\u0441\\u0442\\u0432\\u043e \\u0441\\u043e\\u0431\\u044b\\u0442\\u0438\\u0439\"}},\"legend\":{\"tracegroupgap\":0},\"margin\":{\"t\":60,\"l\":0,\"r\":0},\"barmode\":\"relative\",\"title\":{\"text\":\"\\u0420\\u0430\\u0441\\u043f\\u0440\\u0435\\u0434\\u0435\\u043b\\u0435\\u043d\\u0438\\u0435 \\u043a\\u043e\\u043b\\u0438\\u0447\\u0435\\u0441\\u0442\\u0432\\u0430 \\u0441\\u043e\\u0431\\u044b\\u0442\\u0438\\u0439 \\u044d\\u043a\\u0441\\u043f\\u0435\\u0440\\u0438\\u043c\\u0435\\u043d\\u0442\\u0430 \\u043c\\u0435\\u0436\\u0434\\u0443 \\u0441\\u043e\\u0431\\u0432\\u0442\\u0438\\u044f\\u043c\\u0438\"}},                        {\"responsive\": true}                    ).then(function(){\n",
              "                            \n",
              "var gd = document.getElementById('ffab4ce7-37d7-4b2a-ad1f-887e971c9a3a');\n",
              "var x = new MutationObserver(function (mutations, observer) {{\n",
              "        var display = window.getComputedStyle(gd).display;\n",
              "        if (!display || display === 'none') {{\n",
              "            console.log([gd, 'removed!']);\n",
              "            Plotly.purge(gd);\n",
              "            observer.disconnect();\n",
              "        }}\n",
              "}});\n",
              "\n",
              "// Listen for the removal of the full notebook cells\n",
              "var notebookContainer = gd.closest('#notebook-container');\n",
              "if (notebookContainer) {{\n",
              "    x.observe(notebookContainer, {childList: true});\n",
              "}}\n",
              "\n",
              "// Listen for the clearing of the current output cell\n",
              "var outputEl = gd.closest('.output');\n",
              "if (outputEl) {{\n",
              "    x.observe(outputEl, {childList: true});\n",
              "}}\n",
              "\n",
              "                        })                };                            </script>        </div>\n",
              "</body>\n",
              "</html>"
            ]
          },
          "metadata": {}
        }
      ],
      "source": [
        "my_bar(tt, tt['event_name'], tt['user_id'],\n",
        "      'Распределение количества событий эксперимента между событиями', 'Количество событий')"
      ]
    },
    {
      "cell_type": "markdown",
      "metadata": {
        "id": "CPsCRuG1SLU-"
      },
      "source": [
        "### Проверка пользователей на регион"
      ]
    },
    {
      "cell_type": "code",
      "execution_count": null,
      "metadata": {
        "id": "IQHKnS-tSLU-",
        "outputId": "cc01e27d-dd38-4187-cc9b-9e2871f363e2",
        "colab": {
          "base_uri": "https://localhost:8080/"
        }
      },
      "outputs": [
        {
          "output_type": "execute_result",
          "data": {
            "text/plain": [
              "46270"
            ]
          },
          "metadata": {},
          "execution_count": 42
        }
      ],
      "source": [
        "#Сколько всего пользователей в регионе EU?\n",
        "final_ab_new_users[final_ab_new_users['region'] == 'EU'].shape[0]"
      ]
    },
    {
      "cell_type": "code",
      "execution_count": null,
      "metadata": {
        "id": "ZmAS4H47SLU-",
        "outputId": "335c0f1b-495e-47c4-b09b-57dc18453a18",
        "colab": {
          "base_uri": "https://localhost:8080/"
        }
      },
      "outputs": [
        {
          "output_type": "execute_result",
          "data": {
            "text/plain": [
              "46270"
            ]
          },
          "metadata": {},
          "execution_count": 43
        }
      ],
      "source": [
        "#Все ли пользователи из региона EU?\n",
        "t = final_ab_new_users.query('region == \"EU\"')\n",
        "final_ab_new_users.query('region == \"EU\"').shape[0]"
      ]
    },
    {
      "cell_type": "code",
      "execution_count": null,
      "metadata": {
        "id": "pvvsVqP5SLU_",
        "outputId": "a4fc57fd-c195-4f6b-f853-905d76681096",
        "colab": {
          "base_uri": "https://localhost:8080/"
        }
      },
      "outputs": [
        {
          "output_type": "execute_result",
          "data": {
            "text/plain": [
              "42340"
            ]
          },
          "metadata": {},
          "execution_count": 44
        }
      ],
      "source": [
        "#Сколько пользователей в регионе EU было в период проведения теста (регистрации)?\n",
        "t = t[t['first_date'] >= min_date_reg]\n",
        "t = t[t['first_date'] <= max_date_reg]\n",
        "t.shape[0]"
      ]
    },
    {
      "cell_type": "code",
      "execution_count": null,
      "metadata": {
        "id": "cyYnqn7bSLU_",
        "outputId": "65bbde75-01f6-4022-c155-6cc0d8f71219",
        "colab": {
          "base_uri": "https://localhost:8080/",
          "height": 424
        }
      },
      "outputs": [
        {
          "output_type": "execute_result",
          "data": {
            "text/plain": [
              "                user_id first_date     region   device\n",
              "0      D72A72121175D8BE 2020-12-07         EU       PC\n",
              "1      F1C668619DFE6E65 2020-12-07  N.America  Android\n",
              "2      2E1BF1D4C37EA01F 2020-12-07         EU       PC\n",
              "3      50734A22C0C63768 2020-12-07         EU   iPhone\n",
              "4      E1BDDCE0DAFA2679 2020-12-07  N.America   iPhone\n",
              "...                 ...        ...        ...      ...\n",
              "61728  1DB53B933257165D 2020-12-20         EU  Android\n",
              "61729  538643EB4527ED03 2020-12-20         EU      Mac\n",
              "61730  7ADEE837D5D8CBBD 2020-12-20         EU       PC\n",
              "61731  1C7D23927835213F 2020-12-20         EU   iPhone\n",
              "61732  8F04273BB2860229 2020-12-20         EU  Android\n",
              "\n",
              "[61733 rows x 4 columns]"
            ],
            "text/html": [
              "\n",
              "  <div id=\"df-ea9e61b0-5a3b-406a-9778-c583286fb2e1\">\n",
              "    <div class=\"colab-df-container\">\n",
              "      <div>\n",
              "<style scoped>\n",
              "    .dataframe tbody tr th:only-of-type {\n",
              "        vertical-align: middle;\n",
              "    }\n",
              "\n",
              "    .dataframe tbody tr th {\n",
              "        vertical-align: top;\n",
              "    }\n",
              "\n",
              "    .dataframe thead th {\n",
              "        text-align: right;\n",
              "    }\n",
              "</style>\n",
              "<table border=\"1\" class=\"dataframe\">\n",
              "  <thead>\n",
              "    <tr style=\"text-align: right;\">\n",
              "      <th></th>\n",
              "      <th>user_id</th>\n",
              "      <th>first_date</th>\n",
              "      <th>region</th>\n",
              "      <th>device</th>\n",
              "    </tr>\n",
              "  </thead>\n",
              "  <tbody>\n",
              "    <tr>\n",
              "      <th>0</th>\n",
              "      <td>D72A72121175D8BE</td>\n",
              "      <td>2020-12-07</td>\n",
              "      <td>EU</td>\n",
              "      <td>PC</td>\n",
              "    </tr>\n",
              "    <tr>\n",
              "      <th>1</th>\n",
              "      <td>F1C668619DFE6E65</td>\n",
              "      <td>2020-12-07</td>\n",
              "      <td>N.America</td>\n",
              "      <td>Android</td>\n",
              "    </tr>\n",
              "    <tr>\n",
              "      <th>2</th>\n",
              "      <td>2E1BF1D4C37EA01F</td>\n",
              "      <td>2020-12-07</td>\n",
              "      <td>EU</td>\n",
              "      <td>PC</td>\n",
              "    </tr>\n",
              "    <tr>\n",
              "      <th>3</th>\n",
              "      <td>50734A22C0C63768</td>\n",
              "      <td>2020-12-07</td>\n",
              "      <td>EU</td>\n",
              "      <td>iPhone</td>\n",
              "    </tr>\n",
              "    <tr>\n",
              "      <th>4</th>\n",
              "      <td>E1BDDCE0DAFA2679</td>\n",
              "      <td>2020-12-07</td>\n",
              "      <td>N.America</td>\n",
              "      <td>iPhone</td>\n",
              "    </tr>\n",
              "    <tr>\n",
              "      <th>...</th>\n",
              "      <td>...</td>\n",
              "      <td>...</td>\n",
              "      <td>...</td>\n",
              "      <td>...</td>\n",
              "    </tr>\n",
              "    <tr>\n",
              "      <th>61728</th>\n",
              "      <td>1DB53B933257165D</td>\n",
              "      <td>2020-12-20</td>\n",
              "      <td>EU</td>\n",
              "      <td>Android</td>\n",
              "    </tr>\n",
              "    <tr>\n",
              "      <th>61729</th>\n",
              "      <td>538643EB4527ED03</td>\n",
              "      <td>2020-12-20</td>\n",
              "      <td>EU</td>\n",
              "      <td>Mac</td>\n",
              "    </tr>\n",
              "    <tr>\n",
              "      <th>61730</th>\n",
              "      <td>7ADEE837D5D8CBBD</td>\n",
              "      <td>2020-12-20</td>\n",
              "      <td>EU</td>\n",
              "      <td>PC</td>\n",
              "    </tr>\n",
              "    <tr>\n",
              "      <th>61731</th>\n",
              "      <td>1C7D23927835213F</td>\n",
              "      <td>2020-12-20</td>\n",
              "      <td>EU</td>\n",
              "      <td>iPhone</td>\n",
              "    </tr>\n",
              "    <tr>\n",
              "      <th>61732</th>\n",
              "      <td>8F04273BB2860229</td>\n",
              "      <td>2020-12-20</td>\n",
              "      <td>EU</td>\n",
              "      <td>Android</td>\n",
              "    </tr>\n",
              "  </tbody>\n",
              "</table>\n",
              "<p>61733 rows × 4 columns</p>\n",
              "</div>\n",
              "      <button class=\"colab-df-convert\" onclick=\"convertToInteractive('df-ea9e61b0-5a3b-406a-9778-c583286fb2e1')\"\n",
              "              title=\"Convert this dataframe to an interactive table.\"\n",
              "              style=\"display:none;\">\n",
              "        \n",
              "  <svg xmlns=\"http://www.w3.org/2000/svg\" height=\"24px\"viewBox=\"0 0 24 24\"\n",
              "       width=\"24px\">\n",
              "    <path d=\"M0 0h24v24H0V0z\" fill=\"none\"/>\n",
              "    <path d=\"M18.56 5.44l.94 2.06.94-2.06 2.06-.94-2.06-.94-.94-2.06-.94 2.06-2.06.94zm-11 1L8.5 8.5l.94-2.06 2.06-.94-2.06-.94L8.5 2.5l-.94 2.06-2.06.94zm10 10l.94 2.06.94-2.06 2.06-.94-2.06-.94-.94-2.06-.94 2.06-2.06.94z\"/><path d=\"M17.41 7.96l-1.37-1.37c-.4-.4-.92-.59-1.43-.59-.52 0-1.04.2-1.43.59L10.3 9.45l-7.72 7.72c-.78.78-.78 2.05 0 2.83L4 21.41c.39.39.9.59 1.41.59.51 0 1.02-.2 1.41-.59l7.78-7.78 2.81-2.81c.8-.78.8-2.07 0-2.86zM5.41 20L4 18.59l7.72-7.72 1.47 1.35L5.41 20z\"/>\n",
              "  </svg>\n",
              "      </button>\n",
              "      \n",
              "  <style>\n",
              "    .colab-df-container {\n",
              "      display:flex;\n",
              "      flex-wrap:wrap;\n",
              "      gap: 12px;\n",
              "    }\n",
              "\n",
              "    .colab-df-convert {\n",
              "      background-color: #E8F0FE;\n",
              "      border: none;\n",
              "      border-radius: 50%;\n",
              "      cursor: pointer;\n",
              "      display: none;\n",
              "      fill: #1967D2;\n",
              "      height: 32px;\n",
              "      padding: 0 0 0 0;\n",
              "      width: 32px;\n",
              "    }\n",
              "\n",
              "    .colab-df-convert:hover {\n",
              "      background-color: #E2EBFA;\n",
              "      box-shadow: 0px 1px 2px rgba(60, 64, 67, 0.3), 0px 1px 3px 1px rgba(60, 64, 67, 0.15);\n",
              "      fill: #174EA6;\n",
              "    }\n",
              "\n",
              "    [theme=dark] .colab-df-convert {\n",
              "      background-color: #3B4455;\n",
              "      fill: #D2E3FC;\n",
              "    }\n",
              "\n",
              "    [theme=dark] .colab-df-convert:hover {\n",
              "      background-color: #434B5C;\n",
              "      box-shadow: 0px 1px 3px 1px rgba(0, 0, 0, 0.15);\n",
              "      filter: drop-shadow(0px 1px 2px rgba(0, 0, 0, 0.3));\n",
              "      fill: #FFFFFF;\n",
              "    }\n",
              "  </style>\n",
              "\n",
              "      <script>\n",
              "        const buttonEl =\n",
              "          document.querySelector('#df-ea9e61b0-5a3b-406a-9778-c583286fb2e1 button.colab-df-convert');\n",
              "        buttonEl.style.display =\n",
              "          google.colab.kernel.accessAllowed ? 'block' : 'none';\n",
              "\n",
              "        async function convertToInteractive(key) {\n",
              "          const element = document.querySelector('#df-ea9e61b0-5a3b-406a-9778-c583286fb2e1');\n",
              "          const dataTable =\n",
              "            await google.colab.kernel.invokeFunction('convertToInteractive',\n",
              "                                                     [key], {});\n",
              "          if (!dataTable) return;\n",
              "\n",
              "          const docLinkHtml = 'Like what you see? Visit the ' +\n",
              "            '<a target=\"_blank\" href=https://colab.research.google.com/notebooks/data_table.ipynb>data table notebook</a>'\n",
              "            + ' to learn more about interactive tables.';\n",
              "          element.innerHTML = '';\n",
              "          dataTable['output_type'] = 'display_data';\n",
              "          await google.colab.output.renderOutput(dataTable, element);\n",
              "          const docLink = document.createElement('div');\n",
              "          docLink.innerHTML = docLinkHtml;\n",
              "          element.appendChild(docLink);\n",
              "        }\n",
              "      </script>\n",
              "    </div>\n",
              "  </div>\n",
              "  "
            ]
          },
          "metadata": {},
          "execution_count": 45
        }
      ],
      "source": [
        "final_ab_new_users"
      ]
    },
    {
      "cell_type": "code",
      "execution_count": null,
      "metadata": {
        "id": "i04kvESxSLU_",
        "outputId": "ca8d0517-7311-45d4-8a79-3ffd3ef2461f",
        "colab": {
          "base_uri": "https://localhost:8080/"
        }
      },
      "outputs": [
        {
          "output_type": "execute_result",
          "data": {
            "text/plain": [
              "6701"
            ]
          },
          "metadata": {},
          "execution_count": 46
        }
      ],
      "source": [
        "i0 = final_ab_new_users.user_id.isin(test).sum() # количество участвующих в тесте\n",
        "i0"
      ]
    },
    {
      "cell_type": "code",
      "execution_count": null,
      "metadata": {
        "id": "PUuOvxCBSLU_",
        "outputId": "599f9820-b725-4dc8-b909-7c28730b563a",
        "colab": {
          "base_uri": "https://localhost:8080/"
        }
      },
      "outputs": [
        {
          "output_type": "execute_result",
          "data": {
            "text/plain": [
              "6351"
            ]
          },
          "metadata": {},
          "execution_count": 47
        }
      ],
      "source": [
        "#количество участвующих в тесте из региона EU\n",
        "i1 = final_ab_new_users[final_ab_new_users.user_id.isin(test)].query('region == \"EU\"').shape[0] #количество участвующих в тесте из региона EU\n",
        "i1"
      ]
    },
    {
      "cell_type": "code",
      "execution_count": null,
      "metadata": {
        "id": "i_VcIhmxSLVA",
        "outputId": "e62bb499-3ee1-4451-8581-6ecad88c4257",
        "colab": {
          "base_uri": "https://localhost:8080/"
        }
      },
      "outputs": [
        {
          "output_type": "stream",
          "name": "stdout",
          "text": [
            "В тест `recommender_system_test` попало  350 пользователей из других регионов\n"
          ]
        }
      ],
      "source": [
        "print('В тест `recommender_system_test` попало ', i0-i1, 'пользователей из других регионов')"
      ]
    },
    {
      "cell_type": "markdown",
      "metadata": {
        "id": "I8AJS-8WSLVA"
      },
      "source": [
        "После завершения проверки соответствия технического задания исключим их."
      ]
    },
    {
      "cell_type": "code",
      "execution_count": null,
      "metadata": {
        "id": "K2SuOVNgSLVA"
      },
      "outputs": [],
      "source": [
        "# Cколько процентов новых пользователей вошло в тест\n",
        "#print ('В тест `recommender_system_test` было отобрано только ', round (i0/t.shape[0]*100,2), '% пользователей из региона EU вместо 15%')"
      ]
    },
    {
      "cell_type": "code",
      "execution_count": null,
      "metadata": {
        "id": "Oa12orjzSLVA",
        "outputId": "924d50f5-6848-40a9-a04e-b9625c0cd5a1",
        "colab": {
          "base_uri": "https://localhost:8080/"
        }
      },
      "outputs": [
        {
          "output_type": "stream",
          "name": "stdout",
          "text": [
            "В тест `recommender_system_test` было отобрано только  15.0 % пользователей из региона EU вместо 15%\n"
          ]
        }
      ],
      "source": [
        "# Cколько процентов новых пользователей вошло в тест\n",
        "print ('В тест `recommender_system_test` было отобрано только ', round (i1/t.shape[0]*100,2), '% пользователей из региона EU вместо 15%')"
      ]
    },
    {
      "cell_type": "markdown",
      "metadata": {
        "id": "ZkBlK-D5SLVC"
      },
      "source": [
        "### Пригодность метрик\n",
        "\n",
        "По техническому заданию тест должен подтвердить или опровергнуть улучшение метрик не менее чем на 10 %:\n",
        "\n",
        "- конверсии в просмотр карточек товаров — событие product_page\n",
        "- просмотры корзины — product_cart\n",
        "- покупки — purchase\n",
        "\n",
        "***Обсужнение метрик***\n",
        "\n",
        "**конверсии в просмотр карточек товаров** — событие product_page годная метрика - легко контролируется при изменении количества участников в контрольной и экспериментальной группе.\n",
        "\n",
        "**просмотры корзины** — product_cart  Негодная метрика -  метрика в такой формулировке зависит от количества посетителей в группе. При изменении количества посетителей в группе будет меняться. Рекомендация контролировать удельные просмотры, скажем от числа посетителей в группе.\n",
        "\n",
        "**покупки** — purchase тоже малопригодная метрика плохо сформулированная. При изменении количества посетителей в группе будет меняться. Рекомендация контролировать удельные просмотры, скажем от числа посетителей в группе."
      ]
    },
    {
      "cell_type": "markdown",
      "metadata": {
        "id": "yPr7cWoiSLVC"
      },
      "source": [
        "#### Выводы\n",
        "\n",
        "Данные подготовленные для теста не соответствуют техническому заданию для A/B тестирования. Выявлены следующие замечания и наблюдения:\n",
        "\n",
        "- В тесте рассматривались 6701 новый пользователь;\n",
        "- Группы А и В ренавномерны. Группы различаются более, чем на 10%. Новая платежная воронка меньше на 25% контрольной группы;\n",
        "- Начало и конец регистрации участников эксперимента соответствует техническому заданию;\n",
        "- Участники регистрировались неравномерно, особенно в последний день регистрации;\n",
        "- Последним днем наблюдений явилось 2020-12-30. Хотя по техническому заданию должны были наблюдать до - 2021-01-04;\n",
        "- В последний день очень мало событий;\n",
        "- В тест `recommender_system_test` попало  350 пользователей из других регионов;\n",
        "- В тест `recommender_system_test` было отобрано только  15 % пользователей из региона EU, как и положено по ТЗ - 15%;\n",
        "- Две из трех метрик, контролируемых в `recommender_system_test` непригодны для использования и требуют переформулировки.\n"
      ]
    },
    {
      "cell_type": "markdown",
      "metadata": {
        "id": "KnHaDtP1SLVD"
      },
      "source": [
        "## Оценка корректности проведения теста"
      ]
    },
    {
      "cell_type": "markdown",
      "metadata": {
        "id": "pOFo0UcPSLVD"
      },
      "source": [
        "### Время проведения теста\n",
        "\n",
        "Обращает на себя внимание, несколько заметных притоков пользователей на графиках (гистограммах) распределения пользователей по датам. Ответ можно найти в датасете /datasets/ab_project_marketing_events.csv — календарь маркетинговых событий на 2020 год.\n",
        "\n",
        "В период 2020-12-25 по 2021-01-03 проводиться акция Christmas&New Year Promo в регионах\tEU, N.America. Сама по себе рекламная (маркетинговая) акция на проведение А/В теста не влияет, как как маркетинговые мероприятия действуют и на экспериментальную и на контрольную группу. Но акция может поменять абсолютные значения метрик (конверсий), что впоследствии может сказаться на принятии решений."
      ]
    },
    {
      "cell_type": "markdown",
      "metadata": {
        "id": "AKw9NIrlSLVD"
      },
      "source": [
        "### Аудиторию теста\n",
        "\n",
        "Проверим  нет ли пересечения аудитории теста `recommender_system_test` с другими тестами\n",
        "\n",
        "Очистим аудиторию теста `recommender_system_test` от излишек замеченных в прошлом разделе:\n",
        "\n"
      ]
    },
    {
      "cell_type": "code",
      "execution_count": null,
      "metadata": {
        "id": "9s_xZr_rSLVE",
        "outputId": "6dd31346-0413-4b8e-cf4c-6b477ab1010b",
        "colab": {
          "base_uri": "https://localhost:8080/"
        }
      },
      "outputs": [
        {
          "output_type": "execute_result",
          "data": {
            "text/plain": [
              "array(['EU', 'N.America', 'APAC', 'CIS'], dtype=object)"
            ]
          },
          "metadata": {},
          "execution_count": 51
        }
      ],
      "source": [
        "final_ab_new_users\n",
        "final_ab_new_users.region.unique()"
      ]
    },
    {
      "cell_type": "code",
      "execution_count": null,
      "metadata": {
        "id": "MUm5TxsZSLVE",
        "outputId": "6c7c7f68-1803-4bd8-cec7-39ac148d7152",
        "colab": {
          "base_uri": "https://localhost:8080/"
        }
      },
      "outputs": [
        {
          "output_type": "execute_result",
          "data": {
            "text/plain": [
              "0        D72A72121175D8BE\n",
              "13       E6DE857AFBDC6102\n",
              "20       DD4352CDCF8C3D57\n",
              "23       831887FE7F2D6CBA\n",
              "39       4CB179C7F847320B\n",
              "               ...       \n",
              "61685    A09DFE27D4CFF8E8\n",
              "61693    0F7D49FC184EDCDE\n",
              "61709    574ACBC674BC385D\n",
              "61710    0416B34D35C8C8B8\n",
              "61715    89CB0BFBC3F35126\n",
              "Name: user_id, Length: 6351, dtype: object"
            ]
          },
          "metadata": {},
          "execution_count": 52
        }
      ],
      "source": [
        "test = final_ab_new_users[final_ab_new_users.user_id.isin(test)].query('region == \"EU\"')['user_id']\n",
        "test # Обновленный список user_id, подходящий для A|B теста `recommender_system_test"
      ]
    },
    {
      "cell_type": "markdown",
      "metadata": {
        "id": "CQtXD_zxSLVE"
      },
      "source": [
        "### Проверка участников теста на участие в других тестах\n",
        "\n",
        "Необходимо проверить нет ли среди участников теста `recommender_system_test` пользователей, принявших участие в других тестах. Это важно потому, что нам не известно, что им в тех тестах показывали, и возможно их поведение может быть изменено под воздействием тех показов. При наличии их нужно исключить."
      ]
    },
    {
      "cell_type": "code",
      "execution_count": null,
      "metadata": {
        "id": "nUP8U0hhSLVF",
        "outputId": "a3927d00-0f8c-4571-c0e8-ff8381de1cb3",
        "colab": {
          "base_uri": "https://localhost:8080/",
          "height": 424
        }
      },
      "outputs": [
        {
          "output_type": "execute_result",
          "data": {
            "text/plain": [
              "                user_id group                  ab_test\n",
              "0      D1ABA3E2887B6A73     A  recommender_system_test\n",
              "1      A7A3664BD6242119     A  recommender_system_test\n",
              "2      DABC14FDDFADD29E     A  recommender_system_test\n",
              "3      04988C5DF189632E     A  recommender_system_test\n",
              "4      482F14783456D21B     B  recommender_system_test\n",
              "...                 ...   ...                      ...\n",
              "18263  1D302F8688B91781     B        interface_eu_test\n",
              "18264  3DE51B726983B657     A        interface_eu_test\n",
              "18265  F501F79D332BE86C     A        interface_eu_test\n",
              "18266  63FBE257B05F2245     A        interface_eu_test\n",
              "18267  79F9ABFB029CF724     B        interface_eu_test\n",
              "\n",
              "[18268 rows x 3 columns]"
            ],
            "text/html": [
              "\n",
              "  <div id=\"df-9d7a46a0-e0c2-496c-8e46-3d46d8ba5918\">\n",
              "    <div class=\"colab-df-container\">\n",
              "      <div>\n",
              "<style scoped>\n",
              "    .dataframe tbody tr th:only-of-type {\n",
              "        vertical-align: middle;\n",
              "    }\n",
              "\n",
              "    .dataframe tbody tr th {\n",
              "        vertical-align: top;\n",
              "    }\n",
              "\n",
              "    .dataframe thead th {\n",
              "        text-align: right;\n",
              "    }\n",
              "</style>\n",
              "<table border=\"1\" class=\"dataframe\">\n",
              "  <thead>\n",
              "    <tr style=\"text-align: right;\">\n",
              "      <th></th>\n",
              "      <th>user_id</th>\n",
              "      <th>group</th>\n",
              "      <th>ab_test</th>\n",
              "    </tr>\n",
              "  </thead>\n",
              "  <tbody>\n",
              "    <tr>\n",
              "      <th>0</th>\n",
              "      <td>D1ABA3E2887B6A73</td>\n",
              "      <td>A</td>\n",
              "      <td>recommender_system_test</td>\n",
              "    </tr>\n",
              "    <tr>\n",
              "      <th>1</th>\n",
              "      <td>A7A3664BD6242119</td>\n",
              "      <td>A</td>\n",
              "      <td>recommender_system_test</td>\n",
              "    </tr>\n",
              "    <tr>\n",
              "      <th>2</th>\n",
              "      <td>DABC14FDDFADD29E</td>\n",
              "      <td>A</td>\n",
              "      <td>recommender_system_test</td>\n",
              "    </tr>\n",
              "    <tr>\n",
              "      <th>3</th>\n",
              "      <td>04988C5DF189632E</td>\n",
              "      <td>A</td>\n",
              "      <td>recommender_system_test</td>\n",
              "    </tr>\n",
              "    <tr>\n",
              "      <th>4</th>\n",
              "      <td>482F14783456D21B</td>\n",
              "      <td>B</td>\n",
              "      <td>recommender_system_test</td>\n",
              "    </tr>\n",
              "    <tr>\n",
              "      <th>...</th>\n",
              "      <td>...</td>\n",
              "      <td>...</td>\n",
              "      <td>...</td>\n",
              "    </tr>\n",
              "    <tr>\n",
              "      <th>18263</th>\n",
              "      <td>1D302F8688B91781</td>\n",
              "      <td>B</td>\n",
              "      <td>interface_eu_test</td>\n",
              "    </tr>\n",
              "    <tr>\n",
              "      <th>18264</th>\n",
              "      <td>3DE51B726983B657</td>\n",
              "      <td>A</td>\n",
              "      <td>interface_eu_test</td>\n",
              "    </tr>\n",
              "    <tr>\n",
              "      <th>18265</th>\n",
              "      <td>F501F79D332BE86C</td>\n",
              "      <td>A</td>\n",
              "      <td>interface_eu_test</td>\n",
              "    </tr>\n",
              "    <tr>\n",
              "      <th>18266</th>\n",
              "      <td>63FBE257B05F2245</td>\n",
              "      <td>A</td>\n",
              "      <td>interface_eu_test</td>\n",
              "    </tr>\n",
              "    <tr>\n",
              "      <th>18267</th>\n",
              "      <td>79F9ABFB029CF724</td>\n",
              "      <td>B</td>\n",
              "      <td>interface_eu_test</td>\n",
              "    </tr>\n",
              "  </tbody>\n",
              "</table>\n",
              "<p>18268 rows × 3 columns</p>\n",
              "</div>\n",
              "      <button class=\"colab-df-convert\" onclick=\"convertToInteractive('df-9d7a46a0-e0c2-496c-8e46-3d46d8ba5918')\"\n",
              "              title=\"Convert this dataframe to an interactive table.\"\n",
              "              style=\"display:none;\">\n",
              "        \n",
              "  <svg xmlns=\"http://www.w3.org/2000/svg\" height=\"24px\"viewBox=\"0 0 24 24\"\n",
              "       width=\"24px\">\n",
              "    <path d=\"M0 0h24v24H0V0z\" fill=\"none\"/>\n",
              "    <path d=\"M18.56 5.44l.94 2.06.94-2.06 2.06-.94-2.06-.94-.94-2.06-.94 2.06-2.06.94zm-11 1L8.5 8.5l.94-2.06 2.06-.94-2.06-.94L8.5 2.5l-.94 2.06-2.06.94zm10 10l.94 2.06.94-2.06 2.06-.94-2.06-.94-.94-2.06-.94 2.06-2.06.94z\"/><path d=\"M17.41 7.96l-1.37-1.37c-.4-.4-.92-.59-1.43-.59-.52 0-1.04.2-1.43.59L10.3 9.45l-7.72 7.72c-.78.78-.78 2.05 0 2.83L4 21.41c.39.39.9.59 1.41.59.51 0 1.02-.2 1.41-.59l7.78-7.78 2.81-2.81c.8-.78.8-2.07 0-2.86zM5.41 20L4 18.59l7.72-7.72 1.47 1.35L5.41 20z\"/>\n",
              "  </svg>\n",
              "      </button>\n",
              "      \n",
              "  <style>\n",
              "    .colab-df-container {\n",
              "      display:flex;\n",
              "      flex-wrap:wrap;\n",
              "      gap: 12px;\n",
              "    }\n",
              "\n",
              "    .colab-df-convert {\n",
              "      background-color: #E8F0FE;\n",
              "      border: none;\n",
              "      border-radius: 50%;\n",
              "      cursor: pointer;\n",
              "      display: none;\n",
              "      fill: #1967D2;\n",
              "      height: 32px;\n",
              "      padding: 0 0 0 0;\n",
              "      width: 32px;\n",
              "    }\n",
              "\n",
              "    .colab-df-convert:hover {\n",
              "      background-color: #E2EBFA;\n",
              "      box-shadow: 0px 1px 2px rgba(60, 64, 67, 0.3), 0px 1px 3px 1px rgba(60, 64, 67, 0.15);\n",
              "      fill: #174EA6;\n",
              "    }\n",
              "\n",
              "    [theme=dark] .colab-df-convert {\n",
              "      background-color: #3B4455;\n",
              "      fill: #D2E3FC;\n",
              "    }\n",
              "\n",
              "    [theme=dark] .colab-df-convert:hover {\n",
              "      background-color: #434B5C;\n",
              "      box-shadow: 0px 1px 3px 1px rgba(0, 0, 0, 0.15);\n",
              "      filter: drop-shadow(0px 1px 2px rgba(0, 0, 0, 0.3));\n",
              "      fill: #FFFFFF;\n",
              "    }\n",
              "  </style>\n",
              "\n",
              "      <script>\n",
              "        const buttonEl =\n",
              "          document.querySelector('#df-9d7a46a0-e0c2-496c-8e46-3d46d8ba5918 button.colab-df-convert');\n",
              "        buttonEl.style.display =\n",
              "          google.colab.kernel.accessAllowed ? 'block' : 'none';\n",
              "\n",
              "        async function convertToInteractive(key) {\n",
              "          const element = document.querySelector('#df-9d7a46a0-e0c2-496c-8e46-3d46d8ba5918');\n",
              "          const dataTable =\n",
              "            await google.colab.kernel.invokeFunction('convertToInteractive',\n",
              "                                                     [key], {});\n",
              "          if (!dataTable) return;\n",
              "\n",
              "          const docLinkHtml = 'Like what you see? Visit the ' +\n",
              "            '<a target=\"_blank\" href=https://colab.research.google.com/notebooks/data_table.ipynb>data table notebook</a>'\n",
              "            + ' to learn more about interactive tables.';\n",
              "          element.innerHTML = '';\n",
              "          dataTable['output_type'] = 'display_data';\n",
              "          await google.colab.output.renderOutput(dataTable, element);\n",
              "          const docLink = document.createElement('div');\n",
              "          docLink.innerHTML = docLinkHtml;\n",
              "          element.appendChild(docLink);\n",
              "        }\n",
              "      </script>\n",
              "    </div>\n",
              "  </div>\n",
              "  "
            ]
          },
          "metadata": {},
          "execution_count": 53
        }
      ],
      "source": [
        "final_ab_participants"
      ]
    },
    {
      "cell_type": "code",
      "execution_count": null,
      "metadata": {
        "id": "Ry7ayMyqSLVF",
        "outputId": "d06f271a-40e5-495e-d4df-96a378e8fd58",
        "colab": {
          "base_uri": "https://localhost:8080/",
          "height": 424
        }
      },
      "outputs": [
        {
          "output_type": "execute_result",
          "data": {
            "text/plain": [
              "                user_id group            ab_test\n",
              "6702   773ECB64E45DEBAB     A  interface_eu_test\n",
              "6704   AABA4219186465C9     A  interface_eu_test\n",
              "6705   2BA8FA8754D1FE50     B  interface_eu_test\n",
              "6706   FB6F6BC119E1DBD5     B  interface_eu_test\n",
              "6715   0ABA6D32AE7AFB9B     A  interface_eu_test\n",
              "...                 ...   ...                ...\n",
              "18227  EF2E4FAF26951358     A  interface_eu_test\n",
              "18245  2B0CD24EE4291CA0     B  interface_eu_test\n",
              "18252  CA6F4DAED160E5B1     A  interface_eu_test\n",
              "18257  C70DF942E542DA69     A  interface_eu_test\n",
              "18258  CE782A3646E8E5E1     A  interface_eu_test\n",
              "\n",
              "[1602 rows x 3 columns]"
            ],
            "text/html": [
              "\n",
              "  <div id=\"df-0e30cc33-402a-4866-b7f3-0aa7af89380a\">\n",
              "    <div class=\"colab-df-container\">\n",
              "      <div>\n",
              "<style scoped>\n",
              "    .dataframe tbody tr th:only-of-type {\n",
              "        vertical-align: middle;\n",
              "    }\n",
              "\n",
              "    .dataframe tbody tr th {\n",
              "        vertical-align: top;\n",
              "    }\n",
              "\n",
              "    .dataframe thead th {\n",
              "        text-align: right;\n",
              "    }\n",
              "</style>\n",
              "<table border=\"1\" class=\"dataframe\">\n",
              "  <thead>\n",
              "    <tr style=\"text-align: right;\">\n",
              "      <th></th>\n",
              "      <th>user_id</th>\n",
              "      <th>group</th>\n",
              "      <th>ab_test</th>\n",
              "    </tr>\n",
              "  </thead>\n",
              "  <tbody>\n",
              "    <tr>\n",
              "      <th>6702</th>\n",
              "      <td>773ECB64E45DEBAB</td>\n",
              "      <td>A</td>\n",
              "      <td>interface_eu_test</td>\n",
              "    </tr>\n",
              "    <tr>\n",
              "      <th>6704</th>\n",
              "      <td>AABA4219186465C9</td>\n",
              "      <td>A</td>\n",
              "      <td>interface_eu_test</td>\n",
              "    </tr>\n",
              "    <tr>\n",
              "      <th>6705</th>\n",
              "      <td>2BA8FA8754D1FE50</td>\n",
              "      <td>B</td>\n",
              "      <td>interface_eu_test</td>\n",
              "    </tr>\n",
              "    <tr>\n",
              "      <th>6706</th>\n",
              "      <td>FB6F6BC119E1DBD5</td>\n",
              "      <td>B</td>\n",
              "      <td>interface_eu_test</td>\n",
              "    </tr>\n",
              "    <tr>\n",
              "      <th>6715</th>\n",
              "      <td>0ABA6D32AE7AFB9B</td>\n",
              "      <td>A</td>\n",
              "      <td>interface_eu_test</td>\n",
              "    </tr>\n",
              "    <tr>\n",
              "      <th>...</th>\n",
              "      <td>...</td>\n",
              "      <td>...</td>\n",
              "      <td>...</td>\n",
              "    </tr>\n",
              "    <tr>\n",
              "      <th>18227</th>\n",
              "      <td>EF2E4FAF26951358</td>\n",
              "      <td>A</td>\n",
              "      <td>interface_eu_test</td>\n",
              "    </tr>\n",
              "    <tr>\n",
              "      <th>18245</th>\n",
              "      <td>2B0CD24EE4291CA0</td>\n",
              "      <td>B</td>\n",
              "      <td>interface_eu_test</td>\n",
              "    </tr>\n",
              "    <tr>\n",
              "      <th>18252</th>\n",
              "      <td>CA6F4DAED160E5B1</td>\n",
              "      <td>A</td>\n",
              "      <td>interface_eu_test</td>\n",
              "    </tr>\n",
              "    <tr>\n",
              "      <th>18257</th>\n",
              "      <td>C70DF942E542DA69</td>\n",
              "      <td>A</td>\n",
              "      <td>interface_eu_test</td>\n",
              "    </tr>\n",
              "    <tr>\n",
              "      <th>18258</th>\n",
              "      <td>CE782A3646E8E5E1</td>\n",
              "      <td>A</td>\n",
              "      <td>interface_eu_test</td>\n",
              "    </tr>\n",
              "  </tbody>\n",
              "</table>\n",
              "<p>1602 rows × 3 columns</p>\n",
              "</div>\n",
              "      <button class=\"colab-df-convert\" onclick=\"convertToInteractive('df-0e30cc33-402a-4866-b7f3-0aa7af89380a')\"\n",
              "              title=\"Convert this dataframe to an interactive table.\"\n",
              "              style=\"display:none;\">\n",
              "        \n",
              "  <svg xmlns=\"http://www.w3.org/2000/svg\" height=\"24px\"viewBox=\"0 0 24 24\"\n",
              "       width=\"24px\">\n",
              "    <path d=\"M0 0h24v24H0V0z\" fill=\"none\"/>\n",
              "    <path d=\"M18.56 5.44l.94 2.06.94-2.06 2.06-.94-2.06-.94-.94-2.06-.94 2.06-2.06.94zm-11 1L8.5 8.5l.94-2.06 2.06-.94-2.06-.94L8.5 2.5l-.94 2.06-2.06.94zm10 10l.94 2.06.94-2.06 2.06-.94-2.06-.94-.94-2.06-.94 2.06-2.06.94z\"/><path d=\"M17.41 7.96l-1.37-1.37c-.4-.4-.92-.59-1.43-.59-.52 0-1.04.2-1.43.59L10.3 9.45l-7.72 7.72c-.78.78-.78 2.05 0 2.83L4 21.41c.39.39.9.59 1.41.59.51 0 1.02-.2 1.41-.59l7.78-7.78 2.81-2.81c.8-.78.8-2.07 0-2.86zM5.41 20L4 18.59l7.72-7.72 1.47 1.35L5.41 20z\"/>\n",
              "  </svg>\n",
              "      </button>\n",
              "      \n",
              "  <style>\n",
              "    .colab-df-container {\n",
              "      display:flex;\n",
              "      flex-wrap:wrap;\n",
              "      gap: 12px;\n",
              "    }\n",
              "\n",
              "    .colab-df-convert {\n",
              "      background-color: #E8F0FE;\n",
              "      border: none;\n",
              "      border-radius: 50%;\n",
              "      cursor: pointer;\n",
              "      display: none;\n",
              "      fill: #1967D2;\n",
              "      height: 32px;\n",
              "      padding: 0 0 0 0;\n",
              "      width: 32px;\n",
              "    }\n",
              "\n",
              "    .colab-df-convert:hover {\n",
              "      background-color: #E2EBFA;\n",
              "      box-shadow: 0px 1px 2px rgba(60, 64, 67, 0.3), 0px 1px 3px 1px rgba(60, 64, 67, 0.15);\n",
              "      fill: #174EA6;\n",
              "    }\n",
              "\n",
              "    [theme=dark] .colab-df-convert {\n",
              "      background-color: #3B4455;\n",
              "      fill: #D2E3FC;\n",
              "    }\n",
              "\n",
              "    [theme=dark] .colab-df-convert:hover {\n",
              "      background-color: #434B5C;\n",
              "      box-shadow: 0px 1px 3px 1px rgba(0, 0, 0, 0.15);\n",
              "      filter: drop-shadow(0px 1px 2px rgba(0, 0, 0, 0.3));\n",
              "      fill: #FFFFFF;\n",
              "    }\n",
              "  </style>\n",
              "\n",
              "      <script>\n",
              "        const buttonEl =\n",
              "          document.querySelector('#df-0e30cc33-402a-4866-b7f3-0aa7af89380a button.colab-df-convert');\n",
              "        buttonEl.style.display =\n",
              "          google.colab.kernel.accessAllowed ? 'block' : 'none';\n",
              "\n",
              "        async function convertToInteractive(key) {\n",
              "          const element = document.querySelector('#df-0e30cc33-402a-4866-b7f3-0aa7af89380a');\n",
              "          const dataTable =\n",
              "            await google.colab.kernel.invokeFunction('convertToInteractive',\n",
              "                                                     [key], {});\n",
              "          if (!dataTable) return;\n",
              "\n",
              "          const docLinkHtml = 'Like what you see? Visit the ' +\n",
              "            '<a target=\"_blank\" href=https://colab.research.google.com/notebooks/data_table.ipynb>data table notebook</a>'\n",
              "            + ' to learn more about interactive tables.';\n",
              "          element.innerHTML = '';\n",
              "          dataTable['output_type'] = 'display_data';\n",
              "          await google.colab.output.renderOutput(dataTable, element);\n",
              "          const docLink = document.createElement('div');\n",
              "          docLink.innerHTML = docLinkHtml;\n",
              "          element.appendChild(docLink);\n",
              "        }\n",
              "      </script>\n",
              "    </div>\n",
              "  </div>\n",
              "  "
            ]
          },
          "metadata": {},
          "execution_count": 54
        }
      ],
      "source": [
        "t = final_ab_participants[final_ab_participants['user_id'].isin(test)]\n",
        "t # временный список user_id участников теста\n",
        "t = t[t['ab_test'] !='recommender_system_test']\n",
        "t # список участников теста, участвующих в других тестах"
      ]
    },
    {
      "cell_type": "code",
      "execution_count": null,
      "metadata": {
        "id": "EaZuxreJSLVF",
        "outputId": "8ecccbb2-d3cb-4473-af25-5241899f04e7",
        "colab": {
          "base_uri": "https://localhost:8080/"
        }
      },
      "outputs": [
        {
          "output_type": "execute_result",
          "data": {
            "text/plain": [
              "0        D72A72121175D8BE\n",
              "13       E6DE857AFBDC6102\n",
              "20       DD4352CDCF8C3D57\n",
              "23       831887FE7F2D6CBA\n",
              "39       4CB179C7F847320B\n",
              "               ...       \n",
              "61685    A09DFE27D4CFF8E8\n",
              "61693    0F7D49FC184EDCDE\n",
              "61709    574ACBC674BC385D\n",
              "61710    0416B34D35C8C8B8\n",
              "61715    89CB0BFBC3F35126\n",
              "Name: user_id, Length: 6351, dtype: object"
            ]
          },
          "metadata": {},
          "execution_count": 55
        }
      ],
      "source": [
        "test"
      ]
    },
    {
      "cell_type": "code",
      "execution_count": null,
      "metadata": {
        "id": "gpDE-enjSLVG",
        "outputId": "edaa223b-e772-4e0c-df09-32fb91e62c66",
        "colab": {
          "base_uri": "https://localhost:8080/"
        }
      },
      "outputs": [
        {
          "output_type": "execute_result",
          "data": {
            "text/plain": [
              "0        D72A72121175D8BE\n",
              "23       831887FE7F2D6CBA\n",
              "39       4CB179C7F847320B\n",
              "65       16C69ED14DA9F4A8\n",
              "69       3C5DD0288AC4FE23\n",
              "               ...       \n",
              "61681    3CA972F86411CF13\n",
              "61693    0F7D49FC184EDCDE\n",
              "61709    574ACBC674BC385D\n",
              "61710    0416B34D35C8C8B8\n",
              "61715    89CB0BFBC3F35126\n",
              "Name: user_id, Length: 4749, dtype: object"
            ]
          },
          "metadata": {},
          "execution_count": 56
        }
      ],
      "source": [
        "# убрать лишних\n",
        "test =test[~test.isin(t['user_id'])]\n",
        "test"
      ]
    },
    {
      "cell_type": "markdown",
      "metadata": {
        "id": "s20ojIqFSLVG"
      },
      "source": [
        "### Выводы и наблюдения\n",
        "\n",
        "Продолжаем улучшать данные  А/В теста `final_ab_participants`:\n",
        "- приняли решение, что наличие маркетингового мероприятия во время сбора информации для А/В тесте не повлияет на результаты, так как эти мероприятия действуют и на экспериментальную группу и на контрольную\n",
        "- исключили участников теста(пользователей) не из региона проведения теста:\n",
        "- убрали из списка участников теста, участвующих в других тестах."
      ]
    },
    {
      "cell_type": "markdown",
      "metadata": {
        "id": "Q2QHiqiOSLVH"
      },
      "source": [
        "Проверим также на пересечение пользователей внутри теста. Я это сделал в конце пункта работы 5.2, когда разделил датасеты.\n",
        "\n"
      ]
    },
    {
      "cell_type": "markdown",
      "metadata": {
        "id": "rHd0ezcNSLVI"
      },
      "source": [
        "### Проверка ТЗ в части исключения пользователя из наблюдения после 14го дня после регистрации\n",
        "\n",
        "Техническое задание предусматривает - Ожидаемый эффект: за 14 дней с момента регистрации в системе пользователи покажут улучшение каждой метрики не менее, чем на 10%\n",
        "\n",
        "Следовательно наблюдения и замер метрик необходимо производить 14 дней, а затем участника эксперимента исключать из группы."
      ]
    },
    {
      "cell_type": "markdown",
      "metadata": {
        "id": "2UGEq7yxSLVI"
      },
      "source": [
        "Первые посещения приложения участниками у нас в датасете final_ab_new_users"
      ]
    },
    {
      "cell_type": "code",
      "execution_count": null,
      "metadata": {
        "id": "bHqJnRCZSLVI",
        "outputId": "1e62302a-ed21-42dc-c9b9-ac8eb40abc9d",
        "colab": {
          "base_uri": "https://localhost:8080/",
          "height": 206
        }
      },
      "outputs": [
        {
          "output_type": "execute_result",
          "data": {
            "text/plain": [
              "            user_id first_date     region   device\n",
              "0  D72A72121175D8BE 2020-12-07         EU       PC\n",
              "1  F1C668619DFE6E65 2020-12-07  N.America  Android\n",
              "2  2E1BF1D4C37EA01F 2020-12-07         EU       PC\n",
              "3  50734A22C0C63768 2020-12-07         EU   iPhone\n",
              "4  E1BDDCE0DAFA2679 2020-12-07  N.America   iPhone"
            ],
            "text/html": [
              "\n",
              "  <div id=\"df-a017fa95-4d4b-464f-b828-9d2a34353c03\">\n",
              "    <div class=\"colab-df-container\">\n",
              "      <div>\n",
              "<style scoped>\n",
              "    .dataframe tbody tr th:only-of-type {\n",
              "        vertical-align: middle;\n",
              "    }\n",
              "\n",
              "    .dataframe tbody tr th {\n",
              "        vertical-align: top;\n",
              "    }\n",
              "\n",
              "    .dataframe thead th {\n",
              "        text-align: right;\n",
              "    }\n",
              "</style>\n",
              "<table border=\"1\" class=\"dataframe\">\n",
              "  <thead>\n",
              "    <tr style=\"text-align: right;\">\n",
              "      <th></th>\n",
              "      <th>user_id</th>\n",
              "      <th>first_date</th>\n",
              "      <th>region</th>\n",
              "      <th>device</th>\n",
              "    </tr>\n",
              "  </thead>\n",
              "  <tbody>\n",
              "    <tr>\n",
              "      <th>0</th>\n",
              "      <td>D72A72121175D8BE</td>\n",
              "      <td>2020-12-07</td>\n",
              "      <td>EU</td>\n",
              "      <td>PC</td>\n",
              "    </tr>\n",
              "    <tr>\n",
              "      <th>1</th>\n",
              "      <td>F1C668619DFE6E65</td>\n",
              "      <td>2020-12-07</td>\n",
              "      <td>N.America</td>\n",
              "      <td>Android</td>\n",
              "    </tr>\n",
              "    <tr>\n",
              "      <th>2</th>\n",
              "      <td>2E1BF1D4C37EA01F</td>\n",
              "      <td>2020-12-07</td>\n",
              "      <td>EU</td>\n",
              "      <td>PC</td>\n",
              "    </tr>\n",
              "    <tr>\n",
              "      <th>3</th>\n",
              "      <td>50734A22C0C63768</td>\n",
              "      <td>2020-12-07</td>\n",
              "      <td>EU</td>\n",
              "      <td>iPhone</td>\n",
              "    </tr>\n",
              "    <tr>\n",
              "      <th>4</th>\n",
              "      <td>E1BDDCE0DAFA2679</td>\n",
              "      <td>2020-12-07</td>\n",
              "      <td>N.America</td>\n",
              "      <td>iPhone</td>\n",
              "    </tr>\n",
              "  </tbody>\n",
              "</table>\n",
              "</div>\n",
              "      <button class=\"colab-df-convert\" onclick=\"convertToInteractive('df-a017fa95-4d4b-464f-b828-9d2a34353c03')\"\n",
              "              title=\"Convert this dataframe to an interactive table.\"\n",
              "              style=\"display:none;\">\n",
              "        \n",
              "  <svg xmlns=\"http://www.w3.org/2000/svg\" height=\"24px\"viewBox=\"0 0 24 24\"\n",
              "       width=\"24px\">\n",
              "    <path d=\"M0 0h24v24H0V0z\" fill=\"none\"/>\n",
              "    <path d=\"M18.56 5.44l.94 2.06.94-2.06 2.06-.94-2.06-.94-.94-2.06-.94 2.06-2.06.94zm-11 1L8.5 8.5l.94-2.06 2.06-.94-2.06-.94L8.5 2.5l-.94 2.06-2.06.94zm10 10l.94 2.06.94-2.06 2.06-.94-2.06-.94-.94-2.06-.94 2.06-2.06.94z\"/><path d=\"M17.41 7.96l-1.37-1.37c-.4-.4-.92-.59-1.43-.59-.52 0-1.04.2-1.43.59L10.3 9.45l-7.72 7.72c-.78.78-.78 2.05 0 2.83L4 21.41c.39.39.9.59 1.41.59.51 0 1.02-.2 1.41-.59l7.78-7.78 2.81-2.81c.8-.78.8-2.07 0-2.86zM5.41 20L4 18.59l7.72-7.72 1.47 1.35L5.41 20z\"/>\n",
              "  </svg>\n",
              "      </button>\n",
              "      \n",
              "  <style>\n",
              "    .colab-df-container {\n",
              "      display:flex;\n",
              "      flex-wrap:wrap;\n",
              "      gap: 12px;\n",
              "    }\n",
              "\n",
              "    .colab-df-convert {\n",
              "      background-color: #E8F0FE;\n",
              "      border: none;\n",
              "      border-radius: 50%;\n",
              "      cursor: pointer;\n",
              "      display: none;\n",
              "      fill: #1967D2;\n",
              "      height: 32px;\n",
              "      padding: 0 0 0 0;\n",
              "      width: 32px;\n",
              "    }\n",
              "\n",
              "    .colab-df-convert:hover {\n",
              "      background-color: #E2EBFA;\n",
              "      box-shadow: 0px 1px 2px rgba(60, 64, 67, 0.3), 0px 1px 3px 1px rgba(60, 64, 67, 0.15);\n",
              "      fill: #174EA6;\n",
              "    }\n",
              "\n",
              "    [theme=dark] .colab-df-convert {\n",
              "      background-color: #3B4455;\n",
              "      fill: #D2E3FC;\n",
              "    }\n",
              "\n",
              "    [theme=dark] .colab-df-convert:hover {\n",
              "      background-color: #434B5C;\n",
              "      box-shadow: 0px 1px 3px 1px rgba(0, 0, 0, 0.15);\n",
              "      filter: drop-shadow(0px 1px 2px rgba(0, 0, 0, 0.3));\n",
              "      fill: #FFFFFF;\n",
              "    }\n",
              "  </style>\n",
              "\n",
              "      <script>\n",
              "        const buttonEl =\n",
              "          document.querySelector('#df-a017fa95-4d4b-464f-b828-9d2a34353c03 button.colab-df-convert');\n",
              "        buttonEl.style.display =\n",
              "          google.colab.kernel.accessAllowed ? 'block' : 'none';\n",
              "\n",
              "        async function convertToInteractive(key) {\n",
              "          const element = document.querySelector('#df-a017fa95-4d4b-464f-b828-9d2a34353c03');\n",
              "          const dataTable =\n",
              "            await google.colab.kernel.invokeFunction('convertToInteractive',\n",
              "                                                     [key], {});\n",
              "          if (!dataTable) return;\n",
              "\n",
              "          const docLinkHtml = 'Like what you see? Visit the ' +\n",
              "            '<a target=\"_blank\" href=https://colab.research.google.com/notebooks/data_table.ipynb>data table notebook</a>'\n",
              "            + ' to learn more about interactive tables.';\n",
              "          element.innerHTML = '';\n",
              "          dataTable['output_type'] = 'display_data';\n",
              "          await google.colab.output.renderOutput(dataTable, element);\n",
              "          const docLink = document.createElement('div');\n",
              "          docLink.innerHTML = docLinkHtml;\n",
              "          element.appendChild(docLink);\n",
              "        }\n",
              "      </script>\n",
              "    </div>\n",
              "  </div>\n",
              "  "
            ]
          },
          "metadata": {},
          "execution_count": 57
        }
      ],
      "source": [
        "final_ab_new_users.head()"
      ]
    },
    {
      "cell_type": "code",
      "execution_count": null,
      "metadata": {
        "id": "Aq1YPa5hSLVJ",
        "outputId": "4eae4ebf-2df1-45d3-da94-40c0ddf75700",
        "colab": {
          "base_uri": "https://localhost:8080/"
        }
      },
      "outputs": [
        {
          "output_type": "stream",
          "name": "stdout",
          "text": [
            "<class 'pandas.core.frame.DataFrame'>\n",
            "RangeIndex: 61733 entries, 0 to 61732\n",
            "Data columns (total 4 columns):\n",
            " #   Column      Non-Null Count  Dtype         \n",
            "---  ------      --------------  -----         \n",
            " 0   user_id     61733 non-null  object        \n",
            " 1   first_date  61733 non-null  datetime64[ns]\n",
            " 2   region      61733 non-null  object        \n",
            " 3   device      61733 non-null  object        \n",
            "dtypes: datetime64[ns](1), object(3)\n",
            "memory usage: 1.9+ MB\n"
          ]
        }
      ],
      "source": [
        "final_ab_new_users.info()"
      ]
    },
    {
      "cell_type": "code",
      "execution_count": null,
      "metadata": {
        "id": "KwsuGLKgSLVJ",
        "outputId": "9a2110ea-1fcc-49c2-d9eb-72facce20e70",
        "colab": {
          "base_uri": "https://localhost:8080/"
        }
      },
      "outputs": [
        {
          "output_type": "execute_result",
          "data": {
            "text/plain": [
              "array(['831887FE7F2D6CBA', '3C5DD0288AC4FE23', '49EA242586C87836', ...,\n",
              "       'BEF16764A13AEC34', '1E6B9298415AA97A', '23DDD27AC3FEFA63'],\n",
              "      dtype=object)"
            ]
          },
          "metadata": {},
          "execution_count": 59
        }
      ],
      "source": [
        "# формируем временный датасет\n",
        "t = final_ab_new_users.copy()\n",
        "# добавляем столбец последнего дня наблюдений\n",
        "t['last_date'] = t['first_date'] + datetime.timedelta(days=14)\n",
        "# убираем лишние колонки\n",
        "t = t.drop(columns=['first_date', 'region', 'device'])\n",
        "# добавляем последний день наблюдений в датасет событий теста\n",
        "events = events.merge(t, left_on='user_id', right_on='user_id')\n",
        "# фильтруем события\n",
        "events = events[events['event_dt'] <= events['last_date']]\n",
        "# считаем оставшихся пользователей\n",
        "events['user_id'].nunique()\n",
        "# корректируем список участников эксперимента - теста\n",
        "test = events['user_id'].unique()\n",
        "test"
      ]
    },
    {
      "cell_type": "code",
      "execution_count": null,
      "metadata": {
        "id": "_Z4OfwuJSLVJ",
        "outputId": "199093e9-2d34-4b6f-fb84-02694ddd724a",
        "colab": {
          "base_uri": "https://localhost:8080/"
        }
      },
      "outputs": [
        {
          "output_type": "execute_result",
          "data": {
            "text/plain": [
              "3675"
            ]
          },
          "metadata": {},
          "execution_count": 60
        }
      ],
      "source": [
        "len (test)"
      ]
    },
    {
      "cell_type": "markdown",
      "metadata": {
        "id": "9YZrTCWjSLVK"
      },
      "source": [
        "### Дополнительный вывод\n",
        "\n",
        "Исключив события пользователей после 14 дня после регистрации, потеряли еще некоторое количество уникальных участников эксперимента. Остаток 3675 пользователей."
      ]
    },
    {
      "cell_type": "markdown",
      "metadata": {
        "id": "-cTuHatZSLVK"
      },
      "source": [
        "## Исследовательский анализ данных\n",
        "\n",
        "Мы окончательно определились с количеством и списком участников в обновленном А/В тесте, поэтому можно объеденить датасеты для удобства предварительного анализа и дальнейшего проведения Z-теста.\n",
        "\n",
        "итак:\n",
        "- список пользователей - test\n",
        "- Даты регистрации новых участников - с min_date_reg = 2020-12-07 по max_date_reg = 2020-12-21. всего 14 дней.\n",
        "- даты наблюдения - min_date =2 020-12-07 по max_date=2020-12-30. всего 22 дня.\n",
        "- Аудитория: 15% новых пользователей из региона EU;\n",
        "- Назначение теста: тестирование изменений, связанных с внедрением улучшенной рекомендательной системы;\n",
        "- Ожидаемое количество участников теста: 3600 (сейчас - 3675).\n",
        "- Ожидаемый эффект: за 14 дней с момента регистрации в системе пользователи покажут улучшение каждой метрики не менее, чем на 10%:\n",
        "\n",
        "\n",
        "        1. конверсии в просмотр карточек товаров — событие product_page\n",
        "        2. конверсии в просмотры корзины — событие product_cart\n",
        "        3. Конверсии в покупки — событие purchase\n",
        "\n"
      ]
    },
    {
      "cell_type": "code",
      "execution_count": null,
      "metadata": {
        "id": "FJ_rnZWNSLVK",
        "outputId": "ee610c21-7183-4375-e8d8-34decfd40c78",
        "colab": {
          "base_uri": "https://localhost:8080/"
        }
      },
      "outputs": [
        {
          "output_type": "stream",
          "name": "stdout",
          "text": [
            "                 user_id            event_dt event_name  details\n",
            "5       831887FE7F2D6CBA 2020-12-07 06:50:29   purchase     4.99\n",
            "17      3C5DD0288AC4FE23 2020-12-07 19:42:40   purchase     4.99\n",
            "58      49EA242586C87836 2020-12-07 06:31:24   purchase    99.99\n",
            "71      2B06EB547B7AAD08 2020-12-07 21:36:38   purchase     4.99\n",
            "74      A640F31CAC7823A6 2020-12-07 18:48:26   purchase     4.99\n",
            "...                  ...                 ...        ...      ...\n",
            "440239  D21F0D4FDCD82DB2 2020-12-29 02:17:00      login     0.00\n",
            "440258  96BDD55846D1F7F6 2020-12-29 16:53:42      login     0.00\n",
            "440267  553BAE96C6EB6240 2020-12-29 14:09:14      login     0.00\n",
            "440281  DD4352CDCF8C3D57 2020-12-30 12:42:56      login     0.00\n",
            "440289  75845C83258FBF73 2020-12-30 06:42:52      login     0.00\n",
            "\n",
            "[24698 rows x 4 columns]\n"
          ]
        },
        {
          "output_type": "execute_result",
          "data": {
            "text/plain": [
              "24698"
            ]
          },
          "metadata": {},
          "execution_count": 61
        }
      ],
      "source": [
        "events = final_ab_events[final_ab_events.user_id.isin(test)]\n",
        "print (events)\n",
        "final_ab_events.user_id.isin(test).sum()"
      ]
    },
    {
      "cell_type": "markdown",
      "metadata": {
        "id": "9ZGk3AofSLVL"
      },
      "source": [
        "Годных к исследованию осталось совсем мало от того количества, которое было в начале!"
      ]
    },
    {
      "cell_type": "markdown",
      "metadata": {
        "id": "XWRmU4FISLVO"
      },
      "source": [
        "### Подготовка данных"
      ]
    },
    {
      "cell_type": "code",
      "execution_count": null,
      "metadata": {
        "id": "809YuFN1SLVO",
        "outputId": "9b551133-8b57-4db5-d06a-1e8b235cc92a",
        "colab": {
          "base_uri": "https://localhost:8080/"
        }
      },
      "outputs": [
        {
          "output_type": "execute_result",
          "data": {
            "text/plain": [
              "                 user_id            event_dt event_name  details\n",
              "5       831887FE7F2D6CBA 2020-12-07 06:50:29   purchase     4.99\n",
              "17      3C5DD0288AC4FE23 2020-12-07 19:42:40   purchase     4.99\n",
              "58      49EA242586C87836 2020-12-07 06:31:24   purchase    99.99\n",
              "71      2B06EB547B7AAD08 2020-12-07 21:36:38   purchase     4.99\n",
              "74      A640F31CAC7823A6 2020-12-07 18:48:26   purchase     4.99\n",
              "...                  ...                 ...        ...      ...\n",
              "440239  D21F0D4FDCD82DB2 2020-12-29 02:17:00      login     0.00\n",
              "440258  96BDD55846D1F7F6 2020-12-29 16:53:42      login     0.00\n",
              "440267  553BAE96C6EB6240 2020-12-29 14:09:14      login     0.00\n",
              "440281  DD4352CDCF8C3D57 2020-12-30 12:42:56      login     0.00\n",
              "440289  75845C83258FBF73 2020-12-30 06:42:52      login     0.00\n",
              "\n",
              "[24698 rows x 4 columns]"
            ],
            "text/html": [
              "\n",
              "  <div id=\"df-0cc24d0b-cd34-49d5-9841-a58ffbc8e02e\">\n",
              "    <div class=\"colab-df-container\">\n",
              "      <div>\n",
              "<style scoped>\n",
              "    .dataframe tbody tr th:only-of-type {\n",
              "        vertical-align: middle;\n",
              "    }\n",
              "\n",
              "    .dataframe tbody tr th {\n",
              "        vertical-align: top;\n",
              "    }\n",
              "\n",
              "    .dataframe thead th {\n",
              "        text-align: right;\n",
              "    }\n",
              "</style>\n",
              "<table border=\"1\" class=\"dataframe\">\n",
              "  <thead>\n",
              "    <tr style=\"text-align: right;\">\n",
              "      <th></th>\n",
              "      <th>user_id</th>\n",
              "      <th>event_dt</th>\n",
              "      <th>event_name</th>\n",
              "      <th>details</th>\n",
              "    </tr>\n",
              "  </thead>\n",
              "  <tbody>\n",
              "    <tr>\n",
              "      <th>5</th>\n",
              "      <td>831887FE7F2D6CBA</td>\n",
              "      <td>2020-12-07 06:50:29</td>\n",
              "      <td>purchase</td>\n",
              "      <td>4.99</td>\n",
              "    </tr>\n",
              "    <tr>\n",
              "      <th>17</th>\n",
              "      <td>3C5DD0288AC4FE23</td>\n",
              "      <td>2020-12-07 19:42:40</td>\n",
              "      <td>purchase</td>\n",
              "      <td>4.99</td>\n",
              "    </tr>\n",
              "    <tr>\n",
              "      <th>58</th>\n",
              "      <td>49EA242586C87836</td>\n",
              "      <td>2020-12-07 06:31:24</td>\n",
              "      <td>purchase</td>\n",
              "      <td>99.99</td>\n",
              "    </tr>\n",
              "    <tr>\n",
              "      <th>71</th>\n",
              "      <td>2B06EB547B7AAD08</td>\n",
              "      <td>2020-12-07 21:36:38</td>\n",
              "      <td>purchase</td>\n",
              "      <td>4.99</td>\n",
              "    </tr>\n",
              "    <tr>\n",
              "      <th>74</th>\n",
              "      <td>A640F31CAC7823A6</td>\n",
              "      <td>2020-12-07 18:48:26</td>\n",
              "      <td>purchase</td>\n",
              "      <td>4.99</td>\n",
              "    </tr>\n",
              "    <tr>\n",
              "      <th>...</th>\n",
              "      <td>...</td>\n",
              "      <td>...</td>\n",
              "      <td>...</td>\n",
              "      <td>...</td>\n",
              "    </tr>\n",
              "    <tr>\n",
              "      <th>440239</th>\n",
              "      <td>D21F0D4FDCD82DB2</td>\n",
              "      <td>2020-12-29 02:17:00</td>\n",
              "      <td>login</td>\n",
              "      <td>0.00</td>\n",
              "    </tr>\n",
              "    <tr>\n",
              "      <th>440258</th>\n",
              "      <td>96BDD55846D1F7F6</td>\n",
              "      <td>2020-12-29 16:53:42</td>\n",
              "      <td>login</td>\n",
              "      <td>0.00</td>\n",
              "    </tr>\n",
              "    <tr>\n",
              "      <th>440267</th>\n",
              "      <td>553BAE96C6EB6240</td>\n",
              "      <td>2020-12-29 14:09:14</td>\n",
              "      <td>login</td>\n",
              "      <td>0.00</td>\n",
              "    </tr>\n",
              "    <tr>\n",
              "      <th>440281</th>\n",
              "      <td>DD4352CDCF8C3D57</td>\n",
              "      <td>2020-12-30 12:42:56</td>\n",
              "      <td>login</td>\n",
              "      <td>0.00</td>\n",
              "    </tr>\n",
              "    <tr>\n",
              "      <th>440289</th>\n",
              "      <td>75845C83258FBF73</td>\n",
              "      <td>2020-12-30 06:42:52</td>\n",
              "      <td>login</td>\n",
              "      <td>0.00</td>\n",
              "    </tr>\n",
              "  </tbody>\n",
              "</table>\n",
              "<p>24698 rows × 4 columns</p>\n",
              "</div>\n",
              "      <button class=\"colab-df-convert\" onclick=\"convertToInteractive('df-0cc24d0b-cd34-49d5-9841-a58ffbc8e02e')\"\n",
              "              title=\"Convert this dataframe to an interactive table.\"\n",
              "              style=\"display:none;\">\n",
              "        \n",
              "  <svg xmlns=\"http://www.w3.org/2000/svg\" height=\"24px\"viewBox=\"0 0 24 24\"\n",
              "       width=\"24px\">\n",
              "    <path d=\"M0 0h24v24H0V0z\" fill=\"none\"/>\n",
              "    <path d=\"M18.56 5.44l.94 2.06.94-2.06 2.06-.94-2.06-.94-.94-2.06-.94 2.06-2.06.94zm-11 1L8.5 8.5l.94-2.06 2.06-.94-2.06-.94L8.5 2.5l-.94 2.06-2.06.94zm10 10l.94 2.06.94-2.06 2.06-.94-2.06-.94-.94-2.06-.94 2.06-2.06.94z\"/><path d=\"M17.41 7.96l-1.37-1.37c-.4-.4-.92-.59-1.43-.59-.52 0-1.04.2-1.43.59L10.3 9.45l-7.72 7.72c-.78.78-.78 2.05 0 2.83L4 21.41c.39.39.9.59 1.41.59.51 0 1.02-.2 1.41-.59l7.78-7.78 2.81-2.81c.8-.78.8-2.07 0-2.86zM5.41 20L4 18.59l7.72-7.72 1.47 1.35L5.41 20z\"/>\n",
              "  </svg>\n",
              "      </button>\n",
              "      \n",
              "  <style>\n",
              "    .colab-df-container {\n",
              "      display:flex;\n",
              "      flex-wrap:wrap;\n",
              "      gap: 12px;\n",
              "    }\n",
              "\n",
              "    .colab-df-convert {\n",
              "      background-color: #E8F0FE;\n",
              "      border: none;\n",
              "      border-radius: 50%;\n",
              "      cursor: pointer;\n",
              "      display: none;\n",
              "      fill: #1967D2;\n",
              "      height: 32px;\n",
              "      padding: 0 0 0 0;\n",
              "      width: 32px;\n",
              "    }\n",
              "\n",
              "    .colab-df-convert:hover {\n",
              "      background-color: #E2EBFA;\n",
              "      box-shadow: 0px 1px 2px rgba(60, 64, 67, 0.3), 0px 1px 3px 1px rgba(60, 64, 67, 0.15);\n",
              "      fill: #174EA6;\n",
              "    }\n",
              "\n",
              "    [theme=dark] .colab-df-convert {\n",
              "      background-color: #3B4455;\n",
              "      fill: #D2E3FC;\n",
              "    }\n",
              "\n",
              "    [theme=dark] .colab-df-convert:hover {\n",
              "      background-color: #434B5C;\n",
              "      box-shadow: 0px 1px 3px 1px rgba(0, 0, 0, 0.15);\n",
              "      filter: drop-shadow(0px 1px 2px rgba(0, 0, 0, 0.3));\n",
              "      fill: #FFFFFF;\n",
              "    }\n",
              "  </style>\n",
              "\n",
              "      <script>\n",
              "        const buttonEl =\n",
              "          document.querySelector('#df-0cc24d0b-cd34-49d5-9841-a58ffbc8e02e button.colab-df-convert');\n",
              "        buttonEl.style.display =\n",
              "          google.colab.kernel.accessAllowed ? 'block' : 'none';\n",
              "\n",
              "        async function convertToInteractive(key) {\n",
              "          const element = document.querySelector('#df-0cc24d0b-cd34-49d5-9841-a58ffbc8e02e');\n",
              "          const dataTable =\n",
              "            await google.colab.kernel.invokeFunction('convertToInteractive',\n",
              "                                                     [key], {});\n",
              "          if (!dataTable) return;\n",
              "\n",
              "          const docLinkHtml = 'Like what you see? Visit the ' +\n",
              "            '<a target=\"_blank\" href=https://colab.research.google.com/notebooks/data_table.ipynb>data table notebook</a>'\n",
              "            + ' to learn more about interactive tables.';\n",
              "          element.innerHTML = '';\n",
              "          dataTable['output_type'] = 'display_data';\n",
              "          await google.colab.output.renderOutput(dataTable, element);\n",
              "          const docLink = document.createElement('div');\n",
              "          docLink.innerHTML = docLinkHtml;\n",
              "          element.appendChild(docLink);\n",
              "        }\n",
              "      </script>\n",
              "    </div>\n",
              "  </div>\n",
              "  "
            ]
          },
          "metadata": {},
          "execution_count": 62
        }
      ],
      "source": [
        "events"
      ]
    },
    {
      "cell_type": "markdown",
      "metadata": {
        "id": "7unWrreTSLVO"
      },
      "source": [
        "По рекомендации не замещаю пропуски нулями. Эта колонка в расчетах не участвует. Сохраним ее в первозданном виде."
      ]
    },
    {
      "cell_type": "code",
      "execution_count": null,
      "metadata": {
        "scrolled": true,
        "id": "zC1qrcsjSLVP"
      },
      "outputs": [],
      "source": [
        "t = final_ab_participants[final_ab_participants['user_id'].isin(test)]\n",
        "t # временный список user_id участников теста\n",
        "# для удобства работы объеденим события и группы\n",
        "events = events.merge(t, left_on='user_id', right_on='user_id')"
      ]
    },
    {
      "cell_type": "markdown",
      "metadata": {
        "id": "VniLvVevSLVP"
      },
      "source": [
        "И разделим на два датасета, лишние столбцы уберем"
      ]
    },
    {
      "cell_type": "code",
      "execution_count": null,
      "metadata": {
        "id": "ijAlQxTDSLVP",
        "outputId": "739d3508-b782-4090-e8e7-18cd19f85ad1",
        "colab": {
          "base_uri": "https://localhost:8080/"
        }
      },
      "outputs": [
        {
          "output_type": "execute_result",
          "data": {
            "text/plain": [
              "                user_id            event_dt    event_name\n",
              "0      831887FE7F2D6CBA 2020-12-07 06:50:29      purchase\n",
              "1      831887FE7F2D6CBA 2020-12-09 02:19:17      purchase\n",
              "2      831887FE7F2D6CBA 2020-12-07 06:50:30  product_cart\n",
              "3      831887FE7F2D6CBA 2020-12-08 10:52:27  product_cart\n",
              "4      831887FE7F2D6CBA 2020-12-09 02:19:17  product_cart\n",
              "...                 ...                 ...           ...\n",
              "30579  1484BBF124DB1B18 2020-12-27 10:53:34         login\n",
              "30581  BEF16764A13AEC34 2020-12-21 03:49:49         login\n",
              "30583  BEF16764A13AEC34 2020-12-22 18:52:25         login\n",
              "30585  BEF16764A13AEC34 2020-12-24 22:11:00         login\n",
              "30591  23DDD27AC3FEFA63 2020-12-21 02:51:45         login\n",
              "\n",
              "[22342 rows x 3 columns]"
            ],
            "text/html": [
              "\n",
              "  <div id=\"df-af6256df-dbea-4f10-949f-57ed310be99e\">\n",
              "    <div class=\"colab-df-container\">\n",
              "      <div>\n",
              "<style scoped>\n",
              "    .dataframe tbody tr th:only-of-type {\n",
              "        vertical-align: middle;\n",
              "    }\n",
              "\n",
              "    .dataframe tbody tr th {\n",
              "        vertical-align: top;\n",
              "    }\n",
              "\n",
              "    .dataframe thead th {\n",
              "        text-align: right;\n",
              "    }\n",
              "</style>\n",
              "<table border=\"1\" class=\"dataframe\">\n",
              "  <thead>\n",
              "    <tr style=\"text-align: right;\">\n",
              "      <th></th>\n",
              "      <th>user_id</th>\n",
              "      <th>event_dt</th>\n",
              "      <th>event_name</th>\n",
              "    </tr>\n",
              "  </thead>\n",
              "  <tbody>\n",
              "    <tr>\n",
              "      <th>0</th>\n",
              "      <td>831887FE7F2D6CBA</td>\n",
              "      <td>2020-12-07 06:50:29</td>\n",
              "      <td>purchase</td>\n",
              "    </tr>\n",
              "    <tr>\n",
              "      <th>1</th>\n",
              "      <td>831887FE7F2D6CBA</td>\n",
              "      <td>2020-12-09 02:19:17</td>\n",
              "      <td>purchase</td>\n",
              "    </tr>\n",
              "    <tr>\n",
              "      <th>2</th>\n",
              "      <td>831887FE7F2D6CBA</td>\n",
              "      <td>2020-12-07 06:50:30</td>\n",
              "      <td>product_cart</td>\n",
              "    </tr>\n",
              "    <tr>\n",
              "      <th>3</th>\n",
              "      <td>831887FE7F2D6CBA</td>\n",
              "      <td>2020-12-08 10:52:27</td>\n",
              "      <td>product_cart</td>\n",
              "    </tr>\n",
              "    <tr>\n",
              "      <th>4</th>\n",
              "      <td>831887FE7F2D6CBA</td>\n",
              "      <td>2020-12-09 02:19:17</td>\n",
              "      <td>product_cart</td>\n",
              "    </tr>\n",
              "    <tr>\n",
              "      <th>...</th>\n",
              "      <td>...</td>\n",
              "      <td>...</td>\n",
              "      <td>...</td>\n",
              "    </tr>\n",
              "    <tr>\n",
              "      <th>30579</th>\n",
              "      <td>1484BBF124DB1B18</td>\n",
              "      <td>2020-12-27 10:53:34</td>\n",
              "      <td>login</td>\n",
              "    </tr>\n",
              "    <tr>\n",
              "      <th>30581</th>\n",
              "      <td>BEF16764A13AEC34</td>\n",
              "      <td>2020-12-21 03:49:49</td>\n",
              "      <td>login</td>\n",
              "    </tr>\n",
              "    <tr>\n",
              "      <th>30583</th>\n",
              "      <td>BEF16764A13AEC34</td>\n",
              "      <td>2020-12-22 18:52:25</td>\n",
              "      <td>login</td>\n",
              "    </tr>\n",
              "    <tr>\n",
              "      <th>30585</th>\n",
              "      <td>BEF16764A13AEC34</td>\n",
              "      <td>2020-12-24 22:11:00</td>\n",
              "      <td>login</td>\n",
              "    </tr>\n",
              "    <tr>\n",
              "      <th>30591</th>\n",
              "      <td>23DDD27AC3FEFA63</td>\n",
              "      <td>2020-12-21 02:51:45</td>\n",
              "      <td>login</td>\n",
              "    </tr>\n",
              "  </tbody>\n",
              "</table>\n",
              "<p>22342 rows × 3 columns</p>\n",
              "</div>\n",
              "      <button class=\"colab-df-convert\" onclick=\"convertToInteractive('df-af6256df-dbea-4f10-949f-57ed310be99e')\"\n",
              "              title=\"Convert this dataframe to an interactive table.\"\n",
              "              style=\"display:none;\">\n",
              "        \n",
              "  <svg xmlns=\"http://www.w3.org/2000/svg\" height=\"24px\"viewBox=\"0 0 24 24\"\n",
              "       width=\"24px\">\n",
              "    <path d=\"M0 0h24v24H0V0z\" fill=\"none\"/>\n",
              "    <path d=\"M18.56 5.44l.94 2.06.94-2.06 2.06-.94-2.06-.94-.94-2.06-.94 2.06-2.06.94zm-11 1L8.5 8.5l.94-2.06 2.06-.94-2.06-.94L8.5 2.5l-.94 2.06-2.06.94zm10 10l.94 2.06.94-2.06 2.06-.94-2.06-.94-.94-2.06-.94 2.06-2.06.94z\"/><path d=\"M17.41 7.96l-1.37-1.37c-.4-.4-.92-.59-1.43-.59-.52 0-1.04.2-1.43.59L10.3 9.45l-7.72 7.72c-.78.78-.78 2.05 0 2.83L4 21.41c.39.39.9.59 1.41.59.51 0 1.02-.2 1.41-.59l7.78-7.78 2.81-2.81c.8-.78.8-2.07 0-2.86zM5.41 20L4 18.59l7.72-7.72 1.47 1.35L5.41 20z\"/>\n",
              "  </svg>\n",
              "      </button>\n",
              "      \n",
              "  <style>\n",
              "    .colab-df-container {\n",
              "      display:flex;\n",
              "      flex-wrap:wrap;\n",
              "      gap: 12px;\n",
              "    }\n",
              "\n",
              "    .colab-df-convert {\n",
              "      background-color: #E8F0FE;\n",
              "      border: none;\n",
              "      border-radius: 50%;\n",
              "      cursor: pointer;\n",
              "      display: none;\n",
              "      fill: #1967D2;\n",
              "      height: 32px;\n",
              "      padding: 0 0 0 0;\n",
              "      width: 32px;\n",
              "    }\n",
              "\n",
              "    .colab-df-convert:hover {\n",
              "      background-color: #E2EBFA;\n",
              "      box-shadow: 0px 1px 2px rgba(60, 64, 67, 0.3), 0px 1px 3px 1px rgba(60, 64, 67, 0.15);\n",
              "      fill: #174EA6;\n",
              "    }\n",
              "\n",
              "    [theme=dark] .colab-df-convert {\n",
              "      background-color: #3B4455;\n",
              "      fill: #D2E3FC;\n",
              "    }\n",
              "\n",
              "    [theme=dark] .colab-df-convert:hover {\n",
              "      background-color: #434B5C;\n",
              "      box-shadow: 0px 1px 3px 1px rgba(0, 0, 0, 0.15);\n",
              "      filter: drop-shadow(0px 1px 2px rgba(0, 0, 0, 0.3));\n",
              "      fill: #FFFFFF;\n",
              "    }\n",
              "  </style>\n",
              "\n",
              "      <script>\n",
              "        const buttonEl =\n",
              "          document.querySelector('#df-af6256df-dbea-4f10-949f-57ed310be99e button.colab-df-convert');\n",
              "        buttonEl.style.display =\n",
              "          google.colab.kernel.accessAllowed ? 'block' : 'none';\n",
              "\n",
              "        async function convertToInteractive(key) {\n",
              "          const element = document.querySelector('#df-af6256df-dbea-4f10-949f-57ed310be99e');\n",
              "          const dataTable =\n",
              "            await google.colab.kernel.invokeFunction('convertToInteractive',\n",
              "                                                     [key], {});\n",
              "          if (!dataTable) return;\n",
              "\n",
              "          const docLinkHtml = 'Like what you see? Visit the ' +\n",
              "            '<a target=\"_blank\" href=https://colab.research.google.com/notebooks/data_table.ipynb>data table notebook</a>'\n",
              "            + ' to learn more about interactive tables.';\n",
              "          element.innerHTML = '';\n",
              "          dataTable['output_type'] = 'display_data';\n",
              "          await google.colab.output.renderOutput(dataTable, element);\n",
              "          const docLink = document.createElement('div');\n",
              "          docLink.innerHTML = docLinkHtml;\n",
              "          element.appendChild(docLink);\n",
              "        }\n",
              "      </script>\n",
              "    </div>\n",
              "  </div>\n",
              "  "
            ]
          },
          "metadata": {},
          "execution_count": 64
        }
      ],
      "source": [
        "events_a = events[events['group'] == 'A'].drop(columns=['ab_test', 'group', 'details'])\n",
        "events_a"
      ]
    },
    {
      "cell_type": "code",
      "execution_count": null,
      "metadata": {
        "id": "fBRnG2SJSLVP",
        "outputId": "a90fa4d8-ca4e-41bf-b718-d0f8eb43860a",
        "colab": {
          "base_uri": "https://localhost:8080/"
        }
      },
      "outputs": [
        {
          "output_type": "execute_result",
          "data": {
            "text/plain": [
              "                user_id            event_dt event_name\n",
              "11     49EA242586C87836 2020-12-07 06:31:24   purchase\n",
              "12     49EA242586C87836 2020-12-09 15:39:47   purchase\n",
              "13     49EA242586C87836 2020-12-11 10:06:37   purchase\n",
              "14     49EA242586C87836 2020-12-12 04:30:41   purchase\n",
              "15     49EA242586C87836 2020-12-16 09:28:37   purchase\n",
              "...                 ...                 ...        ...\n",
              "30586  1E6B9298415AA97A 2020-12-21 18:20:12      login\n",
              "30587  1E6B9298415AA97A 2020-12-22 03:22:34      login\n",
              "30588  1E6B9298415AA97A 2020-12-23 11:34:53      login\n",
              "30589  1E6B9298415AA97A 2020-12-24 18:45:58      login\n",
              "30590  1E6B9298415AA97A 2020-12-25 16:40:01      login\n",
              "\n",
              "[8250 rows x 3 columns]"
            ],
            "text/html": [
              "\n",
              "  <div id=\"df-bf92e0b5-17dd-44ca-bc9e-2016f8c990a4\">\n",
              "    <div class=\"colab-df-container\">\n",
              "      <div>\n",
              "<style scoped>\n",
              "    .dataframe tbody tr th:only-of-type {\n",
              "        vertical-align: middle;\n",
              "    }\n",
              "\n",
              "    .dataframe tbody tr th {\n",
              "        vertical-align: top;\n",
              "    }\n",
              "\n",
              "    .dataframe thead th {\n",
              "        text-align: right;\n",
              "    }\n",
              "</style>\n",
              "<table border=\"1\" class=\"dataframe\">\n",
              "  <thead>\n",
              "    <tr style=\"text-align: right;\">\n",
              "      <th></th>\n",
              "      <th>user_id</th>\n",
              "      <th>event_dt</th>\n",
              "      <th>event_name</th>\n",
              "    </tr>\n",
              "  </thead>\n",
              "  <tbody>\n",
              "    <tr>\n",
              "      <th>11</th>\n",
              "      <td>49EA242586C87836</td>\n",
              "      <td>2020-12-07 06:31:24</td>\n",
              "      <td>purchase</td>\n",
              "    </tr>\n",
              "    <tr>\n",
              "      <th>12</th>\n",
              "      <td>49EA242586C87836</td>\n",
              "      <td>2020-12-09 15:39:47</td>\n",
              "      <td>purchase</td>\n",
              "    </tr>\n",
              "    <tr>\n",
              "      <th>13</th>\n",
              "      <td>49EA242586C87836</td>\n",
              "      <td>2020-12-11 10:06:37</td>\n",
              "      <td>purchase</td>\n",
              "    </tr>\n",
              "    <tr>\n",
              "      <th>14</th>\n",
              "      <td>49EA242586C87836</td>\n",
              "      <td>2020-12-12 04:30:41</td>\n",
              "      <td>purchase</td>\n",
              "    </tr>\n",
              "    <tr>\n",
              "      <th>15</th>\n",
              "      <td>49EA242586C87836</td>\n",
              "      <td>2020-12-16 09:28:37</td>\n",
              "      <td>purchase</td>\n",
              "    </tr>\n",
              "    <tr>\n",
              "      <th>...</th>\n",
              "      <td>...</td>\n",
              "      <td>...</td>\n",
              "      <td>...</td>\n",
              "    </tr>\n",
              "    <tr>\n",
              "      <th>30586</th>\n",
              "      <td>1E6B9298415AA97A</td>\n",
              "      <td>2020-12-21 18:20:12</td>\n",
              "      <td>login</td>\n",
              "    </tr>\n",
              "    <tr>\n",
              "      <th>30587</th>\n",
              "      <td>1E6B9298415AA97A</td>\n",
              "      <td>2020-12-22 03:22:34</td>\n",
              "      <td>login</td>\n",
              "    </tr>\n",
              "    <tr>\n",
              "      <th>30588</th>\n",
              "      <td>1E6B9298415AA97A</td>\n",
              "      <td>2020-12-23 11:34:53</td>\n",
              "      <td>login</td>\n",
              "    </tr>\n",
              "    <tr>\n",
              "      <th>30589</th>\n",
              "      <td>1E6B9298415AA97A</td>\n",
              "      <td>2020-12-24 18:45:58</td>\n",
              "      <td>login</td>\n",
              "    </tr>\n",
              "    <tr>\n",
              "      <th>30590</th>\n",
              "      <td>1E6B9298415AA97A</td>\n",
              "      <td>2020-12-25 16:40:01</td>\n",
              "      <td>login</td>\n",
              "    </tr>\n",
              "  </tbody>\n",
              "</table>\n",
              "<p>8250 rows × 3 columns</p>\n",
              "</div>\n",
              "      <button class=\"colab-df-convert\" onclick=\"convertToInteractive('df-bf92e0b5-17dd-44ca-bc9e-2016f8c990a4')\"\n",
              "              title=\"Convert this dataframe to an interactive table.\"\n",
              "              style=\"display:none;\">\n",
              "        \n",
              "  <svg xmlns=\"http://www.w3.org/2000/svg\" height=\"24px\"viewBox=\"0 0 24 24\"\n",
              "       width=\"24px\">\n",
              "    <path d=\"M0 0h24v24H0V0z\" fill=\"none\"/>\n",
              "    <path d=\"M18.56 5.44l.94 2.06.94-2.06 2.06-.94-2.06-.94-.94-2.06-.94 2.06-2.06.94zm-11 1L8.5 8.5l.94-2.06 2.06-.94-2.06-.94L8.5 2.5l-.94 2.06-2.06.94zm10 10l.94 2.06.94-2.06 2.06-.94-2.06-.94-.94-2.06-.94 2.06-2.06.94z\"/><path d=\"M17.41 7.96l-1.37-1.37c-.4-.4-.92-.59-1.43-.59-.52 0-1.04.2-1.43.59L10.3 9.45l-7.72 7.72c-.78.78-.78 2.05 0 2.83L4 21.41c.39.39.9.59 1.41.59.51 0 1.02-.2 1.41-.59l7.78-7.78 2.81-2.81c.8-.78.8-2.07 0-2.86zM5.41 20L4 18.59l7.72-7.72 1.47 1.35L5.41 20z\"/>\n",
              "  </svg>\n",
              "      </button>\n",
              "      \n",
              "  <style>\n",
              "    .colab-df-container {\n",
              "      display:flex;\n",
              "      flex-wrap:wrap;\n",
              "      gap: 12px;\n",
              "    }\n",
              "\n",
              "    .colab-df-convert {\n",
              "      background-color: #E8F0FE;\n",
              "      border: none;\n",
              "      border-radius: 50%;\n",
              "      cursor: pointer;\n",
              "      display: none;\n",
              "      fill: #1967D2;\n",
              "      height: 32px;\n",
              "      padding: 0 0 0 0;\n",
              "      width: 32px;\n",
              "    }\n",
              "\n",
              "    .colab-df-convert:hover {\n",
              "      background-color: #E2EBFA;\n",
              "      box-shadow: 0px 1px 2px rgba(60, 64, 67, 0.3), 0px 1px 3px 1px rgba(60, 64, 67, 0.15);\n",
              "      fill: #174EA6;\n",
              "    }\n",
              "\n",
              "    [theme=dark] .colab-df-convert {\n",
              "      background-color: #3B4455;\n",
              "      fill: #D2E3FC;\n",
              "    }\n",
              "\n",
              "    [theme=dark] .colab-df-convert:hover {\n",
              "      background-color: #434B5C;\n",
              "      box-shadow: 0px 1px 3px 1px rgba(0, 0, 0, 0.15);\n",
              "      filter: drop-shadow(0px 1px 2px rgba(0, 0, 0, 0.3));\n",
              "      fill: #FFFFFF;\n",
              "    }\n",
              "  </style>\n",
              "\n",
              "      <script>\n",
              "        const buttonEl =\n",
              "          document.querySelector('#df-bf92e0b5-17dd-44ca-bc9e-2016f8c990a4 button.colab-df-convert');\n",
              "        buttonEl.style.display =\n",
              "          google.colab.kernel.accessAllowed ? 'block' : 'none';\n",
              "\n",
              "        async function convertToInteractive(key) {\n",
              "          const element = document.querySelector('#df-bf92e0b5-17dd-44ca-bc9e-2016f8c990a4');\n",
              "          const dataTable =\n",
              "            await google.colab.kernel.invokeFunction('convertToInteractive',\n",
              "                                                     [key], {});\n",
              "          if (!dataTable) return;\n",
              "\n",
              "          const docLinkHtml = 'Like what you see? Visit the ' +\n",
              "            '<a target=\"_blank\" href=https://colab.research.google.com/notebooks/data_table.ipynb>data table notebook</a>'\n",
              "            + ' to learn more about interactive tables.';\n",
              "          element.innerHTML = '';\n",
              "          dataTable['output_type'] = 'display_data';\n",
              "          await google.colab.output.renderOutput(dataTable, element);\n",
              "          const docLink = document.createElement('div');\n",
              "          docLink.innerHTML = docLinkHtml;\n",
              "          element.appendChild(docLink);\n",
              "        }\n",
              "      </script>\n",
              "    </div>\n",
              "  </div>\n",
              "  "
            ]
          },
          "metadata": {},
          "execution_count": 65
        }
      ],
      "source": [
        "events_b = events[events['group'] == 'B'].drop(columns=['ab_test', 'group', 'details'])\n",
        "events_b"
      ]
    },
    {
      "cell_type": "markdown",
      "metadata": {
        "id": "PSHCO6zJSLVP"
      },
      "source": [
        "Сравним пользователей из 2х датасетов на предмет пересечения"
      ]
    },
    {
      "cell_type": "code",
      "execution_count": null,
      "metadata": {
        "id": "y4IHcCq_SLVQ",
        "outputId": "463d06f7-204a-4221-b435-4cf4eb10ee9c",
        "colab": {
          "base_uri": "https://localhost:8080/"
        }
      },
      "outputs": [
        {
          "output_type": "execute_result",
          "data": {
            "text/plain": [
              "False"
            ]
          },
          "metadata": {},
          "execution_count": 66
        }
      ],
      "source": [
        "set(events_b['user_id']).isdisjoint(set(events_a['user_id']))"
      ]
    },
    {
      "cell_type": "markdown",
      "metadata": {
        "id": "4YOLC0izSLVQ"
      },
      "source": [
        "К сожалению, пересечение есть, хоть один пользователь да зашел не на свою картинку приложения.\n",
        "\n",
        "Cоставим список пересечения двух списков"
      ]
    },
    {
      "cell_type": "code",
      "execution_count": null,
      "metadata": {
        "id": "n1prcsQ5SLVQ",
        "outputId": "913e6e26-e883-471b-d924-5c798f96663b",
        "colab": {
          "base_uri": "https://localhost:8080/"
        }
      },
      "outputs": [
        {
          "output_type": "execute_result",
          "data": {
            "text/plain": [
              "441"
            ]
          },
          "metadata": {},
          "execution_count": 67
        }
      ],
      "source": [
        "result=list(set(events_b['user_id'].unique()) & set(events_a['user_id'].unique()))\n",
        "len (result)"
      ]
    },
    {
      "cell_type": "code",
      "execution_count": null,
      "metadata": {
        "id": "CbK_tMXqSLVQ"
      },
      "outputs": [],
      "source": [
        "# Исключаем \"пересекантов\" из одного списка\n",
        "events_a = events_a[~events_a.user_id.isin(result)]"
      ]
    },
    {
      "cell_type": "code",
      "execution_count": null,
      "metadata": {
        "id": "5CGoaQ7zSLVR"
      },
      "outputs": [],
      "source": [
        "# И из другого\n",
        "events_b = events_b[~events_b.user_id.isin(result)]"
      ]
    },
    {
      "cell_type": "code",
      "execution_count": null,
      "metadata": {
        "id": "Tjkr-W2dSLVR",
        "outputId": "dc85646b-30fc-4a47-daf7-80ab8330ea72",
        "colab": {
          "base_uri": "https://localhost:8080/"
        }
      },
      "outputs": [
        {
          "output_type": "execute_result",
          "data": {
            "text/plain": [
              "2422"
            ]
          },
          "metadata": {},
          "execution_count": 70
        }
      ],
      "source": [
        "events_a.user_id.nunique()"
      ]
    },
    {
      "cell_type": "code",
      "execution_count": null,
      "metadata": {
        "id": "9MtX6H3HSLVR",
        "outputId": "09f60e0f-6df2-468d-936c-b732ae6be17f",
        "colab": {
          "base_uri": "https://localhost:8080/"
        }
      },
      "outputs": [
        {
          "output_type": "execute_result",
          "data": {
            "text/plain": [
              "812"
            ]
          },
          "metadata": {},
          "execution_count": 71
        }
      ],
      "source": [
        "events_b.user_id.nunique()"
      ]
    },
    {
      "cell_type": "markdown",
      "metadata": {
        "id": "kRkGpTDWSLVS"
      },
      "source": [
        "Еще раз скорректировали количество пользователей участвующих в эксперименте. Осталось - сколько осталось!"
      ]
    },
    {
      "cell_type": "markdown",
      "metadata": {
        "id": "xwwVkHsDSLVS"
      },
      "source": [
        "###  Распределение в выборках количества событий\n",
        "\n",
        "Рассотрим распределение событий в каждой группе, чтобы понимать, насколько события равноменно распределились по группам."
      ]
    },
    {
      "cell_type": "markdown",
      "metadata": {
        "id": "cWEE_9BUSLVS"
      },
      "source": [
        "Между группами даже по количеству события распределены неравномерно. Предполагаю, что это связано с ограничением - \"15% из региона EU\".\n",
        "\n",
        "Посмотрим на графиках:"
      ]
    },
    {
      "cell_type": "code",
      "execution_count": null,
      "metadata": {
        "id": "YFuvcaPfSLVS",
        "outputId": "d1a2d400-810d-44f4-b308-be6424df9d2f",
        "colab": {
          "base_uri": "https://localhost:8080/"
        }
      },
      "outputs": [
        {
          "output_type": "execute_result",
          "data": {
            "text/plain": [
              "                user_id            event_dt event_name\n",
              "11     49EA242586C87836 2020-12-07 06:31:24   purchase\n",
              "12     49EA242586C87836 2020-12-09 15:39:47   purchase\n",
              "13     49EA242586C87836 2020-12-11 10:06:37   purchase\n",
              "14     49EA242586C87836 2020-12-12 04:30:41   purchase\n",
              "15     49EA242586C87836 2020-12-16 09:28:37   purchase\n",
              "...                 ...                 ...        ...\n",
              "30586  1E6B9298415AA97A 2020-12-21 18:20:12      login\n",
              "30587  1E6B9298415AA97A 2020-12-22 03:22:34      login\n",
              "30588  1E6B9298415AA97A 2020-12-23 11:34:53      login\n",
              "30589  1E6B9298415AA97A 2020-12-24 18:45:58      login\n",
              "30590  1E6B9298415AA97A 2020-12-25 16:40:01      login\n",
              "\n",
              "[5469 rows x 3 columns]"
            ],
            "text/html": [
              "\n",
              "  <div id=\"df-4f6325cf-60b2-4099-a42b-27ed74977b20\">\n",
              "    <div class=\"colab-df-container\">\n",
              "      <div>\n",
              "<style scoped>\n",
              "    .dataframe tbody tr th:only-of-type {\n",
              "        vertical-align: middle;\n",
              "    }\n",
              "\n",
              "    .dataframe tbody tr th {\n",
              "        vertical-align: top;\n",
              "    }\n",
              "\n",
              "    .dataframe thead th {\n",
              "        text-align: right;\n",
              "    }\n",
              "</style>\n",
              "<table border=\"1\" class=\"dataframe\">\n",
              "  <thead>\n",
              "    <tr style=\"text-align: right;\">\n",
              "      <th></th>\n",
              "      <th>user_id</th>\n",
              "      <th>event_dt</th>\n",
              "      <th>event_name</th>\n",
              "    </tr>\n",
              "  </thead>\n",
              "  <tbody>\n",
              "    <tr>\n",
              "      <th>11</th>\n",
              "      <td>49EA242586C87836</td>\n",
              "      <td>2020-12-07 06:31:24</td>\n",
              "      <td>purchase</td>\n",
              "    </tr>\n",
              "    <tr>\n",
              "      <th>12</th>\n",
              "      <td>49EA242586C87836</td>\n",
              "      <td>2020-12-09 15:39:47</td>\n",
              "      <td>purchase</td>\n",
              "    </tr>\n",
              "    <tr>\n",
              "      <th>13</th>\n",
              "      <td>49EA242586C87836</td>\n",
              "      <td>2020-12-11 10:06:37</td>\n",
              "      <td>purchase</td>\n",
              "    </tr>\n",
              "    <tr>\n",
              "      <th>14</th>\n",
              "      <td>49EA242586C87836</td>\n",
              "      <td>2020-12-12 04:30:41</td>\n",
              "      <td>purchase</td>\n",
              "    </tr>\n",
              "    <tr>\n",
              "      <th>15</th>\n",
              "      <td>49EA242586C87836</td>\n",
              "      <td>2020-12-16 09:28:37</td>\n",
              "      <td>purchase</td>\n",
              "    </tr>\n",
              "    <tr>\n",
              "      <th>...</th>\n",
              "      <td>...</td>\n",
              "      <td>...</td>\n",
              "      <td>...</td>\n",
              "    </tr>\n",
              "    <tr>\n",
              "      <th>30586</th>\n",
              "      <td>1E6B9298415AA97A</td>\n",
              "      <td>2020-12-21 18:20:12</td>\n",
              "      <td>login</td>\n",
              "    </tr>\n",
              "    <tr>\n",
              "      <th>30587</th>\n",
              "      <td>1E6B9298415AA97A</td>\n",
              "      <td>2020-12-22 03:22:34</td>\n",
              "      <td>login</td>\n",
              "    </tr>\n",
              "    <tr>\n",
              "      <th>30588</th>\n",
              "      <td>1E6B9298415AA97A</td>\n",
              "      <td>2020-12-23 11:34:53</td>\n",
              "      <td>login</td>\n",
              "    </tr>\n",
              "    <tr>\n",
              "      <th>30589</th>\n",
              "      <td>1E6B9298415AA97A</td>\n",
              "      <td>2020-12-24 18:45:58</td>\n",
              "      <td>login</td>\n",
              "    </tr>\n",
              "    <tr>\n",
              "      <th>30590</th>\n",
              "      <td>1E6B9298415AA97A</td>\n",
              "      <td>2020-12-25 16:40:01</td>\n",
              "      <td>login</td>\n",
              "    </tr>\n",
              "  </tbody>\n",
              "</table>\n",
              "<p>5469 rows × 3 columns</p>\n",
              "</div>\n",
              "      <button class=\"colab-df-convert\" onclick=\"convertToInteractive('df-4f6325cf-60b2-4099-a42b-27ed74977b20')\"\n",
              "              title=\"Convert this dataframe to an interactive table.\"\n",
              "              style=\"display:none;\">\n",
              "        \n",
              "  <svg xmlns=\"http://www.w3.org/2000/svg\" height=\"24px\"viewBox=\"0 0 24 24\"\n",
              "       width=\"24px\">\n",
              "    <path d=\"M0 0h24v24H0V0z\" fill=\"none\"/>\n",
              "    <path d=\"M18.56 5.44l.94 2.06.94-2.06 2.06-.94-2.06-.94-.94-2.06-.94 2.06-2.06.94zm-11 1L8.5 8.5l.94-2.06 2.06-.94-2.06-.94L8.5 2.5l-.94 2.06-2.06.94zm10 10l.94 2.06.94-2.06 2.06-.94-2.06-.94-.94-2.06-.94 2.06-2.06.94z\"/><path d=\"M17.41 7.96l-1.37-1.37c-.4-.4-.92-.59-1.43-.59-.52 0-1.04.2-1.43.59L10.3 9.45l-7.72 7.72c-.78.78-.78 2.05 0 2.83L4 21.41c.39.39.9.59 1.41.59.51 0 1.02-.2 1.41-.59l7.78-7.78 2.81-2.81c.8-.78.8-2.07 0-2.86zM5.41 20L4 18.59l7.72-7.72 1.47 1.35L5.41 20z\"/>\n",
              "  </svg>\n",
              "      </button>\n",
              "      \n",
              "  <style>\n",
              "    .colab-df-container {\n",
              "      display:flex;\n",
              "      flex-wrap:wrap;\n",
              "      gap: 12px;\n",
              "    }\n",
              "\n",
              "    .colab-df-convert {\n",
              "      background-color: #E8F0FE;\n",
              "      border: none;\n",
              "      border-radius: 50%;\n",
              "      cursor: pointer;\n",
              "      display: none;\n",
              "      fill: #1967D2;\n",
              "      height: 32px;\n",
              "      padding: 0 0 0 0;\n",
              "      width: 32px;\n",
              "    }\n",
              "\n",
              "    .colab-df-convert:hover {\n",
              "      background-color: #E2EBFA;\n",
              "      box-shadow: 0px 1px 2px rgba(60, 64, 67, 0.3), 0px 1px 3px 1px rgba(60, 64, 67, 0.15);\n",
              "      fill: #174EA6;\n",
              "    }\n",
              "\n",
              "    [theme=dark] .colab-df-convert {\n",
              "      background-color: #3B4455;\n",
              "      fill: #D2E3FC;\n",
              "    }\n",
              "\n",
              "    [theme=dark] .colab-df-convert:hover {\n",
              "      background-color: #434B5C;\n",
              "      box-shadow: 0px 1px 3px 1px rgba(0, 0, 0, 0.15);\n",
              "      filter: drop-shadow(0px 1px 2px rgba(0, 0, 0, 0.3));\n",
              "      fill: #FFFFFF;\n",
              "    }\n",
              "  </style>\n",
              "\n",
              "      <script>\n",
              "        const buttonEl =\n",
              "          document.querySelector('#df-4f6325cf-60b2-4099-a42b-27ed74977b20 button.colab-df-convert');\n",
              "        buttonEl.style.display =\n",
              "          google.colab.kernel.accessAllowed ? 'block' : 'none';\n",
              "\n",
              "        async function convertToInteractive(key) {\n",
              "          const element = document.querySelector('#df-4f6325cf-60b2-4099-a42b-27ed74977b20');\n",
              "          const dataTable =\n",
              "            await google.colab.kernel.invokeFunction('convertToInteractive',\n",
              "                                                     [key], {});\n",
              "          if (!dataTable) return;\n",
              "\n",
              "          const docLinkHtml = 'Like what you see? Visit the ' +\n",
              "            '<a target=\"_blank\" href=https://colab.research.google.com/notebooks/data_table.ipynb>data table notebook</a>'\n",
              "            + ' to learn more about interactive tables.';\n",
              "          element.innerHTML = '';\n",
              "          dataTable['output_type'] = 'display_data';\n",
              "          await google.colab.output.renderOutput(dataTable, element);\n",
              "          const docLink = document.createElement('div');\n",
              "          docLink.innerHTML = docLinkHtml;\n",
              "          element.appendChild(docLink);\n",
              "        }\n",
              "      </script>\n",
              "    </div>\n",
              "  </div>\n",
              "  "
            ]
          },
          "metadata": {},
          "execution_count": 72
        }
      ],
      "source": [
        "events_b"
      ]
    },
    {
      "cell_type": "code",
      "execution_count": null,
      "metadata": {
        "id": "b0HQYc_hSLVT",
        "outputId": "11b279aa-5bf7-458f-a794-26814078e6c9",
        "colab": {
          "base_uri": "https://localhost:8080/"
        }
      },
      "outputs": [
        {
          "output_type": "execute_result",
          "data": {
            "text/plain": [
              "                user_id            event_dt event_name event_dt_day\n",
              "11     49EA242586C87836 2020-12-07 06:31:24   purchase   2020-12-07\n",
              "12     49EA242586C87836 2020-12-09 15:39:47   purchase   2020-12-09\n",
              "13     49EA242586C87836 2020-12-11 10:06:37   purchase   2020-12-11\n",
              "14     49EA242586C87836 2020-12-12 04:30:41   purchase   2020-12-12\n",
              "15     49EA242586C87836 2020-12-16 09:28:37   purchase   2020-12-16\n",
              "...                 ...                 ...        ...          ...\n",
              "30586  1E6B9298415AA97A 2020-12-21 18:20:12      login   2020-12-21\n",
              "30587  1E6B9298415AA97A 2020-12-22 03:22:34      login   2020-12-22\n",
              "30588  1E6B9298415AA97A 2020-12-23 11:34:53      login   2020-12-23\n",
              "30589  1E6B9298415AA97A 2020-12-24 18:45:58      login   2020-12-24\n",
              "30590  1E6B9298415AA97A 2020-12-25 16:40:01      login   2020-12-25\n",
              "\n",
              "[5469 rows x 4 columns]"
            ],
            "text/html": [
              "\n",
              "  <div id=\"df-bd65ad05-b5b9-47b9-b06e-628dd6f73fed\">\n",
              "    <div class=\"colab-df-container\">\n",
              "      <div>\n",
              "<style scoped>\n",
              "    .dataframe tbody tr th:only-of-type {\n",
              "        vertical-align: middle;\n",
              "    }\n",
              "\n",
              "    .dataframe tbody tr th {\n",
              "        vertical-align: top;\n",
              "    }\n",
              "\n",
              "    .dataframe thead th {\n",
              "        text-align: right;\n",
              "    }\n",
              "</style>\n",
              "<table border=\"1\" class=\"dataframe\">\n",
              "  <thead>\n",
              "    <tr style=\"text-align: right;\">\n",
              "      <th></th>\n",
              "      <th>user_id</th>\n",
              "      <th>event_dt</th>\n",
              "      <th>event_name</th>\n",
              "      <th>event_dt_day</th>\n",
              "    </tr>\n",
              "  </thead>\n",
              "  <tbody>\n",
              "    <tr>\n",
              "      <th>11</th>\n",
              "      <td>49EA242586C87836</td>\n",
              "      <td>2020-12-07 06:31:24</td>\n",
              "      <td>purchase</td>\n",
              "      <td>2020-12-07</td>\n",
              "    </tr>\n",
              "    <tr>\n",
              "      <th>12</th>\n",
              "      <td>49EA242586C87836</td>\n",
              "      <td>2020-12-09 15:39:47</td>\n",
              "      <td>purchase</td>\n",
              "      <td>2020-12-09</td>\n",
              "    </tr>\n",
              "    <tr>\n",
              "      <th>13</th>\n",
              "      <td>49EA242586C87836</td>\n",
              "      <td>2020-12-11 10:06:37</td>\n",
              "      <td>purchase</td>\n",
              "      <td>2020-12-11</td>\n",
              "    </tr>\n",
              "    <tr>\n",
              "      <th>14</th>\n",
              "      <td>49EA242586C87836</td>\n",
              "      <td>2020-12-12 04:30:41</td>\n",
              "      <td>purchase</td>\n",
              "      <td>2020-12-12</td>\n",
              "    </tr>\n",
              "    <tr>\n",
              "      <th>15</th>\n",
              "      <td>49EA242586C87836</td>\n",
              "      <td>2020-12-16 09:28:37</td>\n",
              "      <td>purchase</td>\n",
              "      <td>2020-12-16</td>\n",
              "    </tr>\n",
              "    <tr>\n",
              "      <th>...</th>\n",
              "      <td>...</td>\n",
              "      <td>...</td>\n",
              "      <td>...</td>\n",
              "      <td>...</td>\n",
              "    </tr>\n",
              "    <tr>\n",
              "      <th>30586</th>\n",
              "      <td>1E6B9298415AA97A</td>\n",
              "      <td>2020-12-21 18:20:12</td>\n",
              "      <td>login</td>\n",
              "      <td>2020-12-21</td>\n",
              "    </tr>\n",
              "    <tr>\n",
              "      <th>30587</th>\n",
              "      <td>1E6B9298415AA97A</td>\n",
              "      <td>2020-12-22 03:22:34</td>\n",
              "      <td>login</td>\n",
              "      <td>2020-12-22</td>\n",
              "    </tr>\n",
              "    <tr>\n",
              "      <th>30588</th>\n",
              "      <td>1E6B9298415AA97A</td>\n",
              "      <td>2020-12-23 11:34:53</td>\n",
              "      <td>login</td>\n",
              "      <td>2020-12-23</td>\n",
              "    </tr>\n",
              "    <tr>\n",
              "      <th>30589</th>\n",
              "      <td>1E6B9298415AA97A</td>\n",
              "      <td>2020-12-24 18:45:58</td>\n",
              "      <td>login</td>\n",
              "      <td>2020-12-24</td>\n",
              "    </tr>\n",
              "    <tr>\n",
              "      <th>30590</th>\n",
              "      <td>1E6B9298415AA97A</td>\n",
              "      <td>2020-12-25 16:40:01</td>\n",
              "      <td>login</td>\n",
              "      <td>2020-12-25</td>\n",
              "    </tr>\n",
              "  </tbody>\n",
              "</table>\n",
              "<p>5469 rows × 4 columns</p>\n",
              "</div>\n",
              "      <button class=\"colab-df-convert\" onclick=\"convertToInteractive('df-bd65ad05-b5b9-47b9-b06e-628dd6f73fed')\"\n",
              "              title=\"Convert this dataframe to an interactive table.\"\n",
              "              style=\"display:none;\">\n",
              "        \n",
              "  <svg xmlns=\"http://www.w3.org/2000/svg\" height=\"24px\"viewBox=\"0 0 24 24\"\n",
              "       width=\"24px\">\n",
              "    <path d=\"M0 0h24v24H0V0z\" fill=\"none\"/>\n",
              "    <path d=\"M18.56 5.44l.94 2.06.94-2.06 2.06-.94-2.06-.94-.94-2.06-.94 2.06-2.06.94zm-11 1L8.5 8.5l.94-2.06 2.06-.94-2.06-.94L8.5 2.5l-.94 2.06-2.06.94zm10 10l.94 2.06.94-2.06 2.06-.94-2.06-.94-.94-2.06-.94 2.06-2.06.94z\"/><path d=\"M17.41 7.96l-1.37-1.37c-.4-.4-.92-.59-1.43-.59-.52 0-1.04.2-1.43.59L10.3 9.45l-7.72 7.72c-.78.78-.78 2.05 0 2.83L4 21.41c.39.39.9.59 1.41.59.51 0 1.02-.2 1.41-.59l7.78-7.78 2.81-2.81c.8-.78.8-2.07 0-2.86zM5.41 20L4 18.59l7.72-7.72 1.47 1.35L5.41 20z\"/>\n",
              "  </svg>\n",
              "      </button>\n",
              "      \n",
              "  <style>\n",
              "    .colab-df-container {\n",
              "      display:flex;\n",
              "      flex-wrap:wrap;\n",
              "      gap: 12px;\n",
              "    }\n",
              "\n",
              "    .colab-df-convert {\n",
              "      background-color: #E8F0FE;\n",
              "      border: none;\n",
              "      border-radius: 50%;\n",
              "      cursor: pointer;\n",
              "      display: none;\n",
              "      fill: #1967D2;\n",
              "      height: 32px;\n",
              "      padding: 0 0 0 0;\n",
              "      width: 32px;\n",
              "    }\n",
              "\n",
              "    .colab-df-convert:hover {\n",
              "      background-color: #E2EBFA;\n",
              "      box-shadow: 0px 1px 2px rgba(60, 64, 67, 0.3), 0px 1px 3px 1px rgba(60, 64, 67, 0.15);\n",
              "      fill: #174EA6;\n",
              "    }\n",
              "\n",
              "    [theme=dark] .colab-df-convert {\n",
              "      background-color: #3B4455;\n",
              "      fill: #D2E3FC;\n",
              "    }\n",
              "\n",
              "    [theme=dark] .colab-df-convert:hover {\n",
              "      background-color: #434B5C;\n",
              "      box-shadow: 0px 1px 3px 1px rgba(0, 0, 0, 0.15);\n",
              "      filter: drop-shadow(0px 1px 2px rgba(0, 0, 0, 0.3));\n",
              "      fill: #FFFFFF;\n",
              "    }\n",
              "  </style>\n",
              "\n",
              "      <script>\n",
              "        const buttonEl =\n",
              "          document.querySelector('#df-bd65ad05-b5b9-47b9-b06e-628dd6f73fed button.colab-df-convert');\n",
              "        buttonEl.style.display =\n",
              "          google.colab.kernel.accessAllowed ? 'block' : 'none';\n",
              "\n",
              "        async function convertToInteractive(key) {\n",
              "          const element = document.querySelector('#df-bd65ad05-b5b9-47b9-b06e-628dd6f73fed');\n",
              "          const dataTable =\n",
              "            await google.colab.kernel.invokeFunction('convertToInteractive',\n",
              "                                                     [key], {});\n",
              "          if (!dataTable) return;\n",
              "\n",
              "          const docLinkHtml = 'Like what you see? Visit the ' +\n",
              "            '<a target=\"_blank\" href=https://colab.research.google.com/notebooks/data_table.ipynb>data table notebook</a>'\n",
              "            + ' to learn more about interactive tables.';\n",
              "          element.innerHTML = '';\n",
              "          dataTable['output_type'] = 'display_data';\n",
              "          await google.colab.output.renderOutput(dataTable, element);\n",
              "          const docLink = document.createElement('div');\n",
              "          docLink.innerHTML = docLinkHtml;\n",
              "          element.appendChild(docLink);\n",
              "        }\n",
              "      </script>\n",
              "    </div>\n",
              "  </div>\n",
              "  "
            ]
          },
          "metadata": {},
          "execution_count": 73
        }
      ],
      "source": [
        "# создадим временную таблицу\n",
        "t= events_b.copy()\n",
        "# доп. столбец для дальнейшей сорировки\n",
        "t['event_dt_day'] = t.event_dt.dt.date\n",
        "t"
      ]
    },
    {
      "cell_type": "code",
      "execution_count": null,
      "metadata": {
        "id": "lnQtrvxGSLVT",
        "outputId": "d779f1a1-083e-43d1-b618-00a7d455af15",
        "colab": {
          "base_uri": "https://localhost:8080/"
        }
      },
      "outputs": [
        {
          "output_type": "execute_result",
          "data": {
            "text/plain": [
              "   event_dt_day  user_id\n",
              "0    2020-12-07      150\n",
              "1    2020-12-08      103\n",
              "2    2020-12-09      151\n",
              "3    2020-12-10      111\n",
              "4    2020-12-11       76\n",
              "5    2020-12-12       94\n",
              "6    2020-12-13       77\n",
              "7    2020-12-14      115\n",
              "8    2020-12-15      105\n",
              "9    2020-12-16      150\n",
              "10   2020-12-17      116\n",
              "11   2020-12-18      121\n",
              "12   2020-12-19      137\n",
              "13   2020-12-20      143\n",
              "14   2020-12-21      179\n",
              "15   2020-12-22       85\n",
              "16   2020-12-23       91\n",
              "17   2020-12-24       65\n",
              "18   2020-12-25       50\n",
              "19   2020-12-26       54\n",
              "20   2020-12-27       54\n",
              "21   2020-12-28       46\n",
              "22   2020-12-29       35\n",
              "23   2020-12-30        1"
            ],
            "text/html": [
              "\n",
              "  <div id=\"df-b46a295f-b446-48f2-977f-3ddc640cc7d2\">\n",
              "    <div class=\"colab-df-container\">\n",
              "      <div>\n",
              "<style scoped>\n",
              "    .dataframe tbody tr th:only-of-type {\n",
              "        vertical-align: middle;\n",
              "    }\n",
              "\n",
              "    .dataframe tbody tr th {\n",
              "        vertical-align: top;\n",
              "    }\n",
              "\n",
              "    .dataframe thead th {\n",
              "        text-align: right;\n",
              "    }\n",
              "</style>\n",
              "<table border=\"1\" class=\"dataframe\">\n",
              "  <thead>\n",
              "    <tr style=\"text-align: right;\">\n",
              "      <th></th>\n",
              "      <th>event_dt_day</th>\n",
              "      <th>user_id</th>\n",
              "    </tr>\n",
              "  </thead>\n",
              "  <tbody>\n",
              "    <tr>\n",
              "      <th>0</th>\n",
              "      <td>2020-12-07</td>\n",
              "      <td>150</td>\n",
              "    </tr>\n",
              "    <tr>\n",
              "      <th>1</th>\n",
              "      <td>2020-12-08</td>\n",
              "      <td>103</td>\n",
              "    </tr>\n",
              "    <tr>\n",
              "      <th>2</th>\n",
              "      <td>2020-12-09</td>\n",
              "      <td>151</td>\n",
              "    </tr>\n",
              "    <tr>\n",
              "      <th>3</th>\n",
              "      <td>2020-12-10</td>\n",
              "      <td>111</td>\n",
              "    </tr>\n",
              "    <tr>\n",
              "      <th>4</th>\n",
              "      <td>2020-12-11</td>\n",
              "      <td>76</td>\n",
              "    </tr>\n",
              "    <tr>\n",
              "      <th>5</th>\n",
              "      <td>2020-12-12</td>\n",
              "      <td>94</td>\n",
              "    </tr>\n",
              "    <tr>\n",
              "      <th>6</th>\n",
              "      <td>2020-12-13</td>\n",
              "      <td>77</td>\n",
              "    </tr>\n",
              "    <tr>\n",
              "      <th>7</th>\n",
              "      <td>2020-12-14</td>\n",
              "      <td>115</td>\n",
              "    </tr>\n",
              "    <tr>\n",
              "      <th>8</th>\n",
              "      <td>2020-12-15</td>\n",
              "      <td>105</td>\n",
              "    </tr>\n",
              "    <tr>\n",
              "      <th>9</th>\n",
              "      <td>2020-12-16</td>\n",
              "      <td>150</td>\n",
              "    </tr>\n",
              "    <tr>\n",
              "      <th>10</th>\n",
              "      <td>2020-12-17</td>\n",
              "      <td>116</td>\n",
              "    </tr>\n",
              "    <tr>\n",
              "      <th>11</th>\n",
              "      <td>2020-12-18</td>\n",
              "      <td>121</td>\n",
              "    </tr>\n",
              "    <tr>\n",
              "      <th>12</th>\n",
              "      <td>2020-12-19</td>\n",
              "      <td>137</td>\n",
              "    </tr>\n",
              "    <tr>\n",
              "      <th>13</th>\n",
              "      <td>2020-12-20</td>\n",
              "      <td>143</td>\n",
              "    </tr>\n",
              "    <tr>\n",
              "      <th>14</th>\n",
              "      <td>2020-12-21</td>\n",
              "      <td>179</td>\n",
              "    </tr>\n",
              "    <tr>\n",
              "      <th>15</th>\n",
              "      <td>2020-12-22</td>\n",
              "      <td>85</td>\n",
              "    </tr>\n",
              "    <tr>\n",
              "      <th>16</th>\n",
              "      <td>2020-12-23</td>\n",
              "      <td>91</td>\n",
              "    </tr>\n",
              "    <tr>\n",
              "      <th>17</th>\n",
              "      <td>2020-12-24</td>\n",
              "      <td>65</td>\n",
              "    </tr>\n",
              "    <tr>\n",
              "      <th>18</th>\n",
              "      <td>2020-12-25</td>\n",
              "      <td>50</td>\n",
              "    </tr>\n",
              "    <tr>\n",
              "      <th>19</th>\n",
              "      <td>2020-12-26</td>\n",
              "      <td>54</td>\n",
              "    </tr>\n",
              "    <tr>\n",
              "      <th>20</th>\n",
              "      <td>2020-12-27</td>\n",
              "      <td>54</td>\n",
              "    </tr>\n",
              "    <tr>\n",
              "      <th>21</th>\n",
              "      <td>2020-12-28</td>\n",
              "      <td>46</td>\n",
              "    </tr>\n",
              "    <tr>\n",
              "      <th>22</th>\n",
              "      <td>2020-12-29</td>\n",
              "      <td>35</td>\n",
              "    </tr>\n",
              "    <tr>\n",
              "      <th>23</th>\n",
              "      <td>2020-12-30</td>\n",
              "      <td>1</td>\n",
              "    </tr>\n",
              "  </tbody>\n",
              "</table>\n",
              "</div>\n",
              "      <button class=\"colab-df-convert\" onclick=\"convertToInteractive('df-b46a295f-b446-48f2-977f-3ddc640cc7d2')\"\n",
              "              title=\"Convert this dataframe to an interactive table.\"\n",
              "              style=\"display:none;\">\n",
              "        \n",
              "  <svg xmlns=\"http://www.w3.org/2000/svg\" height=\"24px\"viewBox=\"0 0 24 24\"\n",
              "       width=\"24px\">\n",
              "    <path d=\"M0 0h24v24H0V0z\" fill=\"none\"/>\n",
              "    <path d=\"M18.56 5.44l.94 2.06.94-2.06 2.06-.94-2.06-.94-.94-2.06-.94 2.06-2.06.94zm-11 1L8.5 8.5l.94-2.06 2.06-.94-2.06-.94L8.5 2.5l-.94 2.06-2.06.94zm10 10l.94 2.06.94-2.06 2.06-.94-2.06-.94-.94-2.06-.94 2.06-2.06.94z\"/><path d=\"M17.41 7.96l-1.37-1.37c-.4-.4-.92-.59-1.43-.59-.52 0-1.04.2-1.43.59L10.3 9.45l-7.72 7.72c-.78.78-.78 2.05 0 2.83L4 21.41c.39.39.9.59 1.41.59.51 0 1.02-.2 1.41-.59l7.78-7.78 2.81-2.81c.8-.78.8-2.07 0-2.86zM5.41 20L4 18.59l7.72-7.72 1.47 1.35L5.41 20z\"/>\n",
              "  </svg>\n",
              "      </button>\n",
              "      \n",
              "  <style>\n",
              "    .colab-df-container {\n",
              "      display:flex;\n",
              "      flex-wrap:wrap;\n",
              "      gap: 12px;\n",
              "    }\n",
              "\n",
              "    .colab-df-convert {\n",
              "      background-color: #E8F0FE;\n",
              "      border: none;\n",
              "      border-radius: 50%;\n",
              "      cursor: pointer;\n",
              "      display: none;\n",
              "      fill: #1967D2;\n",
              "      height: 32px;\n",
              "      padding: 0 0 0 0;\n",
              "      width: 32px;\n",
              "    }\n",
              "\n",
              "    .colab-df-convert:hover {\n",
              "      background-color: #E2EBFA;\n",
              "      box-shadow: 0px 1px 2px rgba(60, 64, 67, 0.3), 0px 1px 3px 1px rgba(60, 64, 67, 0.15);\n",
              "      fill: #174EA6;\n",
              "    }\n",
              "\n",
              "    [theme=dark] .colab-df-convert {\n",
              "      background-color: #3B4455;\n",
              "      fill: #D2E3FC;\n",
              "    }\n",
              "\n",
              "    [theme=dark] .colab-df-convert:hover {\n",
              "      background-color: #434B5C;\n",
              "      box-shadow: 0px 1px 3px 1px rgba(0, 0, 0, 0.15);\n",
              "      filter: drop-shadow(0px 1px 2px rgba(0, 0, 0, 0.3));\n",
              "      fill: #FFFFFF;\n",
              "    }\n",
              "  </style>\n",
              "\n",
              "      <script>\n",
              "        const buttonEl =\n",
              "          document.querySelector('#df-b46a295f-b446-48f2-977f-3ddc640cc7d2 button.colab-df-convert');\n",
              "        buttonEl.style.display =\n",
              "          google.colab.kernel.accessAllowed ? 'block' : 'none';\n",
              "\n",
              "        async function convertToInteractive(key) {\n",
              "          const element = document.querySelector('#df-b46a295f-b446-48f2-977f-3ddc640cc7d2');\n",
              "          const dataTable =\n",
              "            await google.colab.kernel.invokeFunction('convertToInteractive',\n",
              "                                                     [key], {});\n",
              "          if (!dataTable) return;\n",
              "\n",
              "          const docLinkHtml = 'Like what you see? Visit the ' +\n",
              "            '<a target=\"_blank\" href=https://colab.research.google.com/notebooks/data_table.ipynb>data table notebook</a>'\n",
              "            + ' to learn more about interactive tables.';\n",
              "          element.innerHTML = '';\n",
              "          dataTable['output_type'] = 'display_data';\n",
              "          await google.colab.output.renderOutput(dataTable, element);\n",
              "          const docLink = document.createElement('div');\n",
              "          docLink.innerHTML = docLinkHtml;\n",
              "          element.appendChild(docLink);\n",
              "        }\n",
              "      </script>\n",
              "    </div>\n",
              "  </div>\n",
              "  "
            ]
          },
          "metadata": {},
          "execution_count": 74
        }
      ],
      "source": [
        "# Группируем, сортируем\n",
        "t = t.groupby(by='event_dt_day', as_index=False)['user_id'].agg('nunique') #.sort_values(by='user_id', ascending=False)\n",
        "t"
      ]
    },
    {
      "cell_type": "code",
      "execution_count": null,
      "metadata": {
        "id": "F77jZFgoSLVT",
        "outputId": "4a86295a-4b6c-4c89-97d3-d55d06b6361d",
        "colab": {
          "base_uri": "https://localhost:8080/"
        }
      },
      "outputs": [
        {
          "output_type": "display_data",
          "data": {
            "text/html": [
              "<html>\n",
              "<head><meta charset=\"utf-8\" /></head>\n",
              "<body>\n",
              "    <div>            <script src=\"https://cdnjs.cloudflare.com/ajax/libs/mathjax/2.7.5/MathJax.js?config=TeX-AMS-MML_SVG\"></script><script type=\"text/javascript\">if (window.MathJax && window.MathJax.Hub && window.MathJax.Hub.Config) {window.MathJax.Hub.Config({SVG: {font: \"STIX-Web\"}});}</script>                <script type=\"text/javascript\">window.PlotlyConfig = {MathJaxConfig: 'local'};</script>\n",
              "        <script src=\"https://cdn.plot.ly/plotly-2.18.2.min.js\"></script>                <div id=\"b7924115-3cee-4882-a43f-6beb49667eb1\" class=\"plotly-graph-div\" style=\"height:525px; width:100%;\"></div>            <script type=\"text/javascript\">                                    window.PLOTLYENV=window.PLOTLYENV || {};                                    if (document.getElementById(\"b7924115-3cee-4882-a43f-6beb49667eb1\")) {                    Plotly.newPlot(                        \"b7924115-3cee-4882-a43f-6beb49667eb1\",                        [{\"alignmentgroup\":\"True\",\"hovertemplate\":\"event_dt_day=%{x}<br>user_id=%{y}<extra></extra>\",\"legendgroup\":\"\",\"marker\":{\"color\":\"#636efa\",\"pattern\":{\"shape\":\"\"}},\"name\":\"\",\"offsetgroup\":\"\",\"orientation\":\"v\",\"showlegend\":false,\"textposition\":\"auto\",\"x\":[\"2020-12-07\",\"2020-12-08\",\"2020-12-09\",\"2020-12-10\",\"2020-12-11\",\"2020-12-12\",\"2020-12-13\",\"2020-12-14\",\"2020-12-15\",\"2020-12-16\",\"2020-12-17\",\"2020-12-18\",\"2020-12-19\",\"2020-12-20\",\"2020-12-21\",\"2020-12-22\",\"2020-12-23\",\"2020-12-24\",\"2020-12-25\",\"2020-12-26\",\"2020-12-27\",\"2020-12-28\",\"2020-12-29\",\"2020-12-30\"],\"xaxis\":\"x\",\"y\":[150,103,151,111,76,94,77,115,105,150,116,121,137,143,179,85,91,65,50,54,54,46,35,1],\"yaxis\":\"y\",\"type\":\"bar\"}],                        {\"template\":{\"data\":{\"histogram2dcontour\":[{\"type\":\"histogram2dcontour\",\"colorbar\":{\"outlinewidth\":0,\"ticks\":\"\"},\"colorscale\":[[0.0,\"#0d0887\"],[0.1111111111111111,\"#46039f\"],[0.2222222222222222,\"#7201a8\"],[0.3333333333333333,\"#9c179e\"],[0.4444444444444444,\"#bd3786\"],[0.5555555555555556,\"#d8576b\"],[0.6666666666666666,\"#ed7953\"],[0.7777777777777778,\"#fb9f3a\"],[0.8888888888888888,\"#fdca26\"],[1.0,\"#f0f921\"]]}],\"choropleth\":[{\"type\":\"choropleth\",\"colorbar\":{\"outlinewidth\":0,\"ticks\":\"\"}}],\"histogram2d\":[{\"type\":\"histogram2d\",\"colorbar\":{\"outlinewidth\":0,\"ticks\":\"\"},\"colorscale\":[[0.0,\"#0d0887\"],[0.1111111111111111,\"#46039f\"],[0.2222222222222222,\"#7201a8\"],[0.3333333333333333,\"#9c179e\"],[0.4444444444444444,\"#bd3786\"],[0.5555555555555556,\"#d8576b\"],[0.6666666666666666,\"#ed7953\"],[0.7777777777777778,\"#fb9f3a\"],[0.8888888888888888,\"#fdca26\"],[1.0,\"#f0f921\"]]}],\"heatmap\":[{\"type\":\"heatmap\",\"colorbar\":{\"outlinewidth\":0,\"ticks\":\"\"},\"colorscale\":[[0.0,\"#0d0887\"],[0.1111111111111111,\"#46039f\"],[0.2222222222222222,\"#7201a8\"],[0.3333333333333333,\"#9c179e\"],[0.4444444444444444,\"#bd3786\"],[0.5555555555555556,\"#d8576b\"],[0.6666666666666666,\"#ed7953\"],[0.7777777777777778,\"#fb9f3a\"],[0.8888888888888888,\"#fdca26\"],[1.0,\"#f0f921\"]]}],\"heatmapgl\":[{\"type\":\"heatmapgl\",\"colorbar\":{\"outlinewidth\":0,\"ticks\":\"\"},\"colorscale\":[[0.0,\"#0d0887\"],[0.1111111111111111,\"#46039f\"],[0.2222222222222222,\"#7201a8\"],[0.3333333333333333,\"#9c179e\"],[0.4444444444444444,\"#bd3786\"],[0.5555555555555556,\"#d8576b\"],[0.6666666666666666,\"#ed7953\"],[0.7777777777777778,\"#fb9f3a\"],[0.8888888888888888,\"#fdca26\"],[1.0,\"#f0f921\"]]}],\"contourcarpet\":[{\"type\":\"contourcarpet\",\"colorbar\":{\"outlinewidth\":0,\"ticks\":\"\"}}],\"contour\":[{\"type\":\"contour\",\"colorbar\":{\"outlinewidth\":0,\"ticks\":\"\"},\"colorscale\":[[0.0,\"#0d0887\"],[0.1111111111111111,\"#46039f\"],[0.2222222222222222,\"#7201a8\"],[0.3333333333333333,\"#9c179e\"],[0.4444444444444444,\"#bd3786\"],[0.5555555555555556,\"#d8576b\"],[0.6666666666666666,\"#ed7953\"],[0.7777777777777778,\"#fb9f3a\"],[0.8888888888888888,\"#fdca26\"],[1.0,\"#f0f921\"]]}],\"surface\":[{\"type\":\"surface\",\"colorbar\":{\"outlinewidth\":0,\"ticks\":\"\"},\"colorscale\":[[0.0,\"#0d0887\"],[0.1111111111111111,\"#46039f\"],[0.2222222222222222,\"#7201a8\"],[0.3333333333333333,\"#9c179e\"],[0.4444444444444444,\"#bd3786\"],[0.5555555555555556,\"#d8576b\"],[0.6666666666666666,\"#ed7953\"],[0.7777777777777778,\"#fb9f3a\"],[0.8888888888888888,\"#fdca26\"],[1.0,\"#f0f921\"]]}],\"mesh3d\":[{\"type\":\"mesh3d\",\"colorbar\":{\"outlinewidth\":0,\"ticks\":\"\"}}],\"scatter\":[{\"fillpattern\":{\"fillmode\":\"overlay\",\"size\":10,\"solidity\":0.2},\"type\":\"scatter\"}],\"parcoords\":[{\"type\":\"parcoords\",\"line\":{\"colorbar\":{\"outlinewidth\":0,\"ticks\":\"\"}}}],\"scatterpolargl\":[{\"type\":\"scatterpolargl\",\"marker\":{\"colorbar\":{\"outlinewidth\":0,\"ticks\":\"\"}}}],\"bar\":[{\"error_x\":{\"color\":\"#2a3f5f\"},\"error_y\":{\"color\":\"#2a3f5f\"},\"marker\":{\"line\":{\"color\":\"#E5ECF6\",\"width\":0.5},\"pattern\":{\"fillmode\":\"overlay\",\"size\":10,\"solidity\":0.2}},\"type\":\"bar\"}],\"scattergeo\":[{\"type\":\"scattergeo\",\"marker\":{\"colorbar\":{\"outlinewidth\":0,\"ticks\":\"\"}}}],\"scatterpolar\":[{\"type\":\"scatterpolar\",\"marker\":{\"colorbar\":{\"outlinewidth\":0,\"ticks\":\"\"}}}],\"histogram\":[{\"marker\":{\"pattern\":{\"fillmode\":\"overlay\",\"size\":10,\"solidity\":0.2}},\"type\":\"histogram\"}],\"scattergl\":[{\"type\":\"scattergl\",\"marker\":{\"colorbar\":{\"outlinewidth\":0,\"ticks\":\"\"}}}],\"scatter3d\":[{\"type\":\"scatter3d\",\"line\":{\"colorbar\":{\"outlinewidth\":0,\"ticks\":\"\"}},\"marker\":{\"colorbar\":{\"outlinewidth\":0,\"ticks\":\"\"}}}],\"scattermapbox\":[{\"type\":\"scattermapbox\",\"marker\":{\"colorbar\":{\"outlinewidth\":0,\"ticks\":\"\"}}}],\"scatterternary\":[{\"type\":\"scatterternary\",\"marker\":{\"colorbar\":{\"outlinewidth\":0,\"ticks\":\"\"}}}],\"scattercarpet\":[{\"type\":\"scattercarpet\",\"marker\":{\"colorbar\":{\"outlinewidth\":0,\"ticks\":\"\"}}}],\"carpet\":[{\"aaxis\":{\"endlinecolor\":\"#2a3f5f\",\"gridcolor\":\"white\",\"linecolor\":\"white\",\"minorgridcolor\":\"white\",\"startlinecolor\":\"#2a3f5f\"},\"baxis\":{\"endlinecolor\":\"#2a3f5f\",\"gridcolor\":\"white\",\"linecolor\":\"white\",\"minorgridcolor\":\"white\",\"startlinecolor\":\"#2a3f5f\"},\"type\":\"carpet\"}],\"table\":[{\"cells\":{\"fill\":{\"color\":\"#EBF0F8\"},\"line\":{\"color\":\"white\"}},\"header\":{\"fill\":{\"color\":\"#C8D4E3\"},\"line\":{\"color\":\"white\"}},\"type\":\"table\"}],\"barpolar\":[{\"marker\":{\"line\":{\"color\":\"#E5ECF6\",\"width\":0.5},\"pattern\":{\"fillmode\":\"overlay\",\"size\":10,\"solidity\":0.2}},\"type\":\"barpolar\"}],\"pie\":[{\"automargin\":true,\"type\":\"pie\"}]},\"layout\":{\"autotypenumbers\":\"strict\",\"colorway\":[\"#636efa\",\"#EF553B\",\"#00cc96\",\"#ab63fa\",\"#FFA15A\",\"#19d3f3\",\"#FF6692\",\"#B6E880\",\"#FF97FF\",\"#FECB52\"],\"font\":{\"color\":\"#2a3f5f\"},\"hovermode\":\"closest\",\"hoverlabel\":{\"align\":\"left\"},\"paper_bgcolor\":\"white\",\"plot_bgcolor\":\"#E5ECF6\",\"polar\":{\"bgcolor\":\"#E5ECF6\",\"angularaxis\":{\"gridcolor\":\"white\",\"linecolor\":\"white\",\"ticks\":\"\"},\"radialaxis\":{\"gridcolor\":\"white\",\"linecolor\":\"white\",\"ticks\":\"\"}},\"ternary\":{\"bgcolor\":\"#E5ECF6\",\"aaxis\":{\"gridcolor\":\"white\",\"linecolor\":\"white\",\"ticks\":\"\"},\"baxis\":{\"gridcolor\":\"white\",\"linecolor\":\"white\",\"ticks\":\"\"},\"caxis\":{\"gridcolor\":\"white\",\"linecolor\":\"white\",\"ticks\":\"\"}},\"coloraxis\":{\"colorbar\":{\"outlinewidth\":0,\"ticks\":\"\"}},\"colorscale\":{\"sequential\":[[0.0,\"#0d0887\"],[0.1111111111111111,\"#46039f\"],[0.2222222222222222,\"#7201a8\"],[0.3333333333333333,\"#9c179e\"],[0.4444444444444444,\"#bd3786\"],[0.5555555555555556,\"#d8576b\"],[0.6666666666666666,\"#ed7953\"],[0.7777777777777778,\"#fb9f3a\"],[0.8888888888888888,\"#fdca26\"],[1.0,\"#f0f921\"]],\"sequentialminus\":[[0.0,\"#0d0887\"],[0.1111111111111111,\"#46039f\"],[0.2222222222222222,\"#7201a8\"],[0.3333333333333333,\"#9c179e\"],[0.4444444444444444,\"#bd3786\"],[0.5555555555555556,\"#d8576b\"],[0.6666666666666666,\"#ed7953\"],[0.7777777777777778,\"#fb9f3a\"],[0.8888888888888888,\"#fdca26\"],[1.0,\"#f0f921\"]],\"diverging\":[[0,\"#8e0152\"],[0.1,\"#c51b7d\"],[0.2,\"#de77ae\"],[0.3,\"#f1b6da\"],[0.4,\"#fde0ef\"],[0.5,\"#f7f7f7\"],[0.6,\"#e6f5d0\"],[0.7,\"#b8e186\"],[0.8,\"#7fbc41\"],[0.9,\"#4d9221\"],[1,\"#276419\"]]},\"xaxis\":{\"gridcolor\":\"white\",\"linecolor\":\"white\",\"ticks\":\"\",\"title\":{\"standoff\":15},\"zerolinecolor\":\"white\",\"automargin\":true,\"zerolinewidth\":2},\"yaxis\":{\"gridcolor\":\"white\",\"linecolor\":\"white\",\"ticks\":\"\",\"title\":{\"standoff\":15},\"zerolinecolor\":\"white\",\"automargin\":true,\"zerolinewidth\":2},\"scene\":{\"xaxis\":{\"backgroundcolor\":\"#E5ECF6\",\"gridcolor\":\"white\",\"linecolor\":\"white\",\"showbackground\":true,\"ticks\":\"\",\"zerolinecolor\":\"white\",\"gridwidth\":2},\"yaxis\":{\"backgroundcolor\":\"#E5ECF6\",\"gridcolor\":\"white\",\"linecolor\":\"white\",\"showbackground\":true,\"ticks\":\"\",\"zerolinecolor\":\"white\",\"gridwidth\":2},\"zaxis\":{\"backgroundcolor\":\"#E5ECF6\",\"gridcolor\":\"white\",\"linecolor\":\"white\",\"showbackground\":true,\"ticks\":\"\",\"zerolinecolor\":\"white\",\"gridwidth\":2}},\"shapedefaults\":{\"line\":{\"color\":\"#2a3f5f\"}},\"annotationdefaults\":{\"arrowcolor\":\"#2a3f5f\",\"arrowhead\":0,\"arrowwidth\":1},\"geo\":{\"bgcolor\":\"white\",\"landcolor\":\"#E5ECF6\",\"subunitcolor\":\"white\",\"showland\":true,\"showlakes\":true,\"lakecolor\":\"white\"},\"title\":{\"x\":0.05},\"mapbox\":{\"style\":\"light\"}}},\"xaxis\":{\"anchor\":\"y\",\"domain\":[0.0,1.0],\"title\":{\"text\":\"event_dt_day\"},\"tickangle\":-90,\"tickmode\":\"linear\"},\"yaxis\":{\"anchor\":\"x\",\"domain\":[0.0,1.0],\"title\":{\"text\":\"\\u041a\\u043e\\u043b\\u0438\\u0447\\u0435\\u0441\\u0442\\u0432\\u043e \\u0441\\u043e\\u0431\\u044b\\u0442\\u0438\\u0439\"}},\"legend\":{\"tracegroupgap\":0},\"margin\":{\"t\":60,\"l\":0,\"r\":0},\"barmode\":\"relative\",\"title\":{\"text\":\"\\u0420\\u0430\\u0441\\u043f\\u0440\\u0435\\u0434\\u0435\\u043b\\u0435\\u043d\\u0438\\u0435 \\u043a\\u043e\\u043b\\u0438\\u0447\\u0435\\u0441\\u0442\\u0432\\u0430 \\u0441\\u043e\\u0431\\u044b\\u0442\\u0438\\u0439 \\u044d\\u043a\\u0441\\u043f\\u0435\\u0440\\u0438\\u043c\\u0435\\u043d\\u0442\\u0430 \\u0432 \\u0433\\u0440\\u0443\\u043f\\u043f\\u0435 \\u0412\"}},                        {\"responsive\": true}                    ).then(function(){\n",
              "                            \n",
              "var gd = document.getElementById('b7924115-3cee-4882-a43f-6beb49667eb1');\n",
              "var x = new MutationObserver(function (mutations, observer) {{\n",
              "        var display = window.getComputedStyle(gd).display;\n",
              "        if (!display || display === 'none') {{\n",
              "            console.log([gd, 'removed!']);\n",
              "            Plotly.purge(gd);\n",
              "            observer.disconnect();\n",
              "        }}\n",
              "}});\n",
              "\n",
              "// Listen for the removal of the full notebook cells\n",
              "var notebookContainer = gd.closest('#notebook-container');\n",
              "if (notebookContainer) {{\n",
              "    x.observe(notebookContainer, {childList: true});\n",
              "}}\n",
              "\n",
              "// Listen for the clearing of the current output cell\n",
              "var outputEl = gd.closest('.output');\n",
              "if (outputEl) {{\n",
              "    x.observe(outputEl, {childList: true});\n",
              "}}\n",
              "\n",
              "                        })                };                            </script>        </div>\n",
              "</body>\n",
              "</html>"
            ]
          },
          "metadata": {}
        }
      ],
      "source": [
        "# Строим красивый график\n",
        "my_bar(t, t['event_dt_day'], t['user_id'],\n",
        "      'Распределение количества событий эксперимента в группе В', 'Количество событий')"
      ]
    },
    {
      "cell_type": "code",
      "execution_count": null,
      "metadata": {
        "scrolled": false,
        "id": "faDzeqHCSLVT",
        "outputId": "a28b921c-2855-4be2-8bb1-265ee7ee92ad",
        "colab": {
          "base_uri": "https://localhost:8080/"
        }
      },
      "outputs": [
        {
          "output_type": "display_data",
          "data": {
            "text/html": [
              "<html>\n",
              "<head><meta charset=\"utf-8\" /></head>\n",
              "<body>\n",
              "    <div>            <script src=\"https://cdnjs.cloudflare.com/ajax/libs/mathjax/2.7.5/MathJax.js?config=TeX-AMS-MML_SVG\"></script><script type=\"text/javascript\">if (window.MathJax && window.MathJax.Hub && window.MathJax.Hub.Config) {window.MathJax.Hub.Config({SVG: {font: \"STIX-Web\"}});}</script>                <script type=\"text/javascript\">window.PlotlyConfig = {MathJaxConfig: 'local'};</script>\n",
              "        <script src=\"https://cdn.plot.ly/plotly-2.18.2.min.js\"></script>                <div id=\"68ba378a-2e45-40a8-a5ef-0091b52d1d28\" class=\"plotly-graph-div\" style=\"height:525px; width:100%;\"></div>            <script type=\"text/javascript\">                                    window.PLOTLYENV=window.PLOTLYENV || {};                                    if (document.getElementById(\"68ba378a-2e45-40a8-a5ef-0091b52d1d28\")) {                    Plotly.newPlot(                        \"68ba378a-2e45-40a8-a5ef-0091b52d1d28\",                        [{\"alignmentgroup\":\"True\",\"hovertemplate\":\"event_dt_day=%{x}<br>user_id=%{y}<extra></extra>\",\"legendgroup\":\"\",\"marker\":{\"color\":\"#636efa\",\"pattern\":{\"shape\":\"\"}},\"name\":\"\",\"offsetgroup\":\"\",\"orientation\":\"v\",\"showlegend\":false,\"textposition\":\"auto\",\"x\":[\"2020-12-07\",\"2020-12-08\",\"2020-12-09\",\"2020-12-10\",\"2020-12-11\",\"2020-12-12\",\"2020-12-13\",\"2020-12-14\",\"2020-12-15\",\"2020-12-16\",\"2020-12-17\",\"2020-12-18\",\"2020-12-19\",\"2020-12-20\",\"2020-12-21\",\"2020-12-22\",\"2020-12-23\",\"2020-12-24\",\"2020-12-25\",\"2020-12-26\",\"2020-12-27\",\"2020-12-28\",\"2020-12-29\"],\"xaxis\":\"x\",\"y\":[128,146,157,145,160,157,146,424,420,413,477,503,577,606,793,529,401,337,263,231,222,189,179],\"yaxis\":\"y\",\"type\":\"bar\"}],                        {\"template\":{\"data\":{\"histogram2dcontour\":[{\"type\":\"histogram2dcontour\",\"colorbar\":{\"outlinewidth\":0,\"ticks\":\"\"},\"colorscale\":[[0.0,\"#0d0887\"],[0.1111111111111111,\"#46039f\"],[0.2222222222222222,\"#7201a8\"],[0.3333333333333333,\"#9c179e\"],[0.4444444444444444,\"#bd3786\"],[0.5555555555555556,\"#d8576b\"],[0.6666666666666666,\"#ed7953\"],[0.7777777777777778,\"#fb9f3a\"],[0.8888888888888888,\"#fdca26\"],[1.0,\"#f0f921\"]]}],\"choropleth\":[{\"type\":\"choropleth\",\"colorbar\":{\"outlinewidth\":0,\"ticks\":\"\"}}],\"histogram2d\":[{\"type\":\"histogram2d\",\"colorbar\":{\"outlinewidth\":0,\"ticks\":\"\"},\"colorscale\":[[0.0,\"#0d0887\"],[0.1111111111111111,\"#46039f\"],[0.2222222222222222,\"#7201a8\"],[0.3333333333333333,\"#9c179e\"],[0.4444444444444444,\"#bd3786\"],[0.5555555555555556,\"#d8576b\"],[0.6666666666666666,\"#ed7953\"],[0.7777777777777778,\"#fb9f3a\"],[0.8888888888888888,\"#fdca26\"],[1.0,\"#f0f921\"]]}],\"heatmap\":[{\"type\":\"heatmap\",\"colorbar\":{\"outlinewidth\":0,\"ticks\":\"\"},\"colorscale\":[[0.0,\"#0d0887\"],[0.1111111111111111,\"#46039f\"],[0.2222222222222222,\"#7201a8\"],[0.3333333333333333,\"#9c179e\"],[0.4444444444444444,\"#bd3786\"],[0.5555555555555556,\"#d8576b\"],[0.6666666666666666,\"#ed7953\"],[0.7777777777777778,\"#fb9f3a\"],[0.8888888888888888,\"#fdca26\"],[1.0,\"#f0f921\"]]}],\"heatmapgl\":[{\"type\":\"heatmapgl\",\"colorbar\":{\"outlinewidth\":0,\"ticks\":\"\"},\"colorscale\":[[0.0,\"#0d0887\"],[0.1111111111111111,\"#46039f\"],[0.2222222222222222,\"#7201a8\"],[0.3333333333333333,\"#9c179e\"],[0.4444444444444444,\"#bd3786\"],[0.5555555555555556,\"#d8576b\"],[0.6666666666666666,\"#ed7953\"],[0.7777777777777778,\"#fb9f3a\"],[0.8888888888888888,\"#fdca26\"],[1.0,\"#f0f921\"]]}],\"contourcarpet\":[{\"type\":\"contourcarpet\",\"colorbar\":{\"outlinewidth\":0,\"ticks\":\"\"}}],\"contour\":[{\"type\":\"contour\",\"colorbar\":{\"outlinewidth\":0,\"ticks\":\"\"},\"colorscale\":[[0.0,\"#0d0887\"],[0.1111111111111111,\"#46039f\"],[0.2222222222222222,\"#7201a8\"],[0.3333333333333333,\"#9c179e\"],[0.4444444444444444,\"#bd3786\"],[0.5555555555555556,\"#d8576b\"],[0.6666666666666666,\"#ed7953\"],[0.7777777777777778,\"#fb9f3a\"],[0.8888888888888888,\"#fdca26\"],[1.0,\"#f0f921\"]]}],\"surface\":[{\"type\":\"surface\",\"colorbar\":{\"outlinewidth\":0,\"ticks\":\"\"},\"colorscale\":[[0.0,\"#0d0887\"],[0.1111111111111111,\"#46039f\"],[0.2222222222222222,\"#7201a8\"],[0.3333333333333333,\"#9c179e\"],[0.4444444444444444,\"#bd3786\"],[0.5555555555555556,\"#d8576b\"],[0.6666666666666666,\"#ed7953\"],[0.7777777777777778,\"#fb9f3a\"],[0.8888888888888888,\"#fdca26\"],[1.0,\"#f0f921\"]]}],\"mesh3d\":[{\"type\":\"mesh3d\",\"colorbar\":{\"outlinewidth\":0,\"ticks\":\"\"}}],\"scatter\":[{\"fillpattern\":{\"fillmode\":\"overlay\",\"size\":10,\"solidity\":0.2},\"type\":\"scatter\"}],\"parcoords\":[{\"type\":\"parcoords\",\"line\":{\"colorbar\":{\"outlinewidth\":0,\"ticks\":\"\"}}}],\"scatterpolargl\":[{\"type\":\"scatterpolargl\",\"marker\":{\"colorbar\":{\"outlinewidth\":0,\"ticks\":\"\"}}}],\"bar\":[{\"error_x\":{\"color\":\"#2a3f5f\"},\"error_y\":{\"color\":\"#2a3f5f\"},\"marker\":{\"line\":{\"color\":\"#E5ECF6\",\"width\":0.5},\"pattern\":{\"fillmode\":\"overlay\",\"size\":10,\"solidity\":0.2}},\"type\":\"bar\"}],\"scattergeo\":[{\"type\":\"scattergeo\",\"marker\":{\"colorbar\":{\"outlinewidth\":0,\"ticks\":\"\"}}}],\"scatterpolar\":[{\"type\":\"scatterpolar\",\"marker\":{\"colorbar\":{\"outlinewidth\":0,\"ticks\":\"\"}}}],\"histogram\":[{\"marker\":{\"pattern\":{\"fillmode\":\"overlay\",\"size\":10,\"solidity\":0.2}},\"type\":\"histogram\"}],\"scattergl\":[{\"type\":\"scattergl\",\"marker\":{\"colorbar\":{\"outlinewidth\":0,\"ticks\":\"\"}}}],\"scatter3d\":[{\"type\":\"scatter3d\",\"line\":{\"colorbar\":{\"outlinewidth\":0,\"ticks\":\"\"}},\"marker\":{\"colorbar\":{\"outlinewidth\":0,\"ticks\":\"\"}}}],\"scattermapbox\":[{\"type\":\"scattermapbox\",\"marker\":{\"colorbar\":{\"outlinewidth\":0,\"ticks\":\"\"}}}],\"scatterternary\":[{\"type\":\"scatterternary\",\"marker\":{\"colorbar\":{\"outlinewidth\":0,\"ticks\":\"\"}}}],\"scattercarpet\":[{\"type\":\"scattercarpet\",\"marker\":{\"colorbar\":{\"outlinewidth\":0,\"ticks\":\"\"}}}],\"carpet\":[{\"aaxis\":{\"endlinecolor\":\"#2a3f5f\",\"gridcolor\":\"white\",\"linecolor\":\"white\",\"minorgridcolor\":\"white\",\"startlinecolor\":\"#2a3f5f\"},\"baxis\":{\"endlinecolor\":\"#2a3f5f\",\"gridcolor\":\"white\",\"linecolor\":\"white\",\"minorgridcolor\":\"white\",\"startlinecolor\":\"#2a3f5f\"},\"type\":\"carpet\"}],\"table\":[{\"cells\":{\"fill\":{\"color\":\"#EBF0F8\"},\"line\":{\"color\":\"white\"}},\"header\":{\"fill\":{\"color\":\"#C8D4E3\"},\"line\":{\"color\":\"white\"}},\"type\":\"table\"}],\"barpolar\":[{\"marker\":{\"line\":{\"color\":\"#E5ECF6\",\"width\":0.5},\"pattern\":{\"fillmode\":\"overlay\",\"size\":10,\"solidity\":0.2}},\"type\":\"barpolar\"}],\"pie\":[{\"automargin\":true,\"type\":\"pie\"}]},\"layout\":{\"autotypenumbers\":\"strict\",\"colorway\":[\"#636efa\",\"#EF553B\",\"#00cc96\",\"#ab63fa\",\"#FFA15A\",\"#19d3f3\",\"#FF6692\",\"#B6E880\",\"#FF97FF\",\"#FECB52\"],\"font\":{\"color\":\"#2a3f5f\"},\"hovermode\":\"closest\",\"hoverlabel\":{\"align\":\"left\"},\"paper_bgcolor\":\"white\",\"plot_bgcolor\":\"#E5ECF6\",\"polar\":{\"bgcolor\":\"#E5ECF6\",\"angularaxis\":{\"gridcolor\":\"white\",\"linecolor\":\"white\",\"ticks\":\"\"},\"radialaxis\":{\"gridcolor\":\"white\",\"linecolor\":\"white\",\"ticks\":\"\"}},\"ternary\":{\"bgcolor\":\"#E5ECF6\",\"aaxis\":{\"gridcolor\":\"white\",\"linecolor\":\"white\",\"ticks\":\"\"},\"baxis\":{\"gridcolor\":\"white\",\"linecolor\":\"white\",\"ticks\":\"\"},\"caxis\":{\"gridcolor\":\"white\",\"linecolor\":\"white\",\"ticks\":\"\"}},\"coloraxis\":{\"colorbar\":{\"outlinewidth\":0,\"ticks\":\"\"}},\"colorscale\":{\"sequential\":[[0.0,\"#0d0887\"],[0.1111111111111111,\"#46039f\"],[0.2222222222222222,\"#7201a8\"],[0.3333333333333333,\"#9c179e\"],[0.4444444444444444,\"#bd3786\"],[0.5555555555555556,\"#d8576b\"],[0.6666666666666666,\"#ed7953\"],[0.7777777777777778,\"#fb9f3a\"],[0.8888888888888888,\"#fdca26\"],[1.0,\"#f0f921\"]],\"sequentialminus\":[[0.0,\"#0d0887\"],[0.1111111111111111,\"#46039f\"],[0.2222222222222222,\"#7201a8\"],[0.3333333333333333,\"#9c179e\"],[0.4444444444444444,\"#bd3786\"],[0.5555555555555556,\"#d8576b\"],[0.6666666666666666,\"#ed7953\"],[0.7777777777777778,\"#fb9f3a\"],[0.8888888888888888,\"#fdca26\"],[1.0,\"#f0f921\"]],\"diverging\":[[0,\"#8e0152\"],[0.1,\"#c51b7d\"],[0.2,\"#de77ae\"],[0.3,\"#f1b6da\"],[0.4,\"#fde0ef\"],[0.5,\"#f7f7f7\"],[0.6,\"#e6f5d0\"],[0.7,\"#b8e186\"],[0.8,\"#7fbc41\"],[0.9,\"#4d9221\"],[1,\"#276419\"]]},\"xaxis\":{\"gridcolor\":\"white\",\"linecolor\":\"white\",\"ticks\":\"\",\"title\":{\"standoff\":15},\"zerolinecolor\":\"white\",\"automargin\":true,\"zerolinewidth\":2},\"yaxis\":{\"gridcolor\":\"white\",\"linecolor\":\"white\",\"ticks\":\"\",\"title\":{\"standoff\":15},\"zerolinecolor\":\"white\",\"automargin\":true,\"zerolinewidth\":2},\"scene\":{\"xaxis\":{\"backgroundcolor\":\"#E5ECF6\",\"gridcolor\":\"white\",\"linecolor\":\"white\",\"showbackground\":true,\"ticks\":\"\",\"zerolinecolor\":\"white\",\"gridwidth\":2},\"yaxis\":{\"backgroundcolor\":\"#E5ECF6\",\"gridcolor\":\"white\",\"linecolor\":\"white\",\"showbackground\":true,\"ticks\":\"\",\"zerolinecolor\":\"white\",\"gridwidth\":2},\"zaxis\":{\"backgroundcolor\":\"#E5ECF6\",\"gridcolor\":\"white\",\"linecolor\":\"white\",\"showbackground\":true,\"ticks\":\"\",\"zerolinecolor\":\"white\",\"gridwidth\":2}},\"shapedefaults\":{\"line\":{\"color\":\"#2a3f5f\"}},\"annotationdefaults\":{\"arrowcolor\":\"#2a3f5f\",\"arrowhead\":0,\"arrowwidth\":1},\"geo\":{\"bgcolor\":\"white\",\"landcolor\":\"#E5ECF6\",\"subunitcolor\":\"white\",\"showland\":true,\"showlakes\":true,\"lakecolor\":\"white\"},\"title\":{\"x\":0.05},\"mapbox\":{\"style\":\"light\"}}},\"xaxis\":{\"anchor\":\"y\",\"domain\":[0.0,1.0],\"title\":{\"text\":\"event_dt_day\"},\"tickangle\":-90,\"tickmode\":\"linear\"},\"yaxis\":{\"anchor\":\"x\",\"domain\":[0.0,1.0],\"title\":{\"text\":\"\\u041a\\u043e\\u043b\\u0438\\u0447\\u0435\\u0441\\u0442\\u0432\\u043e \\u0441\\u043e\\u0431\\u044b\\u0442\\u0438\\u0439\"}},\"legend\":{\"tracegroupgap\":0},\"margin\":{\"t\":60,\"l\":0,\"r\":0},\"barmode\":\"relative\",\"title\":{\"text\":\"\\u0420\\u0430\\u0441\\u043f\\u0440\\u0435\\u0434\\u0435\\u043b\\u0435\\u043d\\u0438\\u0435 \\u043a\\u043e\\u043b\\u0438\\u0447\\u0435\\u0441\\u0442\\u0432\\u0430 \\u0441\\u043e\\u0431\\u044b\\u0442\\u0438\\u0439 \\u044d\\u043a\\u0441\\u043f\\u0435\\u0440\\u0438\\u043c\\u0435\\u043d\\u0442\\u0430 \\u0432 \\u0433\\u0440\\u0443\\u043f\\u043f\\u0435 \\u0410\"}},                        {\"responsive\": true}                    ).then(function(){\n",
              "                            \n",
              "var gd = document.getElementById('68ba378a-2e45-40a8-a5ef-0091b52d1d28');\n",
              "var x = new MutationObserver(function (mutations, observer) {{\n",
              "        var display = window.getComputedStyle(gd).display;\n",
              "        if (!display || display === 'none') {{\n",
              "            console.log([gd, 'removed!']);\n",
              "            Plotly.purge(gd);\n",
              "            observer.disconnect();\n",
              "        }}\n",
              "}});\n",
              "\n",
              "// Listen for the removal of the full notebook cells\n",
              "var notebookContainer = gd.closest('#notebook-container');\n",
              "if (notebookContainer) {{\n",
              "    x.observe(notebookContainer, {childList: true});\n",
              "}}\n",
              "\n",
              "// Listen for the clearing of the current output cell\n",
              "var outputEl = gd.closest('.output');\n",
              "if (outputEl) {{\n",
              "    x.observe(outputEl, {childList: true});\n",
              "}}\n",
              "\n",
              "                        })                };                            </script>        </div>\n",
              "</body>\n",
              "</html>"
            ]
          },
          "metadata": {}
        }
      ],
      "source": [
        "# тоже для другого набора данных\n",
        "t= events_a.copy()\n",
        "t['event_dt_day'] = t.event_dt.dt.date\n",
        "t\n",
        "t = t.groupby(by='event_dt_day', as_index=False)['user_id'].agg('nunique') #.sort_values(by='user_id', ascending=False)\n",
        "t\n",
        "my_bar(t, t['event_dt_day'], t['user_id'],\n",
        "      'Распределение количества событий эксперимента в группе А', 'Количество событий')"
      ]
    },
    {
      "cell_type": "markdown",
      "metadata": {
        "id": "q4UbjhBJSLVU"
      },
      "source": [
        "В группе А скачек активности с 14-12-2021. Этот скачек пока непонятен. Надо посмотреть динамику набора пользователей."
      ]
    },
    {
      "cell_type": "code",
      "execution_count": null,
      "metadata": {
        "id": "MF2QNzXFSLVU",
        "outputId": "2ed9b559-1428-4aee-8bc4-b4c650c9ba75",
        "colab": {
          "base_uri": "https://localhost:8080/"
        }
      },
      "outputs": [
        {
          "output_type": "execute_result",
          "data": {
            "text/plain": [
              "array(['831887FE7F2D6CBA', '3C5DD0288AC4FE23', '2B06EB547B7AAD08', ...,\n",
              "       '64597B30278462F5', '1484BBF124DB1B18', '23DDD27AC3FEFA63'],\n",
              "      dtype=object)"
            ]
          },
          "metadata": {},
          "execution_count": 77
        }
      ],
      "source": [
        "# events_b.user_id.unique() # - список уникальных пользователей группы В экперимента\n",
        "events_a.user_id.unique() # - список уникальных пользователей группы А экперимента"
      ]
    },
    {
      "cell_type": "code",
      "execution_count": null,
      "metadata": {
        "id": "oSSdFF4wSLVU",
        "outputId": "77fef8d3-9fe1-4cde-831a-84970eb370bf",
        "colab": {
          "base_uri": "https://localhost:8080/"
        }
      },
      "outputs": [
        {
          "output_type": "execute_result",
          "data": {
            "text/plain": [
              "                user_id first_date region   device\n",
              "0      D72A72121175D8BE 2020-12-07     EU       PC\n",
              "23     831887FE7F2D6CBA 2020-12-07     EU  Android\n",
              "69     3C5DD0288AC4FE23 2020-12-07     EU       PC\n",
              "105    B27F5380AF0936D3 2020-12-07     EU  Android\n",
              "130    ABABE1BAB6C77540 2020-12-07     EU   iPhone\n",
              "...                 ...        ...    ...      ...\n",
              "61637  C27F677720E68EA4 2020-12-20     EU  Android\n",
              "61681  3CA972F86411CF13 2020-12-20     EU       PC\n",
              "61693  0F7D49FC184EDCDE 2020-12-20     EU       PC\n",
              "61709  574ACBC674BC385D 2020-12-20     EU      Mac\n",
              "61710  0416B34D35C8C8B8 2020-12-20     EU  Android\n",
              "\n",
              "[2422 rows x 4 columns]"
            ],
            "text/html": [
              "\n",
              "  <div id=\"df-561a3a79-9f32-4555-a81e-4adc3c2ea592\">\n",
              "    <div class=\"colab-df-container\">\n",
              "      <div>\n",
              "<style scoped>\n",
              "    .dataframe tbody tr th:only-of-type {\n",
              "        vertical-align: middle;\n",
              "    }\n",
              "\n",
              "    .dataframe tbody tr th {\n",
              "        vertical-align: top;\n",
              "    }\n",
              "\n",
              "    .dataframe thead th {\n",
              "        text-align: right;\n",
              "    }\n",
              "</style>\n",
              "<table border=\"1\" class=\"dataframe\">\n",
              "  <thead>\n",
              "    <tr style=\"text-align: right;\">\n",
              "      <th></th>\n",
              "      <th>user_id</th>\n",
              "      <th>first_date</th>\n",
              "      <th>region</th>\n",
              "      <th>device</th>\n",
              "    </tr>\n",
              "  </thead>\n",
              "  <tbody>\n",
              "    <tr>\n",
              "      <th>0</th>\n",
              "      <td>D72A72121175D8BE</td>\n",
              "      <td>2020-12-07</td>\n",
              "      <td>EU</td>\n",
              "      <td>PC</td>\n",
              "    </tr>\n",
              "    <tr>\n",
              "      <th>23</th>\n",
              "      <td>831887FE7F2D6CBA</td>\n",
              "      <td>2020-12-07</td>\n",
              "      <td>EU</td>\n",
              "      <td>Android</td>\n",
              "    </tr>\n",
              "    <tr>\n",
              "      <th>69</th>\n",
              "      <td>3C5DD0288AC4FE23</td>\n",
              "      <td>2020-12-07</td>\n",
              "      <td>EU</td>\n",
              "      <td>PC</td>\n",
              "    </tr>\n",
              "    <tr>\n",
              "      <th>105</th>\n",
              "      <td>B27F5380AF0936D3</td>\n",
              "      <td>2020-12-07</td>\n",
              "      <td>EU</td>\n",
              "      <td>Android</td>\n",
              "    </tr>\n",
              "    <tr>\n",
              "      <th>130</th>\n",
              "      <td>ABABE1BAB6C77540</td>\n",
              "      <td>2020-12-07</td>\n",
              "      <td>EU</td>\n",
              "      <td>iPhone</td>\n",
              "    </tr>\n",
              "    <tr>\n",
              "      <th>...</th>\n",
              "      <td>...</td>\n",
              "      <td>...</td>\n",
              "      <td>...</td>\n",
              "      <td>...</td>\n",
              "    </tr>\n",
              "    <tr>\n",
              "      <th>61637</th>\n",
              "      <td>C27F677720E68EA4</td>\n",
              "      <td>2020-12-20</td>\n",
              "      <td>EU</td>\n",
              "      <td>Android</td>\n",
              "    </tr>\n",
              "    <tr>\n",
              "      <th>61681</th>\n",
              "      <td>3CA972F86411CF13</td>\n",
              "      <td>2020-12-20</td>\n",
              "      <td>EU</td>\n",
              "      <td>PC</td>\n",
              "    </tr>\n",
              "    <tr>\n",
              "      <th>61693</th>\n",
              "      <td>0F7D49FC184EDCDE</td>\n",
              "      <td>2020-12-20</td>\n",
              "      <td>EU</td>\n",
              "      <td>PC</td>\n",
              "    </tr>\n",
              "    <tr>\n",
              "      <th>61709</th>\n",
              "      <td>574ACBC674BC385D</td>\n",
              "      <td>2020-12-20</td>\n",
              "      <td>EU</td>\n",
              "      <td>Mac</td>\n",
              "    </tr>\n",
              "    <tr>\n",
              "      <th>61710</th>\n",
              "      <td>0416B34D35C8C8B8</td>\n",
              "      <td>2020-12-20</td>\n",
              "      <td>EU</td>\n",
              "      <td>Android</td>\n",
              "    </tr>\n",
              "  </tbody>\n",
              "</table>\n",
              "<p>2422 rows × 4 columns</p>\n",
              "</div>\n",
              "      <button class=\"colab-df-convert\" onclick=\"convertToInteractive('df-561a3a79-9f32-4555-a81e-4adc3c2ea592')\"\n",
              "              title=\"Convert this dataframe to an interactive table.\"\n",
              "              style=\"display:none;\">\n",
              "        \n",
              "  <svg xmlns=\"http://www.w3.org/2000/svg\" height=\"24px\"viewBox=\"0 0 24 24\"\n",
              "       width=\"24px\">\n",
              "    <path d=\"M0 0h24v24H0V0z\" fill=\"none\"/>\n",
              "    <path d=\"M18.56 5.44l.94 2.06.94-2.06 2.06-.94-2.06-.94-.94-2.06-.94 2.06-2.06.94zm-11 1L8.5 8.5l.94-2.06 2.06-.94-2.06-.94L8.5 2.5l-.94 2.06-2.06.94zm10 10l.94 2.06.94-2.06 2.06-.94-2.06-.94-.94-2.06-.94 2.06-2.06.94z\"/><path d=\"M17.41 7.96l-1.37-1.37c-.4-.4-.92-.59-1.43-.59-.52 0-1.04.2-1.43.59L10.3 9.45l-7.72 7.72c-.78.78-.78 2.05 0 2.83L4 21.41c.39.39.9.59 1.41.59.51 0 1.02-.2 1.41-.59l7.78-7.78 2.81-2.81c.8-.78.8-2.07 0-2.86zM5.41 20L4 18.59l7.72-7.72 1.47 1.35L5.41 20z\"/>\n",
              "  </svg>\n",
              "      </button>\n",
              "      \n",
              "  <style>\n",
              "    .colab-df-container {\n",
              "      display:flex;\n",
              "      flex-wrap:wrap;\n",
              "      gap: 12px;\n",
              "    }\n",
              "\n",
              "    .colab-df-convert {\n",
              "      background-color: #E8F0FE;\n",
              "      border: none;\n",
              "      border-radius: 50%;\n",
              "      cursor: pointer;\n",
              "      display: none;\n",
              "      fill: #1967D2;\n",
              "      height: 32px;\n",
              "      padding: 0 0 0 0;\n",
              "      width: 32px;\n",
              "    }\n",
              "\n",
              "    .colab-df-convert:hover {\n",
              "      background-color: #E2EBFA;\n",
              "      box-shadow: 0px 1px 2px rgba(60, 64, 67, 0.3), 0px 1px 3px 1px rgba(60, 64, 67, 0.15);\n",
              "      fill: #174EA6;\n",
              "    }\n",
              "\n",
              "    [theme=dark] .colab-df-convert {\n",
              "      background-color: #3B4455;\n",
              "      fill: #D2E3FC;\n",
              "    }\n",
              "\n",
              "    [theme=dark] .colab-df-convert:hover {\n",
              "      background-color: #434B5C;\n",
              "      box-shadow: 0px 1px 3px 1px rgba(0, 0, 0, 0.15);\n",
              "      filter: drop-shadow(0px 1px 2px rgba(0, 0, 0, 0.3));\n",
              "      fill: #FFFFFF;\n",
              "    }\n",
              "  </style>\n",
              "\n",
              "      <script>\n",
              "        const buttonEl =\n",
              "          document.querySelector('#df-561a3a79-9f32-4555-a81e-4adc3c2ea592 button.colab-df-convert');\n",
              "        buttonEl.style.display =\n",
              "          google.colab.kernel.accessAllowed ? 'block' : 'none';\n",
              "\n",
              "        async function convertToInteractive(key) {\n",
              "          const element = document.querySelector('#df-561a3a79-9f32-4555-a81e-4adc3c2ea592');\n",
              "          const dataTable =\n",
              "            await google.colab.kernel.invokeFunction('convertToInteractive',\n",
              "                                                     [key], {});\n",
              "          if (!dataTable) return;\n",
              "\n",
              "          const docLinkHtml = 'Like what you see? Visit the ' +\n",
              "            '<a target=\"_blank\" href=https://colab.research.google.com/notebooks/data_table.ipynb>data table notebook</a>'\n",
              "            + ' to learn more about interactive tables.';\n",
              "          element.innerHTML = '';\n",
              "          dataTable['output_type'] = 'display_data';\n",
              "          await google.colab.output.renderOutput(dataTable, element);\n",
              "          const docLink = document.createElement('div');\n",
              "          docLink.innerHTML = docLinkHtml;\n",
              "          element.appendChild(docLink);\n",
              "        }\n",
              "      </script>\n",
              "    </div>\n",
              "  </div>\n",
              "  "
            ]
          },
          "metadata": {},
          "execution_count": 78
        }
      ],
      "source": [
        "t = final_ab_new_users[final_ab_new_users['user_id'].isin(events_a.user_id.unique())]\n",
        "t"
      ]
    },
    {
      "cell_type": "code",
      "execution_count": null,
      "metadata": {
        "id": "o_PMalvlSLVV",
        "outputId": "6902d2d9-14f5-4d39-ace5-4ab7c1b67226",
        "colab": {
          "base_uri": "https://localhost:8080/"
        }
      },
      "outputs": [
        {
          "output_type": "display_data",
          "data": {
            "text/html": [
              "<html>\n",
              "<head><meta charset=\"utf-8\" /></head>\n",
              "<body>\n",
              "    <div>            <script src=\"https://cdnjs.cloudflare.com/ajax/libs/mathjax/2.7.5/MathJax.js?config=TeX-AMS-MML_SVG\"></script><script type=\"text/javascript\">if (window.MathJax && window.MathJax.Hub && window.MathJax.Hub.Config) {window.MathJax.Hub.Config({SVG: {font: \"STIX-Web\"}});}</script>                <script type=\"text/javascript\">window.PlotlyConfig = {MathJaxConfig: 'local'};</script>\n",
              "        <script src=\"https://cdn.plot.ly/plotly-2.18.2.min.js\"></script>                <div id=\"b5889cc2-d45b-49e3-9989-61bfc23d0449\" class=\"plotly-graph-div\" style=\"height:525px; width:100%;\"></div>            <script type=\"text/javascript\">                                    window.PLOTLYENV=window.PLOTLYENV || {};                                    if (document.getElementById(\"b5889cc2-d45b-49e3-9989-61bfc23d0449\")) {                    Plotly.newPlot(                        \"b5889cc2-d45b-49e3-9989-61bfc23d0449\",                        [{\"alignmentgroup\":\"True\",\"hovertemplate\":\"first_date=%{x}<br>user_id=%{y}<extra></extra>\",\"legendgroup\":\"\",\"marker\":{\"color\":\"#636efa\",\"pattern\":{\"shape\":\"\"}},\"name\":\"\",\"offsetgroup\":\"\",\"orientation\":\"v\",\"showlegend\":false,\"textposition\":\"auto\",\"x\":[\"2020-12-07T00:00:00\",\"2020-12-07T00:00:00\",\"2020-12-07T00:00:00\",\"2020-12-07T00:00:00\",\"2020-12-07T00:00:00\",\"2020-12-07T00:00:00\",\"2020-12-07T00:00:00\",\"2020-12-07T00:00:00\",\"2020-12-07T00:00:00\",\"2020-12-07T00:00:00\",\"2020-12-07T00:00:00\",\"2020-12-07T00:00:00\",\"2020-12-07T00:00:00\",\"2020-12-07T00:00:00\",\"2020-12-07T00:00:00\",\"2020-12-07T00:00:00\",\"2020-12-07T00:00:00\",\"2020-12-07T00:00:00\",\"2020-12-07T00:00:00\",\"2020-12-07T00:00:00\",\"2020-12-07T00:00:00\",\"2020-12-07T00:00:00\",\"2020-12-07T00:00:00\",\"2020-12-07T00:00:00\",\"2020-12-07T00:00:00\",\"2020-12-07T00:00:00\",\"2020-12-07T00:00:00\",\"2020-12-07T00:00:00\",\"2020-12-07T00:00:00\",\"2020-12-07T00:00:00\",\"2020-12-07T00:00:00\",\"2020-12-07T00:00:00\",\"2020-12-07T00:00:00\",\"2020-12-07T00:00:00\",\"2020-12-07T00:00:00\",\"2020-12-07T00:00:00\",\"2020-12-07T00:00:00\",\"2020-12-07T00:00:00\",\"2020-12-07T00:00:00\",\"2020-12-07T00:00:00\",\"2020-12-07T00:00:00\",\"2020-12-07T00:00:00\",\"2020-12-07T00:00:00\",\"2020-12-07T00:00:00\",\"2020-12-07T00:00:00\",\"2020-12-07T00:00:00\",\"2020-12-07T00:00:00\",\"2020-12-07T00:00:00\",\"2020-12-07T00:00:00\",\"2020-12-07T00:00:00\",\"2020-12-07T00:00:00\",\"2020-12-07T00:00:00\",\"2020-12-07T00:00:00\",\"2020-12-07T00:00:00\",\"2020-12-07T00:00:00\",\"2020-12-07T00:00:00\",\"2020-12-07T00:00:00\",\"2020-12-07T00:00:00\",\"2020-12-07T00:00:00\",\"2020-12-07T00:00:00\",\"2020-12-07T00:00:00\",\"2020-12-07T00:00:00\",\"2020-12-07T00:00:00\",\"2020-12-07T00:00:00\",\"2020-12-07T00:00:00\",\"2020-12-07T00:00:00\",\"2020-12-07T00:00:00\",\"2020-12-07T00:00:00\",\"2020-12-07T00:00:00\",\"2020-12-07T00:00:00\",\"2020-12-07T00:00:00\",\"2020-12-07T00:00:00\",\"2020-12-07T00:00:00\",\"2020-12-07T00:00:00\",\"2020-12-07T00:00:00\",\"2020-12-07T00:00:00\",\"2020-12-07T00:00:00\",\"2020-12-07T00:00:00\",\"2020-12-07T00:00:00\",\"2020-12-07T00:00:00\",\"2020-12-07T00:00:00\",\"2020-12-07T00:00:00\",\"2020-12-07T00:00:00\",\"2020-12-07T00:00:00\",\"2020-12-07T00:00:00\",\"2020-12-07T00:00:00\",\"2020-12-07T00:00:00\",\"2020-12-07T00:00:00\",\"2020-12-07T00:00:00\",\"2020-12-07T00:00:00\",\"2020-12-07T00:00:00\",\"2020-12-07T00:00:00\",\"2020-12-07T00:00:00\",\"2020-12-07T00:00:00\",\"2020-12-07T00:00:00\",\"2020-12-07T00:00:00\",\"2020-12-07T00:00:00\",\"2020-12-07T00:00:00\",\"2020-12-07T00:00:00\",\"2020-12-07T00:00:00\",\"2020-12-07T00:00:00\",\"2020-12-07T00:00:00\",\"2020-12-07T00:00:00\",\"2020-12-07T00:00:00\",\"2020-12-07T00:00:00\",\"2020-12-07T00:00:00\",\"2020-12-07T00:00:00\",\"2020-12-07T00:00:00\",\"2020-12-07T00:00:00\",\"2020-12-07T00:00:00\",\"2020-12-07T00:00:00\",\"2020-12-07T00:00:00\",\"2020-12-07T00:00:00\",\"2020-12-07T00:00:00\",\"2020-12-07T00:00:00\",\"2020-12-07T00:00:00\",\"2020-12-07T00:00:00\",\"2020-12-07T00:00:00\",\"2020-12-07T00:00:00\",\"2020-12-07T00:00:00\",\"2020-12-07T00:00:00\",\"2020-12-07T00:00:00\",\"2020-12-07T00:00:00\",\"2020-12-07T00:00:00\",\"2020-12-07T00:00:00\",\"2020-12-07T00:00:00\",\"2020-12-07T00:00:00\",\"2020-12-07T00:00:00\",\"2020-12-07T00:00:00\",\"2020-12-07T00:00:00\",\"2020-12-07T00:00:00\",\"2020-12-07T00:00:00\",\"2020-12-07T00:00:00\",\"2020-12-07T00:00:00\",\"2020-12-07T00:00:00\",\"2020-12-07T00:00:00\",\"2020-12-07T00:00:00\",\"2020-12-14T00:00:00\",\"2020-12-14T00:00:00\",\"2020-12-14T00:00:00\",\"2020-12-14T00:00:00\",\"2020-12-14T00:00:00\",\"2020-12-14T00:00:00\",\"2020-12-14T00:00:00\",\"2020-12-14T00:00:00\",\"2020-12-14T00:00:00\",\"2020-12-14T00:00:00\",\"2020-12-14T00:00:00\",\"2020-12-14T00:00:00\",\"2020-12-14T00:00:00\",\"2020-12-14T00:00:00\",\"2020-12-14T00:00:00\",\"2020-12-14T00:00:00\",\"2020-12-14T00:00:00\",\"2020-12-14T00:00:00\",\"2020-12-14T00:00:00\",\"2020-12-14T00:00:00\",\"2020-12-14T00:00:00\",\"2020-12-14T00:00:00\",\"2020-12-14T00:00:00\",\"2020-12-14T00:00:00\",\"2020-12-14T00:00:00\",\"2020-12-14T00:00:00\",\"2020-12-14T00:00:00\",\"2020-12-14T00:00:00\",\"2020-12-14T00:00:00\",\"2020-12-14T00:00:00\",\"2020-12-14T00:00:00\",\"2020-12-14T00:00:00\",\"2020-12-14T00:00:00\",\"2020-12-14T00:00:00\",\"2020-12-14T00:00:00\",\"2020-12-14T00:00:00\",\"2020-12-14T00:00:00\",\"2020-12-14T00:00:00\",\"2020-12-14T00:00:00\",\"2020-12-14T00:00:00\",\"2020-12-14T00:00:00\",\"2020-12-14T00:00:00\",\"2020-12-14T00:00:00\",\"2020-12-14T00:00:00\",\"2020-12-14T00:00:00\",\"2020-12-14T00:00:00\",\"2020-12-14T00:00:00\",\"2020-12-14T00:00:00\",\"2020-12-14T00:00:00\",\"2020-12-14T00:00:00\",\"2020-12-14T00:00:00\",\"2020-12-14T00:00:00\",\"2020-12-14T00:00:00\",\"2020-12-14T00:00:00\",\"2020-12-14T00:00:00\",\"2020-12-14T00:00:00\",\"2020-12-14T00:00:00\",\"2020-12-14T00:00:00\",\"2020-12-14T00:00:00\",\"2020-12-14T00:00:00\",\"2020-12-14T00:00:00\",\"2020-12-14T00:00:00\",\"2020-12-14T00:00:00\",\"2020-12-14T00:00:00\",\"2020-12-14T00:00:00\",\"2020-12-14T00:00:00\",\"2020-12-14T00:00:00\",\"2020-12-14T00:00:00\",\"2020-12-14T00:00:00\",\"2020-12-14T00:00:00\",\"2020-12-14T00:00:00\",\"2020-12-14T00:00:00\",\"2020-12-14T00:00:00\",\"2020-12-14T00:00:00\",\"2020-12-14T00:00:00\",\"2020-12-14T00:00:00\",\"2020-12-14T00:00:00\",\"2020-12-14T00:00:00\",\"2020-12-14T00:00:00\",\"2020-12-14T00:00:00\",\"2020-12-14T00:00:00\",\"2020-12-14T00:00:00\",\"2020-12-14T00:00:00\",\"2020-12-14T00:00:00\",\"2020-12-14T00:00:00\",\"2020-12-14T00:00:00\",\"2020-12-14T00:00:00\",\"2020-12-14T00:00:00\",\"2020-12-14T00:00:00\",\"2020-12-14T00:00:00\",\"2020-12-14T00:00:00\",\"2020-12-14T00:00:00\",\"2020-12-14T00:00:00\",\"2020-12-14T00:00:00\",\"2020-12-14T00:00:00\",\"2020-12-14T00:00:00\",\"2020-12-14T00:00:00\",\"2020-12-14T00:00:00\",\"2020-12-14T00:00:00\",\"2020-12-14T00:00:00\",\"2020-12-14T00:00:00\",\"2020-12-14T00:00:00\",\"2020-12-14T00:00:00\",\"2020-12-14T00:00:00\",\"2020-12-14T00:00:00\",\"2020-12-14T00:00:00\",\"2020-12-14T00:00:00\",\"2020-12-14T00:00:00\",\"2020-12-14T00:00:00\",\"2020-12-14T00:00:00\",\"2020-12-14T00:00:00\",\"2020-12-14T00:00:00\",\"2020-12-14T00:00:00\",\"2020-12-14T00:00:00\",\"2020-12-14T00:00:00\",\"2020-12-14T00:00:00\",\"2020-12-14T00:00:00\",\"2020-12-14T00:00:00\",\"2020-12-14T00:00:00\",\"2020-12-14T00:00:00\",\"2020-12-14T00:00:00\",\"2020-12-14T00:00:00\",\"2020-12-14T00:00:00\",\"2020-12-14T00:00:00\",\"2020-12-14T00:00:00\",\"2020-12-14T00:00:00\",\"2020-12-14T00:00:00\",\"2020-12-14T00:00:00\",\"2020-12-14T00:00:00\",\"2020-12-14T00:00:00\",\"2020-12-14T00:00:00\",\"2020-12-14T00:00:00\",\"2020-12-14T00:00:00\",\"2020-12-14T00:00:00\",\"2020-12-14T00:00:00\",\"2020-12-14T00:00:00\",\"2020-12-14T00:00:00\",\"2020-12-14T00:00:00\",\"2020-12-14T00:00:00\",\"2020-12-14T00:00:00\",\"2020-12-14T00:00:00\",\"2020-12-14T00:00:00\",\"2020-12-14T00:00:00\",\"2020-12-14T00:00:00\",\"2020-12-14T00:00:00\",\"2020-12-14T00:00:00\",\"2020-12-14T00:00:00\",\"2020-12-14T00:00:00\",\"2020-12-14T00:00:00\",\"2020-12-14T00:00:00\",\"2020-12-14T00:00:00\",\"2020-12-14T00:00:00\",\"2020-12-14T00:00:00\",\"2020-12-14T00:00:00\",\"2020-12-14T00:00:00\",\"2020-12-14T00:00:00\",\"2020-12-14T00:00:00\",\"2020-12-14T00:00:00\",\"2020-12-14T00:00:00\",\"2020-12-14T00:00:00\",\"2020-12-14T00:00:00\",\"2020-12-14T00:00:00\",\"2020-12-14T00:00:00\",\"2020-12-14T00:00:00\",\"2020-12-14T00:00:00\",\"2020-12-14T00:00:00\",\"2020-12-14T00:00:00\",\"2020-12-14T00:00:00\",\"2020-12-14T00:00:00\",\"2020-12-14T00:00:00\",\"2020-12-14T00:00:00\",\"2020-12-14T00:00:00\",\"2020-12-14T00:00:00\",\"2020-12-14T00:00:00\",\"2020-12-14T00:00:00\",\"2020-12-14T00:00:00\",\"2020-12-14T00:00:00\",\"2020-12-14T00:00:00\",\"2020-12-14T00:00:00\",\"2020-12-14T00:00:00\",\"2020-12-14T00:00:00\",\"2020-12-14T00:00:00\",\"2020-12-14T00:00:00\",\"2020-12-14T00:00:00\",\"2020-12-14T00:00:00\",\"2020-12-14T00:00:00\",\"2020-12-14T00:00:00\",\"2020-12-14T00:00:00\",\"2020-12-14T00:00:00\",\"2020-12-14T00:00:00\",\"2020-12-14T00:00:00\",\"2020-12-14T00:00:00\",\"2020-12-14T00:00:00\",\"2020-12-14T00:00:00\",\"2020-12-14T00:00:00\",\"2020-12-14T00:00:00\",\"2020-12-14T00:00:00\",\"2020-12-14T00:00:00\",\"2020-12-14T00:00:00\",\"2020-12-14T00:00:00\",\"2020-12-14T00:00:00\",\"2020-12-14T00:00:00\",\"2020-12-14T00:00:00\",\"2020-12-14T00:00:00\",\"2020-12-14T00:00:00\",\"2020-12-14T00:00:00\",\"2020-12-14T00:00:00\",\"2020-12-14T00:00:00\",\"2020-12-14T00:00:00\",\"2020-12-14T00:00:00\",\"2020-12-14T00:00:00\",\"2020-12-14T00:00:00\",\"2020-12-14T00:00:00\",\"2020-12-14T00:00:00\",\"2020-12-14T00:00:00\",\"2020-12-14T00:00:00\",\"2020-12-14T00:00:00\",\"2020-12-14T00:00:00\",\"2020-12-14T00:00:00\",\"2020-12-14T00:00:00\",\"2020-12-14T00:00:00\",\"2020-12-14T00:00:00\",\"2020-12-14T00:00:00\",\"2020-12-14T00:00:00\",\"2020-12-14T00:00:00\",\"2020-12-14T00:00:00\",\"2020-12-14T00:00:00\",\"2020-12-14T00:00:00\",\"2020-12-14T00:00:00\",\"2020-12-14T00:00:00\",\"2020-12-14T00:00:00\",\"2020-12-14T00:00:00\",\"2020-12-14T00:00:00\",\"2020-12-14T00:00:00\",\"2020-12-14T00:00:00\",\"2020-12-14T00:00:00\",\"2020-12-14T00:00:00\",\"2020-12-14T00:00:00\",\"2020-12-14T00:00:00\",\"2020-12-14T00:00:00\",\"2020-12-14T00:00:00\",\"2020-12-14T00:00:00\",\"2020-12-14T00:00:00\",\"2020-12-14T00:00:00\",\"2020-12-14T00:00:00\",\"2020-12-14T00:00:00\",\"2020-12-14T00:00:00\",\"2020-12-14T00:00:00\",\"2020-12-14T00:00:00\",\"2020-12-14T00:00:00\",\"2020-12-14T00:00:00\",\"2020-12-14T00:00:00\",\"2020-12-14T00:00:00\",\"2020-12-14T00:00:00\",\"2020-12-14T00:00:00\",\"2020-12-14T00:00:00\",\"2020-12-14T00:00:00\",\"2020-12-14T00:00:00\",\"2020-12-14T00:00:00\",\"2020-12-14T00:00:00\",\"2020-12-14T00:00:00\",\"2020-12-14T00:00:00\",\"2020-12-14T00:00:00\",\"2020-12-14T00:00:00\",\"2020-12-14T00:00:00\",\"2020-12-14T00:00:00\",\"2020-12-14T00:00:00\",\"2020-12-14T00:00:00\",\"2020-12-14T00:00:00\",\"2020-12-14T00:00:00\",\"2020-12-14T00:00:00\",\"2020-12-14T00:00:00\",\"2020-12-14T00:00:00\",\"2020-12-14T00:00:00\",\"2020-12-14T00:00:00\",\"2020-12-14T00:00:00\",\"2020-12-14T00:00:00\",\"2020-12-14T00:00:00\",\"2020-12-14T00:00:00\",\"2020-12-14T00:00:00\",\"2020-12-14T00:00:00\",\"2020-12-14T00:00:00\",\"2020-12-14T00:00:00\",\"2020-12-14T00:00:00\",\"2020-12-14T00:00:00\",\"2020-12-14T00:00:00\",\"2020-12-14T00:00:00\",\"2020-12-14T00:00:00\",\"2020-12-14T00:00:00\",\"2020-12-14T00:00:00\",\"2020-12-14T00:00:00\",\"2020-12-14T00:00:00\",\"2020-12-14T00:00:00\",\"2020-12-14T00:00:00\",\"2020-12-14T00:00:00\",\"2020-12-14T00:00:00\",\"2020-12-14T00:00:00\",\"2020-12-14T00:00:00\",\"2020-12-14T00:00:00\",\"2020-12-14T00:00:00\",\"2020-12-14T00:00:00\",\"2020-12-14T00:00:00\",\"2020-12-14T00:00:00\",\"2020-12-14T00:00:00\",\"2020-12-14T00:00:00\",\"2020-12-14T00:00:00\",\"2020-12-14T00:00:00\",\"2020-12-14T00:00:00\",\"2020-12-14T00:00:00\",\"2020-12-14T00:00:00\",\"2020-12-14T00:00:00\",\"2020-12-14T00:00:00\",\"2020-12-14T00:00:00\",\"2020-12-14T00:00:00\",\"2020-12-14T00:00:00\",\"2020-12-14T00:00:00\",\"2020-12-14T00:00:00\",\"2020-12-14T00:00:00\",\"2020-12-14T00:00:00\",\"2020-12-14T00:00:00\",\"2020-12-14T00:00:00\",\"2020-12-14T00:00:00\",\"2020-12-14T00:00:00\",\"2020-12-14T00:00:00\",\"2020-12-14T00:00:00\",\"2020-12-14T00:00:00\",\"2020-12-14T00:00:00\",\"2020-12-14T00:00:00\",\"2020-12-14T00:00:00\",\"2020-12-14T00:00:00\",\"2020-12-14T00:00:00\",\"2020-12-14T00:00:00\",\"2020-12-14T00:00:00\",\"2020-12-14T00:00:00\",\"2020-12-14T00:00:00\",\"2020-12-14T00:00:00\",\"2020-12-14T00:00:00\",\"2020-12-14T00:00:00\",\"2020-12-14T00:00:00\",\"2020-12-14T00:00:00\",\"2020-12-14T00:00:00\",\"2020-12-14T00:00:00\",\"2020-12-21T00:00:00\",\"2020-12-21T00:00:00\",\"2020-12-21T00:00:00\",\"2020-12-21T00:00:00\",\"2020-12-21T00:00:00\",\"2020-12-21T00:00:00\",\"2020-12-21T00:00:00\",\"2020-12-21T00:00:00\",\"2020-12-21T00:00:00\",\"2020-12-21T00:00:00\",\"2020-12-21T00:00:00\",\"2020-12-21T00:00:00\",\"2020-12-21T00:00:00\",\"2020-12-21T00:00:00\",\"2020-12-21T00:00:00\",\"2020-12-21T00:00:00\",\"2020-12-21T00:00:00\",\"2020-12-21T00:00:00\",\"2020-12-21T00:00:00\",\"2020-12-21T00:00:00\",\"2020-12-21T00:00:00\",\"2020-12-21T00:00:00\",\"2020-12-21T00:00:00\",\"2020-12-21T00:00:00\",\"2020-12-21T00:00:00\",\"2020-12-21T00:00:00\",\"2020-12-21T00:00:00\",\"2020-12-21T00:00:00\",\"2020-12-21T00:00:00\",\"2020-12-21T00:00:00\",\"2020-12-21T00:00:00\",\"2020-12-21T00:00:00\",\"2020-12-21T00:00:00\",\"2020-12-21T00:00:00\",\"2020-12-21T00:00:00\",\"2020-12-21T00:00:00\",\"2020-12-21T00:00:00\",\"2020-12-21T00:00:00\",\"2020-12-21T00:00:00\",\"2020-12-21T00:00:00\",\"2020-12-21T00:00:00\",\"2020-12-21T00:00:00\",\"2020-12-21T00:00:00\",\"2020-12-21T00:00:00\",\"2020-12-21T00:00:00\",\"2020-12-21T00:00:00\",\"2020-12-21T00:00:00\",\"2020-12-21T00:00:00\",\"2020-12-21T00:00:00\",\"2020-12-21T00:00:00\",\"2020-12-21T00:00:00\",\"2020-12-21T00:00:00\",\"2020-12-21T00:00:00\",\"2020-12-21T00:00:00\",\"2020-12-21T00:00:00\",\"2020-12-21T00:00:00\",\"2020-12-21T00:00:00\",\"2020-12-21T00:00:00\",\"2020-12-21T00:00:00\",\"2020-12-21T00:00:00\",\"2020-12-21T00:00:00\",\"2020-12-21T00:00:00\",\"2020-12-21T00:00:00\",\"2020-12-21T00:00:00\",\"2020-12-21T00:00:00\",\"2020-12-21T00:00:00\",\"2020-12-21T00:00:00\",\"2020-12-21T00:00:00\",\"2020-12-21T00:00:00\",\"2020-12-21T00:00:00\",\"2020-12-21T00:00:00\",\"2020-12-21T00:00:00\",\"2020-12-21T00:00:00\",\"2020-12-21T00:00:00\",\"2020-12-21T00:00:00\",\"2020-12-21T00:00:00\",\"2020-12-21T00:00:00\",\"2020-12-21T00:00:00\",\"2020-12-21T00:00:00\",\"2020-12-21T00:00:00\",\"2020-12-21T00:00:00\",\"2020-12-21T00:00:00\",\"2020-12-21T00:00:00\",\"2020-12-21T00:00:00\",\"2020-12-21T00:00:00\",\"2020-12-21T00:00:00\",\"2020-12-21T00:00:00\",\"2020-12-21T00:00:00\",\"2020-12-21T00:00:00\",\"2020-12-21T00:00:00\",\"2020-12-21T00:00:00\",\"2020-12-21T00:00:00\",\"2020-12-21T00:00:00\",\"2020-12-21T00:00:00\",\"2020-12-21T00:00:00\",\"2020-12-21T00:00:00\",\"2020-12-21T00:00:00\",\"2020-12-21T00:00:00\",\"2020-12-21T00:00:00\",\"2020-12-21T00:00:00\",\"2020-12-21T00:00:00\",\"2020-12-21T00:00:00\",\"2020-12-21T00:00:00\",\"2020-12-21T00:00:00\",\"2020-12-21T00:00:00\",\"2020-12-21T00:00:00\",\"2020-12-21T00:00:00\",\"2020-12-21T00:00:00\",\"2020-12-21T00:00:00\",\"2020-12-21T00:00:00\",\"2020-12-21T00:00:00\",\"2020-12-21T00:00:00\",\"2020-12-21T00:00:00\",\"2020-12-21T00:00:00\",\"2020-12-21T00:00:00\",\"2020-12-21T00:00:00\",\"2020-12-21T00:00:00\",\"2020-12-21T00:00:00\",\"2020-12-21T00:00:00\",\"2020-12-21T00:00:00\",\"2020-12-21T00:00:00\",\"2020-12-21T00:00:00\",\"2020-12-21T00:00:00\",\"2020-12-21T00:00:00\",\"2020-12-21T00:00:00\",\"2020-12-21T00:00:00\",\"2020-12-21T00:00:00\",\"2020-12-21T00:00:00\",\"2020-12-21T00:00:00\",\"2020-12-21T00:00:00\",\"2020-12-21T00:00:00\",\"2020-12-21T00:00:00\",\"2020-12-21T00:00:00\",\"2020-12-21T00:00:00\",\"2020-12-21T00:00:00\",\"2020-12-21T00:00:00\",\"2020-12-21T00:00:00\",\"2020-12-21T00:00:00\",\"2020-12-21T00:00:00\",\"2020-12-21T00:00:00\",\"2020-12-21T00:00:00\",\"2020-12-21T00:00:00\",\"2020-12-21T00:00:00\",\"2020-12-21T00:00:00\",\"2020-12-21T00:00:00\",\"2020-12-21T00:00:00\",\"2020-12-21T00:00:00\",\"2020-12-21T00:00:00\",\"2020-12-21T00:00:00\",\"2020-12-21T00:00:00\",\"2020-12-21T00:00:00\",\"2020-12-21T00:00:00\",\"2020-12-21T00:00:00\",\"2020-12-21T00:00:00\",\"2020-12-21T00:00:00\",\"2020-12-21T00:00:00\",\"2020-12-21T00:00:00\",\"2020-12-21T00:00:00\",\"2020-12-21T00:00:00\",\"2020-12-21T00:00:00\",\"2020-12-21T00:00:00\",\"2020-12-21T00:00:00\",\"2020-12-21T00:00:00\",\"2020-12-21T00:00:00\",\"2020-12-21T00:00:00\",\"2020-12-21T00:00:00\",\"2020-12-21T00:00:00\",\"2020-12-21T00:00:00\",\"2020-12-21T00:00:00\",\"2020-12-21T00:00:00\",\"2020-12-21T00:00:00\",\"2020-12-21T00:00:00\",\"2020-12-21T00:00:00\",\"2020-12-21T00:00:00\",\"2020-12-21T00:00:00\",\"2020-12-21T00:00:00\",\"2020-12-21T00:00:00\",\"2020-12-21T00:00:00\",\"2020-12-21T00:00:00\",\"2020-12-21T00:00:00\",\"2020-12-21T00:00:00\",\"2020-12-21T00:00:00\",\"2020-12-21T00:00:00\",\"2020-12-21T00:00:00\",\"2020-12-21T00:00:00\",\"2020-12-21T00:00:00\",\"2020-12-21T00:00:00\",\"2020-12-21T00:00:00\",\"2020-12-21T00:00:00\",\"2020-12-21T00:00:00\",\"2020-12-21T00:00:00\",\"2020-12-21T00:00:00\",\"2020-12-21T00:00:00\",\"2020-12-21T00:00:00\",\"2020-12-21T00:00:00\",\"2020-12-21T00:00:00\",\"2020-12-21T00:00:00\",\"2020-12-21T00:00:00\",\"2020-12-21T00:00:00\",\"2020-12-21T00:00:00\",\"2020-12-21T00:00:00\",\"2020-12-21T00:00:00\",\"2020-12-21T00:00:00\",\"2020-12-21T00:00:00\",\"2020-12-21T00:00:00\",\"2020-12-21T00:00:00\",\"2020-12-21T00:00:00\",\"2020-12-21T00:00:00\",\"2020-12-21T00:00:00\",\"2020-12-21T00:00:00\",\"2020-12-21T00:00:00\",\"2020-12-21T00:00:00\",\"2020-12-21T00:00:00\",\"2020-12-21T00:00:00\",\"2020-12-21T00:00:00\",\"2020-12-21T00:00:00\",\"2020-12-21T00:00:00\",\"2020-12-21T00:00:00\",\"2020-12-21T00:00:00\",\"2020-12-21T00:00:00\",\"2020-12-21T00:00:00\",\"2020-12-21T00:00:00\",\"2020-12-21T00:00:00\",\"2020-12-21T00:00:00\",\"2020-12-21T00:00:00\",\"2020-12-21T00:00:00\",\"2020-12-21T00:00:00\",\"2020-12-21T00:00:00\",\"2020-12-21T00:00:00\",\"2020-12-21T00:00:00\",\"2020-12-21T00:00:00\",\"2020-12-21T00:00:00\",\"2020-12-21T00:00:00\",\"2020-12-21T00:00:00\",\"2020-12-21T00:00:00\",\"2020-12-21T00:00:00\",\"2020-12-21T00:00:00\",\"2020-12-21T00:00:00\",\"2020-12-21T00:00:00\",\"2020-12-21T00:00:00\",\"2020-12-21T00:00:00\",\"2020-12-21T00:00:00\",\"2020-12-21T00:00:00\",\"2020-12-21T00:00:00\",\"2020-12-21T00:00:00\",\"2020-12-21T00:00:00\",\"2020-12-21T00:00:00\",\"2020-12-21T00:00:00\",\"2020-12-21T00:00:00\",\"2020-12-21T00:00:00\",\"2020-12-21T00:00:00\",\"2020-12-21T00:00:00\",\"2020-12-21T00:00:00\",\"2020-12-21T00:00:00\",\"2020-12-21T00:00:00\",\"2020-12-21T00:00:00\",\"2020-12-21T00:00:00\",\"2020-12-21T00:00:00\",\"2020-12-21T00:00:00\",\"2020-12-21T00:00:00\",\"2020-12-21T00:00:00\",\"2020-12-21T00:00:00\",\"2020-12-21T00:00:00\",\"2020-12-21T00:00:00\",\"2020-12-21T00:00:00\",\"2020-12-21T00:00:00\",\"2020-12-21T00:00:00\",\"2020-12-21T00:00:00\",\"2020-12-21T00:00:00\",\"2020-12-21T00:00:00\",\"2020-12-21T00:00:00\",\"2020-12-21T00:00:00\",\"2020-12-21T00:00:00\",\"2020-12-21T00:00:00\",\"2020-12-21T00:00:00\",\"2020-12-21T00:00:00\",\"2020-12-21T00:00:00\",\"2020-12-21T00:00:00\",\"2020-12-21T00:00:00\",\"2020-12-21T00:00:00\",\"2020-12-21T00:00:00\",\"2020-12-21T00:00:00\",\"2020-12-21T00:00:00\",\"2020-12-21T00:00:00\",\"2020-12-21T00:00:00\",\"2020-12-21T00:00:00\",\"2020-12-21T00:00:00\",\"2020-12-21T00:00:00\",\"2020-12-21T00:00:00\",\"2020-12-21T00:00:00\",\"2020-12-21T00:00:00\",\"2020-12-21T00:00:00\",\"2020-12-21T00:00:00\",\"2020-12-21T00:00:00\",\"2020-12-21T00:00:00\",\"2020-12-21T00:00:00\",\"2020-12-21T00:00:00\",\"2020-12-21T00:00:00\",\"2020-12-21T00:00:00\",\"2020-12-21T00:00:00\",\"2020-12-21T00:00:00\",\"2020-12-21T00:00:00\",\"2020-12-21T00:00:00\",\"2020-12-21T00:00:00\",\"2020-12-21T00:00:00\",\"2020-12-21T00:00:00\",\"2020-12-21T00:00:00\",\"2020-12-21T00:00:00\",\"2020-12-21T00:00:00\",\"2020-12-21T00:00:00\",\"2020-12-21T00:00:00\",\"2020-12-21T00:00:00\",\"2020-12-21T00:00:00\",\"2020-12-21T00:00:00\",\"2020-12-21T00:00:00\",\"2020-12-21T00:00:00\",\"2020-12-21T00:00:00\",\"2020-12-21T00:00:00\",\"2020-12-21T00:00:00\",\"2020-12-21T00:00:00\",\"2020-12-21T00:00:00\",\"2020-12-21T00:00:00\",\"2020-12-21T00:00:00\",\"2020-12-21T00:00:00\",\"2020-12-21T00:00:00\",\"2020-12-21T00:00:00\",\"2020-12-21T00:00:00\",\"2020-12-21T00:00:00\",\"2020-12-21T00:00:00\",\"2020-12-21T00:00:00\",\"2020-12-21T00:00:00\",\"2020-12-21T00:00:00\",\"2020-12-21T00:00:00\",\"2020-12-21T00:00:00\",\"2020-12-21T00:00:00\",\"2020-12-21T00:00:00\",\"2020-12-21T00:00:00\",\"2020-12-21T00:00:00\",\"2020-12-21T00:00:00\",\"2020-12-21T00:00:00\",\"2020-12-21T00:00:00\",\"2020-12-21T00:00:00\",\"2020-12-21T00:00:00\",\"2020-12-21T00:00:00\",\"2020-12-21T00:00:00\",\"2020-12-21T00:00:00\",\"2020-12-21T00:00:00\",\"2020-12-21T00:00:00\",\"2020-12-21T00:00:00\",\"2020-12-21T00:00:00\",\"2020-12-21T00:00:00\",\"2020-12-21T00:00:00\",\"2020-12-21T00:00:00\",\"2020-12-21T00:00:00\",\"2020-12-21T00:00:00\",\"2020-12-21T00:00:00\",\"2020-12-21T00:00:00\",\"2020-12-21T00:00:00\",\"2020-12-21T00:00:00\",\"2020-12-21T00:00:00\",\"2020-12-21T00:00:00\",\"2020-12-21T00:00:00\",\"2020-12-21T00:00:00\",\"2020-12-21T00:00:00\",\"2020-12-21T00:00:00\",\"2020-12-21T00:00:00\",\"2020-12-08T00:00:00\",\"2020-12-08T00:00:00\",\"2020-12-08T00:00:00\",\"2020-12-08T00:00:00\",\"2020-12-08T00:00:00\",\"2020-12-08T00:00:00\",\"2020-12-08T00:00:00\",\"2020-12-08T00:00:00\",\"2020-12-08T00:00:00\",\"2020-12-08T00:00:00\",\"2020-12-08T00:00:00\",\"2020-12-08T00:00:00\",\"2020-12-08T00:00:00\",\"2020-12-08T00:00:00\",\"2020-12-08T00:00:00\",\"2020-12-08T00:00:00\",\"2020-12-08T00:00:00\",\"2020-12-08T00:00:00\",\"2020-12-08T00:00:00\",\"2020-12-08T00:00:00\",\"2020-12-08T00:00:00\",\"2020-12-08T00:00:00\",\"2020-12-08T00:00:00\",\"2020-12-08T00:00:00\",\"2020-12-08T00:00:00\",\"2020-12-08T00:00:00\",\"2020-12-08T00:00:00\",\"2020-12-08T00:00:00\",\"2020-12-08T00:00:00\",\"2020-12-08T00:00:00\",\"2020-12-08T00:00:00\",\"2020-12-08T00:00:00\",\"2020-12-08T00:00:00\",\"2020-12-08T00:00:00\",\"2020-12-08T00:00:00\",\"2020-12-08T00:00:00\",\"2020-12-08T00:00:00\",\"2020-12-08T00:00:00\",\"2020-12-08T00:00:00\",\"2020-12-08T00:00:00\",\"2020-12-08T00:00:00\",\"2020-12-08T00:00:00\",\"2020-12-08T00:00:00\",\"2020-12-08T00:00:00\",\"2020-12-08T00:00:00\",\"2020-12-08T00:00:00\",\"2020-12-08T00:00:00\",\"2020-12-08T00:00:00\",\"2020-12-08T00:00:00\",\"2020-12-08T00:00:00\",\"2020-12-08T00:00:00\",\"2020-12-08T00:00:00\",\"2020-12-08T00:00:00\",\"2020-12-08T00:00:00\",\"2020-12-08T00:00:00\",\"2020-12-08T00:00:00\",\"2020-12-08T00:00:00\",\"2020-12-08T00:00:00\",\"2020-12-08T00:00:00\",\"2020-12-08T00:00:00\",\"2020-12-08T00:00:00\",\"2020-12-08T00:00:00\",\"2020-12-08T00:00:00\",\"2020-12-08T00:00:00\",\"2020-12-08T00:00:00\",\"2020-12-08T00:00:00\",\"2020-12-08T00:00:00\",\"2020-12-08T00:00:00\",\"2020-12-08T00:00:00\",\"2020-12-08T00:00:00\",\"2020-12-08T00:00:00\",\"2020-12-08T00:00:00\",\"2020-12-08T00:00:00\",\"2020-12-08T00:00:00\",\"2020-12-08T00:00:00\",\"2020-12-08T00:00:00\",\"2020-12-08T00:00:00\",\"2020-12-08T00:00:00\",\"2020-12-08T00:00:00\",\"2020-12-08T00:00:00\",\"2020-12-08T00:00:00\",\"2020-12-08T00:00:00\",\"2020-12-08T00:00:00\",\"2020-12-08T00:00:00\",\"2020-12-08T00:00:00\",\"2020-12-08T00:00:00\",\"2020-12-08T00:00:00\",\"2020-12-08T00:00:00\",\"2020-12-08T00:00:00\",\"2020-12-15T00:00:00\",\"2020-12-15T00:00:00\",\"2020-12-15T00:00:00\",\"2020-12-15T00:00:00\",\"2020-12-15T00:00:00\",\"2020-12-15T00:00:00\",\"2020-12-15T00:00:00\",\"2020-12-15T00:00:00\",\"2020-12-15T00:00:00\",\"2020-12-15T00:00:00\",\"2020-12-15T00:00:00\",\"2020-12-15T00:00:00\",\"2020-12-15T00:00:00\",\"2020-12-15T00:00:00\",\"2020-12-15T00:00:00\",\"2020-12-15T00:00:00\",\"2020-12-15T00:00:00\",\"2020-12-15T00:00:00\",\"2020-12-15T00:00:00\",\"2020-12-15T00:00:00\",\"2020-12-15T00:00:00\",\"2020-12-15T00:00:00\",\"2020-12-15T00:00:00\",\"2020-12-15T00:00:00\",\"2020-12-15T00:00:00\",\"2020-12-15T00:00:00\",\"2020-12-15T00:00:00\",\"2020-12-15T00:00:00\",\"2020-12-15T00:00:00\",\"2020-12-15T00:00:00\",\"2020-12-15T00:00:00\",\"2020-12-15T00:00:00\",\"2020-12-15T00:00:00\",\"2020-12-15T00:00:00\",\"2020-12-15T00:00:00\",\"2020-12-15T00:00:00\",\"2020-12-15T00:00:00\",\"2020-12-15T00:00:00\",\"2020-12-15T00:00:00\",\"2020-12-15T00:00:00\",\"2020-12-15T00:00:00\",\"2020-12-15T00:00:00\",\"2020-12-15T00:00:00\",\"2020-12-15T00:00:00\",\"2020-12-15T00:00:00\",\"2020-12-15T00:00:00\",\"2020-12-15T00:00:00\",\"2020-12-15T00:00:00\",\"2020-12-15T00:00:00\",\"2020-12-15T00:00:00\",\"2020-12-15T00:00:00\",\"2020-12-15T00:00:00\",\"2020-12-15T00:00:00\",\"2020-12-15T00:00:00\",\"2020-12-15T00:00:00\",\"2020-12-15T00:00:00\",\"2020-12-15T00:00:00\",\"2020-12-15T00:00:00\",\"2020-12-15T00:00:00\",\"2020-12-15T00:00:00\",\"2020-12-15T00:00:00\",\"2020-12-15T00:00:00\",\"2020-12-15T00:00:00\",\"2020-12-15T00:00:00\",\"2020-12-15T00:00:00\",\"2020-12-15T00:00:00\",\"2020-12-15T00:00:00\",\"2020-12-15T00:00:00\",\"2020-12-15T00:00:00\",\"2020-12-15T00:00:00\",\"2020-12-15T00:00:00\",\"2020-12-15T00:00:00\",\"2020-12-15T00:00:00\",\"2020-12-15T00:00:00\",\"2020-12-15T00:00:00\",\"2020-12-15T00:00:00\",\"2020-12-15T00:00:00\",\"2020-12-15T00:00:00\",\"2020-12-15T00:00:00\",\"2020-12-15T00:00:00\",\"2020-12-15T00:00:00\",\"2020-12-15T00:00:00\",\"2020-12-15T00:00:00\",\"2020-12-15T00:00:00\",\"2020-12-15T00:00:00\",\"2020-12-15T00:00:00\",\"2020-12-15T00:00:00\",\"2020-12-15T00:00:00\",\"2020-12-15T00:00:00\",\"2020-12-15T00:00:00\",\"2020-12-15T00:00:00\",\"2020-12-15T00:00:00\",\"2020-12-15T00:00:00\",\"2020-12-15T00:00:00\",\"2020-12-15T00:00:00\",\"2020-12-15T00:00:00\",\"2020-12-15T00:00:00\",\"2020-12-15T00:00:00\",\"2020-12-15T00:00:00\",\"2020-12-15T00:00:00\",\"2020-12-15T00:00:00\",\"2020-12-15T00:00:00\",\"2020-12-15T00:00:00\",\"2020-12-15T00:00:00\",\"2020-12-15T00:00:00\",\"2020-12-15T00:00:00\",\"2020-12-15T00:00:00\",\"2020-12-15T00:00:00\",\"2020-12-15T00:00:00\",\"2020-12-15T00:00:00\",\"2020-12-15T00:00:00\",\"2020-12-15T00:00:00\",\"2020-12-15T00:00:00\",\"2020-12-15T00:00:00\",\"2020-12-15T00:00:00\",\"2020-12-15T00:00:00\",\"2020-12-15T00:00:00\",\"2020-12-15T00:00:00\",\"2020-12-15T00:00:00\",\"2020-12-15T00:00:00\",\"2020-12-15T00:00:00\",\"2020-12-15T00:00:00\",\"2020-12-15T00:00:00\",\"2020-12-15T00:00:00\",\"2020-12-15T00:00:00\",\"2020-12-15T00:00:00\",\"2020-12-15T00:00:00\",\"2020-12-15T00:00:00\",\"2020-12-15T00:00:00\",\"2020-12-15T00:00:00\",\"2020-12-15T00:00:00\",\"2020-12-15T00:00:00\",\"2020-12-15T00:00:00\",\"2020-12-15T00:00:00\",\"2020-12-15T00:00:00\",\"2020-12-15T00:00:00\",\"2020-12-15T00:00:00\",\"2020-12-15T00:00:00\",\"2020-12-15T00:00:00\",\"2020-12-15T00:00:00\",\"2020-12-15T00:00:00\",\"2020-12-15T00:00:00\",\"2020-12-15T00:00:00\",\"2020-12-15T00:00:00\",\"2020-12-15T00:00:00\",\"2020-12-15T00:00:00\",\"2020-12-15T00:00:00\",\"2020-12-15T00:00:00\",\"2020-12-15T00:00:00\",\"2020-12-15T00:00:00\",\"2020-12-15T00:00:00\",\"2020-12-15T00:00:00\",\"2020-12-15T00:00:00\",\"2020-12-15T00:00:00\",\"2020-12-15T00:00:00\",\"2020-12-15T00:00:00\",\"2020-12-15T00:00:00\",\"2020-12-15T00:00:00\",\"2020-12-15T00:00:00\",\"2020-12-15T00:00:00\",\"2020-12-15T00:00:00\",\"2020-12-15T00:00:00\",\"2020-12-15T00:00:00\",\"2020-12-15T00:00:00\",\"2020-12-15T00:00:00\",\"2020-12-15T00:00:00\",\"2020-12-15T00:00:00\",\"2020-12-15T00:00:00\",\"2020-12-15T00:00:00\",\"2020-12-15T00:00:00\",\"2020-12-15T00:00:00\",\"2020-12-15T00:00:00\",\"2020-12-15T00:00:00\",\"2020-12-15T00:00:00\",\"2020-12-15T00:00:00\",\"2020-12-15T00:00:00\",\"2020-12-15T00:00:00\",\"2020-12-15T00:00:00\",\"2020-12-15T00:00:00\",\"2020-12-15T00:00:00\",\"2020-12-15T00:00:00\",\"2020-12-15T00:00:00\",\"2020-12-15T00:00:00\",\"2020-12-09T00:00:00\",\"2020-12-09T00:00:00\",\"2020-12-09T00:00:00\",\"2020-12-09T00:00:00\",\"2020-12-09T00:00:00\",\"2020-12-09T00:00:00\",\"2020-12-09T00:00:00\",\"2020-12-09T00:00:00\",\"2020-12-09T00:00:00\",\"2020-12-09T00:00:00\",\"2020-12-09T00:00:00\",\"2020-12-09T00:00:00\",\"2020-12-09T00:00:00\",\"2020-12-09T00:00:00\",\"2020-12-09T00:00:00\",\"2020-12-09T00:00:00\",\"2020-12-09T00:00:00\",\"2020-12-09T00:00:00\",\"2020-12-09T00:00:00\",\"2020-12-09T00:00:00\",\"2020-12-09T00:00:00\",\"2020-12-09T00:00:00\",\"2020-12-09T00:00:00\",\"2020-12-09T00:00:00\",\"2020-12-09T00:00:00\",\"2020-12-09T00:00:00\",\"2020-12-09T00:00:00\",\"2020-12-09T00:00:00\",\"2020-12-09T00:00:00\",\"2020-12-09T00:00:00\",\"2020-12-09T00:00:00\",\"2020-12-09T00:00:00\",\"2020-12-09T00:00:00\",\"2020-12-09T00:00:00\",\"2020-12-09T00:00:00\",\"2020-12-09T00:00:00\",\"2020-12-09T00:00:00\",\"2020-12-09T00:00:00\",\"2020-12-09T00:00:00\",\"2020-12-09T00:00:00\",\"2020-12-09T00:00:00\",\"2020-12-09T00:00:00\",\"2020-12-09T00:00:00\",\"2020-12-09T00:00:00\",\"2020-12-09T00:00:00\",\"2020-12-09T00:00:00\",\"2020-12-09T00:00:00\",\"2020-12-09T00:00:00\",\"2020-12-09T00:00:00\",\"2020-12-09T00:00:00\",\"2020-12-09T00:00:00\",\"2020-12-09T00:00:00\",\"2020-12-09T00:00:00\",\"2020-12-09T00:00:00\",\"2020-12-09T00:00:00\",\"2020-12-09T00:00:00\",\"2020-12-09T00:00:00\",\"2020-12-09T00:00:00\",\"2020-12-09T00:00:00\",\"2020-12-09T00:00:00\",\"2020-12-09T00:00:00\",\"2020-12-09T00:00:00\",\"2020-12-09T00:00:00\",\"2020-12-09T00:00:00\",\"2020-12-09T00:00:00\",\"2020-12-09T00:00:00\",\"2020-12-09T00:00:00\",\"2020-12-09T00:00:00\",\"2020-12-09T00:00:00\",\"2020-12-09T00:00:00\",\"2020-12-16T00:00:00\",\"2020-12-16T00:00:00\",\"2020-12-16T00:00:00\",\"2020-12-16T00:00:00\",\"2020-12-16T00:00:00\",\"2020-12-16T00:00:00\",\"2020-12-16T00:00:00\",\"2020-12-16T00:00:00\",\"2020-12-16T00:00:00\",\"2020-12-16T00:00:00\",\"2020-12-16T00:00:00\",\"2020-12-16T00:00:00\",\"2020-12-16T00:00:00\",\"2020-12-16T00:00:00\",\"2020-12-16T00:00:00\",\"2020-12-16T00:00:00\",\"2020-12-16T00:00:00\",\"2020-12-16T00:00:00\",\"2020-12-16T00:00:00\",\"2020-12-16T00:00:00\",\"2020-12-16T00:00:00\",\"2020-12-16T00:00:00\",\"2020-12-16T00:00:00\",\"2020-12-16T00:00:00\",\"2020-12-16T00:00:00\",\"2020-12-16T00:00:00\",\"2020-12-16T00:00:00\",\"2020-12-16T00:00:00\",\"2020-12-16T00:00:00\",\"2020-12-16T00:00:00\",\"2020-12-16T00:00:00\",\"2020-12-16T00:00:00\",\"2020-12-16T00:00:00\",\"2020-12-16T00:00:00\",\"2020-12-16T00:00:00\",\"2020-12-16T00:00:00\",\"2020-12-16T00:00:00\",\"2020-12-16T00:00:00\",\"2020-12-16T00:00:00\",\"2020-12-16T00:00:00\",\"2020-12-16T00:00:00\",\"2020-12-16T00:00:00\",\"2020-12-16T00:00:00\",\"2020-12-16T00:00:00\",\"2020-12-16T00:00:00\",\"2020-12-16T00:00:00\",\"2020-12-16T00:00:00\",\"2020-12-16T00:00:00\",\"2020-12-16T00:00:00\",\"2020-12-16T00:00:00\",\"2020-12-16T00:00:00\",\"2020-12-16T00:00:00\",\"2020-12-16T00:00:00\",\"2020-12-16T00:00:00\",\"2020-12-16T00:00:00\",\"2020-12-16T00:00:00\",\"2020-12-16T00:00:00\",\"2020-12-16T00:00:00\",\"2020-12-16T00:00:00\",\"2020-12-16T00:00:00\",\"2020-12-16T00:00:00\",\"2020-12-16T00:00:00\",\"2020-12-16T00:00:00\",\"2020-12-16T00:00:00\",\"2020-12-16T00:00:00\",\"2020-12-16T00:00:00\",\"2020-12-16T00:00:00\",\"2020-12-16T00:00:00\",\"2020-12-16T00:00:00\",\"2020-12-16T00:00:00\",\"2020-12-16T00:00:00\",\"2020-12-16T00:00:00\",\"2020-12-16T00:00:00\",\"2020-12-16T00:00:00\",\"2020-12-16T00:00:00\",\"2020-12-16T00:00:00\",\"2020-12-16T00:00:00\",\"2020-12-16T00:00:00\",\"2020-12-16T00:00:00\",\"2020-12-16T00:00:00\",\"2020-12-16T00:00:00\",\"2020-12-16T00:00:00\",\"2020-12-16T00:00:00\",\"2020-12-16T00:00:00\",\"2020-12-16T00:00:00\",\"2020-12-16T00:00:00\",\"2020-12-16T00:00:00\",\"2020-12-16T00:00:00\",\"2020-12-16T00:00:00\",\"2020-12-16T00:00:00\",\"2020-12-16T00:00:00\",\"2020-12-16T00:00:00\",\"2020-12-16T00:00:00\",\"2020-12-16T00:00:00\",\"2020-12-16T00:00:00\",\"2020-12-16T00:00:00\",\"2020-12-16T00:00:00\",\"2020-12-16T00:00:00\",\"2020-12-16T00:00:00\",\"2020-12-16T00:00:00\",\"2020-12-16T00:00:00\",\"2020-12-16T00:00:00\",\"2020-12-16T00:00:00\",\"2020-12-16T00:00:00\",\"2020-12-16T00:00:00\",\"2020-12-16T00:00:00\",\"2020-12-16T00:00:00\",\"2020-12-16T00:00:00\",\"2020-12-16T00:00:00\",\"2020-12-16T00:00:00\",\"2020-12-16T00:00:00\",\"2020-12-16T00:00:00\",\"2020-12-16T00:00:00\",\"2020-12-16T00:00:00\",\"2020-12-16T00:00:00\",\"2020-12-16T00:00:00\",\"2020-12-16T00:00:00\",\"2020-12-16T00:00:00\",\"2020-12-16T00:00:00\",\"2020-12-16T00:00:00\",\"2020-12-16T00:00:00\",\"2020-12-16T00:00:00\",\"2020-12-16T00:00:00\",\"2020-12-16T00:00:00\",\"2020-12-16T00:00:00\",\"2020-12-16T00:00:00\",\"2020-12-16T00:00:00\",\"2020-12-16T00:00:00\",\"2020-12-16T00:00:00\",\"2020-12-16T00:00:00\",\"2020-12-16T00:00:00\",\"2020-12-16T00:00:00\",\"2020-12-16T00:00:00\",\"2020-12-16T00:00:00\",\"2020-12-16T00:00:00\",\"2020-12-16T00:00:00\",\"2020-12-16T00:00:00\",\"2020-12-16T00:00:00\",\"2020-12-16T00:00:00\",\"2020-12-16T00:00:00\",\"2020-12-16T00:00:00\",\"2020-12-16T00:00:00\",\"2020-12-16T00:00:00\",\"2020-12-16T00:00:00\",\"2020-12-16T00:00:00\",\"2020-12-16T00:00:00\",\"2020-12-16T00:00:00\",\"2020-12-16T00:00:00\",\"2020-12-16T00:00:00\",\"2020-12-16T00:00:00\",\"2020-12-16T00:00:00\",\"2020-12-10T00:00:00\",\"2020-12-10T00:00:00\",\"2020-12-10T00:00:00\",\"2020-12-10T00:00:00\",\"2020-12-10T00:00:00\",\"2020-12-10T00:00:00\",\"2020-12-10T00:00:00\",\"2020-12-10T00:00:00\",\"2020-12-10T00:00:00\",\"2020-12-10T00:00:00\",\"2020-12-10T00:00:00\",\"2020-12-10T00:00:00\",\"2020-12-10T00:00:00\",\"2020-12-10T00:00:00\",\"2020-12-10T00:00:00\",\"2020-12-10T00:00:00\",\"2020-12-10T00:00:00\",\"2020-12-10T00:00:00\",\"2020-12-10T00:00:00\",\"2020-12-10T00:00:00\",\"2020-12-10T00:00:00\",\"2020-12-10T00:00:00\",\"2020-12-10T00:00:00\",\"2020-12-10T00:00:00\",\"2020-12-10T00:00:00\",\"2020-12-10T00:00:00\",\"2020-12-10T00:00:00\",\"2020-12-10T00:00:00\",\"2020-12-10T00:00:00\",\"2020-12-10T00:00:00\",\"2020-12-10T00:00:00\",\"2020-12-10T00:00:00\",\"2020-12-10T00:00:00\",\"2020-12-10T00:00:00\",\"2020-12-10T00:00:00\",\"2020-12-10T00:00:00\",\"2020-12-10T00:00:00\",\"2020-12-10T00:00:00\",\"2020-12-10T00:00:00\",\"2020-12-10T00:00:00\",\"2020-12-10T00:00:00\",\"2020-12-10T00:00:00\",\"2020-12-10T00:00:00\",\"2020-12-10T00:00:00\",\"2020-12-10T00:00:00\",\"2020-12-10T00:00:00\",\"2020-12-10T00:00:00\",\"2020-12-10T00:00:00\",\"2020-12-10T00:00:00\",\"2020-12-10T00:00:00\",\"2020-12-10T00:00:00\",\"2020-12-10T00:00:00\",\"2020-12-10T00:00:00\",\"2020-12-10T00:00:00\",\"2020-12-10T00:00:00\",\"2020-12-10T00:00:00\",\"2020-12-10T00:00:00\",\"2020-12-17T00:00:00\",\"2020-12-17T00:00:00\",\"2020-12-17T00:00:00\",\"2020-12-17T00:00:00\",\"2020-12-17T00:00:00\",\"2020-12-17T00:00:00\",\"2020-12-17T00:00:00\",\"2020-12-17T00:00:00\",\"2020-12-17T00:00:00\",\"2020-12-17T00:00:00\",\"2020-12-17T00:00:00\",\"2020-12-17T00:00:00\",\"2020-12-17T00:00:00\",\"2020-12-17T00:00:00\",\"2020-12-17T00:00:00\",\"2020-12-17T00:00:00\",\"2020-12-17T00:00:00\",\"2020-12-17T00:00:00\",\"2020-12-17T00:00:00\",\"2020-12-17T00:00:00\",\"2020-12-17T00:00:00\",\"2020-12-17T00:00:00\",\"2020-12-17T00:00:00\",\"2020-12-17T00:00:00\",\"2020-12-17T00:00:00\",\"2020-12-17T00:00:00\",\"2020-12-17T00:00:00\",\"2020-12-17T00:00:00\",\"2020-12-17T00:00:00\",\"2020-12-17T00:00:00\",\"2020-12-17T00:00:00\",\"2020-12-17T00:00:00\",\"2020-12-17T00:00:00\",\"2020-12-17T00:00:00\",\"2020-12-17T00:00:00\",\"2020-12-17T00:00:00\",\"2020-12-17T00:00:00\",\"2020-12-17T00:00:00\",\"2020-12-17T00:00:00\",\"2020-12-17T00:00:00\",\"2020-12-17T00:00:00\",\"2020-12-17T00:00:00\",\"2020-12-17T00:00:00\",\"2020-12-17T00:00:00\",\"2020-12-17T00:00:00\",\"2020-12-17T00:00:00\",\"2020-12-17T00:00:00\",\"2020-12-17T00:00:00\",\"2020-12-17T00:00:00\",\"2020-12-17T00:00:00\",\"2020-12-17T00:00:00\",\"2020-12-17T00:00:00\",\"2020-12-17T00:00:00\",\"2020-12-17T00:00:00\",\"2020-12-17T00:00:00\",\"2020-12-17T00:00:00\",\"2020-12-17T00:00:00\",\"2020-12-17T00:00:00\",\"2020-12-17T00:00:00\",\"2020-12-17T00:00:00\",\"2020-12-17T00:00:00\",\"2020-12-17T00:00:00\",\"2020-12-17T00:00:00\",\"2020-12-17T00:00:00\",\"2020-12-17T00:00:00\",\"2020-12-17T00:00:00\",\"2020-12-17T00:00:00\",\"2020-12-17T00:00:00\",\"2020-12-17T00:00:00\",\"2020-12-17T00:00:00\",\"2020-12-17T00:00:00\",\"2020-12-17T00:00:00\",\"2020-12-17T00:00:00\",\"2020-12-17T00:00:00\",\"2020-12-17T00:00:00\",\"2020-12-17T00:00:00\",\"2020-12-17T00:00:00\",\"2020-12-17T00:00:00\",\"2020-12-17T00:00:00\",\"2020-12-17T00:00:00\",\"2020-12-17T00:00:00\",\"2020-12-17T00:00:00\",\"2020-12-17T00:00:00\",\"2020-12-17T00:00:00\",\"2020-12-17T00:00:00\",\"2020-12-17T00:00:00\",\"2020-12-17T00:00:00\",\"2020-12-17T00:00:00\",\"2020-12-17T00:00:00\",\"2020-12-17T00:00:00\",\"2020-12-17T00:00:00\",\"2020-12-17T00:00:00\",\"2020-12-17T00:00:00\",\"2020-12-17T00:00:00\",\"2020-12-17T00:00:00\",\"2020-12-17T00:00:00\",\"2020-12-17T00:00:00\",\"2020-12-17T00:00:00\",\"2020-12-17T00:00:00\",\"2020-12-17T00:00:00\",\"2020-12-17T00:00:00\",\"2020-12-17T00:00:00\",\"2020-12-17T00:00:00\",\"2020-12-17T00:00:00\",\"2020-12-17T00:00:00\",\"2020-12-17T00:00:00\",\"2020-12-17T00:00:00\",\"2020-12-17T00:00:00\",\"2020-12-17T00:00:00\",\"2020-12-17T00:00:00\",\"2020-12-17T00:00:00\",\"2020-12-17T00:00:00\",\"2020-12-17T00:00:00\",\"2020-12-17T00:00:00\",\"2020-12-17T00:00:00\",\"2020-12-17T00:00:00\",\"2020-12-17T00:00:00\",\"2020-12-17T00:00:00\",\"2020-12-17T00:00:00\",\"2020-12-17T00:00:00\",\"2020-12-17T00:00:00\",\"2020-12-17T00:00:00\",\"2020-12-17T00:00:00\",\"2020-12-17T00:00:00\",\"2020-12-17T00:00:00\",\"2020-12-17T00:00:00\",\"2020-12-17T00:00:00\",\"2020-12-17T00:00:00\",\"2020-12-17T00:00:00\",\"2020-12-17T00:00:00\",\"2020-12-17T00:00:00\",\"2020-12-17T00:00:00\",\"2020-12-17T00:00:00\",\"2020-12-17T00:00:00\",\"2020-12-17T00:00:00\",\"2020-12-17T00:00:00\",\"2020-12-17T00:00:00\",\"2020-12-17T00:00:00\",\"2020-12-17T00:00:00\",\"2020-12-17T00:00:00\",\"2020-12-17T00:00:00\",\"2020-12-17T00:00:00\",\"2020-12-17T00:00:00\",\"2020-12-17T00:00:00\",\"2020-12-17T00:00:00\",\"2020-12-17T00:00:00\",\"2020-12-17T00:00:00\",\"2020-12-17T00:00:00\",\"2020-12-17T00:00:00\",\"2020-12-17T00:00:00\",\"2020-12-17T00:00:00\",\"2020-12-17T00:00:00\",\"2020-12-17T00:00:00\",\"2020-12-17T00:00:00\",\"2020-12-17T00:00:00\",\"2020-12-17T00:00:00\",\"2020-12-17T00:00:00\",\"2020-12-17T00:00:00\",\"2020-12-17T00:00:00\",\"2020-12-17T00:00:00\",\"2020-12-17T00:00:00\",\"2020-12-17T00:00:00\",\"2020-12-17T00:00:00\",\"2020-12-17T00:00:00\",\"2020-12-17T00:00:00\",\"2020-12-17T00:00:00\",\"2020-12-17T00:00:00\",\"2020-12-17T00:00:00\",\"2020-12-17T00:00:00\",\"2020-12-17T00:00:00\",\"2020-12-17T00:00:00\",\"2020-12-17T00:00:00\",\"2020-12-17T00:00:00\",\"2020-12-17T00:00:00\",\"2020-12-17T00:00:00\",\"2020-12-17T00:00:00\",\"2020-12-17T00:00:00\",\"2020-12-17T00:00:00\",\"2020-12-17T00:00:00\",\"2020-12-17T00:00:00\",\"2020-12-17T00:00:00\",\"2020-12-17T00:00:00\",\"2020-12-17T00:00:00\",\"2020-12-17T00:00:00\",\"2020-12-17T00:00:00\",\"2020-12-17T00:00:00\",\"2020-12-11T00:00:00\",\"2020-12-11T00:00:00\",\"2020-12-11T00:00:00\",\"2020-12-11T00:00:00\",\"2020-12-11T00:00:00\",\"2020-12-11T00:00:00\",\"2020-12-11T00:00:00\",\"2020-12-11T00:00:00\",\"2020-12-11T00:00:00\",\"2020-12-11T00:00:00\",\"2020-12-11T00:00:00\",\"2020-12-11T00:00:00\",\"2020-12-11T00:00:00\",\"2020-12-11T00:00:00\",\"2020-12-11T00:00:00\",\"2020-12-11T00:00:00\",\"2020-12-11T00:00:00\",\"2020-12-11T00:00:00\",\"2020-12-11T00:00:00\",\"2020-12-11T00:00:00\",\"2020-12-11T00:00:00\",\"2020-12-11T00:00:00\",\"2020-12-11T00:00:00\",\"2020-12-11T00:00:00\",\"2020-12-11T00:00:00\",\"2020-12-11T00:00:00\",\"2020-12-11T00:00:00\",\"2020-12-11T00:00:00\",\"2020-12-11T00:00:00\",\"2020-12-11T00:00:00\",\"2020-12-11T00:00:00\",\"2020-12-11T00:00:00\",\"2020-12-11T00:00:00\",\"2020-12-11T00:00:00\",\"2020-12-11T00:00:00\",\"2020-12-11T00:00:00\",\"2020-12-11T00:00:00\",\"2020-12-11T00:00:00\",\"2020-12-11T00:00:00\",\"2020-12-11T00:00:00\",\"2020-12-11T00:00:00\",\"2020-12-11T00:00:00\",\"2020-12-11T00:00:00\",\"2020-12-11T00:00:00\",\"2020-12-11T00:00:00\",\"2020-12-11T00:00:00\",\"2020-12-11T00:00:00\",\"2020-12-11T00:00:00\",\"2020-12-11T00:00:00\",\"2020-12-11T00:00:00\",\"2020-12-11T00:00:00\",\"2020-12-11T00:00:00\",\"2020-12-11T00:00:00\",\"2020-12-11T00:00:00\",\"2020-12-11T00:00:00\",\"2020-12-11T00:00:00\",\"2020-12-11T00:00:00\",\"2020-12-11T00:00:00\",\"2020-12-11T00:00:00\",\"2020-12-11T00:00:00\",\"2020-12-11T00:00:00\",\"2020-12-11T00:00:00\",\"2020-12-11T00:00:00\",\"2020-12-11T00:00:00\",\"2020-12-11T00:00:00\",\"2020-12-11T00:00:00\",\"2020-12-11T00:00:00\",\"2020-12-11T00:00:00\",\"2020-12-11T00:00:00\",\"2020-12-11T00:00:00\",\"2020-12-11T00:00:00\",\"2020-12-11T00:00:00\",\"2020-12-11T00:00:00\",\"2020-12-11T00:00:00\",\"2020-12-11T00:00:00\",\"2020-12-11T00:00:00\",\"2020-12-11T00:00:00\",\"2020-12-11T00:00:00\",\"2020-12-11T00:00:00\",\"2020-12-11T00:00:00\",\"2020-12-11T00:00:00\",\"2020-12-11T00:00:00\",\"2020-12-18T00:00:00\",\"2020-12-18T00:00:00\",\"2020-12-18T00:00:00\",\"2020-12-18T00:00:00\",\"2020-12-18T00:00:00\",\"2020-12-18T00:00:00\",\"2020-12-18T00:00:00\",\"2020-12-18T00:00:00\",\"2020-12-18T00:00:00\",\"2020-12-18T00:00:00\",\"2020-12-18T00:00:00\",\"2020-12-18T00:00:00\",\"2020-12-18T00:00:00\",\"2020-12-18T00:00:00\",\"2020-12-18T00:00:00\",\"2020-12-18T00:00:00\",\"2020-12-18T00:00:00\",\"2020-12-18T00:00:00\",\"2020-12-18T00:00:00\",\"2020-12-18T00:00:00\",\"2020-12-18T00:00:00\",\"2020-12-18T00:00:00\",\"2020-12-18T00:00:00\",\"2020-12-18T00:00:00\",\"2020-12-18T00:00:00\",\"2020-12-18T00:00:00\",\"2020-12-18T00:00:00\",\"2020-12-18T00:00:00\",\"2020-12-18T00:00:00\",\"2020-12-18T00:00:00\",\"2020-12-18T00:00:00\",\"2020-12-18T00:00:00\",\"2020-12-18T00:00:00\",\"2020-12-18T00:00:00\",\"2020-12-18T00:00:00\",\"2020-12-18T00:00:00\",\"2020-12-18T00:00:00\",\"2020-12-18T00:00:00\",\"2020-12-18T00:00:00\",\"2020-12-18T00:00:00\",\"2020-12-18T00:00:00\",\"2020-12-18T00:00:00\",\"2020-12-18T00:00:00\",\"2020-12-18T00:00:00\",\"2020-12-18T00:00:00\",\"2020-12-18T00:00:00\",\"2020-12-18T00:00:00\",\"2020-12-18T00:00:00\",\"2020-12-18T00:00:00\",\"2020-12-18T00:00:00\",\"2020-12-18T00:00:00\",\"2020-12-18T00:00:00\",\"2020-12-18T00:00:00\",\"2020-12-18T00:00:00\",\"2020-12-18T00:00:00\",\"2020-12-18T00:00:00\",\"2020-12-18T00:00:00\",\"2020-12-18T00:00:00\",\"2020-12-18T00:00:00\",\"2020-12-18T00:00:00\",\"2020-12-18T00:00:00\",\"2020-12-18T00:00:00\",\"2020-12-18T00:00:00\",\"2020-12-18T00:00:00\",\"2020-12-18T00:00:00\",\"2020-12-18T00:00:00\",\"2020-12-18T00:00:00\",\"2020-12-18T00:00:00\",\"2020-12-18T00:00:00\",\"2020-12-18T00:00:00\",\"2020-12-18T00:00:00\",\"2020-12-18T00:00:00\",\"2020-12-18T00:00:00\",\"2020-12-18T00:00:00\",\"2020-12-18T00:00:00\",\"2020-12-18T00:00:00\",\"2020-12-18T00:00:00\",\"2020-12-18T00:00:00\",\"2020-12-18T00:00:00\",\"2020-12-18T00:00:00\",\"2020-12-18T00:00:00\",\"2020-12-18T00:00:00\",\"2020-12-18T00:00:00\",\"2020-12-18T00:00:00\",\"2020-12-18T00:00:00\",\"2020-12-18T00:00:00\",\"2020-12-18T00:00:00\",\"2020-12-18T00:00:00\",\"2020-12-18T00:00:00\",\"2020-12-18T00:00:00\",\"2020-12-18T00:00:00\",\"2020-12-18T00:00:00\",\"2020-12-18T00:00:00\",\"2020-12-18T00:00:00\",\"2020-12-18T00:00:00\",\"2020-12-18T00:00:00\",\"2020-12-18T00:00:00\",\"2020-12-18T00:00:00\",\"2020-12-18T00:00:00\",\"2020-12-18T00:00:00\",\"2020-12-18T00:00:00\",\"2020-12-18T00:00:00\",\"2020-12-18T00:00:00\",\"2020-12-18T00:00:00\",\"2020-12-18T00:00:00\",\"2020-12-18T00:00:00\",\"2020-12-18T00:00:00\",\"2020-12-18T00:00:00\",\"2020-12-18T00:00:00\",\"2020-12-18T00:00:00\",\"2020-12-18T00:00:00\",\"2020-12-18T00:00:00\",\"2020-12-18T00:00:00\",\"2020-12-18T00:00:00\",\"2020-12-18T00:00:00\",\"2020-12-18T00:00:00\",\"2020-12-18T00:00:00\",\"2020-12-18T00:00:00\",\"2020-12-18T00:00:00\",\"2020-12-18T00:00:00\",\"2020-12-18T00:00:00\",\"2020-12-18T00:00:00\",\"2020-12-18T00:00:00\",\"2020-12-18T00:00:00\",\"2020-12-18T00:00:00\",\"2020-12-18T00:00:00\",\"2020-12-18T00:00:00\",\"2020-12-18T00:00:00\",\"2020-12-18T00:00:00\",\"2020-12-18T00:00:00\",\"2020-12-18T00:00:00\",\"2020-12-18T00:00:00\",\"2020-12-18T00:00:00\",\"2020-12-18T00:00:00\",\"2020-12-18T00:00:00\",\"2020-12-18T00:00:00\",\"2020-12-18T00:00:00\",\"2020-12-18T00:00:00\",\"2020-12-18T00:00:00\",\"2020-12-18T00:00:00\",\"2020-12-18T00:00:00\",\"2020-12-18T00:00:00\",\"2020-12-18T00:00:00\",\"2020-12-18T00:00:00\",\"2020-12-18T00:00:00\",\"2020-12-18T00:00:00\",\"2020-12-18T00:00:00\",\"2020-12-18T00:00:00\",\"2020-12-18T00:00:00\",\"2020-12-18T00:00:00\",\"2020-12-18T00:00:00\",\"2020-12-18T00:00:00\",\"2020-12-18T00:00:00\",\"2020-12-18T00:00:00\",\"2020-12-18T00:00:00\",\"2020-12-18T00:00:00\",\"2020-12-18T00:00:00\",\"2020-12-18T00:00:00\",\"2020-12-18T00:00:00\",\"2020-12-18T00:00:00\",\"2020-12-18T00:00:00\",\"2020-12-18T00:00:00\",\"2020-12-18T00:00:00\",\"2020-12-18T00:00:00\",\"2020-12-18T00:00:00\",\"2020-12-18T00:00:00\",\"2020-12-18T00:00:00\",\"2020-12-18T00:00:00\",\"2020-12-18T00:00:00\",\"2020-12-18T00:00:00\",\"2020-12-18T00:00:00\",\"2020-12-18T00:00:00\",\"2020-12-18T00:00:00\",\"2020-12-18T00:00:00\",\"2020-12-18T00:00:00\",\"2020-12-18T00:00:00\",\"2020-12-18T00:00:00\",\"2020-12-18T00:00:00\",\"2020-12-18T00:00:00\",\"2020-12-18T00:00:00\",\"2020-12-18T00:00:00\",\"2020-12-18T00:00:00\",\"2020-12-18T00:00:00\",\"2020-12-18T00:00:00\",\"2020-12-18T00:00:00\",\"2020-12-18T00:00:00\",\"2020-12-18T00:00:00\",\"2020-12-18T00:00:00\",\"2020-12-12T00:00:00\",\"2020-12-12T00:00:00\",\"2020-12-12T00:00:00\",\"2020-12-12T00:00:00\",\"2020-12-12T00:00:00\",\"2020-12-12T00:00:00\",\"2020-12-12T00:00:00\",\"2020-12-12T00:00:00\",\"2020-12-12T00:00:00\",\"2020-12-12T00:00:00\",\"2020-12-12T00:00:00\",\"2020-12-12T00:00:00\",\"2020-12-12T00:00:00\",\"2020-12-12T00:00:00\",\"2020-12-12T00:00:00\",\"2020-12-12T00:00:00\",\"2020-12-12T00:00:00\",\"2020-12-12T00:00:00\",\"2020-12-12T00:00:00\",\"2020-12-12T00:00:00\",\"2020-12-12T00:00:00\",\"2020-12-12T00:00:00\",\"2020-12-12T00:00:00\",\"2020-12-12T00:00:00\",\"2020-12-12T00:00:00\",\"2020-12-12T00:00:00\",\"2020-12-12T00:00:00\",\"2020-12-12T00:00:00\",\"2020-12-12T00:00:00\",\"2020-12-12T00:00:00\",\"2020-12-12T00:00:00\",\"2020-12-12T00:00:00\",\"2020-12-12T00:00:00\",\"2020-12-12T00:00:00\",\"2020-12-12T00:00:00\",\"2020-12-12T00:00:00\",\"2020-12-12T00:00:00\",\"2020-12-12T00:00:00\",\"2020-12-12T00:00:00\",\"2020-12-12T00:00:00\",\"2020-12-12T00:00:00\",\"2020-12-12T00:00:00\",\"2020-12-12T00:00:00\",\"2020-12-12T00:00:00\",\"2020-12-12T00:00:00\",\"2020-12-12T00:00:00\",\"2020-12-12T00:00:00\",\"2020-12-12T00:00:00\",\"2020-12-12T00:00:00\",\"2020-12-12T00:00:00\",\"2020-12-12T00:00:00\",\"2020-12-12T00:00:00\",\"2020-12-12T00:00:00\",\"2020-12-12T00:00:00\",\"2020-12-12T00:00:00\",\"2020-12-12T00:00:00\",\"2020-12-12T00:00:00\",\"2020-12-19T00:00:00\",\"2020-12-19T00:00:00\",\"2020-12-19T00:00:00\",\"2020-12-19T00:00:00\",\"2020-12-19T00:00:00\",\"2020-12-19T00:00:00\",\"2020-12-19T00:00:00\",\"2020-12-19T00:00:00\",\"2020-12-19T00:00:00\",\"2020-12-19T00:00:00\",\"2020-12-19T00:00:00\",\"2020-12-19T00:00:00\",\"2020-12-19T00:00:00\",\"2020-12-19T00:00:00\",\"2020-12-19T00:00:00\",\"2020-12-19T00:00:00\",\"2020-12-19T00:00:00\",\"2020-12-19T00:00:00\",\"2020-12-19T00:00:00\",\"2020-12-19T00:00:00\",\"2020-12-19T00:00:00\",\"2020-12-19T00:00:00\",\"2020-12-19T00:00:00\",\"2020-12-19T00:00:00\",\"2020-12-19T00:00:00\",\"2020-12-19T00:00:00\",\"2020-12-19T00:00:00\",\"2020-12-19T00:00:00\",\"2020-12-19T00:00:00\",\"2020-12-19T00:00:00\",\"2020-12-19T00:00:00\",\"2020-12-19T00:00:00\",\"2020-12-19T00:00:00\",\"2020-12-19T00:00:00\",\"2020-12-19T00:00:00\",\"2020-12-19T00:00:00\",\"2020-12-19T00:00:00\",\"2020-12-19T00:00:00\",\"2020-12-19T00:00:00\",\"2020-12-19T00:00:00\",\"2020-12-19T00:00:00\",\"2020-12-19T00:00:00\",\"2020-12-19T00:00:00\",\"2020-12-19T00:00:00\",\"2020-12-19T00:00:00\",\"2020-12-19T00:00:00\",\"2020-12-19T00:00:00\",\"2020-12-19T00:00:00\",\"2020-12-19T00:00:00\",\"2020-12-19T00:00:00\",\"2020-12-19T00:00:00\",\"2020-12-19T00:00:00\",\"2020-12-19T00:00:00\",\"2020-12-19T00:00:00\",\"2020-12-19T00:00:00\",\"2020-12-19T00:00:00\",\"2020-12-19T00:00:00\",\"2020-12-19T00:00:00\",\"2020-12-19T00:00:00\",\"2020-12-19T00:00:00\",\"2020-12-19T00:00:00\",\"2020-12-19T00:00:00\",\"2020-12-19T00:00:00\",\"2020-12-19T00:00:00\",\"2020-12-19T00:00:00\",\"2020-12-19T00:00:00\",\"2020-12-19T00:00:00\",\"2020-12-19T00:00:00\",\"2020-12-19T00:00:00\",\"2020-12-19T00:00:00\",\"2020-12-19T00:00:00\",\"2020-12-19T00:00:00\",\"2020-12-19T00:00:00\",\"2020-12-19T00:00:00\",\"2020-12-19T00:00:00\",\"2020-12-19T00:00:00\",\"2020-12-19T00:00:00\",\"2020-12-19T00:00:00\",\"2020-12-19T00:00:00\",\"2020-12-19T00:00:00\",\"2020-12-19T00:00:00\",\"2020-12-19T00:00:00\",\"2020-12-19T00:00:00\",\"2020-12-19T00:00:00\",\"2020-12-19T00:00:00\",\"2020-12-19T00:00:00\",\"2020-12-19T00:00:00\",\"2020-12-19T00:00:00\",\"2020-12-19T00:00:00\",\"2020-12-19T00:00:00\",\"2020-12-19T00:00:00\",\"2020-12-19T00:00:00\",\"2020-12-19T00:00:00\",\"2020-12-19T00:00:00\",\"2020-12-19T00:00:00\",\"2020-12-19T00:00:00\",\"2020-12-19T00:00:00\",\"2020-12-19T00:00:00\",\"2020-12-19T00:00:00\",\"2020-12-19T00:00:00\",\"2020-12-19T00:00:00\",\"2020-12-19T00:00:00\",\"2020-12-19T00:00:00\",\"2020-12-19T00:00:00\",\"2020-12-19T00:00:00\",\"2020-12-19T00:00:00\",\"2020-12-19T00:00:00\",\"2020-12-19T00:00:00\",\"2020-12-19T00:00:00\",\"2020-12-19T00:00:00\",\"2020-12-19T00:00:00\",\"2020-12-19T00:00:00\",\"2020-12-19T00:00:00\",\"2020-12-19T00:00:00\",\"2020-12-19T00:00:00\",\"2020-12-19T00:00:00\",\"2020-12-19T00:00:00\",\"2020-12-19T00:00:00\",\"2020-12-19T00:00:00\",\"2020-12-19T00:00:00\",\"2020-12-19T00:00:00\",\"2020-12-19T00:00:00\",\"2020-12-19T00:00:00\",\"2020-12-19T00:00:00\",\"2020-12-19T00:00:00\",\"2020-12-19T00:00:00\",\"2020-12-19T00:00:00\",\"2020-12-19T00:00:00\",\"2020-12-19T00:00:00\",\"2020-12-19T00:00:00\",\"2020-12-19T00:00:00\",\"2020-12-19T00:00:00\",\"2020-12-19T00:00:00\",\"2020-12-19T00:00:00\",\"2020-12-19T00:00:00\",\"2020-12-19T00:00:00\",\"2020-12-19T00:00:00\",\"2020-12-19T00:00:00\",\"2020-12-19T00:00:00\",\"2020-12-19T00:00:00\",\"2020-12-19T00:00:00\",\"2020-12-19T00:00:00\",\"2020-12-19T00:00:00\",\"2020-12-19T00:00:00\",\"2020-12-19T00:00:00\",\"2020-12-19T00:00:00\",\"2020-12-19T00:00:00\",\"2020-12-19T00:00:00\",\"2020-12-19T00:00:00\",\"2020-12-19T00:00:00\",\"2020-12-19T00:00:00\",\"2020-12-19T00:00:00\",\"2020-12-19T00:00:00\",\"2020-12-19T00:00:00\",\"2020-12-19T00:00:00\",\"2020-12-19T00:00:00\",\"2020-12-19T00:00:00\",\"2020-12-19T00:00:00\",\"2020-12-19T00:00:00\",\"2020-12-19T00:00:00\",\"2020-12-19T00:00:00\",\"2020-12-19T00:00:00\",\"2020-12-19T00:00:00\",\"2020-12-19T00:00:00\",\"2020-12-19T00:00:00\",\"2020-12-19T00:00:00\",\"2020-12-19T00:00:00\",\"2020-12-19T00:00:00\",\"2020-12-19T00:00:00\",\"2020-12-19T00:00:00\",\"2020-12-19T00:00:00\",\"2020-12-19T00:00:00\",\"2020-12-19T00:00:00\",\"2020-12-19T00:00:00\",\"2020-12-19T00:00:00\",\"2020-12-19T00:00:00\",\"2020-12-19T00:00:00\",\"2020-12-19T00:00:00\",\"2020-12-19T00:00:00\",\"2020-12-19T00:00:00\",\"2020-12-19T00:00:00\",\"2020-12-19T00:00:00\",\"2020-12-19T00:00:00\",\"2020-12-19T00:00:00\",\"2020-12-19T00:00:00\",\"2020-12-19T00:00:00\",\"2020-12-19T00:00:00\",\"2020-12-19T00:00:00\",\"2020-12-19T00:00:00\",\"2020-12-19T00:00:00\",\"2020-12-19T00:00:00\",\"2020-12-19T00:00:00\",\"2020-12-19T00:00:00\",\"2020-12-19T00:00:00\",\"2020-12-19T00:00:00\",\"2020-12-19T00:00:00\",\"2020-12-19T00:00:00\",\"2020-12-19T00:00:00\",\"2020-12-19T00:00:00\",\"2020-12-19T00:00:00\",\"2020-12-19T00:00:00\",\"2020-12-19T00:00:00\",\"2020-12-19T00:00:00\",\"2020-12-19T00:00:00\",\"2020-12-19T00:00:00\",\"2020-12-19T00:00:00\",\"2020-12-19T00:00:00\",\"2020-12-19T00:00:00\",\"2020-12-19T00:00:00\",\"2020-12-19T00:00:00\",\"2020-12-19T00:00:00\",\"2020-12-19T00:00:00\",\"2020-12-19T00:00:00\",\"2020-12-19T00:00:00\",\"2020-12-19T00:00:00\",\"2020-12-19T00:00:00\",\"2020-12-19T00:00:00\",\"2020-12-13T00:00:00\",\"2020-12-13T00:00:00\",\"2020-12-13T00:00:00\",\"2020-12-13T00:00:00\",\"2020-12-13T00:00:00\",\"2020-12-13T00:00:00\",\"2020-12-13T00:00:00\",\"2020-12-13T00:00:00\",\"2020-12-13T00:00:00\",\"2020-12-13T00:00:00\",\"2020-12-13T00:00:00\",\"2020-12-13T00:00:00\",\"2020-12-13T00:00:00\",\"2020-12-13T00:00:00\",\"2020-12-13T00:00:00\",\"2020-12-13T00:00:00\",\"2020-12-13T00:00:00\",\"2020-12-13T00:00:00\",\"2020-12-13T00:00:00\",\"2020-12-13T00:00:00\",\"2020-12-13T00:00:00\",\"2020-12-13T00:00:00\",\"2020-12-13T00:00:00\",\"2020-12-13T00:00:00\",\"2020-12-13T00:00:00\",\"2020-12-13T00:00:00\",\"2020-12-13T00:00:00\",\"2020-12-13T00:00:00\",\"2020-12-13T00:00:00\",\"2020-12-13T00:00:00\",\"2020-12-13T00:00:00\",\"2020-12-13T00:00:00\",\"2020-12-13T00:00:00\",\"2020-12-13T00:00:00\",\"2020-12-13T00:00:00\",\"2020-12-13T00:00:00\",\"2020-12-13T00:00:00\",\"2020-12-13T00:00:00\",\"2020-12-13T00:00:00\",\"2020-12-13T00:00:00\",\"2020-12-13T00:00:00\",\"2020-12-13T00:00:00\",\"2020-12-13T00:00:00\",\"2020-12-13T00:00:00\",\"2020-12-13T00:00:00\",\"2020-12-13T00:00:00\",\"2020-12-13T00:00:00\",\"2020-12-13T00:00:00\",\"2020-12-13T00:00:00\",\"2020-12-20T00:00:00\",\"2020-12-20T00:00:00\",\"2020-12-20T00:00:00\",\"2020-12-20T00:00:00\",\"2020-12-20T00:00:00\",\"2020-12-20T00:00:00\",\"2020-12-20T00:00:00\",\"2020-12-20T00:00:00\",\"2020-12-20T00:00:00\",\"2020-12-20T00:00:00\",\"2020-12-20T00:00:00\",\"2020-12-20T00:00:00\",\"2020-12-20T00:00:00\",\"2020-12-20T00:00:00\",\"2020-12-20T00:00:00\",\"2020-12-20T00:00:00\",\"2020-12-20T00:00:00\",\"2020-12-20T00:00:00\",\"2020-12-20T00:00:00\",\"2020-12-20T00:00:00\",\"2020-12-20T00:00:00\",\"2020-12-20T00:00:00\",\"2020-12-20T00:00:00\",\"2020-12-20T00:00:00\",\"2020-12-20T00:00:00\",\"2020-12-20T00:00:00\",\"2020-12-20T00:00:00\",\"2020-12-20T00:00:00\",\"2020-12-20T00:00:00\",\"2020-12-20T00:00:00\",\"2020-12-20T00:00:00\",\"2020-12-20T00:00:00\",\"2020-12-20T00:00:00\",\"2020-12-20T00:00:00\",\"2020-12-20T00:00:00\",\"2020-12-20T00:00:00\",\"2020-12-20T00:00:00\",\"2020-12-20T00:00:00\",\"2020-12-20T00:00:00\",\"2020-12-20T00:00:00\",\"2020-12-20T00:00:00\",\"2020-12-20T00:00:00\",\"2020-12-20T00:00:00\",\"2020-12-20T00:00:00\",\"2020-12-20T00:00:00\",\"2020-12-20T00:00:00\",\"2020-12-20T00:00:00\",\"2020-12-20T00:00:00\",\"2020-12-20T00:00:00\",\"2020-12-20T00:00:00\",\"2020-12-20T00:00:00\",\"2020-12-20T00:00:00\",\"2020-12-20T00:00:00\",\"2020-12-20T00:00:00\",\"2020-12-20T00:00:00\",\"2020-12-20T00:00:00\",\"2020-12-20T00:00:00\",\"2020-12-20T00:00:00\",\"2020-12-20T00:00:00\",\"2020-12-20T00:00:00\",\"2020-12-20T00:00:00\",\"2020-12-20T00:00:00\",\"2020-12-20T00:00:00\",\"2020-12-20T00:00:00\",\"2020-12-20T00:00:00\",\"2020-12-20T00:00:00\",\"2020-12-20T00:00:00\",\"2020-12-20T00:00:00\",\"2020-12-20T00:00:00\",\"2020-12-20T00:00:00\",\"2020-12-20T00:00:00\",\"2020-12-20T00:00:00\",\"2020-12-20T00:00:00\",\"2020-12-20T00:00:00\",\"2020-12-20T00:00:00\",\"2020-12-20T00:00:00\",\"2020-12-20T00:00:00\",\"2020-12-20T00:00:00\",\"2020-12-20T00:00:00\",\"2020-12-20T00:00:00\",\"2020-12-20T00:00:00\",\"2020-12-20T00:00:00\",\"2020-12-20T00:00:00\",\"2020-12-20T00:00:00\",\"2020-12-20T00:00:00\",\"2020-12-20T00:00:00\",\"2020-12-20T00:00:00\",\"2020-12-20T00:00:00\",\"2020-12-20T00:00:00\",\"2020-12-20T00:00:00\",\"2020-12-20T00:00:00\",\"2020-12-20T00:00:00\",\"2020-12-20T00:00:00\",\"2020-12-20T00:00:00\",\"2020-12-20T00:00:00\",\"2020-12-20T00:00:00\",\"2020-12-20T00:00:00\",\"2020-12-20T00:00:00\",\"2020-12-20T00:00:00\",\"2020-12-20T00:00:00\",\"2020-12-20T00:00:00\",\"2020-12-20T00:00:00\",\"2020-12-20T00:00:00\",\"2020-12-20T00:00:00\",\"2020-12-20T00:00:00\",\"2020-12-20T00:00:00\",\"2020-12-20T00:00:00\",\"2020-12-20T00:00:00\",\"2020-12-20T00:00:00\",\"2020-12-20T00:00:00\",\"2020-12-20T00:00:00\",\"2020-12-20T00:00:00\",\"2020-12-20T00:00:00\",\"2020-12-20T00:00:00\",\"2020-12-20T00:00:00\",\"2020-12-20T00:00:00\",\"2020-12-20T00:00:00\",\"2020-12-20T00:00:00\",\"2020-12-20T00:00:00\",\"2020-12-20T00:00:00\",\"2020-12-20T00:00:00\",\"2020-12-20T00:00:00\",\"2020-12-20T00:00:00\",\"2020-12-20T00:00:00\",\"2020-12-20T00:00:00\",\"2020-12-20T00:00:00\",\"2020-12-20T00:00:00\",\"2020-12-20T00:00:00\",\"2020-12-20T00:00:00\",\"2020-12-20T00:00:00\",\"2020-12-20T00:00:00\",\"2020-12-20T00:00:00\",\"2020-12-20T00:00:00\",\"2020-12-20T00:00:00\",\"2020-12-20T00:00:00\",\"2020-12-20T00:00:00\",\"2020-12-20T00:00:00\",\"2020-12-20T00:00:00\",\"2020-12-20T00:00:00\",\"2020-12-20T00:00:00\",\"2020-12-20T00:00:00\",\"2020-12-20T00:00:00\",\"2020-12-20T00:00:00\",\"2020-12-20T00:00:00\",\"2020-12-20T00:00:00\",\"2020-12-20T00:00:00\",\"2020-12-20T00:00:00\",\"2020-12-20T00:00:00\",\"2020-12-20T00:00:00\",\"2020-12-20T00:00:00\",\"2020-12-20T00:00:00\",\"2020-12-20T00:00:00\",\"2020-12-20T00:00:00\",\"2020-12-20T00:00:00\",\"2020-12-20T00:00:00\",\"2020-12-20T00:00:00\",\"2020-12-20T00:00:00\",\"2020-12-20T00:00:00\",\"2020-12-20T00:00:00\",\"2020-12-20T00:00:00\",\"2020-12-20T00:00:00\",\"2020-12-20T00:00:00\",\"2020-12-20T00:00:00\",\"2020-12-20T00:00:00\",\"2020-12-20T00:00:00\",\"2020-12-20T00:00:00\",\"2020-12-20T00:00:00\",\"2020-12-20T00:00:00\",\"2020-12-20T00:00:00\",\"2020-12-20T00:00:00\",\"2020-12-20T00:00:00\",\"2020-12-20T00:00:00\",\"2020-12-20T00:00:00\",\"2020-12-20T00:00:00\",\"2020-12-20T00:00:00\",\"2020-12-20T00:00:00\",\"2020-12-20T00:00:00\",\"2020-12-20T00:00:00\",\"2020-12-20T00:00:00\",\"2020-12-20T00:00:00\",\"2020-12-20T00:00:00\",\"2020-12-20T00:00:00\",\"2020-12-20T00:00:00\",\"2020-12-20T00:00:00\",\"2020-12-20T00:00:00\",\"2020-12-20T00:00:00\",\"2020-12-20T00:00:00\",\"2020-12-20T00:00:00\",\"2020-12-20T00:00:00\",\"2020-12-20T00:00:00\",\"2020-12-20T00:00:00\",\"2020-12-20T00:00:00\",\"2020-12-20T00:00:00\",\"2020-12-20T00:00:00\",\"2020-12-20T00:00:00\",\"2020-12-20T00:00:00\",\"2020-12-20T00:00:00\",\"2020-12-20T00:00:00\",\"2020-12-20T00:00:00\",\"2020-12-20T00:00:00\",\"2020-12-20T00:00:00\",\"2020-12-20T00:00:00\",\"2020-12-20T00:00:00\",\"2020-12-20T00:00:00\",\"2020-12-20T00:00:00\",\"2020-12-20T00:00:00\",\"2020-12-20T00:00:00\",\"2020-12-20T00:00:00\",\"2020-12-20T00:00:00\",\"2020-12-20T00:00:00\",\"2020-12-20T00:00:00\",\"2020-12-20T00:00:00\",\"2020-12-20T00:00:00\",\"2020-12-20T00:00:00\",\"2020-12-20T00:00:00\",\"2020-12-20T00:00:00\",\"2020-12-20T00:00:00\",\"2020-12-20T00:00:00\",\"2020-12-20T00:00:00\",\"2020-12-20T00:00:00\",\"2020-12-20T00:00:00\",\"2020-12-20T00:00:00\",\"2020-12-20T00:00:00\",\"2020-12-20T00:00:00\",\"2020-12-20T00:00:00\",\"2020-12-20T00:00:00\",\"2020-12-20T00:00:00\",\"2020-12-20T00:00:00\",\"2020-12-20T00:00:00\",\"2020-12-20T00:00:00\",\"2020-12-20T00:00:00\",\"2020-12-20T00:00:00\",\"2020-12-20T00:00:00\",\"2020-12-20T00:00:00\",\"2020-12-20T00:00:00\",\"2020-12-20T00:00:00\",\"2020-12-20T00:00:00\",\"2020-12-20T00:00:00\",\"2020-12-20T00:00:00\",\"2020-12-20T00:00:00\",\"2020-12-20T00:00:00\",\"2020-12-20T00:00:00\",\"2020-12-20T00:00:00\",\"2020-12-20T00:00:00\",\"2020-12-20T00:00:00\",\"2020-12-20T00:00:00\",\"2020-12-20T00:00:00\",\"2020-12-20T00:00:00\"],\"xaxis\":\"x\",\"y\":[\"D72A72121175D8BE\",\"831887FE7F2D6CBA\",\"3C5DD0288AC4FE23\",\"B27F5380AF0936D3\",\"ABABE1BAB6C77540\",\"23B71FAAF4A89964\",\"2B06EB547B7AAD08\",\"BE0352414C31EDE4\",\"5D93D429975AAA1D\",\"538F954F6B3AECE4\",\"CE771EFC59ED44A5\",\"9A6CE800C60794BD\",\"135F6688A1DC637B\",\"800AF45A68291849\",\"633CB6082D5FF13A\",\"B3E321BBB0EB332B\",\"1B19866D07353640\",\"83AB3C13B3972BAE\",\"1A02F6E467DB81E3\",\"80313F5B33116510\",\"368501F66CFDEBFE\",\"DD5EBF41B1DCCB0E\",\"ECFDC55465F7ED03\",\"A1550AF89E314963\",\"2FCC7F12CF1CE227\",\"796235FF6E88D357\",\"A3B863B926C50A29\",\"595F328B3910346D\",\"13A5CE600AB1EA8A\",\"D6A7F15A98C4FF86\",\"68F7B81C31BCD5EF\",\"EE90C1C80B415747\",\"F5B7DA8807EC1AF7\",\"5E9E9A756522A453\",\"7A5A2E9D57A39232\",\"6F76F492BDB91570\",\"2626A4773033458D\",\"A59E02D110041638\",\"EE10369BB79D6352\",\"C59B1E478A22FBE9\",\"77FC0E20AEAC1506\",\"DFA630F93B5685D3\",\"618D7AD9FE73843C\",\"021E3EC8A37EE2E3\",\"A348429F143159AD\",\"F36F4FC5A884C3DA\",\"F08E0A115537BBBB\",\"FA98254969FF4762\",\"815A6F15B943B0A3\",\"C9CC41E49C5C4917\",\"3B3AE26404B64EF2\",\"AAF83E489AE98FA9\",\"531A12DB5C85089A\",\"B4BAC8172F358933\",\"C48D82CC09586152\",\"3E76EBF712971549\",\"2486564D8219E23F\",\"BA4C35CA818D950F\",\"0F6573B9431935D2\",\"3ECD3275C575C3CE\",\"6AD62747E7232427\",\"127DA1103176E88E\",\"CFB189D220054DC2\",\"FF40F25452E70E3D\",\"B192F2514CCD10B2\",\"D624C9013C372DCC\",\"9709EF8B153900FF\",\"F89DE21913485212\",\"42927355A29BF1FE\",\"C1C40523FEE87B01\",\"F561D76FF3C35292\",\"EA62EC33715AE967\",\"A12886FD7DA592AF\",\"84159F74BE9D798D\",\"93F09E34600A9FC9\",\"5506A0943960B58F\",\"1EB1C8E41C1DD5EE\",\"702566DE3898CB6C\",\"4B60670F850D5024\",\"11B7A37DCAA15E12\",\"20996AEF74602821\",\"6E3E5F88B6A3B401\",\"91C6167576DAB613\",\"D588F6281B467D9D\",\"61AA89431638019E\",\"2D231F946B5F8828\",\"542FE442CF2BDA4B\",\"507055565BFD6E97\",\"1356A5C3AEAF5D55\",\"29E363A86ABC3E05\",\"3BA458C3A704EA03\",\"BB7E54F566F3591B\",\"8AE7EBC9CA45EEB7\",\"47DEBC099D7E9A00\",\"E25A289CC240A27A\",\"95A9423B37553B4B\",\"D96241A1394BBE51\",\"7C1D449DDD36DB83\",\"7415696C510E38FB\",\"FE9B25977A8537C2\",\"A9C96F18EA2D7255\",\"BC80B15B50733DFD\",\"90192F1A66D5A0AE\",\"57150D3838DE301A\",\"3341349F0FD06C14\",\"963B1853B52C27E5\",\"51B92F2AE684079A\",\"DC16020AF1E1177B\",\"0F1FF07B3788976D\",\"ACFD5D445985AE60\",\"EB156C43F246B54D\",\"DBCA5313FEE8A3B9\",\"FF120D67C4BE2DA3\",\"5A8697B441AAEE78\",\"EC55B8954BD4E1B9\",\"2775B9A97488A3BF\",\"8D6F24423F70A84E\",\"06D2B163CB560FAC\",\"6D399D5D2832CD40\",\"4A337CA11225C938\",\"A3FE6D821476E810\",\"53638472C31218BA\",\"EE952F59080E2AF6\",\"A0BAE4190D41A285\",\"111E0B8A76E90532\",\"28DD2C1ED759904D\",\"8DC451FDE0E14B8C\",\"1D0FCBD767EE0874\",\"0D8941E6DC625B26\",\"8C711C385D747C84\",\"BEBCA15901CCE162\",\"F4F0EBA22BD734B4\",\"D1ABA3E2887B6A73\",\"881F7B823931F59F\",\"08E17E11A2BD8CF9\",\"5C909C0F25ACD34E\",\"833B123682A99117\",\"FEE93E9CF4315356\",\"0DD2E54D87CFD4A4\",\"F00943852845FE90\",\"59BA4B15D73A2A6C\",\"6022892C8C3CE8EC\",\"80712ED4EA1B52A5\",\"D95E3615ECF90B13\",\"3E1D3CDD66667B03\",\"21C2D41E1FDF1E70\",\"39393B197D7743EB\",\"C85E950BF91A1324\",\"9E998436EB671A59\",\"6C5D103974D3A657\",\"1E374021A8255C57\",\"B0B3A724D085010F\",\"84F840D269A65875\",\"27A022AF605E0304\",\"F9A2A08D6E799EF6\",\"E2F981AE3D6A2CE8\",\"0E5A296E314DE864\",\"94786EB776B45914\",\"73D9C981F58F142C\",\"470E46CE1F6D82FA\",\"9F7BA4BA8A1C2563\",\"12296270AAFCB36A\",\"CBAA86C0B582676A\",\"18AA3742304D86C9\",\"09B88E6FFE331C1B\",\"5FF25CF26591D1FD\",\"4F26C1C82B9EA0B5\",\"49117FDB7FCCFA5A\",\"4166E36C0D88C254\",\"BBBFC0C64CC3C05D\",\"24BE89E87E2368BF\",\"9079CE7493917E0F\",\"68AF1584357D955D\",\"313EDFD0B02DB143\",\"3696730499117673\",\"8C0361CB080810CA\",\"B6E20708499C49D5\",\"CA716ADC629C673C\",\"3B5DA3B15E2FCD54\",\"9FBB46EF36C35FD3\",\"9E537FA089BAECFE\",\"CB1E4D64B4086DEC\",\"11A1350D1F8AD059\",\"468A90E95D36CADB\",\"552851CDDE3850A8\",\"D0533ECF2A67B35C\",\"D275276F3490096F\",\"7E26530508267F69\",\"F3DC3AE3D18F860F\",\"3B3DADB4D7934796\",\"9E3E00BF98B46C0A\",\"74E202D932BC6836\",\"FF2174A1AA0EAD20\",\"4E5468B5BBE458DE\",\"A5C73A9B0E44E70F\",\"CD2093CEF3BC0554\",\"CB5B3FD226CC2631\",\"90FB15B7FA2DE77E\",\"99DE5E5D381FC4E4\",\"692705CAB94C3834\",\"3D264F3D953DBA67\",\"891458DEF142C0A3\",\"6070727198404A40\",\"38C10366AB1B0A90\",\"20155135A98368DA\",\"A66B27582A358296\",\"6EE4A0C1B37EE957\",\"10EB9927ADD61751\",\"F01771AF760EE640\",\"9309CF46F5F527CC\",\"7087D28B199B0820\",\"42A70ED7DBDB8DDA\",\"445D0C4FF3C74190\",\"D7E4F4E7A99546F1\",\"20B5907982FB47DB\",\"639050CCC2A6C4A1\",\"F8E83B74D951CBA0\",\"44F7F21118841F2D\",\"AE9F03E1284709E9\",\"334ED3F43ABDC5C8\",\"AFC4CD6679684EFA\",\"7D346928024E5D79\",\"7082A327CF0E4C64\",\"0AA0C9A8F9969E1A\",\"6E3DF9C69A6B607E\",\"E55FE7B145DFB804\",\"491ED8E89A75C825\",\"40C11E04E846C139\",\"48080CD22400FF54\",\"4DFE4826C428AEDE\",\"818AEF8DE8B21EA7\",\"603C1A0FA47D1640\",\"CF6217721866DD60\",\"1A332341472132E0\",\"60A6101325BBA47E\",\"C7D1A5A6F6BAD476\",\"C257E9228EFCA3CE\",\"B94082EB5FCFF0E5\",\"8C415E32B00363D1\",\"114AF6149D8EA5E6\",\"2B52C7EB498926E9\",\"E165CBB332E4DB58\",\"FF1AB7A774128512\",\"3D960D370AF76942\",\"82240827D9FAFDBC\",\"E17326132C06AC0C\",\"022A37E761843C69\",\"C3239111D782A4D5\",\"D18802F38F099FB4\",\"B6104CBBA779BAA4\",\"93F064DB4950E8C8\",\"893E0E607C20F882\",\"9DB76819BAB65ED6\",\"4701A2B337440151\",\"F34FBD4CB9207474\",\"095B21BBD0F17E20\",\"B41C0BC88EABA39B\",\"46C03A54CD7F3F6E\",\"65F225074FEC2C03\",\"3EA147A81E9C3119\",\"B07E7D9CB9059072\",\"1386B17FB175C1DF\",\"FD7FBBF2324D52B1\",\"26B0521FC2BAB2D1\",\"9E415943B4C0E30F\",\"0EB5F2EC4F101B28\",\"535DC74493925CF8\",\"F8185432C71D445E\",\"D2431522B4F9418B\",\"75AB91E145351F7B\",\"64D530780D156782\",\"F1C4EDEBF63BB14F\",\"4C97933326B6C224\",\"4BF00AA98745F2B4\",\"8611C1CA3986E553\",\"514E9A2436E0C45C\",\"479E6D6A1693C32E\",\"61033FA5DB923000\",\"B54F288E9548E94E\",\"215A7DB696198FF2\",\"D070FD0BFE78DFA4\",\"306253BF2CF72886\",\"FE16209BD3C61223\",\"095A42EF1DF6B4BB\",\"3D8509A61CEED2B2\",\"EFA2387919DBD7A3\",\"51402781371A5122\",\"47ACA6720C988801\",\"F1DE970AA791EC35\",\"29C63A5B8EFC5ED3\",\"FA86D8DFAD3ADADE\",\"8856383B9441DF73\",\"D1954F210B629CEC\",\"950CD6AE83F84E7D\",\"4FFEF3C8471FF8EA\",\"4E23CE5DF5C7A1D0\",\"F38941283A36C34B\",\"22B7B16D3BD208F3\",\"1644C54CA3C7F666\",\"43D79F7AB0DDDFEC\",\"5ECF8AD51FC8062E\",\"B83CF8CFD3575F8B\",\"6B4FA9A39FC379E8\",\"6E8C4C4691828595\",\"B3B8EE722563EAC2\",\"47F1AEDB228AC569\",\"48FEAA2BDBC721D4\",\"378BB5A704F525AF\",\"BD7CF9238F6A1A07\",\"6BA6ECF63903BEFE\",\"658CD4946CC82073\",\"5DA6B38FB7F2EA31\",\"12D9F5740EF95322\",\"BE2F36A65378F25A\",\"3B1F691F4D6C17A0\",\"0DC63E84277804EC\",\"2A986C1D47CA7C87\",\"9A3BDE7D78D0BD6F\",\"57340E470A09E362\",\"23875CFDD5C7942A\",\"4F42516E15B2884D\",\"2DF9E85A613E0DD0\",\"2B838321EA7DA6A2\",\"850E0A1732301E6C\",\"0F1349E8B6D23E43\",\"ACE9CD03B0500923\",\"8BF5CA0B2A04EB04\",\"D5B0B737B6FA90BD\",\"79913E8816E3DA5D\",\"E8D3E6385C8B875A\",\"81B2CFB5C79627DD\",\"7189E5DE91BC119B\",\"2977FB7014B7AAFD\",\"19E774EAFD97AA92\",\"3A12AD8C7F3DBEDA\",\"8F98834C531143DA\",\"4AE60D8C6A6B6227\",\"C4E3E8F9137EF75F\",\"76174428B80A08A0\",\"DC04698A6F7BD3C7\",\"BDDE6268CF5A8D6E\",\"B0E30AA87B452A9E\",\"8039D09D1E1B382C\",\"D0D1426BAFDD1FE5\",\"9999E0476CE6B08B\",\"9C8EF4530592914A\",\"8E9A3C6A2E170A47\",\"C0CD536EE9BFC2FE\",\"BF47F26D0EFA5201\",\"1BFEE479308EFF44\",\"3DE3C9D505CDC24F\",\"36A0071CEAF205FF\",\"122C0E3A8F27AC93\",\"1AFB8C3DE876B77F\",\"AA493C70B4CA47F6\",\"4B058B8F19045AC9\",\"98B709A0F9609E7C\",\"618433F396C166F6\",\"0C2FF828F063B7AD\",\"0DD005ABA039F010\",\"DDF33D76FBEBA3EF\",\"9439DE9EB405AE74\",\"DDCEDA0705FF68FB\",\"452A0B5F1472524B\",\"E3E12F7ADBF0B234\",\"9745CE1D5B111CB1\",\"9A7FDD295F2CCE11\",\"3C837785A561141A\",\"19979D19A2FEF084\",\"92CFDFB0A842D200\",\"10B7ABB15D5F6272\",\"00505E15A9D81546\",\"55978D947D078E6A\",\"10C645F9BDAD5E5B\",\"6B7AE52469EE8789\",\"63A360FDA79D81FB\",\"279C6150111EB3D3\",\"31A7F9EC6071BD1E\",\"C24D35CD1D858C2C\",\"0569D8065975599E\",\"A27693967E58ADD5\",\"F41220068EB414F7\",\"8165245E67F88CF7\",\"358392E31C079B41\",\"A2145097D7429594\",\"F4124F43827BAA36\",\"179C33593234EC2C\",\"EEA592D3C6F5E5A4\",\"66C2398A8C8A8335\",\"2D53E02A0E04DC84\",\"555A92EA20CE41AA\",\"5D4B70B71BD714AD\",\"F138DA14130E06EA\",\"04AA8735EA1EBB4D\",\"CD340A1BBD577576\",\"2A01D3D0A75FF81A\",\"28F165B39D160BC5\",\"7FFC9004BA51D328\",\"DE1320074D7BB5A2\",\"8DAEFD1C832F34D5\",\"F4A782449E8D6F42\",\"64E669C58B152047\",\"5C2FAAEDC575BBC7\",\"35CA7925FCD78F96\",\"BA72A4552D5DB360\",\"14E7C76B7AB8822A\",\"B85F36F6515DAB84\",\"A730DDB04AED5F18\",\"4B5DB813F43DB19A\",\"CAFDE6705DCEFC1A\",\"3AAD38BCD2DEEF82\",\"B79859FF6F3ACB14\",\"4D2B0FBB9E528D60\",\"7E849B6FA0E975C8\",\"1B72B5CD89B93B68\",\"08D42E112D1F4407\",\"938495416CBB307C\",\"3A7987AFAA3A5F47\",\"89332BD0C491D0F8\",\"B3075614D07245D6\",\"B5E7E222F1A5D7A6\",\"D90D301048ECDC22\",\"1908EDAE38E665D1\",\"0F8A4214A2C886AD\",\"EF3118771FB74F92\",\"7949B3058A8B10CB\",\"CBDCB94D41AA49BC\",\"A18789FFD786A32D\",\"2E53814463A4BE74\",\"A81312977901914F\",\"D36CABE62D3145F0\",\"09D429B94AE0DEC5\",\"C22AAB2261F7A2E0\",\"425B4F03B08D10FC\",\"A0F968614747CD94\",\"11970FE3A608F9EF\",\"98422D21D7BD2A8E\",\"1A3C3968ED1EB6D1\",\"053310D9D8FAB659\",\"C5C6B239BD60863D\",\"30A023B9E8FE3ED4\",\"84C13EFBE76DF52F\",\"DFE341550729F28E\",\"3AF000EC534B1B09\",\"BB3103FE7A9A9639\",\"E2242001C7022C33\",\"4215B191932224A0\",\"255806154A8779AA\",\"D77FA24D30E799BA\",\"96070D0B8FD4C5BF\",\"6E38C589F19E19AD\",\"C41BBCA9DACE544D\",\"2B7DA9B565BA79D2\",\"7E1AF6C5FC07021E\",\"54633A9BB233F1E6\",\"F9DEDF376FFBDD1E\",\"2ACB19BEE3528015\",\"6B1D0D8C4F8FBBEC\",\"1BDDA1D4F218EA67\",\"147C62E5B82E2EA9\",\"3B2470E45416C59A\",\"64D18CAEAEE6150A\",\"ADCA095D99BF5654\",\"4A4D81DBBC67109B\",\"1B62C7587BDE1983\",\"943DC4BA8E315141\",\"C4D195E6A29E6AEC\",\"D493E891D8F64BBC\",\"CB5F0081A83B7397\",\"90F337B80CCC568F\",\"3051985C6E2614FF\",\"04988C5DF189632E\",\"643C52C33C61AE96\",\"6B0BB0A458CB64FB\",\"D7FCA48FF8EDEF00\",\"A2CBF9847DA60249\",\"8FC29487B873F524\",\"262C647D99621FF5\",\"C670F0DE6C790F3C\",\"42D07A29136BB0C3\",\"A5E1533DBA336617\",\"01B9975CAE144B78\",\"F4937EA012B95BA1\",\"91B7B61338BC383F\",\"824E3C1D0F769FA3\",\"BE548A5463C5C53B\",\"B373E9CB6566BAFF\",\"64E7466FBB579E9E\",\"6804FEC10B5C2162\",\"2178C7C0C836C180\",\"994D853A1F8D1771\",\"BAD5CDEC5EBCC151\",\"4520B43FE9412086\",\"0386BA6137787A24\",\"7E81DBB1530EB04B\",\"12C0F58AEECAEA2F\",\"164E56B2FD466C6E\",\"EDF5B714ACB10B39\",\"1903EF24E5C901A7\",\"9D06341739D723D5\",\"E2D1A399A1D4A3AF\",\"D2EE314AAEA02F72\",\"E0CCA0E17AD074DA\",\"3BA533249956A4A9\",\"7B0A1B548046E35B\",\"EDDF1CA5A0EB8586\",\"F18135D5B8BF0093\",\"A070519278350129\",\"125A5C6F869D282A\",\"7980BB6C805AFB53\",\"7974335F5EFCB9D7\",\"7D5DC58ED2A50A4C\",\"E8F5A636BD89C760\",\"55E1E5508B640E65\",\"06D9C758220CBB01\",\"F3FEFE92740A66C9\",\"D39EEEC785C51298\",\"79E643143805A79E\",\"CB4F7A1245E8A2B7\",\"E8F9F301FF442E57\",\"D1E97B96B1AB8E63\",\"16656E4DBD3F65AE\",\"590EC048DB3D8B88\",\"A9F98D05DDAA14D4\",\"9F65829D05F2611E\",\"0FF10274AC68852A\",\"817AD5A637BEEE64\",\"9D76B9D18E1B846B\",\"4142705E10CCAF47\",\"7F7FF49CD68A577A\",\"36FB5BD8DD3942A9\",\"EE869B31C10C205E\",\"CBF4133918976020\",\"347025EC07144D90\",\"A2614E5A9AC15FC8\",\"B16FC8872C8071D3\",\"315CB3A5EA257B8E\",\"19723E02ECBEA4B8\",\"2787953F22AA5648\",\"A81793AECFE32531\",\"D2D3509933B9D5F3\",\"C4B43A2C2019A53C\",\"9B62277AA9225059\",\"4DACA4B04635AFFF\",\"B7DFE4D1FAC0C217\",\"835324DD3B6E9C92\",\"64D36BA14A812BF7\",\"FA1502972F2C71A0\",\"8890ECA4847DFE5E\",\"D280CB5052BC97C0\",\"E34104028365019C\",\"C70D7F9553FF0C48\",\"971F376FA64BA110\",\"899282BE203420CE\",\"C4D22266B17264E8\",\"BC4A722DBC9D0784\",\"DFBAAA0249D57C45\",\"6598E05AD6455CD4\",\"556636DADC720300\",\"B817F0C0928EDB27\",\"E4129EBDCA809BE8\",\"C890B90703F73F15\",\"8DD7CC271D8CD039\",\"5C374D874B09B2D9\",\"FE01F79838621BA4\",\"971CD60FDB1BF254\",\"F176B025C3C73CC0\",\"9CC7BABE25F1E408\",\"5568D97B3CF6DCB9\",\"83494296AF7C33A2\",\"C711FD1ED6938955\",\"19F5032292917412\",\"505D67B4B604CF79\",\"C7D588F1ABF3A91B\",\"E57987436680CF0B\",\"2686619F5A2AE06C\",\"FF5A1CD38F5DD996\",\"1D6A02B0987CD71A\",\"F427849CA0F243E4\",\"F0C343A22F6FA1F5\",\"D62ACFAF30B71D55\",\"B4AAB6E2E3E2C7DB\",\"AD84E09CCDA9C0B6\",\"00C1F5175586DFCF\",\"74DA40C35F685C4E\",\"40430D81A98F6B5C\",\"3D72713AE2B84E5F\",\"8F5B3D96E7D43A02\",\"5B0EB7BAB456C0FE\",\"4DE200C2E6892148\",\"C18F8E6B295095EE\",\"B41D32C34490522C\",\"BEFE9391E16B9E96\",\"BF4DA75703D5E864\",\"44B667066086C410\",\"39E330A497886B80\",\"7CAC1DCC440BB214\",\"1D2DC7751A45EBA9\",\"4AEC1F638C2F1FC8\",\"0205944A5D3DC004\",\"4DCB9E7BB6DC9AC5\",\"7951C9D1554C091E\",\"C99F4A393066D056\",\"193081F19AB27CF3\",\"3E0013454C10A2CD\",\"A8738C98EA4BB1A7\",\"EF502913F17AB4A4\",\"54652C609FD436B4\",\"DB9AF0EB25970362\",\"D50BB2F89A4A8A71\",\"5AE146AE93D5A1CE\",\"662306E701932E5F\",\"A847CBD3730F6D41\",\"AAE4A39A0DF719AD\",\"720C98E47F1D2C21\",\"66A292ED1984D1AB\",\"BE3E315B2F7B0A36\",\"BE47C5755F92C56B\",\"FEB3425EC30528D3\",\"DE6E2273FDA65BDA\",\"DCE8769399FCE8A3\",\"B74EEDD937F690F2\",\"A5BF4057B45F0832\",\"BC2BD6C7CB1BC44A\",\"E9C0BDEB2673D981\",\"B5006488F35ACDDB\",\"D352DA4BDE66D51A\",\"A6C976D03FCE0149\",\"353358454348F75D\",\"3122CDE9F4BA4573\",\"70C7135CD87DF293\",\"3B25E2446FD362D0\",\"508C244DFCF0797A\",\"29F2D19F9D00E3CC\",\"ACDCFF5D6EEDBEAC\",\"EA69D2314C12E606\",\"A2DB18F90D9E3362\",\"8E239D61A31B07B9\",\"CF849D6380A28CA9\",\"F540E917082B3F70\",\"00341D8401F0F665\",\"DA2880E43566AF12\",\"693A3CB45929D1B2\",\"855CD3A3174CB2D1\",\"9657A8EEFB5E37E5\",\"2D96107E54C97805\",\"F3F863075CD18AD4\",\"6E75BB608BDBFD49\",\"85521867220EB1E7\",\"12E86A81CC9AA775\",\"5B5F8713DF915802\",\"EB3589638ED1D779\",\"8B44602F93F6CFB7\",\"3C4FE25924FDD884\",\"2EBA55084462645A\",\"1C1A66979E700B2C\",\"AA703605654827AE\",\"F2CFD8007F2530E3\",\"AE45177974759FAD\",\"C034B059028A7038\",\"C9985A184A2C0CAF\",\"1FF27FE8651E6B7A\",\"7EEFA51F61878981\",\"47A0EAE52F635E59\",\"898FC9ECA3222010\",\"3AD386D00CA47E06\",\"54FC52EB928DEEB5\",\"6D54D48C640D27D3\",\"E88883CDEF8783D6\",\"4566C623449592A7\",\"FF5B24BCE4387F86\",\"037C3790C2C408BA\",\"46AFFC13EE663F64\",\"84779C0279AAD847\",\"F34D48681A35BD3B\",\"85E7B2FB1DAE0C83\",\"179F49110E880D42\",\"B6A3FD2473DDF30F\",\"1C746D2CF8CC94C2\",\"C422FD79606A0B4C\",\"686549722B54A3E1\",\"10447F533AB822B0\",\"18D0F694EA816E7D\",\"8CB43640885FB26D\",\"44B71C3F43262C1D\",\"174AC9628248653E\",\"7762209BF3EAB7EE\",\"CD77B10F620BEABA\",\"EC5CB6F1DE9590AB\",\"236867C049E784F4\",\"31080290886E4FFB\",\"0A88A2A4C6A2A550\",\"9991812B20A2DBC8\",\"DFD8C4183FBA9025\",\"ACFD449FA9875692\",\"C55976AC94BFB22C\",\"F9416749A6FF931E\",\"7C5C12FA1B5AB710\",\"489C2F1E1BCEB288\",\"E0980A1BD6C956D0\",\"1EB8F15AF201DEBD\",\"103CD926A9DD91E0\",\"6445624A3AE163E6\",\"0D6F5E157A56FB00\",\"7F1491327EC41181\",\"ECA5193FE7C94879\",\"B01CF7E5AC419DE0\",\"A47E788C6F4C0773\",\"E7692088C79C239E\",\"580D79E5D455BA8B\",\"6D282E7C215792BD\",\"F66F528AD790581D\",\"3D4DD1C648B64D5F\",\"53BD46ADEBD3C3C9\",\"B1BEB31C7C6F966B\",\"F7BAFF2E0A04F11B\",\"E8DA8C97E11A0B64\",\"ABDF598124F75D8E\",\"A0DBBBA871FB6B05\",\"B28D6681616A9ABC\",\"B9AF175E0AAECD8C\",\"2526727E67CFBF91\",\"F8A43E97EC716DE9\",\"8030679712E03D02\",\"A900A8E3B077CD75\",\"B60B4563ADC259E3\",\"557A3001E88A209B\",\"336257D71C9C908D\",\"AC11EA38EE62AFDB\",\"50FFF5722B886588\",\"FF44696E39039D29\",\"05CB67D01740EF6E\",\"B8C274B31B0922CA\",\"3CF8711ADE4CE09F\",\"20C1463FD5206164\",\"09125ED72D4EF03D\",\"C72752E18AD12854\",\"5CB4D86F5B780C81\",\"9B1BE512B4EC63AB\",\"823BE193CDC32ADF\",\"983E7021DDC7E0FA\",\"E7F987613543A1C4\",\"61394CC954D65D7F\",\"1D9E188570C4FABC\",\"6FC1860C26779058\",\"53720C4F36308F66\",\"BE8B208A8914D6EA\",\"ECB7F5A1A2E1D00F\",\"EE82837B07B3456B\",\"992B70348B5E398C\",\"AEDCA3DE258734EF\",\"F2456F3BE271E763\",\"4B5225B3DCB853CE\",\"FD14B682B6FD8D56\",\"220C8F0BE40515E5\",\"A7A055BA12053CBA\",\"845D785719891FD1\",\"EF764370CC2F6C11\",\"3B15384B21594F3B\",\"9203824E96F08A9D\",\"2DB47AE37A7B91B6\",\"FEA10D53EE8882D3\",\"2D1499819CA49284\",\"D6EA62E0CD66FA2A\",\"465CD5B78E1AA5B7\",\"931C10C491243196\",\"12A1B662EC1262B6\",\"FABB6D49B11E673F\",\"24D35A2E59D68D66\",\"798E2463C84ECAD7\",\"E3481D64A20DA394\",\"0F5BF54E01217F14\",\"073D8EA132A0CFE2\",\"EEF5EFB2D5915CF1\",\"B90365CB1D2688C7\",\"5E9E80BADEA372AB\",\"EAC4A582D2F27CF1\",\"2D599F3BF5662E38\",\"02C515D53BB855AE\",\"8DE1FF5E69F5124B\",\"86EB8C24EDE6B57B\",\"19302754B5457163\",\"516AC7784C9F56A5\",\"EBA434AEE348C6FD\",\"11FD34772B366961\",\"9CD9D50446C56206\",\"947658F983871E74\",\"6A4A55B31D7CB717\",\"FE578FBF32343FC3\",\"18558F2A64C5F900\",\"B0A9A826FBFB851B\",\"AFBBA0B7F31E24B4\",\"B2D4801BB8972E30\",\"E3AF95C5CDBA8593\",\"82FA2F2C50027EBA\",\"D078F9E17194B980\",\"278EC8FF2664D2C8\",\"9D8E1DFF5B436455\",\"F43E08F2E0C436A1\",\"3EF0EDDC96C5D08C\",\"10387B8D694D539C\",\"1920261C79B17C57\",\"F0C5FD9E6F7968EC\",\"0ABFD36137600ACE\",\"C1C5DB155B1E6014\",\"28A6FF0B3D1F5ADE\",\"EA97B7C0939198A3\",\"BD5FC2C0F26FC36D\",\"447B05DA269FEDCC\",\"D798B96E19D4B350\",\"7BE2351C28EBE98C\",\"8CBBDC8958E20A2F\",\"8F4F21FFDEFC47F2\",\"1FA7A8399291885E\",\"5DECF6D0ECE58DF6\",\"564975AFF8E15C0C\",\"69B106F098CB640E\",\"A2246E58AE392DBE\",\"B263BC5957738D68\",\"2D97991CE52228A3\",\"2CB46DC72312B159\",\"4B88913B9F581534\",\"7231EACCC8DDF6B1\",\"908461FB3A69D5B6\",\"51697F7459FB3BDA\",\"F8151E51EA08F337\",\"D7A2C421522E93A4\",\"77BD281B14AFB4A5\",\"0430DBEEC96AC2C2\",\"C45D1641140AB2BC\",\"3238C99E0C1D511C\",\"7EC3FA725BF73DB7\",\"DD155919BA4AC26E\",\"C3C88EC13873148A\",\"64597B30278462F5\",\"817B7DE353CE7825\",\"B7229F43B32B5593\",\"D4DD37C21CBA5940\",\"1484BBF124DB1B18\",\"13561EDE4D40B183\",\"5EF0009854428FB8\",\"AD5DBC5507D8D7B9\",\"086399E3A5AD93B8\",\"F81FD538B1DC1DC9\",\"23DDD27AC3FEFA63\",\"66FC298441D50783\",\"E1259EA0AC254490\",\"06C6018D3CB3E903\",\"8EB70A4733EED0BA\",\"11CDA230E45A761B\",\"DC4E5D8BD6ABF9BC\",\"8E179DC8C396D660\",\"2FDC01C1530628CA\",\"CA331DA5AECB1774\",\"FCFCADE5FBB3D95A\",\"6036B1C352B30B1C\",\"B593E1E1E045C398\",\"9EC7E3150902029D\",\"80055F949A01DDAD\",\"EAA6967BB9807DF2\",\"99D8B949A0F660D9\",\"E215A507E57FB8DE\",\"3AB66F0BF152DBEC\",\"0D285C0161DC93C3\",\"80256304BFCD58C8\",\"C90E56FCD8FFDF74\",\"DC241C9F0E1F9EE2\",\"F80FC42C7F73F8B7\",\"36843F0897F2ED22\",\"8D618BE89CC36710\",\"A944D2BCDFD50619\",\"D075BA5303FB3068\",\"74BC07E9BC58723F\",\"900BB01307F50F4A\",\"1D20BDE6228F2145\",\"CA97218ABCF4988D\",\"DBAA3C97A9CFD567\",\"CC0B3EE43A009657\",\"2CBFC548B33C0259\",\"C69B7E7651BCE566\",\"5D2EFE26ABDFA953\",\"6B5588BC7DC84D6E\",\"AB4EA096BF581CFB\",\"744851368CA52CBB\",\"B89A850623C1DE0E\",\"181DA774FA96EDB6\",\"54AAE35DB9DF5C19\",\"DA111496CD9749B0\",\"A5B5775B0C7D0309\",\"1A52088F459095E2\",\"4674AB56D740C636\",\"FB1F9619F8C3CC75\",\"D991B14F3DF1B980\",\"A3AD6954A1CBD2AF\",\"D17646F57096613B\",\"71CEEC563CBDAA52\",\"6F79361F74846698\",\"90BD4071AB4D6A78\",\"A1A1AE5C49F2170A\",\"7491E5B3D744E773\",\"EBC37566AAA3427B\",\"94823CF97FBC9CDA\",\"3AE9B1BCF26089B5\",\"AB5EF9587051A99D\",\"2F92CC312FAE5019\",\"0178FA423606B54B\",\"CBDA858CF7EEE1E0\",\"05AACC0375BFC2CD\",\"68775744A4EB8649\",\"8DAAA6E3BC0B2B9A\",\"7E4B0D11D179F4EC\",\"CEC2749CDD82BC66\",\"4F095D257CB159C6\",\"1EFE2E865C5F15DA\",\"D60DBCD777746284\",\"6A6BC1363AEA618B\",\"AFF3D30CC385F0E9\",\"A7E75EB0530CB91A\",\"AB9BA5CAE5443913\",\"14D84579BCBAD800\",\"219092AB21AE880C\",\"0D1453DD17ECE19E\",\"D1AB664978896559\",\"EBDE231E67FBEF9D\",\"D96EECDA1237B947\",\"92F843D598252571\",\"CA745C0BCC9ECDC9\",\"9073CEFFB95784BA\",\"AD7CAF6EC4B62FF9\",\"9C19682A4F88933A\",\"22AD7C5B0BF83D87\",\"1B977F772D622D53\",\"DABC14FDDFADD29E\",\"E471AC551D5DC731\",\"C3D6CC02662EBBFF\",\"4E15E182E8BDE3B1\",\"75062DC10C9CC2A3\",\"F4B626833479AE0D\",\"B5628BABEFB62EA1\",\"E68330551E8AC61A\",\"8D78A1F79AFF70A0\",\"F9A5381028C80728\",\"8ADB58C68783C0E3\",\"13308D8070AF4B6E\",\"EA13A8207E2AEC0C\",\"D1D7C0CCE823D871\",\"4A9D5A8F91CA5C62\",\"4DE642DAA30095E1\",\"79BCCF1C768003EA\",\"2FF689ED322323BF\",\"6DECB18EA848DDDA\",\"8B83F28EB9DD639D\",\"89DF43FC1D89679C\",\"90798E636E540B74\",\"1E1BDF8C19940CE3\",\"B28EE5F911CB14C5\",\"269363BBED2CB3CB\",\"8C2D209EF200EF0B\",\"67AB39E76836E176\",\"36201C1A1F6082C0\",\"A7F985DBE1BDB0C9\",\"74EEC94A70685C1E\",\"7B8F59B55EB43A91\",\"FA8F255C0E9DCC07\",\"D6A85EF811053790\",\"A9E00FF5F347A0E3\",\"5A3CFCB7782BB05F\",\"568C35FDE36F7C26\",\"CB996B01DC92EB86\",\"F33A89BD00CFDDF3\",\"BA8DFBC82115CB81\",\"BC415A566A7D9A80\",\"638DFDB6A0C66C33\",\"9A53F7A15027026C\",\"ED0814ECF62C56CA\",\"891846A96F23C9FB\",\"D1294819B0578105\",\"BA9E68C3B8270A6C\",\"624B51C834246D6E\",\"C62276DDABC9F255\",\"3DFC95D70BDC3076\",\"EA9B586EB852EE3D\",\"D0CD9015FE1504CB\",\"0F2729666CE8EF33\",\"7A197D5142168937\",\"A533C3D1BEAC8798\",\"F0E1446E2815C962\",\"3CE4F4B657EEA984\",\"AAEE1D820ABE40A8\",\"52DD946631B48F57\",\"3FA3E2FF739D5706\",\"3D960D56A0E4E0C7\",\"654CC50639D2217D\",\"185390DDE14DBAF0\",\"7698B317CE712874\",\"7CD7F34AD307C593\",\"A81BA2A7B5FD1862\",\"118A92D887EB84D6\",\"98949A08011E22F6\",\"BEBA943958646132\",\"CE87806634855AAF\",\"2901C103BDFD8B58\",\"C44FF38AA361BA80\",\"FEF5165C8A0DC6BD\",\"74FE8F4E6F2A7CDF\",\"7FF05ACE1602142C\",\"2DF2FFC8AA7984A1\",\"0598729E786767BB\",\"38BF028EB424B65B\",\"A9F4C82F705BDAF9\",\"A7D19C11F4E1FD02\",\"4CEA1927512B3AE6\",\"C6E67DC34B047AA2\",\"9696D5EA6E1335C8\",\"4532216377F3AAF1\",\"D857FFFE7A6AC9A4\",\"57FD266D6A09BCD2\",\"3629E708002A0F49\",\"E598B107043CECD5\",\"71EC71B41FF1887E\",\"A3EC85E750F2AFC6\",\"6E5952194C02A488\",\"A834224E54F9BC95\",\"11CE9583C3388F25\",\"3A5B11DD76C2CA65\",\"AC07099C53E86F19\",\"768C51C0B882AB6D\",\"FE82D7FC50D4155B\",\"44F2F180A3341F91\",\"975744C6B0C12D72\",\"102613D89170C020\",\"9ADD7E23AB7B2DDE\",\"8A25966EC4F23ECA\",\"16B827FC823C52A8\",\"4B564248B8023865\",\"4352539ED30E5ACA\",\"15E18335C5DB30C9\",\"40194A2E6C03B547\",\"FDBCCC4C6B301DA1\",\"6A7BCBD9BB3A3097\",\"7955E36CD9D4979A\",\"F098EC2120B5150C\",\"4D3FA5DA58C52281\",\"48496344F079B793\",\"42801FBB18BBD98A\",\"13E1E6999FEA8C82\",\"D19E00FC450F7EA6\",\"955E2AF087FFB2C8\",\"A662A4DFC7F13881\",\"1CD12C3386CA7D48\",\"0F1A4F61491463B6\",\"E3C86896EAB66B65\",\"EC71ABE6AD23E10F\",\"B02C18F3C75E4F37\",\"8ACA89D1AB4F3A06\",\"E0B12CEF93FA04B1\",\"D2A9C2B69B9F4574\",\"38DA0BA08A977520\",\"D150AD7D66BFE61A\",\"5EC51E72CB294EC8\",\"9F27772DC3EACA65\",\"380241E4182373B5\",\"C8FCD860BD61C479\",\"9AEEA97EAF5EF3AD\",\"CB0B5021B1BE7403\",\"B01BF1A169A42CE7\",\"018019D84C070443\",\"F01FF84DEA505EEA\",\"2F6674627B916D5C\",\"4408C615880185FB\",\"B36555EE73132491\",\"1FC67804FD277F93\",\"E02E9EA00519B0CA\",\"79B647DFC1404EEB\",\"CD096CF542D3C712\",\"6EDAEF3F001B7813\",\"87086B78052004FD\",\"201CEC3D2CABFC3A\",\"327DC9ED840648A9\",\"4C67A78FC555107A\",\"941BFBD76D63BA60\",\"0B6D6F353F018A4C\",\"ACB0CDD5917A8DD5\",\"14E1DBBBC0CCBA6D\",\"A9FD3F191C010525\",\"333573EACB3B40A8\",\"BC7A6DEC0AF562E8\",\"4B159898DE46AC3A\",\"A26050E0892B21AF\",\"55C7554D4CF94A43\",\"BEACAD6056453765\",\"3A133E89C4E8983D\",\"9CBD8387C8A1DDDF\",\"637D21ED4BE05F81\",\"88197C733A65FF63\",\"FF0CF3A2B430E000\",\"EB87A4B3C0008AFB\",\"F4984D6E165D2D53\",\"B7B0E12451E6216B\",\"AEE2D1DC7D100C30\",\"747A57ED229B9235\",\"3F7B5B27ABC292F3\",\"2F00500EA4718D05\",\"130E423C404CFDB9\",\"527879431351550F\",\"36757740B018ECD0\",\"A0C509818D9A54CA\",\"9657EF4EDAC12D12\",\"86E5AC06DAA6521E\",\"50CF32FEE0C61DA9\",\"ADFE9F163DEA2EAE\",\"9C7B157D942B2415\",\"984AF06F6A787E18\",\"9FC882129DBDE625\",\"9F3480BE97175137\",\"DB79311DC523639B\",\"5D0230BA5C402C36\",\"B4C608BBED08387C\",\"71DC282C52CFC244\",\"F5BB0B36AA8DC1D4\",\"AA703FB9F9004F86\",\"E1489CCA162BC2E6\",\"A22B11EFAE651C7F\",\"0EF9EA17D205AB66\",\"A001715AEC2F18D3\",\"DD2A06518E530F99\",\"ABDE941B896D8119\",\"E123EF1A9A7332A4\",\"F983EDF7D611D0E6\",\"42DC6797E8D381A6\",\"391FF17859DF74A8\",\"0403647DF3450CE9\",\"C226A7A3002ED8BE\",\"7F9EE3D4BC79E501\",\"12FCEFC7D1907D47\",\"D3F8EA4DA28F3407\",\"667B4155F2D1E2FC\",\"4422175CAC32AE29\",\"D4649C97C61E316F\",\"3427DF0CF0338182\",\"7CEFBD3C6ABEF91A\",\"07CBF9CBA5AF14E2\",\"6E8A538DFED17F64\",\"CE89E7D3CEED1532\",\"F424816C207F768D\",\"1671B60B525AD59C\",\"81D938225D117DBA\",\"8C88FA30D91583F7\",\"0C41645BDCC356D5\",\"B3A2485649E4A012\",\"DC79445FDA815151\",\"015CCC27BDB640E1\",\"08DF1B2539351AAB\",\"4B4A29DE0792264D\",\"B3480229267E1D69\",\"FDC4F5414D325E59\",\"92CB588012C10D3D\",\"22E73D5B2BAC4418\",\"34CC6C202D629117\",\"F19288FFDF6014FE\",\"B50ECB33FCECA482\",\"B552B451D7D05DC0\",\"EDC7E08BC7DA267D\",\"00EFA157F7B6E1C4\",\"37B39E327AD6D6CD\",\"171AE14E963A031E\",\"AAA7DF27B5BD4FBA\",\"28A47F8FF0E02694\",\"1839CDFE4E9E10B3\",\"EA944584D446BE37\",\"5CCC6E85E7245565\",\"9877D165C1D0F679\",\"15F57595AB51A15C\",\"DE7E58B105D38F62\",\"E785E40D0C268712\",\"37F7B4F29C5F6396\",\"C93A37ECF99BFDE0\",\"0D6DFD473E339CB0\",\"E8E9C498A0E41B1F\",\"A670B9DC357676FF\",\"552EDDA2930F0B0D\",\"31EA3C7FC0132A9E\",\"C64AA344C95B4D67\",\"AA364AF6A253170F\",\"CFCFDD242C59DF10\",\"37FFCEE8554C6026\",\"4DD82EC1BB4034B1\",\"3716B48E1C9D36C0\",\"45BB42062A5ADE6A\",\"44CD5B4C981A07B9\",\"321F257AF39AC719\",\"E341ABC3EDB0AECD\",\"C12A20C66A2F043A\",\"F4E16CAFB780CA34\",\"41DB7281FFC5DD4A\",\"243A1B62C1E78B5F\",\"0EA010948CC780A8\",\"782A69A1E16ACB23\",\"E9205BD24EEC8A88\",\"7AF743F4C4544763\",\"E439A01AE7FFEBE5\",\"5CDBD7CCA21BF6D6\",\"E77863BC299F8D0F\",\"87A8BCBB07EBDACA\",\"2A12393A2BBFF701\",\"631FF094FE46A526\",\"436D6F820AE149EA\",\"61278CF4A10F30BC\",\"8EA216D0FDB06620\",\"0DA942E5D1BB9A1F\",\"4E24530AB40D2101\",\"2CDF6767D4DB80EB\",\"0EFFF44F7BF04407\",\"BA3CFE6C3C5360C2\",\"E06B3D8900BAFA6D\",\"FB51E66D21EBF867\",\"0BEB6D4AEE6A0694\",\"6B1DE4B46F1267CB\",\"F8317163930006BE\",\"B1558ECC094DB48D\",\"5E653512318A3671\",\"DC0A4AAA5A4BECA5\",\"16CA73BA0182898D\",\"1C08FD7327B0E4E0\",\"5495462E39AD0771\",\"65819AB46C19B420\",\"F3A48B69A671AE30\",\"1CA77CE6D4E862A3\",\"3067C5C719FED4E5\",\"F3E821DFEDE6BF03\",\"A62A7E219B60EBEA\",\"D737563A454A419E\",\"2A7E32FA8EF4DBA1\",\"34AAD2B0BAD25DC2\",\"A5691EE66CDA977F\",\"6B846CA58EE07627\",\"E590EF32278EC13F\",\"F022FE55DCD71DC0\",\"2E268F6ECDA395D6\",\"A25712EE46AD443A\",\"9B9827D7D8CF22BD\",\"61572514C5A56E3F\",\"0750C23F55896E09\",\"ED3546FAA2849BCF\",\"EBBD0BC203F21830\",\"4B488B652D5525B5\",\"18AA20A353ED097E\",\"ABBC1318F774F1C7\",\"BED36A285031FE70\",\"175586962A62B3C6\",\"40C378B17F7C4C07\",\"AC48247F5DBB144A\",\"9530B47BF4E3EE10\",\"ED7297A4D3BFA953\",\"65B7A1D2A2A4C318\",\"51B3CC70709A2243\",\"B3AEC82CC231D137\",\"1F87740FF5746501\",\"0789FB0E408FCECF\",\"8D9F0EC55F4BA526\",\"E8173771F9C6C251\",\"66E0CBF90827B836\",\"18569C8DCB0771B6\",\"09DAB4FEB31B0FEC\",\"B1EC1816EEDF7C5C\",\"16E9BCCA73DF4AF5\",\"D18A013DBEEB0951\",\"1F2C38ADEF57670B\",\"C4A09F7A19C1B377\",\"5DD8AA22AD471522\",\"F9FE888A3A2222E9\",\"D619AD4EE42C528C\",\"05FA1BDF1FFCCB1C\",\"93433E129ACF7E2D\",\"C684A7DAE37640B7\",\"05CF637C4E411C3E\",\"E5EC9408CFDCB6E3\",\"BBFD227B06D480C6\",\"805354471B754E23\",\"5280B508F7496A70\",\"5B19C5AED5C7DA18\",\"8F7E5450C6CDE3D9\",\"7473E0943673C09E\",\"7C8639D382088289\",\"AA5A1803D3FA76B4\",\"635CA54AA6058DAE\",\"CD3BA24AD4C7FF96\",\"27906E2494AFA2E9\",\"B3C8314D64F11C73\",\"18B91BF709FA4406\",\"EC998D82E096033B\",\"F1D0C3A6DAE6D5D8\",\"D332348B10EECC65\",\"20238F00A0657ABD\",\"8698B599CCAC4949\",\"41DC6C245B7F03F9\",\"570D3B2EFF6747A2\",\"675CA569780B75C2\",\"C9AD507A4AE440E9\",\"646902E93C309D5B\",\"92C660B9E62906DB\",\"BB9A4E0A50FD428D\",\"3175038D993E72DA\",\"1414E4B557ED71C3\",\"AA578BF16618F056\",\"42ECCBA921AFE086\",\"81AD59E23B9825CE\",\"AFD2C642DE1D5D2A\",\"834C6424248DAB18\",\"D1292E911948CA98\",\"2397A455AC2AB9C1\",\"08214B6B33ED5D00\",\"27A28CEFCBAD2A62\",\"CEFAC8C27D27EEB1\",\"60E68A4F33951169\",\"ECAE04CCCF52B16D\",\"56EE3A6402B3BAC0\",\"619D3C459732BFDC\",\"1F77C3195B36A98B\",\"38BCEA4860D38AA9\",\"390D39CDD3AAC703\",\"14870BD1A7B60FB6\",\"088F6D7B18B09F04\",\"11295D1608F62001\",\"F870DC32B5E02430\",\"B84DFF47E82A9FDF\",\"89811DC3188FB9ED\",\"9E9743B387B28C54\",\"9BFFAFDAB999DF19\",\"B18538678D9273CB\",\"35EF0E3272713CFC\",\"75119F86D0060AAE\",\"60A008C4D5A3B8F2\",\"C4DD1BEEE5AE9F36\",\"CB62A54028D1FF6C\",\"4266741E592070B6\",\"5B62E0FE64B5C03A\",\"A31585E2E9AB2C81\",\"D9ACCB8EECF03535\",\"D51CACD8B694AFE0\",\"6ED57949BDA6D94E\",\"F44844FAEE6059BC\",\"9FC7AFF2A9112D83\",\"2D8B71BB9080B5BF\",\"DF0A6D48CBB3969F\",\"F76CD7B6EB0787D6\",\"5A455EC25EC9295A\",\"DABC08CC80316871\",\"EFB967ACD8D890DB\",\"76BE786D31EB9870\",\"58D06B81851522E6\",\"463D4D4948E0D4A4\",\"2F7C29786F9971E1\",\"053FB26D6D49EDDC\",\"B624B54442BF2DE9\",\"6B72AFA56CB2D9D6\",\"B42B2F5EE526472B\",\"F877CD0CB075FF15\",\"AC4F0C6F72419245\",\"5C85C417F02FEDCF\",\"B05215448459A53D\",\"CFAC426394D36FA8\",\"0DB549C6C1DE1AB5\",\"4E04CB8AA2CFA418\",\"950D0FAE9A9D4306\",\"E48564406C361C95\",\"11C52432A6F7FA6B\",\"AF24276134C433DE\",\"B1B7D236821D6593\",\"7EED8A9D43C4ED9F\",\"19E3408B4B4F85A9\",\"27440FB5795DC9A9\",\"471A580242B39E96\",\"FD71200D9C502780\",\"6363273F6349DBE6\",\"E3FE22D7C70B05E6\",\"6FFE54E4BC305708\",\"449330634C4DD2EA\",\"4B6BA21C73F66940\",\"4FD724D6E4A69A24\",\"CE3108804954FEC2\",\"2556F5BDA0E0723B\",\"51560FF11CCA1F74\",\"036FF126C3805824\",\"AF625085447DE96A\",\"A372F552AC2066B7\",\"3F19EFD5EFA0690B\",\"910E839ABF698914\",\"54762705651B3B59\",\"8EE3018FC4D96F3F\",\"B619C432EDEC453F\",\"4E8E346475528D93\",\"FCF70F6E1871BD78\",\"BB60D870CF3ADEBB\",\"135F3832F68B1C3E\",\"B88CD7F1ECE6FAB6\",\"FA90899366114F79\",\"46B7D77C21F1E82B\",\"2D7AF97EEB0056A5\",\"627AB20C63592344\",\"41C7928F2ED27E66\",\"DE36F03D28C7FFBE\",\"1FC5EFE587A74381\",\"F07BB43BAEF2AB42\",\"B28720DBB0468944\",\"D7DB81E99D5AE29F\",\"4ED0E6416EE9DA03\",\"E68B2613255FA585\",\"235E6B4478EB2D3D\",\"11FDC583139FA727\",\"74997CF7A77AA94E\",\"3BC70C6B2AEA35E3\",\"A53AD293529FC05E\",\"3FDD7B2A7D59771D\",\"71A21F6C17C665C6\",\"3F93418068B5DE26\",\"BAE8A94384531D93\",\"69928365AD14B8D6\",\"5478D63D5A177228\",\"F24DA4C9406263D2\",\"2A7FA841A0CCE6A4\",\"DA87241FCC8A7AE3\",\"A720D7FFE2FC85BC\",\"DE20AA504779785D\",\"095E9087265DCEDD\",\"5FEF1A5D9C4418CA\",\"303063C7A89A39CA\",\"654A4D56EB7D6C38\",\"2BEDCA2DF5D4679F\",\"2CE184236AC6CF90\",\"74EB97563ACDAC5A\",\"493BF701D15E335B\",\"788C61EDBDD38346\",\"630A7B72AE3824BF\",\"12C4599F88ABEC86\",\"C01E6C31AC2CF13A\",\"23C37813ED151EF2\",\"38554C42A4C419B9\",\"0E450AE02863F478\",\"75654D851F8C8F59\",\"E765AC21A87972E5\",\"C2C562133A1C9257\",\"8378F834617AA310\",\"C46FE336D240A054\",\"C91282DA643F3ECA\",\"A2F03EB75502B143\",\"E1531F70BC5719B9\",\"5C7F53937B54D161\",\"ED47C7C2CD16539E\",\"FAC56B0156176057\",\"19404EC7B2481521\",\"B043E52A918CDD6E\",\"4E5C9F61B66394F7\",\"5AD6C5CA55F10640\",\"8C5E672BF19D5DEE\",\"2A7220F590E2EB8E\",\"B8BA68A40CCA2F92\",\"EF5939B3F9E0B7F4\",\"5C2DB0B0A50C18E0\",\"890E53A85D426055\",\"3AB3002893A3F52A\",\"C80F781D9C410363\",\"ACC844C4E8649C92\",\"146880B18CE204A9\",\"68BF25FC6D7E0593\",\"6F37A398B4B1011B\",\"368A35909794ABE2\",\"E2C87A03971C1A80\",\"BE72BD2A30CC6265\",\"006E3E4E232CE760\",\"BE0E22CD3DFB509C\",\"C7AF8F8E29594271\",\"773183F76AD2DD22\",\"7875B71ED824F8F2\",\"ED8037B20977EF3A\",\"A1591805E7D020EE\",\"6754476B0C2800E1\",\"9F77D4A90E268E04\",\"683331D56191FA80\",\"0295114ACABBE371\",\"3AA908B2D4A96AC2\",\"54A6D63E0A5A7C30\",\"D2656A48DD3C4EEE\",\"C2F23593792D11D1\",\"9A7F87C4E51D324A\",\"7FF809153882541B\",\"028B775D3F0AF4C8\",\"187343735EC71686\",\"173DC3128DF74C45\",\"EF2E4FAF26951358\",\"6687D5BCA6CD3141\",\"3C02D15BA7E8CD69\",\"508B391BE84DC7E5\",\"38EFB12809E95CB6\",\"A7957CDA89BDE94F\",\"3D6EB94C6C2A7804\",\"903B7FB3C9AB7B72\",\"BDB240696259C1A6\",\"768DA33632B74B85\",\"58762DB8BD8A7A05\",\"AC8A411A22EAA8D8\",\"7C0E8620F4C975D2\",\"5E7CAEBEA381862E\",\"75CBBBB56CFC020E\",\"80779AAA3A72AA68\",\"BD865A7ED9882898\",\"406C36651C2DC517\",\"621CEF5455B8FD58\",\"A1EE4FBD37EA95B8\",\"61935B02D8E917AC\",\"6BD902CBE55BDF47\",\"C251DFFEAD8B8983\",\"FF4456FBA59116E3\",\"7D8B4A3F6C824DC0\",\"71021ED39CD283A1\",\"FEC8EB9C054264BC\",\"0BE7BFEA44E261BE\",\"E80C8F666B561C93\",\"4D7A606D6E622E03\",\"B6CFC956973D56CD\",\"32244E379E754915\",\"2A2A3F0E002F81B5\",\"64D39595B31D9ECE\",\"D00F46D5446825D3\",\"A8514C09C055B131\",\"6703B80A2ADCC7C7\",\"091AC977394578DA\",\"395461648C47B5E1\",\"20C49C33F411B8C5\",\"A13A9A1B54CAEB4B\",\"9A3371B0887A0B74\",\"C72B62A241061928\",\"1D9020D7979F924A\",\"A17B3CE0063C5E38\",\"38210A3DEE4E22DD\",\"6D88BE6410DBB984\",\"C7111224B38E516C\",\"6319E43AA9A5DF8E\",\"003DF44D7589BBD4\",\"1095D37412647DA1\",\"09BD5F7225CD0F7E\",\"ABC0D4B6F3DE650C\",\"2B68D50DAADB1DC4\",\"F539AD59DFFCA7CE\",\"9F4F58990EAB3DFE\",\"5D7EB047AC5A8ACB\",\"64416F38F9F56582\",\"777B193B0F3731A5\",\"AB9FC93BA7D79E5B\",\"BF3665AB1DF86357\",\"584495BAEE6E13EC\",\"B4D845F1B059FB9D\",\"DF65B438F18A0A58\",\"66E02518441F5E9C\",\"643DDF923F793A07\",\"77538B64EF289B42\",\"14AB9446E8FD3584\",\"24834C656421236A\",\"5D7F1C023AD8D956\",\"D235BA1BB8DECBE9\",\"09E2EDF98492527F\",\"C9A8646B87F720C2\",\"E26F13A65CEAC6EA\",\"389773B085FCA5E0\",\"3A73D992BFFE49A9\",\"32486FDFB7056332\",\"8757C1146D4122EF\",\"9B5B1633E1F08914\",\"F9C3B261B20FEA4B\",\"D7A8DFC1A19E65B5\",\"C716AF018B3D96F5\",\"D072F407D6CE2C45\",\"23F246A7F4388473\",\"8013F2257A25F9BD\",\"0010A1C096941592\",\"DBD7BDAA504FE2BE\",\"9C1EFF68BC2F16F3\",\"BF87D7C2E55CE47E\",\"A790C7DE158A8B41\",\"EB0712682DC1C12B\",\"0D51FE4B2E18E2AA\",\"FA1AAC00A2A90288\",\"221AA0E38F37A7B7\",\"5239DFD9033C1BDF\",\"B667BF6049381019\",\"A0E1AD0FF8953659\",\"A517E4DD3ECFB0D9\",\"66132FEF55AE5854\",\"038826FA0028F756\",\"6FE3F1B9CEE39E39\",\"633016A90C20AF68\",\"19DB0C74ED1BC7C8\",\"E253DCB9EC1C014E\",\"1C1F706E1D7B9F71\",\"540807D9B16778B7\",\"B8E0351B91F1DDC2\",\"95665DC1584AD532\",\"6DF6E1615D629BA8\",\"E41B2FFCFA4E414F\",\"EDDE06B4239A55EE\",\"BEC00CA2396C9E48\",\"5B7309A62A18E6DB\",\"81548C930A397EBC\",\"9F13DEEDC1B3DA15\",\"CD0AECDFED70559A\",\"3A5602CC0129E7C3\",\"A1C3D3C6C3CADDC5\",\"8E52B17EF9DCA68B\",\"62F294CFA15D84CD\",\"E85E1F634E368569\",\"1209BC357FC2A702\",\"16B6EBFCE0B67C24\",\"F8443EA4228113A4\",\"AC14EB0BD5437B7D\",\"5426EFD4BBAEA349\",\"6CEE9CA228CCBA3C\",\"06AB8C8B1D7936B3\",\"2FD99D64C3608961\",\"1F8FAE6372EB9C6C\",\"97C741CC98AF301D\",\"9EAB2DF333522D1F\",\"A4C7C58A9AB7BCE0\",\"4FA2399FEE44D2FC\",\"76BC232DC39FA507\",\"46C50A52430E3C1B\",\"B4BA80B4BD6D550C\",\"A3408D58E62FC072\",\"EC3ED54A7C2B6E61\",\"92935BA3E69C00F4\",\"7C91912332353320\",\"18772A8A50AB5D0E\",\"D7663B1CF2680ECB\",\"953CD92B04478BAE\",\"EB4C1FB354C3BD65\",\"C18DBD5B22CACD01\",\"43D07273336C97BC\",\"78CE39387962B153\",\"39BD90F6CE86B893\",\"EC4C680257282964\",\"9D0F622C67BA9874\",\"5B57E88DFE82FAD6\",\"D347E8C68463E9D4\",\"17286F3CDFF49B43\",\"E205F365ABE2ED57\",\"D034658AFA966093\",\"C1ECF0291CD025B8\",\"AC4F0C5B1C005C8B\",\"4CF8E8855FB1A493\",\"BEFD513B933806C4\",\"A0FCDFB113ABF06F\",\"F6C716472A556D8A\",\"9F39152D735514A0\",\"BE610DBEE1742042\",\"4A6F800E7563AA29\",\"5E6386704403013F\",\"A8C69B602A3D4A32\",\"99F6F2F4B73C2EA6\",\"60F150FD09831DEA\",\"504940D885BC1176\",\"8908775C096835D2\",\"0FE0324B5431F1FF\",\"2818C4BDDACA855C\",\"FB67C0C00EAF6628\",\"AE71ECAF9A0453D1\",\"6A698019769B0F16\",\"1BBC192A44A077EC\",\"B8EA50FF75C6A2B1\",\"0B575735D9892FED\",\"84D581DF73AFB18E\",\"B421879985BDB4EF\",\"410A9FE937D3511E\",\"8A6AB494DCEBB902\",\"010DF73DACCC1534\",\"2C5E1D23A27078A0\",\"86964B823296B896\",\"5D1ACAE67056DCFF\",\"5C5EA9D88F8AC701\",\"1DC5D7C4E373B150\",\"18FF587F20E6B708\",\"4C1C865D70A75669\",\"41FA2525E7869F35\",\"8CBEC8E54D66068C\",\"01157AAD4401952B\",\"4AA19C02417BC003\",\"99CF3384DCE5AEAA\",\"97845CC971F6A022\",\"D283592098BA37F3\",\"98720595D29108E9\",\"E53ECFC837EB8022\",\"F2FBBA33F37DEC46\",\"82B2774BABE056F5\",\"8FA915CDB5994BDC\",\"54C76446EF844CA5\",\"0FD0F9EE131C53B1\",\"3EE1210D1AB593C6\",\"276D12E1738CA35B\",\"B6C7A727BF450FAC\",\"E4C221C164DA346C\",\"F856D67F8646BBA1\",\"856CDD7A9ECC45B2\",\"E20504D0CAD45AF3\",\"371BC3CB05DAC89C\",\"9C1F3C729F67CA58\",\"CC9D23AA2AD67118\",\"7B411E7800C1021E\",\"F0BD18FF153ED188\",\"EA59CBC69BD2351F\",\"CE7863849DF35C11\",\"DB5B14A568717B36\",\"67C08EA4972A1F5B\",\"BE52857ABCAD4C9B\",\"BEF83E2A0B71B01D\",\"96E8F651716E7F7D\",\"A459BE53EC0D7599\",\"D902807C00F2AF2D\",\"3D87DA89D3D3EBD2\",\"EE24621F3C564C74\",\"901BC5E571DE15D6\",\"2A167B851A3FB08E\",\"DD10D8577311D62A\",\"C2CB0FF92A4EFE7E\",\"7347C03E6A300EFD\",\"6EA1A93DD87FC2B7\",\"5E91FC49F3EC0B5B\",\"50319767BCBD5646\",\"66D0ECE95E07CFAC\",\"5C9040D979679938\",\"D10079947A26AD02\",\"76FECDBF443C8438\",\"8B0BA4CE10E81A84\",\"4823117701C71CAA\",\"AB88A0F609618A2A\",\"2EC08F2084FF3438\",\"46A7B6A9C1C4E46B\",\"6C2C087CEF08A20E\",\"89269711AB1FDAA5\",\"70D895B270A5C63F\",\"DE36357248F07700\",\"748138CF737B8E50\",\"AB835FC2AEE6086A\",\"DC5E7D5B8B4F5C9C\",\"D567EC44E22A8E1E\",\"C41C63504F639678\",\"4CC73EBD28C3343F\",\"CDD49853A77F144B\",\"9EA3340B70A596AE\",\"C587C965ECC527A7\",\"1C6F777057FC2DAB\",\"C5F2D3291D611D1E\",\"791BC31A28D1358F\",\"8C8D972284DDC70C\",\"D5F578A546F3E804\",\"BE600B10445D29C4\",\"F02E70D62DD8C647\",\"9516220E9139017D\",\"E14834FFC8EAA185\",\"1073D7DFF1BBE8BB\",\"E4111A6C304075D8\",\"19F4A16B875E04EE\",\"6BAD4743388F4545\",\"B4B4AE9399D416E7\",\"109FE65EE47113C9\",\"BCF874A80C49209D\",\"0D33D1214EB47871\",\"3B4FF434FA8193B6\",\"059F2CF5017A15B3\",\"5BFA471ADA6DB45E\",\"CED71698585A2E46\",\"79BED20696125731\",\"F5A3A5050E3E91AD\",\"0EA6AE1AB7BB8ACA\",\"F705B7C31D8187D4\",\"9FF17CBCD6616AD9\",\"D02C5540559EC8AF\",\"4461717E08BB470A\",\"C1EF154BABDC9A09\",\"2A5675463AECCD76\",\"1C88591FB981DE87\",\"9F15AB8A7F968248\",\"B7101EED5DA388CE\",\"3F0DE9FD92C5009B\",\"632C52502DC3D56E\",\"AC3E812BFF2DBF0B\",\"8C2512EEAFDAAE87\",\"0E6F91028486376D\",\"51EAFCDB2FD73086\",\"583CC6A8A1A8F809\",\"1BC8D784255D5E67\",\"983051C6A972439D\",\"2F0639CBF0C3C249\",\"127EE15B609E0007\",\"966E398BAC214D29\",\"C3276EBF9E0928A4\",\"A9AEA9BAAB4F518A\",\"60B0A607BC0A2375\",\"CCAF138D12385DF2\",\"04A78039CF7A1EBC\",\"513830B4DE585E61\",\"36E6409FEAC20C80\",\"A926366D229CB25C\",\"F45264F61F931489\",\"79B52A43517478A4\",\"20637F29BB029BEA\",\"7E7829E4CE933271\",\"F4A8EC83CBD010E2\",\"AF987F436A7EBD21\",\"7F10D30972D86EB5\",\"3030ED7794950E10\",\"0772501132FEFD03\",\"DB6EC7ECB0CEDCC4\",\"A0ACD5C989AFEF92\",\"686EAF31C2B46B0D\",\"EDD9BBF4D05CE79E\",\"E37CBE95823F9207\",\"AF6633EF2F1EA335\",\"44BD1495B3FB208B\",\"05DA2E49B173DE35\",\"5650B53B91DC98BB\",\"E9953B60E82F35E8\",\"D9F243D9F177689B\",\"05F21723D1DD231B\",\"2A0D38F31A881015\",\"9E2C725982D661BA\",\"22D2CAD6D6BA50F3\",\"2EC26EB640A1756D\",\"A9A74277A0BF0A74\",\"3E2016ED6EDB5841\",\"18E7E50874577C8B\",\"AB6503E1E4E11ABD\",\"6D98E5AEC0DCFF0B\",\"0CEEC4DAFC8CAA9C\",\"1566394D2A5E8862\",\"6166273FF727F34F\",\"F9D53F0BA957F728\",\"85B34D1886898D26\",\"87453D7F07E552BC\",\"F1D8662F16A0EC47\",\"04EB5B67DD8C20FB\",\"C96DBA8C2C03EBC1\",\"4E4766CC2996EEDB\",\"FCDFCA0D5C77DACF\",\"4BEECEBBC7E85D05\",\"757203C72510A549\",\"9EAD9CC9BF5388D6\",\"892BED4E40691374\",\"35B12A1E75DE6ED8\",\"D894520D35BB7A99\",\"4C63BE492F5D61B3\",\"427C5593BE58CA0A\",\"F03F667009F16326\",\"6647A4395CED21C4\",\"04C23F1E024A93E3\",\"A92B46A5445A080D\",\"44A4C37BAD8B5506\",\"F165F9189C980273\",\"920282F75CCF43E7\",\"89213C38E2ABAEBB\",\"6ADFC435DBE4D6EF\",\"FC7F311FE04AC405\",\"C5C355D72A66F9FB\",\"B2795EB0A968DFB5\",\"C799CEF5E1C8D488\",\"1C1B7475595D9294\",\"5126C7C978F7177B\",\"2E317B5455F674AD\",\"69E475C5708ABE56\",\"86B91078B1F0BA1A\",\"511A2D5B22AD641A\",\"290326A9104DB872\",\"76393E0F01CAE2CA\",\"4A31C7D744CD9A93\",\"9DAFB026AEBBDAFE\",\"533875958A606F65\",\"FE71F0A53DAB2785\",\"A590605E86702BCF\",\"312C37647F3D5433\",\"239838E03D995168\",\"70BF82527E6ED9C3\",\"534E71EF4BA058B3\",\"03FBDF999D5B81B8\",\"1E668CD36ACB7265\",\"A880134551CFF8B7\",\"F9DFAB50E81BC553\",\"6D863D292328C2F8\",\"1CC27A00D4907AAB\",\"88BBEF4E97E13E37\",\"3F775ABC71333988\",\"8E81C0C7B641D8C2\",\"C41214B4BA25043A\",\"17A89DA47D90D851\",\"3064F92E0D1B803A\",\"AA116D67C4F48D50\",\"1945239423B0B3B4\",\"BDD00B1F48E79336\",\"04C4D0F1A70300A5\",\"35795D0E78C18AE4\",\"59FF17724B8BCE48\",\"3C7868D5FEDB39F7\",\"16F2DB656CC2F952\",\"3ECAF9DDE673D88F\",\"B4FC80365FDFA4A8\",\"7DD97D3E8E2C5E85\",\"5A7165E3831CBE75\",\"6B03981851818A0F\",\"49569D25169318CC\",\"41D07BC18827E0F0\",\"BF88F3FD46BF3526\",\"6EF306ED7FFDAC30\",\"C2A20DB190591388\",\"EF28340272E72857\",\"1640F596CBBD5F5C\",\"517AF7BC57030E32\",\"3D9633B71B66AE5F\",\"E5E9B30C2F43C01E\",\"ACDE3F74B5C29D5E\",\"469A323E465D5D9D\",\"A2505D1062E77B85\",\"0BDB34641D8F1F3E\",\"2C8D5D38742CD38D\",\"F5D6BFBBC749C924\",\"911D5D278FA409A2\",\"DE22D75F401AB4C9\",\"C1165CDA449AC6BC\",\"9880CC12FD51CCFD\",\"4400B2091A6E2CCD\",\"A8294E42CCC07445\",\"F4502564DB470382\",\"641113A4DA4EA692\",\"F04D6A0624CD2D1E\",\"49478BD14821320E\",\"A0C1D43C0E3E0C91\",\"99BA41CB3831DBEA\",\"579B3D86394964FD\",\"2464963CA2CEC30F\",\"5D1A0C29AA615473\",\"3793C013A400F6F2\",\"575525DD276A50E1\",\"6FA70EE4C9B7B522\",\"CAE4437A26D33066\",\"A91D8C88E408FD62\",\"D70EF43499FEBA88\",\"775A397055F0E2DB\",\"0E989C6250A1A848\",\"8B8BEF27A788DCA7\",\"63921F5BA0575CB5\",\"FE58F50513E87CB3\",\"6705FF95E8929042\",\"95405F0CAA4D080E\",\"1BBC5A79A0E16E1F\",\"5AB73A7F26A6B2D3\",\"E18160F4BCA5344E\",\"DA1DE5D23F1146E8\",\"5F09B85B875AA41D\",\"B696FC458C6E7356\",\"6EBE1F0101805FF8\",\"40AD302D0F49AA6F\",\"B58337FD288F6C09\",\"6B330F361B64F45A\",\"F0A1C31A7211AC16\",\"BBE9A95D9C17C35C\",\"FADA29DC5BC67E54\",\"F9DC5907335EF6FE\",\"FD29640EA6992980\",\"D63375DEBF111D81\",\"107E3525129860E1\",\"B27B9689064C54C4\",\"8AAB656D95891646\",\"B443345D2BB1A960\",\"3E6222A7C0D4CFC0\",\"9129432E44950B25\",\"8CB19D3BF05472EB\",\"C615792E479BC0C8\",\"4D74048856D1AE61\",\"96E3D5B7F9DCB17B\",\"6CB864E93DBC6A90\",\"5A3B4228AD33781F\",\"F4212203E59786EF\",\"91E39AA34D6D1173\",\"EA8BD17A1314F1F2\",\"732A1335A53C14D5\",\"48F2F01F06C1678E\",\"A9DABAEA2233576C\",\"7D4C6A8C20B204F1\",\"A10B6139CAE278DE\",\"901C0498FF3E6796\",\"86172D2A196D7D03\",\"4DBBBAA6705078D0\",\"A412E4B7C71C0D94\",\"E4383C431F2088C0\",\"A47A3F447566B4FB\",\"6070F5902C3DDFE9\",\"173B960BB44D4E22\",\"F63D92A55DBBBD03\",\"29E9866612920757\",\"68E1CED07444D6EC\",\"F8383EBB9F73148A\",\"7038B79614CF9227\",\"CDBDCFC2BE3CF712\",\"D6649FC9A4F2CC18\",\"5CEB77CDDECDAF30\",\"AB654E0B6C2B28EA\",\"151B5FD7F13FA3EF\",\"DABA7414354F6B78\",\"BD990A8F9EB71A21\",\"7B3EADC54A094792\",\"AFE150D832FCF4FA\",\"73470F95F5377324\",\"953EF42BFB998A53\",\"FD53250D597380E1\",\"3E3A3F7BD9997D21\",\"3F7EBE6FDCC04ED6\",\"D173942D5B956D85\",\"060A0D1C79000BB8\",\"AA2AF93B4E57D177\",\"B1C9D123A83DD6CD\",\"868DBE2E4FE76465\",\"1BA447F188BF7D20\",\"92C95D766C83C31A\",\"99931A66B4B8B4CF\",\"905DD56D762FC215\",\"552AF033F097DE56\",\"9FCC1C0EAD936532\",\"3569BA7B41A98A97\",\"563FBD5282619D25\",\"9A69D975A4ABE47C\",\"13316E208F8C037D\",\"B0B2316751B54A72\",\"1D95C80183156D87\",\"C37FDEAD2E788A6F\",\"DE6E699FD6281890\",\"4B49F8A4F8D891BE\",\"212D88C42A5E6FDB\",\"A7196A3CDB0D572D\",\"C6647391F831C413\",\"1D1E59B3A1B377AA\",\"F0CC6EE4281868F8\",\"9D283A5DF09EE024\",\"542DD6DB81108686\",\"1042C7577F706938\",\"8A494F7F70AA2A2A\",\"C2D4E615FE1DA17D\",\"B3B22AE437D17F30\",\"EBDAA94D2B080E7A\",\"B15E1BD8D331AB87\",\"958F3C157633225D\",\"75C1434A74B03290\",\"B38EEA46FB16B0B3\",\"1E7CED0F8870180C\",\"B32F4A26E0D11D42\",\"80A2F277C571443C\",\"5C9E46262BBA9A24\",\"CDAB4A05F21A24C5\",\"7798AFEEB27B1777\",\"788724F2A10C59FE\",\"B8F008F4479822AC\",\"1B1BF1461CD36163\",\"83326C8A4BDB6BE1\",\"46999A8B46BC31A1\",\"3382B624CF985A13\",\"5785007C5A8B044E\",\"F571D96ED3330551\",\"991220A6485D2BA1\",\"F1A94E1985108CF4\",\"984B032C6621C612\",\"BE161380813AA0F3\",\"FDF035F9D4A1EB66\",\"91EAAB21F1AF3BC4\",\"8894D13FAA431712\",\"95E1C1CC8012C4E3\",\"2BF3D5ED1825B984\",\"C765194AB5550498\",\"3583710776D87BDA\",\"5CA7ADBDA3931922\",\"D262F293E40C2A9D\",\"AFBAD1A3F719FF02\",\"A2D9B0A41AC5A83E\",\"0AA80FC19089B980\",\"C3E0EB602D1FCBD1\",\"F56AB08144DDDFBC\",\"66BBDB594A250B3B\",\"03BB84ECF71B163B\",\"EC9E9E250559033B\",\"D1BB2F57BCD02BAE\",\"CA6B3F85024FAF6B\",\"22A2FA654183E34B\",\"9DA57E06C97D3AC5\",\"C25EBE27E314D5AE\",\"A75BA772C28AA88D\",\"6764D16C3D67FF06\",\"4F556AAB06E086E5\",\"D713BA91349C6834\",\"60EA3F74525C4208\",\"874817567459C701\",\"FDF5ECE92EFCDEEB\",\"E14805CD622EA211\",\"52A0547B1B31907F\",\"85D9DB7B0BC24D2A\",\"245BD962FFBC57F0\",\"41720B0DC37FACD5\",\"23792ABC1A76D14D\",\"055A4CD17A483B8E\",\"953E74FDE41424B4\",\"FF825C1D791989B5\",\"69923ABAEE84BB30\",\"56AEC8FDA4BCA549\",\"6F5F0C6161DCC360\",\"3D1A366EDDC82832\",\"B37F427F93BCA1E3\",\"3FE5E65CD28CBA5E\",\"F7B9D8D3C0FC9881\",\"F96F169EAD97EA46\",\"16755E4546D18F76\",\"D2B0920BEBA4E75F\",\"801BE987E1A06E78\",\"B0BDF75B1B89A6AF\",\"AAED5CBA66F1C55B\",\"5A5E57DBDF04C4F4\",\"24BBA6901518DB00\",\"825B68CAAB0C8D43\",\"3371DE0844B9CDC8\",\"B15D97BB5A951978\",\"72B0745260AE6184\",\"8693A09149596719\",\"AE7BFC03E442CCC9\",\"F3FFDF50EF451F02\",\"7DAFBA5FB0B4D024\",\"4F54548CBDD4AAE1\",\"91B68311D636EB46\",\"14F40B71681AF332\",\"983D91483B077D54\",\"DF6671E3F52F4B7F\",\"B51F94359F04F11C\",\"2174C1A128A5B557\",\"D632B3CAD584BB27\",\"A485880B6E55E212\",\"3DCF021972D8EF1A\",\"B18AA196F9DA0701\",\"30E7C432FD442208\",\"0A12E8D9791F74A7\",\"1544489D5476AD59\",\"153200347424B168\",\"9925E2782BE199A1\",\"FB7BC3E70D51B5B8\",\"C67231B6FBA75D37\",\"E12E58566E7B52DC\",\"B503A84B0E055D6F\",\"E42BBE345615AE3A\",\"E93B6FE3C56ABA69\",\"934A57222FCEEB83\",\"2EE3F030DAD2F4DC\",\"55F1DDF55DD42893\",\"802AE3764E188FC6\",\"6805058419CB4E55\",\"4CAED71575E5EA2F\",\"2BDC4DBEBBA058B6\",\"B2496BD841EF337E\",\"016F758EB5C5A5DA\",\"7B38B8218026B2B7\",\"465BEC2A7190853B\",\"46BDEF99D733A7B7\",\"BAF6250F863EFA7E\",\"367F925EC459857E\",\"6F70F06DD209676B\",\"7DC0F01827866E41\",\"2B69B32532494178\",\"FFAE9489C76F352B\",\"D951417D2CE063C1\",\"0DBBDED2F16D742B\",\"48BEDF1889241425\",\"0940FB3C1DB35061\",\"E4144AF656371133\",\"31C4F30349A1FD8F\",\"734600819115FC68\",\"D19F39FBBBD3B6AD\",\"31AB275F4895BD43\",\"3E4599AD1DBDFB0B\",\"C79239C16E4E6694\",\"FCBE4B0CF081F04D\",\"5EE1190E48EC36B0\",\"C4D48357F1C18C76\",\"49C52F2638D25D2F\",\"2877A44C2F971C12\",\"FA6DAE0DFED333DB\",\"5B04574502DEFDB3\",\"1492EAE3E322E4A1\",\"10018FAD7C1BEB3E\",\"0363BAFB478AA9EF\",\"0800A943C9DD854B\",\"9BEEEE65882593E2\",\"1F514BE52B1D15CE\",\"2BF0FD2A1A0F2C85\",\"26AB15B163D012E4\",\"DD9369338455727C\",\"0582333D77F30B60\",\"EBDC76AED7617CD3\",\"F04A73A5D088CAA3\",\"06BAD1D5991E8D23\",\"B837BA2E0B415FEB\",\"DDA59F1445D7B7B8\",\"96950958935E7514\",\"E4E9EB84F2C1A587\",\"894400D17C4E34C2\",\"92C28624A9DB3223\",\"9A7D2A236FE09070\",\"4145082AF3933491\",\"77BFA1137865D63F\",\"86413072FE37BD5C\",\"3649308AAC0EA3B0\",\"C36784B608C9A693\",\"0145A5A1EC388D99\",\"BD3EA4670C6EA0BD\",\"5113A784E6D37E50\",\"078BBC9CB2F0AD3A\",\"FCF409D5D3754471\",\"851916DE31D66476\",\"11D12E02D83F1ED5\",\"D8F6AB1991C8E709\",\"BB3873E1AC6E7BC3\",\"31BF5EE63818001F\",\"2853F21A0E52F7AA\",\"B7AD6966E5557BE0\",\"ED23F5C2D8ED9CD1\",\"9C4B7726FB9E6A20\",\"446CD36FC22A5BB6\",\"3FD750E6566CE5E3\",\"70A46904BE7D4AAA\",\"4FF2998A348C484F\",\"375CA26C16C90078\",\"A03EAD12BAD403BC\",\"85915C6A502F9D7C\",\"A71444B5BEB5CCC4\",\"183D7512DBC06186\",\"2F9EC4B16D68E2F1\",\"B72F5774CD44A44F\",\"87DF5425F6ED0C32\",\"F4190A5A95736012\",\"9333B7AE1D0B7626\",\"8CBAB0A405CB98CF\",\"6A01DD5AF15B5187\",\"921FFC6F0F506A82\",\"A354B804BD270C75\",\"0CA61E320CBC8D4F\",\"8A9B589AE60EA3C0\",\"F0BFCAD95429C41D\",\"31B39445D687BB84\",\"BD5B7F0EBCBE8676\",\"6D3792154BB5A659\",\"FAEC4312DD2E4909\",\"6341253DB26441CC\",\"04D5AF81AA35C50B\",\"9A249D543CF73E68\",\"7E99823BCDFE0D65\",\"13805E998FE5D7B8\",\"8F876B313F70402F\",\"4B45602B7DC37B62\",\"A7A3664BD6242119\",\"6749FD012B7C93FD\",\"11134ED04138F0F8\",\"8539AA62B6546F8A\",\"EFE533D29119526E\",\"36A6A2C3AA89820B\",\"5461DD0AF191F581\",\"02B66A338F0137EE\",\"82E5AA87E6824AEB\",\"2C1F2C9B0CBA4297\",\"653EBCD2CB2F7DB2\",\"DD92056E5E6722C8\",\"D6479D2D2511094C\",\"5FD70E4EED91B114\",\"76B806E24C7FA025\",\"C51F70F9545C0D4F\",\"6050D52AD58BC624\",\"F939B9720A300065\",\"723B41059095F122\",\"9EBDA30C87A7B9B3\",\"60113D4208F4A6EA\",\"74079CD878C158EF\",\"77FFA1F4A6FE5C3E\",\"B8EF6F0325A9979F\",\"A0F2321616568D2A\",\"9C074AA784E63970\",\"7E8DBD151C4E5182\",\"72575C90C2A324D6\",\"53F603F8485ECB58\",\"D6A70FC056A22C04\",\"01553AABC481F26C\",\"0E77217AC0A85CB2\",\"2AD6903B2DCEAE0D\",\"4298B982B0AA2F62\",\"C729D0E3D2A3D492\",\"307C06C0E6F09B93\",\"1BE3717DF3A38FBF\",\"02894A55BC14A70E\",\"9DABE433CC812C08\",\"C50CBD7B62641D4D\",\"4EDECF1AB09813F8\",\"614C70A1978FFBC1\",\"5B237EAF7E0F3D79\",\"4C30B83191F4E868\",\"06CCA412F4C879ED\",\"C72B7A00E1C4419C\",\"ACB64C0F136FCAE1\",\"81E31430C71D7AC3\",\"EC06DE0952364C62\",\"E5B644C3C3520C98\",\"F6D9C08D0E97DE88\",\"3DC600D74FA59779\",\"AAD72B195EFC73A4\",\"4CCFDC7BE9B6FE73\",\"2B8FD20CA8A2A616\",\"C8969E6A0E51FE3E\",\"8B45AC0942F3C370\",\"C632F81395C23676\",\"28DA45027098F402\",\"12068A34805A6C32\",\"16A966EDBF8F9287\",\"9CF2FC323C1035E1\",\"6373DF47967DE965\",\"913FCF58A6F45F8E\",\"85D46DADC8816F72\",\"A4FB6B61C861EB1F\",\"E62E2664B4743026\",\"B893A9176CA2DDCC\",\"C83DCBFBC0967743\",\"1EAEC9948792FF2F\",\"A1BCBE234E188E49\",\"D5DFEBAC8C8543A7\",\"DD54906991EAB1E2\",\"9D1710D562537AA8\",\"81A0601A3B4C4C17\",\"5F667A1BC839354B\",\"8B82FB9EA5014860\",\"B3BD1DE2ACEEBC87\",\"DFFC60C5AD11418C\",\"70900182F3001416\",\"68E46B7897232BBF\",\"CA6994E92085D1C5\",\"CD4C85C47F5F148E\",\"8DFE574865EA1EC3\",\"0700AB5BD97D1771\",\"7059DFDF8025FD86\",\"F3C90449CB042238\",\"97C81DBEC8A630F9\",\"EDD72A37B86EE7C2\",\"05DFF8D890EC3429\",\"BFF0116E9CD4D28E\",\"DFD77DA1FAA2C46A\",\"288A7705B55FE38E\",\"00A52DCF85F1BE03\",\"8B021506DD0CD8DF\",\"7F56D0CFA440BB7E\",\"CEBB61ADD0D85C83\",\"AB520A42EB5EB73F\",\"B6B88E3240A47646\",\"34A2E022930DFCA3\",\"18926530B5F5BCDD\",\"9F17DAA9F8821330\",\"E1E0F9C8926A96B4\",\"FC67251B307846CB\",\"F19205C6AF985AC9\",\"6E238F312F68FAB6\",\"8069A6A5ED6E6D47\",\"F4BAA929764EA30D\",\"CBB4B28BA84F29E5\",\"78BC3B0E55AEFB14\",\"2A73CCCA89AAAFE5\",\"BCF4888C3F7DE189\",\"95F1CF85840D01B4\",\"DDD859FC59037434\",\"ADCF8D880A4BE067\",\"01BD731FB5E57AE6\",\"E815E08BE5722AAD\",\"F13161BCC753E670\",\"83DD3CE577B386E3\",\"42E21803C9955DC5\",\"36B2004F6A1C76DF\",\"DB3B549E022BBAE1\",\"E683984393E1F99A\",\"0ACD764342811460\",\"6E31C8BED9F23B8C\",\"2599F6408D61FAD1\",\"5E4F77BDD1723F58\",\"4D269D6E438C6D22\",\"E89DD9709629CDD3\",\"6284CDE89D5FC466\",\"6A2F87E0CD728315\",\"DCAA50AF3E368063\",\"476005F7F3715DF8\",\"C13E8869B81D02FF\",\"C472EA28E25BE6D7\",\"59322F3BAE5D0668\",\"930EACAE048DFF45\",\"36EDA624DB7B7F90\",\"27796B536E6C0F6D\",\"D05424491FD19AEC\",\"6C528D480CC1A7B7\",\"F38DCAC01C1630F7\",\"4B479E626904CF59\",\"82AE150FE103247A\",\"27988259533C8798\",\"3DC311B379E322DB\",\"E5589EAE02ACD150\",\"23099FEE162E1171\",\"D21F0D4FDCD82DB2\",\"E7B2A78D5A84BB47\",\"72647D307F95C9B8\",\"A416E74F8034D44E\",\"A3BEB02A027BA3C4\",\"8D406B3B500671BD\",\"327EB6851FEAD2E9\",\"DF3A30004D073871\",\"0FDE9F3DBB7E948F\",\"2147D9283BE41557\",\"5D7099BA15597D3D\",\"FD83244D94C592DB\",\"553BAE96C6EB6240\",\"E6A7D9D321098C74\",\"C27F677720E68EA4\",\"3CA972F86411CF13\",\"0F7D49FC184EDCDE\",\"574ACBC674BC385D\",\"0416B34D35C8C8B8\"],\"yaxis\":\"y\",\"type\":\"bar\"}],                        {\"template\":{\"data\":{\"histogram2dcontour\":[{\"type\":\"histogram2dcontour\",\"colorbar\":{\"outlinewidth\":0,\"ticks\":\"\"},\"colorscale\":[[0.0,\"#0d0887\"],[0.1111111111111111,\"#46039f\"],[0.2222222222222222,\"#7201a8\"],[0.3333333333333333,\"#9c179e\"],[0.4444444444444444,\"#bd3786\"],[0.5555555555555556,\"#d8576b\"],[0.6666666666666666,\"#ed7953\"],[0.7777777777777778,\"#fb9f3a\"],[0.8888888888888888,\"#fdca26\"],[1.0,\"#f0f921\"]]}],\"choropleth\":[{\"type\":\"choropleth\",\"colorbar\":{\"outlinewidth\":0,\"ticks\":\"\"}}],\"histogram2d\":[{\"type\":\"histogram2d\",\"colorbar\":{\"outlinewidth\":0,\"ticks\":\"\"},\"colorscale\":[[0.0,\"#0d0887\"],[0.1111111111111111,\"#46039f\"],[0.2222222222222222,\"#7201a8\"],[0.3333333333333333,\"#9c179e\"],[0.4444444444444444,\"#bd3786\"],[0.5555555555555556,\"#d8576b\"],[0.6666666666666666,\"#ed7953\"],[0.7777777777777778,\"#fb9f3a\"],[0.8888888888888888,\"#fdca26\"],[1.0,\"#f0f921\"]]}],\"heatmap\":[{\"type\":\"heatmap\",\"colorbar\":{\"outlinewidth\":0,\"ticks\":\"\"},\"colorscale\":[[0.0,\"#0d0887\"],[0.1111111111111111,\"#46039f\"],[0.2222222222222222,\"#7201a8\"],[0.3333333333333333,\"#9c179e\"],[0.4444444444444444,\"#bd3786\"],[0.5555555555555556,\"#d8576b\"],[0.6666666666666666,\"#ed7953\"],[0.7777777777777778,\"#fb9f3a\"],[0.8888888888888888,\"#fdca26\"],[1.0,\"#f0f921\"]]}],\"heatmapgl\":[{\"type\":\"heatmapgl\",\"colorbar\":{\"outlinewidth\":0,\"ticks\":\"\"},\"colorscale\":[[0.0,\"#0d0887\"],[0.1111111111111111,\"#46039f\"],[0.2222222222222222,\"#7201a8\"],[0.3333333333333333,\"#9c179e\"],[0.4444444444444444,\"#bd3786\"],[0.5555555555555556,\"#d8576b\"],[0.6666666666666666,\"#ed7953\"],[0.7777777777777778,\"#fb9f3a\"],[0.8888888888888888,\"#fdca26\"],[1.0,\"#f0f921\"]]}],\"contourcarpet\":[{\"type\":\"contourcarpet\",\"colorbar\":{\"outlinewidth\":0,\"ticks\":\"\"}}],\"contour\":[{\"type\":\"contour\",\"colorbar\":{\"outlinewidth\":0,\"ticks\":\"\"},\"colorscale\":[[0.0,\"#0d0887\"],[0.1111111111111111,\"#46039f\"],[0.2222222222222222,\"#7201a8\"],[0.3333333333333333,\"#9c179e\"],[0.4444444444444444,\"#bd3786\"],[0.5555555555555556,\"#d8576b\"],[0.6666666666666666,\"#ed7953\"],[0.7777777777777778,\"#fb9f3a\"],[0.8888888888888888,\"#fdca26\"],[1.0,\"#f0f921\"]]}],\"surface\":[{\"type\":\"surface\",\"colorbar\":{\"outlinewidth\":0,\"ticks\":\"\"},\"colorscale\":[[0.0,\"#0d0887\"],[0.1111111111111111,\"#46039f\"],[0.2222222222222222,\"#7201a8\"],[0.3333333333333333,\"#9c179e\"],[0.4444444444444444,\"#bd3786\"],[0.5555555555555556,\"#d8576b\"],[0.6666666666666666,\"#ed7953\"],[0.7777777777777778,\"#fb9f3a\"],[0.8888888888888888,\"#fdca26\"],[1.0,\"#f0f921\"]]}],\"mesh3d\":[{\"type\":\"mesh3d\",\"colorbar\":{\"outlinewidth\":0,\"ticks\":\"\"}}],\"scatter\":[{\"fillpattern\":{\"fillmode\":\"overlay\",\"size\":10,\"solidity\":0.2},\"type\":\"scatter\"}],\"parcoords\":[{\"type\":\"parcoords\",\"line\":{\"colorbar\":{\"outlinewidth\":0,\"ticks\":\"\"}}}],\"scatterpolargl\":[{\"type\":\"scatterpolargl\",\"marker\":{\"colorbar\":{\"outlinewidth\":0,\"ticks\":\"\"}}}],\"bar\":[{\"error_x\":{\"color\":\"#2a3f5f\"},\"error_y\":{\"color\":\"#2a3f5f\"},\"marker\":{\"line\":{\"color\":\"#E5ECF6\",\"width\":0.5},\"pattern\":{\"fillmode\":\"overlay\",\"size\":10,\"solidity\":0.2}},\"type\":\"bar\"}],\"scattergeo\":[{\"type\":\"scattergeo\",\"marker\":{\"colorbar\":{\"outlinewidth\":0,\"ticks\":\"\"}}}],\"scatterpolar\":[{\"type\":\"scatterpolar\",\"marker\":{\"colorbar\":{\"outlinewidth\":0,\"ticks\":\"\"}}}],\"histogram\":[{\"marker\":{\"pattern\":{\"fillmode\":\"overlay\",\"size\":10,\"solidity\":0.2}},\"type\":\"histogram\"}],\"scattergl\":[{\"type\":\"scattergl\",\"marker\":{\"colorbar\":{\"outlinewidth\":0,\"ticks\":\"\"}}}],\"scatter3d\":[{\"type\":\"scatter3d\",\"line\":{\"colorbar\":{\"outlinewidth\":0,\"ticks\":\"\"}},\"marker\":{\"colorbar\":{\"outlinewidth\":0,\"ticks\":\"\"}}}],\"scattermapbox\":[{\"type\":\"scattermapbox\",\"marker\":{\"colorbar\":{\"outlinewidth\":0,\"ticks\":\"\"}}}],\"scatterternary\":[{\"type\":\"scatterternary\",\"marker\":{\"colorbar\":{\"outlinewidth\":0,\"ticks\":\"\"}}}],\"scattercarpet\":[{\"type\":\"scattercarpet\",\"marker\":{\"colorbar\":{\"outlinewidth\":0,\"ticks\":\"\"}}}],\"carpet\":[{\"aaxis\":{\"endlinecolor\":\"#2a3f5f\",\"gridcolor\":\"white\",\"linecolor\":\"white\",\"minorgridcolor\":\"white\",\"startlinecolor\":\"#2a3f5f\"},\"baxis\":{\"endlinecolor\":\"#2a3f5f\",\"gridcolor\":\"white\",\"linecolor\":\"white\",\"minorgridcolor\":\"white\",\"startlinecolor\":\"#2a3f5f\"},\"type\":\"carpet\"}],\"table\":[{\"cells\":{\"fill\":{\"color\":\"#EBF0F8\"},\"line\":{\"color\":\"white\"}},\"header\":{\"fill\":{\"color\":\"#C8D4E3\"},\"line\":{\"color\":\"white\"}},\"type\":\"table\"}],\"barpolar\":[{\"marker\":{\"line\":{\"color\":\"#E5ECF6\",\"width\":0.5},\"pattern\":{\"fillmode\":\"overlay\",\"size\":10,\"solidity\":0.2}},\"type\":\"barpolar\"}],\"pie\":[{\"automargin\":true,\"type\":\"pie\"}]},\"layout\":{\"autotypenumbers\":\"strict\",\"colorway\":[\"#636efa\",\"#EF553B\",\"#00cc96\",\"#ab63fa\",\"#FFA15A\",\"#19d3f3\",\"#FF6692\",\"#B6E880\",\"#FF97FF\",\"#FECB52\"],\"font\":{\"color\":\"#2a3f5f\"},\"hovermode\":\"closest\",\"hoverlabel\":{\"align\":\"left\"},\"paper_bgcolor\":\"white\",\"plot_bgcolor\":\"#E5ECF6\",\"polar\":{\"bgcolor\":\"#E5ECF6\",\"angularaxis\":{\"gridcolor\":\"white\",\"linecolor\":\"white\",\"ticks\":\"\"},\"radialaxis\":{\"gridcolor\":\"white\",\"linecolor\":\"white\",\"ticks\":\"\"}},\"ternary\":{\"bgcolor\":\"#E5ECF6\",\"aaxis\":{\"gridcolor\":\"white\",\"linecolor\":\"white\",\"ticks\":\"\"},\"baxis\":{\"gridcolor\":\"white\",\"linecolor\":\"white\",\"ticks\":\"\"},\"caxis\":{\"gridcolor\":\"white\",\"linecolor\":\"white\",\"ticks\":\"\"}},\"coloraxis\":{\"colorbar\":{\"outlinewidth\":0,\"ticks\":\"\"}},\"colorscale\":{\"sequential\":[[0.0,\"#0d0887\"],[0.1111111111111111,\"#46039f\"],[0.2222222222222222,\"#7201a8\"],[0.3333333333333333,\"#9c179e\"],[0.4444444444444444,\"#bd3786\"],[0.5555555555555556,\"#d8576b\"],[0.6666666666666666,\"#ed7953\"],[0.7777777777777778,\"#fb9f3a\"],[0.8888888888888888,\"#fdca26\"],[1.0,\"#f0f921\"]],\"sequentialminus\":[[0.0,\"#0d0887\"],[0.1111111111111111,\"#46039f\"],[0.2222222222222222,\"#7201a8\"],[0.3333333333333333,\"#9c179e\"],[0.4444444444444444,\"#bd3786\"],[0.5555555555555556,\"#d8576b\"],[0.6666666666666666,\"#ed7953\"],[0.7777777777777778,\"#fb9f3a\"],[0.8888888888888888,\"#fdca26\"],[1.0,\"#f0f921\"]],\"diverging\":[[0,\"#8e0152\"],[0.1,\"#c51b7d\"],[0.2,\"#de77ae\"],[0.3,\"#f1b6da\"],[0.4,\"#fde0ef\"],[0.5,\"#f7f7f7\"],[0.6,\"#e6f5d0\"],[0.7,\"#b8e186\"],[0.8,\"#7fbc41\"],[0.9,\"#4d9221\"],[1,\"#276419\"]]},\"xaxis\":{\"gridcolor\":\"white\",\"linecolor\":\"white\",\"ticks\":\"\",\"title\":{\"standoff\":15},\"zerolinecolor\":\"white\",\"automargin\":true,\"zerolinewidth\":2},\"yaxis\":{\"gridcolor\":\"white\",\"linecolor\":\"white\",\"ticks\":\"\",\"title\":{\"standoff\":15},\"zerolinecolor\":\"white\",\"automargin\":true,\"zerolinewidth\":2},\"scene\":{\"xaxis\":{\"backgroundcolor\":\"#E5ECF6\",\"gridcolor\":\"white\",\"linecolor\":\"white\",\"showbackground\":true,\"ticks\":\"\",\"zerolinecolor\":\"white\",\"gridwidth\":2},\"yaxis\":{\"backgroundcolor\":\"#E5ECF6\",\"gridcolor\":\"white\",\"linecolor\":\"white\",\"showbackground\":true,\"ticks\":\"\",\"zerolinecolor\":\"white\",\"gridwidth\":2},\"zaxis\":{\"backgroundcolor\":\"#E5ECF6\",\"gridcolor\":\"white\",\"linecolor\":\"white\",\"showbackground\":true,\"ticks\":\"\",\"zerolinecolor\":\"white\",\"gridwidth\":2}},\"shapedefaults\":{\"line\":{\"color\":\"#2a3f5f\"}},\"annotationdefaults\":{\"arrowcolor\":\"#2a3f5f\",\"arrowhead\":0,\"arrowwidth\":1},\"geo\":{\"bgcolor\":\"white\",\"landcolor\":\"#E5ECF6\",\"subunitcolor\":\"white\",\"showland\":true,\"showlakes\":true,\"lakecolor\":\"white\"},\"title\":{\"x\":0.05},\"mapbox\":{\"style\":\"light\"}}},\"xaxis\":{\"anchor\":\"y\",\"domain\":[0.0,1.0],\"title\":{\"text\":\"first_date\"},\"tickangle\":-90,\"tickmode\":\"linear\"},\"yaxis\":{\"anchor\":\"x\",\"domain\":[0.0,1.0],\"title\":{\"text\":\"\\u041a\\u043e\\u043b\\u0438\\u0447\\u0435\\u0441\\u0442\\u0432\\u043e \\u0441\\u043e\\u0431\\u044b\\u0442\\u0438\\u0439\"}},\"legend\":{\"tracegroupgap\":0},\"margin\":{\"t\":60,\"l\":0,\"r\":0},\"barmode\":\"relative\",\"title\":{\"text\":\"\\u0420\\u0430\\u0441\\u043f\\u0440\\u0435\\u0434\\u0435\\u043b\\u0435\\u043d\\u0438\\u0435 \\u043a\\u043e\\u043b\\u0438\\u0447\\u0435\\u0441\\u0442\\u0432\\u0430 \\u0440\\u0435\\u0433\\u0438\\u0441\\u0442\\u0440\\u0430\\u0446\\u0438\\u0439 \\u0432 \\u0433\\u0440\\u0443\\u043f\\u043f\\u0435 \\u0410\"}},                        {\"responsive\": true}                    ).then(function(){\n",
              "                            \n",
              "var gd = document.getElementById('b5889cc2-d45b-49e3-9989-61bfc23d0449');\n",
              "var x = new MutationObserver(function (mutations, observer) {{\n",
              "        var display = window.getComputedStyle(gd).display;\n",
              "        if (!display || display === 'none') {{\n",
              "            console.log([gd, 'removed!']);\n",
              "            Plotly.purge(gd);\n",
              "            observer.disconnect();\n",
              "        }}\n",
              "}});\n",
              "\n",
              "// Listen for the removal of the full notebook cells\n",
              "var notebookContainer = gd.closest('#notebook-container');\n",
              "if (notebookContainer) {{\n",
              "    x.observe(notebookContainer, {childList: true});\n",
              "}}\n",
              "\n",
              "// Listen for the clearing of the current output cell\n",
              "var outputEl = gd.closest('.output');\n",
              "if (outputEl) {{\n",
              "    x.observe(outputEl, {childList: true});\n",
              "}}\n",
              "\n",
              "                        })                };                            </script>        </div>\n",
              "</body>\n",
              "</html>"
            ]
          },
          "metadata": {}
        }
      ],
      "source": [
        "my_bar(t, t['first_date'], t['user_id'],\n",
        "      'Распределение количества регистраций в группе А', 'Количество событий')"
      ]
    },
    {
      "cell_type": "markdown",
      "metadata": {
        "id": "-FKnvg7eSLVV"
      },
      "source": [
        "Регистрации в группе А резко рванули вверх. А в группе Б?"
      ]
    },
    {
      "cell_type": "code",
      "execution_count": null,
      "metadata": {
        "id": "tHcyDx5dSLVV",
        "outputId": "e39eed53-fd19-4521-961c-471e48fc919b",
        "colab": {
          "base_uri": "https://localhost:8080/"
        }
      },
      "outputs": [
        {
          "output_type": "display_data",
          "data": {
            "text/html": [
              "<html>\n",
              "<head><meta charset=\"utf-8\" /></head>\n",
              "<body>\n",
              "    <div>            <script src=\"https://cdnjs.cloudflare.com/ajax/libs/mathjax/2.7.5/MathJax.js?config=TeX-AMS-MML_SVG\"></script><script type=\"text/javascript\">if (window.MathJax && window.MathJax.Hub && window.MathJax.Hub.Config) {window.MathJax.Hub.Config({SVG: {font: \"STIX-Web\"}});}</script>                <script type=\"text/javascript\">window.PlotlyConfig = {MathJaxConfig: 'local'};</script>\n",
              "        <script src=\"https://cdn.plot.ly/plotly-2.18.2.min.js\"></script>                <div id=\"b96ff698-fa2a-4b14-8d87-1c520edc2242\" class=\"plotly-graph-div\" style=\"height:525px; width:100%;\"></div>            <script type=\"text/javascript\">                                    window.PLOTLYENV=window.PLOTLYENV || {};                                    if (document.getElementById(\"b96ff698-fa2a-4b14-8d87-1c520edc2242\")) {                    Plotly.newPlot(                        \"b96ff698-fa2a-4b14-8d87-1c520edc2242\",                        [{\"alignmentgroup\":\"True\",\"hovertemplate\":\"first_date=%{x}<br>user_id=%{y}<extra></extra>\",\"legendgroup\":\"\",\"marker\":{\"color\":\"#636efa\",\"pattern\":{\"shape\":\"\"}},\"name\":\"\",\"offsetgroup\":\"\",\"orientation\":\"v\",\"showlegend\":false,\"textposition\":\"auto\",\"x\":[\"2020-12-07T00:00:00\",\"2020-12-07T00:00:00\",\"2020-12-07T00:00:00\",\"2020-12-07T00:00:00\",\"2020-12-07T00:00:00\",\"2020-12-07T00:00:00\",\"2020-12-07T00:00:00\",\"2020-12-07T00:00:00\",\"2020-12-07T00:00:00\",\"2020-12-07T00:00:00\",\"2020-12-07T00:00:00\",\"2020-12-07T00:00:00\",\"2020-12-07T00:00:00\",\"2020-12-07T00:00:00\",\"2020-12-07T00:00:00\",\"2020-12-07T00:00:00\",\"2020-12-07T00:00:00\",\"2020-12-07T00:00:00\",\"2020-12-07T00:00:00\",\"2020-12-07T00:00:00\",\"2020-12-07T00:00:00\",\"2020-12-07T00:00:00\",\"2020-12-07T00:00:00\",\"2020-12-07T00:00:00\",\"2020-12-07T00:00:00\",\"2020-12-07T00:00:00\",\"2020-12-07T00:00:00\",\"2020-12-07T00:00:00\",\"2020-12-07T00:00:00\",\"2020-12-07T00:00:00\",\"2020-12-07T00:00:00\",\"2020-12-07T00:00:00\",\"2020-12-07T00:00:00\",\"2020-12-07T00:00:00\",\"2020-12-07T00:00:00\",\"2020-12-07T00:00:00\",\"2020-12-07T00:00:00\",\"2020-12-07T00:00:00\",\"2020-12-07T00:00:00\",\"2020-12-07T00:00:00\",\"2020-12-07T00:00:00\",\"2020-12-07T00:00:00\",\"2020-12-07T00:00:00\",\"2020-12-07T00:00:00\",\"2020-12-07T00:00:00\",\"2020-12-07T00:00:00\",\"2020-12-07T00:00:00\",\"2020-12-07T00:00:00\",\"2020-12-07T00:00:00\",\"2020-12-07T00:00:00\",\"2020-12-07T00:00:00\",\"2020-12-07T00:00:00\",\"2020-12-07T00:00:00\",\"2020-12-07T00:00:00\",\"2020-12-07T00:00:00\",\"2020-12-07T00:00:00\",\"2020-12-07T00:00:00\",\"2020-12-07T00:00:00\",\"2020-12-07T00:00:00\",\"2020-12-07T00:00:00\",\"2020-12-07T00:00:00\",\"2020-12-07T00:00:00\",\"2020-12-07T00:00:00\",\"2020-12-07T00:00:00\",\"2020-12-07T00:00:00\",\"2020-12-07T00:00:00\",\"2020-12-07T00:00:00\",\"2020-12-07T00:00:00\",\"2020-12-07T00:00:00\",\"2020-12-07T00:00:00\",\"2020-12-07T00:00:00\",\"2020-12-07T00:00:00\",\"2020-12-07T00:00:00\",\"2020-12-07T00:00:00\",\"2020-12-07T00:00:00\",\"2020-12-07T00:00:00\",\"2020-12-07T00:00:00\",\"2020-12-07T00:00:00\",\"2020-12-07T00:00:00\",\"2020-12-07T00:00:00\",\"2020-12-07T00:00:00\",\"2020-12-07T00:00:00\",\"2020-12-07T00:00:00\",\"2020-12-07T00:00:00\",\"2020-12-07T00:00:00\",\"2020-12-07T00:00:00\",\"2020-12-07T00:00:00\",\"2020-12-07T00:00:00\",\"2020-12-07T00:00:00\",\"2020-12-07T00:00:00\",\"2020-12-07T00:00:00\",\"2020-12-07T00:00:00\",\"2020-12-07T00:00:00\",\"2020-12-07T00:00:00\",\"2020-12-07T00:00:00\",\"2020-12-07T00:00:00\",\"2020-12-07T00:00:00\",\"2020-12-07T00:00:00\",\"2020-12-07T00:00:00\",\"2020-12-07T00:00:00\",\"2020-12-07T00:00:00\",\"2020-12-07T00:00:00\",\"2020-12-07T00:00:00\",\"2020-12-07T00:00:00\",\"2020-12-07T00:00:00\",\"2020-12-07T00:00:00\",\"2020-12-07T00:00:00\",\"2020-12-07T00:00:00\",\"2020-12-07T00:00:00\",\"2020-12-07T00:00:00\",\"2020-12-07T00:00:00\",\"2020-12-07T00:00:00\",\"2020-12-07T00:00:00\",\"2020-12-07T00:00:00\",\"2020-12-07T00:00:00\",\"2020-12-07T00:00:00\",\"2020-12-07T00:00:00\",\"2020-12-07T00:00:00\",\"2020-12-07T00:00:00\",\"2020-12-07T00:00:00\",\"2020-12-07T00:00:00\",\"2020-12-07T00:00:00\",\"2020-12-07T00:00:00\",\"2020-12-07T00:00:00\",\"2020-12-07T00:00:00\",\"2020-12-07T00:00:00\",\"2020-12-07T00:00:00\",\"2020-12-07T00:00:00\",\"2020-12-07T00:00:00\",\"2020-12-07T00:00:00\",\"2020-12-07T00:00:00\",\"2020-12-07T00:00:00\",\"2020-12-07T00:00:00\",\"2020-12-07T00:00:00\",\"2020-12-07T00:00:00\",\"2020-12-07T00:00:00\",\"2020-12-07T00:00:00\",\"2020-12-07T00:00:00\",\"2020-12-07T00:00:00\",\"2020-12-07T00:00:00\",\"2020-12-07T00:00:00\",\"2020-12-07T00:00:00\",\"2020-12-07T00:00:00\",\"2020-12-07T00:00:00\",\"2020-12-07T00:00:00\",\"2020-12-07T00:00:00\",\"2020-12-07T00:00:00\",\"2020-12-07T00:00:00\",\"2020-12-07T00:00:00\",\"2020-12-07T00:00:00\",\"2020-12-07T00:00:00\",\"2020-12-07T00:00:00\",\"2020-12-07T00:00:00\",\"2020-12-07T00:00:00\",\"2020-12-07T00:00:00\",\"2020-12-07T00:00:00\",\"2020-12-07T00:00:00\",\"2020-12-07T00:00:00\",\"2020-12-07T00:00:00\",\"2020-12-14T00:00:00\",\"2020-12-14T00:00:00\",\"2020-12-14T00:00:00\",\"2020-12-14T00:00:00\",\"2020-12-14T00:00:00\",\"2020-12-14T00:00:00\",\"2020-12-14T00:00:00\",\"2020-12-14T00:00:00\",\"2020-12-14T00:00:00\",\"2020-12-14T00:00:00\",\"2020-12-14T00:00:00\",\"2020-12-14T00:00:00\",\"2020-12-14T00:00:00\",\"2020-12-14T00:00:00\",\"2020-12-14T00:00:00\",\"2020-12-14T00:00:00\",\"2020-12-14T00:00:00\",\"2020-12-14T00:00:00\",\"2020-12-14T00:00:00\",\"2020-12-14T00:00:00\",\"2020-12-14T00:00:00\",\"2020-12-14T00:00:00\",\"2020-12-14T00:00:00\",\"2020-12-14T00:00:00\",\"2020-12-14T00:00:00\",\"2020-12-14T00:00:00\",\"2020-12-14T00:00:00\",\"2020-12-14T00:00:00\",\"2020-12-14T00:00:00\",\"2020-12-14T00:00:00\",\"2020-12-14T00:00:00\",\"2020-12-14T00:00:00\",\"2020-12-14T00:00:00\",\"2020-12-14T00:00:00\",\"2020-12-14T00:00:00\",\"2020-12-14T00:00:00\",\"2020-12-14T00:00:00\",\"2020-12-14T00:00:00\",\"2020-12-14T00:00:00\",\"2020-12-14T00:00:00\",\"2020-12-14T00:00:00\",\"2020-12-14T00:00:00\",\"2020-12-14T00:00:00\",\"2020-12-14T00:00:00\",\"2020-12-14T00:00:00\",\"2020-12-14T00:00:00\",\"2020-12-14T00:00:00\",\"2020-12-14T00:00:00\",\"2020-12-14T00:00:00\",\"2020-12-14T00:00:00\",\"2020-12-14T00:00:00\",\"2020-12-14T00:00:00\",\"2020-12-14T00:00:00\",\"2020-12-14T00:00:00\",\"2020-12-14T00:00:00\",\"2020-12-14T00:00:00\",\"2020-12-14T00:00:00\",\"2020-12-14T00:00:00\",\"2020-12-14T00:00:00\",\"2020-12-14T00:00:00\",\"2020-12-14T00:00:00\",\"2020-12-14T00:00:00\",\"2020-12-14T00:00:00\",\"2020-12-14T00:00:00\",\"2020-12-21T00:00:00\",\"2020-12-21T00:00:00\",\"2020-12-21T00:00:00\",\"2020-12-21T00:00:00\",\"2020-12-21T00:00:00\",\"2020-12-21T00:00:00\",\"2020-12-21T00:00:00\",\"2020-12-21T00:00:00\",\"2020-12-21T00:00:00\",\"2020-12-21T00:00:00\",\"2020-12-21T00:00:00\",\"2020-12-21T00:00:00\",\"2020-12-21T00:00:00\",\"2020-12-21T00:00:00\",\"2020-12-21T00:00:00\",\"2020-12-21T00:00:00\",\"2020-12-21T00:00:00\",\"2020-12-21T00:00:00\",\"2020-12-21T00:00:00\",\"2020-12-21T00:00:00\",\"2020-12-21T00:00:00\",\"2020-12-21T00:00:00\",\"2020-12-21T00:00:00\",\"2020-12-21T00:00:00\",\"2020-12-21T00:00:00\",\"2020-12-21T00:00:00\",\"2020-12-21T00:00:00\",\"2020-12-21T00:00:00\",\"2020-12-21T00:00:00\",\"2020-12-21T00:00:00\",\"2020-12-21T00:00:00\",\"2020-12-21T00:00:00\",\"2020-12-21T00:00:00\",\"2020-12-21T00:00:00\",\"2020-12-21T00:00:00\",\"2020-12-21T00:00:00\",\"2020-12-21T00:00:00\",\"2020-12-21T00:00:00\",\"2020-12-21T00:00:00\",\"2020-12-21T00:00:00\",\"2020-12-21T00:00:00\",\"2020-12-21T00:00:00\",\"2020-12-21T00:00:00\",\"2020-12-21T00:00:00\",\"2020-12-21T00:00:00\",\"2020-12-21T00:00:00\",\"2020-12-21T00:00:00\",\"2020-12-21T00:00:00\",\"2020-12-21T00:00:00\",\"2020-12-21T00:00:00\",\"2020-12-21T00:00:00\",\"2020-12-21T00:00:00\",\"2020-12-21T00:00:00\",\"2020-12-21T00:00:00\",\"2020-12-21T00:00:00\",\"2020-12-21T00:00:00\",\"2020-12-21T00:00:00\",\"2020-12-21T00:00:00\",\"2020-12-21T00:00:00\",\"2020-12-21T00:00:00\",\"2020-12-21T00:00:00\",\"2020-12-21T00:00:00\",\"2020-12-21T00:00:00\",\"2020-12-21T00:00:00\",\"2020-12-21T00:00:00\",\"2020-12-21T00:00:00\",\"2020-12-21T00:00:00\",\"2020-12-21T00:00:00\",\"2020-12-21T00:00:00\",\"2020-12-21T00:00:00\",\"2020-12-21T00:00:00\",\"2020-12-21T00:00:00\",\"2020-12-21T00:00:00\",\"2020-12-21T00:00:00\",\"2020-12-21T00:00:00\",\"2020-12-21T00:00:00\",\"2020-12-21T00:00:00\",\"2020-12-21T00:00:00\",\"2020-12-08T00:00:00\",\"2020-12-08T00:00:00\",\"2020-12-08T00:00:00\",\"2020-12-08T00:00:00\",\"2020-12-08T00:00:00\",\"2020-12-08T00:00:00\",\"2020-12-08T00:00:00\",\"2020-12-08T00:00:00\",\"2020-12-08T00:00:00\",\"2020-12-08T00:00:00\",\"2020-12-08T00:00:00\",\"2020-12-08T00:00:00\",\"2020-12-08T00:00:00\",\"2020-12-08T00:00:00\",\"2020-12-08T00:00:00\",\"2020-12-08T00:00:00\",\"2020-12-08T00:00:00\",\"2020-12-08T00:00:00\",\"2020-12-08T00:00:00\",\"2020-12-08T00:00:00\",\"2020-12-08T00:00:00\",\"2020-12-08T00:00:00\",\"2020-12-08T00:00:00\",\"2020-12-08T00:00:00\",\"2020-12-08T00:00:00\",\"2020-12-08T00:00:00\",\"2020-12-08T00:00:00\",\"2020-12-08T00:00:00\",\"2020-12-08T00:00:00\",\"2020-12-08T00:00:00\",\"2020-12-08T00:00:00\",\"2020-12-08T00:00:00\",\"2020-12-08T00:00:00\",\"2020-12-08T00:00:00\",\"2020-12-08T00:00:00\",\"2020-12-08T00:00:00\",\"2020-12-08T00:00:00\",\"2020-12-08T00:00:00\",\"2020-12-08T00:00:00\",\"2020-12-15T00:00:00\",\"2020-12-15T00:00:00\",\"2020-12-15T00:00:00\",\"2020-12-15T00:00:00\",\"2020-12-15T00:00:00\",\"2020-12-15T00:00:00\",\"2020-12-15T00:00:00\",\"2020-12-15T00:00:00\",\"2020-12-15T00:00:00\",\"2020-12-15T00:00:00\",\"2020-12-15T00:00:00\",\"2020-12-15T00:00:00\",\"2020-12-15T00:00:00\",\"2020-12-15T00:00:00\",\"2020-12-15T00:00:00\",\"2020-12-15T00:00:00\",\"2020-12-15T00:00:00\",\"2020-12-15T00:00:00\",\"2020-12-15T00:00:00\",\"2020-12-15T00:00:00\",\"2020-12-15T00:00:00\",\"2020-12-15T00:00:00\",\"2020-12-15T00:00:00\",\"2020-12-15T00:00:00\",\"2020-12-15T00:00:00\",\"2020-12-15T00:00:00\",\"2020-12-15T00:00:00\",\"2020-12-15T00:00:00\",\"2020-12-09T00:00:00\",\"2020-12-09T00:00:00\",\"2020-12-09T00:00:00\",\"2020-12-09T00:00:00\",\"2020-12-09T00:00:00\",\"2020-12-09T00:00:00\",\"2020-12-09T00:00:00\",\"2020-12-09T00:00:00\",\"2020-12-09T00:00:00\",\"2020-12-09T00:00:00\",\"2020-12-09T00:00:00\",\"2020-12-09T00:00:00\",\"2020-12-09T00:00:00\",\"2020-12-09T00:00:00\",\"2020-12-09T00:00:00\",\"2020-12-09T00:00:00\",\"2020-12-09T00:00:00\",\"2020-12-09T00:00:00\",\"2020-12-09T00:00:00\",\"2020-12-09T00:00:00\",\"2020-12-09T00:00:00\",\"2020-12-09T00:00:00\",\"2020-12-09T00:00:00\",\"2020-12-09T00:00:00\",\"2020-12-09T00:00:00\",\"2020-12-09T00:00:00\",\"2020-12-09T00:00:00\",\"2020-12-09T00:00:00\",\"2020-12-09T00:00:00\",\"2020-12-09T00:00:00\",\"2020-12-09T00:00:00\",\"2020-12-09T00:00:00\",\"2020-12-09T00:00:00\",\"2020-12-09T00:00:00\",\"2020-12-09T00:00:00\",\"2020-12-09T00:00:00\",\"2020-12-09T00:00:00\",\"2020-12-09T00:00:00\",\"2020-12-09T00:00:00\",\"2020-12-09T00:00:00\",\"2020-12-09T00:00:00\",\"2020-12-09T00:00:00\",\"2020-12-09T00:00:00\",\"2020-12-09T00:00:00\",\"2020-12-09T00:00:00\",\"2020-12-09T00:00:00\",\"2020-12-09T00:00:00\",\"2020-12-09T00:00:00\",\"2020-12-09T00:00:00\",\"2020-12-09T00:00:00\",\"2020-12-09T00:00:00\",\"2020-12-09T00:00:00\",\"2020-12-09T00:00:00\",\"2020-12-09T00:00:00\",\"2020-12-09T00:00:00\",\"2020-12-09T00:00:00\",\"2020-12-09T00:00:00\",\"2020-12-09T00:00:00\",\"2020-12-09T00:00:00\",\"2020-12-09T00:00:00\",\"2020-12-09T00:00:00\",\"2020-12-09T00:00:00\",\"2020-12-09T00:00:00\",\"2020-12-09T00:00:00\",\"2020-12-09T00:00:00\",\"2020-12-09T00:00:00\",\"2020-12-09T00:00:00\",\"2020-12-09T00:00:00\",\"2020-12-09T00:00:00\",\"2020-12-09T00:00:00\",\"2020-12-09T00:00:00\",\"2020-12-16T00:00:00\",\"2020-12-16T00:00:00\",\"2020-12-16T00:00:00\",\"2020-12-16T00:00:00\",\"2020-12-16T00:00:00\",\"2020-12-16T00:00:00\",\"2020-12-16T00:00:00\",\"2020-12-16T00:00:00\",\"2020-12-16T00:00:00\",\"2020-12-16T00:00:00\",\"2020-12-16T00:00:00\",\"2020-12-16T00:00:00\",\"2020-12-16T00:00:00\",\"2020-12-16T00:00:00\",\"2020-12-16T00:00:00\",\"2020-12-16T00:00:00\",\"2020-12-16T00:00:00\",\"2020-12-16T00:00:00\",\"2020-12-16T00:00:00\",\"2020-12-16T00:00:00\",\"2020-12-16T00:00:00\",\"2020-12-16T00:00:00\",\"2020-12-16T00:00:00\",\"2020-12-16T00:00:00\",\"2020-12-16T00:00:00\",\"2020-12-16T00:00:00\",\"2020-12-16T00:00:00\",\"2020-12-16T00:00:00\",\"2020-12-16T00:00:00\",\"2020-12-16T00:00:00\",\"2020-12-16T00:00:00\",\"2020-12-16T00:00:00\",\"2020-12-16T00:00:00\",\"2020-12-16T00:00:00\",\"2020-12-16T00:00:00\",\"2020-12-16T00:00:00\",\"2020-12-16T00:00:00\",\"2020-12-16T00:00:00\",\"2020-12-16T00:00:00\",\"2020-12-16T00:00:00\",\"2020-12-16T00:00:00\",\"2020-12-16T00:00:00\",\"2020-12-16T00:00:00\",\"2020-12-16T00:00:00\",\"2020-12-16T00:00:00\",\"2020-12-16T00:00:00\",\"2020-12-16T00:00:00\",\"2020-12-16T00:00:00\",\"2020-12-16T00:00:00\",\"2020-12-16T00:00:00\",\"2020-12-16T00:00:00\",\"2020-12-16T00:00:00\",\"2020-12-16T00:00:00\",\"2020-12-16T00:00:00\",\"2020-12-16T00:00:00\",\"2020-12-16T00:00:00\",\"2020-12-16T00:00:00\",\"2020-12-16T00:00:00\",\"2020-12-16T00:00:00\",\"2020-12-16T00:00:00\",\"2020-12-16T00:00:00\",\"2020-12-16T00:00:00\",\"2020-12-16T00:00:00\",\"2020-12-16T00:00:00\",\"2020-12-16T00:00:00\",\"2020-12-16T00:00:00\",\"2020-12-16T00:00:00\",\"2020-12-16T00:00:00\",\"2020-12-16T00:00:00\",\"2020-12-16T00:00:00\",\"2020-12-16T00:00:00\",\"2020-12-16T00:00:00\",\"2020-12-16T00:00:00\",\"2020-12-16T00:00:00\",\"2020-12-16T00:00:00\",\"2020-12-16T00:00:00\",\"2020-12-16T00:00:00\",\"2020-12-16T00:00:00\",\"2020-12-16T00:00:00\",\"2020-12-16T00:00:00\",\"2020-12-16T00:00:00\",\"2020-12-16T00:00:00\",\"2020-12-16T00:00:00\",\"2020-12-16T00:00:00\",\"2020-12-16T00:00:00\",\"2020-12-16T00:00:00\",\"2020-12-16T00:00:00\",\"2020-12-10T00:00:00\",\"2020-12-10T00:00:00\",\"2020-12-10T00:00:00\",\"2020-12-10T00:00:00\",\"2020-12-10T00:00:00\",\"2020-12-10T00:00:00\",\"2020-12-10T00:00:00\",\"2020-12-10T00:00:00\",\"2020-12-10T00:00:00\",\"2020-12-10T00:00:00\",\"2020-12-10T00:00:00\",\"2020-12-10T00:00:00\",\"2020-12-10T00:00:00\",\"2020-12-10T00:00:00\",\"2020-12-10T00:00:00\",\"2020-12-10T00:00:00\",\"2020-12-10T00:00:00\",\"2020-12-10T00:00:00\",\"2020-12-10T00:00:00\",\"2020-12-10T00:00:00\",\"2020-12-10T00:00:00\",\"2020-12-10T00:00:00\",\"2020-12-10T00:00:00\",\"2020-12-10T00:00:00\",\"2020-12-10T00:00:00\",\"2020-12-10T00:00:00\",\"2020-12-10T00:00:00\",\"2020-12-10T00:00:00\",\"2020-12-10T00:00:00\",\"2020-12-10T00:00:00\",\"2020-12-17T00:00:00\",\"2020-12-17T00:00:00\",\"2020-12-17T00:00:00\",\"2020-12-17T00:00:00\",\"2020-12-17T00:00:00\",\"2020-12-17T00:00:00\",\"2020-12-17T00:00:00\",\"2020-12-17T00:00:00\",\"2020-12-17T00:00:00\",\"2020-12-17T00:00:00\",\"2020-12-17T00:00:00\",\"2020-12-17T00:00:00\",\"2020-12-17T00:00:00\",\"2020-12-17T00:00:00\",\"2020-12-17T00:00:00\",\"2020-12-17T00:00:00\",\"2020-12-17T00:00:00\",\"2020-12-17T00:00:00\",\"2020-12-17T00:00:00\",\"2020-12-17T00:00:00\",\"2020-12-17T00:00:00\",\"2020-12-17T00:00:00\",\"2020-12-17T00:00:00\",\"2020-12-17T00:00:00\",\"2020-12-17T00:00:00\",\"2020-12-17T00:00:00\",\"2020-12-17T00:00:00\",\"2020-12-17T00:00:00\",\"2020-12-17T00:00:00\",\"2020-12-17T00:00:00\",\"2020-12-17T00:00:00\",\"2020-12-17T00:00:00\",\"2020-12-17T00:00:00\",\"2020-12-17T00:00:00\",\"2020-12-17T00:00:00\",\"2020-12-17T00:00:00\",\"2020-12-11T00:00:00\",\"2020-12-11T00:00:00\",\"2020-12-11T00:00:00\",\"2020-12-11T00:00:00\",\"2020-12-11T00:00:00\",\"2020-12-11T00:00:00\",\"2020-12-11T00:00:00\",\"2020-12-11T00:00:00\",\"2020-12-11T00:00:00\",\"2020-12-11T00:00:00\",\"2020-12-11T00:00:00\",\"2020-12-11T00:00:00\",\"2020-12-11T00:00:00\",\"2020-12-11T00:00:00\",\"2020-12-11T00:00:00\",\"2020-12-11T00:00:00\",\"2020-12-11T00:00:00\",\"2020-12-18T00:00:00\",\"2020-12-18T00:00:00\",\"2020-12-18T00:00:00\",\"2020-12-18T00:00:00\",\"2020-12-18T00:00:00\",\"2020-12-18T00:00:00\",\"2020-12-18T00:00:00\",\"2020-12-18T00:00:00\",\"2020-12-18T00:00:00\",\"2020-12-18T00:00:00\",\"2020-12-18T00:00:00\",\"2020-12-18T00:00:00\",\"2020-12-18T00:00:00\",\"2020-12-18T00:00:00\",\"2020-12-18T00:00:00\",\"2020-12-18T00:00:00\",\"2020-12-18T00:00:00\",\"2020-12-18T00:00:00\",\"2020-12-18T00:00:00\",\"2020-12-18T00:00:00\",\"2020-12-18T00:00:00\",\"2020-12-18T00:00:00\",\"2020-12-18T00:00:00\",\"2020-12-18T00:00:00\",\"2020-12-18T00:00:00\",\"2020-12-18T00:00:00\",\"2020-12-18T00:00:00\",\"2020-12-18T00:00:00\",\"2020-12-18T00:00:00\",\"2020-12-18T00:00:00\",\"2020-12-18T00:00:00\",\"2020-12-18T00:00:00\",\"2020-12-18T00:00:00\",\"2020-12-18T00:00:00\",\"2020-12-18T00:00:00\",\"2020-12-18T00:00:00\",\"2020-12-18T00:00:00\",\"2020-12-18T00:00:00\",\"2020-12-18T00:00:00\",\"2020-12-18T00:00:00\",\"2020-12-18T00:00:00\",\"2020-12-18T00:00:00\",\"2020-12-18T00:00:00\",\"2020-12-18T00:00:00\",\"2020-12-18T00:00:00\",\"2020-12-18T00:00:00\",\"2020-12-12T00:00:00\",\"2020-12-12T00:00:00\",\"2020-12-12T00:00:00\",\"2020-12-12T00:00:00\",\"2020-12-12T00:00:00\",\"2020-12-12T00:00:00\",\"2020-12-12T00:00:00\",\"2020-12-12T00:00:00\",\"2020-12-12T00:00:00\",\"2020-12-12T00:00:00\",\"2020-12-12T00:00:00\",\"2020-12-12T00:00:00\",\"2020-12-12T00:00:00\",\"2020-12-12T00:00:00\",\"2020-12-12T00:00:00\",\"2020-12-12T00:00:00\",\"2020-12-12T00:00:00\",\"2020-12-12T00:00:00\",\"2020-12-12T00:00:00\",\"2020-12-12T00:00:00\",\"2020-12-12T00:00:00\",\"2020-12-12T00:00:00\",\"2020-12-12T00:00:00\",\"2020-12-12T00:00:00\",\"2020-12-12T00:00:00\",\"2020-12-12T00:00:00\",\"2020-12-12T00:00:00\",\"2020-12-12T00:00:00\",\"2020-12-12T00:00:00\",\"2020-12-12T00:00:00\",\"2020-12-12T00:00:00\",\"2020-12-12T00:00:00\",\"2020-12-12T00:00:00\",\"2020-12-12T00:00:00\",\"2020-12-12T00:00:00\",\"2020-12-12T00:00:00\",\"2020-12-12T00:00:00\",\"2020-12-12T00:00:00\",\"2020-12-12T00:00:00\",\"2020-12-12T00:00:00\",\"2020-12-12T00:00:00\",\"2020-12-12T00:00:00\",\"2020-12-12T00:00:00\",\"2020-12-12T00:00:00\",\"2020-12-12T00:00:00\",\"2020-12-12T00:00:00\",\"2020-12-12T00:00:00\",\"2020-12-12T00:00:00\",\"2020-12-19T00:00:00\",\"2020-12-19T00:00:00\",\"2020-12-19T00:00:00\",\"2020-12-19T00:00:00\",\"2020-12-19T00:00:00\",\"2020-12-19T00:00:00\",\"2020-12-19T00:00:00\",\"2020-12-19T00:00:00\",\"2020-12-19T00:00:00\",\"2020-12-19T00:00:00\",\"2020-12-19T00:00:00\",\"2020-12-19T00:00:00\",\"2020-12-19T00:00:00\",\"2020-12-19T00:00:00\",\"2020-12-19T00:00:00\",\"2020-12-19T00:00:00\",\"2020-12-19T00:00:00\",\"2020-12-19T00:00:00\",\"2020-12-19T00:00:00\",\"2020-12-19T00:00:00\",\"2020-12-19T00:00:00\",\"2020-12-19T00:00:00\",\"2020-12-19T00:00:00\",\"2020-12-19T00:00:00\",\"2020-12-19T00:00:00\",\"2020-12-19T00:00:00\",\"2020-12-19T00:00:00\",\"2020-12-19T00:00:00\",\"2020-12-19T00:00:00\",\"2020-12-19T00:00:00\",\"2020-12-19T00:00:00\",\"2020-12-19T00:00:00\",\"2020-12-19T00:00:00\",\"2020-12-19T00:00:00\",\"2020-12-19T00:00:00\",\"2020-12-19T00:00:00\",\"2020-12-19T00:00:00\",\"2020-12-19T00:00:00\",\"2020-12-19T00:00:00\",\"2020-12-19T00:00:00\",\"2020-12-19T00:00:00\",\"2020-12-19T00:00:00\",\"2020-12-19T00:00:00\",\"2020-12-13T00:00:00\",\"2020-12-13T00:00:00\",\"2020-12-13T00:00:00\",\"2020-12-13T00:00:00\",\"2020-12-13T00:00:00\",\"2020-12-13T00:00:00\",\"2020-12-13T00:00:00\",\"2020-12-13T00:00:00\",\"2020-12-13T00:00:00\",\"2020-12-13T00:00:00\",\"2020-12-13T00:00:00\",\"2020-12-13T00:00:00\",\"2020-12-13T00:00:00\",\"2020-12-20T00:00:00\",\"2020-12-20T00:00:00\",\"2020-12-20T00:00:00\",\"2020-12-20T00:00:00\",\"2020-12-20T00:00:00\",\"2020-12-20T00:00:00\",\"2020-12-20T00:00:00\",\"2020-12-20T00:00:00\",\"2020-12-20T00:00:00\",\"2020-12-20T00:00:00\",\"2020-12-20T00:00:00\",\"2020-12-20T00:00:00\",\"2020-12-20T00:00:00\",\"2020-12-20T00:00:00\",\"2020-12-20T00:00:00\",\"2020-12-20T00:00:00\",\"2020-12-20T00:00:00\",\"2020-12-20T00:00:00\",\"2020-12-20T00:00:00\",\"2020-12-20T00:00:00\",\"2020-12-20T00:00:00\",\"2020-12-20T00:00:00\",\"2020-12-20T00:00:00\",\"2020-12-20T00:00:00\",\"2020-12-20T00:00:00\",\"2020-12-20T00:00:00\",\"2020-12-20T00:00:00\",\"2020-12-20T00:00:00\",\"2020-12-20T00:00:00\",\"2020-12-20T00:00:00\",\"2020-12-20T00:00:00\",\"2020-12-20T00:00:00\",\"2020-12-20T00:00:00\",\"2020-12-20T00:00:00\",\"2020-12-20T00:00:00\",\"2020-12-20T00:00:00\",\"2020-12-20T00:00:00\",\"2020-12-20T00:00:00\",\"2020-12-20T00:00:00\",\"2020-12-20T00:00:00\",\"2020-12-20T00:00:00\",\"2020-12-20T00:00:00\",\"2020-12-20T00:00:00\",\"2020-12-20T00:00:00\",\"2020-12-20T00:00:00\",\"2020-12-20T00:00:00\",\"2020-12-20T00:00:00\",\"2020-12-20T00:00:00\",\"2020-12-20T00:00:00\",\"2020-12-20T00:00:00\",\"2020-12-20T00:00:00\",\"2020-12-20T00:00:00\",\"2020-12-20T00:00:00\"],\"xaxis\":\"x\",\"y\":[\"4CB179C7F847320B\",\"29C92313A98B1176\",\"7D1BFB181017EB46\",\"21EA4E846C63EEA2\",\"204343649F72D01B\",\"49EA242586C87836\",\"75845C83258FBF73\",\"26A23E9CB4B57177\",\"A640F31CAC7823A6\",\"736990A3BC742A65\",\"DF40EF85F55A958D\",\"CBEFCA3BFDE4CC58\",\"9B234D350E686A67\",\"A9908F62C41613A8\",\"0997EC1C4850B27B\",\"C7CB2F1BA42F102B\",\"849E62FB58ECD9E8\",\"0FC3C8BC1348A405\",\"CE264232AC9049B8\",\"F0C5A6227B046452\",\"D928E12DD731B2EE\",\"E5C1C86BCE045D73\",\"A7E7871D2D2637C4\",\"58E6F67F64314776\",\"681FEAB4C02403C9\",\"D2ACA8F6E2C79C02\",\"C8ABA13613426B05\",\"5E0FE312B9349ADB\",\"DE4E1B6A308054BB\",\"C3666DF0F2EE66A9\",\"C56A31CE1C750E9B\",\"020A95B66F363AFB\",\"8B480AD647CE1BDE\",\"1C32919B0614E08B\",\"1FFFDF2881715DDF\",\"13497F441BC81020\",\"76326F7A53D2008C\",\"37A0A1F3FB2F01F4\",\"3B6ABE8E7872977E\",\"B5F49BFBDAB1AE0A\",\"7BC59B90C9447C42\",\"7E8720DB6A21CF66\",\"FC579467441F9567\",\"3EDE089E63723E21\",\"B0D0F552D955E773\",\"B33A4558DF69E37A\",\"D6B4574EE9574666\",\"0D7E9E93CD497547\",\"1F9EF3BA2E326E57\",\"172F0C1F993BE914\",\"36D7F758BDA431D2\",\"954C980B4A9559FF\",\"CFE0C6DEB1908885\",\"F057A0C8EFECDBEE\",\"095433767F103AC4\",\"56E03288981E9B3D\",\"15B0DB8D837C4234\",\"320CE96A266DF0CC\",\"7A504D510F9703FB\",\"3242BDDFA690A22B\",\"5E4209899B451FE6\",\"A27BAA0CE8FC4E80\",\"58EEC929BEEB234B\",\"C90BE197FEC95F6B\",\"7A6E345A0058C71B\",\"A383BFC91C909D0E\",\"D2E647207224B3CB\",\"66C940F046100DE1\",\"53D1ED34AA83F5DC\",\"BABB70C636BA523A\",\"A5392D494EB71414\",\"3C46C1264F52F92C\",\"B0244412983000C5\",\"825AED81399E5243\",\"890FAC5B9F47563F\",\"37D35A368E1996E1\",\"29F21B1D6ECA38C8\",\"6DC46FD66C7F126B\",\"D87D9AFAB66866A7\",\"2D12BC385E35EEDE\",\"20C556708013209A\",\"7E1F03995B8C2DC0\",\"479E6B3F54CD82C1\",\"8D3BB23BB020C0B9\",\"2C2BE85372033F77\",\"C21237DC47AE00C5\",\"742C0E363D2C9EA7\",\"38170259A5DD6CB0\",\"98B33EB3F1CE77F0\",\"DEC8CD55F35F2087\",\"535B2DB9FF2B1B9F\",\"B82E8D69DF24D051\",\"13638CB4AAEB1B5F\",\"E9FACA4A16026FEE\",\"36FCA849A8CF677A\",\"3A51DB52BBE78257\",\"CA75B372B0A884B0\",\"A244B2AA7F792F5B\",\"94DEE458C4F03B12\",\"6AEA9F09C2B28850\",\"FCA4F49B1A82FA6C\",\"F9945FBF588762BE\",\"C845E42170625895\",\"1AA90C1AD5727610\",\"B44FA1599E5095D7\",\"D777C0574A824593\",\"2139548144435929\",\"AEE24B6142A3C431\",\"20285349F62230E9\",\"4EFB5E89AC11AC6D\",\"53BF5C161381348E\",\"EBBE8317E9D7B490\",\"F4BEF7B9C8172E36\",\"47FD6B1D75C29C53\",\"BA5C51269356E223\",\"3BB8C637AE50D857\",\"FD18B77214097771\",\"1576666870A32FCF\",\"E24BE751BAC2D204\",\"C48127E2FA8D4F18\",\"C551062DE251F867\",\"C3C56A2DFF10BC79\",\"07234E37400E061A\",\"89143F0AEFE3B11D\",\"4438A8DB1591E2FD\",\"8FA22C8AB0409CA3\",\"B8F5A3560F2DF46E\",\"AAB4D11666ADB943\",\"8D46D7EB5112DC9D\",\"A95172F80393487E\",\"5FF8B6AB257B404F\",\"4664BF4717549775\",\"87C41A6F03A02CEA\",\"4ECCD93E1F247611\",\"4E30D2D92227F2AA\",\"1198061F6AF34B7B\",\"FCF9CA847EFA5A92\",\"EBBB856F2919A55E\",\"6715343AFBA285AE\",\"105D8E7444D335A5\",\"4F7E0D9A5A563B2C\",\"0E24E4F981343864\",\"B88758633AAFA177\",\"68F3A9E7EE6B9249\",\"EBE2130151519EF6\",\"F3A05C8D912975AB\",\"31EAD7E21AF728DF\",\"2EBF2E73A8630674\",\"E2E336528AB6202A\",\"89545C7F903DBA34\",\"9C1CB5C40F8B47FA\",\"B91148EC45D3102A\",\"115EBC1CA027854A\",\"CBB70C31A7269CA7\",\"1B5394FBA4DA7E61\",\"F4C8BB8D1622FE87\",\"72F9D925B81674E7\",\"C31E27AB7B567CA9\",\"8025229CCC15FC7D\",\"6BAE35235FB8D07D\",\"B700678A073FBD5D\",\"C8BDDF5639850737\",\"B5DC591BA6B42056\",\"CD084EB909D54213\",\"0225F4E8E0D98BA4\",\"5813F642DCC5984A\",\"E2638E6CF182BA09\",\"934F4410153B7733\",\"D45554BA350E10C4\",\"68A13C8A3E5FE18B\",\"E774D36D798A6EAB\",\"F928AA2E93C53974\",\"53558962449F6EDA\",\"B79716591F903CBA\",\"5D35BD0BE7E70446\",\"DBFF94F143546A7B\",\"EE74DF20ED158133\",\"7E10D15F5D8A0A23\",\"1E69D8DC3D22A02B\",\"7342090A9E50B657\",\"AEB82217F3BE4263\",\"B36E6B833278E44D\",\"A4E5755E0F7B094D\",\"D6924B9AB9903228\",\"42FC1295136570BA\",\"CEE4AB5EA4320CA2\",\"C4B642E77C1442DC\",\"9C63DB2A97C5A068\",\"DB515BDBB3A17F21\",\"2C8FDB1E5FC06335\",\"F0008E8F3F8473B7\",\"C32628A8AA662390\",\"9B3DEB6615CFFE54\",\"9A4FB81FE770A958\",\"EAF000D4CC7635B7\",\"487376E62E6B8A4E\",\"F52738C4461D426E\",\"17774A79F6AF2037\",\"48A3963537D96EFC\",\"FE244437A4224900\",\"1BA8A54DBDAE0EF4\",\"49925103AE5C1CD0\",\"F9B6AD71F73676ED\",\"45D971502E89E65E\",\"18FC031EFDBB07DC\",\"3ED90BE0DC2A3FD3\",\"107D9F8613EBF2AA\",\"47F15386932C0E17\",\"851F6015525A2374\",\"11A1086B49B881A4\",\"AEA23731D3DEA24E\",\"33F738F2E16C7148\",\"D0D8873714077818\",\"6C487B4E73B87CEC\",\"4DEF1832B1E0343A\",\"9806C418D189F7DB\",\"5FE8A7964BFE9201\",\"1AA371B503596160\",\"4CB1497EA4EACE82\",\"26C7FBF370BACD23\",\"4BE0D1FE6CDDA1D6\",\"DD5F3BB16B5FCD25\",\"7BCB5C914C255ED8\",\"C9E2691EAD9EF4BB\",\"DA8F64F1377DDF18\",\"B9B14AC83D70BFAF\",\"5B05449E69A2AD9E\",\"CD74C3D22FFC09C2\",\"6B2F1C6BC5BC9B47\",\"CDD54761A21E4B3E\",\"005E096DBD379BCF\",\"B4A4C1152C7A6CE9\",\"56B3A9FE78075122\",\"5D5E6EE92AF6E9E0\",\"3F8C780C616D46B6\",\"491E514995731DC0\",\"9183398C5646F2AF\",\"FF8CF7057415EB29\",\"D1C856B2FF888582\",\"32BFB39666579FC1\",\"60BBC6BDA8F51E4C\",\"2F07A29AFC72B680\",\"379DD24A17E07C86\",\"34BBBAC1CCC0F4F9\",\"5EE31C4ABF5CB269\",\"763DEEB7EA385F29\",\"D2BF86D9C385D6B9\",\"10DC7B8A6665A92A\",\"94FF90F8FBAB959D\",\"36D0A362EFF0674D\",\"E5AAA57C73A05E27\",\"88A0A6FA031C9D82\",\"4089CD204802F5F8\",\"3288BEE68559CC59\",\"FB24D74F33FB4839\",\"B4CB05160392ACF1\",\"5C24A7471540A8DC\",\"73992B0026104CE0\",\"7641D28D9643B736\",\"A980A65F42FB1BB4\",\"A2A4028F3D47618F\",\"B8AD3F6C5AA112E6\",\"04BE4EFE4C457312\",\"9036DBDE7AF034E8\",\"29A508F67F5E8D62\",\"B1E415298C5787E1\",\"458CCC7F2073F056\",\"C1751C71BDB1A6AF\",\"ADED1B2A28BD2B7B\",\"47A4DAD2DBC2DDA0\",\"5AD69B0E2A6917BE\",\"16082DE9AC3502CD\",\"99AB3356C66C173F\",\"E659A40ADD2D4E31\",\"E6911DABCAC3EFF2\",\"325777355658DB05\",\"1F9DC208CBE98188\",\"E26CE7138789A7AF\",\"82ADD32E61B5C939\",\"25B6EE0F91D32DB9\",\"6A07E9483E1D2638\",\"C3B617427E6FF2A9\",\"B2A29A177F435D9E\",\"68732D79109DDED9\",\"57442DD4178AFE27\",\"52E7B7DC39F52987\",\"6BD1360FE3DECDA1\",\"E005D097532E222B\",\"3129E49EEC09310A\",\"8C0E932FB144D00F\",\"B4E3A220BEBACEA6\",\"9F15A11718137BB8\",\"DAEE6D470B64E11B\",\"903EB4C51C70B12B\",\"3B2E143C88C88B0B\",\"E768AFB8C1344E05\",\"5DC7C3CAD44668C8\",\"2D2505BC6550D1A5\",\"3AA81F3E2F88E1A6\",\"C68A124C91E59F64\",\"1E6B9298415AA97A\",\"10C2A2FB00BD9AE2\",\"38188B7456DEB035\",\"FBF31896CD930197\",\"5E26340B4933987D\",\"913CE02033D822CD\",\"C52FB4D6F3D456E1\",\"2CEC84A86958E639\",\"9B73512578BB315B\",\"B6DBDDB2BD00352E\",\"0F13D8C2809AD613\",\"2694629861CC9154\",\"5732FDB1C948FE26\",\"44037F187E376CD3\",\"42D55CBE2573F543\",\"2429481BD8F59671\",\"4A953A8E62EE8D7B\",\"82087A12CCB2F2AD\",\"A7CFA651E8B0B21D\",\"3243339CAFFA806B\",\"C5B80CE5D26813CF\",\"040F68E9E1294840\",\"8F4577B4DEEAD5E1\",\"CD5FA63C961F184C\",\"DD9A0E2A3E6E87B4\",\"762F7B71CE6B0BF0\",\"EA6EA431FF84563B\",\"FCC7708934D68F24\",\"624C4A19326EEE00\",\"751BD72A948FC86C\",\"87A03DDFFEC09B4B\",\"4069A01CBE17EC56\",\"92EFA54F7198BC87\",\"169ED13E27C51F3B\",\"82952C2B5CFAD42B\",\"7CBE6C0B1530D0C8\",\"F358607127B3ED20\",\"E77F99BCF9D8AB96\",\"FD38A6D8AF786363\",\"816B178B5481C936\",\"80C064F310B42A26\",\"8FBAEB717ABA3930\",\"38012A040FCFADEA\",\"3629BFFE2E7A93F0\",\"693922FA03FC6666\",\"9F50CF70D91DC29E\",\"24553DD3FF973EE4\",\"EBA69AB145E565D7\",\"9D5D1CAC16E9262D\",\"AD6416B175EC960F\",\"A7A974614BE56B55\",\"19AC976D25997BE9\",\"779BFAE9CC61CABA\",\"77E438939CEADFAB\",\"FC37CBE8211E02A8\",\"BA2110BD833E835A\",\"9232597CF9D85C19\",\"2CC15FB4F021D006\",\"729F6099B1B31935\",\"0657ECDBA63E5FD6\",\"FBF2BC40F3CCDC6F\",\"15462EF9B810E2CD\",\"2A13C7A010142F61\",\"2784913F3447A9EE\",\"34BB9070F9BB99E5\",\"6184849918C8A94A\",\"87B112DF92E5A3BA\",\"A62BEB5AF596DB62\",\"7678DE773058E621\",\"08527CAB99830384\",\"2BECD18FD4C7B221\",\"FE76759FE6BF8C68\",\"A678175F80A60139\",\"325622D33A96C43D\",\"63EE6680860DF14E\",\"948AADCBA0AD33FC\",\"DF92EED159FF08F1\",\"5B671D912F9D48BE\",\"489B8E34D1E65CCA\",\"AA55A2BDAE39BECC\",\"AA0D36EF3DBFCC9F\",\"23205E99B25B545C\",\"2C022D871550873C\",\"8FF8F87305BB9A7D\",\"45DE943E2DA6C76A\",\"10863662C3B5AB49\",\"5438D422A6A53E0E\",\"FB1D495CFBB160A5\",\"1DA6C04292381C64\",\"A4593845C28990A0\",\"7C0005C407A3866C\",\"81452D23C646026D\",\"E5C6DE0BA7722B11\",\"C865891D80127AB8\",\"44A2A1E6CF2599A8\",\"C6CFFE9F0D5BC0BF\",\"972CBA9F98130D80\",\"35D00DA6B6E15126\",\"CC0357816B62C977\",\"8C2514E54F237231\",\"A8533224E9384B16\",\"9B73C945ABD15531\",\"60FDFC4A00CAB216\",\"604F9F5DB1EB8997\",\"6DB2AB2869590A63\",\"078F8E9C7506AC9D\",\"CB0255E90DB0FED4\",\"783BF6971403696B\",\"EEAC87C2F81E16BB\",\"E3A116CD863EF464\",\"F6785D85CBDA2BA6\",\"ED9338C2AA166F42\",\"91C3969B8A72B908\",\"E65F1C4C712CDC41\",\"8A401E7C2E0DAE58\",\"41EDEEC440887B2C\",\"6283982213115DF1\",\"BABBC8868539BC31\",\"2BA485C180999757\",\"C8460FF8BEF553A4\",\"D03349A4CC16450F\",\"159C0D95194EA737\",\"01C17F099908DA14\",\"E69000F82721A3A1\",\"93781EFB636DC017\",\"E94300A96CAE1286\",\"47989B6EAE8FC21A\",\"7262AA1B00E6A487\",\"31D4A79415209872\",\"3BDE2B9FBC14F7A4\",\"8675E29E9C0ABDC5\",\"F2A7DA882BF8ECD6\",\"A63E656FACCE2303\",\"FD11BEB17BD1E5F1\",\"22092C653019E91C\",\"9D7F535B9A8DE4F0\",\"CA371F6AE893F255\",\"86937E0EC8462E84\",\"BD23AF6242CA944B\",\"2C702985A53C168B\",\"249230DC3628A7AE\",\"75F76463A857DE8F\",\"CA05B60C5BF619D0\",\"12AD54E437AB3BF5\",\"8C028F5F4F1B3972\",\"C25DB0F67E2774B9\",\"F733F037F547E44F\",\"6FC1998A6D98C01A\",\"45D3EB623C011843\",\"C8CC09A84EE660A6\",\"F1120FF762705B10\",\"311FCC81715F1527\",\"5FED9C8EB157278D\",\"3F8981C8DA6F2E21\",\"020F8E77125B9F7A\",\"43BA33CDED9F1870\",\"DB4FD8EDE29B4ED7\",\"6B2129E0A61D65F3\",\"BF2613BE28381E56\",\"C63A3391234404AA\",\"140CCBBD1CD1DFF5\",\"9D263B8EF15CF188\",\"7B8E8C3A8DAFC3B3\",\"01B0B891CA513468\",\"E3BEB139D0839F91\",\"5D1332CE7B9BA9EA\",\"5469FE1682F958AD\",\"AE0ED48DFD2FC0EC\",\"D12A5C7D0C2AFCE6\",\"835ABFF5102EAB9C\",\"0A5E3BE3C51CB47A\",\"1AE6FF352875CA8C\",\"FD348F3ADE080914\",\"89EF9F0C1676188A\",\"5D13357620E57770\",\"A5E041918EF8B165\",\"5392D9E8F58D9E5F\",\"55212FE14BE9ACF4\",\"3A74E4032706FD0E\",\"81EFF4E6138D3586\",\"8C4DEDB74D124479\",\"51FDB0ADA53D0D48\",\"05E16C38500EA1BF\",\"05DCEB320AC0EE44\",\"D439FE97E8B225CA\",\"1483A885AEBD96D1\",\"0AE6BB3A134DC281\",\"72A5F7BBB75B5FB2\",\"2ED561987D6939F3\",\"37F855E27F5889EA\",\"30D6A716BEDA75C8\",\"A5D8C583CD59B97A\",\"D9174AA9072D74C6\",\"80DBF4EAF80F62A3\",\"5710EDF8BA684005\",\"E18D25D68D9FCC60\",\"E272F8495E9A7C6B\",\"2ADFE50A050C49F4\",\"7FE6C2826EC9B2D7\",\"83D32D8B69200484\",\"DD5811571C7BBEB2\",\"E29FA3EDD2698E7A\",\"721FF26E7E745137\",\"AD10DCB9478768CA\",\"25826F4FE6832AF1\",\"D1B9C3897EF5E03C\",\"FC1EFACE9FFE5A2E\",\"D182471A77C0DC13\",\"DA84B03F1D02D13E\",\"6460D0D3A5C3CD78\",\"07451D4C4C5A3A2B\",\"37094134968B2013\",\"015D1E3BB893349D\",\"C8AFE8BD75F501D3\",\"8DE56E6BDA5F54AC\",\"58F29FD5F5BEEF1E\",\"663B8FD2ECC67EFF\",\"721A4432056BB43A\",\"700E7D23A9A81AE3\",\"081E839841856A7A\",\"3EFC6AF8B370AD88\",\"57E796E81DD60883\",\"78745E80BA159887\",\"9D1D9DC5D81268AC\",\"27009E3A3E43AD21\",\"FD43AFAEA83A6A3F\",\"D2E8867C96A7A7C2\",\"F5717EDCB0830A05\",\"DE98BA6D3814A6D4\",\"8AA7482655CA47FC\",\"E8D19649BE5927B3\",\"9705F9A636A8C2C9\",\"BD2BB02AB72267D5\",\"F54F7DE3DCCD3BE6\",\"52EEF8198C6E61BF\",\"A0ECB4825C9B8289\",\"9B8BFBACE614F651\",\"181181D6E7BA82B4\",\"944F2EA14B199E8B\",\"9868DEF9E0B7E2C4\",\"4A53CB855B71A848\",\"EAE7A5BE3C3D93B8\",\"D2CD95E8856097D3\",\"D12ED55A724F3A3D\",\"505E92C9CEC5651B\",\"23A39EC2E3E4E696\",\"ED9745F4A0B682B8\",\"E460AD40A8316D83\",\"B2D168BAC367B509\",\"0240DB73D9B6F136\",\"C6FF68D218AAC396\",\"506686F95FE5FBE8\",\"BD64B1467A1F41A0\",\"47EEC31E3D0C6E8B\",\"DC5EBC31C22D87B8\",\"286A2902AD3A7159\",\"D8DA1D568FCF46ED\",\"E3048C1D75193226\",\"921D101607DEEE2F\",\"064FE8E188AB79E1\",\"80D722A2C625E8B9\",\"B0664547D198BEBB\",\"47670BA63871C10F\",\"38EE0C9034617F2C\",\"36DA0E050642409A\",\"7DF21AEB1AA231F9\",\"DD4731E5B4C9C4EB\",\"C35736DF94A57E7F\",\"2A55742605D9ACDC\",\"8F8BF109EB38D329\",\"040DB681B8CFAACA\",\"98D76B1341378191\",\"F37346E94569EA9E\",\"DFAC7CE2CD124C44\",\"AAD4A279D0470A06\",\"6C5F66E22B261A59\",\"4A3B017849076975\",\"46B05EC945738FA4\",\"1108CAC070E0CC12\",\"50AA023EF325BCA1\",\"E8BBE017F65D7CEA\",\"7B9B363BD8BF23CE\",\"B8AC521CB28510E7\",\"C76AB3B4FB0A87B6\",\"54F0177D05FB6A17\",\"0B08BA67D85527C5\",\"DDF23E1CEC60F6C5\",\"1DC5295D91FF1336\",\"29FB97985AB0E005\",\"B91C3B0B33F9788F\",\"A57DB8C0438CB846\",\"BAEFF105F449EDED\",\"6C9496D8B48FA426\",\"B3001689CEE2EB17\",\"A907C114B5846EF0\",\"8C0C9BBA51E96C48\",\"058CE187A2C73865\",\"A7F66CD708BF0454\",\"207E61D6D4F44D97\",\"5CA4A1CD95B82E02\",\"14274CC0FEE00801\",\"E09EE3450F1FDDEB\",\"D1BB8F37D28A0BD3\",\"3925EA2F48E248E4\",\"E923C28598AD9E74\",\"B28C8D3E19E8A789\",\"BC728999CBFCA4C4\",\"54E564A7253C7084\",\"5A5D645876C5C692\",\"A76F046D8D47589E\",\"E2F9D9C5F177CBE9\",\"D7FBE79C98D03907\",\"C3EEBF6DBC3384FA\",\"597F7FD5AA3524D3\",\"C2398EA0078EA63A\",\"183426557F671963\",\"A3EDC1FFCB20AEAE\",\"CD668979C54E22F7\",\"71ADB3578AAA4E0F\",\"051112E3FE1F2E55\",\"E16541C1EBE7C18F\",\"52492BF2F4E36DE0\",\"627B91B2D548760C\",\"98998C6963A8E711\",\"BE8EF48E1C8A03BB\",\"6627324ED71E6A4B\",\"A72233636D6FD5FC\",\"F74B5B5FBD569D94\",\"3DE418D4A88944EA\",\"A166EB9B55EE9564\",\"4168A14D44B0FCC6\",\"1F0A89BEDF27C7B2\",\"F76A4CA089865328\",\"1BD87764BD9A6DA9\",\"67498C0E4D4F1697\",\"582542A18470BABD\",\"AB0D9A9D709F476A\",\"90C84351AADBA89A\",\"F26444BA1B35C213\",\"819449F677945F98\",\"4CFBECEF398176DA\",\"7AAEBA41AC6EAFAC\",\"F7C023E1184B3A60\",\"7527401B46D4C6EC\",\"576F0756184C8DB1\",\"6B5A19F770BF79AC\",\"2874E1C3F517893F\",\"1E13C534BAFB6863\",\"A7FC7DB6B369C3EC\",\"DE13B89C1BE46891\",\"85BB3038A799195F\",\"CC7046CE9EB3E986\",\"D70753C4C0CC74B8\",\"99A730464C4BB13C\",\"88CA8D05871DCAD0\",\"2A114ED4FE2F5FED\",\"C1760622B65C9B84\",\"A8C5F4D253DCEF2F\",\"A8C1429C2249A1C3\",\"8C0796AD09585779\",\"AF9FD44E4FBE7A44\",\"F28400AFB5C8E54C\",\"6DB33B4BBB294337\",\"0FADB0FA4D141191\",\"8A5B1371A80F5F08\",\"5E6B0B086089C4CF\",\"50221A8D91AB25CC\",\"9F614F2788F85C78\",\"5DBFFFECBC34B36F\",\"AF9D8CF4E46F7746\",\"2B780373E58B31B1\",\"6CC231BB686AB3C4\",\"CC6C607F45AF7226\",\"C71DD605BCB6F572\",\"B5E7CF04B19BEE7F\",\"06C9AD50396A67F2\",\"04C99B9CE33D500A\",\"AF34780719AA1BA3\",\"1353B1C2F6E6AA4E\",\"6E15C5FAB89646B0\",\"13DEBA5E7D0048F9\",\"8F72F2114F2D5184\",\"1190EEE1FA160468\",\"C2A2B2ADB29B8D74\",\"A121E8F760F7D482\",\"9C2240EEE1D4AB2D\",\"1E50FCB9D758B845\",\"5673140CA30564D5\",\"40233E9A96CDF1EF\",\"3766B1A346B48864\",\"9F0E22D845D144F7\",\"814737C35A55EC69\",\"A5ACC90F4E6C9D47\",\"195A50C42B7AC072\",\"EAD7AC780F0CB611\",\"846ABAF7694AA1A3\",\"23A94E3928ADB4E4\",\"74995B52B7D313F9\",\"2BA52189170823A5\",\"7C67ABA421AF74D5\",\"967680A9D7C9AFD1\",\"69924C768EE3374C\",\"C9F4E51F24E6BCE1\",\"9744ED302F766733\",\"51CFE2034A743204\",\"74A3959A86B9E7DE\",\"DBF9BDC859BC4459\",\"DF79393DADE71EF6\",\"DFEAF49F56175B88\",\"7060BB1CBE3BAACC\",\"1D7745C3BC072443\",\"C2025648F77BD80B\",\"0B32395044303982\",\"9418C62EB3E7B211\",\"77FE243C45580255\",\"18EF7332ACC0D12C\",\"1DB9BA78121F03CF\",\"FDF5D9D1B047FA31\",\"1D573A1EC0A1DFB1\",\"E6AAFF21D051CC65\",\"104E2E7457341647\",\"140983468780190D\",\"DA701E53C4265D9C\",\"84EB34779A251529\",\"FB75493CD55739BA\",\"8FDDB9B4E3FCB172\",\"4337C3C626A39EEA\",\"ED384580319306F2\",\"2E18075A4BC24CD4\",\"253B8CBFA95E4831\",\"EC3A51AAF05B1EF4\",\"4C651540283E1CB7\",\"8C66932374EF8009\",\"D2459902CF93F7BB\",\"DBABEBD3E6706F81\",\"2FCC63EB9CB798BF\",\"17F1ADF25C75168A\",\"16E66DD220E6B6F5\",\"A211DC1C36956844\",\"7963560AC5D4166E\",\"FAA76161402A6098\",\"BCDA2EA63E511751\",\"609EBA439CB96E0D\",\"9F8C89A3EA69ED2C\",\"6EFF2BB96F97768F\",\"28D889F742D7CB1F\",\"A7C2A44628D3D8B4\",\"4663CB986E6F41CB\",\"6A7F8D10E390B4F5\",\"82E92E637C47885A\",\"10EA2E44272E32A8\",\"5FE96FB1645B318D\",\"8E0712757CE41DE4\",\"AB30C03FCEC72466\",\"0B0C9CDFCA3EFF8A\",\"92701F9DF59DC422\",\"3AA6C28F10567038\",\"669F197DC7EB4FD9\",\"4CC6ED6ECF5B43F6\",\"015FF3EC72C1F4F6\",\"6E70E8AF0F6F0B0A\",\"C9E32DE296F68008\",\"D0A71F8A3DB05F2E\",\"C55B99558E2E6AA4\",\"3CEAD3B2689F935F\",\"9266418A9D2FA813\",\"48526B8C7F8459FD\",\"A7CA7B2555BA40BB\",\"2C041C5AE92FC133\",\"FC26F4B7727C205D\",\"DC24142B23D9FEDD\",\"D78FF240E6D237B6\",\"B956889B759F3E32\",\"557490F410B59932\",\"65D4F08120880611\",\"F1DBF417227551E7\",\"38B78992508A9283\",\"163AEC3F3F526473\",\"9BD9E79856D54059\",\"A5B12BE38FEE8285\",\"71434D2EBAD9AD9A\",\"139519F1ADB40E0D\",\"70EA584CA13EC431\",\"154228E9B2DA7F16\",\"196E3C3541EB8BE1\",\"001064FEAAB631A1\",\"CBC034EE5345D8BD\",\"4CCCB20CC40A976D\",\"2905EDBC782A9E69\",\"BE0B27E01E989545\",\"67129A7CF8DD659D\",\"DA67854A4DE1A5B8\",\"AF9F2C81B670018D\",\"646A1CB253D4C570\",\"87FFD32D80DA1933\",\"2696B38BEF02E69E\",\"CC9D5FE5F9DC8D01\",\"AEA31CD1CFE4CAFF\",\"C57EE2E8FCB5C551\",\"45F097E1C6D2086E\",\"3A98C2ECED38CAE6\",\"F41AE8901C329009\",\"041A378AB2EF158C\",\"35E65D51E0B40283\",\"4F27E0ECC98D9F89\",\"4EB733A6B2C93533\",\"BFDBB7CCA1A2A714\",\"F04B8BB68DE7D207\",\"FA8706D1E274805E\",\"CD2B9FD5762EE039\",\"87C4963DF01E3B3C\",\"A09DFE27D4CFF8E8\"],\"yaxis\":\"y\",\"type\":\"bar\"}],                        {\"template\":{\"data\":{\"histogram2dcontour\":[{\"type\":\"histogram2dcontour\",\"colorbar\":{\"outlinewidth\":0,\"ticks\":\"\"},\"colorscale\":[[0.0,\"#0d0887\"],[0.1111111111111111,\"#46039f\"],[0.2222222222222222,\"#7201a8\"],[0.3333333333333333,\"#9c179e\"],[0.4444444444444444,\"#bd3786\"],[0.5555555555555556,\"#d8576b\"],[0.6666666666666666,\"#ed7953\"],[0.7777777777777778,\"#fb9f3a\"],[0.8888888888888888,\"#fdca26\"],[1.0,\"#f0f921\"]]}],\"choropleth\":[{\"type\":\"choropleth\",\"colorbar\":{\"outlinewidth\":0,\"ticks\":\"\"}}],\"histogram2d\":[{\"type\":\"histogram2d\",\"colorbar\":{\"outlinewidth\":0,\"ticks\":\"\"},\"colorscale\":[[0.0,\"#0d0887\"],[0.1111111111111111,\"#46039f\"],[0.2222222222222222,\"#7201a8\"],[0.3333333333333333,\"#9c179e\"],[0.4444444444444444,\"#bd3786\"],[0.5555555555555556,\"#d8576b\"],[0.6666666666666666,\"#ed7953\"],[0.7777777777777778,\"#fb9f3a\"],[0.8888888888888888,\"#fdca26\"],[1.0,\"#f0f921\"]]}],\"heatmap\":[{\"type\":\"heatmap\",\"colorbar\":{\"outlinewidth\":0,\"ticks\":\"\"},\"colorscale\":[[0.0,\"#0d0887\"],[0.1111111111111111,\"#46039f\"],[0.2222222222222222,\"#7201a8\"],[0.3333333333333333,\"#9c179e\"],[0.4444444444444444,\"#bd3786\"],[0.5555555555555556,\"#d8576b\"],[0.6666666666666666,\"#ed7953\"],[0.7777777777777778,\"#fb9f3a\"],[0.8888888888888888,\"#fdca26\"],[1.0,\"#f0f921\"]]}],\"heatmapgl\":[{\"type\":\"heatmapgl\",\"colorbar\":{\"outlinewidth\":0,\"ticks\":\"\"},\"colorscale\":[[0.0,\"#0d0887\"],[0.1111111111111111,\"#46039f\"],[0.2222222222222222,\"#7201a8\"],[0.3333333333333333,\"#9c179e\"],[0.4444444444444444,\"#bd3786\"],[0.5555555555555556,\"#d8576b\"],[0.6666666666666666,\"#ed7953\"],[0.7777777777777778,\"#fb9f3a\"],[0.8888888888888888,\"#fdca26\"],[1.0,\"#f0f921\"]]}],\"contourcarpet\":[{\"type\":\"contourcarpet\",\"colorbar\":{\"outlinewidth\":0,\"ticks\":\"\"}}],\"contour\":[{\"type\":\"contour\",\"colorbar\":{\"outlinewidth\":0,\"ticks\":\"\"},\"colorscale\":[[0.0,\"#0d0887\"],[0.1111111111111111,\"#46039f\"],[0.2222222222222222,\"#7201a8\"],[0.3333333333333333,\"#9c179e\"],[0.4444444444444444,\"#bd3786\"],[0.5555555555555556,\"#d8576b\"],[0.6666666666666666,\"#ed7953\"],[0.7777777777777778,\"#fb9f3a\"],[0.8888888888888888,\"#fdca26\"],[1.0,\"#f0f921\"]]}],\"surface\":[{\"type\":\"surface\",\"colorbar\":{\"outlinewidth\":0,\"ticks\":\"\"},\"colorscale\":[[0.0,\"#0d0887\"],[0.1111111111111111,\"#46039f\"],[0.2222222222222222,\"#7201a8\"],[0.3333333333333333,\"#9c179e\"],[0.4444444444444444,\"#bd3786\"],[0.5555555555555556,\"#d8576b\"],[0.6666666666666666,\"#ed7953\"],[0.7777777777777778,\"#fb9f3a\"],[0.8888888888888888,\"#fdca26\"],[1.0,\"#f0f921\"]]}],\"mesh3d\":[{\"type\":\"mesh3d\",\"colorbar\":{\"outlinewidth\":0,\"ticks\":\"\"}}],\"scatter\":[{\"fillpattern\":{\"fillmode\":\"overlay\",\"size\":10,\"solidity\":0.2},\"type\":\"scatter\"}],\"parcoords\":[{\"type\":\"parcoords\",\"line\":{\"colorbar\":{\"outlinewidth\":0,\"ticks\":\"\"}}}],\"scatterpolargl\":[{\"type\":\"scatterpolargl\",\"marker\":{\"colorbar\":{\"outlinewidth\":0,\"ticks\":\"\"}}}],\"bar\":[{\"error_x\":{\"color\":\"#2a3f5f\"},\"error_y\":{\"color\":\"#2a3f5f\"},\"marker\":{\"line\":{\"color\":\"#E5ECF6\",\"width\":0.5},\"pattern\":{\"fillmode\":\"overlay\",\"size\":10,\"solidity\":0.2}},\"type\":\"bar\"}],\"scattergeo\":[{\"type\":\"scattergeo\",\"marker\":{\"colorbar\":{\"outlinewidth\":0,\"ticks\":\"\"}}}],\"scatterpolar\":[{\"type\":\"scatterpolar\",\"marker\":{\"colorbar\":{\"outlinewidth\":0,\"ticks\":\"\"}}}],\"histogram\":[{\"marker\":{\"pattern\":{\"fillmode\":\"overlay\",\"size\":10,\"solidity\":0.2}},\"type\":\"histogram\"}],\"scattergl\":[{\"type\":\"scattergl\",\"marker\":{\"colorbar\":{\"outlinewidth\":0,\"ticks\":\"\"}}}],\"scatter3d\":[{\"type\":\"scatter3d\",\"line\":{\"colorbar\":{\"outlinewidth\":0,\"ticks\":\"\"}},\"marker\":{\"colorbar\":{\"outlinewidth\":0,\"ticks\":\"\"}}}],\"scattermapbox\":[{\"type\":\"scattermapbox\",\"marker\":{\"colorbar\":{\"outlinewidth\":0,\"ticks\":\"\"}}}],\"scatterternary\":[{\"type\":\"scatterternary\",\"marker\":{\"colorbar\":{\"outlinewidth\":0,\"ticks\":\"\"}}}],\"scattercarpet\":[{\"type\":\"scattercarpet\",\"marker\":{\"colorbar\":{\"outlinewidth\":0,\"ticks\":\"\"}}}],\"carpet\":[{\"aaxis\":{\"endlinecolor\":\"#2a3f5f\",\"gridcolor\":\"white\",\"linecolor\":\"white\",\"minorgridcolor\":\"white\",\"startlinecolor\":\"#2a3f5f\"},\"baxis\":{\"endlinecolor\":\"#2a3f5f\",\"gridcolor\":\"white\",\"linecolor\":\"white\",\"minorgridcolor\":\"white\",\"startlinecolor\":\"#2a3f5f\"},\"type\":\"carpet\"}],\"table\":[{\"cells\":{\"fill\":{\"color\":\"#EBF0F8\"},\"line\":{\"color\":\"white\"}},\"header\":{\"fill\":{\"color\":\"#C8D4E3\"},\"line\":{\"color\":\"white\"}},\"type\":\"table\"}],\"barpolar\":[{\"marker\":{\"line\":{\"color\":\"#E5ECF6\",\"width\":0.5},\"pattern\":{\"fillmode\":\"overlay\",\"size\":10,\"solidity\":0.2}},\"type\":\"barpolar\"}],\"pie\":[{\"automargin\":true,\"type\":\"pie\"}]},\"layout\":{\"autotypenumbers\":\"strict\",\"colorway\":[\"#636efa\",\"#EF553B\",\"#00cc96\",\"#ab63fa\",\"#FFA15A\",\"#19d3f3\",\"#FF6692\",\"#B6E880\",\"#FF97FF\",\"#FECB52\"],\"font\":{\"color\":\"#2a3f5f\"},\"hovermode\":\"closest\",\"hoverlabel\":{\"align\":\"left\"},\"paper_bgcolor\":\"white\",\"plot_bgcolor\":\"#E5ECF6\",\"polar\":{\"bgcolor\":\"#E5ECF6\",\"angularaxis\":{\"gridcolor\":\"white\",\"linecolor\":\"white\",\"ticks\":\"\"},\"radialaxis\":{\"gridcolor\":\"white\",\"linecolor\":\"white\",\"ticks\":\"\"}},\"ternary\":{\"bgcolor\":\"#E5ECF6\",\"aaxis\":{\"gridcolor\":\"white\",\"linecolor\":\"white\",\"ticks\":\"\"},\"baxis\":{\"gridcolor\":\"white\",\"linecolor\":\"white\",\"ticks\":\"\"},\"caxis\":{\"gridcolor\":\"white\",\"linecolor\":\"white\",\"ticks\":\"\"}},\"coloraxis\":{\"colorbar\":{\"outlinewidth\":0,\"ticks\":\"\"}},\"colorscale\":{\"sequential\":[[0.0,\"#0d0887\"],[0.1111111111111111,\"#46039f\"],[0.2222222222222222,\"#7201a8\"],[0.3333333333333333,\"#9c179e\"],[0.4444444444444444,\"#bd3786\"],[0.5555555555555556,\"#d8576b\"],[0.6666666666666666,\"#ed7953\"],[0.7777777777777778,\"#fb9f3a\"],[0.8888888888888888,\"#fdca26\"],[1.0,\"#f0f921\"]],\"sequentialminus\":[[0.0,\"#0d0887\"],[0.1111111111111111,\"#46039f\"],[0.2222222222222222,\"#7201a8\"],[0.3333333333333333,\"#9c179e\"],[0.4444444444444444,\"#bd3786\"],[0.5555555555555556,\"#d8576b\"],[0.6666666666666666,\"#ed7953\"],[0.7777777777777778,\"#fb9f3a\"],[0.8888888888888888,\"#fdca26\"],[1.0,\"#f0f921\"]],\"diverging\":[[0,\"#8e0152\"],[0.1,\"#c51b7d\"],[0.2,\"#de77ae\"],[0.3,\"#f1b6da\"],[0.4,\"#fde0ef\"],[0.5,\"#f7f7f7\"],[0.6,\"#e6f5d0\"],[0.7,\"#b8e186\"],[0.8,\"#7fbc41\"],[0.9,\"#4d9221\"],[1,\"#276419\"]]},\"xaxis\":{\"gridcolor\":\"white\",\"linecolor\":\"white\",\"ticks\":\"\",\"title\":{\"standoff\":15},\"zerolinecolor\":\"white\",\"automargin\":true,\"zerolinewidth\":2},\"yaxis\":{\"gridcolor\":\"white\",\"linecolor\":\"white\",\"ticks\":\"\",\"title\":{\"standoff\":15},\"zerolinecolor\":\"white\",\"automargin\":true,\"zerolinewidth\":2},\"scene\":{\"xaxis\":{\"backgroundcolor\":\"#E5ECF6\",\"gridcolor\":\"white\",\"linecolor\":\"white\",\"showbackground\":true,\"ticks\":\"\",\"zerolinecolor\":\"white\",\"gridwidth\":2},\"yaxis\":{\"backgroundcolor\":\"#E5ECF6\",\"gridcolor\":\"white\",\"linecolor\":\"white\",\"showbackground\":true,\"ticks\":\"\",\"zerolinecolor\":\"white\",\"gridwidth\":2},\"zaxis\":{\"backgroundcolor\":\"#E5ECF6\",\"gridcolor\":\"white\",\"linecolor\":\"white\",\"showbackground\":true,\"ticks\":\"\",\"zerolinecolor\":\"white\",\"gridwidth\":2}},\"shapedefaults\":{\"line\":{\"color\":\"#2a3f5f\"}},\"annotationdefaults\":{\"arrowcolor\":\"#2a3f5f\",\"arrowhead\":0,\"arrowwidth\":1},\"geo\":{\"bgcolor\":\"white\",\"landcolor\":\"#E5ECF6\",\"subunitcolor\":\"white\",\"showland\":true,\"showlakes\":true,\"lakecolor\":\"white\"},\"title\":{\"x\":0.05},\"mapbox\":{\"style\":\"light\"}}},\"xaxis\":{\"anchor\":\"y\",\"domain\":[0.0,1.0],\"title\":{\"text\":\"first_date\"},\"tickangle\":-90,\"tickmode\":\"linear\"},\"yaxis\":{\"anchor\":\"x\",\"domain\":[0.0,1.0],\"title\":{\"text\":\"\\u041a\\u043e\\u043b\\u0438\\u0447\\u0435\\u0441\\u0442\\u0432\\u043e \\u0441\\u043e\\u0431\\u044b\\u0442\\u0438\\u0439\"}},\"legend\":{\"tracegroupgap\":0},\"margin\":{\"t\":60,\"l\":0,\"r\":0},\"barmode\":\"relative\",\"title\":{\"text\":\"\\u0420\\u0430\\u0441\\u043f\\u0440\\u0435\\u0434\\u0435\\u043b\\u0435\\u043d\\u0438\\u0435 \\u043a\\u043e\\u043b\\u0438\\u0447\\u0435\\u0441\\u0442\\u0432\\u0430 \\u0440\\u0435\\u0433\\u0438\\u0441\\u0442\\u0440\\u0430\\u0446\\u0438\\u0439 \\u0432 \\u0433\\u0440\\u0443\\u043f\\u043f\\u0435 \\u0412\"}},                        {\"responsive\": true}                    ).then(function(){\n",
              "                            \n",
              "var gd = document.getElementById('b96ff698-fa2a-4b14-8d87-1c520edc2242');\n",
              "var x = new MutationObserver(function (mutations, observer) {{\n",
              "        var display = window.getComputedStyle(gd).display;\n",
              "        if (!display || display === 'none') {{\n",
              "            console.log([gd, 'removed!']);\n",
              "            Plotly.purge(gd);\n",
              "            observer.disconnect();\n",
              "        }}\n",
              "}});\n",
              "\n",
              "// Listen for the removal of the full notebook cells\n",
              "var notebookContainer = gd.closest('#notebook-container');\n",
              "if (notebookContainer) {{\n",
              "    x.observe(notebookContainer, {childList: true});\n",
              "}}\n",
              "\n",
              "// Listen for the clearing of the current output cell\n",
              "var outputEl = gd.closest('.output');\n",
              "if (outputEl) {{\n",
              "    x.observe(outputEl, {childList: true});\n",
              "}}\n",
              "\n",
              "                        })                };                            </script>        </div>\n",
              "</body>\n",
              "</html>"
            ]
          },
          "metadata": {}
        }
      ],
      "source": [
        "t = final_ab_new_users[final_ab_new_users['user_id'].isin(events_b.user_id.unique())]\n",
        "t\n",
        "my_bar(t, t['first_date'], t['user_id'],\n",
        "      'Распределение количества регистраций в группе В', 'Количество событий')"
      ]
    },
    {
      "cell_type": "markdown",
      "metadata": {
        "id": "gjigDKwMSLVW"
      },
      "source": [
        "В группе В резкого скачка не наблюдается - регистрация идет очень неравноменрно. Хотя, если приглядеться видна тенденция к росту."
      ]
    },
    {
      "cell_type": "markdown",
      "metadata": {
        "id": "KLTPB2njSLVW"
      },
      "source": [
        "Число событий в выборках распределено по дням в группах неравномерно. В группе В в начале наблюдения излишняя активность пользователей.\n",
        "\n",
        "В группе А скачек активности с 14-12-2020, который можно связать со стабильным ростом регистрации начиная с 14 декабря. Явного такого же эффекта в группе В не наблюдаем.\n",
        "\n",
        "### Сравнение активности пользователей разных групп\n",
        "\n",
        "Проверим среднее количество событий на 1го пользователя в разных группах"
      ]
    },
    {
      "cell_type": "code",
      "execution_count": null,
      "metadata": {
        "id": "Hf9Hkmb5SLVX",
        "outputId": "cfe1185b-c800-4b43-f622-3e67a4775b7f",
        "colab": {
          "base_uri": "https://localhost:8080/"
        }
      },
      "outputs": [
        {
          "output_type": "execute_result",
          "data": {
            "text/plain": [
              "8.076383154417837"
            ]
          },
          "metadata": {},
          "execution_count": 81
        }
      ],
      "source": [
        "n_a = events_a.shape[0] / events_a.user_id.nunique()\n",
        "n_a"
      ]
    },
    {
      "cell_type": "code",
      "execution_count": null,
      "metadata": {
        "id": "wkswy_YfSLVX",
        "outputId": "d52b7c09-2fd6-41b3-b842-50ebc5590585",
        "colab": {
          "base_uri": "https://localhost:8080/"
        }
      },
      "outputs": [
        {
          "output_type": "execute_result",
          "data": {
            "text/plain": [
              "6.735221674876847"
            ]
          },
          "metadata": {},
          "execution_count": 82
        }
      ],
      "source": [
        "n_b = events_b.shape[0] / events_b.user_id.nunique()\n",
        "n_b"
      ]
    },
    {
      "cell_type": "markdown",
      "metadata": {
        "id": "uJowA28vSLVY"
      },
      "source": [
        "Экспериментальная группа менее активна\n",
        "\n",
        "### Сравнение конверсии разных групп\n",
        "\n",
        "Сначала - общая конверсия всей выборки, чтобы понимать, в каком мире живем."
      ]
    },
    {
      "cell_type": "code",
      "execution_count": null,
      "metadata": {
        "id": "aQ24xOC3SLVY"
      },
      "outputs": [],
      "source": [
        "conv = events.groupby(by='event_name', as_index=False)['user_id'].nunique()\n",
        "conv\n",
        "conv = conv.sort_values(by = 'user_id', ascending=False)\n",
        "conv['ratio'] = conv['user_id'] / events.user_id.nunique()\n",
        "conv['rang'] = [1, 2, 4, 3]\n",
        "conv = conv.sort_values(by = 'rang', ascending=True)"
      ]
    },
    {
      "cell_type": "code",
      "execution_count": null,
      "metadata": {
        "id": "e-GdyPOHSLVY",
        "outputId": "ec8ca5bc-bb1d-4a6c-daae-1cddc7b59e88",
        "colab": {
          "base_uri": "https://localhost:8080/"
        }
      },
      "outputs": [
        {
          "output_type": "display_data",
          "data": {
            "text/html": [
              "<html>\n",
              "<head><meta charset=\"utf-8\" /></head>\n",
              "<body>\n",
              "    <div>            <script src=\"https://cdnjs.cloudflare.com/ajax/libs/mathjax/2.7.5/MathJax.js?config=TeX-AMS-MML_SVG\"></script><script type=\"text/javascript\">if (window.MathJax && window.MathJax.Hub && window.MathJax.Hub.Config) {window.MathJax.Hub.Config({SVG: {font: \"STIX-Web\"}});}</script>                <script type=\"text/javascript\">window.PlotlyConfig = {MathJaxConfig: 'local'};</script>\n",
              "        <script src=\"https://cdn.plot.ly/plotly-2.18.2.min.js\"></script>                <div id=\"27a665a6-3648-4d1b-89da-7844fc585b8a\" class=\"plotly-graph-div\" style=\"height:525px; width:100%;\"></div>            <script type=\"text/javascript\">                                    window.PLOTLYENV=window.PLOTLYENV || {};                                    if (document.getElementById(\"27a665a6-3648-4d1b-89da-7844fc585b8a\")) {                    Plotly.newPlot(                        \"27a665a6-3648-4d1b-89da-7844fc585b8a\",                        [{\"hovertemplate\":\"user_id=%{x}<br>event_name=%{y}<extra></extra>\",\"legendgroup\":\"\",\"marker\":{\"color\":\"#636efa\"},\"name\":\"\",\"orientation\":\"h\",\"showlegend\":false,\"x\":[3675,2303,1079,1128],\"xaxis\":\"x\",\"y\":[\"login\",\"product_page\",\"product_cart\",\"purchase\"],\"yaxis\":\"y\",\"type\":\"funnel\"}],                        {\"template\":{\"data\":{\"histogram2dcontour\":[{\"type\":\"histogram2dcontour\",\"colorbar\":{\"outlinewidth\":0,\"ticks\":\"\"},\"colorscale\":[[0.0,\"#0d0887\"],[0.1111111111111111,\"#46039f\"],[0.2222222222222222,\"#7201a8\"],[0.3333333333333333,\"#9c179e\"],[0.4444444444444444,\"#bd3786\"],[0.5555555555555556,\"#d8576b\"],[0.6666666666666666,\"#ed7953\"],[0.7777777777777778,\"#fb9f3a\"],[0.8888888888888888,\"#fdca26\"],[1.0,\"#f0f921\"]]}],\"choropleth\":[{\"type\":\"choropleth\",\"colorbar\":{\"outlinewidth\":0,\"ticks\":\"\"}}],\"histogram2d\":[{\"type\":\"histogram2d\",\"colorbar\":{\"outlinewidth\":0,\"ticks\":\"\"},\"colorscale\":[[0.0,\"#0d0887\"],[0.1111111111111111,\"#46039f\"],[0.2222222222222222,\"#7201a8\"],[0.3333333333333333,\"#9c179e\"],[0.4444444444444444,\"#bd3786\"],[0.5555555555555556,\"#d8576b\"],[0.6666666666666666,\"#ed7953\"],[0.7777777777777778,\"#fb9f3a\"],[0.8888888888888888,\"#fdca26\"],[1.0,\"#f0f921\"]]}],\"heatmap\":[{\"type\":\"heatmap\",\"colorbar\":{\"outlinewidth\":0,\"ticks\":\"\"},\"colorscale\":[[0.0,\"#0d0887\"],[0.1111111111111111,\"#46039f\"],[0.2222222222222222,\"#7201a8\"],[0.3333333333333333,\"#9c179e\"],[0.4444444444444444,\"#bd3786\"],[0.5555555555555556,\"#d8576b\"],[0.6666666666666666,\"#ed7953\"],[0.7777777777777778,\"#fb9f3a\"],[0.8888888888888888,\"#fdca26\"],[1.0,\"#f0f921\"]]}],\"heatmapgl\":[{\"type\":\"heatmapgl\",\"colorbar\":{\"outlinewidth\":0,\"ticks\":\"\"},\"colorscale\":[[0.0,\"#0d0887\"],[0.1111111111111111,\"#46039f\"],[0.2222222222222222,\"#7201a8\"],[0.3333333333333333,\"#9c179e\"],[0.4444444444444444,\"#bd3786\"],[0.5555555555555556,\"#d8576b\"],[0.6666666666666666,\"#ed7953\"],[0.7777777777777778,\"#fb9f3a\"],[0.8888888888888888,\"#fdca26\"],[1.0,\"#f0f921\"]]}],\"contourcarpet\":[{\"type\":\"contourcarpet\",\"colorbar\":{\"outlinewidth\":0,\"ticks\":\"\"}}],\"contour\":[{\"type\":\"contour\",\"colorbar\":{\"outlinewidth\":0,\"ticks\":\"\"},\"colorscale\":[[0.0,\"#0d0887\"],[0.1111111111111111,\"#46039f\"],[0.2222222222222222,\"#7201a8\"],[0.3333333333333333,\"#9c179e\"],[0.4444444444444444,\"#bd3786\"],[0.5555555555555556,\"#d8576b\"],[0.6666666666666666,\"#ed7953\"],[0.7777777777777778,\"#fb9f3a\"],[0.8888888888888888,\"#fdca26\"],[1.0,\"#f0f921\"]]}],\"surface\":[{\"type\":\"surface\",\"colorbar\":{\"outlinewidth\":0,\"ticks\":\"\"},\"colorscale\":[[0.0,\"#0d0887\"],[0.1111111111111111,\"#46039f\"],[0.2222222222222222,\"#7201a8\"],[0.3333333333333333,\"#9c179e\"],[0.4444444444444444,\"#bd3786\"],[0.5555555555555556,\"#d8576b\"],[0.6666666666666666,\"#ed7953\"],[0.7777777777777778,\"#fb9f3a\"],[0.8888888888888888,\"#fdca26\"],[1.0,\"#f0f921\"]]}],\"mesh3d\":[{\"type\":\"mesh3d\",\"colorbar\":{\"outlinewidth\":0,\"ticks\":\"\"}}],\"scatter\":[{\"fillpattern\":{\"fillmode\":\"overlay\",\"size\":10,\"solidity\":0.2},\"type\":\"scatter\"}],\"parcoords\":[{\"type\":\"parcoords\",\"line\":{\"colorbar\":{\"outlinewidth\":0,\"ticks\":\"\"}}}],\"scatterpolargl\":[{\"type\":\"scatterpolargl\",\"marker\":{\"colorbar\":{\"outlinewidth\":0,\"ticks\":\"\"}}}],\"bar\":[{\"error_x\":{\"color\":\"#2a3f5f\"},\"error_y\":{\"color\":\"#2a3f5f\"},\"marker\":{\"line\":{\"color\":\"#E5ECF6\",\"width\":0.5},\"pattern\":{\"fillmode\":\"overlay\",\"size\":10,\"solidity\":0.2}},\"type\":\"bar\"}],\"scattergeo\":[{\"type\":\"scattergeo\",\"marker\":{\"colorbar\":{\"outlinewidth\":0,\"ticks\":\"\"}}}],\"scatterpolar\":[{\"type\":\"scatterpolar\",\"marker\":{\"colorbar\":{\"outlinewidth\":0,\"ticks\":\"\"}}}],\"histogram\":[{\"marker\":{\"pattern\":{\"fillmode\":\"overlay\",\"size\":10,\"solidity\":0.2}},\"type\":\"histogram\"}],\"scattergl\":[{\"type\":\"scattergl\",\"marker\":{\"colorbar\":{\"outlinewidth\":0,\"ticks\":\"\"}}}],\"scatter3d\":[{\"type\":\"scatter3d\",\"line\":{\"colorbar\":{\"outlinewidth\":0,\"ticks\":\"\"}},\"marker\":{\"colorbar\":{\"outlinewidth\":0,\"ticks\":\"\"}}}],\"scattermapbox\":[{\"type\":\"scattermapbox\",\"marker\":{\"colorbar\":{\"outlinewidth\":0,\"ticks\":\"\"}}}],\"scatterternary\":[{\"type\":\"scatterternary\",\"marker\":{\"colorbar\":{\"outlinewidth\":0,\"ticks\":\"\"}}}],\"scattercarpet\":[{\"type\":\"scattercarpet\",\"marker\":{\"colorbar\":{\"outlinewidth\":0,\"ticks\":\"\"}}}],\"carpet\":[{\"aaxis\":{\"endlinecolor\":\"#2a3f5f\",\"gridcolor\":\"white\",\"linecolor\":\"white\",\"minorgridcolor\":\"white\",\"startlinecolor\":\"#2a3f5f\"},\"baxis\":{\"endlinecolor\":\"#2a3f5f\",\"gridcolor\":\"white\",\"linecolor\":\"white\",\"minorgridcolor\":\"white\",\"startlinecolor\":\"#2a3f5f\"},\"type\":\"carpet\"}],\"table\":[{\"cells\":{\"fill\":{\"color\":\"#EBF0F8\"},\"line\":{\"color\":\"white\"}},\"header\":{\"fill\":{\"color\":\"#C8D4E3\"},\"line\":{\"color\":\"white\"}},\"type\":\"table\"}],\"barpolar\":[{\"marker\":{\"line\":{\"color\":\"#E5ECF6\",\"width\":0.5},\"pattern\":{\"fillmode\":\"overlay\",\"size\":10,\"solidity\":0.2}},\"type\":\"barpolar\"}],\"pie\":[{\"automargin\":true,\"type\":\"pie\"}]},\"layout\":{\"autotypenumbers\":\"strict\",\"colorway\":[\"#636efa\",\"#EF553B\",\"#00cc96\",\"#ab63fa\",\"#FFA15A\",\"#19d3f3\",\"#FF6692\",\"#B6E880\",\"#FF97FF\",\"#FECB52\"],\"font\":{\"color\":\"#2a3f5f\"},\"hovermode\":\"closest\",\"hoverlabel\":{\"align\":\"left\"},\"paper_bgcolor\":\"white\",\"plot_bgcolor\":\"#E5ECF6\",\"polar\":{\"bgcolor\":\"#E5ECF6\",\"angularaxis\":{\"gridcolor\":\"white\",\"linecolor\":\"white\",\"ticks\":\"\"},\"radialaxis\":{\"gridcolor\":\"white\",\"linecolor\":\"white\",\"ticks\":\"\"}},\"ternary\":{\"bgcolor\":\"#E5ECF6\",\"aaxis\":{\"gridcolor\":\"white\",\"linecolor\":\"white\",\"ticks\":\"\"},\"baxis\":{\"gridcolor\":\"white\",\"linecolor\":\"white\",\"ticks\":\"\"},\"caxis\":{\"gridcolor\":\"white\",\"linecolor\":\"white\",\"ticks\":\"\"}},\"coloraxis\":{\"colorbar\":{\"outlinewidth\":0,\"ticks\":\"\"}},\"colorscale\":{\"sequential\":[[0.0,\"#0d0887\"],[0.1111111111111111,\"#46039f\"],[0.2222222222222222,\"#7201a8\"],[0.3333333333333333,\"#9c179e\"],[0.4444444444444444,\"#bd3786\"],[0.5555555555555556,\"#d8576b\"],[0.6666666666666666,\"#ed7953\"],[0.7777777777777778,\"#fb9f3a\"],[0.8888888888888888,\"#fdca26\"],[1.0,\"#f0f921\"]],\"sequentialminus\":[[0.0,\"#0d0887\"],[0.1111111111111111,\"#46039f\"],[0.2222222222222222,\"#7201a8\"],[0.3333333333333333,\"#9c179e\"],[0.4444444444444444,\"#bd3786\"],[0.5555555555555556,\"#d8576b\"],[0.6666666666666666,\"#ed7953\"],[0.7777777777777778,\"#fb9f3a\"],[0.8888888888888888,\"#fdca26\"],[1.0,\"#f0f921\"]],\"diverging\":[[0,\"#8e0152\"],[0.1,\"#c51b7d\"],[0.2,\"#de77ae\"],[0.3,\"#f1b6da\"],[0.4,\"#fde0ef\"],[0.5,\"#f7f7f7\"],[0.6,\"#e6f5d0\"],[0.7,\"#b8e186\"],[0.8,\"#7fbc41\"],[0.9,\"#4d9221\"],[1,\"#276419\"]]},\"xaxis\":{\"gridcolor\":\"white\",\"linecolor\":\"white\",\"ticks\":\"\",\"title\":{\"standoff\":15},\"zerolinecolor\":\"white\",\"automargin\":true,\"zerolinewidth\":2},\"yaxis\":{\"gridcolor\":\"white\",\"linecolor\":\"white\",\"ticks\":\"\",\"title\":{\"standoff\":15},\"zerolinecolor\":\"white\",\"automargin\":true,\"zerolinewidth\":2},\"scene\":{\"xaxis\":{\"backgroundcolor\":\"#E5ECF6\",\"gridcolor\":\"white\",\"linecolor\":\"white\",\"showbackground\":true,\"ticks\":\"\",\"zerolinecolor\":\"white\",\"gridwidth\":2},\"yaxis\":{\"backgroundcolor\":\"#E5ECF6\",\"gridcolor\":\"white\",\"linecolor\":\"white\",\"showbackground\":true,\"ticks\":\"\",\"zerolinecolor\":\"white\",\"gridwidth\":2},\"zaxis\":{\"backgroundcolor\":\"#E5ECF6\",\"gridcolor\":\"white\",\"linecolor\":\"white\",\"showbackground\":true,\"ticks\":\"\",\"zerolinecolor\":\"white\",\"gridwidth\":2}},\"shapedefaults\":{\"line\":{\"color\":\"#2a3f5f\"}},\"annotationdefaults\":{\"arrowcolor\":\"#2a3f5f\",\"arrowhead\":0,\"arrowwidth\":1},\"geo\":{\"bgcolor\":\"white\",\"landcolor\":\"#E5ECF6\",\"subunitcolor\":\"white\",\"showland\":true,\"showlakes\":true,\"lakecolor\":\"white\"},\"title\":{\"x\":0.05},\"mapbox\":{\"style\":\"light\"}}},\"xaxis\":{\"anchor\":\"y\",\"domain\":[0.0,1.0],\"title\":{\"text\":\"user_id\"}},\"yaxis\":{\"anchor\":\"x\",\"domain\":[0.0,1.0],\"title\":{\"text\":\"event_name\"}},\"legend\":{\"tracegroupgap\":0},\"title\":{\"text\":\"\\u0412\\u043e\\u0440\\u043e\\u043d\\u043a\\u0430 \\u0441\\u043e\\u0431\\u044b\\u0442\\u0438\\u0439 \\u0434\\u043b\\u044f \\u0432\\u0441\\u0435\\u0445 \\u0443\\u0447\\u0430\\u0441\\u0442\\u043d\\u0438\\u043a\\u043e\\u0432 \\u044d\\u043a\\u0441\\u043f\\u0435\\u0440\\u0438\\u043c\\u0435\\u043d\\u0442\\u0430\"}},                        {\"responsive\": true}                    ).then(function(){\n",
              "                            \n",
              "var gd = document.getElementById('27a665a6-3648-4d1b-89da-7844fc585b8a');\n",
              "var x = new MutationObserver(function (mutations, observer) {{\n",
              "        var display = window.getComputedStyle(gd).display;\n",
              "        if (!display || display === 'none') {{\n",
              "            console.log([gd, 'removed!']);\n",
              "            Plotly.purge(gd);\n",
              "            observer.disconnect();\n",
              "        }}\n",
              "}});\n",
              "\n",
              "// Listen for the removal of the full notebook cells\n",
              "var notebookContainer = gd.closest('#notebook-container');\n",
              "if (notebookContainer) {{\n",
              "    x.observe(notebookContainer, {childList: true});\n",
              "}}\n",
              "\n",
              "// Listen for the clearing of the current output cell\n",
              "var outputEl = gd.closest('.output');\n",
              "if (outputEl) {{\n",
              "    x.observe(outputEl, {childList: true});\n",
              "}}\n",
              "\n",
              "                        })                };                            </script>        </div>\n",
              "</body>\n",
              "</html>"
            ]
          },
          "metadata": {}
        }
      ],
      "source": [
        "fig = px.funnel(conv, x='user_id', y='event_name', title ='Воронка событий для всех участников эксперимента')\n",
        "fig.show()"
      ]
    },
    {
      "cell_type": "markdown",
      "metadata": {
        "id": "B8I7vHaZSLVZ"
      },
      "source": [
        "Воронка событий имеет второй раструб между финальным (целевым) событием - Оплатой и, явно не финальным - просмотром корзины. Это противоречие можно объяснить догадкой, что не все покупатели перед оплатой заходят в корзину посмотреть, а сразу переходят к оплате.\n",
        "\n",
        "Рассмотрим воронки отдельно по участникам контрольной и экспериментальной групп."
      ]
    },
    {
      "cell_type": "code",
      "execution_count": null,
      "metadata": {
        "id": "M_fJl4waSLVZ",
        "outputId": "6aa3f139-2c5e-4488-e9c2-f48bbfce77bd",
        "colab": {
          "base_uri": "https://localhost:8080/"
        }
      },
      "outputs": [
        {
          "output_type": "execute_result",
          "data": {
            "text/plain": [
              "     event_name  user_id     ratio  rang\n",
              "0         login     2422  1.000000     1\n",
              "2  product_page     1571  0.648637     2\n",
              "1  product_cart      728  0.300578     3\n",
              "3      purchase      773  0.319158     4"
            ],
            "text/html": [
              "\n",
              "  <div id=\"df-7df70b85-3b98-4d0e-a612-9b37f842a9e1\">\n",
              "    <div class=\"colab-df-container\">\n",
              "      <div>\n",
              "<style scoped>\n",
              "    .dataframe tbody tr th:only-of-type {\n",
              "        vertical-align: middle;\n",
              "    }\n",
              "\n",
              "    .dataframe tbody tr th {\n",
              "        vertical-align: top;\n",
              "    }\n",
              "\n",
              "    .dataframe thead th {\n",
              "        text-align: right;\n",
              "    }\n",
              "</style>\n",
              "<table border=\"1\" class=\"dataframe\">\n",
              "  <thead>\n",
              "    <tr style=\"text-align: right;\">\n",
              "      <th></th>\n",
              "      <th>event_name</th>\n",
              "      <th>user_id</th>\n",
              "      <th>ratio</th>\n",
              "      <th>rang</th>\n",
              "    </tr>\n",
              "  </thead>\n",
              "  <tbody>\n",
              "    <tr>\n",
              "      <th>0</th>\n",
              "      <td>login</td>\n",
              "      <td>2422</td>\n",
              "      <td>1.000000</td>\n",
              "      <td>1</td>\n",
              "    </tr>\n",
              "    <tr>\n",
              "      <th>2</th>\n",
              "      <td>product_page</td>\n",
              "      <td>1571</td>\n",
              "      <td>0.648637</td>\n",
              "      <td>2</td>\n",
              "    </tr>\n",
              "    <tr>\n",
              "      <th>1</th>\n",
              "      <td>product_cart</td>\n",
              "      <td>728</td>\n",
              "      <td>0.300578</td>\n",
              "      <td>3</td>\n",
              "    </tr>\n",
              "    <tr>\n",
              "      <th>3</th>\n",
              "      <td>purchase</td>\n",
              "      <td>773</td>\n",
              "      <td>0.319158</td>\n",
              "      <td>4</td>\n",
              "    </tr>\n",
              "  </tbody>\n",
              "</table>\n",
              "</div>\n",
              "      <button class=\"colab-df-convert\" onclick=\"convertToInteractive('df-7df70b85-3b98-4d0e-a612-9b37f842a9e1')\"\n",
              "              title=\"Convert this dataframe to an interactive table.\"\n",
              "              style=\"display:none;\">\n",
              "        \n",
              "  <svg xmlns=\"http://www.w3.org/2000/svg\" height=\"24px\"viewBox=\"0 0 24 24\"\n",
              "       width=\"24px\">\n",
              "    <path d=\"M0 0h24v24H0V0z\" fill=\"none\"/>\n",
              "    <path d=\"M18.56 5.44l.94 2.06.94-2.06 2.06-.94-2.06-.94-.94-2.06-.94 2.06-2.06.94zm-11 1L8.5 8.5l.94-2.06 2.06-.94-2.06-.94L8.5 2.5l-.94 2.06-2.06.94zm10 10l.94 2.06.94-2.06 2.06-.94-2.06-.94-.94-2.06-.94 2.06-2.06.94z\"/><path d=\"M17.41 7.96l-1.37-1.37c-.4-.4-.92-.59-1.43-.59-.52 0-1.04.2-1.43.59L10.3 9.45l-7.72 7.72c-.78.78-.78 2.05 0 2.83L4 21.41c.39.39.9.59 1.41.59.51 0 1.02-.2 1.41-.59l7.78-7.78 2.81-2.81c.8-.78.8-2.07 0-2.86zM5.41 20L4 18.59l7.72-7.72 1.47 1.35L5.41 20z\"/>\n",
              "  </svg>\n",
              "      </button>\n",
              "      \n",
              "  <style>\n",
              "    .colab-df-container {\n",
              "      display:flex;\n",
              "      flex-wrap:wrap;\n",
              "      gap: 12px;\n",
              "    }\n",
              "\n",
              "    .colab-df-convert {\n",
              "      background-color: #E8F0FE;\n",
              "      border: none;\n",
              "      border-radius: 50%;\n",
              "      cursor: pointer;\n",
              "      display: none;\n",
              "      fill: #1967D2;\n",
              "      height: 32px;\n",
              "      padding: 0 0 0 0;\n",
              "      width: 32px;\n",
              "    }\n",
              "\n",
              "    .colab-df-convert:hover {\n",
              "      background-color: #E2EBFA;\n",
              "      box-shadow: 0px 1px 2px rgba(60, 64, 67, 0.3), 0px 1px 3px 1px rgba(60, 64, 67, 0.15);\n",
              "      fill: #174EA6;\n",
              "    }\n",
              "\n",
              "    [theme=dark] .colab-df-convert {\n",
              "      background-color: #3B4455;\n",
              "      fill: #D2E3FC;\n",
              "    }\n",
              "\n",
              "    [theme=dark] .colab-df-convert:hover {\n",
              "      background-color: #434B5C;\n",
              "      box-shadow: 0px 1px 3px 1px rgba(0, 0, 0, 0.15);\n",
              "      filter: drop-shadow(0px 1px 2px rgba(0, 0, 0, 0.3));\n",
              "      fill: #FFFFFF;\n",
              "    }\n",
              "  </style>\n",
              "\n",
              "      <script>\n",
              "        const buttonEl =\n",
              "          document.querySelector('#df-7df70b85-3b98-4d0e-a612-9b37f842a9e1 button.colab-df-convert');\n",
              "        buttonEl.style.display =\n",
              "          google.colab.kernel.accessAllowed ? 'block' : 'none';\n",
              "\n",
              "        async function convertToInteractive(key) {\n",
              "          const element = document.querySelector('#df-7df70b85-3b98-4d0e-a612-9b37f842a9e1');\n",
              "          const dataTable =\n",
              "            await google.colab.kernel.invokeFunction('convertToInteractive',\n",
              "                                                     [key], {});\n",
              "          if (!dataTable) return;\n",
              "\n",
              "          const docLinkHtml = 'Like what you see? Visit the ' +\n",
              "            '<a target=\"_blank\" href=https://colab.research.google.com/notebooks/data_table.ipynb>data table notebook</a>'\n",
              "            + ' to learn more about interactive tables.';\n",
              "          element.innerHTML = '';\n",
              "          dataTable['output_type'] = 'display_data';\n",
              "          await google.colab.output.renderOutput(dataTable, element);\n",
              "          const docLink = document.createElement('div');\n",
              "          docLink.innerHTML = docLinkHtml;\n",
              "          element.appendChild(docLink);\n",
              "        }\n",
              "      </script>\n",
              "    </div>\n",
              "  </div>\n",
              "  "
            ]
          },
          "metadata": {},
          "execution_count": 85
        }
      ],
      "source": [
        "conv_a = events_a.groupby(by='event_name', as_index=False)['user_id'].nunique()\n",
        "conv_a\n",
        "conv_a = conv_a.sort_values(by = 'user_id', ascending=False)\n",
        "conv_a['ratio'] = conv_a['user_id'] / events_a.user_id.nunique()\n",
        "conv_a['rang'] = [1, 2, 4, 3]\n",
        "conv_a = conv_a.sort_values(by = 'rang', ascending=True)\n",
        "conv_a"
      ]
    },
    {
      "cell_type": "code",
      "execution_count": null,
      "metadata": {
        "id": "_3XXQe4WSLVa",
        "outputId": "9ff64be0-71ac-4090-e6cd-b2759c8f2fbb",
        "colab": {
          "base_uri": "https://localhost:8080/"
        }
      },
      "outputs": [
        {
          "output_type": "display_data",
          "data": {
            "text/html": [
              "<html>\n",
              "<head><meta charset=\"utf-8\" /></head>\n",
              "<body>\n",
              "    <div>            <script src=\"https://cdnjs.cloudflare.com/ajax/libs/mathjax/2.7.5/MathJax.js?config=TeX-AMS-MML_SVG\"></script><script type=\"text/javascript\">if (window.MathJax && window.MathJax.Hub && window.MathJax.Hub.Config) {window.MathJax.Hub.Config({SVG: {font: \"STIX-Web\"}});}</script>                <script type=\"text/javascript\">window.PlotlyConfig = {MathJaxConfig: 'local'};</script>\n",
              "        <script src=\"https://cdn.plot.ly/plotly-2.18.2.min.js\"></script>                <div id=\"b6d9b387-c44f-4e1d-9188-3b1b3f2b1a11\" class=\"plotly-graph-div\" style=\"height:525px; width:100%;\"></div>            <script type=\"text/javascript\">                                    window.PLOTLYENV=window.PLOTLYENV || {};                                    if (document.getElementById(\"b6d9b387-c44f-4e1d-9188-3b1b3f2b1a11\")) {                    Plotly.newPlot(                        \"b6d9b387-c44f-4e1d-9188-3b1b3f2b1a11\",                        [{\"hovertemplate\":\"user_id=%{x}<br>event_name=%{y}<extra></extra>\",\"legendgroup\":\"\",\"marker\":{\"color\":\"#636efa\"},\"name\":\"\",\"orientation\":\"h\",\"showlegend\":false,\"x\":[2422,1571,728,773],\"xaxis\":\"x\",\"y\":[\"login\",\"product_page\",\"product_cart\",\"purchase\"],\"yaxis\":\"y\",\"type\":\"funnel\"}],                        {\"template\":{\"data\":{\"histogram2dcontour\":[{\"type\":\"histogram2dcontour\",\"colorbar\":{\"outlinewidth\":0,\"ticks\":\"\"},\"colorscale\":[[0.0,\"#0d0887\"],[0.1111111111111111,\"#46039f\"],[0.2222222222222222,\"#7201a8\"],[0.3333333333333333,\"#9c179e\"],[0.4444444444444444,\"#bd3786\"],[0.5555555555555556,\"#d8576b\"],[0.6666666666666666,\"#ed7953\"],[0.7777777777777778,\"#fb9f3a\"],[0.8888888888888888,\"#fdca26\"],[1.0,\"#f0f921\"]]}],\"choropleth\":[{\"type\":\"choropleth\",\"colorbar\":{\"outlinewidth\":0,\"ticks\":\"\"}}],\"histogram2d\":[{\"type\":\"histogram2d\",\"colorbar\":{\"outlinewidth\":0,\"ticks\":\"\"},\"colorscale\":[[0.0,\"#0d0887\"],[0.1111111111111111,\"#46039f\"],[0.2222222222222222,\"#7201a8\"],[0.3333333333333333,\"#9c179e\"],[0.4444444444444444,\"#bd3786\"],[0.5555555555555556,\"#d8576b\"],[0.6666666666666666,\"#ed7953\"],[0.7777777777777778,\"#fb9f3a\"],[0.8888888888888888,\"#fdca26\"],[1.0,\"#f0f921\"]]}],\"heatmap\":[{\"type\":\"heatmap\",\"colorbar\":{\"outlinewidth\":0,\"ticks\":\"\"},\"colorscale\":[[0.0,\"#0d0887\"],[0.1111111111111111,\"#46039f\"],[0.2222222222222222,\"#7201a8\"],[0.3333333333333333,\"#9c179e\"],[0.4444444444444444,\"#bd3786\"],[0.5555555555555556,\"#d8576b\"],[0.6666666666666666,\"#ed7953\"],[0.7777777777777778,\"#fb9f3a\"],[0.8888888888888888,\"#fdca26\"],[1.0,\"#f0f921\"]]}],\"heatmapgl\":[{\"type\":\"heatmapgl\",\"colorbar\":{\"outlinewidth\":0,\"ticks\":\"\"},\"colorscale\":[[0.0,\"#0d0887\"],[0.1111111111111111,\"#46039f\"],[0.2222222222222222,\"#7201a8\"],[0.3333333333333333,\"#9c179e\"],[0.4444444444444444,\"#bd3786\"],[0.5555555555555556,\"#d8576b\"],[0.6666666666666666,\"#ed7953\"],[0.7777777777777778,\"#fb9f3a\"],[0.8888888888888888,\"#fdca26\"],[1.0,\"#f0f921\"]]}],\"contourcarpet\":[{\"type\":\"contourcarpet\",\"colorbar\":{\"outlinewidth\":0,\"ticks\":\"\"}}],\"contour\":[{\"type\":\"contour\",\"colorbar\":{\"outlinewidth\":0,\"ticks\":\"\"},\"colorscale\":[[0.0,\"#0d0887\"],[0.1111111111111111,\"#46039f\"],[0.2222222222222222,\"#7201a8\"],[0.3333333333333333,\"#9c179e\"],[0.4444444444444444,\"#bd3786\"],[0.5555555555555556,\"#d8576b\"],[0.6666666666666666,\"#ed7953\"],[0.7777777777777778,\"#fb9f3a\"],[0.8888888888888888,\"#fdca26\"],[1.0,\"#f0f921\"]]}],\"surface\":[{\"type\":\"surface\",\"colorbar\":{\"outlinewidth\":0,\"ticks\":\"\"},\"colorscale\":[[0.0,\"#0d0887\"],[0.1111111111111111,\"#46039f\"],[0.2222222222222222,\"#7201a8\"],[0.3333333333333333,\"#9c179e\"],[0.4444444444444444,\"#bd3786\"],[0.5555555555555556,\"#d8576b\"],[0.6666666666666666,\"#ed7953\"],[0.7777777777777778,\"#fb9f3a\"],[0.8888888888888888,\"#fdca26\"],[1.0,\"#f0f921\"]]}],\"mesh3d\":[{\"type\":\"mesh3d\",\"colorbar\":{\"outlinewidth\":0,\"ticks\":\"\"}}],\"scatter\":[{\"fillpattern\":{\"fillmode\":\"overlay\",\"size\":10,\"solidity\":0.2},\"type\":\"scatter\"}],\"parcoords\":[{\"type\":\"parcoords\",\"line\":{\"colorbar\":{\"outlinewidth\":0,\"ticks\":\"\"}}}],\"scatterpolargl\":[{\"type\":\"scatterpolargl\",\"marker\":{\"colorbar\":{\"outlinewidth\":0,\"ticks\":\"\"}}}],\"bar\":[{\"error_x\":{\"color\":\"#2a3f5f\"},\"error_y\":{\"color\":\"#2a3f5f\"},\"marker\":{\"line\":{\"color\":\"#E5ECF6\",\"width\":0.5},\"pattern\":{\"fillmode\":\"overlay\",\"size\":10,\"solidity\":0.2}},\"type\":\"bar\"}],\"scattergeo\":[{\"type\":\"scattergeo\",\"marker\":{\"colorbar\":{\"outlinewidth\":0,\"ticks\":\"\"}}}],\"scatterpolar\":[{\"type\":\"scatterpolar\",\"marker\":{\"colorbar\":{\"outlinewidth\":0,\"ticks\":\"\"}}}],\"histogram\":[{\"marker\":{\"pattern\":{\"fillmode\":\"overlay\",\"size\":10,\"solidity\":0.2}},\"type\":\"histogram\"}],\"scattergl\":[{\"type\":\"scattergl\",\"marker\":{\"colorbar\":{\"outlinewidth\":0,\"ticks\":\"\"}}}],\"scatter3d\":[{\"type\":\"scatter3d\",\"line\":{\"colorbar\":{\"outlinewidth\":0,\"ticks\":\"\"}},\"marker\":{\"colorbar\":{\"outlinewidth\":0,\"ticks\":\"\"}}}],\"scattermapbox\":[{\"type\":\"scattermapbox\",\"marker\":{\"colorbar\":{\"outlinewidth\":0,\"ticks\":\"\"}}}],\"scatterternary\":[{\"type\":\"scatterternary\",\"marker\":{\"colorbar\":{\"outlinewidth\":0,\"ticks\":\"\"}}}],\"scattercarpet\":[{\"type\":\"scattercarpet\",\"marker\":{\"colorbar\":{\"outlinewidth\":0,\"ticks\":\"\"}}}],\"carpet\":[{\"aaxis\":{\"endlinecolor\":\"#2a3f5f\",\"gridcolor\":\"white\",\"linecolor\":\"white\",\"minorgridcolor\":\"white\",\"startlinecolor\":\"#2a3f5f\"},\"baxis\":{\"endlinecolor\":\"#2a3f5f\",\"gridcolor\":\"white\",\"linecolor\":\"white\",\"minorgridcolor\":\"white\",\"startlinecolor\":\"#2a3f5f\"},\"type\":\"carpet\"}],\"table\":[{\"cells\":{\"fill\":{\"color\":\"#EBF0F8\"},\"line\":{\"color\":\"white\"}},\"header\":{\"fill\":{\"color\":\"#C8D4E3\"},\"line\":{\"color\":\"white\"}},\"type\":\"table\"}],\"barpolar\":[{\"marker\":{\"line\":{\"color\":\"#E5ECF6\",\"width\":0.5},\"pattern\":{\"fillmode\":\"overlay\",\"size\":10,\"solidity\":0.2}},\"type\":\"barpolar\"}],\"pie\":[{\"automargin\":true,\"type\":\"pie\"}]},\"layout\":{\"autotypenumbers\":\"strict\",\"colorway\":[\"#636efa\",\"#EF553B\",\"#00cc96\",\"#ab63fa\",\"#FFA15A\",\"#19d3f3\",\"#FF6692\",\"#B6E880\",\"#FF97FF\",\"#FECB52\"],\"font\":{\"color\":\"#2a3f5f\"},\"hovermode\":\"closest\",\"hoverlabel\":{\"align\":\"left\"},\"paper_bgcolor\":\"white\",\"plot_bgcolor\":\"#E5ECF6\",\"polar\":{\"bgcolor\":\"#E5ECF6\",\"angularaxis\":{\"gridcolor\":\"white\",\"linecolor\":\"white\",\"ticks\":\"\"},\"radialaxis\":{\"gridcolor\":\"white\",\"linecolor\":\"white\",\"ticks\":\"\"}},\"ternary\":{\"bgcolor\":\"#E5ECF6\",\"aaxis\":{\"gridcolor\":\"white\",\"linecolor\":\"white\",\"ticks\":\"\"},\"baxis\":{\"gridcolor\":\"white\",\"linecolor\":\"white\",\"ticks\":\"\"},\"caxis\":{\"gridcolor\":\"white\",\"linecolor\":\"white\",\"ticks\":\"\"}},\"coloraxis\":{\"colorbar\":{\"outlinewidth\":0,\"ticks\":\"\"}},\"colorscale\":{\"sequential\":[[0.0,\"#0d0887\"],[0.1111111111111111,\"#46039f\"],[0.2222222222222222,\"#7201a8\"],[0.3333333333333333,\"#9c179e\"],[0.4444444444444444,\"#bd3786\"],[0.5555555555555556,\"#d8576b\"],[0.6666666666666666,\"#ed7953\"],[0.7777777777777778,\"#fb9f3a\"],[0.8888888888888888,\"#fdca26\"],[1.0,\"#f0f921\"]],\"sequentialminus\":[[0.0,\"#0d0887\"],[0.1111111111111111,\"#46039f\"],[0.2222222222222222,\"#7201a8\"],[0.3333333333333333,\"#9c179e\"],[0.4444444444444444,\"#bd3786\"],[0.5555555555555556,\"#d8576b\"],[0.6666666666666666,\"#ed7953\"],[0.7777777777777778,\"#fb9f3a\"],[0.8888888888888888,\"#fdca26\"],[1.0,\"#f0f921\"]],\"diverging\":[[0,\"#8e0152\"],[0.1,\"#c51b7d\"],[0.2,\"#de77ae\"],[0.3,\"#f1b6da\"],[0.4,\"#fde0ef\"],[0.5,\"#f7f7f7\"],[0.6,\"#e6f5d0\"],[0.7,\"#b8e186\"],[0.8,\"#7fbc41\"],[0.9,\"#4d9221\"],[1,\"#276419\"]]},\"xaxis\":{\"gridcolor\":\"white\",\"linecolor\":\"white\",\"ticks\":\"\",\"title\":{\"standoff\":15},\"zerolinecolor\":\"white\",\"automargin\":true,\"zerolinewidth\":2},\"yaxis\":{\"gridcolor\":\"white\",\"linecolor\":\"white\",\"ticks\":\"\",\"title\":{\"standoff\":15},\"zerolinecolor\":\"white\",\"automargin\":true,\"zerolinewidth\":2},\"scene\":{\"xaxis\":{\"backgroundcolor\":\"#E5ECF6\",\"gridcolor\":\"white\",\"linecolor\":\"white\",\"showbackground\":true,\"ticks\":\"\",\"zerolinecolor\":\"white\",\"gridwidth\":2},\"yaxis\":{\"backgroundcolor\":\"#E5ECF6\",\"gridcolor\":\"white\",\"linecolor\":\"white\",\"showbackground\":true,\"ticks\":\"\",\"zerolinecolor\":\"white\",\"gridwidth\":2},\"zaxis\":{\"backgroundcolor\":\"#E5ECF6\",\"gridcolor\":\"white\",\"linecolor\":\"white\",\"showbackground\":true,\"ticks\":\"\",\"zerolinecolor\":\"white\",\"gridwidth\":2}},\"shapedefaults\":{\"line\":{\"color\":\"#2a3f5f\"}},\"annotationdefaults\":{\"arrowcolor\":\"#2a3f5f\",\"arrowhead\":0,\"arrowwidth\":1},\"geo\":{\"bgcolor\":\"white\",\"landcolor\":\"#E5ECF6\",\"subunitcolor\":\"white\",\"showland\":true,\"showlakes\":true,\"lakecolor\":\"white\"},\"title\":{\"x\":0.05},\"mapbox\":{\"style\":\"light\"}}},\"xaxis\":{\"anchor\":\"y\",\"domain\":[0.0,1.0],\"title\":{\"text\":\"user_id\"}},\"yaxis\":{\"anchor\":\"x\",\"domain\":[0.0,1.0],\"title\":{\"text\":\"event_name\"}},\"legend\":{\"tracegroupgap\":0},\"title\":{\"text\":\"\\u0412\\u043e\\u0440\\u043e\\u043d\\u043a\\u0430 \\u0441\\u043e\\u0431\\u044b\\u0442\\u0438\\u0439 \\u0434\\u043b\\u044f \\u0433\\u0440\\u0443\\u043f\\u043f\\u044b \\u0410 \\u0443\\u0447\\u0430\\u0441\\u0442\\u043d\\u0438\\u043a\\u043e\\u0432 \\u044d\\u043a\\u0441\\u043f\\u0435\\u0440\\u0438\\u043c\\u0435\\u043d\\u0442\\u0430\"}},                        {\"responsive\": true}                    ).then(function(){\n",
              "                            \n",
              "var gd = document.getElementById('b6d9b387-c44f-4e1d-9188-3b1b3f2b1a11');\n",
              "var x = new MutationObserver(function (mutations, observer) {{\n",
              "        var display = window.getComputedStyle(gd).display;\n",
              "        if (!display || display === 'none') {{\n",
              "            console.log([gd, 'removed!']);\n",
              "            Plotly.purge(gd);\n",
              "            observer.disconnect();\n",
              "        }}\n",
              "}});\n",
              "\n",
              "// Listen for the removal of the full notebook cells\n",
              "var notebookContainer = gd.closest('#notebook-container');\n",
              "if (notebookContainer) {{\n",
              "    x.observe(notebookContainer, {childList: true});\n",
              "}}\n",
              "\n",
              "// Listen for the clearing of the current output cell\n",
              "var outputEl = gd.closest('.output');\n",
              "if (outputEl) {{\n",
              "    x.observe(outputEl, {childList: true});\n",
              "}}\n",
              "\n",
              "                        })                };                            </script>        </div>\n",
              "</body>\n",
              "</html>"
            ]
          },
          "metadata": {}
        }
      ],
      "source": [
        "fig = px.funnel(conv_a, x='user_id', y='event_name', title ='Воронка событий для группы А участников эксперимента')\n",
        "fig.show()"
      ]
    },
    {
      "cell_type": "code",
      "execution_count": null,
      "metadata": {
        "id": "BtSOBBU_SLVa",
        "outputId": "8e21a609-ff40-4a6b-85f5-12a155e00e21",
        "colab": {
          "base_uri": "https://localhost:8080/"
        }
      },
      "outputs": [
        {
          "output_type": "execute_result",
          "data": {
            "text/plain": [
              "     event_name  user_id     ratio  rang\n",
              "0         login      812  1.000000     1\n",
              "2  product_page      461  0.567734     2\n",
              "1  product_cart      225  0.277094     3\n",
              "3      purchase      228  0.280788     4"
            ],
            "text/html": [
              "\n",
              "  <div id=\"df-3724e987-21ff-4de0-9b65-ff23a62ff915\">\n",
              "    <div class=\"colab-df-container\">\n",
              "      <div>\n",
              "<style scoped>\n",
              "    .dataframe tbody tr th:only-of-type {\n",
              "        vertical-align: middle;\n",
              "    }\n",
              "\n",
              "    .dataframe tbody tr th {\n",
              "        vertical-align: top;\n",
              "    }\n",
              "\n",
              "    .dataframe thead th {\n",
              "        text-align: right;\n",
              "    }\n",
              "</style>\n",
              "<table border=\"1\" class=\"dataframe\">\n",
              "  <thead>\n",
              "    <tr style=\"text-align: right;\">\n",
              "      <th></th>\n",
              "      <th>event_name</th>\n",
              "      <th>user_id</th>\n",
              "      <th>ratio</th>\n",
              "      <th>rang</th>\n",
              "    </tr>\n",
              "  </thead>\n",
              "  <tbody>\n",
              "    <tr>\n",
              "      <th>0</th>\n",
              "      <td>login</td>\n",
              "      <td>812</td>\n",
              "      <td>1.000000</td>\n",
              "      <td>1</td>\n",
              "    </tr>\n",
              "    <tr>\n",
              "      <th>2</th>\n",
              "      <td>product_page</td>\n",
              "      <td>461</td>\n",
              "      <td>0.567734</td>\n",
              "      <td>2</td>\n",
              "    </tr>\n",
              "    <tr>\n",
              "      <th>1</th>\n",
              "      <td>product_cart</td>\n",
              "      <td>225</td>\n",
              "      <td>0.277094</td>\n",
              "      <td>3</td>\n",
              "    </tr>\n",
              "    <tr>\n",
              "      <th>3</th>\n",
              "      <td>purchase</td>\n",
              "      <td>228</td>\n",
              "      <td>0.280788</td>\n",
              "      <td>4</td>\n",
              "    </tr>\n",
              "  </tbody>\n",
              "</table>\n",
              "</div>\n",
              "      <button class=\"colab-df-convert\" onclick=\"convertToInteractive('df-3724e987-21ff-4de0-9b65-ff23a62ff915')\"\n",
              "              title=\"Convert this dataframe to an interactive table.\"\n",
              "              style=\"display:none;\">\n",
              "        \n",
              "  <svg xmlns=\"http://www.w3.org/2000/svg\" height=\"24px\"viewBox=\"0 0 24 24\"\n",
              "       width=\"24px\">\n",
              "    <path d=\"M0 0h24v24H0V0z\" fill=\"none\"/>\n",
              "    <path d=\"M18.56 5.44l.94 2.06.94-2.06 2.06-.94-2.06-.94-.94-2.06-.94 2.06-2.06.94zm-11 1L8.5 8.5l.94-2.06 2.06-.94-2.06-.94L8.5 2.5l-.94 2.06-2.06.94zm10 10l.94 2.06.94-2.06 2.06-.94-2.06-.94-.94-2.06-.94 2.06-2.06.94z\"/><path d=\"M17.41 7.96l-1.37-1.37c-.4-.4-.92-.59-1.43-.59-.52 0-1.04.2-1.43.59L10.3 9.45l-7.72 7.72c-.78.78-.78 2.05 0 2.83L4 21.41c.39.39.9.59 1.41.59.51 0 1.02-.2 1.41-.59l7.78-7.78 2.81-2.81c.8-.78.8-2.07 0-2.86zM5.41 20L4 18.59l7.72-7.72 1.47 1.35L5.41 20z\"/>\n",
              "  </svg>\n",
              "      </button>\n",
              "      \n",
              "  <style>\n",
              "    .colab-df-container {\n",
              "      display:flex;\n",
              "      flex-wrap:wrap;\n",
              "      gap: 12px;\n",
              "    }\n",
              "\n",
              "    .colab-df-convert {\n",
              "      background-color: #E8F0FE;\n",
              "      border: none;\n",
              "      border-radius: 50%;\n",
              "      cursor: pointer;\n",
              "      display: none;\n",
              "      fill: #1967D2;\n",
              "      height: 32px;\n",
              "      padding: 0 0 0 0;\n",
              "      width: 32px;\n",
              "    }\n",
              "\n",
              "    .colab-df-convert:hover {\n",
              "      background-color: #E2EBFA;\n",
              "      box-shadow: 0px 1px 2px rgba(60, 64, 67, 0.3), 0px 1px 3px 1px rgba(60, 64, 67, 0.15);\n",
              "      fill: #174EA6;\n",
              "    }\n",
              "\n",
              "    [theme=dark] .colab-df-convert {\n",
              "      background-color: #3B4455;\n",
              "      fill: #D2E3FC;\n",
              "    }\n",
              "\n",
              "    [theme=dark] .colab-df-convert:hover {\n",
              "      background-color: #434B5C;\n",
              "      box-shadow: 0px 1px 3px 1px rgba(0, 0, 0, 0.15);\n",
              "      filter: drop-shadow(0px 1px 2px rgba(0, 0, 0, 0.3));\n",
              "      fill: #FFFFFF;\n",
              "    }\n",
              "  </style>\n",
              "\n",
              "      <script>\n",
              "        const buttonEl =\n",
              "          document.querySelector('#df-3724e987-21ff-4de0-9b65-ff23a62ff915 button.colab-df-convert');\n",
              "        buttonEl.style.display =\n",
              "          google.colab.kernel.accessAllowed ? 'block' : 'none';\n",
              "\n",
              "        async function convertToInteractive(key) {\n",
              "          const element = document.querySelector('#df-3724e987-21ff-4de0-9b65-ff23a62ff915');\n",
              "          const dataTable =\n",
              "            await google.colab.kernel.invokeFunction('convertToInteractive',\n",
              "                                                     [key], {});\n",
              "          if (!dataTable) return;\n",
              "\n",
              "          const docLinkHtml = 'Like what you see? Visit the ' +\n",
              "            '<a target=\"_blank\" href=https://colab.research.google.com/notebooks/data_table.ipynb>data table notebook</a>'\n",
              "            + ' to learn more about interactive tables.';\n",
              "          element.innerHTML = '';\n",
              "          dataTable['output_type'] = 'display_data';\n",
              "          await google.colab.output.renderOutput(dataTable, element);\n",
              "          const docLink = document.createElement('div');\n",
              "          docLink.innerHTML = docLinkHtml;\n",
              "          element.appendChild(docLink);\n",
              "        }\n",
              "      </script>\n",
              "    </div>\n",
              "  </div>\n",
              "  "
            ]
          },
          "metadata": {},
          "execution_count": 87
        }
      ],
      "source": [
        "conv_b = events_b.groupby(by='event_name', as_index=False)['user_id'].nunique()\n",
        "conv_b\n",
        "conv_b = conv_b.sort_values(by = 'user_id', ascending=False)\n",
        "conv_b['ratio'] = conv_b['user_id'] / events_b.user_id.nunique()\n",
        "conv_b['rang'] = [1, 2, 4, 3]\n",
        "conv_b = conv_b.sort_values(by = 'rang', ascending=True)\n",
        "conv_b"
      ]
    },
    {
      "cell_type": "code",
      "execution_count": null,
      "metadata": {
        "id": "PY3BiQyFSLVa",
        "outputId": "af626a00-d5d4-432f-e623-abc6d8f1abeb",
        "colab": {
          "base_uri": "https://localhost:8080/"
        }
      },
      "outputs": [
        {
          "output_type": "display_data",
          "data": {
            "text/html": [
              "<html>\n",
              "<head><meta charset=\"utf-8\" /></head>\n",
              "<body>\n",
              "    <div>            <script src=\"https://cdnjs.cloudflare.com/ajax/libs/mathjax/2.7.5/MathJax.js?config=TeX-AMS-MML_SVG\"></script><script type=\"text/javascript\">if (window.MathJax && window.MathJax.Hub && window.MathJax.Hub.Config) {window.MathJax.Hub.Config({SVG: {font: \"STIX-Web\"}});}</script>                <script type=\"text/javascript\">window.PlotlyConfig = {MathJaxConfig: 'local'};</script>\n",
              "        <script src=\"https://cdn.plot.ly/plotly-2.18.2.min.js\"></script>                <div id=\"5921ed5c-6ec8-4855-88a2-2131529a8fcd\" class=\"plotly-graph-div\" style=\"height:525px; width:100%;\"></div>            <script type=\"text/javascript\">                                    window.PLOTLYENV=window.PLOTLYENV || {};                                    if (document.getElementById(\"5921ed5c-6ec8-4855-88a2-2131529a8fcd\")) {                    Plotly.newPlot(                        \"5921ed5c-6ec8-4855-88a2-2131529a8fcd\",                        [{\"hovertemplate\":\"user_id=%{x}<br>event_name=%{y}<extra></extra>\",\"legendgroup\":\"\",\"marker\":{\"color\":\"#636efa\"},\"name\":\"\",\"orientation\":\"h\",\"showlegend\":false,\"x\":[812,461,225,228],\"xaxis\":\"x\",\"y\":[\"login\",\"product_page\",\"product_cart\",\"purchase\"],\"yaxis\":\"y\",\"type\":\"funnel\"}],                        {\"template\":{\"data\":{\"histogram2dcontour\":[{\"type\":\"histogram2dcontour\",\"colorbar\":{\"outlinewidth\":0,\"ticks\":\"\"},\"colorscale\":[[0.0,\"#0d0887\"],[0.1111111111111111,\"#46039f\"],[0.2222222222222222,\"#7201a8\"],[0.3333333333333333,\"#9c179e\"],[0.4444444444444444,\"#bd3786\"],[0.5555555555555556,\"#d8576b\"],[0.6666666666666666,\"#ed7953\"],[0.7777777777777778,\"#fb9f3a\"],[0.8888888888888888,\"#fdca26\"],[1.0,\"#f0f921\"]]}],\"choropleth\":[{\"type\":\"choropleth\",\"colorbar\":{\"outlinewidth\":0,\"ticks\":\"\"}}],\"histogram2d\":[{\"type\":\"histogram2d\",\"colorbar\":{\"outlinewidth\":0,\"ticks\":\"\"},\"colorscale\":[[0.0,\"#0d0887\"],[0.1111111111111111,\"#46039f\"],[0.2222222222222222,\"#7201a8\"],[0.3333333333333333,\"#9c179e\"],[0.4444444444444444,\"#bd3786\"],[0.5555555555555556,\"#d8576b\"],[0.6666666666666666,\"#ed7953\"],[0.7777777777777778,\"#fb9f3a\"],[0.8888888888888888,\"#fdca26\"],[1.0,\"#f0f921\"]]}],\"heatmap\":[{\"type\":\"heatmap\",\"colorbar\":{\"outlinewidth\":0,\"ticks\":\"\"},\"colorscale\":[[0.0,\"#0d0887\"],[0.1111111111111111,\"#46039f\"],[0.2222222222222222,\"#7201a8\"],[0.3333333333333333,\"#9c179e\"],[0.4444444444444444,\"#bd3786\"],[0.5555555555555556,\"#d8576b\"],[0.6666666666666666,\"#ed7953\"],[0.7777777777777778,\"#fb9f3a\"],[0.8888888888888888,\"#fdca26\"],[1.0,\"#f0f921\"]]}],\"heatmapgl\":[{\"type\":\"heatmapgl\",\"colorbar\":{\"outlinewidth\":0,\"ticks\":\"\"},\"colorscale\":[[0.0,\"#0d0887\"],[0.1111111111111111,\"#46039f\"],[0.2222222222222222,\"#7201a8\"],[0.3333333333333333,\"#9c179e\"],[0.4444444444444444,\"#bd3786\"],[0.5555555555555556,\"#d8576b\"],[0.6666666666666666,\"#ed7953\"],[0.7777777777777778,\"#fb9f3a\"],[0.8888888888888888,\"#fdca26\"],[1.0,\"#f0f921\"]]}],\"contourcarpet\":[{\"type\":\"contourcarpet\",\"colorbar\":{\"outlinewidth\":0,\"ticks\":\"\"}}],\"contour\":[{\"type\":\"contour\",\"colorbar\":{\"outlinewidth\":0,\"ticks\":\"\"},\"colorscale\":[[0.0,\"#0d0887\"],[0.1111111111111111,\"#46039f\"],[0.2222222222222222,\"#7201a8\"],[0.3333333333333333,\"#9c179e\"],[0.4444444444444444,\"#bd3786\"],[0.5555555555555556,\"#d8576b\"],[0.6666666666666666,\"#ed7953\"],[0.7777777777777778,\"#fb9f3a\"],[0.8888888888888888,\"#fdca26\"],[1.0,\"#f0f921\"]]}],\"surface\":[{\"type\":\"surface\",\"colorbar\":{\"outlinewidth\":0,\"ticks\":\"\"},\"colorscale\":[[0.0,\"#0d0887\"],[0.1111111111111111,\"#46039f\"],[0.2222222222222222,\"#7201a8\"],[0.3333333333333333,\"#9c179e\"],[0.4444444444444444,\"#bd3786\"],[0.5555555555555556,\"#d8576b\"],[0.6666666666666666,\"#ed7953\"],[0.7777777777777778,\"#fb9f3a\"],[0.8888888888888888,\"#fdca26\"],[1.0,\"#f0f921\"]]}],\"mesh3d\":[{\"type\":\"mesh3d\",\"colorbar\":{\"outlinewidth\":0,\"ticks\":\"\"}}],\"scatter\":[{\"fillpattern\":{\"fillmode\":\"overlay\",\"size\":10,\"solidity\":0.2},\"type\":\"scatter\"}],\"parcoords\":[{\"type\":\"parcoords\",\"line\":{\"colorbar\":{\"outlinewidth\":0,\"ticks\":\"\"}}}],\"scatterpolargl\":[{\"type\":\"scatterpolargl\",\"marker\":{\"colorbar\":{\"outlinewidth\":0,\"ticks\":\"\"}}}],\"bar\":[{\"error_x\":{\"color\":\"#2a3f5f\"},\"error_y\":{\"color\":\"#2a3f5f\"},\"marker\":{\"line\":{\"color\":\"#E5ECF6\",\"width\":0.5},\"pattern\":{\"fillmode\":\"overlay\",\"size\":10,\"solidity\":0.2}},\"type\":\"bar\"}],\"scattergeo\":[{\"type\":\"scattergeo\",\"marker\":{\"colorbar\":{\"outlinewidth\":0,\"ticks\":\"\"}}}],\"scatterpolar\":[{\"type\":\"scatterpolar\",\"marker\":{\"colorbar\":{\"outlinewidth\":0,\"ticks\":\"\"}}}],\"histogram\":[{\"marker\":{\"pattern\":{\"fillmode\":\"overlay\",\"size\":10,\"solidity\":0.2}},\"type\":\"histogram\"}],\"scattergl\":[{\"type\":\"scattergl\",\"marker\":{\"colorbar\":{\"outlinewidth\":0,\"ticks\":\"\"}}}],\"scatter3d\":[{\"type\":\"scatter3d\",\"line\":{\"colorbar\":{\"outlinewidth\":0,\"ticks\":\"\"}},\"marker\":{\"colorbar\":{\"outlinewidth\":0,\"ticks\":\"\"}}}],\"scattermapbox\":[{\"type\":\"scattermapbox\",\"marker\":{\"colorbar\":{\"outlinewidth\":0,\"ticks\":\"\"}}}],\"scatterternary\":[{\"type\":\"scatterternary\",\"marker\":{\"colorbar\":{\"outlinewidth\":0,\"ticks\":\"\"}}}],\"scattercarpet\":[{\"type\":\"scattercarpet\",\"marker\":{\"colorbar\":{\"outlinewidth\":0,\"ticks\":\"\"}}}],\"carpet\":[{\"aaxis\":{\"endlinecolor\":\"#2a3f5f\",\"gridcolor\":\"white\",\"linecolor\":\"white\",\"minorgridcolor\":\"white\",\"startlinecolor\":\"#2a3f5f\"},\"baxis\":{\"endlinecolor\":\"#2a3f5f\",\"gridcolor\":\"white\",\"linecolor\":\"white\",\"minorgridcolor\":\"white\",\"startlinecolor\":\"#2a3f5f\"},\"type\":\"carpet\"}],\"table\":[{\"cells\":{\"fill\":{\"color\":\"#EBF0F8\"},\"line\":{\"color\":\"white\"}},\"header\":{\"fill\":{\"color\":\"#C8D4E3\"},\"line\":{\"color\":\"white\"}},\"type\":\"table\"}],\"barpolar\":[{\"marker\":{\"line\":{\"color\":\"#E5ECF6\",\"width\":0.5},\"pattern\":{\"fillmode\":\"overlay\",\"size\":10,\"solidity\":0.2}},\"type\":\"barpolar\"}],\"pie\":[{\"automargin\":true,\"type\":\"pie\"}]},\"layout\":{\"autotypenumbers\":\"strict\",\"colorway\":[\"#636efa\",\"#EF553B\",\"#00cc96\",\"#ab63fa\",\"#FFA15A\",\"#19d3f3\",\"#FF6692\",\"#B6E880\",\"#FF97FF\",\"#FECB52\"],\"font\":{\"color\":\"#2a3f5f\"},\"hovermode\":\"closest\",\"hoverlabel\":{\"align\":\"left\"},\"paper_bgcolor\":\"white\",\"plot_bgcolor\":\"#E5ECF6\",\"polar\":{\"bgcolor\":\"#E5ECF6\",\"angularaxis\":{\"gridcolor\":\"white\",\"linecolor\":\"white\",\"ticks\":\"\"},\"radialaxis\":{\"gridcolor\":\"white\",\"linecolor\":\"white\",\"ticks\":\"\"}},\"ternary\":{\"bgcolor\":\"#E5ECF6\",\"aaxis\":{\"gridcolor\":\"white\",\"linecolor\":\"white\",\"ticks\":\"\"},\"baxis\":{\"gridcolor\":\"white\",\"linecolor\":\"white\",\"ticks\":\"\"},\"caxis\":{\"gridcolor\":\"white\",\"linecolor\":\"white\",\"ticks\":\"\"}},\"coloraxis\":{\"colorbar\":{\"outlinewidth\":0,\"ticks\":\"\"}},\"colorscale\":{\"sequential\":[[0.0,\"#0d0887\"],[0.1111111111111111,\"#46039f\"],[0.2222222222222222,\"#7201a8\"],[0.3333333333333333,\"#9c179e\"],[0.4444444444444444,\"#bd3786\"],[0.5555555555555556,\"#d8576b\"],[0.6666666666666666,\"#ed7953\"],[0.7777777777777778,\"#fb9f3a\"],[0.8888888888888888,\"#fdca26\"],[1.0,\"#f0f921\"]],\"sequentialminus\":[[0.0,\"#0d0887\"],[0.1111111111111111,\"#46039f\"],[0.2222222222222222,\"#7201a8\"],[0.3333333333333333,\"#9c179e\"],[0.4444444444444444,\"#bd3786\"],[0.5555555555555556,\"#d8576b\"],[0.6666666666666666,\"#ed7953\"],[0.7777777777777778,\"#fb9f3a\"],[0.8888888888888888,\"#fdca26\"],[1.0,\"#f0f921\"]],\"diverging\":[[0,\"#8e0152\"],[0.1,\"#c51b7d\"],[0.2,\"#de77ae\"],[0.3,\"#f1b6da\"],[0.4,\"#fde0ef\"],[0.5,\"#f7f7f7\"],[0.6,\"#e6f5d0\"],[0.7,\"#b8e186\"],[0.8,\"#7fbc41\"],[0.9,\"#4d9221\"],[1,\"#276419\"]]},\"xaxis\":{\"gridcolor\":\"white\",\"linecolor\":\"white\",\"ticks\":\"\",\"title\":{\"standoff\":15},\"zerolinecolor\":\"white\",\"automargin\":true,\"zerolinewidth\":2},\"yaxis\":{\"gridcolor\":\"white\",\"linecolor\":\"white\",\"ticks\":\"\",\"title\":{\"standoff\":15},\"zerolinecolor\":\"white\",\"automargin\":true,\"zerolinewidth\":2},\"scene\":{\"xaxis\":{\"backgroundcolor\":\"#E5ECF6\",\"gridcolor\":\"white\",\"linecolor\":\"white\",\"showbackground\":true,\"ticks\":\"\",\"zerolinecolor\":\"white\",\"gridwidth\":2},\"yaxis\":{\"backgroundcolor\":\"#E5ECF6\",\"gridcolor\":\"white\",\"linecolor\":\"white\",\"showbackground\":true,\"ticks\":\"\",\"zerolinecolor\":\"white\",\"gridwidth\":2},\"zaxis\":{\"backgroundcolor\":\"#E5ECF6\",\"gridcolor\":\"white\",\"linecolor\":\"white\",\"showbackground\":true,\"ticks\":\"\",\"zerolinecolor\":\"white\",\"gridwidth\":2}},\"shapedefaults\":{\"line\":{\"color\":\"#2a3f5f\"}},\"annotationdefaults\":{\"arrowcolor\":\"#2a3f5f\",\"arrowhead\":0,\"arrowwidth\":1},\"geo\":{\"bgcolor\":\"white\",\"landcolor\":\"#E5ECF6\",\"subunitcolor\":\"white\",\"showland\":true,\"showlakes\":true,\"lakecolor\":\"white\"},\"title\":{\"x\":0.05},\"mapbox\":{\"style\":\"light\"}}},\"xaxis\":{\"anchor\":\"y\",\"domain\":[0.0,1.0],\"title\":{\"text\":\"user_id\"}},\"yaxis\":{\"anchor\":\"x\",\"domain\":[0.0,1.0],\"title\":{\"text\":\"event_name\"}},\"legend\":{\"tracegroupgap\":0},\"title\":{\"text\":\"\\u0412\\u043e\\u0440\\u043e\\u043d\\u043a\\u0430 \\u0441\\u043e\\u0431\\u044b\\u0442\\u0438\\u0439 \\u0434\\u043b\\u044f \\u0433\\u0440\\u0443\\u043f\\u043f\\u044b \\u0412 \\u0443\\u0447\\u0430\\u0441\\u0442\\u043d\\u0438\\u043a\\u043e\\u0432 \\u044d\\u043a\\u0441\\u043f\\u0435\\u0440\\u0438\\u043c\\u0435\\u043d\\u0442\\u0430\"}},                        {\"responsive\": true}                    ).then(function(){\n",
              "                            \n",
              "var gd = document.getElementById('5921ed5c-6ec8-4855-88a2-2131529a8fcd');\n",
              "var x = new MutationObserver(function (mutations, observer) {{\n",
              "        var display = window.getComputedStyle(gd).display;\n",
              "        if (!display || display === 'none') {{\n",
              "            console.log([gd, 'removed!']);\n",
              "            Plotly.purge(gd);\n",
              "            observer.disconnect();\n",
              "        }}\n",
              "}});\n",
              "\n",
              "// Listen for the removal of the full notebook cells\n",
              "var notebookContainer = gd.closest('#notebook-container');\n",
              "if (notebookContainer) {{\n",
              "    x.observe(notebookContainer, {childList: true});\n",
              "}}\n",
              "\n",
              "// Listen for the clearing of the current output cell\n",
              "var outputEl = gd.closest('.output');\n",
              "if (outputEl) {{\n",
              "    x.observe(outputEl, {childList: true});\n",
              "}}\n",
              "\n",
              "                        })                };                            </script>        </div>\n",
              "</body>\n",
              "</html>"
            ]
          },
          "metadata": {}
        }
      ],
      "source": [
        "fig = px.funnel(conv_b, x='user_id', y='event_name', title ='Воронка событий для группы В участников эксперимента')\n",
        "fig.show()"
      ]
    },
    {
      "cell_type": "markdown",
      "metadata": {
        "id": "dk0iftOJSLVa"
      },
      "source": [
        "Конверсии на всех этапах воронки событий в группе В экспериментальной, ниже конверсий группы А аналогичных этапов."
      ]
    },
    {
      "cell_type": "markdown",
      "metadata": {
        "id": "iTOkJbIsSLVb"
      },
      "source": [
        "А/В тест final_ab_participants, результаты которого были представлены для изучения был сделан недостаточно хорошо. Помимо недостатков отмеченных в предыдушем разделе при выполнении исследовательского анализа были выявлены следующие недостатки:\n",
        "### Выводы и наблюдения\n",
        "\n",
        "- часть участников эксперимента final_ab_participants была задействована в других экспериментах, что недозволительно, так как на поведение одного участника может оказывать влияние другого эксперимента.\n",
        "- группы А и В частично пересекались;\n",
        "- группы А и В при правильной фильтрации получаются очень разными, разница еще больше возрастает до 70 %.\n",
        "- распределение в группах по дням неравномерное. Возможно на это влияют маркетинговые мероприятия, проводимые в период сбора информации для теста.\n"
      ]
    },
    {
      "cell_type": "markdown",
      "metadata": {
        "id": "WtDI7aKYSLVb"
      },
      "source": [
        "## Проведение статистической разницы долей z-критерием\n",
        "\n",
        "### Подготовка данных и функций\n",
        "\n",
        "Подготовлено два файла с конверсиями по различным событиям для контрольной и экспериментальной группе. Проверим нулевую теорию, что пропорции одинаковых событий в разных группах одинаковы:\n",
        "\n",
        "***Н0***: Конверсии событий в группе А ***Равны*** конверсиям соббытий в группе В;\n",
        "\n",
        "***Н1***: Конверсии событий в группе А ***Отличаются*** от конверсии соббытий в группе В.\n",
        "\n",
        "Проведем исследование функцией разработанной ранее в рамках изучения курса Аналитик данных. Функция требует небольшой доработки."
      ]
    },
    {
      "cell_type": "code",
      "execution_count": null,
      "metadata": {
        "id": "w93PpD5JSLVc"
      },
      "outputs": [],
      "source": [
        "# функция для проверки гипотезы равности долей при переходе от события к событию\n",
        "\n",
        "def compare_shares(df1, df2, i, alpha = .05):\n",
        "\n",
        "    # критический уровень статистической значимости передаем из вне  или по умолчанию\n",
        "    #alpha = .05 # критический уровень статистической значимости\n",
        "\n",
        "    successes = np.array([df1['user_id'][i], df2['user_id'][i]]) #успехи, в нашем случае количество клиентов совершивших событие df2['event_name'][i] в группах А1 и А2 соответственно\n",
        "    trials = trials = np.array([df1['user_id'][0], df2['user_id'][0]])    #испытания, в нашем случае количество клиентов на предыдущем шаге df2['event_name'][i-1] в группах А1 и А2 соответственно\n",
        "\n",
        "\n",
        "    # пропорция успехов в первой группе:\n",
        "    p1 = successes[0]/trials[0]\n",
        "\n",
        "    # пропорция успехов во второй группе:\n",
        "    p2 = successes[1]/trials[1]\n",
        "\n",
        "    print(successes[0], successes[1], trials[0], trials[1])\n",
        "\n",
        "    # пропорция успехов в комбинированном датасете:\n",
        "    p_combined = (successes[0] + successes[1]) / (trials[0] + trials[1])\n",
        "\n",
        "    # разница пропорций в датасетах\n",
        "    difference = p1 - p2\n",
        "\n",
        "    # считаем статистику в ст.отклонениях стандартного нормального распределения\n",
        "    z_value = difference / math.sqrt(p_combined * (1 - p_combined) * (1/trials[0] + 1/trials[1]))\n",
        "\n",
        "    # задаем стандартное нормальное распределение (среднее 0, ст.отклонение 1)\n",
        "    distr = stats.norm(0, 1)\n",
        "\n",
        "    p_value = (1 - distr.cdf(abs(z_value))) * 2\n",
        "\n",
        "    print('p-значение: ', p_value)\n",
        "\n",
        "    if p_value < alpha:\n",
        "        print('Отвергаем нулевую гипотезу: между долями есть значимая разница в событии ', df2['event_name'][i])\n",
        "    else:\n",
        "        print(\n",
        "        'Не получилось отвергнуть нулевую гипотезу, нет оснований считать доли разными в событии ', df2['event_name'][i]\n",
        "    )\n",
        "    return"
      ]
    },
    {
      "cell_type": "code",
      "execution_count": null,
      "metadata": {
        "id": "JEhtqxBlSLVc",
        "outputId": "40f3833e-2027-4a2e-907b-2e0f509dfede",
        "colab": {
          "base_uri": "https://localhost:8080/"
        }
      },
      "outputs": [
        {
          "output_type": "execute_result",
          "data": {
            "text/plain": [
              "     event_name  user_id     ratio  rang\n",
              "0         login      812  1.000000     1\n",
              "2  product_page      461  0.567734     2\n",
              "1  product_cart      225  0.277094     3\n",
              "3      purchase      228  0.280788     4"
            ],
            "text/html": [
              "\n",
              "  <div id=\"df-716138c7-bfe3-4d8a-a748-ec12ced8babf\">\n",
              "    <div class=\"colab-df-container\">\n",
              "      <div>\n",
              "<style scoped>\n",
              "    .dataframe tbody tr th:only-of-type {\n",
              "        vertical-align: middle;\n",
              "    }\n",
              "\n",
              "    .dataframe tbody tr th {\n",
              "        vertical-align: top;\n",
              "    }\n",
              "\n",
              "    .dataframe thead th {\n",
              "        text-align: right;\n",
              "    }\n",
              "</style>\n",
              "<table border=\"1\" class=\"dataframe\">\n",
              "  <thead>\n",
              "    <tr style=\"text-align: right;\">\n",
              "      <th></th>\n",
              "      <th>event_name</th>\n",
              "      <th>user_id</th>\n",
              "      <th>ratio</th>\n",
              "      <th>rang</th>\n",
              "    </tr>\n",
              "  </thead>\n",
              "  <tbody>\n",
              "    <tr>\n",
              "      <th>0</th>\n",
              "      <td>login</td>\n",
              "      <td>812</td>\n",
              "      <td>1.000000</td>\n",
              "      <td>1</td>\n",
              "    </tr>\n",
              "    <tr>\n",
              "      <th>2</th>\n",
              "      <td>product_page</td>\n",
              "      <td>461</td>\n",
              "      <td>0.567734</td>\n",
              "      <td>2</td>\n",
              "    </tr>\n",
              "    <tr>\n",
              "      <th>1</th>\n",
              "      <td>product_cart</td>\n",
              "      <td>225</td>\n",
              "      <td>0.277094</td>\n",
              "      <td>3</td>\n",
              "    </tr>\n",
              "    <tr>\n",
              "      <th>3</th>\n",
              "      <td>purchase</td>\n",
              "      <td>228</td>\n",
              "      <td>0.280788</td>\n",
              "      <td>4</td>\n",
              "    </tr>\n",
              "  </tbody>\n",
              "</table>\n",
              "</div>\n",
              "      <button class=\"colab-df-convert\" onclick=\"convertToInteractive('df-716138c7-bfe3-4d8a-a748-ec12ced8babf')\"\n",
              "              title=\"Convert this dataframe to an interactive table.\"\n",
              "              style=\"display:none;\">\n",
              "        \n",
              "  <svg xmlns=\"http://www.w3.org/2000/svg\" height=\"24px\"viewBox=\"0 0 24 24\"\n",
              "       width=\"24px\">\n",
              "    <path d=\"M0 0h24v24H0V0z\" fill=\"none\"/>\n",
              "    <path d=\"M18.56 5.44l.94 2.06.94-2.06 2.06-.94-2.06-.94-.94-2.06-.94 2.06-2.06.94zm-11 1L8.5 8.5l.94-2.06 2.06-.94-2.06-.94L8.5 2.5l-.94 2.06-2.06.94zm10 10l.94 2.06.94-2.06 2.06-.94-2.06-.94-.94-2.06-.94 2.06-2.06.94z\"/><path d=\"M17.41 7.96l-1.37-1.37c-.4-.4-.92-.59-1.43-.59-.52 0-1.04.2-1.43.59L10.3 9.45l-7.72 7.72c-.78.78-.78 2.05 0 2.83L4 21.41c.39.39.9.59 1.41.59.51 0 1.02-.2 1.41-.59l7.78-7.78 2.81-2.81c.8-.78.8-2.07 0-2.86zM5.41 20L4 18.59l7.72-7.72 1.47 1.35L5.41 20z\"/>\n",
              "  </svg>\n",
              "      </button>\n",
              "      \n",
              "  <style>\n",
              "    .colab-df-container {\n",
              "      display:flex;\n",
              "      flex-wrap:wrap;\n",
              "      gap: 12px;\n",
              "    }\n",
              "\n",
              "    .colab-df-convert {\n",
              "      background-color: #E8F0FE;\n",
              "      border: none;\n",
              "      border-radius: 50%;\n",
              "      cursor: pointer;\n",
              "      display: none;\n",
              "      fill: #1967D2;\n",
              "      height: 32px;\n",
              "      padding: 0 0 0 0;\n",
              "      width: 32px;\n",
              "    }\n",
              "\n",
              "    .colab-df-convert:hover {\n",
              "      background-color: #E2EBFA;\n",
              "      box-shadow: 0px 1px 2px rgba(60, 64, 67, 0.3), 0px 1px 3px 1px rgba(60, 64, 67, 0.15);\n",
              "      fill: #174EA6;\n",
              "    }\n",
              "\n",
              "    [theme=dark] .colab-df-convert {\n",
              "      background-color: #3B4455;\n",
              "      fill: #D2E3FC;\n",
              "    }\n",
              "\n",
              "    [theme=dark] .colab-df-convert:hover {\n",
              "      background-color: #434B5C;\n",
              "      box-shadow: 0px 1px 3px 1px rgba(0, 0, 0, 0.15);\n",
              "      filter: drop-shadow(0px 1px 2px rgba(0, 0, 0, 0.3));\n",
              "      fill: #FFFFFF;\n",
              "    }\n",
              "  </style>\n",
              "\n",
              "      <script>\n",
              "        const buttonEl =\n",
              "          document.querySelector('#df-716138c7-bfe3-4d8a-a748-ec12ced8babf button.colab-df-convert');\n",
              "        buttonEl.style.display =\n",
              "          google.colab.kernel.accessAllowed ? 'block' : 'none';\n",
              "\n",
              "        async function convertToInteractive(key) {\n",
              "          const element = document.querySelector('#df-716138c7-bfe3-4d8a-a748-ec12ced8babf');\n",
              "          const dataTable =\n",
              "            await google.colab.kernel.invokeFunction('convertToInteractive',\n",
              "                                                     [key], {});\n",
              "          if (!dataTable) return;\n",
              "\n",
              "          const docLinkHtml = 'Like what you see? Visit the ' +\n",
              "            '<a target=\"_blank\" href=https://colab.research.google.com/notebooks/data_table.ipynb>data table notebook</a>'\n",
              "            + ' to learn more about interactive tables.';\n",
              "          element.innerHTML = '';\n",
              "          dataTable['output_type'] = 'display_data';\n",
              "          await google.colab.output.renderOutput(dataTable, element);\n",
              "          const docLink = document.createElement('div');\n",
              "          docLink.innerHTML = docLinkHtml;\n",
              "          element.appendChild(docLink);\n",
              "        }\n",
              "      </script>\n",
              "    </div>\n",
              "  </div>\n",
              "  "
            ]
          },
          "metadata": {},
          "execution_count": 90
        }
      ],
      "source": [
        "conv_b"
      ]
    },
    {
      "cell_type": "code",
      "execution_count": null,
      "metadata": {
        "id": "3I1uBP0gSLVc",
        "outputId": "4b6f2f12-92a3-4a83-b780-b4dce2bbed47",
        "colab": {
          "base_uri": "https://localhost:8080/"
        }
      },
      "outputs": [
        {
          "output_type": "execute_result",
          "data": {
            "text/plain": [
              "     event_name  user_id     ratio  rang\n",
              "0         login     2422  1.000000     1\n",
              "2  product_page     1571  0.648637     2\n",
              "1  product_cart      728  0.300578     3\n",
              "3      purchase      773  0.319158     4"
            ],
            "text/html": [
              "\n",
              "  <div id=\"df-66ae762d-7eda-4229-80c6-4530beae7de9\">\n",
              "    <div class=\"colab-df-container\">\n",
              "      <div>\n",
              "<style scoped>\n",
              "    .dataframe tbody tr th:only-of-type {\n",
              "        vertical-align: middle;\n",
              "    }\n",
              "\n",
              "    .dataframe tbody tr th {\n",
              "        vertical-align: top;\n",
              "    }\n",
              "\n",
              "    .dataframe thead th {\n",
              "        text-align: right;\n",
              "    }\n",
              "</style>\n",
              "<table border=\"1\" class=\"dataframe\">\n",
              "  <thead>\n",
              "    <tr style=\"text-align: right;\">\n",
              "      <th></th>\n",
              "      <th>event_name</th>\n",
              "      <th>user_id</th>\n",
              "      <th>ratio</th>\n",
              "      <th>rang</th>\n",
              "    </tr>\n",
              "  </thead>\n",
              "  <tbody>\n",
              "    <tr>\n",
              "      <th>0</th>\n",
              "      <td>login</td>\n",
              "      <td>2422</td>\n",
              "      <td>1.000000</td>\n",
              "      <td>1</td>\n",
              "    </tr>\n",
              "    <tr>\n",
              "      <th>2</th>\n",
              "      <td>product_page</td>\n",
              "      <td>1571</td>\n",
              "      <td>0.648637</td>\n",
              "      <td>2</td>\n",
              "    </tr>\n",
              "    <tr>\n",
              "      <th>1</th>\n",
              "      <td>product_cart</td>\n",
              "      <td>728</td>\n",
              "      <td>0.300578</td>\n",
              "      <td>3</td>\n",
              "    </tr>\n",
              "    <tr>\n",
              "      <th>3</th>\n",
              "      <td>purchase</td>\n",
              "      <td>773</td>\n",
              "      <td>0.319158</td>\n",
              "      <td>4</td>\n",
              "    </tr>\n",
              "  </tbody>\n",
              "</table>\n",
              "</div>\n",
              "      <button class=\"colab-df-convert\" onclick=\"convertToInteractive('df-66ae762d-7eda-4229-80c6-4530beae7de9')\"\n",
              "              title=\"Convert this dataframe to an interactive table.\"\n",
              "              style=\"display:none;\">\n",
              "        \n",
              "  <svg xmlns=\"http://www.w3.org/2000/svg\" height=\"24px\"viewBox=\"0 0 24 24\"\n",
              "       width=\"24px\">\n",
              "    <path d=\"M0 0h24v24H0V0z\" fill=\"none\"/>\n",
              "    <path d=\"M18.56 5.44l.94 2.06.94-2.06 2.06-.94-2.06-.94-.94-2.06-.94 2.06-2.06.94zm-11 1L8.5 8.5l.94-2.06 2.06-.94-2.06-.94L8.5 2.5l-.94 2.06-2.06.94zm10 10l.94 2.06.94-2.06 2.06-.94-2.06-.94-.94-2.06-.94 2.06-2.06.94z\"/><path d=\"M17.41 7.96l-1.37-1.37c-.4-.4-.92-.59-1.43-.59-.52 0-1.04.2-1.43.59L10.3 9.45l-7.72 7.72c-.78.78-.78 2.05 0 2.83L4 21.41c.39.39.9.59 1.41.59.51 0 1.02-.2 1.41-.59l7.78-7.78 2.81-2.81c.8-.78.8-2.07 0-2.86zM5.41 20L4 18.59l7.72-7.72 1.47 1.35L5.41 20z\"/>\n",
              "  </svg>\n",
              "      </button>\n",
              "      \n",
              "  <style>\n",
              "    .colab-df-container {\n",
              "      display:flex;\n",
              "      flex-wrap:wrap;\n",
              "      gap: 12px;\n",
              "    }\n",
              "\n",
              "    .colab-df-convert {\n",
              "      background-color: #E8F0FE;\n",
              "      border: none;\n",
              "      border-radius: 50%;\n",
              "      cursor: pointer;\n",
              "      display: none;\n",
              "      fill: #1967D2;\n",
              "      height: 32px;\n",
              "      padding: 0 0 0 0;\n",
              "      width: 32px;\n",
              "    }\n",
              "\n",
              "    .colab-df-convert:hover {\n",
              "      background-color: #E2EBFA;\n",
              "      box-shadow: 0px 1px 2px rgba(60, 64, 67, 0.3), 0px 1px 3px 1px rgba(60, 64, 67, 0.15);\n",
              "      fill: #174EA6;\n",
              "    }\n",
              "\n",
              "    [theme=dark] .colab-df-convert {\n",
              "      background-color: #3B4455;\n",
              "      fill: #D2E3FC;\n",
              "    }\n",
              "\n",
              "    [theme=dark] .colab-df-convert:hover {\n",
              "      background-color: #434B5C;\n",
              "      box-shadow: 0px 1px 3px 1px rgba(0, 0, 0, 0.15);\n",
              "      filter: drop-shadow(0px 1px 2px rgba(0, 0, 0, 0.3));\n",
              "      fill: #FFFFFF;\n",
              "    }\n",
              "  </style>\n",
              "\n",
              "      <script>\n",
              "        const buttonEl =\n",
              "          document.querySelector('#df-66ae762d-7eda-4229-80c6-4530beae7de9 button.colab-df-convert');\n",
              "        buttonEl.style.display =\n",
              "          google.colab.kernel.accessAllowed ? 'block' : 'none';\n",
              "\n",
              "        async function convertToInteractive(key) {\n",
              "          const element = document.querySelector('#df-66ae762d-7eda-4229-80c6-4530beae7de9');\n",
              "          const dataTable =\n",
              "            await google.colab.kernel.invokeFunction('convertToInteractive',\n",
              "                                                     [key], {});\n",
              "          if (!dataTable) return;\n",
              "\n",
              "          const docLinkHtml = 'Like what you see? Visit the ' +\n",
              "            '<a target=\"_blank\" href=https://colab.research.google.com/notebooks/data_table.ipynb>data table notebook</a>'\n",
              "            + ' to learn more about interactive tables.';\n",
              "          element.innerHTML = '';\n",
              "          dataTable['output_type'] = 'display_data';\n",
              "          await google.colab.output.renderOutput(dataTable, element);\n",
              "          const docLink = document.createElement('div');\n",
              "          docLink.innerHTML = docLinkHtml;\n",
              "          element.appendChild(docLink);\n",
              "        }\n",
              "      </script>\n",
              "    </div>\n",
              "  </div>\n",
              "  "
            ]
          },
          "metadata": {},
          "execution_count": 91
        }
      ],
      "source": [
        "conv_a"
      ]
    },
    {
      "cell_type": "code",
      "execution_count": null,
      "metadata": {
        "id": "zEHYjYnxSLVd",
        "outputId": "ff05aae1-4342-40b0-8a56-67c6142a135d",
        "colab": {
          "base_uri": "https://localhost:8080/"
        }
      },
      "outputs": [
        {
          "output_type": "stream",
          "name": "stdout",
          "text": [
            "728 225 2422 812\n",
            "p-значение:  0.20397790908072166\n",
            "Не получилось отвергнуть нулевую гипотезу, нет оснований считать доли разными в событии  product_cart\n",
            "1571 461 2422 812\n",
            "p-значение:  3.651974405083358e-05\n",
            "Отвергаем нулевую гипотезу: между долями есть значимая разница в событии  product_page\n",
            "773 228 2422 812\n",
            "p-значение:  0.04068470890052289\n",
            "Отвергаем нулевую гипотезу: между долями есть значимая разница в событии  purchase\n"
          ]
        }
      ],
      "source": [
        "# сводные таблицы conv_a, conv_b\n",
        "for i in [1, 2, 3]:\n",
        "    compare_shares(conv_a, conv_b, i, alpha = .05)"
      ]
    },
    {
      "cell_type": "markdown",
      "metadata": {
        "id": "dGkNEtXYSLVe"
      },
      "source": [
        "### Выводы и наблюдения\n",
        "\n",
        "z-тест на пропорции (конверсии) увидел разницу между контрольной и экспериментальной группой в конверсиях события  `product_page` и `purchase`, но не увидел разницы в конверсии событий `product_cart`.\n",
        "\n",
        "Доверие к результатам этого z-теста должно быть минимально - слишком недостоверные и ограниченные данные остались после отбрасывания всех неверных событий и пользователей. А группы сильно неравномерны - оличаются по количеству пользователей."
      ]
    },
    {
      "cell_type": "markdown",
      "metadata": {
        "id": "UavGizXASLVe"
      },
      "source": [
        "## Общий вывод по учебной работе\n",
        "\n",
        "В учебной работе оценивалась корректность проведения А/В теста и анализировались результаты этого теста.\n",
        "\n",
        "Проводилась работа по предъобработке и исследовательскому анализу данных, а также очистке данных и приведения их к требованиям технического задания.\n",
        "\n",
        "Подготовка предоставленных  данных для тестирования была ранее проведена недостаточно хорошо. Были выявлены две группы ошибок.\n",
        "1. **Ошибки фатальные** (их невозможно исправить не собрав данные заново)\n",
        "        \n",
        "        - время сбора информации не соответствует ТЗ. Сбор информации по событиям прекращен раньше даты, указанной в ТЗ;\n",
        "        - количество и пропорции участников теста меньше указанного в ТЗ;\n",
        "        - проведение маркетингового мероприятия во время сбора информации для теста.\n",
        "        \n",
        "2. **Ошибки, которые можно исправить** за счет отбрасывания недостоверных данных (это возможно увеличивает достоверность информации, но уменьшает количество данных)\n",
        "\n",
        "        - в выборку попали посетители, участвующие в других тестах - влияние других показов может внести изменения в их поведение.\n",
        "        - контрольная и эксперементальная группа имели пересечение пользователей;\n",
        "        - контрольная и эксперементальная группа имеют большую разницу в количестве участников;\n",
        "        - формулировка критериев (критерии сформулированы таким образом, что в 2х из 3х метрик количество выборки влияет на результат);\n",
        "        - переформулировка метрик \"на ходу\" может субъективно повлиять на принятие решений."
      ]
    },
    {
      "cell_type": "markdown",
      "metadata": {
        "id": "5WQxbdnLSLVf"
      },
      "source": [
        "На основании вышеизложенного\n",
        "- данные предложенные для теста малоинформативны;\n",
        "- результатам теста доверять нельзя."
      ]
    },
    {
      "cell_type": "code",
      "execution_count": null,
      "metadata": {
        "id": "gUJaoQvcSLVg",
        "outputId": "039026ff-843e-4e66-9aae-f6dfad580a31",
        "colab": {
          "base_uri": "https://localhost:8080/"
        }
      },
      "outputs": [
        {
          "output_type": "execute_result",
          "data": {
            "text/plain": [
              "4"
            ]
          },
          "metadata": {},
          "execution_count": 93
        }
      ],
      "source": [
        "2+2"
      ]
    }
  ],
  "metadata": {
    "ExecuteTimeLog": [
      {
        "duration": 64,
        "start_time": "2023-03-31T05:53:59.400Z"
      },
      {
        "duration": 1534,
        "start_time": "2023-03-31T05:54:14.069Z"
      },
      {
        "duration": 1440,
        "start_time": "2023-03-31T05:54:15.605Z"
      },
      {
        "duration": 16,
        "start_time": "2023-03-31T05:54:53.384Z"
      },
      {
        "duration": 8,
        "start_time": "2023-03-31T05:55:43.835Z"
      },
      {
        "duration": 10,
        "start_time": "2023-03-31T05:56:12.497Z"
      },
      {
        "duration": 7,
        "start_time": "2023-03-31T05:56:49.899Z"
      },
      {
        "duration": 528,
        "start_time": "2023-03-31T06:10:23.602Z"
      },
      {
        "duration": 615,
        "start_time": "2023-03-31T06:17:00.166Z"
      },
      {
        "duration": 542,
        "start_time": "2023-03-31T06:17:21.769Z"
      },
      {
        "duration": 111,
        "start_time": "2023-03-31T06:19:58.175Z"
      },
      {
        "duration": 9,
        "start_time": "2023-03-31T06:20:15.907Z"
      },
      {
        "duration": 515,
        "start_time": "2023-03-31T06:22:29.562Z"
      },
      {
        "duration": 576,
        "start_time": "2023-03-31T06:23:54.969Z"
      },
      {
        "duration": 520,
        "start_time": "2023-03-31T06:24:17.629Z"
      },
      {
        "duration": 490,
        "start_time": "2023-03-31T06:27:42.027Z"
      },
      {
        "duration": 6,
        "start_time": "2023-03-31T06:45:40.395Z"
      },
      {
        "duration": 29,
        "start_time": "2023-03-31T06:45:43.375Z"
      },
      {
        "duration": 111,
        "start_time": "2023-03-31T06:45:48.813Z"
      },
      {
        "duration": 375,
        "start_time": "2023-03-31T06:46:10.498Z"
      },
      {
        "duration": 391,
        "start_time": "2023-03-31T06:49:34.084Z"
      },
      {
        "duration": 411,
        "start_time": "2023-03-31T06:50:06.600Z"
      },
      {
        "duration": 44,
        "start_time": "2023-03-31T06:50:53.094Z"
      },
      {
        "duration": 559,
        "start_time": "2023-03-31T06:51:05.014Z"
      },
      {
        "duration": 24,
        "start_time": "2023-03-31T06:59:08.035Z"
      },
      {
        "duration": 444,
        "start_time": "2023-03-31T07:00:07.501Z"
      },
      {
        "duration": 9,
        "start_time": "2023-03-31T07:04:58.678Z"
      },
      {
        "duration": 23,
        "start_time": "2023-03-31T07:07:19.858Z"
      },
      {
        "duration": 11,
        "start_time": "2023-03-31T07:10:55.881Z"
      },
      {
        "duration": 20,
        "start_time": "2023-03-31T07:13:28.067Z"
      },
      {
        "duration": 83,
        "start_time": "2023-03-31T07:14:29.417Z"
      },
      {
        "duration": 50,
        "start_time": "2023-03-31T11:40:30.349Z"
      },
      {
        "duration": 1414,
        "start_time": "2023-03-31T11:40:43.632Z"
      },
      {
        "duration": 1398,
        "start_time": "2023-03-31T11:40:45.048Z"
      },
      {
        "duration": 14,
        "start_time": "2023-03-31T11:40:46.447Z"
      },
      {
        "duration": 20,
        "start_time": "2023-03-31T11:40:46.463Z"
      },
      {
        "duration": 25,
        "start_time": "2023-03-31T11:40:46.484Z"
      },
      {
        "duration": 27,
        "start_time": "2023-03-31T11:40:46.511Z"
      },
      {
        "duration": 605,
        "start_time": "2023-03-31T11:40:46.541Z"
      },
      {
        "duration": 5,
        "start_time": "2023-03-31T11:40:47.148Z"
      },
      {
        "duration": 39,
        "start_time": "2023-03-31T11:40:47.154Z"
      },
      {
        "duration": 94,
        "start_time": "2023-03-31T11:40:47.196Z"
      },
      {
        "duration": 438,
        "start_time": "2023-03-31T11:40:47.292Z"
      },
      {
        "duration": 9,
        "start_time": "2023-03-31T11:40:47.732Z"
      },
      {
        "duration": 46,
        "start_time": "2023-03-31T11:40:47.743Z"
      },
      {
        "duration": 35,
        "start_time": "2023-03-31T11:40:47.791Z"
      },
      {
        "duration": 65,
        "start_time": "2023-03-31T11:40:47.828Z"
      },
      {
        "duration": 117,
        "start_time": "2023-03-31T11:40:47.895Z"
      },
      {
        "duration": 3,
        "start_time": "2023-03-31T11:41:03.904Z"
      },
      {
        "duration": 1150,
        "start_time": "2023-03-31T11:41:03.909Z"
      },
      {
        "duration": 11,
        "start_time": "2023-03-31T11:41:05.061Z"
      },
      {
        "duration": 36,
        "start_time": "2023-03-31T11:41:05.074Z"
      },
      {
        "duration": 74,
        "start_time": "2023-03-31T11:41:05.112Z"
      },
      {
        "duration": 47,
        "start_time": "2023-03-31T11:41:05.188Z"
      },
      {
        "duration": 582,
        "start_time": "2023-03-31T11:41:05.236Z"
      },
      {
        "duration": 5,
        "start_time": "2023-03-31T11:41:05.819Z"
      },
      {
        "duration": 33,
        "start_time": "2023-03-31T11:41:05.826Z"
      },
      {
        "duration": 87,
        "start_time": "2023-03-31T11:41:05.861Z"
      },
      {
        "duration": 433,
        "start_time": "2023-03-31T11:41:05.950Z"
      },
      {
        "duration": 9,
        "start_time": "2023-03-31T11:41:06.385Z"
      },
      {
        "duration": 26,
        "start_time": "2023-03-31T11:41:06.396Z"
      },
      {
        "duration": 37,
        "start_time": "2023-03-31T11:41:06.424Z"
      },
      {
        "duration": 42,
        "start_time": "2023-03-31T11:41:06.463Z"
      },
      {
        "duration": 39,
        "start_time": "2023-03-31T11:41:06.507Z"
      },
      {
        "duration": 9,
        "start_time": "2023-03-31T11:41:27.003Z"
      },
      {
        "duration": 9,
        "start_time": "2023-03-31T11:41:35.154Z"
      },
      {
        "duration": 8,
        "start_time": "2023-03-31T11:41:56.450Z"
      },
      {
        "duration": 10,
        "start_time": "2023-03-31T11:42:30.730Z"
      },
      {
        "duration": 12,
        "start_time": "2023-03-31T11:46:00.717Z"
      },
      {
        "duration": 9,
        "start_time": "2023-03-31T11:47:36.874Z"
      },
      {
        "duration": 13,
        "start_time": "2023-03-31T11:47:43.601Z"
      },
      {
        "duration": 91,
        "start_time": "2023-03-31T11:56:26.254Z"
      },
      {
        "duration": 72,
        "start_time": "2023-03-31T11:56:46.285Z"
      },
      {
        "duration": 135,
        "start_time": "2023-03-31T11:56:53.205Z"
      },
      {
        "duration": 18,
        "start_time": "2023-03-31T11:57:42.892Z"
      },
      {
        "duration": 6,
        "start_time": "2023-03-31T11:59:32.399Z"
      },
      {
        "duration": 6,
        "start_time": "2023-03-31T12:03:03.044Z"
      },
      {
        "duration": 11,
        "start_time": "2023-03-31T12:09:14.605Z"
      },
      {
        "duration": 77,
        "start_time": "2023-03-31T12:11:22.066Z"
      },
      {
        "duration": 11,
        "start_time": "2023-03-31T12:11:32.743Z"
      },
      {
        "duration": 3,
        "start_time": "2023-03-31T12:22:22.491Z"
      },
      {
        "duration": 5,
        "start_time": "2023-03-31T12:22:32.458Z"
      },
      {
        "duration": 177,
        "start_time": "2023-03-31T12:40:01.510Z"
      },
      {
        "duration": 10,
        "start_time": "2023-03-31T12:41:05.987Z"
      },
      {
        "duration": 18,
        "start_time": "2023-03-31T12:48:14.039Z"
      },
      {
        "duration": 18,
        "start_time": "2023-03-31T12:49:58.637Z"
      },
      {
        "duration": 12,
        "start_time": "2023-03-31T12:50:23.571Z"
      },
      {
        "duration": 1671,
        "start_time": "2023-03-31T12:57:17.607Z"
      },
      {
        "duration": 291,
        "start_time": "2023-03-31T12:57:30.486Z"
      },
      {
        "duration": 174,
        "start_time": "2023-03-31T12:57:38.054Z"
      },
      {
        "duration": 208,
        "start_time": "2023-03-31T12:57:46.054Z"
      },
      {
        "duration": 207,
        "start_time": "2023-03-31T12:58:27.741Z"
      },
      {
        "duration": 194,
        "start_time": "2023-03-31T12:58:38.389Z"
      },
      {
        "duration": 201,
        "start_time": "2023-03-31T12:58:47.045Z"
      },
      {
        "duration": 185,
        "start_time": "2023-03-31T13:00:33.633Z"
      },
      {
        "duration": 3,
        "start_time": "2023-03-31T13:00:41.920Z"
      },
      {
        "duration": 4,
        "start_time": "2023-03-31T13:00:55.176Z"
      },
      {
        "duration": 4,
        "start_time": "2023-03-31T13:01:32.222Z"
      },
      {
        "duration": 7,
        "start_time": "2023-03-31T13:01:48.990Z"
      },
      {
        "duration": 9,
        "start_time": "2023-03-31T13:03:47.146Z"
      },
      {
        "duration": 20,
        "start_time": "2023-03-31T14:01:50.758Z"
      },
      {
        "duration": 11,
        "start_time": "2023-03-31T14:05:02.391Z"
      },
      {
        "duration": 178,
        "start_time": "2023-03-31T14:05:49.998Z"
      },
      {
        "duration": 188,
        "start_time": "2023-03-31T14:09:46.607Z"
      },
      {
        "duration": 57,
        "start_time": "2023-03-31T14:23:33.150Z"
      },
      {
        "duration": 17,
        "start_time": "2023-03-31T14:23:37.925Z"
      },
      {
        "duration": 26,
        "start_time": "2023-03-31T14:25:10.524Z"
      },
      {
        "duration": 13,
        "start_time": "2023-03-31T14:26:12.993Z"
      },
      {
        "duration": 15,
        "start_time": "2023-03-31T14:35:50.496Z"
      },
      {
        "duration": 6,
        "start_time": "2023-03-31T14:37:38.379Z"
      },
      {
        "duration": 18,
        "start_time": "2023-03-31T14:38:38.617Z"
      },
      {
        "duration": 5,
        "start_time": "2023-03-31T14:39:25.920Z"
      },
      {
        "duration": 30,
        "start_time": "2023-03-31T14:42:03.875Z"
      },
      {
        "duration": 17,
        "start_time": "2023-03-31T14:51:48.589Z"
      },
      {
        "duration": 10,
        "start_time": "2023-03-31T14:52:11.001Z"
      },
      {
        "duration": 282,
        "start_time": "2023-03-31T14:52:39.681Z"
      },
      {
        "duration": 6,
        "start_time": "2023-03-31T14:54:01.365Z"
      },
      {
        "duration": 331,
        "start_time": "2023-03-31T14:55:10.552Z"
      },
      {
        "duration": 1512,
        "start_time": "2023-03-31T17:22:46.763Z"
      },
      {
        "duration": 1068,
        "start_time": "2023-03-31T17:22:48.277Z"
      },
      {
        "duration": 14,
        "start_time": "2023-03-31T17:22:49.347Z"
      },
      {
        "duration": 20,
        "start_time": "2023-03-31T17:22:49.363Z"
      },
      {
        "duration": 20,
        "start_time": "2023-03-31T17:22:49.386Z"
      },
      {
        "duration": 12,
        "start_time": "2023-03-31T17:22:49.408Z"
      },
      {
        "duration": 631,
        "start_time": "2023-03-31T17:22:49.421Z"
      },
      {
        "duration": 5,
        "start_time": "2023-03-31T17:22:50.054Z"
      },
      {
        "duration": 34,
        "start_time": "2023-03-31T17:22:50.062Z"
      },
      {
        "duration": 113,
        "start_time": "2023-03-31T17:22:50.098Z"
      },
      {
        "duration": 496,
        "start_time": "2023-03-31T17:22:50.213Z"
      },
      {
        "duration": 34,
        "start_time": "2023-03-31T17:22:50.711Z"
      },
      {
        "duration": 26,
        "start_time": "2023-03-31T17:22:50.747Z"
      },
      {
        "duration": 42,
        "start_time": "2023-03-31T17:22:50.777Z"
      },
      {
        "duration": 18,
        "start_time": "2023-03-31T17:22:50.821Z"
      },
      {
        "duration": 77,
        "start_time": "2023-03-31T17:22:50.841Z"
      },
      {
        "duration": 31,
        "start_time": "2023-03-31T17:22:50.919Z"
      },
      {
        "duration": 26,
        "start_time": "2023-03-31T17:22:50.952Z"
      },
      {
        "duration": 114,
        "start_time": "2023-03-31T17:22:50.980Z"
      },
      {
        "duration": 70,
        "start_time": "2023-03-31T17:22:51.096Z"
      },
      {
        "duration": 58,
        "start_time": "2023-03-31T17:22:51.167Z"
      },
      {
        "duration": 68,
        "start_time": "2023-03-31T17:22:51.227Z"
      },
      {
        "duration": 60,
        "start_time": "2023-03-31T17:22:51.297Z"
      },
      {
        "duration": 120,
        "start_time": "2023-03-31T17:22:51.359Z"
      },
      {
        "duration": 317,
        "start_time": "2023-03-31T17:22:51.480Z"
      },
      {
        "duration": 79,
        "start_time": "2023-03-31T17:22:51.799Z"
      },
      {
        "duration": 0,
        "start_time": "2023-03-31T17:22:51.880Z"
      },
      {
        "duration": 0,
        "start_time": "2023-03-31T17:22:51.881Z"
      },
      {
        "duration": 0,
        "start_time": "2023-03-31T17:22:51.882Z"
      },
      {
        "duration": 0,
        "start_time": "2023-03-31T17:22:51.883Z"
      },
      {
        "duration": 0,
        "start_time": "2023-03-31T17:22:51.884Z"
      },
      {
        "duration": 1,
        "start_time": "2023-03-31T17:22:51.885Z"
      },
      {
        "duration": 3,
        "start_time": "2023-03-31T17:23:26.192Z"
      },
      {
        "duration": 67,
        "start_time": "2023-03-31T17:23:28.574Z"
      },
      {
        "duration": 15,
        "start_time": "2023-03-31T17:23:30.894Z"
      },
      {
        "duration": 206,
        "start_time": "2023-03-31T17:23:46.270Z"
      },
      {
        "duration": 251,
        "start_time": "2023-03-31T17:24:08.337Z"
      },
      {
        "duration": 11,
        "start_time": "2023-03-31T17:27:36.510Z"
      },
      {
        "duration": 7,
        "start_time": "2023-03-31T17:27:38.072Z"
      },
      {
        "duration": 992,
        "start_time": "2023-03-31T17:29:17.234Z"
      },
      {
        "duration": 226,
        "start_time": "2023-03-31T17:29:41.160Z"
      },
      {
        "duration": 13,
        "start_time": "2023-03-31T17:33:50.734Z"
      },
      {
        "duration": 12,
        "start_time": "2023-03-31T17:34:04.634Z"
      },
      {
        "duration": 106,
        "start_time": "2023-03-31T17:35:03.922Z"
      },
      {
        "duration": 10,
        "start_time": "2023-03-31T17:35:12.893Z"
      },
      {
        "duration": 10,
        "start_time": "2023-03-31T17:36:39.379Z"
      },
      {
        "duration": 226,
        "start_time": "2023-03-31T17:37:31.647Z"
      },
      {
        "duration": 10,
        "start_time": "2023-03-31T17:37:42.098Z"
      },
      {
        "duration": 179,
        "start_time": "2023-03-31T17:37:43.162Z"
      },
      {
        "duration": 11,
        "start_time": "2023-03-31T17:38:17.178Z"
      },
      {
        "duration": 225,
        "start_time": "2023-03-31T17:39:55.110Z"
      },
      {
        "duration": 9,
        "start_time": "2023-03-31T17:41:08.787Z"
      },
      {
        "duration": 16,
        "start_time": "2023-03-31T17:42:10.886Z"
      },
      {
        "duration": 13,
        "start_time": "2023-03-31T17:42:24.894Z"
      },
      {
        "duration": 235,
        "start_time": "2023-03-31T17:42:29.820Z"
      },
      {
        "duration": 15,
        "start_time": "2023-03-31T17:43:47.664Z"
      },
      {
        "duration": 271,
        "start_time": "2023-03-31T17:44:29.310Z"
      },
      {
        "duration": 443,
        "start_time": "2023-03-31T17:44:47.290Z"
      },
      {
        "duration": 20,
        "start_time": "2023-03-31T17:45:17.013Z"
      },
      {
        "duration": 17,
        "start_time": "2023-03-31T17:45:36.937Z"
      },
      {
        "duration": 21,
        "start_time": "2023-03-31T17:48:14.115Z"
      },
      {
        "duration": 56741,
        "start_time": "2023-03-31T17:48:22.272Z"
      },
      {
        "duration": 1441,
        "start_time": "2023-04-01T05:04:53.924Z"
      },
      {
        "duration": 1497,
        "start_time": "2023-04-01T05:04:55.368Z"
      },
      {
        "duration": 12,
        "start_time": "2023-04-01T05:04:56.868Z"
      },
      {
        "duration": 8,
        "start_time": "2023-04-01T05:04:56.882Z"
      },
      {
        "duration": 14,
        "start_time": "2023-04-01T05:04:56.892Z"
      },
      {
        "duration": 12,
        "start_time": "2023-04-01T05:04:56.908Z"
      },
      {
        "duration": 563,
        "start_time": "2023-04-01T05:04:56.922Z"
      },
      {
        "duration": 5,
        "start_time": "2023-04-01T05:04:57.486Z"
      },
      {
        "duration": 40,
        "start_time": "2023-04-01T05:04:57.493Z"
      },
      {
        "duration": 91,
        "start_time": "2023-04-01T05:04:57.536Z"
      },
      {
        "duration": 441,
        "start_time": "2023-04-01T05:04:57.629Z"
      },
      {
        "duration": 8,
        "start_time": "2023-04-01T05:04:58.072Z"
      },
      {
        "duration": 42,
        "start_time": "2023-04-01T05:04:58.082Z"
      },
      {
        "duration": 13,
        "start_time": "2023-04-01T05:04:58.126Z"
      },
      {
        "duration": 18,
        "start_time": "2023-04-01T05:04:58.141Z"
      },
      {
        "duration": 16,
        "start_time": "2023-04-01T05:04:58.160Z"
      },
      {
        "duration": 5,
        "start_time": "2023-04-01T05:04:58.178Z"
      },
      {
        "duration": 4,
        "start_time": "2023-04-01T05:04:58.185Z"
      },
      {
        "duration": 41,
        "start_time": "2023-04-01T05:04:58.191Z"
      },
      {
        "duration": 5,
        "start_time": "2023-04-01T05:04:58.233Z"
      },
      {
        "duration": 23,
        "start_time": "2023-04-01T05:04:58.239Z"
      },
      {
        "duration": 13,
        "start_time": "2023-04-01T05:04:58.263Z"
      },
      {
        "duration": 4,
        "start_time": "2023-04-01T05:04:58.277Z"
      },
      {
        "duration": 11,
        "start_time": "2023-04-01T05:04:58.282Z"
      },
      {
        "duration": 283,
        "start_time": "2023-04-01T05:04:58.324Z"
      },
      {
        "duration": 3,
        "start_time": "2023-04-01T05:04:58.609Z"
      },
      {
        "duration": 62,
        "start_time": "2023-04-01T05:04:58.623Z"
      },
      {
        "duration": 43,
        "start_time": "2023-04-01T05:04:58.689Z"
      },
      {
        "duration": 255,
        "start_time": "2023-04-01T05:04:58.734Z"
      },
      {
        "duration": 49,
        "start_time": "2023-04-01T05:04:58.991Z"
      },
      {
        "duration": 0,
        "start_time": "2023-04-01T05:04:59.043Z"
      },
      {
        "duration": 0,
        "start_time": "2023-04-01T05:04:59.044Z"
      },
      {
        "duration": 1,
        "start_time": "2023-04-01T05:04:59.046Z"
      },
      {
        "duration": 0,
        "start_time": "2023-04-01T05:04:59.048Z"
      },
      {
        "duration": 2,
        "start_time": "2023-04-01T05:05:17.909Z"
      },
      {
        "duration": 10,
        "start_time": "2023-04-01T05:05:20.009Z"
      },
      {
        "duration": 7,
        "start_time": "2023-04-01T05:05:21.771Z"
      },
      {
        "duration": 20,
        "start_time": "2023-04-01T05:08:41.195Z"
      },
      {
        "duration": 6,
        "start_time": "2023-04-01T05:10:09.118Z"
      },
      {
        "duration": 120,
        "start_time": "2023-04-01T05:10:22.380Z"
      },
      {
        "duration": 133,
        "start_time": "2023-04-01T05:11:46.223Z"
      },
      {
        "duration": 136,
        "start_time": "2023-04-01T05:13:12.639Z"
      },
      {
        "duration": 14,
        "start_time": "2023-04-01T06:02:16.509Z"
      },
      {
        "duration": 11,
        "start_time": "2023-04-01T06:03:14.415Z"
      },
      {
        "duration": 9,
        "start_time": "2023-04-01T06:07:57.370Z"
      },
      {
        "duration": 57,
        "start_time": "2023-04-01T06:11:38.204Z"
      },
      {
        "duration": 116,
        "start_time": "2023-04-01T06:11:48.988Z"
      },
      {
        "duration": 42,
        "start_time": "2023-04-01T06:14:00.727Z"
      },
      {
        "duration": 23,
        "start_time": "2023-04-01T06:14:32.683Z"
      },
      {
        "duration": 18,
        "start_time": "2023-04-01T06:14:57.008Z"
      },
      {
        "duration": 9,
        "start_time": "2023-04-01T06:15:23.777Z"
      },
      {
        "duration": 18,
        "start_time": "2023-04-01T06:15:25.111Z"
      },
      {
        "duration": 8,
        "start_time": "2023-04-01T06:21:14.105Z"
      },
      {
        "duration": 9,
        "start_time": "2023-04-01T06:21:32.656Z"
      },
      {
        "duration": 8,
        "start_time": "2023-04-01T06:21:39.095Z"
      },
      {
        "duration": 14,
        "start_time": "2023-04-01T06:21:39.637Z"
      },
      {
        "duration": 8,
        "start_time": "2023-04-01T06:21:40.461Z"
      },
      {
        "duration": 4,
        "start_time": "2023-04-01T06:22:00.377Z"
      },
      {
        "duration": 3,
        "start_time": "2023-04-01T06:22:31.119Z"
      },
      {
        "duration": 11,
        "start_time": "2023-04-01T06:26:31.707Z"
      },
      {
        "duration": 34,
        "start_time": "2023-04-01T06:32:05.558Z"
      },
      {
        "duration": 38,
        "start_time": "2023-04-01T06:34:13.151Z"
      },
      {
        "duration": 282,
        "start_time": "2023-04-01T06:34:44.312Z"
      },
      {
        "duration": 50,
        "start_time": "2023-04-01T06:34:55.217Z"
      },
      {
        "duration": 37,
        "start_time": "2023-04-01T06:35:40.848Z"
      },
      {
        "duration": 20,
        "start_time": "2023-04-01T06:36:43.927Z"
      },
      {
        "duration": 9,
        "start_time": "2023-04-01T06:36:56.352Z"
      },
      {
        "duration": 4,
        "start_time": "2023-04-01T06:37:17.724Z"
      },
      {
        "duration": 1582,
        "start_time": "2023-04-01T06:37:17.749Z"
      },
      {
        "duration": 11,
        "start_time": "2023-04-01T06:37:19.333Z"
      },
      {
        "duration": 13,
        "start_time": "2023-04-01T06:37:19.346Z"
      },
      {
        "duration": 14,
        "start_time": "2023-04-01T06:37:19.360Z"
      },
      {
        "duration": 27,
        "start_time": "2023-04-01T06:37:19.377Z"
      },
      {
        "duration": 649,
        "start_time": "2023-04-01T06:37:19.405Z"
      },
      {
        "duration": 5,
        "start_time": "2023-04-01T06:37:20.056Z"
      },
      {
        "duration": 25,
        "start_time": "2023-04-01T06:37:20.063Z"
      },
      {
        "duration": 110,
        "start_time": "2023-04-01T06:37:20.090Z"
      },
      {
        "duration": 576,
        "start_time": "2023-04-01T06:37:20.202Z"
      },
      {
        "duration": 12,
        "start_time": "2023-04-01T06:37:20.780Z"
      },
      {
        "duration": 22,
        "start_time": "2023-04-01T06:37:20.826Z"
      },
      {
        "duration": 26,
        "start_time": "2023-04-01T06:37:20.851Z"
      },
      {
        "duration": 40,
        "start_time": "2023-04-01T06:37:20.880Z"
      },
      {
        "duration": 38,
        "start_time": "2023-04-01T06:37:20.921Z"
      },
      {
        "duration": 14,
        "start_time": "2023-04-01T06:37:20.960Z"
      },
      {
        "duration": 13,
        "start_time": "2023-04-01T06:37:20.976Z"
      },
      {
        "duration": 36,
        "start_time": "2023-04-01T06:37:20.991Z"
      },
      {
        "duration": 17,
        "start_time": "2023-04-01T06:37:21.028Z"
      },
      {
        "duration": 40,
        "start_time": "2023-04-01T06:37:21.047Z"
      },
      {
        "duration": 27,
        "start_time": "2023-04-01T06:37:21.089Z"
      },
      {
        "duration": 15,
        "start_time": "2023-04-01T06:37:21.118Z"
      },
      {
        "duration": 33,
        "start_time": "2023-04-01T06:37:21.137Z"
      },
      {
        "duration": 236,
        "start_time": "2023-04-01T06:37:21.172Z"
      },
      {
        "duration": 2,
        "start_time": "2023-04-01T06:37:21.410Z"
      },
      {
        "duration": 82,
        "start_time": "2023-04-01T06:37:21.414Z"
      },
      {
        "duration": 15,
        "start_time": "2023-04-01T06:37:21.498Z"
      },
      {
        "duration": 296,
        "start_time": "2023-04-01T06:37:21.514Z"
      },
      {
        "duration": 14,
        "start_time": "2023-04-01T06:37:21.812Z"
      },
      {
        "duration": 17,
        "start_time": "2023-04-01T06:37:21.829Z"
      },
      {
        "duration": 39,
        "start_time": "2023-04-01T06:37:21.849Z"
      },
      {
        "duration": 3,
        "start_time": "2023-04-01T06:37:21.890Z"
      },
      {
        "duration": 154,
        "start_time": "2023-04-01T06:37:21.894Z"
      },
      {
        "duration": 12,
        "start_time": "2023-04-01T06:37:22.050Z"
      },
      {
        "duration": 44,
        "start_time": "2023-04-01T06:37:22.064Z"
      },
      {
        "duration": 36,
        "start_time": "2023-04-01T06:37:22.110Z"
      },
      {
        "duration": 0,
        "start_time": "2023-04-01T06:37:22.148Z"
      },
      {
        "duration": 0,
        "start_time": "2023-04-01T06:37:22.151Z"
      },
      {
        "duration": 0,
        "start_time": "2023-04-01T06:37:22.152Z"
      },
      {
        "duration": 0,
        "start_time": "2023-04-01T06:37:22.154Z"
      },
      {
        "duration": 0,
        "start_time": "2023-04-01T06:37:22.155Z"
      },
      {
        "duration": 0,
        "start_time": "2023-04-01T06:37:22.157Z"
      },
      {
        "duration": 21,
        "start_time": "2023-04-01T06:41:08.961Z"
      },
      {
        "duration": 5,
        "start_time": "2023-04-01T06:41:21.699Z"
      },
      {
        "duration": 8,
        "start_time": "2023-04-01T06:41:54.343Z"
      },
      {
        "duration": 60,
        "start_time": "2023-04-01T06:43:34.465Z"
      },
      {
        "duration": 332,
        "start_time": "2023-04-01T06:45:49.263Z"
      },
      {
        "duration": 3,
        "start_time": "2023-04-01T06:45:59.972Z"
      },
      {
        "duration": 6,
        "start_time": "2023-04-01T06:46:09.752Z"
      },
      {
        "duration": 9,
        "start_time": "2023-04-01T06:52:40.240Z"
      },
      {
        "duration": 56,
        "start_time": "2023-04-01T06:54:51.695Z"
      },
      {
        "duration": 288,
        "start_time": "2023-04-01T06:55:59.295Z"
      },
      {
        "duration": 4,
        "start_time": "2023-04-01T06:56:30.896Z"
      },
      {
        "duration": 42,
        "start_time": "2023-04-01T06:56:46.851Z"
      },
      {
        "duration": 78,
        "start_time": "2023-04-01T06:57:32.999Z"
      },
      {
        "duration": 15,
        "start_time": "2023-04-01T06:58:12.394Z"
      },
      {
        "duration": 18,
        "start_time": "2023-04-01T07:00:14.341Z"
      },
      {
        "duration": 20,
        "start_time": "2023-04-01T07:02:41.075Z"
      },
      {
        "duration": 18,
        "start_time": "2023-04-01T07:04:13.025Z"
      },
      {
        "duration": 15,
        "start_time": "2023-04-01T07:09:51.045Z"
      },
      {
        "duration": 14,
        "start_time": "2023-04-01T07:10:08.423Z"
      },
      {
        "duration": 13,
        "start_time": "2023-04-01T07:10:09.153Z"
      },
      {
        "duration": 5,
        "start_time": "2023-04-01T07:11:09.865Z"
      },
      {
        "duration": 64,
        "start_time": "2023-04-01T07:13:43.947Z"
      },
      {
        "duration": 7,
        "start_time": "2023-04-01T07:14:03.243Z"
      },
      {
        "duration": 4,
        "start_time": "2023-04-01T07:18:04.501Z"
      },
      {
        "duration": 12,
        "start_time": "2023-04-01T08:29:27.435Z"
      },
      {
        "duration": 13,
        "start_time": "2023-04-01T08:30:02.204Z"
      },
      {
        "duration": 10,
        "start_time": "2023-04-01T08:30:47.344Z"
      },
      {
        "duration": 24,
        "start_time": "2023-04-01T08:30:48.016Z"
      },
      {
        "duration": 4,
        "start_time": "2023-04-01T08:30:49.695Z"
      },
      {
        "duration": 4,
        "start_time": "2023-04-01T08:31:36.091Z"
      },
      {
        "duration": 8,
        "start_time": "2023-04-01T08:45:20.532Z"
      },
      {
        "duration": 6,
        "start_time": "2023-04-01T08:45:24.815Z"
      },
      {
        "duration": 19,
        "start_time": "2023-04-01T08:45:26.219Z"
      },
      {
        "duration": 13,
        "start_time": "2023-04-01T08:45:27.465Z"
      },
      {
        "duration": 457,
        "start_time": "2023-04-01T08:45:29.337Z"
      },
      {
        "duration": 10,
        "start_time": "2023-04-01T08:46:48.155Z"
      },
      {
        "duration": 16,
        "start_time": "2023-04-01T08:48:17.628Z"
      },
      {
        "duration": 55,
        "start_time": "2023-04-01T08:57:05.966Z"
      },
      {
        "duration": 3,
        "start_time": "2023-04-01T09:02:16.813Z"
      },
      {
        "duration": 25,
        "start_time": "2023-04-01T09:06:20.114Z"
      },
      {
        "duration": 19,
        "start_time": "2023-04-01T09:06:50.012Z"
      },
      {
        "duration": 12,
        "start_time": "2023-04-01T09:07:53.116Z"
      },
      {
        "duration": 217,
        "start_time": "2023-04-01T09:08:13.172Z"
      },
      {
        "duration": 3,
        "start_time": "2023-04-01T09:08:50.397Z"
      },
      {
        "duration": 54,
        "start_time": "2023-04-01T09:08:55.835Z"
      },
      {
        "duration": 17,
        "start_time": "2023-04-01T09:08:56.925Z"
      },
      {
        "duration": 11,
        "start_time": "2023-04-01T09:10:04.993Z"
      },
      {
        "duration": 27,
        "start_time": "2023-04-01T09:12:37.317Z"
      },
      {
        "duration": 14,
        "start_time": "2023-04-01T09:12:38.545Z"
      },
      {
        "duration": 15,
        "start_time": "2023-04-01T09:13:19.853Z"
      },
      {
        "duration": 12,
        "start_time": "2023-04-01T09:13:24.151Z"
      },
      {
        "duration": 4,
        "start_time": "2023-04-01T09:27:32.043Z"
      },
      {
        "duration": 3,
        "start_time": "2023-04-01T09:43:38.263Z"
      },
      {
        "duration": 24,
        "start_time": "2023-04-01T09:48:07.321Z"
      },
      {
        "duration": 17,
        "start_time": "2023-04-01T10:02:05.471Z"
      },
      {
        "duration": 23,
        "start_time": "2023-04-01T10:03:29.071Z"
      },
      {
        "duration": 56,
        "start_time": "2023-04-01T10:04:28.663Z"
      },
      {
        "duration": 16,
        "start_time": "2023-04-01T10:05:10.390Z"
      },
      {
        "duration": 10,
        "start_time": "2023-04-01T10:05:47.751Z"
      },
      {
        "duration": 36,
        "start_time": "2023-04-01T10:06:08.312Z"
      },
      {
        "duration": 15,
        "start_time": "2023-04-01T10:07:51.841Z"
      },
      {
        "duration": 15,
        "start_time": "2023-04-01T10:08:10.870Z"
      },
      {
        "duration": 16,
        "start_time": "2023-04-01T10:08:22.862Z"
      },
      {
        "duration": 22,
        "start_time": "2023-04-01T10:10:08.137Z"
      },
      {
        "duration": 20,
        "start_time": "2023-04-01T10:13:51.118Z"
      },
      {
        "duration": 16,
        "start_time": "2023-04-01T10:17:26.538Z"
      },
      {
        "duration": 16,
        "start_time": "2023-04-01T10:19:05.764Z"
      },
      {
        "duration": 12,
        "start_time": "2023-04-01T10:19:31.704Z"
      },
      {
        "duration": 13,
        "start_time": "2023-04-01T10:22:47.463Z"
      },
      {
        "duration": 11,
        "start_time": "2023-04-01T10:26:26.781Z"
      },
      {
        "duration": 15,
        "start_time": "2023-04-01T10:26:46.285Z"
      },
      {
        "duration": 3,
        "start_time": "2023-04-01T10:28:32.760Z"
      },
      {
        "duration": 8,
        "start_time": "2023-04-01T10:48:52.627Z"
      },
      {
        "duration": 5,
        "start_time": "2023-04-01T10:55:52.160Z"
      },
      {
        "duration": 11,
        "start_time": "2023-04-01T10:59:06.090Z"
      },
      {
        "duration": 266,
        "start_time": "2023-04-01T11:16:19.778Z"
      },
      {
        "duration": 14,
        "start_time": "2023-04-01T11:30:44.821Z"
      },
      {
        "duration": 43,
        "start_time": "2023-04-01T11:32:55.337Z"
      },
      {
        "duration": 10,
        "start_time": "2023-04-01T11:37:14.974Z"
      },
      {
        "duration": 20,
        "start_time": "2023-04-01T11:38:40.151Z"
      },
      {
        "duration": 17,
        "start_time": "2023-04-01T11:39:27.162Z"
      },
      {
        "duration": 5,
        "start_time": "2023-04-01T11:41:51.462Z"
      },
      {
        "duration": 1575,
        "start_time": "2023-04-01T11:41:53.721Z"
      },
      {
        "duration": 16,
        "start_time": "2023-04-01T11:41:57.406Z"
      },
      {
        "duration": 14,
        "start_time": "2023-04-01T11:42:00.112Z"
      },
      {
        "duration": 12,
        "start_time": "2023-04-01T11:42:11.388Z"
      },
      {
        "duration": 14,
        "start_time": "2023-04-01T11:42:24.273Z"
      },
      {
        "duration": 97,
        "start_time": "2023-04-01T11:45:34.741Z"
      },
      {
        "duration": 57,
        "start_time": "2023-04-01T11:45:53.942Z"
      },
      {
        "duration": 25,
        "start_time": "2023-04-01T11:46:13.729Z"
      },
      {
        "duration": 15,
        "start_time": "2023-04-01T11:48:57.120Z"
      },
      {
        "duration": 49,
        "start_time": "2023-04-01T11:49:46.395Z"
      },
      {
        "duration": 23,
        "start_time": "2023-04-01T11:51:55.778Z"
      },
      {
        "duration": 20,
        "start_time": "2023-04-01T11:53:46.564Z"
      },
      {
        "duration": 23,
        "start_time": "2023-04-01T11:54:31.852Z"
      },
      {
        "duration": 31,
        "start_time": "2023-04-01T11:55:38.817Z"
      },
      {
        "duration": 19,
        "start_time": "2023-04-01T11:55:59.628Z"
      },
      {
        "duration": 4,
        "start_time": "2023-04-01T11:59:17.624Z"
      },
      {
        "duration": 1763,
        "start_time": "2023-04-01T11:59:17.631Z"
      },
      {
        "duration": 13,
        "start_time": "2023-04-01T11:59:19.397Z"
      },
      {
        "duration": 14,
        "start_time": "2023-04-01T11:59:19.412Z"
      },
      {
        "duration": 13,
        "start_time": "2023-04-01T11:59:19.430Z"
      },
      {
        "duration": 17,
        "start_time": "2023-04-01T11:59:19.445Z"
      },
      {
        "duration": 919,
        "start_time": "2023-04-01T11:59:19.465Z"
      },
      {
        "duration": 7,
        "start_time": "2023-04-01T11:59:20.388Z"
      },
      {
        "duration": 35,
        "start_time": "2023-04-01T11:59:20.397Z"
      },
      {
        "duration": 26,
        "start_time": "2023-04-01T11:59:20.435Z"
      },
      {
        "duration": 144,
        "start_time": "2023-04-01T11:59:20.468Z"
      },
      {
        "duration": 740,
        "start_time": "2023-04-01T11:59:20.615Z"
      },
      {
        "duration": 14,
        "start_time": "2023-04-01T11:59:21.357Z"
      },
      {
        "duration": 50,
        "start_time": "2023-04-01T11:59:21.375Z"
      },
      {
        "duration": 23,
        "start_time": "2023-04-01T11:59:21.427Z"
      },
      {
        "duration": 18,
        "start_time": "2023-04-01T11:59:21.453Z"
      },
      {
        "duration": 52,
        "start_time": "2023-04-01T11:59:21.473Z"
      },
      {
        "duration": 9,
        "start_time": "2023-04-01T11:59:21.528Z"
      },
      {
        "duration": 5,
        "start_time": "2023-04-01T11:59:21.540Z"
      },
      {
        "duration": 20,
        "start_time": "2023-04-01T11:59:21.548Z"
      },
      {
        "duration": 8,
        "start_time": "2023-04-01T11:59:21.570Z"
      },
      {
        "duration": 63,
        "start_time": "2023-04-01T11:59:21.581Z"
      },
      {
        "duration": 22,
        "start_time": "2023-04-01T11:59:21.647Z"
      },
      {
        "duration": 3,
        "start_time": "2023-04-01T11:59:21.672Z"
      },
      {
        "duration": 51,
        "start_time": "2023-04-01T11:59:21.678Z"
      },
      {
        "duration": 302,
        "start_time": "2023-04-01T11:59:21.732Z"
      },
      {
        "duration": 3,
        "start_time": "2023-04-01T11:59:22.039Z"
      },
      {
        "duration": 107,
        "start_time": "2023-04-01T11:59:22.049Z"
      },
      {
        "duration": 24,
        "start_time": "2023-04-01T11:59:22.159Z"
      },
      {
        "duration": 438,
        "start_time": "2023-04-01T11:59:22.185Z"
      },
      {
        "duration": 21,
        "start_time": "2023-04-01T11:59:22.626Z"
      },
      {
        "duration": 10,
        "start_time": "2023-04-01T11:59:22.650Z"
      },
      {
        "duration": 66,
        "start_time": "2023-04-01T11:59:22.662Z"
      },
      {
        "duration": 4,
        "start_time": "2023-04-01T11:59:22.731Z"
      },
      {
        "duration": 233,
        "start_time": "2023-04-01T11:59:22.739Z"
      },
      {
        "duration": 16,
        "start_time": "2023-04-01T11:59:22.975Z"
      },
      {
        "duration": 41,
        "start_time": "2023-04-01T11:59:22.993Z"
      },
      {
        "duration": 16,
        "start_time": "2023-04-01T11:59:23.037Z"
      },
      {
        "duration": 20,
        "start_time": "2023-04-01T11:59:23.055Z"
      },
      {
        "duration": 15,
        "start_time": "2023-04-01T11:59:23.078Z"
      },
      {
        "duration": 19,
        "start_time": "2023-04-01T11:59:23.124Z"
      },
      {
        "duration": 21,
        "start_time": "2023-04-01T11:59:23.146Z"
      },
      {
        "duration": 10,
        "start_time": "2023-04-01T11:59:23.169Z"
      },
      {
        "duration": 25,
        "start_time": "2023-04-01T11:59:23.181Z"
      },
      {
        "duration": 22,
        "start_time": "2023-04-01T11:59:23.208Z"
      },
      {
        "duration": 28,
        "start_time": "2023-04-01T11:59:23.232Z"
      },
      {
        "duration": 14,
        "start_time": "2023-04-01T11:59:23.263Z"
      },
      {
        "duration": 17,
        "start_time": "2023-04-01T11:59:23.280Z"
      },
      {
        "duration": 19,
        "start_time": "2023-04-01T11:59:23.324Z"
      },
      {
        "duration": 3,
        "start_time": "2023-04-01T11:59:23.345Z"
      },
      {
        "duration": 14,
        "start_time": "2023-04-01T11:59:23.351Z"
      },
      {
        "duration": 122,
        "start_time": "2023-04-01T11:59:23.367Z"
      },
      {
        "duration": 10,
        "start_time": "2023-04-01T11:59:23.492Z"
      },
      {
        "duration": 52,
        "start_time": "2023-04-01T11:59:23.504Z"
      },
      {
        "duration": 20,
        "start_time": "2023-04-01T12:15:07.976Z"
      },
      {
        "duration": 7,
        "start_time": "2023-04-01T12:15:53.220Z"
      },
      {
        "duration": 15,
        "start_time": "2023-04-01T12:15:55.712Z"
      },
      {
        "duration": 17,
        "start_time": "2023-04-01T12:17:23.710Z"
      },
      {
        "duration": 12,
        "start_time": "2023-04-01T12:17:41.216Z"
      },
      {
        "duration": 15,
        "start_time": "2023-04-01T12:24:11.217Z"
      },
      {
        "duration": 15,
        "start_time": "2023-04-01T12:25:51.718Z"
      },
      {
        "duration": 18,
        "start_time": "2023-04-01T12:25:54.818Z"
      },
      {
        "duration": 14,
        "start_time": "2023-04-01T12:26:37.337Z"
      },
      {
        "duration": 9,
        "start_time": "2023-04-01T12:26:53.805Z"
      },
      {
        "duration": 46,
        "start_time": "2023-04-01T12:32:03.144Z"
      },
      {
        "duration": 6,
        "start_time": "2023-04-01T12:32:27.756Z"
      },
      {
        "duration": 23,
        "start_time": "2023-04-01T12:33:10.425Z"
      },
      {
        "duration": 22,
        "start_time": "2023-04-01T12:34:03.616Z"
      },
      {
        "duration": 16,
        "start_time": "2023-04-01T12:35:08.312Z"
      },
      {
        "duration": 47,
        "start_time": "2023-04-01T12:35:44.739Z"
      },
      {
        "duration": 11,
        "start_time": "2023-04-01T12:39:20.358Z"
      },
      {
        "duration": 3,
        "start_time": "2023-04-01T12:46:42.916Z"
      },
      {
        "duration": 5,
        "start_time": "2023-04-01T12:46:51.847Z"
      },
      {
        "duration": 5,
        "start_time": "2023-04-01T12:47:02.336Z"
      },
      {
        "duration": 11,
        "start_time": "2023-04-01T12:47:16.524Z"
      },
      {
        "duration": 3,
        "start_time": "2023-04-01T12:48:58.658Z"
      },
      {
        "duration": 9,
        "start_time": "2023-04-01T12:49:05.262Z"
      },
      {
        "duration": 14,
        "start_time": "2023-04-01T12:49:20.137Z"
      },
      {
        "duration": 10,
        "start_time": "2023-04-01T12:54:42.655Z"
      },
      {
        "duration": 5,
        "start_time": "2023-04-01T12:55:42.111Z"
      },
      {
        "duration": 108,
        "start_time": "2023-04-01T12:56:10.989Z"
      },
      {
        "duration": 9,
        "start_time": "2023-04-01T12:56:20.087Z"
      },
      {
        "duration": 21,
        "start_time": "2023-04-01T12:56:47.958Z"
      },
      {
        "duration": 21,
        "start_time": "2023-04-01T13:00:58.036Z"
      },
      {
        "duration": 24,
        "start_time": "2023-04-01T13:01:42.822Z"
      },
      {
        "duration": 12,
        "start_time": "2023-04-01T13:02:47.691Z"
      },
      {
        "duration": 6,
        "start_time": "2023-04-01T13:03:18.490Z"
      },
      {
        "duration": 9,
        "start_time": "2023-04-01T13:03:24.048Z"
      },
      {
        "duration": 14,
        "start_time": "2023-04-01T13:03:50.220Z"
      },
      {
        "duration": 1442,
        "start_time": "2023-04-01T13:03:50.242Z"
      },
      {
        "duration": 11,
        "start_time": "2023-04-01T13:03:51.686Z"
      },
      {
        "duration": 12,
        "start_time": "2023-04-01T13:03:51.699Z"
      },
      {
        "duration": 25,
        "start_time": "2023-04-01T13:03:51.714Z"
      },
      {
        "duration": 10,
        "start_time": "2023-04-01T13:03:51.741Z"
      },
      {
        "duration": 647,
        "start_time": "2023-04-01T13:03:51.753Z"
      },
      {
        "duration": 13,
        "start_time": "2023-04-01T13:03:52.429Z"
      },
      {
        "duration": 9,
        "start_time": "2023-04-01T13:03:52.444Z"
      },
      {
        "duration": 15,
        "start_time": "2023-04-01T13:03:52.456Z"
      },
      {
        "duration": 104,
        "start_time": "2023-04-01T13:03:52.473Z"
      },
      {
        "duration": 546,
        "start_time": "2023-04-01T13:03:52.580Z"
      },
      {
        "duration": 18,
        "start_time": "2023-04-01T13:03:53.130Z"
      },
      {
        "duration": 14,
        "start_time": "2023-04-01T13:03:53.159Z"
      },
      {
        "duration": 15,
        "start_time": "2023-04-01T13:03:53.175Z"
      },
      {
        "duration": 29,
        "start_time": "2023-04-01T13:03:53.192Z"
      },
      {
        "duration": 30,
        "start_time": "2023-04-01T13:03:53.227Z"
      },
      {
        "duration": 6,
        "start_time": "2023-04-01T13:03:53.259Z"
      },
      {
        "duration": 7,
        "start_time": "2023-04-01T13:03:53.267Z"
      },
      {
        "duration": 32,
        "start_time": "2023-04-01T13:03:53.275Z"
      },
      {
        "duration": 26,
        "start_time": "2023-04-01T13:03:53.309Z"
      },
      {
        "duration": 25,
        "start_time": "2023-04-01T13:03:53.341Z"
      },
      {
        "duration": 19,
        "start_time": "2023-04-01T13:03:53.368Z"
      },
      {
        "duration": 7,
        "start_time": "2023-04-01T13:03:53.389Z"
      },
      {
        "duration": 61,
        "start_time": "2023-04-01T13:03:53.398Z"
      },
      {
        "duration": 226,
        "start_time": "2023-04-01T13:03:53.461Z"
      },
      {
        "duration": 3,
        "start_time": "2023-04-01T13:03:53.689Z"
      },
      {
        "duration": 108,
        "start_time": "2023-04-01T13:03:53.695Z"
      },
      {
        "duration": 21,
        "start_time": "2023-04-01T13:03:53.805Z"
      },
      {
        "duration": 306,
        "start_time": "2023-04-01T13:03:53.828Z"
      },
      {
        "duration": 16,
        "start_time": "2023-04-01T13:03:54.135Z"
      },
      {
        "duration": 16,
        "start_time": "2023-04-01T13:03:54.153Z"
      },
      {
        "duration": 25,
        "start_time": "2023-04-01T13:03:54.171Z"
      },
      {
        "duration": 2,
        "start_time": "2023-04-01T13:03:54.199Z"
      },
      {
        "duration": 172,
        "start_time": "2023-04-01T13:03:54.203Z"
      },
      {
        "duration": 13,
        "start_time": "2023-04-01T13:03:54.377Z"
      },
      {
        "duration": 35,
        "start_time": "2023-04-01T13:03:54.392Z"
      },
      {
        "duration": 18,
        "start_time": "2023-04-01T13:03:54.434Z"
      },
      {
        "duration": 23,
        "start_time": "2023-04-01T13:03:54.454Z"
      },
      {
        "duration": 14,
        "start_time": "2023-04-01T13:03:54.479Z"
      },
      {
        "duration": 32,
        "start_time": "2023-04-01T13:03:54.499Z"
      },
      {
        "duration": 8,
        "start_time": "2023-04-01T13:03:54.536Z"
      },
      {
        "duration": 7,
        "start_time": "2023-04-01T13:03:54.546Z"
      },
      {
        "duration": 5,
        "start_time": "2023-04-01T13:03:54.556Z"
      },
      {
        "duration": 10,
        "start_time": "2023-04-01T13:03:54.564Z"
      },
      {
        "duration": 17,
        "start_time": "2023-04-01T13:03:54.577Z"
      },
      {
        "duration": 41,
        "start_time": "2023-04-01T13:03:54.596Z"
      },
      {
        "duration": 23,
        "start_time": "2023-04-01T13:03:54.640Z"
      },
      {
        "duration": 6,
        "start_time": "2023-04-01T13:03:54.665Z"
      },
      {
        "duration": 10,
        "start_time": "2023-04-01T13:03:54.674Z"
      },
      {
        "duration": 3,
        "start_time": "2023-04-01T13:03:54.686Z"
      },
      {
        "duration": 158,
        "start_time": "2023-04-01T13:03:54.691Z"
      },
      {
        "duration": 13,
        "start_time": "2023-04-01T13:03:54.856Z"
      },
      {
        "duration": 22,
        "start_time": "2023-04-01T13:03:54.870Z"
      },
      {
        "duration": 16,
        "start_time": "2023-04-01T13:03:54.894Z"
      },
      {
        "duration": 40,
        "start_time": "2023-04-01T13:05:57.607Z"
      },
      {
        "duration": 934,
        "start_time": "2023-04-01T13:15:19.957Z"
      },
      {
        "duration": 999,
        "start_time": "2023-04-01T13:16:13.348Z"
      },
      {
        "duration": 18,
        "start_time": "2023-04-01T13:17:05.189Z"
      },
      {
        "duration": 24,
        "start_time": "2023-04-01T13:17:17.348Z"
      },
      {
        "duration": 29,
        "start_time": "2023-04-01T13:17:40.406Z"
      },
      {
        "duration": 23,
        "start_time": "2023-04-01T13:18:32.166Z"
      },
      {
        "duration": 6,
        "start_time": "2023-04-01T13:27:16.024Z"
      },
      {
        "duration": 1213,
        "start_time": "2023-04-01T13:27:16.040Z"
      },
      {
        "duration": 9,
        "start_time": "2023-04-01T13:27:17.256Z"
      },
      {
        "duration": 10,
        "start_time": "2023-04-01T13:27:17.267Z"
      },
      {
        "duration": 8,
        "start_time": "2023-04-01T13:27:17.280Z"
      },
      {
        "duration": 13,
        "start_time": "2023-04-01T13:27:17.290Z"
      },
      {
        "duration": 579,
        "start_time": "2023-04-01T13:27:17.304Z"
      },
      {
        "duration": 6,
        "start_time": "2023-04-01T13:27:17.885Z"
      },
      {
        "duration": 42,
        "start_time": "2023-04-01T13:27:17.893Z"
      },
      {
        "duration": 28,
        "start_time": "2023-04-01T13:27:17.937Z"
      },
      {
        "duration": 92,
        "start_time": "2023-04-01T13:27:17.968Z"
      },
      {
        "duration": 444,
        "start_time": "2023-04-01T13:27:18.062Z"
      },
      {
        "duration": 11,
        "start_time": "2023-04-01T13:27:18.530Z"
      },
      {
        "duration": 12,
        "start_time": "2023-04-01T13:27:18.543Z"
      },
      {
        "duration": 16,
        "start_time": "2023-04-01T13:27:18.556Z"
      },
      {
        "duration": 15,
        "start_time": "2023-04-01T13:27:18.573Z"
      },
      {
        "duration": 35,
        "start_time": "2023-04-01T13:27:18.590Z"
      },
      {
        "duration": 13,
        "start_time": "2023-04-01T13:27:18.626Z"
      },
      {
        "duration": 5,
        "start_time": "2023-04-01T13:27:18.641Z"
      },
      {
        "duration": 15,
        "start_time": "2023-04-01T13:27:18.648Z"
      },
      {
        "duration": 6,
        "start_time": "2023-04-01T13:27:18.664Z"
      },
      {
        "duration": 22,
        "start_time": "2023-04-01T13:27:18.672Z"
      },
      {
        "duration": 43,
        "start_time": "2023-04-01T13:27:18.696Z"
      },
      {
        "duration": 3,
        "start_time": "2023-04-01T13:27:18.740Z"
      },
      {
        "duration": 22,
        "start_time": "2023-04-01T13:27:18.745Z"
      },
      {
        "duration": 225,
        "start_time": "2023-04-01T13:27:18.769Z"
      },
      {
        "duration": 2,
        "start_time": "2023-04-01T13:27:18.996Z"
      },
      {
        "duration": 74,
        "start_time": "2023-04-01T13:27:18.999Z"
      },
      {
        "duration": 19,
        "start_time": "2023-04-01T13:27:19.076Z"
      },
      {
        "duration": 288,
        "start_time": "2023-04-01T13:27:19.097Z"
      },
      {
        "duration": 11,
        "start_time": "2023-04-01T13:27:19.387Z"
      },
      {
        "duration": 14,
        "start_time": "2023-04-01T13:27:19.399Z"
      },
      {
        "duration": 33,
        "start_time": "2023-04-01T13:27:19.415Z"
      },
      {
        "duration": 2,
        "start_time": "2023-04-01T13:27:19.449Z"
      },
      {
        "duration": 492,
        "start_time": "2023-04-01T13:27:19.453Z"
      },
      {
        "duration": 11,
        "start_time": "2023-04-01T13:27:19.946Z"
      },
      {
        "duration": 17,
        "start_time": "2023-04-01T13:27:19.959Z"
      },
      {
        "duration": 12,
        "start_time": "2023-04-01T13:27:19.978Z"
      },
      {
        "duration": 46,
        "start_time": "2023-04-01T13:27:19.992Z"
      },
      {
        "duration": 10,
        "start_time": "2023-04-01T13:27:20.040Z"
      },
      {
        "duration": 22,
        "start_time": "2023-04-01T13:27:20.051Z"
      },
      {
        "duration": 8,
        "start_time": "2023-04-01T13:27:20.075Z"
      },
      {
        "duration": 7,
        "start_time": "2023-04-01T13:27:20.086Z"
      },
      {
        "duration": 3,
        "start_time": "2023-04-01T13:27:20.095Z"
      },
      {
        "duration": 41,
        "start_time": "2023-04-01T13:27:20.100Z"
      },
      {
        "duration": 17,
        "start_time": "2023-04-01T13:27:20.143Z"
      },
      {
        "duration": 11,
        "start_time": "2023-04-01T13:27:20.161Z"
      },
      {
        "duration": 21,
        "start_time": "2023-04-01T13:27:20.174Z"
      },
      {
        "duration": 5,
        "start_time": "2023-04-01T13:27:20.197Z"
      },
      {
        "duration": 34,
        "start_time": "2023-04-01T13:27:20.204Z"
      },
      {
        "duration": 4,
        "start_time": "2023-04-01T13:27:20.244Z"
      },
      {
        "duration": 99,
        "start_time": "2023-04-01T13:27:20.251Z"
      },
      {
        "duration": 7,
        "start_time": "2023-04-01T13:27:20.352Z"
      },
      {
        "duration": 30,
        "start_time": "2023-04-01T13:27:20.361Z"
      },
      {
        "duration": 20,
        "start_time": "2023-04-01T13:27:20.393Z"
      },
      {
        "duration": 32,
        "start_time": "2023-04-01T13:27:20.416Z"
      },
      {
        "duration": 19,
        "start_time": "2023-04-01T13:27:20.450Z"
      },
      {
        "duration": 17,
        "start_time": "2023-04-01T13:33:52.447Z"
      },
      {
        "duration": 9,
        "start_time": "2023-04-01T13:34:07.301Z"
      },
      {
        "duration": 410,
        "start_time": "2023-04-01T13:39:22.052Z"
      },
      {
        "duration": 15,
        "start_time": "2023-04-01T13:40:19.686Z"
      },
      {
        "duration": 24,
        "start_time": "2023-04-01T13:41:03.881Z"
      },
      {
        "duration": 32,
        "start_time": "2023-04-01T13:41:05.711Z"
      },
      {
        "duration": 9,
        "start_time": "2023-04-01T13:41:12.005Z"
      },
      {
        "duration": 12,
        "start_time": "2023-04-01T13:41:13.063Z"
      },
      {
        "duration": 14,
        "start_time": "2023-04-01T13:41:15.049Z"
      },
      {
        "duration": 339,
        "start_time": "2023-04-01T13:41:24.213Z"
      },
      {
        "duration": 22,
        "start_time": "2023-04-01T13:41:46.281Z"
      },
      {
        "duration": 8,
        "start_time": "2023-04-01T13:41:49.274Z"
      },
      {
        "duration": 10,
        "start_time": "2023-04-01T13:41:49.852Z"
      },
      {
        "duration": 263,
        "start_time": "2023-04-01T13:41:50.485Z"
      },
      {
        "duration": 255,
        "start_time": "2023-04-01T13:42:52.314Z"
      },
      {
        "duration": 227,
        "start_time": "2023-04-01T13:43:18.570Z"
      },
      {
        "duration": 212,
        "start_time": "2023-04-01T13:51:39.084Z"
      },
      {
        "duration": 700,
        "start_time": "2023-04-01T14:02:41.756Z"
      },
      {
        "duration": 42,
        "start_time": "2023-04-01T14:06:23.295Z"
      },
      {
        "duration": 28,
        "start_time": "2023-04-01T14:09:41.370Z"
      },
      {
        "duration": 14,
        "start_time": "2023-04-01T14:10:59.181Z"
      },
      {
        "duration": 14,
        "start_time": "2023-04-01T14:11:16.979Z"
      },
      {
        "duration": 37,
        "start_time": "2023-04-01T14:11:30.660Z"
      },
      {
        "duration": 23,
        "start_time": "2023-04-01T14:13:13.131Z"
      },
      {
        "duration": 25,
        "start_time": "2023-04-01T14:16:08.672Z"
      },
      {
        "duration": 21,
        "start_time": "2023-04-01T14:16:19.501Z"
      },
      {
        "duration": 56,
        "start_time": "2023-04-01T14:16:54.505Z"
      },
      {
        "duration": 26,
        "start_time": "2023-04-01T14:18:57.732Z"
      },
      {
        "duration": 23,
        "start_time": "2023-04-01T14:19:18.962Z"
      },
      {
        "duration": 27,
        "start_time": "2023-04-01T14:19:58.834Z"
      },
      {
        "duration": 18,
        "start_time": "2023-04-01T14:20:16.702Z"
      },
      {
        "duration": 25,
        "start_time": "2023-04-01T14:20:47.232Z"
      },
      {
        "duration": 15,
        "start_time": "2023-04-01T14:21:23.152Z"
      },
      {
        "duration": 17,
        "start_time": "2023-04-01T14:21:34.392Z"
      },
      {
        "duration": 16,
        "start_time": "2023-04-01T14:21:53.592Z"
      },
      {
        "duration": 18,
        "start_time": "2023-04-01T14:25:26.890Z"
      },
      {
        "duration": 11,
        "start_time": "2023-04-01T14:28:07.293Z"
      },
      {
        "duration": 16,
        "start_time": "2023-04-01T14:29:22.666Z"
      },
      {
        "duration": 21,
        "start_time": "2023-04-01T14:29:54.363Z"
      },
      {
        "duration": 10,
        "start_time": "2023-04-01T14:33:10.178Z"
      },
      {
        "duration": 15,
        "start_time": "2023-04-01T14:34:24.224Z"
      },
      {
        "duration": 526,
        "start_time": "2023-04-01T14:34:40.819Z"
      },
      {
        "duration": 77,
        "start_time": "2023-04-01T14:35:43.736Z"
      },
      {
        "duration": 23,
        "start_time": "2023-04-01T14:38:06.249Z"
      },
      {
        "duration": 81,
        "start_time": "2023-04-01T14:38:09.928Z"
      },
      {
        "duration": 26,
        "start_time": "2023-04-01T14:38:34.226Z"
      },
      {
        "duration": 49,
        "start_time": "2023-04-01T14:39:14.450Z"
      },
      {
        "duration": 20,
        "start_time": "2023-04-01T14:41:40.881Z"
      },
      {
        "duration": 53,
        "start_time": "2023-04-01T14:41:42.255Z"
      },
      {
        "duration": 126,
        "start_time": "2023-04-01T14:46:39.443Z"
      },
      {
        "duration": 7,
        "start_time": "2023-04-01T14:47:21.945Z"
      },
      {
        "duration": 13,
        "start_time": "2023-04-01T14:47:31.471Z"
      },
      {
        "duration": 8,
        "start_time": "2023-04-01T14:47:57.540Z"
      },
      {
        "duration": 8,
        "start_time": "2023-04-01T15:35:26.104Z"
      },
      {
        "duration": 8,
        "start_time": "2023-04-01T15:39:25.856Z"
      },
      {
        "duration": 12,
        "start_time": "2023-04-01T15:40:44.264Z"
      },
      {
        "duration": 19,
        "start_time": "2023-04-01T15:40:52.307Z"
      },
      {
        "duration": 17,
        "start_time": "2023-04-01T15:41:08.012Z"
      },
      {
        "duration": 5,
        "start_time": "2023-04-01T15:42:18.773Z"
      },
      {
        "duration": 19,
        "start_time": "2023-04-01T15:42:36.910Z"
      },
      {
        "duration": 7,
        "start_time": "2023-04-01T15:43:57.142Z"
      },
      {
        "duration": 11,
        "start_time": "2023-04-01T15:44:00.858Z"
      },
      {
        "duration": 9,
        "start_time": "2023-04-01T15:44:02.772Z"
      },
      {
        "duration": 1488,
        "start_time": "2023-04-02T06:27:10.096Z"
      },
      {
        "duration": 1486,
        "start_time": "2023-04-02T06:27:11.587Z"
      },
      {
        "duration": 12,
        "start_time": "2023-04-02T06:27:13.075Z"
      },
      {
        "duration": 9,
        "start_time": "2023-04-02T06:27:13.089Z"
      },
      {
        "duration": 10,
        "start_time": "2023-04-02T06:27:13.099Z"
      },
      {
        "duration": 14,
        "start_time": "2023-04-02T06:27:13.110Z"
      },
      {
        "duration": 587,
        "start_time": "2023-04-02T06:27:13.126Z"
      },
      {
        "duration": 29,
        "start_time": "2023-04-02T06:27:13.715Z"
      },
      {
        "duration": 6,
        "start_time": "2023-04-02T06:27:13.745Z"
      },
      {
        "duration": 15,
        "start_time": "2023-04-02T06:27:13.755Z"
      },
      {
        "duration": 100,
        "start_time": "2023-04-02T06:27:13.772Z"
      },
      {
        "duration": 489,
        "start_time": "2023-04-02T06:27:13.874Z"
      },
      {
        "duration": 9,
        "start_time": "2023-04-02T06:27:14.364Z"
      },
      {
        "duration": 12,
        "start_time": "2023-04-02T06:27:14.375Z"
      },
      {
        "duration": 13,
        "start_time": "2023-04-02T06:27:14.388Z"
      },
      {
        "duration": 48,
        "start_time": "2023-04-02T06:27:14.403Z"
      },
      {
        "duration": 15,
        "start_time": "2023-04-02T06:27:14.453Z"
      },
      {
        "duration": 5,
        "start_time": "2023-04-02T06:27:14.470Z"
      },
      {
        "duration": 4,
        "start_time": "2023-04-02T06:27:14.477Z"
      },
      {
        "duration": 13,
        "start_time": "2023-04-02T06:27:14.482Z"
      },
      {
        "duration": 45,
        "start_time": "2023-04-02T06:27:14.496Z"
      },
      {
        "duration": 22,
        "start_time": "2023-04-02T06:27:14.544Z"
      },
      {
        "duration": 17,
        "start_time": "2023-04-02T06:27:14.568Z"
      },
      {
        "duration": 11,
        "start_time": "2023-04-02T06:27:14.586Z"
      },
      {
        "duration": 17,
        "start_time": "2023-04-02T06:27:14.599Z"
      },
      {
        "duration": 280,
        "start_time": "2023-04-02T06:27:14.618Z"
      },
      {
        "duration": 3,
        "start_time": "2023-04-02T06:27:14.900Z"
      },
      {
        "duration": 76,
        "start_time": "2023-04-02T06:27:14.907Z"
      },
      {
        "duration": 13,
        "start_time": "2023-04-02T06:27:14.985Z"
      },
      {
        "duration": 266,
        "start_time": "2023-04-02T06:27:15.000Z"
      },
      {
        "duration": 9,
        "start_time": "2023-04-02T06:27:15.268Z"
      },
      {
        "duration": 8,
        "start_time": "2023-04-02T06:27:15.279Z"
      },
      {
        "duration": 21,
        "start_time": "2023-04-02T06:27:15.288Z"
      },
      {
        "duration": 2,
        "start_time": "2023-04-02T06:27:15.311Z"
      },
      {
        "duration": 156,
        "start_time": "2023-04-02T06:27:15.314Z"
      },
      {
        "duration": 10,
        "start_time": "2023-04-02T06:27:15.472Z"
      },
      {
        "duration": 25,
        "start_time": "2023-04-02T06:27:15.484Z"
      },
      {
        "duration": 32,
        "start_time": "2023-04-02T06:27:15.511Z"
      },
      {
        "duration": 16,
        "start_time": "2023-04-02T06:27:15.544Z"
      },
      {
        "duration": 9,
        "start_time": "2023-04-02T06:27:15.562Z"
      },
      {
        "duration": 16,
        "start_time": "2023-04-02T06:27:15.572Z"
      },
      {
        "duration": 6,
        "start_time": "2023-04-02T06:27:15.590Z"
      },
      {
        "duration": 8,
        "start_time": "2023-04-02T06:27:15.598Z"
      },
      {
        "duration": 10,
        "start_time": "2023-04-02T06:27:15.608Z"
      },
      {
        "duration": 28,
        "start_time": "2023-04-02T06:27:15.620Z"
      },
      {
        "duration": 17,
        "start_time": "2023-04-02T06:27:15.650Z"
      },
      {
        "duration": 9,
        "start_time": "2023-04-02T06:27:15.668Z"
      },
      {
        "duration": 20,
        "start_time": "2023-04-02T06:27:15.678Z"
      },
      {
        "duration": 9,
        "start_time": "2023-04-02T06:27:15.699Z"
      },
      {
        "duration": 32,
        "start_time": "2023-04-02T06:27:15.710Z"
      },
      {
        "duration": 3,
        "start_time": "2023-04-02T06:27:15.744Z"
      },
      {
        "duration": 77,
        "start_time": "2023-04-02T06:27:15.749Z"
      },
      {
        "duration": 10,
        "start_time": "2023-04-02T06:27:15.841Z"
      },
      {
        "duration": 22,
        "start_time": "2023-04-02T06:27:15.853Z"
      },
      {
        "duration": 33,
        "start_time": "2023-04-02T06:27:15.877Z"
      },
      {
        "duration": 15,
        "start_time": "2023-04-02T06:27:15.911Z"
      },
      {
        "duration": 23,
        "start_time": "2023-04-02T06:27:15.927Z"
      },
      {
        "duration": 11,
        "start_time": "2023-04-02T06:27:15.952Z"
      },
      {
        "duration": 23,
        "start_time": "2023-04-02T06:27:15.965Z"
      },
      {
        "duration": 202,
        "start_time": "2023-04-02T06:27:15.990Z"
      },
      {
        "duration": 198,
        "start_time": "2023-04-02T06:27:16.194Z"
      },
      {
        "duration": 8,
        "start_time": "2023-04-02T06:27:16.393Z"
      },
      {
        "duration": 9,
        "start_time": "2023-04-02T06:27:16.402Z"
      },
      {
        "duration": 39,
        "start_time": "2023-04-02T06:27:16.412Z"
      },
      {
        "duration": 500,
        "start_time": "2023-04-02T06:27:16.454Z"
      },
      {
        "duration": 114,
        "start_time": "2023-04-02T06:27:16.956Z"
      },
      {
        "duration": 74,
        "start_time": "2023-04-02T06:27:17.072Z"
      },
      {
        "duration": 51,
        "start_time": "2023-04-02T06:27:17.147Z"
      },
      {
        "duration": 14,
        "start_time": "2023-04-02T06:27:17.199Z"
      },
      {
        "duration": 52,
        "start_time": "2023-04-02T06:27:17.241Z"
      },
      {
        "duration": 5,
        "start_time": "2023-04-02T06:27:17.295Z"
      },
      {
        "duration": 11,
        "start_time": "2023-04-02T06:27:17.302Z"
      },
      {
        "duration": 33,
        "start_time": "2023-04-02T06:27:17.315Z"
      },
      {
        "duration": 14,
        "start_time": "2023-04-02T07:14:50.230Z"
      },
      {
        "duration": 7,
        "start_time": "2023-04-02T08:17:48.626Z"
      },
      {
        "duration": 9,
        "start_time": "2023-04-02T08:17:49.592Z"
      },
      {
        "duration": 11,
        "start_time": "2023-04-02T08:17:50.102Z"
      },
      {
        "duration": 14,
        "start_time": "2023-04-02T08:17:50.657Z"
      },
      {
        "duration": 1586,
        "start_time": "2023-04-02T15:10:09.405Z"
      },
      {
        "duration": 1443,
        "start_time": "2023-04-02T15:10:10.993Z"
      },
      {
        "duration": 15,
        "start_time": "2023-04-02T15:10:12.437Z"
      },
      {
        "duration": 6,
        "start_time": "2023-04-02T15:10:12.454Z"
      },
      {
        "duration": 8,
        "start_time": "2023-04-02T15:10:12.461Z"
      },
      {
        "duration": 8,
        "start_time": "2023-04-02T15:10:12.471Z"
      },
      {
        "duration": 644,
        "start_time": "2023-04-02T15:10:12.480Z"
      },
      {
        "duration": 4,
        "start_time": "2023-04-02T15:10:13.126Z"
      },
      {
        "duration": 5,
        "start_time": "2023-04-02T15:10:13.131Z"
      },
      {
        "duration": 37,
        "start_time": "2023-04-02T15:10:13.138Z"
      },
      {
        "duration": 79,
        "start_time": "2023-04-02T15:10:13.177Z"
      },
      {
        "duration": 478,
        "start_time": "2023-04-02T15:10:13.257Z"
      },
      {
        "duration": 9,
        "start_time": "2023-04-02T15:10:13.737Z"
      },
      {
        "duration": 10,
        "start_time": "2023-04-02T15:10:13.773Z"
      },
      {
        "duration": 25,
        "start_time": "2023-04-02T15:10:13.785Z"
      },
      {
        "duration": 19,
        "start_time": "2023-04-02T15:10:13.812Z"
      },
      {
        "duration": 38,
        "start_time": "2023-04-02T15:10:13.832Z"
      },
      {
        "duration": 5,
        "start_time": "2023-04-02T15:10:13.871Z"
      },
      {
        "duration": 7,
        "start_time": "2023-04-02T15:10:13.878Z"
      },
      {
        "duration": 15,
        "start_time": "2023-04-02T15:10:13.886Z"
      },
      {
        "duration": 5,
        "start_time": "2023-04-02T15:10:13.903Z"
      },
      {
        "duration": 18,
        "start_time": "2023-04-02T15:10:13.910Z"
      },
      {
        "duration": 12,
        "start_time": "2023-04-02T15:10:13.929Z"
      },
      {
        "duration": 7,
        "start_time": "2023-04-02T15:10:13.943Z"
      },
      {
        "duration": 26,
        "start_time": "2023-04-02T15:10:13.951Z"
      },
      {
        "duration": 196,
        "start_time": "2023-04-02T15:10:13.978Z"
      },
      {
        "duration": 3,
        "start_time": "2023-04-02T15:10:14.176Z"
      },
      {
        "duration": 55,
        "start_time": "2023-04-02T15:10:14.182Z"
      },
      {
        "duration": 10,
        "start_time": "2023-04-02T15:10:14.238Z"
      },
      {
        "duration": 230,
        "start_time": "2023-04-02T15:10:14.249Z"
      },
      {
        "duration": 8,
        "start_time": "2023-04-02T15:10:14.480Z"
      },
      {
        "duration": 10,
        "start_time": "2023-04-02T15:10:14.489Z"
      },
      {
        "duration": 18,
        "start_time": "2023-04-02T15:10:14.500Z"
      },
      {
        "duration": 2,
        "start_time": "2023-04-02T15:10:14.520Z"
      },
      {
        "duration": 124,
        "start_time": "2023-04-02T15:10:14.524Z"
      },
      {
        "duration": 9,
        "start_time": "2023-04-02T15:10:14.649Z"
      },
      {
        "duration": 31,
        "start_time": "2023-04-02T15:10:14.660Z"
      },
      {
        "duration": 15,
        "start_time": "2023-04-02T15:10:14.692Z"
      },
      {
        "duration": 20,
        "start_time": "2023-04-02T15:10:14.708Z"
      },
      {
        "duration": 14,
        "start_time": "2023-04-02T15:10:14.730Z"
      },
      {
        "duration": 33,
        "start_time": "2023-04-02T15:10:14.745Z"
      },
      {
        "duration": 17,
        "start_time": "2023-04-02T15:10:14.779Z"
      },
      {
        "duration": 26,
        "start_time": "2023-04-02T15:10:14.797Z"
      },
      {
        "duration": 13,
        "start_time": "2023-04-02T15:10:14.824Z"
      },
      {
        "duration": 29,
        "start_time": "2023-04-02T15:10:14.838Z"
      },
      {
        "duration": 32,
        "start_time": "2023-04-02T15:10:14.869Z"
      },
      {
        "duration": 34,
        "start_time": "2023-04-02T15:10:14.903Z"
      },
      {
        "duration": 29,
        "start_time": "2023-04-02T15:10:14.939Z"
      },
      {
        "duration": 28,
        "start_time": "2023-04-02T15:10:14.969Z"
      },
      {
        "duration": 43,
        "start_time": "2023-04-02T15:10:14.998Z"
      },
      {
        "duration": 94,
        "start_time": "2023-04-02T15:10:15.043Z"
      },
      {
        "duration": 7,
        "start_time": "2023-04-02T15:10:15.138Z"
      },
      {
        "duration": 12,
        "start_time": "2023-04-02T15:10:15.147Z"
      },
      {
        "duration": 21,
        "start_time": "2023-04-02T15:10:15.161Z"
      },
      {
        "duration": 11,
        "start_time": "2023-04-02T15:10:15.183Z"
      },
      {
        "duration": 16,
        "start_time": "2023-04-02T15:10:15.196Z"
      },
      {
        "duration": 14,
        "start_time": "2023-04-02T15:10:15.213Z"
      },
      {
        "duration": 9,
        "start_time": "2023-04-02T15:10:15.228Z"
      },
      {
        "duration": 161,
        "start_time": "2023-04-02T15:10:15.238Z"
      },
      {
        "duration": 154,
        "start_time": "2023-04-02T15:10:15.400Z"
      },
      {
        "duration": 6,
        "start_time": "2023-04-02T15:10:15.556Z"
      },
      {
        "duration": 5,
        "start_time": "2023-04-02T15:10:15.572Z"
      },
      {
        "duration": 31,
        "start_time": "2023-04-02T15:10:15.578Z"
      },
      {
        "duration": 834,
        "start_time": "2023-04-02T15:10:15.610Z"
      },
      {
        "duration": 28,
        "start_time": "2023-04-02T15:10:16.446Z"
      },
      {
        "duration": 38,
        "start_time": "2023-04-02T15:10:16.475Z"
      },
      {
        "duration": 68,
        "start_time": "2023-04-02T15:10:16.514Z"
      },
      {
        "duration": 36,
        "start_time": "2023-04-02T15:10:16.583Z"
      },
      {
        "duration": 13,
        "start_time": "2023-04-02T15:10:16.620Z"
      },
      {
        "duration": 13,
        "start_time": "2023-04-02T15:10:16.634Z"
      },
      {
        "duration": 28,
        "start_time": "2023-04-02T15:10:16.648Z"
      },
      {
        "duration": 36,
        "start_time": "2023-04-02T15:10:16.677Z"
      },
      {
        "duration": 14,
        "start_time": "2023-04-02T15:10:16.714Z"
      },
      {
        "duration": 4,
        "start_time": "2023-04-02T15:16:26.202Z"
      },
      {
        "duration": 3,
        "start_time": "2023-04-02T15:16:29.706Z"
      },
      {
        "duration": 1991,
        "start_time": "2023-04-02T15:16:40.865Z"
      },
      {
        "duration": 1253,
        "start_time": "2023-04-02T15:16:42.858Z"
      },
      {
        "duration": 13,
        "start_time": "2023-04-02T15:16:44.112Z"
      },
      {
        "duration": 6,
        "start_time": "2023-04-02T15:16:44.127Z"
      },
      {
        "duration": 8,
        "start_time": "2023-04-02T15:16:44.134Z"
      },
      {
        "duration": 8,
        "start_time": "2023-04-02T15:16:44.144Z"
      },
      {
        "duration": 600,
        "start_time": "2023-04-02T15:16:44.153Z"
      },
      {
        "duration": 28,
        "start_time": "2023-04-02T15:16:44.754Z"
      },
      {
        "duration": 6,
        "start_time": "2023-04-02T15:16:44.783Z"
      },
      {
        "duration": 17,
        "start_time": "2023-04-02T15:16:44.793Z"
      },
      {
        "duration": 103,
        "start_time": "2023-04-02T15:16:44.812Z"
      },
      {
        "duration": 492,
        "start_time": "2023-04-02T15:16:44.917Z"
      },
      {
        "duration": 7,
        "start_time": "2023-04-02T15:16:45.410Z"
      },
      {
        "duration": 28,
        "start_time": "2023-04-02T15:16:45.418Z"
      },
      {
        "duration": 45,
        "start_time": "2023-04-02T15:16:45.448Z"
      },
      {
        "duration": 19,
        "start_time": "2023-04-02T15:16:45.495Z"
      },
      {
        "duration": 12,
        "start_time": "2023-04-02T15:16:45.515Z"
      },
      {
        "duration": 6,
        "start_time": "2023-04-02T15:16:45.529Z"
      },
      {
        "duration": 14,
        "start_time": "2023-04-02T15:16:45.536Z"
      },
      {
        "duration": 11,
        "start_time": "2023-04-02T15:16:45.552Z"
      },
      {
        "duration": 32,
        "start_time": "2023-04-02T15:16:45.565Z"
      },
      {
        "duration": 35,
        "start_time": "2023-04-02T15:16:45.599Z"
      },
      {
        "duration": 10,
        "start_time": "2023-04-02T15:16:45.635Z"
      },
      {
        "duration": 5,
        "start_time": "2023-04-02T15:16:45.647Z"
      },
      {
        "duration": 28,
        "start_time": "2023-04-02T15:16:45.653Z"
      },
      {
        "duration": 223,
        "start_time": "2023-04-02T15:16:45.682Z"
      },
      {
        "duration": 2,
        "start_time": "2023-04-02T15:16:45.907Z"
      },
      {
        "duration": 76,
        "start_time": "2023-04-02T15:16:45.913Z"
      },
      {
        "duration": 11,
        "start_time": "2023-04-02T15:16:45.990Z"
      },
      {
        "duration": 248,
        "start_time": "2023-04-02T15:16:46.002Z"
      },
      {
        "duration": 10,
        "start_time": "2023-04-02T15:16:46.252Z"
      },
      {
        "duration": 7,
        "start_time": "2023-04-02T15:16:46.286Z"
      },
      {
        "duration": 40,
        "start_time": "2023-04-02T15:16:46.295Z"
      },
      {
        "duration": 3,
        "start_time": "2023-04-02T15:16:46.336Z"
      },
      {
        "duration": 148,
        "start_time": "2023-04-02T15:16:46.341Z"
      },
      {
        "duration": 12,
        "start_time": "2023-04-02T15:16:46.492Z"
      },
      {
        "duration": 24,
        "start_time": "2023-04-02T15:16:46.506Z"
      },
      {
        "duration": 10,
        "start_time": "2023-04-02T15:16:46.531Z"
      },
      {
        "duration": 10,
        "start_time": "2023-04-02T15:16:46.542Z"
      },
      {
        "duration": 27,
        "start_time": "2023-04-02T15:16:46.554Z"
      },
      {
        "duration": 22,
        "start_time": "2023-04-02T15:16:46.582Z"
      },
      {
        "duration": 8,
        "start_time": "2023-04-02T15:16:46.606Z"
      },
      {
        "duration": 11,
        "start_time": "2023-04-02T15:16:46.616Z"
      },
      {
        "duration": 10,
        "start_time": "2023-04-02T15:16:46.629Z"
      },
      {
        "duration": 7,
        "start_time": "2023-04-02T15:16:46.641Z"
      },
      {
        "duration": 6,
        "start_time": "2023-04-02T15:16:46.649Z"
      },
      {
        "duration": 9,
        "start_time": "2023-04-02T15:16:46.657Z"
      },
      {
        "duration": 42,
        "start_time": "2023-04-02T15:16:46.668Z"
      },
      {
        "duration": 17,
        "start_time": "2023-04-02T15:16:46.712Z"
      },
      {
        "duration": 16,
        "start_time": "2023-04-02T15:16:46.731Z"
      },
      {
        "duration": 4,
        "start_time": "2023-04-02T15:16:46.749Z"
      },
      {
        "duration": 8,
        "start_time": "2023-04-02T15:16:46.755Z"
      },
      {
        "duration": 75,
        "start_time": "2023-04-02T15:16:46.765Z"
      },
      {
        "duration": 7,
        "start_time": "2023-04-02T15:16:46.842Z"
      },
      {
        "duration": 36,
        "start_time": "2023-04-02T15:16:46.851Z"
      },
      {
        "duration": 15,
        "start_time": "2023-04-02T15:16:46.888Z"
      },
      {
        "duration": 24,
        "start_time": "2023-04-02T15:16:46.905Z"
      },
      {
        "duration": 12,
        "start_time": "2023-04-02T15:16:46.930Z"
      },
      {
        "duration": 8,
        "start_time": "2023-04-02T15:16:46.944Z"
      },
      {
        "duration": 6,
        "start_time": "2023-04-02T15:16:46.953Z"
      },
      {
        "duration": 210,
        "start_time": "2023-04-02T15:16:46.960Z"
      },
      {
        "duration": 167,
        "start_time": "2023-04-02T15:16:47.171Z"
      },
      {
        "duration": 5,
        "start_time": "2023-04-02T15:16:47.340Z"
      },
      {
        "duration": 13,
        "start_time": "2023-04-02T15:16:47.346Z"
      },
      {
        "duration": 34,
        "start_time": "2023-04-02T15:16:47.361Z"
      },
      {
        "duration": 791,
        "start_time": "2023-04-02T15:16:47.397Z"
      },
      {
        "duration": 19,
        "start_time": "2023-04-02T15:16:48.190Z"
      },
      {
        "duration": 90,
        "start_time": "2023-04-02T15:16:48.210Z"
      },
      {
        "duration": 15,
        "start_time": "2023-04-02T15:16:48.302Z"
      },
      {
        "duration": 45,
        "start_time": "2023-04-02T15:16:48.378Z"
      },
      {
        "duration": 5,
        "start_time": "2023-04-02T15:16:48.424Z"
      },
      {
        "duration": 10,
        "start_time": "2023-04-02T15:16:48.431Z"
      },
      {
        "duration": 7,
        "start_time": "2023-04-02T15:16:48.443Z"
      },
      {
        "duration": 35,
        "start_time": "2023-04-02T15:16:48.451Z"
      },
      {
        "duration": 15,
        "start_time": "2023-04-02T15:16:48.488Z"
      },
      {
        "duration": 34,
        "start_time": "2023-04-02T15:19:30.893Z"
      },
      {
        "duration": 6,
        "start_time": "2023-04-02T15:22:42.068Z"
      },
      {
        "duration": 7,
        "start_time": "2023-04-02T15:22:43.385Z"
      },
      {
        "duration": 6,
        "start_time": "2023-04-02T15:22:44.764Z"
      },
      {
        "duration": 8,
        "start_time": "2023-04-02T15:22:45.903Z"
      },
      {
        "duration": 58,
        "start_time": "2023-04-02T17:17:05.674Z"
      },
      {
        "duration": 52,
        "start_time": "2023-04-02T17:18:07.850Z"
      },
      {
        "duration": 85,
        "start_time": "2023-04-02T17:20:19.888Z"
      },
      {
        "duration": 46,
        "start_time": "2023-04-02T17:25:03.401Z"
      },
      {
        "duration": 1165,
        "start_time": "2023-04-02T17:25:24.167Z"
      },
      {
        "duration": 1181,
        "start_time": "2023-04-02T17:25:25.334Z"
      },
      {
        "duration": 13,
        "start_time": "2023-04-02T17:25:26.517Z"
      },
      {
        "duration": 8,
        "start_time": "2023-04-02T17:25:26.532Z"
      },
      {
        "duration": 9,
        "start_time": "2023-04-02T17:25:26.543Z"
      },
      {
        "duration": 13,
        "start_time": "2023-04-02T17:25:26.554Z"
      },
      {
        "duration": 584,
        "start_time": "2023-04-02T17:25:26.569Z"
      },
      {
        "duration": 6,
        "start_time": "2023-04-02T17:25:27.154Z"
      },
      {
        "duration": 6,
        "start_time": "2023-04-02T17:25:27.162Z"
      },
      {
        "duration": 15,
        "start_time": "2023-04-02T17:25:27.169Z"
      },
      {
        "duration": 111,
        "start_time": "2023-04-02T17:25:27.186Z"
      },
      {
        "duration": 472,
        "start_time": "2023-04-02T17:25:27.299Z"
      },
      {
        "duration": 9,
        "start_time": "2023-04-02T17:25:27.772Z"
      },
      {
        "duration": 14,
        "start_time": "2023-04-02T17:25:27.784Z"
      },
      {
        "duration": 43,
        "start_time": "2023-04-02T17:25:27.799Z"
      },
      {
        "duration": 22,
        "start_time": "2023-04-02T17:25:27.843Z"
      },
      {
        "duration": 15,
        "start_time": "2023-04-02T17:25:27.867Z"
      },
      {
        "duration": 7,
        "start_time": "2023-04-02T17:25:27.884Z"
      },
      {
        "duration": 6,
        "start_time": "2023-04-02T17:25:27.892Z"
      },
      {
        "duration": 16,
        "start_time": "2023-04-02T17:25:27.899Z"
      },
      {
        "duration": 25,
        "start_time": "2023-04-02T17:25:27.917Z"
      },
      {
        "duration": 17,
        "start_time": "2023-04-02T17:25:27.943Z"
      },
      {
        "duration": 14,
        "start_time": "2023-04-02T17:25:27.962Z"
      },
      {
        "duration": 4,
        "start_time": "2023-04-02T17:25:27.978Z"
      },
      {
        "duration": 13,
        "start_time": "2023-04-02T17:25:27.984Z"
      },
      {
        "duration": 386,
        "start_time": "2023-04-02T17:25:27.998Z"
      },
      {
        "duration": 0,
        "start_time": "2023-04-02T17:25:28.387Z"
      },
      {
        "duration": 0,
        "start_time": "2023-04-02T17:25:28.388Z"
      },
      {
        "duration": 0,
        "start_time": "2023-04-02T17:25:28.389Z"
      },
      {
        "duration": 1,
        "start_time": "2023-04-02T17:25:28.390Z"
      },
      {
        "duration": 0,
        "start_time": "2023-04-02T17:25:28.392Z"
      },
      {
        "duration": 0,
        "start_time": "2023-04-02T17:25:28.393Z"
      },
      {
        "duration": 0,
        "start_time": "2023-04-02T17:25:28.394Z"
      },
      {
        "duration": 0,
        "start_time": "2023-04-02T17:25:28.395Z"
      },
      {
        "duration": 0,
        "start_time": "2023-04-02T17:25:28.396Z"
      },
      {
        "duration": 0,
        "start_time": "2023-04-02T17:25:28.397Z"
      },
      {
        "duration": 0,
        "start_time": "2023-04-02T17:25:28.399Z"
      },
      {
        "duration": 0,
        "start_time": "2023-04-02T17:25:28.400Z"
      },
      {
        "duration": 0,
        "start_time": "2023-04-02T17:25:28.401Z"
      },
      {
        "duration": 0,
        "start_time": "2023-04-02T17:25:28.402Z"
      },
      {
        "duration": 0,
        "start_time": "2023-04-02T17:25:28.403Z"
      },
      {
        "duration": 0,
        "start_time": "2023-04-02T17:25:28.404Z"
      },
      {
        "duration": 0,
        "start_time": "2023-04-02T17:25:28.405Z"
      },
      {
        "duration": 0,
        "start_time": "2023-04-02T17:25:28.406Z"
      },
      {
        "duration": 0,
        "start_time": "2023-04-02T17:25:28.441Z"
      },
      {
        "duration": 0,
        "start_time": "2023-04-02T17:25:28.441Z"
      },
      {
        "duration": 0,
        "start_time": "2023-04-02T17:25:28.442Z"
      },
      {
        "duration": 0,
        "start_time": "2023-04-02T17:25:28.444Z"
      },
      {
        "duration": 0,
        "start_time": "2023-04-02T17:25:28.445Z"
      },
      {
        "duration": 0,
        "start_time": "2023-04-02T17:25:28.446Z"
      },
      {
        "duration": 0,
        "start_time": "2023-04-02T17:25:28.447Z"
      },
      {
        "duration": 0,
        "start_time": "2023-04-02T17:25:28.448Z"
      },
      {
        "duration": 0,
        "start_time": "2023-04-02T17:25:28.449Z"
      },
      {
        "duration": 0,
        "start_time": "2023-04-02T17:25:28.450Z"
      },
      {
        "duration": 0,
        "start_time": "2023-04-02T17:25:28.451Z"
      },
      {
        "duration": 0,
        "start_time": "2023-04-02T17:25:28.452Z"
      },
      {
        "duration": 0,
        "start_time": "2023-04-02T17:25:28.453Z"
      },
      {
        "duration": 0,
        "start_time": "2023-04-02T17:25:28.454Z"
      },
      {
        "duration": 0,
        "start_time": "2023-04-02T17:25:28.455Z"
      },
      {
        "duration": 0,
        "start_time": "2023-04-02T17:25:28.456Z"
      },
      {
        "duration": 1,
        "start_time": "2023-04-02T17:25:28.457Z"
      },
      {
        "duration": 1,
        "start_time": "2023-04-02T17:25:28.458Z"
      },
      {
        "duration": 0,
        "start_time": "2023-04-02T17:25:28.460Z"
      },
      {
        "duration": 0,
        "start_time": "2023-04-02T17:25:28.461Z"
      },
      {
        "duration": 0,
        "start_time": "2023-04-02T17:25:28.462Z"
      },
      {
        "duration": 0,
        "start_time": "2023-04-02T17:25:28.463Z"
      },
      {
        "duration": 0,
        "start_time": "2023-04-02T17:25:28.464Z"
      },
      {
        "duration": 0,
        "start_time": "2023-04-02T17:25:28.465Z"
      },
      {
        "duration": 0,
        "start_time": "2023-04-02T17:25:28.466Z"
      },
      {
        "duration": 0,
        "start_time": "2023-04-02T17:25:28.468Z"
      },
      {
        "duration": 0,
        "start_time": "2023-04-02T17:25:28.469Z"
      },
      {
        "duration": 0,
        "start_time": "2023-04-02T17:25:28.470Z"
      },
      {
        "duration": 187,
        "start_time": "2023-04-02T17:26:48.705Z"
      },
      {
        "duration": 308,
        "start_time": "2023-04-02T17:28:29.864Z"
      },
      {
        "duration": 147,
        "start_time": "2023-04-02T17:29:00.001Z"
      },
      {
        "duration": 108,
        "start_time": "2023-04-02T17:29:38.235Z"
      },
      {
        "duration": 184,
        "start_time": "2023-04-02T17:30:05.523Z"
      },
      {
        "duration": 10,
        "start_time": "2023-04-02T17:32:50.667Z"
      },
      {
        "duration": 11,
        "start_time": "2023-04-02T17:34:12.112Z"
      },
      {
        "duration": 4,
        "start_time": "2023-04-02T17:35:46.353Z"
      },
      {
        "duration": 8,
        "start_time": "2023-04-02T17:35:56.213Z"
      },
      {
        "duration": 10,
        "start_time": "2023-04-02T17:36:14.773Z"
      },
      {
        "duration": 12,
        "start_time": "2023-04-02T17:36:30.325Z"
      },
      {
        "duration": 137,
        "start_time": "2023-04-02T17:37:11.428Z"
      },
      {
        "duration": 48,
        "start_time": "2023-04-02T17:39:30.478Z"
      },
      {
        "duration": 206,
        "start_time": "2023-04-02T17:39:57.876Z"
      },
      {
        "duration": 11,
        "start_time": "2023-04-02T17:40:21.990Z"
      },
      {
        "duration": 42,
        "start_time": "2023-04-02T17:41:18.276Z"
      },
      {
        "duration": 155,
        "start_time": "2023-04-02T17:41:33.581Z"
      },
      {
        "duration": 8,
        "start_time": "2023-04-02T17:42:34.494Z"
      },
      {
        "duration": 223,
        "start_time": "2023-04-02T17:42:36.230Z"
      },
      {
        "duration": 14,
        "start_time": "2023-04-02T17:42:58.989Z"
      },
      {
        "duration": 156,
        "start_time": "2023-04-02T17:43:34.235Z"
      },
      {
        "duration": 166,
        "start_time": "2023-04-02T17:44:19.900Z"
      },
      {
        "duration": 226,
        "start_time": "2023-04-02T17:46:05.894Z"
      },
      {
        "duration": 213,
        "start_time": "2023-04-02T17:46:32.522Z"
      },
      {
        "duration": 161,
        "start_time": "2023-04-02T17:47:03.317Z"
      },
      {
        "duration": 201,
        "start_time": "2023-04-02T17:47:27.705Z"
      },
      {
        "duration": 9,
        "start_time": "2023-04-02T18:16:24.400Z"
      },
      {
        "duration": 4,
        "start_time": "2023-04-02T18:16:34.826Z"
      },
      {
        "duration": 31,
        "start_time": "2023-04-02T18:16:36.810Z"
      },
      {
        "duration": 466,
        "start_time": "2023-04-02T18:17:21.576Z"
      },
      {
        "duration": 8,
        "start_time": "2023-04-02T18:20:44.046Z"
      },
      {
        "duration": 71,
        "start_time": "2023-04-02T18:22:36.477Z"
      },
      {
        "duration": 4,
        "start_time": "2023-04-02T18:35:07.481Z"
      },
      {
        "duration": 1485,
        "start_time": "2023-04-02T18:35:07.486Z"
      },
      {
        "duration": 9,
        "start_time": "2023-04-02T18:35:08.972Z"
      },
      {
        "duration": 15,
        "start_time": "2023-04-02T18:35:08.983Z"
      },
      {
        "duration": 10,
        "start_time": "2023-04-02T18:35:09.000Z"
      },
      {
        "duration": 9,
        "start_time": "2023-04-02T18:35:09.012Z"
      },
      {
        "duration": 583,
        "start_time": "2023-04-02T18:35:09.022Z"
      },
      {
        "duration": 7,
        "start_time": "2023-04-02T18:35:09.607Z"
      },
      {
        "duration": 22,
        "start_time": "2023-04-02T18:35:09.619Z"
      },
      {
        "duration": 21,
        "start_time": "2023-04-02T18:35:09.643Z"
      },
      {
        "duration": 120,
        "start_time": "2023-04-02T18:35:09.666Z"
      },
      {
        "duration": 462,
        "start_time": "2023-04-02T18:35:09.788Z"
      },
      {
        "duration": 11,
        "start_time": "2023-04-02T18:35:10.252Z"
      },
      {
        "duration": 16,
        "start_time": "2023-04-02T18:35:10.265Z"
      },
      {
        "duration": 20,
        "start_time": "2023-04-02T18:35:10.283Z"
      },
      {
        "duration": 24,
        "start_time": "2023-04-02T18:35:10.305Z"
      },
      {
        "duration": 18,
        "start_time": "2023-04-02T18:35:10.331Z"
      },
      {
        "duration": 6,
        "start_time": "2023-04-02T18:35:10.352Z"
      },
      {
        "duration": 32,
        "start_time": "2023-04-02T18:35:10.360Z"
      },
      {
        "duration": 18,
        "start_time": "2023-04-02T18:35:10.394Z"
      },
      {
        "duration": 7,
        "start_time": "2023-04-02T18:35:10.414Z"
      },
      {
        "duration": 22,
        "start_time": "2023-04-02T18:35:10.423Z"
      },
      {
        "duration": 17,
        "start_time": "2023-04-02T18:35:10.447Z"
      },
      {
        "duration": 3,
        "start_time": "2023-04-02T18:35:10.469Z"
      },
      {
        "duration": 13,
        "start_time": "2023-04-02T18:35:10.474Z"
      },
      {
        "duration": 10,
        "start_time": "2023-04-02T18:35:10.488Z"
      },
      {
        "duration": 8,
        "start_time": "2023-04-02T18:35:10.499Z"
      },
      {
        "duration": 5,
        "start_time": "2023-04-02T18:35:10.509Z"
      },
      {
        "duration": 86,
        "start_time": "2023-04-02T18:35:10.516Z"
      },
      {
        "duration": 2,
        "start_time": "2023-04-02T18:35:10.605Z"
      },
      {
        "duration": 82,
        "start_time": "2023-04-02T18:35:10.610Z"
      },
      {
        "duration": 52,
        "start_time": "2023-04-02T18:35:10.694Z"
      },
      {
        "duration": 435,
        "start_time": "2023-04-02T18:35:10.749Z"
      },
      {
        "duration": 58,
        "start_time": "2023-04-02T18:35:11.186Z"
      },
      {
        "duration": 11,
        "start_time": "2023-04-02T18:35:11.246Z"
      },
      {
        "duration": 21,
        "start_time": "2023-04-02T18:35:11.259Z"
      },
      {
        "duration": 2,
        "start_time": "2023-04-02T18:35:11.282Z"
      },
      {
        "duration": 169,
        "start_time": "2023-04-02T18:35:11.286Z"
      },
      {
        "duration": 14,
        "start_time": "2023-04-02T18:35:11.457Z"
      },
      {
        "duration": 15,
        "start_time": "2023-04-02T18:35:11.473Z"
      },
      {
        "duration": 10,
        "start_time": "2023-04-02T18:35:11.489Z"
      },
      {
        "duration": 40,
        "start_time": "2023-04-02T18:35:11.501Z"
      },
      {
        "duration": 11,
        "start_time": "2023-04-02T18:35:11.543Z"
      },
      {
        "duration": 17,
        "start_time": "2023-04-02T18:35:11.556Z"
      },
      {
        "duration": 7,
        "start_time": "2023-04-02T18:35:11.575Z"
      },
      {
        "duration": 5,
        "start_time": "2023-04-02T18:35:11.584Z"
      },
      {
        "duration": 8,
        "start_time": "2023-04-02T18:35:11.591Z"
      },
      {
        "duration": 41,
        "start_time": "2023-04-02T18:35:11.601Z"
      },
      {
        "duration": 17,
        "start_time": "2023-04-02T18:35:11.644Z"
      },
      {
        "duration": 11,
        "start_time": "2023-04-02T18:35:11.663Z"
      },
      {
        "duration": 17,
        "start_time": "2023-04-02T18:35:11.676Z"
      },
      {
        "duration": 6,
        "start_time": "2023-04-02T18:35:11.695Z"
      },
      {
        "duration": 43,
        "start_time": "2023-04-02T18:35:11.702Z"
      },
      {
        "duration": 79,
        "start_time": "2023-04-02T18:35:11.747Z"
      },
      {
        "duration": 8,
        "start_time": "2023-04-02T18:35:11.841Z"
      },
      {
        "duration": 19,
        "start_time": "2023-04-02T18:35:11.852Z"
      },
      {
        "duration": 20,
        "start_time": "2023-04-02T18:35:11.873Z"
      },
      {
        "duration": 16,
        "start_time": "2023-04-02T18:35:11.895Z"
      },
      {
        "duration": 38,
        "start_time": "2023-04-02T18:35:11.915Z"
      },
      {
        "duration": 9,
        "start_time": "2023-04-02T18:35:11.955Z"
      },
      {
        "duration": 12,
        "start_time": "2023-04-02T18:35:11.965Z"
      },
      {
        "duration": 206,
        "start_time": "2023-04-02T18:35:11.978Z"
      },
      {
        "duration": 191,
        "start_time": "2023-04-02T18:35:12.186Z"
      },
      {
        "duration": 9,
        "start_time": "2023-04-02T18:35:12.379Z"
      },
      {
        "duration": 23,
        "start_time": "2023-04-02T18:35:12.390Z"
      },
      {
        "duration": 20,
        "start_time": "2023-04-02T18:35:12.414Z"
      },
      {
        "duration": 69,
        "start_time": "2023-04-02T18:35:12.440Z"
      },
      {
        "duration": 29,
        "start_time": "2023-04-02T18:35:12.511Z"
      },
      {
        "duration": 46,
        "start_time": "2023-04-02T18:35:12.544Z"
      },
      {
        "duration": 17,
        "start_time": "2023-04-02T18:35:12.593Z"
      },
      {
        "duration": 72,
        "start_time": "2023-04-02T18:35:12.612Z"
      },
      {
        "duration": 8,
        "start_time": "2023-04-02T18:35:12.686Z"
      },
      {
        "duration": 33,
        "start_time": "2023-04-02T18:35:12.696Z"
      },
      {
        "duration": 43,
        "start_time": "2023-04-02T18:35:12.731Z"
      },
      {
        "duration": 18,
        "start_time": "2023-04-02T18:35:12.775Z"
      },
      {
        "duration": 4,
        "start_time": "2023-04-02T18:41:20.931Z"
      },
      {
        "duration": 4,
        "start_time": "2023-04-02T18:42:03.042Z"
      },
      {
        "duration": 16,
        "start_time": "2023-04-02T18:42:29.237Z"
      },
      {
        "duration": 11,
        "start_time": "2023-04-02T18:42:33.508Z"
      },
      {
        "duration": 11,
        "start_time": "2023-04-02T18:42:50.182Z"
      },
      {
        "duration": 17,
        "start_time": "2023-04-02T18:42:51.927Z"
      },
      {
        "duration": 14,
        "start_time": "2023-04-02T18:42:55.794Z"
      },
      {
        "duration": 16,
        "start_time": "2023-04-02T18:42:57.526Z"
      },
      {
        "duration": 9,
        "start_time": "2023-04-02T18:43:02.670Z"
      },
      {
        "duration": 13,
        "start_time": "2023-04-02T18:43:04.042Z"
      },
      {
        "duration": 3,
        "start_time": "2023-04-02T18:43:06.266Z"
      },
      {
        "duration": 4,
        "start_time": "2023-04-02T18:43:17.491Z"
      },
      {
        "duration": 3,
        "start_time": "2023-04-02T18:43:18.809Z"
      },
      {
        "duration": 3,
        "start_time": "2023-04-02T18:44:12.440Z"
      },
      {
        "duration": 1253,
        "start_time": "2023-04-03T05:31:28.521Z"
      },
      {
        "duration": 1284,
        "start_time": "2023-04-03T05:31:29.776Z"
      },
      {
        "duration": 12,
        "start_time": "2023-04-03T05:31:31.062Z"
      },
      {
        "duration": 24,
        "start_time": "2023-04-03T05:31:31.075Z"
      },
      {
        "duration": 27,
        "start_time": "2023-04-03T05:31:31.101Z"
      },
      {
        "duration": 41,
        "start_time": "2023-04-03T05:31:31.129Z"
      },
      {
        "duration": 471,
        "start_time": "2023-04-03T05:31:31.172Z"
      },
      {
        "duration": 4,
        "start_time": "2023-04-03T05:31:31.644Z"
      },
      {
        "duration": 31,
        "start_time": "2023-04-03T05:31:31.649Z"
      },
      {
        "duration": 42,
        "start_time": "2023-04-03T05:31:31.681Z"
      },
      {
        "duration": 120,
        "start_time": "2023-04-03T05:31:31.724Z"
      },
      {
        "duration": 346,
        "start_time": "2023-04-03T05:31:31.845Z"
      },
      {
        "duration": 8,
        "start_time": "2023-04-03T05:31:32.192Z"
      },
      {
        "duration": 21,
        "start_time": "2023-04-03T05:31:32.203Z"
      },
      {
        "duration": 12,
        "start_time": "2023-04-03T05:31:32.226Z"
      },
      {
        "duration": 13,
        "start_time": "2023-04-03T05:31:32.240Z"
      },
      {
        "duration": 28,
        "start_time": "2023-04-03T05:31:32.255Z"
      },
      {
        "duration": 4,
        "start_time": "2023-04-03T05:31:32.285Z"
      },
      {
        "duration": 9,
        "start_time": "2023-04-03T05:31:32.291Z"
      },
      {
        "duration": 11,
        "start_time": "2023-04-03T05:31:32.301Z"
      },
      {
        "duration": 4,
        "start_time": "2023-04-03T05:31:32.313Z"
      },
      {
        "duration": 18,
        "start_time": "2023-04-03T05:31:32.318Z"
      },
      {
        "duration": 12,
        "start_time": "2023-04-03T05:31:32.338Z"
      },
      {
        "duration": 21,
        "start_time": "2023-04-03T05:31:32.351Z"
      },
      {
        "duration": 10,
        "start_time": "2023-04-03T05:31:32.374Z"
      },
      {
        "duration": 21,
        "start_time": "2023-04-03T05:31:32.386Z"
      },
      {
        "duration": 12,
        "start_time": "2023-04-03T05:31:32.408Z"
      },
      {
        "duration": 3,
        "start_time": "2023-04-03T05:31:32.421Z"
      },
      {
        "duration": 354,
        "start_time": "2023-04-03T05:31:32.426Z"
      },
      {
        "duration": 2,
        "start_time": "2023-04-03T05:31:32.782Z"
      },
      {
        "duration": 103,
        "start_time": "2023-04-03T05:31:32.785Z"
      },
      {
        "duration": 14,
        "start_time": "2023-04-03T05:31:32.889Z"
      },
      {
        "duration": 333,
        "start_time": "2023-04-03T05:31:32.904Z"
      },
      {
        "duration": 9,
        "start_time": "2023-04-03T05:31:33.239Z"
      },
      {
        "duration": 6,
        "start_time": "2023-04-03T05:31:33.250Z"
      },
      {
        "duration": 20,
        "start_time": "2023-04-03T05:31:33.272Z"
      },
      {
        "duration": 2,
        "start_time": "2023-04-03T05:31:33.294Z"
      },
      {
        "duration": 172,
        "start_time": "2023-04-03T05:31:33.297Z"
      },
      {
        "duration": 9,
        "start_time": "2023-04-03T05:31:33.471Z"
      },
      {
        "duration": 13,
        "start_time": "2023-04-03T05:31:33.481Z"
      },
      {
        "duration": 8,
        "start_time": "2023-04-03T05:31:33.498Z"
      },
      {
        "duration": 15,
        "start_time": "2023-04-03T05:31:33.507Z"
      },
      {
        "duration": 10,
        "start_time": "2023-04-03T05:31:33.523Z"
      },
      {
        "duration": 11,
        "start_time": "2023-04-03T05:31:33.535Z"
      },
      {
        "duration": 25,
        "start_time": "2023-04-03T05:31:33.547Z"
      },
      {
        "duration": 3,
        "start_time": "2023-04-03T05:31:33.573Z"
      },
      {
        "duration": 5,
        "start_time": "2023-04-03T05:31:33.577Z"
      },
      {
        "duration": 3,
        "start_time": "2023-04-03T05:31:33.584Z"
      },
      {
        "duration": 8,
        "start_time": "2023-04-03T05:31:33.589Z"
      },
      {
        "duration": 12,
        "start_time": "2023-04-03T05:31:33.599Z"
      },
      {
        "duration": 8,
        "start_time": "2023-04-03T05:31:33.613Z"
      },
      {
        "duration": 19,
        "start_time": "2023-04-03T05:31:33.622Z"
      },
      {
        "duration": 30,
        "start_time": "2023-04-03T05:31:33.643Z"
      },
      {
        "duration": 8,
        "start_time": "2023-04-03T05:31:33.674Z"
      },
      {
        "duration": 59,
        "start_time": "2023-04-03T05:31:33.684Z"
      },
      {
        "duration": 6,
        "start_time": "2023-04-03T05:31:33.745Z"
      },
      {
        "duration": 11,
        "start_time": "2023-04-03T05:31:33.772Z"
      },
      {
        "duration": 15,
        "start_time": "2023-04-03T05:31:33.784Z"
      },
      {
        "duration": 13,
        "start_time": "2023-04-03T05:31:33.801Z"
      },
      {
        "duration": 11,
        "start_time": "2023-04-03T05:31:33.816Z"
      },
      {
        "duration": 4,
        "start_time": "2023-04-03T05:31:33.829Z"
      },
      {
        "duration": 9,
        "start_time": "2023-04-03T05:31:33.834Z"
      },
      {
        "duration": 187,
        "start_time": "2023-04-03T05:31:33.844Z"
      },
      {
        "duration": 153,
        "start_time": "2023-04-03T05:31:34.033Z"
      },
      {
        "duration": 7,
        "start_time": "2023-04-03T05:31:34.187Z"
      },
      {
        "duration": 4,
        "start_time": "2023-04-03T05:31:34.196Z"
      },
      {
        "duration": 19,
        "start_time": "2023-04-03T05:31:34.201Z"
      },
      {
        "duration": 59,
        "start_time": "2023-04-03T05:31:34.221Z"
      },
      {
        "duration": 17,
        "start_time": "2023-04-03T05:31:34.282Z"
      },
      {
        "duration": 41,
        "start_time": "2023-04-03T05:31:34.301Z"
      },
      {
        "duration": 29,
        "start_time": "2023-04-03T05:31:34.343Z"
      },
      {
        "duration": 36,
        "start_time": "2023-04-03T05:31:34.373Z"
      },
      {
        "duration": 8,
        "start_time": "2023-04-03T05:31:34.411Z"
      },
      {
        "duration": 16,
        "start_time": "2023-04-03T05:31:34.420Z"
      },
      {
        "duration": 21,
        "start_time": "2023-04-03T05:31:34.437Z"
      },
      {
        "duration": 9,
        "start_time": "2023-04-03T05:31:34.460Z"
      },
      {
        "duration": 158,
        "start_time": "2023-04-03T05:38:24.687Z"
      },
      {
        "duration": 2,
        "start_time": "2023-04-03T05:40:22.433Z"
      },
      {
        "duration": 17,
        "start_time": "2023-04-03T05:40:28.990Z"
      },
      {
        "duration": 22,
        "start_time": "2023-04-03T05:41:07.516Z"
      },
      {
        "duration": 12,
        "start_time": "2023-04-03T05:41:22.422Z"
      },
      {
        "duration": 13,
        "start_time": "2023-04-03T05:41:56.720Z"
      },
      {
        "duration": 1128,
        "start_time": "2023-04-03T05:44:21.676Z"
      },
      {
        "duration": 7,
        "start_time": "2023-04-03T05:44:31.616Z"
      },
      {
        "duration": 4,
        "start_time": "2023-04-03T05:44:35.929Z"
      },
      {
        "duration": 43,
        "start_time": "2023-04-03T05:44:39.521Z"
      },
      {
        "duration": 2,
        "start_time": "2023-04-03T05:44:47.446Z"
      },
      {
        "duration": 61,
        "start_time": "2023-04-03T05:44:48.166Z"
      },
      {
        "duration": 12,
        "start_time": "2023-04-03T05:44:49.151Z"
      },
      {
        "duration": 3,
        "start_time": "2023-04-03T05:44:49.958Z"
      },
      {
        "duration": 25,
        "start_time": "2023-04-03T05:44:51.382Z"
      },
      {
        "duration": 14,
        "start_time": "2023-04-03T05:44:51.526Z"
      },
      {
        "duration": 50,
        "start_time": "2023-04-03T05:44:53.335Z"
      },
      {
        "duration": 51,
        "start_time": "2023-04-03T05:45:46.744Z"
      },
      {
        "duration": 22,
        "start_time": "2023-04-03T05:47:01.877Z"
      },
      {
        "duration": 18,
        "start_time": "2023-04-03T05:50:43.129Z"
      },
      {
        "duration": 1235,
        "start_time": "2023-04-03T05:51:39.252Z"
      },
      {
        "duration": 1455,
        "start_time": "2023-04-03T05:52:42.826Z"
      },
      {
        "duration": 66,
        "start_time": "2023-04-03T05:52:57.625Z"
      },
      {
        "duration": 2,
        "start_time": "2023-04-03T06:01:42.925Z"
      },
      {
        "duration": 14,
        "start_time": "2023-04-03T06:10:55.011Z"
      },
      {
        "duration": 36,
        "start_time": "2023-04-03T06:13:47.920Z"
      },
      {
        "duration": 2873,
        "start_time": "2023-04-03T06:14:51.534Z"
      },
      {
        "duration": 50,
        "start_time": "2023-04-03T06:15:26.713Z"
      },
      {
        "duration": 7,
        "start_time": "2023-04-03T06:22:03.657Z"
      },
      {
        "duration": 75,
        "start_time": "2023-04-03T06:32:54.605Z"
      },
      {
        "duration": 9,
        "start_time": "2023-04-03T06:42:39.429Z"
      },
      {
        "duration": 16,
        "start_time": "2023-04-03T06:45:55.362Z"
      },
      {
        "duration": 14,
        "start_time": "2023-04-03T06:47:21.232Z"
      },
      {
        "duration": 4,
        "start_time": "2023-04-03T06:48:10.152Z"
      },
      {
        "duration": 10,
        "start_time": "2023-04-03T06:48:24.986Z"
      },
      {
        "duration": 11,
        "start_time": "2023-04-03T06:48:59.343Z"
      },
      {
        "duration": 13,
        "start_time": "2023-04-03T06:49:30.621Z"
      },
      {
        "duration": 17,
        "start_time": "2023-04-03T06:50:05.820Z"
      },
      {
        "duration": 20,
        "start_time": "2023-04-03T06:51:18.069Z"
      },
      {
        "duration": 7,
        "start_time": "2023-04-03T06:51:37.833Z"
      },
      {
        "duration": 22,
        "start_time": "2023-04-03T06:51:49.969Z"
      },
      {
        "duration": 93,
        "start_time": "2023-04-03T06:54:24.820Z"
      },
      {
        "duration": 20,
        "start_time": "2023-04-03T06:54:33.245Z"
      },
      {
        "duration": 20,
        "start_time": "2023-04-03T06:57:52.439Z"
      },
      {
        "duration": 60,
        "start_time": "2023-04-03T06:58:37.528Z"
      },
      {
        "duration": 1172,
        "start_time": "2023-04-03T07:01:14.754Z"
      },
      {
        "duration": 71,
        "start_time": "2023-04-03T07:02:22.953Z"
      },
      {
        "duration": 2288,
        "start_time": "2023-04-03T07:03:52.938Z"
      },
      {
        "duration": 61,
        "start_time": "2023-04-03T07:04:21.357Z"
      },
      {
        "duration": 2705,
        "start_time": "2023-04-03T07:13:12.321Z"
      },
      {
        "duration": 37,
        "start_time": "2023-04-03T07:14:58.570Z"
      },
      {
        "duration": 4,
        "start_time": "2023-04-03T07:16:02.834Z"
      },
      {
        "duration": 1307,
        "start_time": "2023-04-03T07:16:02.843Z"
      },
      {
        "duration": 8,
        "start_time": "2023-04-03T07:16:04.152Z"
      },
      {
        "duration": 8,
        "start_time": "2023-04-03T07:16:04.162Z"
      },
      {
        "duration": 38,
        "start_time": "2023-04-03T07:16:04.172Z"
      },
      {
        "duration": 14,
        "start_time": "2023-04-03T07:16:04.212Z"
      },
      {
        "duration": 588,
        "start_time": "2023-04-03T07:16:04.228Z"
      },
      {
        "duration": 5,
        "start_time": "2023-04-03T07:16:04.817Z"
      },
      {
        "duration": 7,
        "start_time": "2023-04-03T07:16:04.824Z"
      },
      {
        "duration": 22,
        "start_time": "2023-04-03T07:16:04.833Z"
      },
      {
        "duration": 119,
        "start_time": "2023-04-03T07:16:04.858Z"
      },
      {
        "duration": 495,
        "start_time": "2023-04-03T07:16:04.986Z"
      },
      {
        "duration": 14,
        "start_time": "2023-04-03T07:16:05.483Z"
      },
      {
        "duration": 27,
        "start_time": "2023-04-03T07:16:05.499Z"
      },
      {
        "duration": 16,
        "start_time": "2023-04-03T07:16:05.527Z"
      },
      {
        "duration": 15,
        "start_time": "2023-04-03T07:16:05.545Z"
      },
      {
        "duration": 19,
        "start_time": "2023-04-03T07:16:05.561Z"
      },
      {
        "duration": 25,
        "start_time": "2023-04-03T07:16:05.582Z"
      },
      {
        "duration": 6,
        "start_time": "2023-04-03T07:16:05.609Z"
      },
      {
        "duration": 16,
        "start_time": "2023-04-03T07:16:05.616Z"
      },
      {
        "duration": 5,
        "start_time": "2023-04-03T07:16:05.634Z"
      },
      {
        "duration": 28,
        "start_time": "2023-04-03T07:16:05.640Z"
      },
      {
        "duration": 42,
        "start_time": "2023-04-03T07:16:05.677Z"
      },
      {
        "duration": 16,
        "start_time": "2023-04-03T07:16:05.720Z"
      },
      {
        "duration": 29,
        "start_time": "2023-04-03T07:16:05.738Z"
      },
      {
        "duration": 34,
        "start_time": "2023-04-03T07:16:05.769Z"
      },
      {
        "duration": 24,
        "start_time": "2023-04-03T07:16:05.805Z"
      },
      {
        "duration": 18,
        "start_time": "2023-04-03T07:16:05.831Z"
      },
      {
        "duration": 83,
        "start_time": "2023-04-03T07:16:05.855Z"
      },
      {
        "duration": 2,
        "start_time": "2023-04-03T07:16:05.940Z"
      },
      {
        "duration": 101,
        "start_time": "2023-04-03T07:16:05.945Z"
      },
      {
        "duration": 14,
        "start_time": "2023-04-03T07:16:06.048Z"
      },
      {
        "duration": 9,
        "start_time": "2023-04-03T07:16:06.064Z"
      },
      {
        "duration": 56,
        "start_time": "2023-04-03T07:16:06.078Z"
      },
      {
        "duration": 31,
        "start_time": "2023-04-03T07:16:06.137Z"
      },
      {
        "duration": 132,
        "start_time": "2023-04-03T07:16:06.173Z"
      },
      {
        "duration": 10,
        "start_time": "2023-04-03T07:16:06.308Z"
      },
      {
        "duration": 22,
        "start_time": "2023-04-03T07:16:06.320Z"
      },
      {
        "duration": 78,
        "start_time": "2023-04-03T07:16:06.344Z"
      },
      {
        "duration": 4,
        "start_time": "2023-04-03T07:16:06.423Z"
      },
      {
        "duration": 77,
        "start_time": "2023-04-03T07:16:06.429Z"
      },
      {
        "duration": 25,
        "start_time": "2023-04-03T07:16:06.508Z"
      },
      {
        "duration": 20,
        "start_time": "2023-04-03T07:16:06.535Z"
      },
      {
        "duration": 10,
        "start_time": "2023-04-03T07:16:06.557Z"
      },
      {
        "duration": 18,
        "start_time": "2023-04-03T07:16:06.569Z"
      },
      {
        "duration": 30,
        "start_time": "2023-04-03T07:16:06.598Z"
      },
      {
        "duration": 17,
        "start_time": "2023-04-03T07:16:06.629Z"
      },
      {
        "duration": 15,
        "start_time": "2023-04-03T07:16:06.647Z"
      },
      {
        "duration": 4,
        "start_time": "2023-04-03T07:16:06.664Z"
      },
      {
        "duration": 32,
        "start_time": "2023-04-03T07:16:06.670Z"
      },
      {
        "duration": 9,
        "start_time": "2023-04-03T07:16:06.704Z"
      },
      {
        "duration": 27,
        "start_time": "2023-04-03T07:16:06.715Z"
      },
      {
        "duration": 14,
        "start_time": "2023-04-03T07:16:06.744Z"
      },
      {
        "duration": 17,
        "start_time": "2023-04-03T07:16:06.760Z"
      },
      {
        "duration": 35,
        "start_time": "2023-04-03T07:16:06.780Z"
      },
      {
        "duration": 5,
        "start_time": "2023-04-03T07:16:06.817Z"
      },
      {
        "duration": 18,
        "start_time": "2023-04-03T07:16:06.823Z"
      },
      {
        "duration": 252,
        "start_time": "2023-04-03T07:16:06.843Z"
      },
      {
        "duration": 0,
        "start_time": "2023-04-03T07:16:07.097Z"
      },
      {
        "duration": 0,
        "start_time": "2023-04-03T07:16:07.101Z"
      },
      {
        "duration": 0,
        "start_time": "2023-04-03T07:16:07.102Z"
      },
      {
        "duration": 0,
        "start_time": "2023-04-03T07:16:07.103Z"
      },
      {
        "duration": 0,
        "start_time": "2023-04-03T07:16:07.105Z"
      },
      {
        "duration": 0,
        "start_time": "2023-04-03T07:16:07.106Z"
      },
      {
        "duration": 0,
        "start_time": "2023-04-03T07:16:07.107Z"
      },
      {
        "duration": 0,
        "start_time": "2023-04-03T07:16:07.108Z"
      },
      {
        "duration": 0,
        "start_time": "2023-04-03T07:16:07.109Z"
      },
      {
        "duration": 0,
        "start_time": "2023-04-03T07:16:07.118Z"
      },
      {
        "duration": 0,
        "start_time": "2023-04-03T07:16:07.120Z"
      },
      {
        "duration": 0,
        "start_time": "2023-04-03T07:16:07.126Z"
      },
      {
        "duration": 0,
        "start_time": "2023-04-03T07:16:07.127Z"
      },
      {
        "duration": 0,
        "start_time": "2023-04-03T07:16:07.128Z"
      },
      {
        "duration": 0,
        "start_time": "2023-04-03T07:16:07.129Z"
      },
      {
        "duration": 0,
        "start_time": "2023-04-03T07:16:07.130Z"
      },
      {
        "duration": 0,
        "start_time": "2023-04-03T07:16:07.131Z"
      },
      {
        "duration": 0,
        "start_time": "2023-04-03T07:16:07.132Z"
      },
      {
        "duration": 0,
        "start_time": "2023-04-03T07:16:07.132Z"
      },
      {
        "duration": 0,
        "start_time": "2023-04-03T07:16:07.133Z"
      },
      {
        "duration": 0,
        "start_time": "2023-04-03T07:16:07.134Z"
      },
      {
        "duration": 0,
        "start_time": "2023-04-03T07:16:07.134Z"
      },
      {
        "duration": 0,
        "start_time": "2023-04-03T07:16:07.135Z"
      },
      {
        "duration": 0,
        "start_time": "2023-04-03T07:16:07.136Z"
      },
      {
        "duration": 0,
        "start_time": "2023-04-03T07:16:07.136Z"
      },
      {
        "duration": 0,
        "start_time": "2023-04-03T07:16:07.137Z"
      },
      {
        "duration": 0,
        "start_time": "2023-04-03T07:16:07.137Z"
      },
      {
        "duration": 0,
        "start_time": "2023-04-03T07:16:07.138Z"
      },
      {
        "duration": 15,
        "start_time": "2023-04-03T07:16:58.508Z"
      },
      {
        "duration": 11,
        "start_time": "2023-04-03T07:17:02.005Z"
      },
      {
        "duration": 18,
        "start_time": "2023-04-03T07:17:11.237Z"
      },
      {
        "duration": 14,
        "start_time": "2023-04-03T07:17:14.741Z"
      },
      {
        "duration": 15,
        "start_time": "2023-04-03T07:17:19.053Z"
      },
      {
        "duration": 4,
        "start_time": "2023-04-03T07:18:53.234Z"
      },
      {
        "duration": 5,
        "start_time": "2023-04-03T07:19:29.554Z"
      },
      {
        "duration": 61,
        "start_time": "2023-04-03T07:19:36.346Z"
      },
      {
        "duration": 4,
        "start_time": "2023-04-03T07:21:33.007Z"
      },
      {
        "duration": 51,
        "start_time": "2023-04-03T07:27:32.420Z"
      },
      {
        "duration": 53,
        "start_time": "2023-04-03T07:29:04.603Z"
      },
      {
        "duration": 3,
        "start_time": "2023-04-03T07:32:08.727Z"
      },
      {
        "duration": 1188,
        "start_time": "2023-04-03T07:32:08.736Z"
      },
      {
        "duration": 7,
        "start_time": "2023-04-03T07:32:09.926Z"
      },
      {
        "duration": 15,
        "start_time": "2023-04-03T07:32:09.935Z"
      },
      {
        "duration": 15,
        "start_time": "2023-04-03T07:32:09.953Z"
      },
      {
        "duration": 7,
        "start_time": "2023-04-03T07:32:09.969Z"
      },
      {
        "duration": 448,
        "start_time": "2023-04-03T07:32:09.977Z"
      },
      {
        "duration": 4,
        "start_time": "2023-04-03T07:32:10.426Z"
      },
      {
        "duration": 5,
        "start_time": "2023-04-03T07:32:10.432Z"
      },
      {
        "duration": 40,
        "start_time": "2023-04-03T07:32:10.439Z"
      },
      {
        "duration": 73,
        "start_time": "2023-04-03T07:32:10.482Z"
      },
      {
        "duration": 371,
        "start_time": "2023-04-03T07:32:10.557Z"
      },
      {
        "duration": 8,
        "start_time": "2023-04-03T07:32:10.929Z"
      },
      {
        "duration": 36,
        "start_time": "2023-04-03T07:32:10.939Z"
      },
      {
        "duration": 28,
        "start_time": "2023-04-03T07:32:10.977Z"
      },
      {
        "duration": 12,
        "start_time": "2023-04-03T07:32:11.006Z"
      },
      {
        "duration": 35,
        "start_time": "2023-04-03T07:32:11.020Z"
      },
      {
        "duration": 12,
        "start_time": "2023-04-03T07:32:11.057Z"
      },
      {
        "duration": 30,
        "start_time": "2023-04-03T07:32:11.071Z"
      },
      {
        "duration": 29,
        "start_time": "2023-04-03T07:32:11.103Z"
      },
      {
        "duration": 5,
        "start_time": "2023-04-03T07:32:11.133Z"
      },
      {
        "duration": 18,
        "start_time": "2023-04-03T07:32:11.139Z"
      },
      {
        "duration": 19,
        "start_time": "2023-04-03T07:32:11.158Z"
      },
      {
        "duration": 9,
        "start_time": "2023-04-03T07:32:11.178Z"
      },
      {
        "duration": 22,
        "start_time": "2023-04-03T07:32:11.188Z"
      },
      {
        "duration": 22,
        "start_time": "2023-04-03T07:32:11.211Z"
      },
      {
        "duration": 12,
        "start_time": "2023-04-03T07:32:11.234Z"
      },
      {
        "duration": 18,
        "start_time": "2023-04-03T07:32:11.248Z"
      },
      {
        "duration": 47,
        "start_time": "2023-04-03T07:32:11.271Z"
      },
      {
        "duration": 2,
        "start_time": "2023-04-03T07:32:11.319Z"
      },
      {
        "duration": 59,
        "start_time": "2023-04-03T07:32:11.323Z"
      },
      {
        "duration": 12,
        "start_time": "2023-04-03T07:32:11.384Z"
      },
      {
        "duration": 20,
        "start_time": "2023-04-03T07:32:11.397Z"
      },
      {
        "duration": 27,
        "start_time": "2023-04-03T07:32:11.419Z"
      },
      {
        "duration": 20,
        "start_time": "2023-04-03T07:32:11.447Z"
      },
      {
        "duration": 48,
        "start_time": "2023-04-03T07:32:11.469Z"
      },
      {
        "duration": 9,
        "start_time": "2023-04-03T07:32:11.519Z"
      },
      {
        "duration": 9,
        "start_time": "2023-04-03T07:32:11.530Z"
      },
      {
        "duration": 49,
        "start_time": "2023-04-03T07:32:11.541Z"
      },
      {
        "duration": 2,
        "start_time": "2023-04-03T07:32:11.592Z"
      },
      {
        "duration": 63,
        "start_time": "2023-04-03T07:32:11.596Z"
      },
      {
        "duration": 20,
        "start_time": "2023-04-03T07:32:11.660Z"
      },
      {
        "duration": 38,
        "start_time": "2023-04-03T07:32:11.682Z"
      },
      {
        "duration": 10,
        "start_time": "2023-04-03T07:32:11.722Z"
      },
      {
        "duration": 18,
        "start_time": "2023-04-03T07:32:11.734Z"
      },
      {
        "duration": 10,
        "start_time": "2023-04-03T07:32:11.753Z"
      },
      {
        "duration": 17,
        "start_time": "2023-04-03T07:32:11.764Z"
      },
      {
        "duration": 3,
        "start_time": "2023-04-03T07:32:11.783Z"
      },
      {
        "duration": 15,
        "start_time": "2023-04-03T07:32:11.788Z"
      },
      {
        "duration": 6,
        "start_time": "2023-04-03T07:32:11.805Z"
      },
      {
        "duration": 5,
        "start_time": "2023-04-03T07:32:11.812Z"
      },
      {
        "duration": 12,
        "start_time": "2023-04-03T07:32:11.819Z"
      },
      {
        "duration": 17,
        "start_time": "2023-04-03T07:32:11.832Z"
      },
      {
        "duration": 27,
        "start_time": "2023-04-03T07:32:11.850Z"
      },
      {
        "duration": 35,
        "start_time": "2023-04-03T07:32:11.879Z"
      },
      {
        "duration": 5,
        "start_time": "2023-04-03T07:32:11.915Z"
      },
      {
        "duration": 20,
        "start_time": "2023-04-03T07:32:11.922Z"
      },
      {
        "duration": 24,
        "start_time": "2023-04-03T07:32:11.943Z"
      },
      {
        "duration": 9,
        "start_time": "2023-04-03T07:32:11.969Z"
      },
      {
        "duration": 20,
        "start_time": "2023-04-03T07:32:11.980Z"
      },
      {
        "duration": 14,
        "start_time": "2023-04-03T07:32:12.002Z"
      },
      {
        "duration": 6,
        "start_time": "2023-04-03T07:32:12.018Z"
      },
      {
        "duration": 57,
        "start_time": "2023-04-03T07:32:12.026Z"
      },
      {
        "duration": 4,
        "start_time": "2023-04-03T07:32:12.085Z"
      },
      {
        "duration": 65,
        "start_time": "2023-04-03T07:32:12.090Z"
      },
      {
        "duration": 17,
        "start_time": "2023-04-03T07:32:12.156Z"
      },
      {
        "duration": 26,
        "start_time": "2023-04-03T07:32:12.175Z"
      },
      {
        "duration": 26,
        "start_time": "2023-04-03T07:32:12.202Z"
      },
      {
        "duration": 16,
        "start_time": "2023-04-03T07:32:12.229Z"
      },
      {
        "duration": 16,
        "start_time": "2023-04-03T07:32:12.247Z"
      },
      {
        "duration": 13,
        "start_time": "2023-04-03T07:32:12.264Z"
      },
      {
        "duration": 10,
        "start_time": "2023-04-03T07:32:12.279Z"
      },
      {
        "duration": 21,
        "start_time": "2023-04-03T07:32:12.291Z"
      },
      {
        "duration": 193,
        "start_time": "2023-04-03T07:32:12.313Z"
      },
      {
        "duration": 161,
        "start_time": "2023-04-03T07:32:12.507Z"
      },
      {
        "duration": 8,
        "start_time": "2023-04-03T07:32:12.672Z"
      },
      {
        "duration": 16,
        "start_time": "2023-04-03T07:32:12.682Z"
      },
      {
        "duration": 23,
        "start_time": "2023-04-03T07:32:12.699Z"
      },
      {
        "duration": 52,
        "start_time": "2023-04-03T07:32:12.723Z"
      },
      {
        "duration": 26,
        "start_time": "2023-04-03T07:32:12.776Z"
      },
      {
        "duration": 39,
        "start_time": "2023-04-03T07:32:12.804Z"
      },
      {
        "duration": 37,
        "start_time": "2023-04-03T07:32:12.845Z"
      },
      {
        "duration": 45,
        "start_time": "2023-04-03T07:32:12.887Z"
      },
      {
        "duration": 6,
        "start_time": "2023-04-03T07:32:12.933Z"
      },
      {
        "duration": 35,
        "start_time": "2023-04-03T07:32:12.941Z"
      },
      {
        "duration": 26,
        "start_time": "2023-04-03T07:32:12.978Z"
      },
      {
        "duration": 28,
        "start_time": "2023-04-03T07:32:13.005Z"
      },
      {
        "duration": 48,
        "start_time": "2023-04-03T07:33:44.917Z"
      },
      {
        "duration": 6,
        "start_time": "2023-04-03T07:34:08.321Z"
      },
      {
        "duration": 54,
        "start_time": "2023-04-03T07:34:10.930Z"
      },
      {
        "duration": 11,
        "start_time": "2023-04-03T07:42:47.588Z"
      },
      {
        "duration": 10,
        "start_time": "2023-04-03T07:43:16.026Z"
      },
      {
        "duration": 8,
        "start_time": "2023-04-03T07:47:31.355Z"
      },
      {
        "duration": 6,
        "start_time": "2023-04-03T07:47:32.657Z"
      },
      {
        "duration": 13,
        "start_time": "2023-04-03T07:48:53.222Z"
      },
      {
        "duration": 10,
        "start_time": "2023-04-03T07:49:10.512Z"
      },
      {
        "duration": 5,
        "start_time": "2023-04-03T07:49:14.012Z"
      },
      {
        "duration": 6,
        "start_time": "2023-04-03T07:51:25.827Z"
      },
      {
        "duration": 9,
        "start_time": "2023-04-03T07:51:27.410Z"
      },
      {
        "duration": 13,
        "start_time": "2023-04-03T07:52:03.107Z"
      },
      {
        "duration": 7,
        "start_time": "2023-04-03T07:56:17.802Z"
      },
      {
        "duration": 14,
        "start_time": "2023-04-03T07:56:19.002Z"
      },
      {
        "duration": 15,
        "start_time": "2023-04-03T07:57:14.919Z"
      },
      {
        "duration": 13,
        "start_time": "2023-04-03T07:57:38.432Z"
      },
      {
        "duration": 13,
        "start_time": "2023-04-03T07:58:52.053Z"
      },
      {
        "duration": 69,
        "start_time": "2023-04-03T08:00:19.140Z"
      },
      {
        "duration": 59,
        "start_time": "2023-04-03T08:02:33.366Z"
      },
      {
        "duration": 8,
        "start_time": "2023-04-03T08:10:16.466Z"
      },
      {
        "duration": 8,
        "start_time": "2023-04-03T08:11:48.311Z"
      },
      {
        "duration": 2,
        "start_time": "2023-04-03T08:13:50.219Z"
      },
      {
        "duration": 8,
        "start_time": "2023-04-03T08:15:38.857Z"
      },
      {
        "duration": 1420,
        "start_time": "2023-04-03T08:16:17.063Z"
      },
      {
        "duration": 1315,
        "start_time": "2023-04-03T08:16:40.505Z"
      },
      {
        "duration": 19,
        "start_time": "2023-04-03T08:17:26.195Z"
      },
      {
        "duration": 107,
        "start_time": "2023-04-03T08:19:00.430Z"
      },
      {
        "duration": 147,
        "start_time": "2023-04-03T08:22:23.287Z"
      },
      {
        "duration": 7,
        "start_time": "2023-04-03T08:27:42.024Z"
      },
      {
        "duration": 8,
        "start_time": "2023-04-03T08:27:43.521Z"
      },
      {
        "duration": 490,
        "start_time": "2023-04-03T08:29:29.993Z"
      },
      {
        "duration": 27,
        "start_time": "2023-04-03T08:32:46.304Z"
      },
      {
        "duration": 110,
        "start_time": "2023-04-03T08:33:26.209Z"
      },
      {
        "duration": 65,
        "start_time": "2023-04-03T08:33:53.437Z"
      },
      {
        "duration": 23,
        "start_time": "2023-04-03T08:34:06.832Z"
      },
      {
        "duration": 132,
        "start_time": "2023-04-03T08:34:08.989Z"
      },
      {
        "duration": 44,
        "start_time": "2023-04-03T08:37:34.595Z"
      },
      {
        "duration": 32,
        "start_time": "2023-04-03T08:39:32.551Z"
      },
      {
        "duration": 155,
        "start_time": "2023-04-03T08:40:19.017Z"
      },
      {
        "duration": 31,
        "start_time": "2023-04-03T08:40:24.149Z"
      },
      {
        "duration": 21,
        "start_time": "2023-04-03T08:40:54.195Z"
      },
      {
        "duration": 40,
        "start_time": "2023-04-03T08:41:03.844Z"
      },
      {
        "duration": 25,
        "start_time": "2023-04-03T08:41:28.491Z"
      },
      {
        "duration": 56,
        "start_time": "2023-04-03T08:41:29.844Z"
      },
      {
        "duration": 56,
        "start_time": "2023-04-03T08:42:40.146Z"
      },
      {
        "duration": 23,
        "start_time": "2023-04-03T08:49:54.235Z"
      },
      {
        "duration": 51,
        "start_time": "2023-04-03T08:50:59.867Z"
      },
      {
        "duration": 20,
        "start_time": "2023-04-03T08:52:02.411Z"
      },
      {
        "duration": 15,
        "start_time": "2023-04-03T08:52:27.352Z"
      },
      {
        "duration": 45,
        "start_time": "2023-04-03T08:52:28.999Z"
      },
      {
        "duration": 71,
        "start_time": "2023-04-03T08:56:12.768Z"
      },
      {
        "duration": 94,
        "start_time": "2023-04-03T09:01:17.456Z"
      },
      {
        "duration": 3,
        "start_time": "2023-04-03T09:06:54.760Z"
      },
      {
        "duration": 1568,
        "start_time": "2023-04-03T09:06:54.768Z"
      },
      {
        "duration": 13,
        "start_time": "2023-04-03T09:06:56.338Z"
      },
      {
        "duration": 17,
        "start_time": "2023-04-03T09:06:56.353Z"
      },
      {
        "duration": 10,
        "start_time": "2023-04-03T09:06:56.372Z"
      },
      {
        "duration": 11,
        "start_time": "2023-04-03T09:06:56.383Z"
      },
      {
        "duration": 681,
        "start_time": "2023-04-03T09:06:56.395Z"
      },
      {
        "duration": 5,
        "start_time": "2023-04-03T09:06:57.078Z"
      },
      {
        "duration": 22,
        "start_time": "2023-04-03T09:06:57.085Z"
      },
      {
        "duration": 21,
        "start_time": "2023-04-03T09:06:57.109Z"
      },
      {
        "duration": 85,
        "start_time": "2023-04-03T09:06:57.133Z"
      },
      {
        "duration": 413,
        "start_time": "2023-04-03T09:06:57.220Z"
      },
      {
        "duration": 9,
        "start_time": "2023-04-03T09:06:57.634Z"
      },
      {
        "duration": 34,
        "start_time": "2023-04-03T09:06:57.644Z"
      },
      {
        "duration": 20,
        "start_time": "2023-04-03T09:06:57.680Z"
      },
      {
        "duration": 19,
        "start_time": "2023-04-03T09:06:57.701Z"
      },
      {
        "duration": 15,
        "start_time": "2023-04-03T09:06:57.722Z"
      },
      {
        "duration": 8,
        "start_time": "2023-04-03T09:06:57.739Z"
      },
      {
        "duration": 24,
        "start_time": "2023-04-03T09:06:57.749Z"
      },
      {
        "duration": 12,
        "start_time": "2023-04-03T09:06:57.774Z"
      },
      {
        "duration": 5,
        "start_time": "2023-04-03T09:06:57.788Z"
      },
      {
        "duration": 21,
        "start_time": "2023-04-03T09:06:57.795Z"
      },
      {
        "duration": 15,
        "start_time": "2023-04-03T09:06:57.818Z"
      },
      {
        "duration": 3,
        "start_time": "2023-04-03T09:06:57.835Z"
      },
      {
        "duration": 45,
        "start_time": "2023-04-03T09:06:57.839Z"
      },
      {
        "duration": 12,
        "start_time": "2023-04-03T09:06:57.886Z"
      },
      {
        "duration": 9,
        "start_time": "2023-04-03T09:06:57.900Z"
      },
      {
        "duration": 10,
        "start_time": "2023-04-03T09:06:57.911Z"
      },
      {
        "duration": 89,
        "start_time": "2023-04-03T09:06:57.926Z"
      },
      {
        "duration": 3,
        "start_time": "2023-04-03T09:06:58.016Z"
      },
      {
        "duration": 61,
        "start_time": "2023-04-03T09:06:58.020Z"
      },
      {
        "duration": 16,
        "start_time": "2023-04-03T09:06:58.083Z"
      },
      {
        "duration": 10,
        "start_time": "2023-04-03T09:06:58.101Z"
      },
      {
        "duration": 27,
        "start_time": "2023-04-03T09:06:58.113Z"
      },
      {
        "duration": 32,
        "start_time": "2023-04-03T09:06:58.143Z"
      },
      {
        "duration": 54,
        "start_time": "2023-04-03T09:06:58.177Z"
      },
      {
        "duration": 9,
        "start_time": "2023-04-03T09:06:58.232Z"
      },
      {
        "duration": 36,
        "start_time": "2023-04-03T09:06:58.242Z"
      },
      {
        "duration": 30,
        "start_time": "2023-04-03T09:06:58.279Z"
      },
      {
        "duration": 3,
        "start_time": "2023-04-03T09:06:58.310Z"
      },
      {
        "duration": 60,
        "start_time": "2023-04-03T09:06:58.314Z"
      },
      {
        "duration": 11,
        "start_time": "2023-04-03T09:06:58.376Z"
      },
      {
        "duration": 51,
        "start_time": "2023-04-03T09:06:58.390Z"
      },
      {
        "duration": 10,
        "start_time": "2023-04-03T09:06:58.442Z"
      },
      {
        "duration": 11,
        "start_time": "2023-04-03T09:06:58.454Z"
      },
      {
        "duration": 19,
        "start_time": "2023-04-03T09:06:58.467Z"
      },
      {
        "duration": 25,
        "start_time": "2023-04-03T09:06:58.487Z"
      },
      {
        "duration": 10,
        "start_time": "2023-04-03T09:06:58.513Z"
      },
      {
        "duration": 6,
        "start_time": "2023-04-03T09:06:58.524Z"
      },
      {
        "duration": 10,
        "start_time": "2023-04-03T09:06:58.531Z"
      },
      {
        "duration": 9,
        "start_time": "2023-04-03T09:06:58.542Z"
      },
      {
        "duration": 8,
        "start_time": "2023-04-03T09:06:58.553Z"
      },
      {
        "duration": 18,
        "start_time": "2023-04-03T09:06:58.563Z"
      },
      {
        "duration": 11,
        "start_time": "2023-04-03T09:06:58.583Z"
      },
      {
        "duration": 16,
        "start_time": "2023-04-03T09:06:58.597Z"
      },
      {
        "duration": 6,
        "start_time": "2023-04-03T09:06:58.615Z"
      },
      {
        "duration": 9,
        "start_time": "2023-04-03T09:06:58.623Z"
      },
      {
        "duration": 18,
        "start_time": "2023-04-03T09:06:58.633Z"
      },
      {
        "duration": 9,
        "start_time": "2023-04-03T09:06:58.672Z"
      },
      {
        "duration": 23,
        "start_time": "2023-04-03T09:06:58.683Z"
      },
      {
        "duration": 12,
        "start_time": "2023-04-03T09:06:58.708Z"
      },
      {
        "duration": 5,
        "start_time": "2023-04-03T09:06:58.722Z"
      },
      {
        "duration": 63,
        "start_time": "2023-04-03T09:06:58.728Z"
      },
      {
        "duration": 4,
        "start_time": "2023-04-03T09:06:58.793Z"
      },
      {
        "duration": 61,
        "start_time": "2023-04-03T09:06:58.798Z"
      },
      {
        "duration": 17,
        "start_time": "2023-04-03T09:06:58.860Z"
      },
      {
        "duration": 17,
        "start_time": "2023-04-03T09:06:58.878Z"
      },
      {
        "duration": 26,
        "start_time": "2023-04-03T09:06:58.897Z"
      },
      {
        "duration": 22,
        "start_time": "2023-04-03T09:06:58.925Z"
      },
      {
        "duration": 35,
        "start_time": "2023-04-03T09:06:58.949Z"
      },
      {
        "duration": 10,
        "start_time": "2023-04-03T09:06:58.986Z"
      },
      {
        "duration": 11,
        "start_time": "2023-04-03T09:06:58.997Z"
      },
      {
        "duration": 6,
        "start_time": "2023-04-03T09:06:59.010Z"
      },
      {
        "duration": 12,
        "start_time": "2023-04-03T09:06:59.017Z"
      },
      {
        "duration": 13,
        "start_time": "2023-04-03T09:06:59.031Z"
      },
      {
        "duration": 28,
        "start_time": "2023-04-03T09:06:59.045Z"
      },
      {
        "duration": 7,
        "start_time": "2023-04-03T09:06:59.074Z"
      },
      {
        "duration": 12,
        "start_time": "2023-04-03T09:06:59.083Z"
      },
      {
        "duration": 18,
        "start_time": "2023-04-03T09:06:59.098Z"
      },
      {
        "duration": 24,
        "start_time": "2023-04-03T09:06:59.117Z"
      },
      {
        "duration": 38,
        "start_time": "2023-04-03T09:06:59.143Z"
      },
      {
        "duration": 73,
        "start_time": "2023-04-03T09:06:59.183Z"
      },
      {
        "duration": 70,
        "start_time": "2023-04-03T09:06:59.262Z"
      },
      {
        "duration": 265,
        "start_time": "2023-04-03T09:06:59.334Z"
      },
      {
        "duration": 0,
        "start_time": "2023-04-03T09:06:59.601Z"
      },
      {
        "duration": 0,
        "start_time": "2023-04-03T09:06:59.602Z"
      },
      {
        "duration": 0,
        "start_time": "2023-04-03T09:06:59.603Z"
      },
      {
        "duration": 0,
        "start_time": "2023-04-03T09:06:59.604Z"
      },
      {
        "duration": 0,
        "start_time": "2023-04-03T09:06:59.605Z"
      },
      {
        "duration": 0,
        "start_time": "2023-04-03T09:06:59.606Z"
      },
      {
        "duration": 0,
        "start_time": "2023-04-03T09:06:59.608Z"
      },
      {
        "duration": 0,
        "start_time": "2023-04-03T09:06:59.609Z"
      },
      {
        "duration": 0,
        "start_time": "2023-04-03T09:06:59.610Z"
      },
      {
        "duration": 0,
        "start_time": "2023-04-03T09:06:59.611Z"
      },
      {
        "duration": 0,
        "start_time": "2023-04-03T09:06:59.612Z"
      },
      {
        "duration": 0,
        "start_time": "2023-04-03T09:06:59.613Z"
      },
      {
        "duration": 0,
        "start_time": "2023-04-03T09:06:59.614Z"
      },
      {
        "duration": 0,
        "start_time": "2023-04-03T09:06:59.615Z"
      },
      {
        "duration": 0,
        "start_time": "2023-04-03T09:06:59.616Z"
      },
      {
        "duration": 0,
        "start_time": "2023-04-03T09:06:59.617Z"
      },
      {
        "duration": 0,
        "start_time": "2023-04-03T09:06:59.618Z"
      },
      {
        "duration": 6,
        "start_time": "2023-04-03T09:07:55.564Z"
      },
      {
        "duration": 25,
        "start_time": "2023-04-03T09:07:56.343Z"
      },
      {
        "duration": 117,
        "start_time": "2023-04-03T09:07:57.163Z"
      },
      {
        "duration": 71,
        "start_time": "2023-04-03T09:08:00.006Z"
      },
      {
        "duration": 10,
        "start_time": "2023-04-03T09:08:04.385Z"
      },
      {
        "duration": 7,
        "start_time": "2023-04-03T09:08:05.173Z"
      },
      {
        "duration": 27,
        "start_time": "2023-04-03T09:08:15.586Z"
      },
      {
        "duration": 44,
        "start_time": "2023-04-03T09:08:16.342Z"
      },
      {
        "duration": 21,
        "start_time": "2023-04-03T09:08:22.650Z"
      },
      {
        "duration": 43,
        "start_time": "2023-04-03T09:08:23.396Z"
      },
      {
        "duration": 17,
        "start_time": "2023-04-03T09:08:24.253Z"
      },
      {
        "duration": 41,
        "start_time": "2023-04-03T09:08:25.123Z"
      },
      {
        "duration": 6,
        "start_time": "2023-04-03T09:08:30.381Z"
      },
      {
        "duration": 8,
        "start_time": "2023-04-03T09:08:31.187Z"
      },
      {
        "duration": 9,
        "start_time": "2023-04-03T09:08:32.035Z"
      },
      {
        "duration": 11,
        "start_time": "2023-04-03T09:08:33.283Z"
      },
      {
        "duration": 3,
        "start_time": "2023-04-03T09:08:41.195Z"
      },
      {
        "duration": 3,
        "start_time": "2023-04-03T09:08:56.694Z"
      },
      {
        "duration": 1031,
        "start_time": "2023-04-03T09:08:56.701Z"
      },
      {
        "duration": 9,
        "start_time": "2023-04-03T09:08:57.734Z"
      },
      {
        "duration": 12,
        "start_time": "2023-04-03T09:08:57.745Z"
      },
      {
        "duration": 27,
        "start_time": "2023-04-03T09:08:57.759Z"
      },
      {
        "duration": 16,
        "start_time": "2023-04-03T09:08:57.788Z"
      },
      {
        "duration": 484,
        "start_time": "2023-04-03T09:08:57.807Z"
      },
      {
        "duration": 5,
        "start_time": "2023-04-03T09:08:58.293Z"
      },
      {
        "duration": 6,
        "start_time": "2023-04-03T09:08:58.300Z"
      },
      {
        "duration": 22,
        "start_time": "2023-04-03T09:08:58.307Z"
      },
      {
        "duration": 105,
        "start_time": "2023-04-03T09:08:58.332Z"
      },
      {
        "duration": 365,
        "start_time": "2023-04-03T09:08:58.439Z"
      },
      {
        "duration": 11,
        "start_time": "2023-04-03T09:08:58.806Z"
      },
      {
        "duration": 16,
        "start_time": "2023-04-03T09:08:58.818Z"
      },
      {
        "duration": 38,
        "start_time": "2023-04-03T09:08:58.836Z"
      },
      {
        "duration": 11,
        "start_time": "2023-04-03T09:08:58.876Z"
      },
      {
        "duration": 18,
        "start_time": "2023-04-03T09:08:58.889Z"
      },
      {
        "duration": 15,
        "start_time": "2023-04-03T09:08:58.909Z"
      },
      {
        "duration": 7,
        "start_time": "2023-04-03T09:08:58.926Z"
      },
      {
        "duration": 11,
        "start_time": "2023-04-03T09:08:58.935Z"
      },
      {
        "duration": 5,
        "start_time": "2023-04-03T09:08:58.947Z"
      },
      {
        "duration": 32,
        "start_time": "2023-04-03T09:08:58.954Z"
      },
      {
        "duration": 12,
        "start_time": "2023-04-03T09:08:58.987Z"
      },
      {
        "duration": 5,
        "start_time": "2023-04-03T09:08:59.002Z"
      },
      {
        "duration": 14,
        "start_time": "2023-04-03T09:08:59.009Z"
      },
      {
        "duration": 8,
        "start_time": "2023-04-03T09:08:59.025Z"
      },
      {
        "duration": 9,
        "start_time": "2023-04-03T09:08:59.079Z"
      },
      {
        "duration": 10,
        "start_time": "2023-04-03T09:08:59.092Z"
      },
      {
        "duration": 60,
        "start_time": "2023-04-03T09:08:59.106Z"
      },
      {
        "duration": 5,
        "start_time": "2023-04-03T09:08:59.167Z"
      },
      {
        "duration": 54,
        "start_time": "2023-04-03T09:08:59.173Z"
      },
      {
        "duration": 12,
        "start_time": "2023-04-03T09:08:59.229Z"
      },
      {
        "duration": 5,
        "start_time": "2023-04-03T09:08:59.243Z"
      },
      {
        "duration": 36,
        "start_time": "2023-04-03T09:08:59.250Z"
      },
      {
        "duration": 23,
        "start_time": "2023-04-03T09:08:59.288Z"
      },
      {
        "duration": 72,
        "start_time": "2023-04-03T09:08:59.313Z"
      },
      {
        "duration": 9,
        "start_time": "2023-04-03T09:08:59.386Z"
      },
      {
        "duration": 30,
        "start_time": "2023-04-03T09:08:59.397Z"
      },
      {
        "duration": 30,
        "start_time": "2023-04-03T09:08:59.429Z"
      },
      {
        "duration": 2,
        "start_time": "2023-04-03T09:08:59.461Z"
      },
      {
        "duration": 63,
        "start_time": "2023-04-03T09:08:59.464Z"
      },
      {
        "duration": 17,
        "start_time": "2023-04-03T09:08:59.528Z"
      },
      {
        "duration": 33,
        "start_time": "2023-04-03T09:08:59.547Z"
      },
      {
        "duration": 9,
        "start_time": "2023-04-03T09:08:59.582Z"
      },
      {
        "duration": 11,
        "start_time": "2023-04-03T09:08:59.592Z"
      },
      {
        "duration": 8,
        "start_time": "2023-04-03T09:08:59.605Z"
      },
      {
        "duration": 11,
        "start_time": "2023-04-03T09:08:59.614Z"
      },
      {
        "duration": 4,
        "start_time": "2023-04-03T09:08:59.627Z"
      },
      {
        "duration": 6,
        "start_time": "2023-04-03T09:08:59.632Z"
      },
      {
        "duration": 34,
        "start_time": "2023-04-03T09:08:59.639Z"
      },
      {
        "duration": 9,
        "start_time": "2023-04-03T09:08:59.675Z"
      },
      {
        "duration": 11,
        "start_time": "2023-04-03T09:08:59.686Z"
      },
      {
        "duration": 16,
        "start_time": "2023-04-03T09:08:59.699Z"
      },
      {
        "duration": 23,
        "start_time": "2023-04-03T09:08:59.717Z"
      },
      {
        "duration": 20,
        "start_time": "2023-04-03T09:08:59.741Z"
      },
      {
        "duration": 10,
        "start_time": "2023-04-03T09:08:59.763Z"
      },
      {
        "duration": 52,
        "start_time": "2023-04-03T09:08:59.774Z"
      },
      {
        "duration": 17,
        "start_time": "2023-04-03T09:08:59.828Z"
      },
      {
        "duration": 11,
        "start_time": "2023-04-03T09:08:59.847Z"
      },
      {
        "duration": 22,
        "start_time": "2023-04-03T09:08:59.859Z"
      },
      {
        "duration": 12,
        "start_time": "2023-04-03T09:08:59.883Z"
      },
      {
        "duration": 16,
        "start_time": "2023-04-03T09:08:59.896Z"
      },
      {
        "duration": 62,
        "start_time": "2023-04-03T09:08:59.913Z"
      },
      {
        "duration": 4,
        "start_time": "2023-04-03T09:08:59.976Z"
      },
      {
        "duration": 66,
        "start_time": "2023-04-03T09:08:59.982Z"
      },
      {
        "duration": 21,
        "start_time": "2023-04-03T09:09:00.050Z"
      },
      {
        "duration": 18,
        "start_time": "2023-04-03T09:09:00.073Z"
      },
      {
        "duration": 30,
        "start_time": "2023-04-03T09:09:00.093Z"
      },
      {
        "duration": 21,
        "start_time": "2023-04-03T09:09:00.125Z"
      },
      {
        "duration": 36,
        "start_time": "2023-04-03T09:09:00.148Z"
      },
      {
        "duration": 17,
        "start_time": "2023-04-03T09:09:00.186Z"
      },
      {
        "duration": 47,
        "start_time": "2023-04-03T09:09:00.205Z"
      },
      {
        "duration": 35,
        "start_time": "2023-04-03T09:09:00.253Z"
      },
      {
        "duration": 41,
        "start_time": "2023-04-03T09:09:00.292Z"
      },
      {
        "duration": 42,
        "start_time": "2023-04-03T09:09:00.335Z"
      },
      {
        "duration": 37,
        "start_time": "2023-04-03T09:09:00.379Z"
      },
      {
        "duration": 32,
        "start_time": "2023-04-03T09:09:00.417Z"
      },
      {
        "duration": 32,
        "start_time": "2023-04-03T09:09:00.451Z"
      },
      {
        "duration": 60,
        "start_time": "2023-04-03T09:09:00.484Z"
      },
      {
        "duration": 52,
        "start_time": "2023-04-03T09:09:00.545Z"
      },
      {
        "duration": 54,
        "start_time": "2023-04-03T09:09:00.599Z"
      },
      {
        "duration": 110,
        "start_time": "2023-04-03T09:09:00.655Z"
      },
      {
        "duration": 134,
        "start_time": "2023-04-03T09:09:00.770Z"
      },
      {
        "duration": 6,
        "start_time": "2023-04-03T09:09:00.906Z"
      },
      {
        "duration": 77,
        "start_time": "2023-04-03T09:09:00.913Z"
      },
      {
        "duration": 152,
        "start_time": "2023-04-03T09:09:00.992Z"
      },
      {
        "duration": 86,
        "start_time": "2023-04-03T09:09:01.146Z"
      },
      {
        "duration": 8,
        "start_time": "2023-04-03T09:09:01.234Z"
      },
      {
        "duration": 46,
        "start_time": "2023-04-03T09:09:01.243Z"
      },
      {
        "duration": 56,
        "start_time": "2023-04-03T09:09:01.291Z"
      },
      {
        "duration": 93,
        "start_time": "2023-04-03T09:09:01.348Z"
      },
      {
        "duration": 136,
        "start_time": "2023-04-03T09:09:01.443Z"
      },
      {
        "duration": 83,
        "start_time": "2023-04-03T09:09:01.581Z"
      },
      {
        "duration": 153,
        "start_time": "2023-04-03T09:09:01.666Z"
      },
      {
        "duration": 228,
        "start_time": "2023-04-03T09:09:01.821Z"
      },
      {
        "duration": 171,
        "start_time": "2023-04-03T09:09:02.051Z"
      },
      {
        "duration": 195,
        "start_time": "2023-04-03T09:09:02.224Z"
      },
      {
        "duration": 38,
        "start_time": "2023-04-03T09:09:02.421Z"
      },
      {
        "duration": 54,
        "start_time": "2023-04-03T09:09:02.460Z"
      },
      {
        "duration": 82,
        "start_time": "2023-04-03T09:09:02.515Z"
      },
      {
        "duration": 39,
        "start_time": "2023-04-03T09:41:38.982Z"
      },
      {
        "duration": 202,
        "start_time": "2023-04-03T09:46:45.362Z"
      },
      {
        "duration": 3,
        "start_time": "2023-04-03T09:48:49.739Z"
      },
      {
        "duration": 1089,
        "start_time": "2023-04-03T09:48:49.748Z"
      },
      {
        "duration": 9,
        "start_time": "2023-04-03T09:48:50.839Z"
      },
      {
        "duration": 13,
        "start_time": "2023-04-03T09:48:50.850Z"
      },
      {
        "duration": 13,
        "start_time": "2023-04-03T09:48:50.866Z"
      },
      {
        "duration": 32,
        "start_time": "2023-04-03T09:48:50.881Z"
      },
      {
        "duration": 490,
        "start_time": "2023-04-03T09:48:50.914Z"
      },
      {
        "duration": 5,
        "start_time": "2023-04-03T09:48:51.405Z"
      },
      {
        "duration": 13,
        "start_time": "2023-04-03T09:48:51.412Z"
      },
      {
        "duration": 46,
        "start_time": "2023-04-03T09:48:51.426Z"
      },
      {
        "duration": 90,
        "start_time": "2023-04-03T09:48:51.475Z"
      },
      {
        "duration": 360,
        "start_time": "2023-04-03T09:48:51.567Z"
      },
      {
        "duration": 9,
        "start_time": "2023-04-03T09:48:51.928Z"
      },
      {
        "duration": 20,
        "start_time": "2023-04-03T09:48:51.938Z"
      },
      {
        "duration": 31,
        "start_time": "2023-04-03T09:48:51.959Z"
      },
      {
        "duration": 27,
        "start_time": "2023-04-03T09:48:51.992Z"
      },
      {
        "duration": 32,
        "start_time": "2023-04-03T09:48:52.021Z"
      },
      {
        "duration": 8,
        "start_time": "2023-04-03T09:48:52.055Z"
      },
      {
        "duration": 7,
        "start_time": "2023-04-03T09:48:52.064Z"
      },
      {
        "duration": 17,
        "start_time": "2023-04-03T09:48:52.075Z"
      },
      {
        "duration": 17,
        "start_time": "2023-04-03T09:48:52.094Z"
      },
      {
        "duration": 23,
        "start_time": "2023-04-03T09:48:52.113Z"
      },
      {
        "duration": 17,
        "start_time": "2023-04-03T09:48:52.137Z"
      },
      {
        "duration": 21,
        "start_time": "2023-04-03T09:48:52.156Z"
      },
      {
        "duration": 20,
        "start_time": "2023-04-03T09:48:52.179Z"
      },
      {
        "duration": 17,
        "start_time": "2023-04-03T09:48:52.200Z"
      },
      {
        "duration": 13,
        "start_time": "2023-04-03T09:48:52.218Z"
      },
      {
        "duration": 6,
        "start_time": "2023-04-03T09:48:52.233Z"
      },
      {
        "duration": 56,
        "start_time": "2023-04-03T09:48:52.245Z"
      },
      {
        "duration": 6,
        "start_time": "2023-04-03T09:48:52.303Z"
      },
      {
        "duration": 53,
        "start_time": "2023-04-03T09:48:52.311Z"
      },
      {
        "duration": 13,
        "start_time": "2023-04-03T09:48:52.365Z"
      },
      {
        "duration": 15,
        "start_time": "2023-04-03T09:48:52.379Z"
      },
      {
        "duration": 26,
        "start_time": "2023-04-03T09:48:52.396Z"
      },
      {
        "duration": 15,
        "start_time": "2023-04-03T09:48:52.423Z"
      },
      {
        "duration": 59,
        "start_time": "2023-04-03T09:48:52.440Z"
      },
      {
        "duration": 9,
        "start_time": "2023-04-03T09:48:52.501Z"
      },
      {
        "duration": 20,
        "start_time": "2023-04-03T09:48:52.511Z"
      },
      {
        "duration": 37,
        "start_time": "2023-04-03T09:48:52.532Z"
      },
      {
        "duration": 7,
        "start_time": "2023-04-03T09:48:52.571Z"
      },
      {
        "duration": 98,
        "start_time": "2023-04-03T09:48:52.580Z"
      },
      {
        "duration": 12,
        "start_time": "2023-04-03T09:48:52.679Z"
      },
      {
        "duration": 17,
        "start_time": "2023-04-03T09:48:52.692Z"
      },
      {
        "duration": 12,
        "start_time": "2023-04-03T09:48:52.711Z"
      },
      {
        "duration": 14,
        "start_time": "2023-04-03T09:48:52.725Z"
      },
      {
        "duration": 19,
        "start_time": "2023-04-03T09:48:52.740Z"
      },
      {
        "duration": 19,
        "start_time": "2023-04-03T09:48:52.760Z"
      },
      {
        "duration": 8,
        "start_time": "2023-04-03T09:48:52.781Z"
      },
      {
        "duration": 9,
        "start_time": "2023-04-03T09:48:52.791Z"
      },
      {
        "duration": 19,
        "start_time": "2023-04-03T09:48:52.801Z"
      },
      {
        "duration": 4,
        "start_time": "2023-04-03T09:48:52.821Z"
      },
      {
        "duration": 9,
        "start_time": "2023-04-03T09:48:52.826Z"
      },
      {
        "duration": 46,
        "start_time": "2023-04-03T09:48:52.837Z"
      },
      {
        "duration": 13,
        "start_time": "2023-04-03T09:48:52.887Z"
      },
      {
        "duration": 78,
        "start_time": "2023-04-03T09:48:52.902Z"
      },
      {
        "duration": 22,
        "start_time": "2023-04-03T09:48:52.982Z"
      },
      {
        "duration": 13,
        "start_time": "2023-04-03T09:48:53.005Z"
      },
      {
        "duration": 65,
        "start_time": "2023-04-03T09:48:53.020Z"
      },
      {
        "duration": 87,
        "start_time": "2023-04-03T09:48:53.087Z"
      },
      {
        "duration": 116,
        "start_time": "2023-04-03T09:48:53.176Z"
      },
      {
        "duration": 6,
        "start_time": "2023-04-03T09:48:53.294Z"
      },
      {
        "duration": 73,
        "start_time": "2023-04-03T09:48:53.301Z"
      },
      {
        "duration": 14,
        "start_time": "2023-04-03T09:48:53.377Z"
      },
      {
        "duration": 22,
        "start_time": "2023-04-03T09:48:53.393Z"
      },
      {
        "duration": 19,
        "start_time": "2023-04-03T09:48:53.416Z"
      },
      {
        "duration": 37,
        "start_time": "2023-04-03T09:48:53.437Z"
      },
      {
        "duration": 12,
        "start_time": "2023-04-03T09:48:53.476Z"
      },
      {
        "duration": 15,
        "start_time": "2023-04-03T09:48:53.490Z"
      },
      {
        "duration": 6,
        "start_time": "2023-04-03T09:48:53.506Z"
      },
      {
        "duration": 9,
        "start_time": "2023-04-03T09:48:53.514Z"
      },
      {
        "duration": 11,
        "start_time": "2023-04-03T09:48:53.525Z"
      },
      {
        "duration": 6,
        "start_time": "2023-04-03T09:48:53.538Z"
      },
      {
        "duration": 47,
        "start_time": "2023-04-03T09:48:53.546Z"
      },
      {
        "duration": 16,
        "start_time": "2023-04-03T09:48:53.595Z"
      },
      {
        "duration": 15,
        "start_time": "2023-04-03T09:48:53.612Z"
      },
      {
        "duration": 61,
        "start_time": "2023-04-03T09:48:53.628Z"
      },
      {
        "duration": 61,
        "start_time": "2023-04-03T09:48:53.691Z"
      },
      {
        "duration": 6,
        "start_time": "2023-04-03T09:48:53.771Z"
      },
      {
        "duration": 38,
        "start_time": "2023-04-03T09:48:53.779Z"
      },
      {
        "duration": 216,
        "start_time": "2023-04-03T09:48:53.819Z"
      },
      {
        "duration": 100,
        "start_time": "2023-04-03T09:48:54.036Z"
      },
      {
        "duration": 15,
        "start_time": "2023-04-03T09:48:54.138Z"
      },
      {
        "duration": 48,
        "start_time": "2023-04-03T09:48:54.159Z"
      },
      {
        "duration": 25,
        "start_time": "2023-04-03T09:48:54.209Z"
      },
      {
        "duration": 46,
        "start_time": "2023-04-03T09:48:54.235Z"
      },
      {
        "duration": 30,
        "start_time": "2023-04-03T09:48:54.283Z"
      },
      {
        "duration": 38,
        "start_time": "2023-04-03T09:48:54.315Z"
      },
      {
        "duration": 28,
        "start_time": "2023-04-03T09:48:54.355Z"
      },
      {
        "duration": 44,
        "start_time": "2023-04-03T09:48:54.384Z"
      },
      {
        "duration": 5,
        "start_time": "2023-04-03T09:48:54.430Z"
      },
      {
        "duration": 10,
        "start_time": "2023-04-03T09:48:54.437Z"
      },
      {
        "duration": 7,
        "start_time": "2023-04-03T09:48:54.448Z"
      },
      {
        "duration": 10,
        "start_time": "2023-04-03T09:48:54.472Z"
      },
      {
        "duration": 24,
        "start_time": "2023-04-03T09:48:54.484Z"
      },
      {
        "duration": 1434,
        "start_time": "2023-04-03T12:08:26.628Z"
      },
      {
        "duration": 1150,
        "start_time": "2023-04-03T12:08:28.064Z"
      },
      {
        "duration": 10,
        "start_time": "2023-04-03T12:08:29.215Z"
      },
      {
        "duration": 11,
        "start_time": "2023-04-03T12:08:29.227Z"
      },
      {
        "duration": 9,
        "start_time": "2023-04-03T12:08:29.239Z"
      },
      {
        "duration": 23,
        "start_time": "2023-04-03T12:08:29.249Z"
      },
      {
        "duration": 443,
        "start_time": "2023-04-03T12:08:29.273Z"
      },
      {
        "duration": 31,
        "start_time": "2023-04-03T12:08:29.718Z"
      },
      {
        "duration": 25,
        "start_time": "2023-04-03T12:08:29.750Z"
      },
      {
        "duration": 68,
        "start_time": "2023-04-03T12:08:29.782Z"
      },
      {
        "duration": 133,
        "start_time": "2023-04-03T12:08:29.852Z"
      },
      {
        "duration": 409,
        "start_time": "2023-04-03T12:08:29.986Z"
      },
      {
        "duration": 9,
        "start_time": "2023-04-03T12:08:30.396Z"
      },
      {
        "duration": 74,
        "start_time": "2023-04-03T12:08:30.406Z"
      },
      {
        "duration": 45,
        "start_time": "2023-04-03T12:08:30.482Z"
      },
      {
        "duration": 72,
        "start_time": "2023-04-03T12:08:30.528Z"
      },
      {
        "duration": 72,
        "start_time": "2023-04-03T12:08:30.601Z"
      },
      {
        "duration": 41,
        "start_time": "2023-04-03T12:08:30.675Z"
      },
      {
        "duration": 85,
        "start_time": "2023-04-03T12:08:30.717Z"
      },
      {
        "duration": 76,
        "start_time": "2023-04-03T12:08:30.804Z"
      },
      {
        "duration": 50,
        "start_time": "2023-04-03T12:08:30.882Z"
      },
      {
        "duration": 65,
        "start_time": "2023-04-03T12:08:30.934Z"
      },
      {
        "duration": 60,
        "start_time": "2023-04-03T12:08:31.000Z"
      },
      {
        "duration": 38,
        "start_time": "2023-04-03T12:08:31.062Z"
      },
      {
        "duration": 56,
        "start_time": "2023-04-03T12:08:31.102Z"
      },
      {
        "duration": 39,
        "start_time": "2023-04-03T12:08:31.159Z"
      },
      {
        "duration": 29,
        "start_time": "2023-04-03T12:08:31.200Z"
      },
      {
        "duration": 49,
        "start_time": "2023-04-03T12:08:31.232Z"
      },
      {
        "duration": 960,
        "start_time": "2023-04-03T12:08:31.282Z"
      },
      {
        "duration": 2,
        "start_time": "2023-04-03T12:08:32.243Z"
      },
      {
        "duration": 106,
        "start_time": "2023-04-03T12:08:32.246Z"
      },
      {
        "duration": 14,
        "start_time": "2023-04-03T12:08:32.353Z"
      },
      {
        "duration": 20,
        "start_time": "2023-04-03T12:08:32.368Z"
      },
      {
        "duration": 40,
        "start_time": "2023-04-03T12:08:32.389Z"
      },
      {
        "duration": 12,
        "start_time": "2023-04-03T12:08:32.430Z"
      },
      {
        "duration": 63,
        "start_time": "2023-04-03T12:08:32.443Z"
      },
      {
        "duration": 9,
        "start_time": "2023-04-03T12:08:32.507Z"
      },
      {
        "duration": 15,
        "start_time": "2023-04-03T12:08:32.518Z"
      },
      {
        "duration": 61,
        "start_time": "2023-04-03T12:08:32.534Z"
      },
      {
        "duration": 2,
        "start_time": "2023-04-03T12:08:32.596Z"
      },
      {
        "duration": 67,
        "start_time": "2023-04-03T12:08:32.600Z"
      },
      {
        "duration": 19,
        "start_time": "2023-04-03T12:08:32.669Z"
      },
      {
        "duration": 16,
        "start_time": "2023-04-03T12:08:32.690Z"
      },
      {
        "duration": 8,
        "start_time": "2023-04-03T12:08:32.707Z"
      },
      {
        "duration": 55,
        "start_time": "2023-04-03T12:08:32.716Z"
      },
      {
        "duration": 31,
        "start_time": "2023-04-03T12:08:32.773Z"
      },
      {
        "duration": 34,
        "start_time": "2023-04-03T12:08:32.805Z"
      },
      {
        "duration": 23,
        "start_time": "2023-04-03T12:08:32.840Z"
      },
      {
        "duration": 16,
        "start_time": "2023-04-03T12:08:32.865Z"
      },
      {
        "duration": 19,
        "start_time": "2023-04-03T12:08:32.882Z"
      },
      {
        "duration": 9,
        "start_time": "2023-04-03T12:08:32.902Z"
      },
      {
        "duration": 28,
        "start_time": "2023-04-03T12:08:32.912Z"
      },
      {
        "duration": 59,
        "start_time": "2023-04-03T12:08:32.941Z"
      },
      {
        "duration": 11,
        "start_time": "2023-04-03T12:08:33.002Z"
      },
      {
        "duration": 17,
        "start_time": "2023-04-03T12:08:33.015Z"
      },
      {
        "duration": 5,
        "start_time": "2023-04-03T12:08:33.033Z"
      },
      {
        "duration": 14,
        "start_time": "2023-04-03T12:08:33.039Z"
      },
      {
        "duration": 56,
        "start_time": "2023-04-03T12:08:33.054Z"
      },
      {
        "duration": 25,
        "start_time": "2023-04-03T12:08:33.111Z"
      },
      {
        "duration": 46,
        "start_time": "2023-04-03T12:08:33.138Z"
      },
      {
        "duration": 17,
        "start_time": "2023-04-03T12:08:33.186Z"
      },
      {
        "duration": 52,
        "start_time": "2023-04-03T12:08:33.204Z"
      },
      {
        "duration": 12,
        "start_time": "2023-04-03T12:08:33.257Z"
      },
      {
        "duration": 23,
        "start_time": "2023-04-03T12:08:33.271Z"
      },
      {
        "duration": 24,
        "start_time": "2023-04-03T12:08:33.295Z"
      },
      {
        "duration": 11,
        "start_time": "2023-04-03T12:08:33.320Z"
      },
      {
        "duration": 7,
        "start_time": "2023-04-03T12:08:33.332Z"
      },
      {
        "duration": 44,
        "start_time": "2023-04-03T12:08:33.340Z"
      },
      {
        "duration": 27,
        "start_time": "2023-04-03T12:08:33.386Z"
      },
      {
        "duration": 10,
        "start_time": "2023-04-03T12:08:33.414Z"
      },
      {
        "duration": 14,
        "start_time": "2023-04-03T12:08:33.425Z"
      },
      {
        "duration": 37,
        "start_time": "2023-04-03T12:08:33.440Z"
      },
      {
        "duration": 26,
        "start_time": "2023-04-03T12:08:33.478Z"
      },
      {
        "duration": 17,
        "start_time": "2023-04-03T12:08:33.506Z"
      },
      {
        "duration": 23,
        "start_time": "2023-04-03T12:08:33.524Z"
      },
      {
        "duration": 64,
        "start_time": "2023-04-03T12:08:33.548Z"
      },
      {
        "duration": 72,
        "start_time": "2023-04-03T12:08:33.613Z"
      },
      {
        "duration": 7,
        "start_time": "2023-04-03T12:08:33.686Z"
      },
      {
        "duration": 20,
        "start_time": "2023-04-03T12:08:33.694Z"
      },
      {
        "duration": 161,
        "start_time": "2023-04-03T12:08:33.718Z"
      },
      {
        "duration": 77,
        "start_time": "2023-04-03T12:08:33.881Z"
      },
      {
        "duration": 8,
        "start_time": "2023-04-03T12:08:33.964Z"
      },
      {
        "duration": 42,
        "start_time": "2023-04-03T12:08:33.974Z"
      },
      {
        "duration": 72,
        "start_time": "2023-04-03T12:08:34.018Z"
      },
      {
        "duration": 49,
        "start_time": "2023-04-03T12:08:34.091Z"
      },
      {
        "duration": 28,
        "start_time": "2023-04-03T12:08:34.141Z"
      },
      {
        "duration": 95,
        "start_time": "2023-04-03T12:08:34.170Z"
      },
      {
        "duration": 19,
        "start_time": "2023-04-03T12:08:34.266Z"
      },
      {
        "duration": 81,
        "start_time": "2023-04-03T12:08:34.286Z"
      },
      {
        "duration": 11,
        "start_time": "2023-04-03T12:08:34.372Z"
      },
      {
        "duration": 38,
        "start_time": "2023-04-03T12:08:34.384Z"
      },
      {
        "duration": 30,
        "start_time": "2023-04-03T12:08:34.423Z"
      },
      {
        "duration": 50,
        "start_time": "2023-04-03T12:08:34.454Z"
      },
      {
        "duration": 22,
        "start_time": "2023-04-03T12:08:34.505Z"
      },
      {
        "duration": 12,
        "start_time": "2023-04-03T12:15:43.523Z"
      }
    ],
    "kernelspec": {
      "display_name": "Python 3 (ipykernel)",
      "language": "python",
      "name": "python3"
    },
    "language_info": {
      "codemirror_mode": {
        "name": "ipython",
        "version": 3
      },
      "file_extension": ".py",
      "mimetype": "text/x-python",
      "name": "python",
      "nbconvert_exporter": "python",
      "pygments_lexer": "ipython3",
      "version": "3.9.5"
    },
    "toc": {
      "base_numbering": 1,
      "nav_menu": {},
      "number_sections": true,
      "sideBar": true,
      "skip_h1_title": true,
      "title_cell": "Table of Contents",
      "title_sidebar": "Contents",
      "toc_cell": false,
      "toc_position": {
        "height": "calc(100% - 180px)",
        "left": "10px",
        "top": "150px",
        "width": "512px"
      },
      "toc_section_display": true,
      "toc_window_display": true
    },
    "colab": {
      "provenance": []
    }
  },
  "nbformat": 4,
  "nbformat_minor": 0
}